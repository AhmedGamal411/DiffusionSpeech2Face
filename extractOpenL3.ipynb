{
 "cells": [
  {
   "cell_type": "code",
   "execution_count": 1,
   "metadata": {},
   "outputs": [
    {
     "name": "stdout",
     "output_type": "stream",
     "text": [
      "env: HSA_OVERRIDE_GFX_VERSION=10.3.0\n",
      "env: ROCM_PATH=/opt/rocm\n"
     ]
    }
   ],
   "source": [
    "%env HSA_OVERRIDE_GFX_VERSION=10.3.0\n",
    "%env ROCM_PATH=/opt/rocm\n"
   ]
  },
  {
   "cell_type": "code",
   "execution_count": 2,
   "metadata": {},
   "outputs": [
    {
     "name": "stderr",
     "output_type": "stream",
     "text": [
      "/home/gamal/anaconda3/envs/ds2f_pre/lib/python3.8/site-packages/tqdm/auto.py:22: TqdmWarning: IProgress not found. Please update jupyter and ipywidgets. See https://ipywidgets.readthedocs.io/en/stable/user_install.html\n",
      "  from .autonotebook import tqdm as notebook_tqdm\n",
      "2023-05-25 19:59:11.766416: I tensorflow/core/platform/cpu_feature_guard.cc:193] This TensorFlow binary is optimized with oneAPI Deep Neural Network Library (oneDNN) to use the following CPU instructions in performance-critical operations:  SSE4.1 SSE4.2 AVX AVX2 FMA\n",
      "To enable them in other operations, rebuild TensorFlow with the appropriate compiler flags.\n"
     ]
    },
    {
     "name": "stdout",
     "output_type": "stream",
     "text": [
      "PLEASE EDIT configuration.txt BEFORE EXECUTION\n",
      ".wav files might be generated in path. The program will automatically delete them. If execuetion stops unexpectedly, please delete them yourself\n",
      "Video dataset at /home/gamal/Datasets/Dataset1/Video\n"
     ]
    }
   ],
   "source": [
    "import subprocess\n",
    "import os\n",
    "import pathlib\n",
    "import configparser\n",
    "import sqlite3 as sl\n",
    "import torchaudio\n",
    "import cv2\n",
    "from pydub import AudioSegment\n",
    "import math\n",
    "import pickle\n",
    "import shutil\n",
    "import time\n",
    "import multiprocessing\n",
    "from multiprocessing import Process,Queue\n",
    "import itertools\n",
    "from threading import Thread\n",
    "import soundfile as sf\n",
    "import extractOpenL3Subprocess as openSb\n",
    "from multiprocessing import Queue\n",
    "from multiprocessing import Pool\n",
    "\n",
    "\n",
    "start_time = time.time()    # To measure execution time in seconds\n",
    "\n",
    "print(\"PLEASE EDIT configuration.txt BEFORE EXECUTION\")\n",
    "print(\".wav files might be generated in path. The program will automatically delete them. If execuetion stops unexpectedly, please delete them yourself\")\n",
    "\n",
    "# Loading configurations\n",
    "configParser = configparser.RawConfigParser()   \n",
    "configFilePath = r'configuration.txt'\n",
    "configParser.read(configFilePath)\n",
    "\n",
    "datasetPathVideo =  configParser.get('COMMON', 'datasetPathVideo')\n",
    "datasetPathDatabase =  configParser.get('COMMON', 'datasetPathDatabase') + '/dataset.db'\n",
    "cpus =  int(configParser.get('COMMON', 'cpus'))\n",
    "\n",
    "datasetPathAudio =  configParser.get('extractOpenL3', 'datasetPathAudio')\n",
    "\n",
    "p =  configParser.get('extractOpenL3', 'dbChunk')\n",
    "ttwbdf =  int(configParser.get('extractOpenL3', 'time_to_wait_before_deleting_files'))\n",
    "\n",
    "print(\"Video dataset at \" + datasetPathVideo )\n",
    "\n"
   ]
  },
  {
   "cell_type": "code",
   "execution_count": 3,
   "metadata": {},
   "outputs": [
    {
     "name": "stdout",
     "output_type": "stream",
     "text": [
      "------------------- ABOUT TO START --------------------\n",
      "Got chunk of videos from database. Extracting audio and audio embeddings...\n"
     ]
    },
    {
     "name": "stderr",
     "output_type": "stream",
     "text": [
      "2023-05-25 19:59:13.245722: I tensorflow/core/platform/cpu_feature_guard.cc:193] This TensorFlow binary is optimized with oneAPI Deep Neural Network Library (oneDNN) to use the following CPU instructions in performance-critical operations:  SSE4.1 SSE4.2 AVX AVX2 FMA\n",
      "To enable them in other operations, rebuild TensorFlow with the appropriate compiler flags.\n",
      "2023-05-25 19:59:13.246759: I tensorflow/core/common_runtime/process_util.cc:146] Creating new thread pool with default inter op setting: 2. Tune using inter_op_parallelism_threads for best performance.\n"
     ]
    },
    {
     "name": "stdout",
     "output_type": "stream",
     "text": [
      "Extracted OpenL3 features\n",
      "[[2.2157934 1.3539672 2.3574586 ... 1.3633066 2.2015047 4.711986 ]\n",
      " [1.7192707 1.568412  1.6576047 ... 1.3956017 3.4050884 2.9535542]\n",
      " [1.7817397 1.5138012 1.3830465 ... 1.2993425 3.37405   3.2152371]\n",
      " ...\n",
      " [1.3433698 1.5630363 2.7006621 ... 1.6842291 2.6544116 2.8875177]\n",
      " [1.2797408 1.5736521 2.5085328 ... 1.643735  2.7840748 2.9006176]\n",
      " [1.8949546 1.47123   2.987916  ... 1.3454193 2.1860504 6.0763574]]\n"
     ]
    },
    {
     "name": "stderr",
     "output_type": "stream",
     "text": [
      "2023-05-25 19:59:15.108341: I tensorflow/core/platform/cpu_feature_guard.cc:193] This TensorFlow binary is optimized with oneAPI Deep Neural Network Library (oneDNN) to use the following CPU instructions in performance-critical operations:  SSE4.1 SSE4.2 AVX AVX2 FMA\n",
      "To enable them in other operations, rebuild TensorFlow with the appropriate compiler flags.\n",
      "2023-05-25 19:59:15.109201: I tensorflow/core/common_runtime/process_util.cc:146] Creating new thread pool with default inter op setting: 2. Tune using inter_op_parallelism_threads for best performance.\n"
     ]
    },
    {
     "name": "stdout",
     "output_type": "stream",
     "text": [
      "Extracted OpenL3 features\n",
      "[[2.2157934 1.3539672 2.3574586 ... 1.3633066 2.2015047 4.711986 ]\n",
      " [1.7192707 1.568412  1.6576047 ... 1.3956017 3.4050884 2.9535542]\n",
      " [1.7817397 1.5138012 1.3830465 ... 1.2993425 3.37405   3.2152371]\n",
      " ...\n",
      " [1.7870079 1.5772071 1.6725558 ... 1.4061599 3.423778  2.9732575]\n",
      " [1.7287073 1.5231851 1.155715  ... 1.2806267 2.783021  2.415559 ]\n",
      " [1.3951778 1.5001312 2.6599278 ... 1.6866424 2.650175  2.8785033]]\n"
     ]
    },
    {
     "name": "stderr",
     "output_type": "stream",
     "text": [
      "2023-05-25 19:59:17.364747: I tensorflow/core/platform/cpu_feature_guard.cc:193] This TensorFlow binary is optimized with oneAPI Deep Neural Network Library (oneDNN) to use the following CPU instructions in performance-critical operations:  SSE4.1 SSE4.2 AVX AVX2 FMA\n",
      "To enable them in other operations, rebuild TensorFlow with the appropriate compiler flags.\n",
      "2023-05-25 19:59:17.365378: I tensorflow/core/common_runtime/process_util.cc:146] Creating new thread pool with default inter op setting: 2. Tune using inter_op_parallelism_threads for best performance.\n"
     ]
    },
    {
     "name": "stdout",
     "output_type": "stream",
     "text": [
      "Extracted OpenL3 features\n",
      "[[2.2157934 1.3539672 2.3574586 ... 1.3633066 2.2015047 4.711986 ]\n",
      " [1.7192707 1.568412  1.6576047 ... 1.3956017 3.4050884 2.9535542]\n",
      " [1.7817397 1.5138012 1.3830465 ... 1.2993425 3.37405   3.2152371]\n",
      " ...\n",
      " [1.1088194 1.4948924 2.1830323 ... 1.4410943 2.4190125 3.0224288]\n",
      " [1.4129995 1.5607773 2.0769029 ... 1.3496579 2.3907764 2.766471 ]\n",
      " [1.4321445 1.5911865 1.6560712 ... 1.396432  3.3581095 2.9737947]]\n"
     ]
    },
    {
     "name": "stderr",
     "output_type": "stream",
     "text": [
      "2023-05-25 19:59:20.748845: I tensorflow/core/platform/cpu_feature_guard.cc:193] This TensorFlow binary is optimized with oneAPI Deep Neural Network Library (oneDNN) to use the following CPU instructions in performance-critical operations:  SSE4.1 SSE4.2 AVX AVX2 FMA\n",
      "To enable them in other operations, rebuild TensorFlow with the appropriate compiler flags.\n",
      "2023-05-25 19:59:20.749502: I tensorflow/core/common_runtime/process_util.cc:146] Creating new thread pool with default inter op setting: 2. Tune using inter_op_parallelism_threads for best performance.\n"
     ]
    },
    {
     "name": "stdout",
     "output_type": "stream",
     "text": [
      "Extracted OpenL3 features\n",
      "[[2.2157934 1.4772352 2.3574586 ... 1.513485  2.577992  4.711986 ]\n",
      " [1.5999416 1.496361  2.107976  ... 1.6636403 2.671359  2.5195258]\n",
      " [1.3076916 1.548357  2.0278928 ... 1.5903451 2.2327905 2.50255  ]\n",
      " ...\n",
      " [1.5178545 1.8434438 1.8998    ... 1.9308288 2.461672  2.3558805]\n",
      " [1.1622597 1.9239421 2.245562  ... 1.4649836 2.322945  2.367427 ]\n",
      " [2.0956547 1.5166833 2.955117  ... 1.8416797 2.6544502 6.003346 ]]\n"
     ]
    },
    {
     "name": "stderr",
     "output_type": "stream",
     "text": [
      "2023-05-25 19:59:22.611832: I tensorflow/core/platform/cpu_feature_guard.cc:193] This TensorFlow binary is optimized with oneAPI Deep Neural Network Library (oneDNN) to use the following CPU instructions in performance-critical operations:  SSE4.1 SSE4.2 AVX AVX2 FMA\n",
      "To enable them in other operations, rebuild TensorFlow with the appropriate compiler flags.\n",
      "2023-05-25 19:59:22.612666: I tensorflow/core/common_runtime/process_util.cc:146] Creating new thread pool with default inter op setting: 2. Tune using inter_op_parallelism_threads for best performance.\n"
     ]
    },
    {
     "name": "stdout",
     "output_type": "stream",
     "text": [
      "Extracted OpenL3 features\n",
      "[[2.2157934 1.4772352 2.3574586 ... 1.513485  2.577992  4.711986 ]\n",
      " [1.5999416 1.496361  2.107976  ... 1.6636403 2.671359  2.5195258]\n",
      " [1.3076916 1.548357  2.0278928 ... 1.5903451 2.2327905 2.50255  ]\n",
      " ...\n",
      " [1.7259246 1.5127629 2.1350431 ... 1.6749712 2.6424701 2.5503254]\n",
      " [1.3035358 1.5724586 2.0443666 ... 1.6014436 2.6330645 2.5049508]\n",
      " [1.2301695 1.6196632 2.0341704 ... 1.6149822 2.750542  2.184585 ]]\n"
     ]
    },
    {
     "name": "stderr",
     "output_type": "stream",
     "text": [
      "2023-05-25 19:59:24.996088: I tensorflow/core/platform/cpu_feature_guard.cc:193] This TensorFlow binary is optimized with oneAPI Deep Neural Network Library (oneDNN) to use the following CPU instructions in performance-critical operations:  SSE4.1 SSE4.2 AVX AVX2 FMA\n",
      "To enable them in other operations, rebuild TensorFlow with the appropriate compiler flags.\n",
      "2023-05-25 19:59:24.996808: I tensorflow/core/common_runtime/process_util.cc:146] Creating new thread pool with default inter op setting: 2. Tune using inter_op_parallelism_threads for best performance.\n"
     ]
    },
    {
     "name": "stdout",
     "output_type": "stream",
     "text": [
      "Extracted OpenL3 features\n",
      "[[2.2157934 1.4772352 2.3574586 ... 1.513485  2.577992  4.711986 ]\n",
      " [1.5999416 1.496361  2.107976  ... 1.6636403 2.671359  2.5195258]\n",
      " [1.3076916 1.548357  2.0278928 ... 1.5903451 2.2327905 2.50255  ]\n",
      " ...\n",
      " [1.0459003 1.9143124 2.143914  ... 1.9909081 2.9635053 2.3615437]\n",
      " [1.244194  1.6969109 2.3058627 ... 1.9317178 2.9451885 2.2980895]\n",
      " [1.5070875 1.9070183 2.4471843 ... 1.9350383 2.4831583 2.7160325]]\n"
     ]
    },
    {
     "name": "stderr",
     "output_type": "stream",
     "text": [
      "2023-05-25 19:59:29.579709: I tensorflow/core/platform/cpu_feature_guard.cc:193] This TensorFlow binary is optimized with oneAPI Deep Neural Network Library (oneDNN) to use the following CPU instructions in performance-critical operations:  SSE4.1 SSE4.2 AVX AVX2 FMA\n",
      "To enable them in other operations, rebuild TensorFlow with the appropriate compiler flags.\n",
      "2023-05-25 19:59:29.580405: I tensorflow/core/common_runtime/process_util.cc:146] Creating new thread pool with default inter op setting: 2. Tune using inter_op_parallelism_threads for best performance.\n"
     ]
    },
    {
     "name": "stdout",
     "output_type": "stream",
     "text": [
      "Extracted OpenL3 features\n",
      "[[2.2157934 1.4769125 3.13023   ... 1.7997457 2.5091853 4.711986 ]\n",
      " [1.2161252 1.4607061 3.1404965 ... 1.897357  2.616461  3.1926293]\n",
      " [1.0684582 1.4286008 2.011368  ... 1.5225936 1.8910576 2.5724623]\n",
      " ...\n",
      " [1.3528309 1.7608081 2.0727646 ... 1.5898172 2.31217   2.4712696]\n",
      " [1.4935212 1.6446842 1.4536375 ... 1.458382  2.6089618 2.316496 ]\n",
      " [2.3697975 1.6319225 3.2371612 ... 1.523681  2.442639  6.413917 ]]\n"
     ]
    },
    {
     "name": "stderr",
     "output_type": "stream",
     "text": [
      "2023-05-25 19:59:31.391542: I tensorflow/core/platform/cpu_feature_guard.cc:193] This TensorFlow binary is optimized with oneAPI Deep Neural Network Library (oneDNN) to use the following CPU instructions in performance-critical operations:  SSE4.1 SSE4.2 AVX AVX2 FMA\n",
      "To enable them in other operations, rebuild TensorFlow with the appropriate compiler flags.\n",
      "2023-05-25 19:59:31.392209: I tensorflow/core/common_runtime/process_util.cc:146] Creating new thread pool with default inter op setting: 2. Tune using inter_op_parallelism_threads for best performance.\n"
     ]
    },
    {
     "name": "stdout",
     "output_type": "stream",
     "text": [
      "Extracted OpenL3 features\n",
      "[[2.2157934 1.4769125 3.13023   ... 1.7997457 2.5091853 4.711986 ]\n",
      " [1.2161252 1.4607061 3.1404965 ... 1.897357  2.616461  3.1926293]\n",
      " [1.0684582 1.4286008 2.011368  ... 1.5225936 1.8910576 2.5724623]\n",
      " ...\n",
      " [1.1121609 1.6469096 2.1218364 ... 1.855445  1.925941  2.587118 ]\n",
      " [1.8509706 1.8216888 2.0605037 ... 2.0794957 1.9100223 2.608407 ]\n",
      " [1.7233729 1.6948313 1.7456187 ... 1.2381612 1.2471405 3.772398 ]]\n"
     ]
    },
    {
     "name": "stderr",
     "output_type": "stream",
     "text": [
      "2023-05-25 19:59:33.864015: I tensorflow/core/platform/cpu_feature_guard.cc:193] This TensorFlow binary is optimized with oneAPI Deep Neural Network Library (oneDNN) to use the following CPU instructions in performance-critical operations:  SSE4.1 SSE4.2 AVX AVX2 FMA\n",
      "To enable them in other operations, rebuild TensorFlow with the appropriate compiler flags.\n",
      "2023-05-25 19:59:33.864650: I tensorflow/core/common_runtime/process_util.cc:146] Creating new thread pool with default inter op setting: 2. Tune using inter_op_parallelism_threads for best performance.\n"
     ]
    },
    {
     "name": "stdout",
     "output_type": "stream",
     "text": [
      "Extracted OpenL3 features\n",
      "[[2.2157934 1.4769125 3.13023   ... 1.7997457 2.5091853 4.711986 ]\n",
      " [1.2161252 1.4607061 3.1404965 ... 1.897357  2.616461  3.1926293]\n",
      " [1.0684582 1.4286008 2.011368  ... 1.5225936 1.8910576 2.5724623]\n",
      " ...\n",
      " [1.7011081 1.6610731 2.144153  ... 2.0990868 1.5654558 4.236999 ]\n",
      " [1.1891431 1.3360049 1.8476377 ... 1.7466799 2.0111883 2.576411 ]\n",
      " [1.3852242 1.7483528 1.9253323 ... 1.6588713 2.2494037 2.33435  ]]\n"
     ]
    },
    {
     "name": "stderr",
     "output_type": "stream",
     "text": [
      "2023-05-25 19:59:38.161025: I tensorflow/core/platform/cpu_feature_guard.cc:193] This TensorFlow binary is optimized with oneAPI Deep Neural Network Library (oneDNN) to use the following CPU instructions in performance-critical operations:  SSE4.1 SSE4.2 AVX AVX2 FMA\n",
      "To enable them in other operations, rebuild TensorFlow with the appropriate compiler flags.\n",
      "2023-05-25 19:59:38.161756: I tensorflow/core/common_runtime/process_util.cc:146] Creating new thread pool with default inter op setting: 2. Tune using inter_op_parallelism_threads for best performance.\n"
     ]
    },
    {
     "name": "stdout",
     "output_type": "stream",
     "text": [
      "Extracted OpenL3 features\n",
      "[[2.2157934 1.4092971 2.3574586 ... 1.3697273 1.3856481 4.711986 ]\n",
      " [1.5972922 1.7425103 2.735615  ... 1.7164303 1.7352995 2.5569322]\n",
      " [1.5359938 1.7367321 2.7022712 ... 1.5724139 1.7445669 2.0847476]\n",
      " ...\n",
      " [1.5607241 1.7739367 2.0342677 ... 1.6668317 1.7056689 2.2456064]\n",
      " [1.8218699 1.780696  2.0687542 ... 1.6586056 1.7924035 2.2669892]\n",
      " [2.0439875 1.8312645 3.0707977 ... 1.8747544 1.9355778 6.111785 ]]\n"
     ]
    },
    {
     "name": "stderr",
     "output_type": "stream",
     "text": [
      "2023-05-25 19:59:40.142651: I tensorflow/core/platform/cpu_feature_guard.cc:193] This TensorFlow binary is optimized with oneAPI Deep Neural Network Library (oneDNN) to use the following CPU instructions in performance-critical operations:  SSE4.1 SSE4.2 AVX AVX2 FMA\n",
      "To enable them in other operations, rebuild TensorFlow with the appropriate compiler flags.\n",
      "2023-05-25 19:59:40.143352: I tensorflow/core/common_runtime/process_util.cc:146] Creating new thread pool with default inter op setting: 2. Tune using inter_op_parallelism_threads for best performance.\n"
     ]
    },
    {
     "name": "stdout",
     "output_type": "stream",
     "text": [
      "Extracted OpenL3 features\n",
      "[[2.2157934 1.4092971 2.3574586 ... 1.3697273 1.3856481 4.711986 ]\n",
      " [1.5972922 1.7425103 2.735615  ... 1.7164303 1.7352995 2.5569322]\n",
      " [1.5359938 1.7367321 2.7022712 ... 1.5724139 1.7445669 2.0847476]\n",
      " ...\n",
      " [1.7011299 1.8819265 1.5026665 ... 1.4426292 1.6338097 2.094674 ]\n",
      " [1.7830434 1.6531051 2.0479262 ... 1.4749007 1.6836722 2.1531963]\n",
      " [1.6053257 1.7764524 2.317273  ... 1.6301602 1.9478512 2.3136678]]\n"
     ]
    },
    {
     "name": "stderr",
     "output_type": "stream",
     "text": [
      "2023-05-25 19:59:42.744041: I tensorflow/core/platform/cpu_feature_guard.cc:193] This TensorFlow binary is optimized with oneAPI Deep Neural Network Library (oneDNN) to use the following CPU instructions in performance-critical operations:  SSE4.1 SSE4.2 AVX AVX2 FMA\n",
      "To enable them in other operations, rebuild TensorFlow with the appropriate compiler flags.\n",
      "2023-05-25 19:59:42.744931: I tensorflow/core/common_runtime/process_util.cc:146] Creating new thread pool with default inter op setting: 2. Tune using inter_op_parallelism_threads for best performance.\n"
     ]
    },
    {
     "name": "stdout",
     "output_type": "stream",
     "text": [
      "Extracted OpenL3 features\n",
      "[[2.2157934 1.4092971 2.3574586 ... 1.3697273 1.3856481 4.711986 ]\n",
      " [1.5972922 1.7425103 2.735615  ... 1.7164303 1.7352995 2.5569322]\n",
      " [1.5359938 1.7367321 2.7022712 ... 1.5724139 1.7445669 2.0847476]\n",
      " ...\n",
      " [1.4446512 1.7801197 2.6636333 ... 1.5908369 1.8199177 1.9908395]\n",
      " [1.6389043 1.8360462 1.9788717 ... 1.5819087 1.8293395 2.6565998]\n",
      " [1.7710811 1.5196416 2.0132692 ... 1.7837849 1.6966425 2.3932397]]\n"
     ]
    },
    {
     "name": "stderr",
     "output_type": "stream",
     "text": [
      "2023-05-25 19:59:47.067846: I tensorflow/core/platform/cpu_feature_guard.cc:193] This TensorFlow binary is optimized with oneAPI Deep Neural Network Library (oneDNN) to use the following CPU instructions in performance-critical operations:  SSE4.1 SSE4.2 AVX AVX2 FMA\n",
      "To enable them in other operations, rebuild TensorFlow with the appropriate compiler flags.\n",
      "2023-05-25 19:59:47.068534: I tensorflow/core/common_runtime/process_util.cc:146] Creating new thread pool with default inter op setting: 2. Tune using inter_op_parallelism_threads for best performance.\n"
     ]
    },
    {
     "name": "stdout",
     "output_type": "stream",
     "text": [
      "Extracted OpenL3 features\n",
      "[[2.6600845 1.3881726 2.3574586 ... 1.00984   2.055833  4.711986 ]\n",
      " [2.7952957 1.4132273 1.2508587 ... 1.1105671 2.4096057 3.086464 ]\n",
      " [1.6120615 1.513941  1.1387442 ... 1.1768899 2.688873  2.7746265]\n",
      " ...\n",
      " [1.0544647 1.5720807 1.0637349 ... 1.2886637 2.7418957 2.347831 ]\n",
      " [1.1007818 1.4858413 1.511061  ... 1.2567564 2.588569  2.195181 ]\n",
      " [1.8949546 1.6163713 2.7919874 ... 1.0987834 2.9257333 5.886694 ]]\n"
     ]
    },
    {
     "name": "stderr",
     "output_type": "stream",
     "text": [
      "2023-05-25 19:59:48.901344: I tensorflow/core/platform/cpu_feature_guard.cc:193] This TensorFlow binary is optimized with oneAPI Deep Neural Network Library (oneDNN) to use the following CPU instructions in performance-critical operations:  SSE4.1 SSE4.2 AVX AVX2 FMA\n",
      "To enable them in other operations, rebuild TensorFlow with the appropriate compiler flags.\n",
      "2023-05-25 19:59:48.902048: I tensorflow/core/common_runtime/process_util.cc:146] Creating new thread pool with default inter op setting: 2. Tune using inter_op_parallelism_threads for best performance.\n"
     ]
    },
    {
     "name": "stdout",
     "output_type": "stream",
     "text": [
      "Extracted OpenL3 features\n",
      "[[2.6600845 1.3881726 2.3574586 ... 1.00984   2.055833  4.711986 ]\n",
      " [2.7952957 1.4132273 1.2508587 ... 1.1105671 2.4096057 3.086464 ]\n",
      " [1.6120615 1.513941  1.1387442 ... 1.1768899 2.688873  2.7746265]\n",
      " ...\n",
      " [1.0501518 2.2641964 1.5954522 ... 1.5552664 3.0332212 2.1128361]\n",
      " [1.7068176 1.809641  1.379714  ... 1.4940155 2.860097  2.397441 ]\n",
      " [1.6616688 1.7875106 1.240975  ... 1.0500617 2.6557672 2.587657 ]]\n"
     ]
    },
    {
     "name": "stderr",
     "output_type": "stream",
     "text": [
      "2023-05-25 19:59:51.248572: I tensorflow/core/platform/cpu_feature_guard.cc:193] This TensorFlow binary is optimized with oneAPI Deep Neural Network Library (oneDNN) to use the following CPU instructions in performance-critical operations:  SSE4.1 SSE4.2 AVX AVX2 FMA\n",
      "To enable them in other operations, rebuild TensorFlow with the appropriate compiler flags.\n",
      "2023-05-25 19:59:51.249255: I tensorflow/core/common_runtime/process_util.cc:146] Creating new thread pool with default inter op setting: 2. Tune using inter_op_parallelism_threads for best performance.\n"
     ]
    },
    {
     "name": "stdout",
     "output_type": "stream",
     "text": [
      "Extracted OpenL3 features\n",
      "[[2.6600845 1.3881726 2.3574586 ... 1.00984   2.055833  4.711986 ]\n",
      " [2.7952957 1.4132273 1.2508587 ... 1.1105671 2.4096057 3.086464 ]\n",
      " [1.6120615 1.513941  1.1387442 ... 1.1768899 2.688873  2.7746265]\n",
      " ...\n",
      " [1.4470375 2.2182662 1.2333661 ... 1.2306496 2.6895823 2.2877688]\n",
      " [1.3914198 1.5189457 1.2068549 ... 1.3095698 2.838004  2.284882 ]\n",
      " [1.5842221 1.4025887 1.3238388 ... 1.3432769 2.8532922 2.4950142]]\n"
     ]
    },
    {
     "name": "stderr",
     "output_type": "stream",
     "text": [
      "2023-05-25 19:59:54.935014: I tensorflow/core/platform/cpu_feature_guard.cc:193] This TensorFlow binary is optimized with oneAPI Deep Neural Network Library (oneDNN) to use the following CPU instructions in performance-critical operations:  SSE4.1 SSE4.2 AVX AVX2 FMA\n",
      "To enable them in other operations, rebuild TensorFlow with the appropriate compiler flags.\n",
      "2023-05-25 19:59:54.935708: I tensorflow/core/common_runtime/process_util.cc:146] Creating new thread pool with default inter op setting: 2. Tune using inter_op_parallelism_threads for best performance.\n"
     ]
    },
    {
     "name": "stdout",
     "output_type": "stream",
     "text": [
      "Extracted OpenL3 features\n",
      "[[2.2157934  1.7001832  2.3574586  ... 1.6610117  3.2476583  4.711986  ]\n",
      " [1.0048324  1.7148485  2.2187319  ... 1.8226156  3.3577743  3.406964  ]\n",
      " [0.80065906 1.7562315  2.2255857  ... 1.6222581  2.9582574  2.7687378 ]\n",
      " ...\n",
      " [0.7675452  1.7679204  1.8861396  ... 1.1515943  3.052303   2.6365693 ]\n",
      " [1.1601034  1.8599854  1.6973925  ... 1.147558   3.0712626  3.0407226 ]\n",
      " [1.8949546  1.8563217  2.8313632  ... 1.2518566  2.8120375  5.6973557 ]]\n"
     ]
    },
    {
     "name": "stderr",
     "output_type": "stream",
     "text": [
      "2023-05-25 19:59:56.877078: I tensorflow/core/platform/cpu_feature_guard.cc:193] This TensorFlow binary is optimized with oneAPI Deep Neural Network Library (oneDNN) to use the following CPU instructions in performance-critical operations:  SSE4.1 SSE4.2 AVX AVX2 FMA\n",
      "To enable them in other operations, rebuild TensorFlow with the appropriate compiler flags.\n",
      "2023-05-25 19:59:56.877777: I tensorflow/core/common_runtime/process_util.cc:146] Creating new thread pool with default inter op setting: 2. Tune using inter_op_parallelism_threads for best performance.\n"
     ]
    },
    {
     "name": "stdout",
     "output_type": "stream",
     "text": [
      "Extracted OpenL3 features\n",
      "[[2.2157934  1.7001832  2.3574586  ... 1.6610117  3.2476583  4.711986  ]\n",
      " [1.0048324  1.7148485  2.2187319  ... 1.8226156  3.3577743  3.406964  ]\n",
      " [0.80065906 1.7562315  2.2255857  ... 1.6222581  2.9582574  2.7687378 ]\n",
      " ...\n",
      " [0.4793665  1.5772307  2.162858   ... 1.5430784  3.2708843  2.8384619 ]\n",
      " [0.8775548  1.770263   2.2127302  ... 1.5094081  2.3852048  2.7486649 ]\n",
      " [1.0368876  1.8321248  2.011532   ... 1.0832851  2.9397666  2.7244303 ]]\n"
     ]
    },
    {
     "name": "stderr",
     "output_type": "stream",
     "text": [
      "2023-05-25 19:59:59.686138: I tensorflow/core/platform/cpu_feature_guard.cc:193] This TensorFlow binary is optimized with oneAPI Deep Neural Network Library (oneDNN) to use the following CPU instructions in performance-critical operations:  SSE4.1 SSE4.2 AVX AVX2 FMA\n",
      "To enable them in other operations, rebuild TensorFlow with the appropriate compiler flags.\n",
      "2023-05-25 19:59:59.686949: I tensorflow/core/common_runtime/process_util.cc:146] Creating new thread pool with default inter op setting: 2. Tune using inter_op_parallelism_threads for best performance.\n"
     ]
    },
    {
     "name": "stdout",
     "output_type": "stream",
     "text": [
      "Extracted OpenL3 features\n",
      "[[2.2157934  1.7001832  2.3574586  ... 1.6610117  3.2476583  4.711986  ]\n",
      " [1.0048324  1.7148485  2.2187319  ... 1.8226156  3.3577743  3.406964  ]\n",
      " [0.80065906 1.7562315  2.2255857  ... 1.6222581  2.9582574  2.7687378 ]\n",
      " ...\n",
      " [0.82168806 1.8795103  2.2736273  ... 1.2806158  2.7910767  3.2547188 ]\n",
      " [1.8062332  1.6916142  2.1806011  ... 1.6717663  3.2409863  4.1546197 ]\n",
      " [1.8169389  1.7380822  2.2306871  ... 1.8287287  3.3742244  4.095295  ]]\n"
     ]
    },
    {
     "name": "stderr",
     "output_type": "stream",
     "text": [
      "2023-05-25 20:00:04.290486: I tensorflow/core/platform/cpu_feature_guard.cc:193] This TensorFlow binary is optimized with oneAPI Deep Neural Network Library (oneDNN) to use the following CPU instructions in performance-critical operations:  SSE4.1 SSE4.2 AVX AVX2 FMA\n",
      "To enable them in other operations, rebuild TensorFlow with the appropriate compiler flags.\n",
      "2023-05-25 20:00:04.291302: I tensorflow/core/common_runtime/process_util.cc:146] Creating new thread pool with default inter op setting: 2. Tune using inter_op_parallelism_threads for best performance.\n"
     ]
    },
    {
     "name": "stdout",
     "output_type": "stream",
     "text": [
      "Extracted OpenL3 features\n",
      "[[2.2157934 1.7843149 2.3574586 ... 1.7286091 3.7832677 4.711986 ]\n",
      " [1.2190392 1.923631  1.2339292 ... 1.8702976 3.7521005 2.2470083]\n",
      " [0.8487018 2.0321074 1.8264778 ... 1.9058404 3.9012203 2.4515269]\n",
      " ...\n",
      " [1.3358603 1.9538192 1.4842094 ... 1.2313274 4.051103  2.1360774]\n",
      " [1.0517118 2.2190337 1.0969056 ... 1.250652  4.2030234 2.1686716]\n",
      " [2.005533  2.192096  3.0331032 ... 1.3238956 2.2330325 6.1755686]]\n"
     ]
    },
    {
     "name": "stderr",
     "output_type": "stream",
     "text": [
      "2023-05-25 20:00:06.172205: I tensorflow/core/platform/cpu_feature_guard.cc:193] This TensorFlow binary is optimized with oneAPI Deep Neural Network Library (oneDNN) to use the following CPU instructions in performance-critical operations:  SSE4.1 SSE4.2 AVX AVX2 FMA\n",
      "To enable them in other operations, rebuild TensorFlow with the appropriate compiler flags.\n",
      "2023-05-25 20:00:06.173164: I tensorflow/core/common_runtime/process_util.cc:146] Creating new thread pool with default inter op setting: 2. Tune using inter_op_parallelism_threads for best performance.\n"
     ]
    },
    {
     "name": "stdout",
     "output_type": "stream",
     "text": [
      "Extracted OpenL3 features\n",
      "[[2.2157934  1.7843149  2.3574586  ... 1.7286091  3.7832677  4.711986  ]\n",
      " [1.2190392  1.923631   1.2339292  ... 1.8702976  3.7521005  2.2470083 ]\n",
      " [0.8487018  2.0321074  1.8264778  ... 1.9058404  3.9012203  2.4515269 ]\n",
      " ...\n",
      " [0.9570574  2.1169634  1.7087756  ... 1.3074836  3.881658   2.217289  ]\n",
      " [0.93507946 1.9047449  1.4814291  ... 1.1972897  3.9894588  2.1125307 ]\n",
      " [1.4473633  2.208819   1.1102     ... 1.2649946  3.4792495  2.1750283 ]]\n"
     ]
    },
    {
     "name": "stderr",
     "output_type": "stream",
     "text": [
      "2023-05-25 20:00:08.528138: I tensorflow/core/platform/cpu_feature_guard.cc:193] This TensorFlow binary is optimized with oneAPI Deep Neural Network Library (oneDNN) to use the following CPU instructions in performance-critical operations:  SSE4.1 SSE4.2 AVX AVX2 FMA\n",
      "To enable them in other operations, rebuild TensorFlow with the appropriate compiler flags.\n",
      "2023-05-25 20:00:08.528829: I tensorflow/core/common_runtime/process_util.cc:146] Creating new thread pool with default inter op setting: 2. Tune using inter_op_parallelism_threads for best performance.\n"
     ]
    },
    {
     "name": "stdout",
     "output_type": "stream",
     "text": [
      "Extracted OpenL3 features\n",
      "[[2.2157934  1.7843149  2.3574586  ... 1.7286091  3.7832677  4.711986  ]\n",
      " [1.2190392  1.923631   1.2339292  ... 1.8702976  3.7521005  2.2470083 ]\n",
      " [0.8487018  2.0321074  1.8264778  ... 1.9058404  3.9012203  2.4515269 ]\n",
      " ...\n",
      " [0.86868393 2.1053946  1.6978966  ... 1.268768   3.9839025  2.232981  ]\n",
      " [1.213317   1.7242583  1.4247211  ... 1.2489293  3.8775609  2.10136   ]\n",
      " [1.3132871  2.2196941  1.0663909  ... 1.2286947  3.4734063  2.1984446 ]]\n"
     ]
    },
    {
     "name": "stderr",
     "output_type": "stream",
     "text": [
      "2023-05-25 20:00:12.862325: I tensorflow/core/platform/cpu_feature_guard.cc:193] This TensorFlow binary is optimized with oneAPI Deep Neural Network Library (oneDNN) to use the following CPU instructions in performance-critical operations:  SSE4.1 SSE4.2 AVX AVX2 FMA\n",
      "To enable them in other operations, rebuild TensorFlow with the appropriate compiler flags.\n",
      "2023-05-25 20:00:12.863043: I tensorflow/core/common_runtime/process_util.cc:146] Creating new thread pool with default inter op setting: 2. Tune using inter_op_parallelism_threads for best performance.\n"
     ]
    },
    {
     "name": "stdout",
     "output_type": "stream",
     "text": [
      "Extracted OpenL3 features\n",
      "[[2.3512807  1.6732546  2.3574586  ... 1.2068789  1.2414976  4.711986  ]\n",
      " [2.586752   1.3757292  1.2749751  ... 1.7064204  1.4508891  2.4699125 ]\n",
      " [3.0206513  1.8221213  1.2513299  ... 1.6921262  2.658701   3.4809628 ]\n",
      " ...\n",
      " [2.6341105  1.8149271  1.0984085  ... 0.9587197  3.538371   3.0245724 ]\n",
      " [2.47287    1.6813061  1.1994292  ... 1.2147192  2.7396894  2.9794178 ]\n",
      " [2.1695168  1.249812   3.0719278  ... 0.87033606 2.3359258  6.04622   ]]\n"
     ]
    },
    {
     "name": "stderr",
     "output_type": "stream",
     "text": [
      "2023-05-25 20:00:14.878601: I tensorflow/core/platform/cpu_feature_guard.cc:193] This TensorFlow binary is optimized with oneAPI Deep Neural Network Library (oneDNN) to use the following CPU instructions in performance-critical operations:  SSE4.1 SSE4.2 AVX AVX2 FMA\n",
      "To enable them in other operations, rebuild TensorFlow with the appropriate compiler flags.\n",
      "2023-05-25 20:00:14.879460: I tensorflow/core/common_runtime/process_util.cc:146] Creating new thread pool with default inter op setting: 2. Tune using inter_op_parallelism_threads for best performance.\n"
     ]
    },
    {
     "name": "stdout",
     "output_type": "stream",
     "text": [
      "Extracted OpenL3 features\n",
      "[[2.3512807 1.6732546 2.3574586 ... 1.2068789 1.2414976 4.711986 ]\n",
      " [2.586752  1.3757292 1.2749751 ... 1.7064204 1.4508891 2.4699125]\n",
      " [3.0206513 1.8221213 1.2513299 ... 1.6921262 2.658701  3.4809628]\n",
      " ...\n",
      " [3.1338232 1.8220118 1.1452968 ... 1.115001  3.2869785 3.617536 ]\n",
      " [2.64494   1.7960145 1.2741739 ... 1.0542767 3.21897   3.0450664]\n",
      " [2.4560897 1.6852428 1.2454733 ... 1.1317968 2.9107125 2.9844592]]\n"
     ]
    },
    {
     "name": "stderr",
     "output_type": "stream",
     "text": [
      "2023-05-25 20:00:17.312284: I tensorflow/core/platform/cpu_feature_guard.cc:193] This TensorFlow binary is optimized with oneAPI Deep Neural Network Library (oneDNN) to use the following CPU instructions in performance-critical operations:  SSE4.1 SSE4.2 AVX AVX2 FMA\n",
      "To enable them in other operations, rebuild TensorFlow with the appropriate compiler flags.\n",
      "2023-05-25 20:00:17.312979: I tensorflow/core/common_runtime/process_util.cc:146] Creating new thread pool with default inter op setting: 2. Tune using inter_op_parallelism_threads for best performance.\n"
     ]
    },
    {
     "name": "stdout",
     "output_type": "stream",
     "text": [
      "Extracted OpenL3 features\n",
      "[[2.3512807 1.6732546 2.3574586 ... 1.2068789 1.2414976 4.711986 ]\n",
      " [2.586752  1.3757292 1.2749751 ... 1.7064204 1.4508891 2.4699125]\n",
      " [3.0206513 1.8221213 1.2513299 ... 1.6921262 2.658701  3.4809628]\n",
      " ...\n",
      " [3.1203444 1.7764663 1.2237222 ... 1.6828179 2.7019262 3.5884202]\n",
      " [3.1304705 1.7845337 1.1312779 ... 0.9740184 3.487683  3.7200131]\n",
      " [2.5742154 1.7632035 1.2092142 ... 0.9436747 3.4877071 2.9872808]]\n"
     ]
    },
    {
     "name": "stderr",
     "output_type": "stream",
     "text": [
      "2023-05-25 20:00:21.003266: I tensorflow/core/platform/cpu_feature_guard.cc:193] This TensorFlow binary is optimized with oneAPI Deep Neural Network Library (oneDNN) to use the following CPU instructions in performance-critical operations:  SSE4.1 SSE4.2 AVX AVX2 FMA\n",
      "To enable them in other operations, rebuild TensorFlow with the appropriate compiler flags.\n",
      "2023-05-25 20:00:21.004177: I tensorflow/core/common_runtime/process_util.cc:146] Creating new thread pool with default inter op setting: 2. Tune using inter_op_parallelism_threads for best performance.\n"
     ]
    },
    {
     "name": "stdout",
     "output_type": "stream",
     "text": [
      "Extracted OpenL3 features\n",
      "[[2.2157934 1.6005387 2.3574586 ... 1.0250596 3.3899138 4.711986 ]\n",
      " [1.7995739 1.865327  1.0406259 ... 1.0581182 3.3082728 3.674118 ]\n",
      " [2.056967  1.8733418 1.117235  ... 1.1898578 2.453281  3.740675 ]\n",
      " ...\n",
      " [3.6571949 1.631083  1.6257668 ... 1.3012934 3.3411362 3.2635229]\n",
      " [2.00973   1.6732253 1.1020849 ... 1.2380947 3.302232  3.397851 ]\n",
      " [2.200212  1.6576923 3.1108892 ... 1.4095427 2.3632283 6.248101 ]]\n"
     ]
    },
    {
     "name": "stderr",
     "output_type": "stream",
     "text": [
      "2023-05-25 20:00:22.875894: I tensorflow/core/platform/cpu_feature_guard.cc:193] This TensorFlow binary is optimized with oneAPI Deep Neural Network Library (oneDNN) to use the following CPU instructions in performance-critical operations:  SSE4.1 SSE4.2 AVX AVX2 FMA\n",
      "To enable them in other operations, rebuild TensorFlow with the appropriate compiler flags.\n",
      "2023-05-25 20:00:22.876624: I tensorflow/core/common_runtime/process_util.cc:146] Creating new thread pool with default inter op setting: 2. Tune using inter_op_parallelism_threads for best performance.\n"
     ]
    },
    {
     "name": "stdout",
     "output_type": "stream",
     "text": [
      "Extracted OpenL3 features\n",
      "[[2.2157934  1.6005387  2.3574586  ... 1.0250596  3.3899138  4.711986  ]\n",
      " [1.7995739  1.865327   1.0406259  ... 1.0581182  3.3082728  3.674118  ]\n",
      " [2.056967   1.8733418  1.117235   ... 1.1898578  2.453281   3.740675  ]\n",
      " ...\n",
      " [1.9717802  1.8445853  1.0123827  ... 1.1417215  3.4266725  3.6063757 ]\n",
      " [2.4903977  1.5762627  1.2098231  ... 1.200602   2.591614   3.9885535 ]\n",
      " [2.3351893  2.0118542  1.2339439  ... 0.87600416 2.7460372  4.1296973 ]]\n"
     ]
    },
    {
     "name": "stderr",
     "output_type": "stream",
     "text": [
      "2023-05-25 20:00:25.543636: I tensorflow/core/platform/cpu_feature_guard.cc:193] This TensorFlow binary is optimized with oneAPI Deep Neural Network Library (oneDNN) to use the following CPU instructions in performance-critical operations:  SSE4.1 SSE4.2 AVX AVX2 FMA\n",
      "To enable them in other operations, rebuild TensorFlow with the appropriate compiler flags.\n",
      "2023-05-25 20:00:25.544328: I tensorflow/core/common_runtime/process_util.cc:146] Creating new thread pool with default inter op setting: 2. Tune using inter_op_parallelism_threads for best performance.\n"
     ]
    },
    {
     "name": "stdout",
     "output_type": "stream",
     "text": [
      "Extracted OpenL3 features\n",
      "[[2.2157934 1.6005387 2.3574586 ... 1.0250596 3.3899138 4.711986 ]\n",
      " [1.7995739 1.865327  1.0406259 ... 1.0581182 3.3082728 3.674118 ]\n",
      " [2.056967  1.8733418 1.117235  ... 1.1898578 2.453281  3.740675 ]\n",
      " ...\n",
      " [1.493785  1.52628   1.3509673 ... 1.4724696 2.799662  3.6834757]\n",
      " [1.1767071 1.6964496 1.1497649 ... 1.4784144 2.6988523 3.1164322]\n",
      " [1.8033874 1.7191333 1.1690325 ... 1.019792  2.6524534 4.205034 ]]\n"
     ]
    },
    {
     "name": "stderr",
     "output_type": "stream",
     "text": [
      "2023-05-25 20:00:30.177013: I tensorflow/core/platform/cpu_feature_guard.cc:193] This TensorFlow binary is optimized with oneAPI Deep Neural Network Library (oneDNN) to use the following CPU instructions in performance-critical operations:  SSE4.1 SSE4.2 AVX AVX2 FMA\n",
      "To enable them in other operations, rebuild TensorFlow with the appropriate compiler flags.\n",
      "2023-05-25 20:00:30.177703: I tensorflow/core/common_runtime/process_util.cc:146] Creating new thread pool with default inter op setting: 2. Tune using inter_op_parallelism_threads for best performance.\n"
     ]
    },
    {
     "name": "stdout",
     "output_type": "stream",
     "text": [
      "Extracted OpenL3 features\n",
      "[[2.1406229  2.1498473  2.248979   ... 0.6486347  2.6202478  4.485557  ]\n",
      " [1.0748843  2.023848   1.7268226  ... 1.160356   2.360087   2.6263452 ]\n",
      " [0.68809426 1.2119908  1.2659593  ... 1.8080692  2.7583263  2.662539  ]\n",
      " ...\n",
      " [1.7218826  1.2546386  1.1085858  ... 1.3016665  2.0559835  4.2960153 ]\n",
      " [1.5838846  1.5789009  1.3856508  ... 1.1607776  2.795226   3.810892  ]\n",
      " [1.8949546  1.8589307  2.7368112  ... 1.1353437  2.8127365  5.795396  ]]\n"
     ]
    },
    {
     "name": "stderr",
     "output_type": "stream",
     "text": [
      "2023-05-25 20:00:32.194841: I tensorflow/core/platform/cpu_feature_guard.cc:193] This TensorFlow binary is optimized with oneAPI Deep Neural Network Library (oneDNN) to use the following CPU instructions in performance-critical operations:  SSE4.1 SSE4.2 AVX AVX2 FMA\n",
      "To enable them in other operations, rebuild TensorFlow with the appropriate compiler flags.\n",
      "2023-05-25 20:00:32.195537: I tensorflow/core/common_runtime/process_util.cc:146] Creating new thread pool with default inter op setting: 2. Tune using inter_op_parallelism_threads for best performance.\n"
     ]
    },
    {
     "name": "stdout",
     "output_type": "stream",
     "text": [
      "Extracted OpenL3 features\n",
      "[[2.1406229  2.1498473  2.248979   ... 0.6486347  2.6202478  4.485557  ]\n",
      " [1.0748843  2.023848   1.7268226  ... 1.160356   2.360087   2.6263452 ]\n",
      " [0.68809426 1.2119908  1.2659593  ... 1.8080692  2.7583263  2.662539  ]\n",
      " ...\n",
      " [1.7439835  1.5450976  1.2384652  ... 1.1195421  2.654528   4.3889413 ]\n",
      " [1.7857893  1.2607862  1.5648123  ... 1.4735067  1.9632696  4.34803   ]\n",
      " [1.7557219  1.9017596  1.5006986  ... 1.6142125  2.9464006  3.8249793 ]]\n"
     ]
    },
    {
     "name": "stderr",
     "output_type": "stream",
     "text": [
      "2023-05-25 20:00:34.673477: I tensorflow/core/platform/cpu_feature_guard.cc:193] This TensorFlow binary is optimized with oneAPI Deep Neural Network Library (oneDNN) to use the following CPU instructions in performance-critical operations:  SSE4.1 SSE4.2 AVX AVX2 FMA\n",
      "To enable them in other operations, rebuild TensorFlow with the appropriate compiler flags.\n",
      "2023-05-25 20:00:34.674478: I tensorflow/core/common_runtime/process_util.cc:146] Creating new thread pool with default inter op setting: 2. Tune using inter_op_parallelism_threads for best performance.\n"
     ]
    },
    {
     "name": "stdout",
     "output_type": "stream",
     "text": [
      "Extracted OpenL3 features\n",
      "[[2.1406229  2.1498473  2.248979   ... 0.6486347  2.6202478  4.485557  ]\n",
      " [1.0748843  2.023848   1.7268226  ... 1.160356   2.360087   2.6263452 ]\n",
      " [0.68809426 1.2119908  1.2659593  ... 1.8080692  2.7583263  2.662539  ]\n",
      " ...\n",
      " [1.6173044  1.562124   1.213672   ... 1.2045524  2.8655374  3.556247  ]\n",
      " [1.7509749  1.2830884  1.2613003  ... 1.0697501  2.4850516  4.035717  ]\n",
      " [1.863351   1.2577598  1.4654394  ... 1.2712435  2.0538068  4.0699654 ]]\n"
     ]
    },
    {
     "name": "stderr",
     "output_type": "stream",
     "text": [
      "2023-05-25 20:00:38.397919: I tensorflow/core/platform/cpu_feature_guard.cc:193] This TensorFlow binary is optimized with oneAPI Deep Neural Network Library (oneDNN) to use the following CPU instructions in performance-critical operations:  SSE4.1 SSE4.2 AVX AVX2 FMA\n",
      "To enable them in other operations, rebuild TensorFlow with the appropriate compiler flags.\n",
      "2023-05-25 20:00:38.398637: I tensorflow/core/common_runtime/process_util.cc:146] Creating new thread pool with default inter op setting: 2. Tune using inter_op_parallelism_threads for best performance.\n"
     ]
    },
    {
     "name": "stdout",
     "output_type": "stream",
     "text": [
      "Extracted OpenL3 features\n",
      "[[2.2157934  1.8009793  2.3574586  ... 0.98187435 2.1236258  4.711986  ]\n",
      " [1.4819788  1.859255   2.04824    ... 1.5705292  2.7354903  2.1842506 ]\n",
      " [1.8596936  1.891193   1.7133421  ... 1.5799483  2.841527   1.8286742 ]\n",
      " ...\n",
      " [2.0950925  1.8921787  3.233059   ... 1.4901973  2.7371976  3.2620957 ]\n",
      " [1.5395832  1.797983   3.5057514  ... 1.4236236  2.8423374  2.7046688 ]\n",
      " [1.8949546  1.7785298  3.503528   ... 1.9794732  2.9315486  5.960906  ]]\n"
     ]
    },
    {
     "name": "stderr",
     "output_type": "stream",
     "text": [
      "2023-05-25 20:00:40.288795: I tensorflow/core/platform/cpu_feature_guard.cc:193] This TensorFlow binary is optimized with oneAPI Deep Neural Network Library (oneDNN) to use the following CPU instructions in performance-critical operations:  SSE4.1 SSE4.2 AVX AVX2 FMA\n",
      "To enable them in other operations, rebuild TensorFlow with the appropriate compiler flags.\n",
      "2023-05-25 20:00:40.289574: I tensorflow/core/common_runtime/process_util.cc:146] Creating new thread pool with default inter op setting: 2. Tune using inter_op_parallelism_threads for best performance.\n"
     ]
    },
    {
     "name": "stdout",
     "output_type": "stream",
     "text": [
      "Extracted OpenL3 features\n",
      "[[2.2157934  1.8009793  2.3574586  ... 0.98187435 2.1236258  4.711986  ]\n",
      " [1.4819788  1.859255   2.04824    ... 1.5705292  2.7354903  2.1842506 ]\n",
      " [1.8596936  1.891193   1.7133421  ... 1.5799483  2.841527   1.8286742 ]\n",
      " ...\n",
      " [1.2848836  1.9353936  3.1685336  ... 1.6998751  2.207974   3.2190351 ]\n",
      " [1.5774273  1.8236979  3.3552752  ... 1.3789734  2.6221445  2.6699824 ]\n",
      " [1.6875187  1.7847024  3.4460573  ... 1.9038597  2.527522   2.696175  ]]\n"
     ]
    },
    {
     "name": "stderr",
     "output_type": "stream",
     "text": [
      "2023-05-25 20:00:42.872609: I tensorflow/core/platform/cpu_feature_guard.cc:193] This TensorFlow binary is optimized with oneAPI Deep Neural Network Library (oneDNN) to use the following CPU instructions in performance-critical operations:  SSE4.1 SSE4.2 AVX AVX2 FMA\n",
      "To enable them in other operations, rebuild TensorFlow with the appropriate compiler flags.\n",
      "2023-05-25 20:00:42.873414: I tensorflow/core/common_runtime/process_util.cc:146] Creating new thread pool with default inter op setting: 2. Tune using inter_op_parallelism_threads for best performance.\n"
     ]
    },
    {
     "name": "stdout",
     "output_type": "stream",
     "text": [
      "Extracted OpenL3 features\n",
      "[[2.2157934  1.8009793  2.3574586  ... 0.98187435 2.1236258  4.711986  ]\n",
      " [1.4819788  1.859255   2.04824    ... 1.5705292  2.7354903  2.1842506 ]\n",
      " [1.8596936  1.891193   1.7133421  ... 1.5799483  2.841527   1.8286742 ]\n",
      " ...\n",
      " [1.2785064  1.930587   3.2957273  ... 1.6085014  2.6718352  2.3859982 ]\n",
      " [1.6817025  1.7634108  3.576464   ... 1.5007623  2.7477927  2.7801993 ]\n",
      " [1.1997684  1.7461401  3.5579786  ... 1.8398784  2.9274406  2.7802505 ]]\n"
     ]
    },
    {
     "name": "stderr",
     "output_type": "stream",
     "text": [
      "2023-05-25 20:00:47.280646: I tensorflow/core/platform/cpu_feature_guard.cc:193] This TensorFlow binary is optimized with oneAPI Deep Neural Network Library (oneDNN) to use the following CPU instructions in performance-critical operations:  SSE4.1 SSE4.2 AVX AVX2 FMA\n",
      "To enable them in other operations, rebuild TensorFlow with the appropriate compiler flags.\n",
      "2023-05-25 20:00:47.281353: I tensorflow/core/common_runtime/process_util.cc:146] Creating new thread pool with default inter op setting: 2. Tune using inter_op_parallelism_threads for best performance.\n"
     ]
    },
    {
     "name": "stdout",
     "output_type": "stream",
     "text": [
      "Extracted OpenL3 features\n",
      "[[2.3735967  1.6624161  2.3574586  ... 0.83430034 2.1291766  4.711986  ]\n",
      " [2.3199542  1.6514953  1.4133292  ... 0.8471904  3.2023814  4.2688484 ]\n",
      " [1.9291584  1.6815486  1.5417911  ... 0.94264114 1.9324132  3.7277243 ]\n",
      " ...\n",
      " [2.3578308  1.8116542  1.6684333  ... 1.2868118  3.6378403  4.605827  ]\n",
      " [2.4051917  1.9277266  1.6642197  ... 1.3296639  3.8492658  4.0469947 ]\n",
      " [1.9924982  2.0185769  2.7672257  ... 1.1420878  2.3903644  6.0288506 ]]\n"
     ]
    },
    {
     "name": "stderr",
     "output_type": "stream",
     "text": [
      "2023-05-25 20:00:49.223258: I tensorflow/core/platform/cpu_feature_guard.cc:193] This TensorFlow binary is optimized with oneAPI Deep Neural Network Library (oneDNN) to use the following CPU instructions in performance-critical operations:  SSE4.1 SSE4.2 AVX AVX2 FMA\n",
      "To enable them in other operations, rebuild TensorFlow with the appropriate compiler flags.\n",
      "2023-05-25 20:00:49.223997: I tensorflow/core/common_runtime/process_util.cc:146] Creating new thread pool with default inter op setting: 2. Tune using inter_op_parallelism_threads for best performance.\n"
     ]
    },
    {
     "name": "stdout",
     "output_type": "stream",
     "text": [
      "Extracted OpenL3 features\n",
      "[[2.3735967  1.6624161  2.3574586  ... 0.83430034 2.1291766  4.711986  ]\n",
      " [2.3199542  1.6514953  1.4133292  ... 0.8471904  3.2023814  4.2688484 ]\n",
      " [1.9291584  1.6815486  1.5417911  ... 0.94264114 1.9324132  3.7277243 ]\n",
      " ...\n",
      " [2.3484938  1.802434   1.6277887  ... 1.4046353  3.0109434  4.4197807 ]\n",
      " [2.2515984  1.9390572  1.6913066  ... 1.314204   3.949006   4.0662646 ]\n",
      " [2.5228503  1.6338493  1.193313   ... 1.1056724  2.3709273  4.254242  ]]\n"
     ]
    },
    {
     "name": "stderr",
     "output_type": "stream",
     "text": [
      "2023-05-25 20:00:51.850447: I tensorflow/core/platform/cpu_feature_guard.cc:193] This TensorFlow binary is optimized with oneAPI Deep Neural Network Library (oneDNN) to use the following CPU instructions in performance-critical operations:  SSE4.1 SSE4.2 AVX AVX2 FMA\n",
      "To enable them in other operations, rebuild TensorFlow with the appropriate compiler flags.\n",
      "2023-05-25 20:00:51.851222: I tensorflow/core/common_runtime/process_util.cc:146] Creating new thread pool with default inter op setting: 2. Tune using inter_op_parallelism_threads for best performance.\n"
     ]
    },
    {
     "name": "stdout",
     "output_type": "stream",
     "text": [
      "Extracted OpenL3 features\n",
      "[[2.3735967  1.6624161  2.3574586  ... 0.83430034 2.1291766  4.711986  ]\n",
      " [2.3199542  1.6514953  1.4133292  ... 0.8471904  3.2023814  4.2688484 ]\n",
      " [1.9291584  1.6815486  1.5417911  ... 0.94264114 1.9324132  3.7277243 ]\n",
      " ...\n",
      " [2.4512827  1.9293659  1.597655   ... 1.2979336  4.24496    4.1609735 ]\n",
      " [2.47098    1.6287062  1.4346344  ... 1.1514267  4.06477    4.221099  ]\n",
      " [2.3726237  1.616047   1.2401143  ... 0.61505747 2.7179112  4.214176  ]]\n"
     ]
    },
    {
     "name": "stderr",
     "output_type": "stream",
     "text": [
      "2023-05-25 20:00:56.239670: I tensorflow/core/platform/cpu_feature_guard.cc:193] This TensorFlow binary is optimized with oneAPI Deep Neural Network Library (oneDNN) to use the following CPU instructions in performance-critical operations:  SSE4.1 SSE4.2 AVX AVX2 FMA\n",
      "To enable them in other operations, rebuild TensorFlow with the appropriate compiler flags.\n",
      "2023-05-25 20:00:56.240372: I tensorflow/core/common_runtime/process_util.cc:146] Creating new thread pool with default inter op setting: 2. Tune using inter_op_parallelism_threads for best performance.\n"
     ]
    },
    {
     "name": "stdout",
     "output_type": "stream",
     "text": [
      "Extracted OpenL3 features\n",
      "[[2.2157934 2.1604946 2.3574586 ... 1.3036456 4.2699337 4.711986 ]\n",
      " [2.0347805 2.1801376 1.2070581 ... 1.3928763 4.2334127 2.9524426]\n",
      " [2.0337312 1.5757918 1.3352388 ... 1.619677  4.0071287 2.9545496]\n",
      " ...\n",
      " [2.1101418 1.7069026 1.521111  ... 1.4233019 3.2966955 2.4589028]\n",
      " [1.4372822 1.6522075 1.2212502 ... 1.7116109 2.5840268 2.4887042]\n",
      " [2.3909369 1.715597  3.1275918 ... 1.52713   3.0278006 6.2574816]]\n"
     ]
    },
    {
     "name": "stderr",
     "output_type": "stream",
     "text": [
      "2023-05-25 20:00:58.153931: I tensorflow/core/platform/cpu_feature_guard.cc:193] This TensorFlow binary is optimized with oneAPI Deep Neural Network Library (oneDNN) to use the following CPU instructions in performance-critical operations:  SSE4.1 SSE4.2 AVX AVX2 FMA\n",
      "To enable them in other operations, rebuild TensorFlow with the appropriate compiler flags.\n",
      "2023-05-25 20:00:58.154672: I tensorflow/core/common_runtime/process_util.cc:146] Creating new thread pool with default inter op setting: 2. Tune using inter_op_parallelism_threads for best performance.\n"
     ]
    },
    {
     "name": "stdout",
     "output_type": "stream",
     "text": [
      "Extracted OpenL3 features\n",
      "[[2.2157934 2.1604946 2.3574586 ... 1.3036456 4.2699337 4.711986 ]\n",
      " [2.0347805 2.1801376 1.2070581 ... 1.3928763 4.2334127 2.9524426]\n",
      " [2.0337312 1.5757918 1.3352388 ... 1.619677  4.0071287 2.9545496]\n",
      " ...\n",
      " [2.1771848 1.7978505 1.432264  ... 1.3232561 3.392832  2.304274 ]\n",
      " [2.129095  1.6558696 1.2476538 ... 1.7114702 3.3014119 2.4552999]\n",
      " [2.1178782 1.4838052 1.3427725 ... 1.7425541 2.480218  2.4889472]]\n"
     ]
    },
    {
     "name": "stderr",
     "output_type": "stream",
     "text": [
      "2023-05-25 20:01:00.751116: I tensorflow/core/platform/cpu_feature_guard.cc:193] This TensorFlow binary is optimized with oneAPI Deep Neural Network Library (oneDNN) to use the following CPU instructions in performance-critical operations:  SSE4.1 SSE4.2 AVX AVX2 FMA\n",
      "To enable them in other operations, rebuild TensorFlow with the appropriate compiler flags.\n",
      "2023-05-25 20:01:00.752106: I tensorflow/core/common_runtime/process_util.cc:146] Creating new thread pool with default inter op setting: 2. Tune using inter_op_parallelism_threads for best performance.\n"
     ]
    },
    {
     "name": "stdout",
     "output_type": "stream",
     "text": [
      "Extracted OpenL3 features\n",
      "[[2.2157934 2.1604946 2.3574586 ... 1.3036456 4.2699337 4.711986 ]\n",
      " [2.0347805 2.1801376 1.2070581 ... 1.3928763 4.2334127 2.9524426]\n",
      " [2.0337312 1.5757918 1.3352388 ... 1.619677  4.0071287 2.9545496]\n",
      " ...\n",
      " [2.1539023 1.8042903 1.4878659 ... 1.4273564 3.566211  2.287239 ]\n",
      " [2.0760329 1.6405563 1.5386916 ... 1.6826429 3.5041485 2.4111638]\n",
      " [1.6453111 1.5409758 1.2831858 ... 1.6583577 2.2786748 2.5581255]]\n"
     ]
    },
    {
     "name": "stderr",
     "output_type": "stream",
     "text": [
      "2023-05-25 20:01:05.055417: I tensorflow/core/platform/cpu_feature_guard.cc:193] This TensorFlow binary is optimized with oneAPI Deep Neural Network Library (oneDNN) to use the following CPU instructions in performance-critical operations:  SSE4.1 SSE4.2 AVX AVX2 FMA\n",
      "To enable them in other operations, rebuild TensorFlow with the appropriate compiler flags.\n",
      "2023-05-25 20:01:05.056178: I tensorflow/core/common_runtime/process_util.cc:146] Creating new thread pool with default inter op setting: 2. Tune using inter_op_parallelism_threads for best performance.\n"
     ]
    },
    {
     "name": "stdout",
     "output_type": "stream",
     "text": [
      "Extracted OpenL3 features\n",
      "[[2.2177536 1.4875648 2.3574586 ... 0.6998937 1.4076989 4.711986 ]\n",
      " [1.91293   1.6476684 1.7225707 ... 0.9927079 3.102388  3.366364 ]\n",
      " [1.9633845 1.7834115 1.3455663 ... 1.0192953 3.154911  2.9786522]\n",
      " ...\n",
      " [1.8336083 1.7329595 1.1102728 ... 1.3727013 3.2755773 3.4618628]\n",
      " [1.4299564 1.6904488 1.1087952 ... 1.51273   2.5917842 3.4174087]\n",
      " [1.8949546 2.0826008 2.7859044 ... 0.9538285 2.4200666 5.792566 ]]\n"
     ]
    },
    {
     "name": "stderr",
     "output_type": "stream",
     "text": [
      "2023-05-25 20:01:07.029858: I tensorflow/core/platform/cpu_feature_guard.cc:193] This TensorFlow binary is optimized with oneAPI Deep Neural Network Library (oneDNN) to use the following CPU instructions in performance-critical operations:  SSE4.1 SSE4.2 AVX AVX2 FMA\n",
      "To enable them in other operations, rebuild TensorFlow with the appropriate compiler flags.\n",
      "2023-05-25 20:01:07.030600: I tensorflow/core/common_runtime/process_util.cc:146] Creating new thread pool with default inter op setting: 2. Tune using inter_op_parallelism_threads for best performance.\n"
     ]
    },
    {
     "name": "stdout",
     "output_type": "stream",
     "text": [
      "Extracted OpenL3 features\n",
      "[[2.2177536  1.4875648  2.3574586  ... 0.6998937  1.4076989  4.711986  ]\n",
      " [1.91293    1.6476684  1.7225707  ... 0.9927079  3.102388   3.366364  ]\n",
      " [1.9633845  1.7834115  1.3455663  ... 1.0192953  3.154911   2.9786522 ]\n",
      " ...\n",
      " [2.1019273  1.6842296  1.1988344  ... 1.2157271  3.0517747  3.1597826 ]\n",
      " [2.1564276  1.8579063  1.1853366  ... 0.83905977 2.1762571  2.9102297 ]\n",
      " [2.1123633  1.6756243  1.7262235  ... 0.98291224 2.4287853  3.188181  ]]\n"
     ]
    },
    {
     "name": "stderr",
     "output_type": "stream",
     "text": [
      "2023-05-25 20:01:09.760611: I tensorflow/core/platform/cpu_feature_guard.cc:193] This TensorFlow binary is optimized with oneAPI Deep Neural Network Library (oneDNN) to use the following CPU instructions in performance-critical operations:  SSE4.1 SSE4.2 AVX AVX2 FMA\n",
      "To enable them in other operations, rebuild TensorFlow with the appropriate compiler flags.\n",
      "2023-05-25 20:01:09.761431: I tensorflow/core/common_runtime/process_util.cc:146] Creating new thread pool with default inter op setting: 2. Tune using inter_op_parallelism_threads for best performance.\n"
     ]
    },
    {
     "name": "stdout",
     "output_type": "stream",
     "text": [
      "Extracted OpenL3 features\n",
      "[[2.2177536 1.4875648 2.3574586 ... 0.6998937 1.4076989 4.711986 ]\n",
      " [1.91293   1.6476684 1.7225707 ... 0.9927079 3.102388  3.366364 ]\n",
      " [1.9633845 1.7834115 1.3455663 ... 1.0192953 3.154911  2.9786522]\n",
      " ...\n",
      " [1.9019045 1.6761721 1.7078677 ... 1.0120972 2.931657  3.2606618]\n",
      " [1.917097  1.7608888 1.2209593 ... 1.0674706 2.9444668 3.2100756]\n",
      " [1.852971  1.9276416 1.5302645 ... 1.2863522 3.2090442 3.4129932]]\n"
     ]
    },
    {
     "name": "stderr",
     "output_type": "stream",
     "text": [
      "2023-05-25 20:01:13.977529: I tensorflow/core/platform/cpu_feature_guard.cc:193] This TensorFlow binary is optimized with oneAPI Deep Neural Network Library (oneDNN) to use the following CPU instructions in performance-critical operations:  SSE4.1 SSE4.2 AVX AVX2 FMA\n",
      "To enable them in other operations, rebuild TensorFlow with the appropriate compiler flags.\n",
      "2023-05-25 20:01:13.978472: I tensorflow/core/common_runtime/process_util.cc:146] Creating new thread pool with default inter op setting: 2. Tune using inter_op_parallelism_threads for best performance.\n"
     ]
    },
    {
     "name": "stdout",
     "output_type": "stream",
     "text": [
      "Extracted OpenL3 features\n",
      "[[2.2157934 1.3934424 2.3574586 ... 0.7635219 2.6929212 4.711986 ]\n",
      " [1.4423239 1.4209745 1.7617654 ... 1.7407165 2.7844026 2.4581802]\n",
      " [1.3599309 1.4976587 1.3306985 ... 1.6069323 3.5272334 2.834154 ]\n",
      " ...\n",
      " [1.2728584 1.1634344 1.4249046 ... 1.3099229 2.4433322 2.2954454]\n",
      " [1.4279724 1.4177192 1.3515265 ... 1.3862593 3.0584643 2.4572244]\n",
      " [1.8949546 1.4947946 2.6064267 ... 1.1841221 3.0847027 5.6138797]]\n"
     ]
    },
    {
     "name": "stderr",
     "output_type": "stream",
     "text": [
      "2023-05-25 20:01:16.002334: I tensorflow/core/platform/cpu_feature_guard.cc:193] This TensorFlow binary is optimized with oneAPI Deep Neural Network Library (oneDNN) to use the following CPU instructions in performance-critical operations:  SSE4.1 SSE4.2 AVX AVX2 FMA\n",
      "To enable them in other operations, rebuild TensorFlow with the appropriate compiler flags.\n",
      "2023-05-25 20:01:16.003057: I tensorflow/core/common_runtime/process_util.cc:146] Creating new thread pool with default inter op setting: 2. Tune using inter_op_parallelism_threads for best performance.\n"
     ]
    },
    {
     "name": "stdout",
     "output_type": "stream",
     "text": [
      "Extracted OpenL3 features\n",
      "[[2.2157934 1.3934424 2.3574586 ... 0.7635219 2.6929212 4.711986 ]\n",
      " [1.4423239 1.4209745 1.7617654 ... 1.7407165 2.7844026 2.4581802]\n",
      " [1.3599309 1.4976587 1.3306985 ... 1.6069323 3.5272334 2.834154 ]\n",
      " ...\n",
      " [1.7840384 1.6459086 1.2828066 ... 1.0298599 3.2529168 2.5841393]\n",
      " [1.1278539 1.3884985 1.2980349 ... 1.4067512 2.5809329 2.2744567]\n",
      " [1.6635933 1.3292983 1.2705607 ... 1.5036505 2.2376852 2.5773404]]\n"
     ]
    },
    {
     "name": "stderr",
     "output_type": "stream",
     "text": [
      "2023-05-25 20:01:18.488618: I tensorflow/core/platform/cpu_feature_guard.cc:193] This TensorFlow binary is optimized with oneAPI Deep Neural Network Library (oneDNN) to use the following CPU instructions in performance-critical operations:  SSE4.1 SSE4.2 AVX AVX2 FMA\n",
      "To enable them in other operations, rebuild TensorFlow with the appropriate compiler flags.\n",
      "2023-05-25 20:01:18.489318: I tensorflow/core/common_runtime/process_util.cc:146] Creating new thread pool with default inter op setting: 2. Tune using inter_op_parallelism_threads for best performance.\n"
     ]
    },
    {
     "name": "stdout",
     "output_type": "stream",
     "text": [
      "Extracted OpenL3 features\n",
      "[[2.2157934 1.3934424 2.3574586 ... 0.7635219 2.6929212 4.711986 ]\n",
      " [1.4423239 1.4209745 1.7617654 ... 1.7407165 2.7844026 2.4581802]\n",
      " [1.3599309 1.4976587 1.3306985 ... 1.6069323 3.5272334 2.834154 ]\n",
      " ...\n",
      " [1.5448264 1.87749   1.7692952 ... 1.2725306 3.7150338 2.754124 ]\n",
      " [1.8284487 1.8974355 1.5584434 ... 1.2603263 3.770995  2.5468981]\n",
      " [1.8193107 1.5681927 1.4308978 ... 1.0596035 3.095915  2.6005533]]\n"
     ]
    },
    {
     "name": "stderr",
     "output_type": "stream",
     "text": [
      "2023-05-25 20:01:22.804571: I tensorflow/core/platform/cpu_feature_guard.cc:193] This TensorFlow binary is optimized with oneAPI Deep Neural Network Library (oneDNN) to use the following CPU instructions in performance-critical operations:  SSE4.1 SSE4.2 AVX AVX2 FMA\n",
      "To enable them in other operations, rebuild TensorFlow with the appropriate compiler flags.\n",
      "2023-05-25 20:01:22.805265: I tensorflow/core/common_runtime/process_util.cc:146] Creating new thread pool with default inter op setting: 2. Tune using inter_op_parallelism_threads for best performance.\n"
     ]
    },
    {
     "name": "stdout",
     "output_type": "stream",
     "text": [
      "Extracted OpenL3 features\n",
      "[[2.2157934 1.4002703 2.3574586 ... 2.0368595 2.2284968 4.711986 ]\n",
      " [1.6906931 1.8755574 1.936716  ... 2.147097  2.9699907 3.1334872]\n",
      " [1.4667931 1.5840873 1.8940316 ... 2.0460968 3.1086626 3.3146253]\n",
      " ...\n",
      " [1.672193  1.9018934 1.8579553 ... 2.1483567 2.3357909 3.2090473]\n",
      " [1.4670104 1.905328  2.0479994 ... 2.2468421 3.0418575 3.3971264]\n",
      " [2.490082  1.4607859 3.1491532 ... 1.2731565 2.9699798 6.340129 ]]\n"
     ]
    },
    {
     "name": "stderr",
     "output_type": "stream",
     "text": [
      "2023-05-25 20:01:24.853076: I tensorflow/core/platform/cpu_feature_guard.cc:193] This TensorFlow binary is optimized with oneAPI Deep Neural Network Library (oneDNN) to use the following CPU instructions in performance-critical operations:  SSE4.1 SSE4.2 AVX AVX2 FMA\n",
      "To enable them in other operations, rebuild TensorFlow with the appropriate compiler flags.\n",
      "2023-05-25 20:01:24.853788: I tensorflow/core/common_runtime/process_util.cc:146] Creating new thread pool with default inter op setting: 2. Tune using inter_op_parallelism_threads for best performance.\n"
     ]
    },
    {
     "name": "stdout",
     "output_type": "stream",
     "text": [
      "Extracted OpenL3 features\n",
      "[[2.2157934 1.4002703 2.3574586 ... 2.0368595 2.2284968 4.711986 ]\n",
      " [1.6906931 1.8755574 1.936716  ... 2.147097  2.9699907 3.1334872]\n",
      " [1.4667931 1.5840873 1.8940316 ... 2.0460968 3.1086626 3.3146253]\n",
      " ...\n",
      " [1.130816  1.4404202 2.0454762 ... 1.2094439 2.9448605 3.405163 ]\n",
      " [1.706583  1.4098454 1.9482481 ... 1.2105274 3.170474  4.240043 ]\n",
      " [1.3839793 1.4476228 2.0333502 ... 1.2591599 3.4492598 4.4719973]]\n"
     ]
    },
    {
     "name": "stderr",
     "output_type": "stream",
     "text": [
      "2023-05-25 20:01:27.226006: I tensorflow/core/platform/cpu_feature_guard.cc:193] This TensorFlow binary is optimized with oneAPI Deep Neural Network Library (oneDNN) to use the following CPU instructions in performance-critical operations:  SSE4.1 SSE4.2 AVX AVX2 FMA\n",
      "To enable them in other operations, rebuild TensorFlow with the appropriate compiler flags.\n",
      "2023-05-25 20:01:27.226816: I tensorflow/core/common_runtime/process_util.cc:146] Creating new thread pool with default inter op setting: 2. Tune using inter_op_parallelism_threads for best performance.\n"
     ]
    },
    {
     "name": "stdout",
     "output_type": "stream",
     "text": [
      "Extracted OpenL3 features\n",
      "[[2.2157934 1.4002703 2.3574586 ... 2.0368595 2.2284968 4.711986 ]\n",
      " [1.6906931 1.8755574 1.936716  ... 2.147097  2.9699907 3.1334872]\n",
      " [1.4667931 1.5840873 1.8940316 ... 2.0460968 3.1086626 3.3146253]\n",
      " ...\n",
      " [1.9209626 1.4897957 1.5967731 ... 1.6399277 1.99724   3.1683447]\n",
      " [1.4966929 1.9008785 1.8775172 ... 2.2438307 2.4459002 3.2864811]\n",
      " [1.6152444 1.8876777 1.8993794 ... 2.1948085 2.9003682 3.4070153]]\n"
     ]
    },
    {
     "name": "stderr",
     "output_type": "stream",
     "text": [
      "2023-05-25 20:01:31.525886: I tensorflow/core/platform/cpu_feature_guard.cc:193] This TensorFlow binary is optimized with oneAPI Deep Neural Network Library (oneDNN) to use the following CPU instructions in performance-critical operations:  SSE4.1 SSE4.2 AVX AVX2 FMA\n",
      "To enable them in other operations, rebuild TensorFlow with the appropriate compiler flags.\n",
      "2023-05-25 20:01:31.526671: I tensorflow/core/common_runtime/process_util.cc:146] Creating new thread pool with default inter op setting: 2. Tune using inter_op_parallelism_threads for best performance.\n"
     ]
    },
    {
     "name": "stdout",
     "output_type": "stream",
     "text": [
      "Extracted OpenL3 features\n",
      "[[2.5791245 1.9353437 2.3574586 ... 1.1858126 1.64203   4.711986 ]\n",
      " [2.3880172 1.9495232 1.3568103 ... 1.3070571 1.7222177 3.1798813]\n",
      " [1.9406955 1.8871249 2.118427  ... 1.0977708 2.9610069 3.3049703]\n",
      " ...\n",
      " [2.635382  2.2683942 1.0939794 ... 0.9879385 2.1551032 3.938522 ]\n",
      " [2.0356827 2.1806602 1.1702037 ... 1.3317473 2.3134346 3.0437944]\n",
      " [2.6080563 1.4491822 3.075623  ... 1.29468   1.7408991 6.0370035]]\n"
     ]
    },
    {
     "name": "stderr",
     "output_type": "stream",
     "text": [
      "2023-05-25 20:01:33.520216: I tensorflow/core/platform/cpu_feature_guard.cc:193] This TensorFlow binary is optimized with oneAPI Deep Neural Network Library (oneDNN) to use the following CPU instructions in performance-critical operations:  SSE4.1 SSE4.2 AVX AVX2 FMA\n",
      "To enable them in other operations, rebuild TensorFlow with the appropriate compiler flags.\n",
      "2023-05-25 20:01:33.521015: I tensorflow/core/common_runtime/process_util.cc:146] Creating new thread pool with default inter op setting: 2. Tune using inter_op_parallelism_threads for best performance.\n"
     ]
    },
    {
     "name": "stdout",
     "output_type": "stream",
     "text": [
      "Extracted OpenL3 features\n",
      "[[2.5791245 1.9353437 2.3574586 ... 1.1858126 1.64203   4.711986 ]\n",
      " [2.3880172 1.9495232 1.3568103 ... 1.3070571 1.7222177 3.1798813]\n",
      " [1.9406955 1.8871249 2.118427  ... 1.0977708 2.9610069 3.3049703]\n",
      " ...\n",
      " [2.088494  1.6969503 1.1818345 ... 1.1146125 2.0152252 2.9983323]\n",
      " [2.1236227 2.3875418 1.3214698 ... 1.121266  2.5196002 3.552516 ]\n",
      " [1.7503586 2.3759596 1.436552  ... 1.0183231 2.3339229 4.259752 ]]\n"
     ]
    },
    {
     "name": "stderr",
     "output_type": "stream",
     "text": [
      "2023-05-25 20:01:36.055297: I tensorflow/core/platform/cpu_feature_guard.cc:193] This TensorFlow binary is optimized with oneAPI Deep Neural Network Library (oneDNN) to use the following CPU instructions in performance-critical operations:  SSE4.1 SSE4.2 AVX AVX2 FMA\n",
      "To enable them in other operations, rebuild TensorFlow with the appropriate compiler flags.\n",
      "2023-05-25 20:01:36.055998: I tensorflow/core/common_runtime/process_util.cc:146] Creating new thread pool with default inter op setting: 2. Tune using inter_op_parallelism_threads for best performance.\n"
     ]
    },
    {
     "name": "stdout",
     "output_type": "stream",
     "text": [
      "Extracted OpenL3 features\n",
      "[[2.5791245 1.9353437 2.3574586 ... 1.1858126 1.64203   4.711986 ]\n",
      " [2.3880172 1.9495232 1.3568103 ... 1.3070571 1.7222177 3.1798813]\n",
      " [1.9406955 1.8871249 2.118427  ... 1.0977708 2.9610069 3.3049703]\n",
      " ...\n",
      " [1.5839105 1.865551  1.1019357 ... 1.3503832 2.3143706 2.9080384]\n",
      " [2.050568  1.6558207 1.1551394 ... 1.1245725 2.074178  2.9109797]\n",
      " [2.731486  2.2867665 1.4425559 ... 1.1358217 2.199026  3.3642595]]\n"
     ]
    },
    {
     "name": "stderr",
     "output_type": "stream",
     "text": [
      "2023-05-25 20:01:40.629806: I tensorflow/core/platform/cpu_feature_guard.cc:193] This TensorFlow binary is optimized with oneAPI Deep Neural Network Library (oneDNN) to use the following CPU instructions in performance-critical operations:  SSE4.1 SSE4.2 AVX AVX2 FMA\n",
      "To enable them in other operations, rebuild TensorFlow with the appropriate compiler flags.\n",
      "2023-05-25 20:01:40.630637: I tensorflow/core/common_runtime/process_util.cc:146] Creating new thread pool with default inter op setting: 2. Tune using inter_op_parallelism_threads for best performance.\n"
     ]
    },
    {
     "name": "stdout",
     "output_type": "stream",
     "text": [
      "Extracted OpenL3 features\n",
      "[[2.2157934  2.039634   2.3574586  ... 0.84551287 1.4400394  4.711986  ]\n",
      " [1.6250142  2.0121384  1.4449481  ... 1.0979186  2.3315697  2.7665532 ]\n",
      " [1.4482695  1.6470238  1.7287811  ... 1.3124208  2.9157286  2.3941748 ]\n",
      " ...\n",
      " [1.1708895  1.6837118  1.5700768  ... 1.7895     2.9170115  2.769617  ]\n",
      " [1.6951256  1.9537735  1.205225   ... 1.6901699  3.1216137  2.8247442 ]\n",
      " [2.2075045  1.7772212  3.2417438  ... 0.9783468  2.7262144  6.3084493 ]]\n"
     ]
    },
    {
     "name": "stderr",
     "output_type": "stream",
     "text": [
      "2023-05-25 20:01:42.532866: I tensorflow/core/platform/cpu_feature_guard.cc:193] This TensorFlow binary is optimized with oneAPI Deep Neural Network Library (oneDNN) to use the following CPU instructions in performance-critical operations:  SSE4.1 SSE4.2 AVX AVX2 FMA\n",
      "To enable them in other operations, rebuild TensorFlow with the appropriate compiler flags.\n",
      "2023-05-25 20:01:42.533586: I tensorflow/core/common_runtime/process_util.cc:146] Creating new thread pool with default inter op setting: 2. Tune using inter_op_parallelism_threads for best performance.\n"
     ]
    },
    {
     "name": "stdout",
     "output_type": "stream",
     "text": [
      "Extracted OpenL3 features\n",
      "[[2.2157934  2.039634   2.3574586  ... 0.84551287 1.4400394  4.711986  ]\n",
      " [1.6250142  2.0121384  1.4449481  ... 1.0979186  2.3315697  2.7665532 ]\n",
      " [1.4482695  1.6470238  1.7287811  ... 1.3124208  2.9157286  2.3941748 ]\n",
      " ...\n",
      " [1.3485649  1.8041719  1.0992043  ... 1.1458951  2.6726205  2.3418837 ]\n",
      " [1.4742433  1.7602127  1.3222317  ... 1.1967549  2.0890584  2.5184865 ]\n",
      " [1.2814521  2.1303453  1.034164   ... 1.2167804  2.4429648  2.2623792 ]]\n"
     ]
    },
    {
     "name": "stderr",
     "output_type": "stream",
     "text": [
      "2023-05-25 20:01:45.015557: I tensorflow/core/platform/cpu_feature_guard.cc:193] This TensorFlow binary is optimized with oneAPI Deep Neural Network Library (oneDNN) to use the following CPU instructions in performance-critical operations:  SSE4.1 SSE4.2 AVX AVX2 FMA\n",
      "To enable them in other operations, rebuild TensorFlow with the appropriate compiler flags.\n",
      "2023-05-25 20:01:45.016288: I tensorflow/core/common_runtime/process_util.cc:146] Creating new thread pool with default inter op setting: 2. Tune using inter_op_parallelism_threads for best performance.\n"
     ]
    },
    {
     "name": "stdout",
     "output_type": "stream",
     "text": [
      "Extracted OpenL3 features\n",
      "[[2.2157934  2.039634   2.3574586  ... 0.84551287 1.4400394  4.711986  ]\n",
      " [1.6250142  2.0121384  1.4449481  ... 1.0979186  2.3315697  2.7665532 ]\n",
      " [1.4482695  1.6470238  1.7287811  ... 1.3124208  2.9157286  2.3941748 ]\n",
      " ...\n",
      " [1.2888743  2.0226269  1.2252908  ... 1.3395436  2.750105   2.7668476 ]\n",
      " [1.1787809  2.0013819  1.6472707  ... 1.2590649  2.7240813  2.8209462 ]\n",
      " [1.53962    1.8052925  1.6852549  ... 1.8092364  3.2087598  2.5019057 ]]\n"
     ]
    },
    {
     "name": "stderr",
     "output_type": "stream",
     "text": [
      "2023-05-25 20:01:49.664269: I tensorflow/core/platform/cpu_feature_guard.cc:193] This TensorFlow binary is optimized with oneAPI Deep Neural Network Library (oneDNN) to use the following CPU instructions in performance-critical operations:  SSE4.1 SSE4.2 AVX AVX2 FMA\n",
      "To enable them in other operations, rebuild TensorFlow with the appropriate compiler flags.\n",
      "2023-05-25 20:01:49.665088: I tensorflow/core/common_runtime/process_util.cc:146] Creating new thread pool with default inter op setting: 2. Tune using inter_op_parallelism_threads for best performance.\n"
     ]
    },
    {
     "name": "stdout",
     "output_type": "stream",
     "text": [
      "Extracted OpenL3 features\n",
      "[[2.2157934  2.0149062  2.3574586  ... 1.2645849  3.82281    4.711986  ]\n",
      " [1.4744719  2.0403037  1.2296597  ... 1.5699573  3.8414671  2.897047  ]\n",
      " [1.7556984  1.7511095  0.99127376 ... 1.6585903  3.2053998  3.0501995 ]\n",
      " ...\n",
      " [0.7224278  1.5814195  1.2478722  ... 2.1750922  3.2870004  2.2544465 ]\n",
      " [2.543882   1.1700135  1.1487714  ... 0.75854564 2.0992296  3.5051708 ]\n",
      " [2.1991103  1.354677   3.1674416  ... 1.0921129  2.8766837  6.3030877 ]]\n"
     ]
    },
    {
     "name": "stderr",
     "output_type": "stream",
     "text": [
      "2023-05-25 20:01:51.570916: I tensorflow/core/platform/cpu_feature_guard.cc:193] This TensorFlow binary is optimized with oneAPI Deep Neural Network Library (oneDNN) to use the following CPU instructions in performance-critical operations:  SSE4.1 SSE4.2 AVX AVX2 FMA\n",
      "To enable them in other operations, rebuild TensorFlow with the appropriate compiler flags.\n",
      "2023-05-25 20:01:51.571574: I tensorflow/core/common_runtime/process_util.cc:146] Creating new thread pool with default inter op setting: 2. Tune using inter_op_parallelism_threads for best performance.\n"
     ]
    },
    {
     "name": "stdout",
     "output_type": "stream",
     "text": [
      "Extracted OpenL3 features\n",
      "[[2.2157934  2.0149062  2.3574586  ... 1.2645849  3.82281    4.711986  ]\n",
      " [1.4744719  2.0403037  1.2296597  ... 1.5699573  3.8414671  2.897047  ]\n",
      " [1.7556984  1.7511095  0.99127376 ... 1.6585903  3.2053998  3.0501995 ]\n",
      " ...\n",
      " [1.2426349  1.764694   1.3090703  ... 1.8530173  2.9528565  2.8997138 ]\n",
      " [2.2456076  1.7126565  1.0484948  ... 2.3132038  2.4994223  2.3806098 ]\n",
      " [2.4807286  1.9955237  0.9929129  ... 1.8327119  3.186083   3.0094767 ]]\n"
     ]
    },
    {
     "name": "stderr",
     "output_type": "stream",
     "text": [
      "2023-05-25 20:01:54.022355: I tensorflow/core/platform/cpu_feature_guard.cc:193] This TensorFlow binary is optimized with oneAPI Deep Neural Network Library (oneDNN) to use the following CPU instructions in performance-critical operations:  SSE4.1 SSE4.2 AVX AVX2 FMA\n",
      "To enable them in other operations, rebuild TensorFlow with the appropriate compiler flags.\n",
      "2023-05-25 20:01:54.023058: I tensorflow/core/common_runtime/process_util.cc:146] Creating new thread pool with default inter op setting: 2. Tune using inter_op_parallelism_threads for best performance.\n"
     ]
    },
    {
     "name": "stdout",
     "output_type": "stream",
     "text": [
      "Extracted OpenL3 features\n",
      "[[2.2157934  2.0149062  2.3574586  ... 1.2645849  3.82281    4.711986  ]\n",
      " [1.4744719  2.0403037  1.2296597  ... 1.5699573  3.8414671  2.897047  ]\n",
      " [1.7556984  1.7511095  0.99127376 ... 1.6585903  3.2053998  3.0501995 ]\n",
      " ...\n",
      " [2.0680919  1.9663638  1.158796   ... 1.61166    2.7407026  2.3430755 ]\n",
      " [1.540202   1.8433292  1.1581509  ... 1.6455498  3.8902552  2.882192  ]\n",
      " [1.5371885  2.0420034  1.0304149  ... 1.2799362  3.8262975  3.0754836 ]]\n"
     ]
    },
    {
     "name": "stderr",
     "output_type": "stream",
     "text": [
      "2023-05-25 20:01:58.776067: I tensorflow/core/platform/cpu_feature_guard.cc:193] This TensorFlow binary is optimized with oneAPI Deep Neural Network Library (oneDNN) to use the following CPU instructions in performance-critical operations:  SSE4.1 SSE4.2 AVX AVX2 FMA\n",
      "To enable them in other operations, rebuild TensorFlow with the appropriate compiler flags.\n",
      "2023-05-25 20:01:58.776780: I tensorflow/core/common_runtime/process_util.cc:146] Creating new thread pool with default inter op setting: 2. Tune using inter_op_parallelism_threads for best performance.\n"
     ]
    },
    {
     "name": "stdout",
     "output_type": "stream",
     "text": [
      "Extracted OpenL3 features\n",
      "[[2.2157934  1.8552748  2.3574586  ... 1.0059966  1.6597304  4.711986  ]\n",
      " [1.3438154  1.5647157  1.1551441  ... 1.097135   1.581818   3.4137845 ]\n",
      " [1.5419295  2.0780616  0.98983604 ... 1.2031975  1.6672263  3.3054895 ]\n",
      " ...\n",
      " [2.2990892  1.8740311  1.2871858  ... 1.5137328  1.9920927  2.3770373 ]\n",
      " [2.5130062  1.6255561  1.4064596  ... 1.2373213  1.8964624  2.0804489 ]\n",
      " [2.4938672  1.5951551  3.2063262  ... 0.9014653  2.0635624  6.31094   ]]\n"
     ]
    },
    {
     "name": "stderr",
     "output_type": "stream",
     "text": [
      "2023-05-25 20:02:00.709896: I tensorflow/core/platform/cpu_feature_guard.cc:193] This TensorFlow binary is optimized with oneAPI Deep Neural Network Library (oneDNN) to use the following CPU instructions in performance-critical operations:  SSE4.1 SSE4.2 AVX AVX2 FMA\n",
      "To enable them in other operations, rebuild TensorFlow with the appropriate compiler flags.\n",
      "2023-05-25 20:02:00.710549: I tensorflow/core/common_runtime/process_util.cc:146] Creating new thread pool with default inter op setting: 2. Tune using inter_op_parallelism_threads for best performance.\n"
     ]
    },
    {
     "name": "stdout",
     "output_type": "stream",
     "text": [
      "Extracted OpenL3 features\n",
      "[[2.2157934  1.8552748  2.3574586  ... 1.0059966  1.6597304  4.711986  ]\n",
      " [1.3438154  1.5647157  1.1551441  ... 1.097135   1.581818   3.4137845 ]\n",
      " [1.5419295  2.0780616  0.98983604 ... 1.2031975  1.6672263  3.3054895 ]\n",
      " ...\n",
      " [1.6452665  2.0811687  1.0367262  ... 1.511366   1.9008893  3.0923095 ]\n",
      " [2.3258338  1.8733684  1.3222457  ... 1.4976723  2.1953099  2.3760715 ]\n",
      " [2.5070803  1.6607821  1.420925   ... 1.2167058  1.9815147  2.2934632 ]]\n"
     ]
    },
    {
     "name": "stderr",
     "output_type": "stream",
     "text": [
      "2023-05-25 20:02:03.374191: I tensorflow/core/platform/cpu_feature_guard.cc:193] This TensorFlow binary is optimized with oneAPI Deep Neural Network Library (oneDNN) to use the following CPU instructions in performance-critical operations:  SSE4.1 SSE4.2 AVX AVX2 FMA\n",
      "To enable them in other operations, rebuild TensorFlow with the appropriate compiler flags.\n",
      "2023-05-25 20:02:03.374921: I tensorflow/core/common_runtime/process_util.cc:146] Creating new thread pool with default inter op setting: 2. Tune using inter_op_parallelism_threads for best performance.\n"
     ]
    },
    {
     "name": "stdout",
     "output_type": "stream",
     "text": [
      "Extracted OpenL3 features\n",
      "[[2.2157934  1.8552748  2.3574586  ... 1.0059966  1.6597304  4.711986  ]\n",
      " [1.3438154  1.5647157  1.1551441  ... 1.097135   1.581818   3.4137845 ]\n",
      " [1.5419295  2.0780616  0.98983604 ... 1.2031975  1.6672263  3.3054895 ]\n",
      " ...\n",
      " [2.4184163  1.5570575  1.5060258  ... 0.94790655 2.6430213  3.2273982 ]\n",
      " [1.6508744  2.0868742  1.1892511  ... 1.1997861  1.8764383  3.4016924 ]\n",
      " [1.9853752  2.0909066  0.9746231  ... 1.5384026  1.8165976  2.7016897 ]]\n"
     ]
    },
    {
     "name": "stderr",
     "output_type": "stream",
     "text": [
      "2023-05-25 20:02:07.260614: I tensorflow/core/platform/cpu_feature_guard.cc:193] This TensorFlow binary is optimized with oneAPI Deep Neural Network Library (oneDNN) to use the following CPU instructions in performance-critical operations:  SSE4.1 SSE4.2 AVX AVX2 FMA\n",
      "To enable them in other operations, rebuild TensorFlow with the appropriate compiler flags.\n",
      "2023-05-25 20:02:07.261340: I tensorflow/core/common_runtime/process_util.cc:146] Creating new thread pool with default inter op setting: 2. Tune using inter_op_parallelism_threads for best performance.\n"
     ]
    },
    {
     "name": "stdout",
     "output_type": "stream",
     "text": [
      "Extracted OpenL3 features\n",
      "[[2.2157934 1.5569036 2.3574586 ... 1.3603741 3.1554258 4.711986 ]\n",
      " [1.5658855 1.6948767 2.7780323 ... 1.7916772 3.734205  2.4895935]\n",
      " [1.5566217 1.3803892 2.5349941 ... 1.5374292 3.1487794 2.5585985]\n",
      " ...\n",
      " [1.6332026 1.392002  1.4689806 ... 1.2888042 3.2887723 2.4049234]\n",
      " [1.2463064 1.167148  1.5125118 ... 1.2626727 3.2725594 2.3129146]\n",
      " [1.8949546 1.2422293 2.76677   ... 1.1359675 2.354987  5.872306 ]]\n"
     ]
    },
    {
     "name": "stderr",
     "output_type": "stream",
     "text": [
      "2023-05-25 20:02:09.294779: I tensorflow/core/platform/cpu_feature_guard.cc:193] This TensorFlow binary is optimized with oneAPI Deep Neural Network Library (oneDNN) to use the following CPU instructions in performance-critical operations:  SSE4.1 SSE4.2 AVX AVX2 FMA\n",
      "To enable them in other operations, rebuild TensorFlow with the appropriate compiler flags.\n",
      "2023-05-25 20:02:09.295492: I tensorflow/core/common_runtime/process_util.cc:146] Creating new thread pool with default inter op setting: 2. Tune using inter_op_parallelism_threads for best performance.\n"
     ]
    },
    {
     "name": "stdout",
     "output_type": "stream",
     "text": [
      "Extracted OpenL3 features\n",
      "[[2.2157934 1.5569036 2.3574586 ... 1.3603741 3.1554258 4.711986 ]\n",
      " [1.5658855 1.6948767 2.7780323 ... 1.7916772 3.734205  2.4895935]\n",
      " [1.5566217 1.3803892 2.5349941 ... 1.5374292 3.1487794 2.5585985]\n",
      " ...\n",
      " [1.1703947 1.6424965 1.1622564 ... 1.8996694 3.6360674 2.829568 ]\n",
      " [1.5414481 1.3981667 1.9777948 ... 1.8746064 2.6161132 2.7773774]\n",
      " [1.5574054 1.4109573 2.1394715 ... 1.8444984 3.3367467 2.3780017]]\n"
     ]
    },
    {
     "name": "stderr",
     "output_type": "stream",
     "text": [
      "2023-05-25 20:02:11.938722: I tensorflow/core/platform/cpu_feature_guard.cc:193] This TensorFlow binary is optimized with oneAPI Deep Neural Network Library (oneDNN) to use the following CPU instructions in performance-critical operations:  SSE4.1 SSE4.2 AVX AVX2 FMA\n",
      "To enable them in other operations, rebuild TensorFlow with the appropriate compiler flags.\n",
      "2023-05-25 20:02:11.939451: I tensorflow/core/common_runtime/process_util.cc:146] Creating new thread pool with default inter op setting: 2. Tune using inter_op_parallelism_threads for best performance.\n"
     ]
    },
    {
     "name": "stdout",
     "output_type": "stream",
     "text": [
      "Extracted OpenL3 features\n",
      "[[2.2157934 1.5569036 2.3574586 ... 1.3603741 3.1554258 4.711986 ]\n",
      " [1.5658855 1.6948767 2.7780323 ... 1.7916772 3.734205  2.4895935]\n",
      " [1.5566217 1.3803892 2.5349941 ... 1.5374292 3.1487794 2.5585985]\n",
      " ...\n",
      " [1.4040426 1.8585898 1.2048697 ... 1.984085  3.6812885 2.7985473]\n",
      " [1.4575418 1.2971531 1.3800108 ... 1.9564604 3.0652025 2.9103513]\n",
      " [1.5566258 1.4099252 2.2950237 ... 1.819217  3.4530096 2.3194811]]\n"
     ]
    },
    {
     "name": "stderr",
     "output_type": "stream",
     "text": [
      "2023-05-25 20:02:16.066523: I tensorflow/core/platform/cpu_feature_guard.cc:193] This TensorFlow binary is optimized with oneAPI Deep Neural Network Library (oneDNN) to use the following CPU instructions in performance-critical operations:  SSE4.1 SSE4.2 AVX AVX2 FMA\n",
      "To enable them in other operations, rebuild TensorFlow with the appropriate compiler flags.\n",
      "2023-05-25 20:02:16.067211: I tensorflow/core/common_runtime/process_util.cc:146] Creating new thread pool with default inter op setting: 2. Tune using inter_op_parallelism_threads for best performance.\n"
     ]
    },
    {
     "name": "stdout",
     "output_type": "stream",
     "text": [
      "Extracted OpenL3 features\n",
      "[[2.2157934 1.4532866 2.3574586 ... 1.4932828 2.285109  4.711986 ]\n",
      " [1.816531  1.7629106 1.6284273 ... 2.3070009 2.23114   2.2389705]\n",
      " [2.0788026 1.8059438 1.5099477 ... 1.5015558 2.4021704 2.6780443]\n",
      " ...\n",
      " [1.4850215 1.7780559 1.7215079 ... 2.409047  2.713161  2.7250705]\n",
      " [1.3715758 1.5449862 1.5766948 ... 2.4464865 2.5130515 2.8299682]\n",
      " [2.2005498 2.0173714 3.1014917 ... 2.0982075 1.651942  6.1630707]]\n"
     ]
    },
    {
     "name": "stderr",
     "output_type": "stream",
     "text": [
      "2023-05-25 20:02:18.125648: I tensorflow/core/platform/cpu_feature_guard.cc:193] This TensorFlow binary is optimized with oneAPI Deep Neural Network Library (oneDNN) to use the following CPU instructions in performance-critical operations:  SSE4.1 SSE4.2 AVX AVX2 FMA\n",
      "To enable them in other operations, rebuild TensorFlow with the appropriate compiler flags.\n",
      "2023-05-25 20:02:18.126577: I tensorflow/core/common_runtime/process_util.cc:146] Creating new thread pool with default inter op setting: 2. Tune using inter_op_parallelism_threads for best performance.\n"
     ]
    },
    {
     "name": "stdout",
     "output_type": "stream",
     "text": [
      "Extracted OpenL3 features\n",
      "[[2.2157934 1.4532866 2.3574586 ... 1.4932828 2.285109  4.711986 ]\n",
      " [1.816531  1.7629106 1.6284273 ... 2.3070009 2.23114   2.2389705]\n",
      " [2.0788026 1.8059438 1.5099477 ... 1.5015558 2.4021704 2.6780443]\n",
      " ...\n",
      " [1.754059  1.7987008 1.4406085 ... 2.3293474 2.2595088 2.3331435]\n",
      " [1.8535947 1.8232254 1.6114982 ... 2.271325  1.6482426 2.6625457]\n",
      " [1.7823855 1.8180932 1.7543298 ... 2.326916  2.2655292 2.673024 ]]\n"
     ]
    },
    {
     "name": "stderr",
     "output_type": "stream",
     "text": [
      "2023-05-25 20:02:20.831502: I tensorflow/core/platform/cpu_feature_guard.cc:193] This TensorFlow binary is optimized with oneAPI Deep Neural Network Library (oneDNN) to use the following CPU instructions in performance-critical operations:  SSE4.1 SSE4.2 AVX AVX2 FMA\n",
      "To enable them in other operations, rebuild TensorFlow with the appropriate compiler flags.\n",
      "2023-05-25 20:02:20.832417: I tensorflow/core/common_runtime/process_util.cc:146] Creating new thread pool with default inter op setting: 2. Tune using inter_op_parallelism_threads for best performance.\n"
     ]
    },
    {
     "name": "stdout",
     "output_type": "stream",
     "text": [
      "Extracted OpenL3 features\n",
      "[[2.2157934 1.4532866 2.3574586 ... 1.4932828 2.285109  4.711986 ]\n",
      " [1.816531  1.7629106 1.6284273 ... 2.3070009 2.23114   2.2389705]\n",
      " [2.0788026 1.8059438 1.5099477 ... 1.5015558 2.4021704 2.6780443]\n",
      " ...\n",
      " [1.1565245 1.8767217 1.2178055 ... 1.531911  1.9435639 1.9011775]\n",
      " [1.5353934 2.0627465 1.5009359 ... 1.5004307 2.051173  2.092389 ]\n",
      " [1.8156936 1.9487851 1.5622392 ... 1.2693652 1.866786  2.1472313]]\n"
     ]
    },
    {
     "name": "stderr",
     "output_type": "stream",
     "text": [
      "2023-05-25 20:02:24.967518: I tensorflow/core/platform/cpu_feature_guard.cc:193] This TensorFlow binary is optimized with oneAPI Deep Neural Network Library (oneDNN) to use the following CPU instructions in performance-critical operations:  SSE4.1 SSE4.2 AVX AVX2 FMA\n",
      "To enable them in other operations, rebuild TensorFlow with the appropriate compiler flags.\n",
      "2023-05-25 20:02:24.968344: I tensorflow/core/common_runtime/process_util.cc:146] Creating new thread pool with default inter op setting: 2. Tune using inter_op_parallelism_threads for best performance.\n"
     ]
    },
    {
     "name": "stdout",
     "output_type": "stream",
     "text": [
      "Extracted OpenL3 features\n",
      "[[2.2157934 1.670205  2.3574586 ... 1.4395746 2.3442864 4.711986 ]\n",
      " [1.7205912 1.659122  2.1353052 ... 1.6518705 2.6921506 3.5382879]\n",
      " [2.0114286 1.7451559 2.5267317 ... 1.6172327 2.6074524 3.9973705]\n",
      " ...\n",
      " [1.5900238 1.8757837 1.2410816 ... 1.530438  2.9027524 3.266216 ]\n",
      " [1.3663799 1.753965  1.5674666 ... 1.8788854 2.7638483 3.3363888]\n",
      " [2.2901773 1.8943186 3.139971  ... 2.1113644 2.632618  6.418602 ]]\n"
     ]
    },
    {
     "name": "stderr",
     "output_type": "stream",
     "text": [
      "2023-05-25 20:02:26.962907: I tensorflow/core/platform/cpu_feature_guard.cc:193] This TensorFlow binary is optimized with oneAPI Deep Neural Network Library (oneDNN) to use the following CPU instructions in performance-critical operations:  SSE4.1 SSE4.2 AVX AVX2 FMA\n",
      "To enable them in other operations, rebuild TensorFlow with the appropriate compiler flags.\n",
      "2023-05-25 20:02:26.963619: I tensorflow/core/common_runtime/process_util.cc:146] Creating new thread pool with default inter op setting: 2. Tune using inter_op_parallelism_threads for best performance.\n"
     ]
    },
    {
     "name": "stdout",
     "output_type": "stream",
     "text": [
      "Extracted OpenL3 features\n",
      "[[2.2157934 1.670205  2.3574586 ... 1.4395746 2.3442864 4.711986 ]\n",
      " [1.7205912 1.659122  2.1353052 ... 1.6518705 2.6921506 3.5382879]\n",
      " [2.0114286 1.7451559 2.5267317 ... 1.6172327 2.6074524 3.9973705]\n",
      " ...\n",
      " [1.6745957 1.9057084 1.9461875 ... 1.2718838 3.2159953 2.532711 ]\n",
      " [1.7955992 1.6889608 1.4963462 ... 1.3966993 3.353364  3.0499432]\n",
      " [1.6495835 1.9328561 1.1770813 ... 1.089084  3.7218075 3.0334353]]\n"
     ]
    },
    {
     "name": "stderr",
     "output_type": "stream",
     "text": [
      "2023-05-25 20:02:29.609148: I tensorflow/core/platform/cpu_feature_guard.cc:193] This TensorFlow binary is optimized with oneAPI Deep Neural Network Library (oneDNN) to use the following CPU instructions in performance-critical operations:  SSE4.1 SSE4.2 AVX AVX2 FMA\n",
      "To enable them in other operations, rebuild TensorFlow with the appropriate compiler flags.\n",
      "2023-05-25 20:02:29.609989: I tensorflow/core/common_runtime/process_util.cc:146] Creating new thread pool with default inter op setting: 2. Tune using inter_op_parallelism_threads for best performance.\n"
     ]
    },
    {
     "name": "stdout",
     "output_type": "stream",
     "text": [
      "Extracted OpenL3 features\n",
      "[[2.2157934 1.670205  2.3574586 ... 1.4395746 2.3442864 4.711986 ]\n",
      " [1.7205912 1.659122  2.1353052 ... 1.6518705 2.6921506 3.5382879]\n",
      " [2.0114286 1.7451559 2.5267317 ... 1.6172327 2.6074524 3.9973705]\n",
      " ...\n",
      " [1.2025464 1.7915266 1.4848982 ... 1.5455616 3.6574485 3.1891458]\n",
      " [1.6722188 1.8837363 2.8643138 ... 2.0567784 3.7654696 3.234812 ]\n",
      " [1.5506753 1.9009515 2.8023093 ... 1.9675115 2.8970544 2.6441534]]\n"
     ]
    },
    {
     "name": "stderr",
     "output_type": "stream",
     "text": [
      "2023-05-25 20:02:33.809384: I tensorflow/core/platform/cpu_feature_guard.cc:193] This TensorFlow binary is optimized with oneAPI Deep Neural Network Library (oneDNN) to use the following CPU instructions in performance-critical operations:  SSE4.1 SSE4.2 AVX AVX2 FMA\n",
      "To enable them in other operations, rebuild TensorFlow with the appropriate compiler flags.\n",
      "2023-05-25 20:02:33.810087: I tensorflow/core/common_runtime/process_util.cc:146] Creating new thread pool with default inter op setting: 2. Tune using inter_op_parallelism_threads for best performance.\n"
     ]
    },
    {
     "name": "stdout",
     "output_type": "stream",
     "text": [
      "Extracted OpenL3 features\n",
      "[[2.2157934  1.6497009  2.6617277  ... 2.2068317  2.093345   4.711986  ]\n",
      " [0.85549027 1.6877564  2.3575103  ... 2.29177    2.277871   3.1294594 ]\n",
      " [0.8854743  1.7093439  2.2312288  ... 1.1625113  3.6204147  3.335265  ]\n",
      " ...\n",
      " [0.9826302  1.6902853  2.1056328  ... 1.222934   3.7385066  2.8009467 ]\n",
      " [1.272826   1.75576    2.4878175  ... 1.6938843  4.096566   2.8310642 ]\n",
      " [2.2903807  1.833718   3.0457466  ... 1.7307708  3.431896   6.3160925 ]]\n"
     ]
    },
    {
     "name": "stderr",
     "output_type": "stream",
     "text": [
      "2023-05-25 20:02:35.939914: I tensorflow/core/platform/cpu_feature_guard.cc:193] This TensorFlow binary is optimized with oneAPI Deep Neural Network Library (oneDNN) to use the following CPU instructions in performance-critical operations:  SSE4.1 SSE4.2 AVX AVX2 FMA\n",
      "To enable them in other operations, rebuild TensorFlow with the appropriate compiler flags.\n",
      "2023-05-25 20:02:35.940923: I tensorflow/core/common_runtime/process_util.cc:146] Creating new thread pool with default inter op setting: 2. Tune using inter_op_parallelism_threads for best performance.\n"
     ]
    },
    {
     "name": "stdout",
     "output_type": "stream",
     "text": [
      "Extracted OpenL3 features\n",
      "[[2.2157934  1.6497009  2.6617277  ... 2.2068317  2.093345   4.711986  ]\n",
      " [0.85549027 1.6877564  2.3575103  ... 2.29177    2.277871   3.1294594 ]\n",
      " [0.8854743  1.7093439  2.2312288  ... 1.1625113  3.6204147  3.335265  ]\n",
      " ...\n",
      " [1.5911709  1.9261912  2.1180017  ... 1.2917131  4.131487   3.5955412 ]\n",
      " [1.4122698  1.7228084  2.25206    ... 2.2129676  4.1305084  3.3449879 ]\n",
      " [1.3999319  1.742759   2.3655064  ... 2.2617724  2.0351481  2.9919472 ]]\n"
     ]
    },
    {
     "name": "stderr",
     "output_type": "stream",
     "text": [
      "2023-05-25 20:02:38.652277: I tensorflow/core/platform/cpu_feature_guard.cc:193] This TensorFlow binary is optimized with oneAPI Deep Neural Network Library (oneDNN) to use the following CPU instructions in performance-critical operations:  SSE4.1 SSE4.2 AVX AVX2 FMA\n",
      "To enable them in other operations, rebuild TensorFlow with the appropriate compiler flags.\n",
      "2023-05-25 20:02:38.652905: I tensorflow/core/common_runtime/process_util.cc:146] Creating new thread pool with default inter op setting: 2. Tune using inter_op_parallelism_threads for best performance.\n"
     ]
    },
    {
     "name": "stdout",
     "output_type": "stream",
     "text": [
      "Extracted OpenL3 features\n",
      "[[2.2157934  1.6497009  2.6617277  ... 2.2068317  2.093345   4.711986  ]\n",
      " [0.85549027 1.6877564  2.3575103  ... 2.29177    2.277871   3.1294594 ]\n",
      " [0.8854743  1.7093439  2.2312288  ... 1.1625113  3.6204147  3.335265  ]\n",
      " ...\n",
      " [0.8434434  1.7018278  2.197699   ... 2.141643   1.9201376  3.071366  ]\n",
      " [0.86445975 1.6930238  2.1949794  ... 1.2001805  3.560408   2.7092621 ]\n",
      " [1.1204836  1.7753918  2.5937068  ... 1.5060397  3.8656118  2.8685017 ]]\n"
     ]
    },
    {
     "name": "stderr",
     "output_type": "stream",
     "text": [
      "2023-05-25 20:02:43.038788: I tensorflow/core/platform/cpu_feature_guard.cc:193] This TensorFlow binary is optimized with oneAPI Deep Neural Network Library (oneDNN) to use the following CPU instructions in performance-critical operations:  SSE4.1 SSE4.2 AVX AVX2 FMA\n",
      "To enable them in other operations, rebuild TensorFlow with the appropriate compiler flags.\n",
      "2023-05-25 20:02:43.039618: I tensorflow/core/common_runtime/process_util.cc:146] Creating new thread pool with default inter op setting: 2. Tune using inter_op_parallelism_threads for best performance.\n"
     ]
    },
    {
     "name": "stdout",
     "output_type": "stream",
     "text": [
      "Extracted OpenL3 features\n",
      "[[2.2157934  1.5022827  3.446421   ... 1.7755558  2.4377043  4.711986  ]\n",
      " [1.1155047  1.8877331  3.1831696  ... 1.8875377  2.690814   2.4762306 ]\n",
      " [0.71939915 1.8856311  3.5926845  ... 2.2130802  2.1881917  2.557474  ]\n",
      " ...\n",
      " [1.0578458  1.6690749  2.8369656  ... 2.2753406  2.0591688  2.6143298 ]\n",
      " [1.0778638  2.3596857  2.5559623  ... 2.4673693  2.1346638  2.979512  ]\n",
      " [2.160375   2.3081129  3.1786911  ... 2.700155   1.9831896  6.2553844 ]]\n"
     ]
    },
    {
     "name": "stderr",
     "output_type": "stream",
     "text": [
      "2023-05-25 20:02:45.001757: I tensorflow/core/platform/cpu_feature_guard.cc:193] This TensorFlow binary is optimized with oneAPI Deep Neural Network Library (oneDNN) to use the following CPU instructions in performance-critical operations:  SSE4.1 SSE4.2 AVX AVX2 FMA\n",
      "To enable them in other operations, rebuild TensorFlow with the appropriate compiler flags.\n",
      "2023-05-25 20:02:45.002752: I tensorflow/core/common_runtime/process_util.cc:146] Creating new thread pool with default inter op setting: 2. Tune using inter_op_parallelism_threads for best performance.\n"
     ]
    },
    {
     "name": "stdout",
     "output_type": "stream",
     "text": [
      "Extracted OpenL3 features\n",
      "[[2.2157934  1.5022827  3.446421   ... 1.7755558  2.4377043  4.711986  ]\n",
      " [1.1155047  1.8877331  3.1831696  ... 1.8875377  2.690814   2.4762306 ]\n",
      " [0.71939915 1.8856311  3.5926845  ... 2.2130802  2.1881917  2.557474  ]\n",
      " ...\n",
      " [1.1154088  1.8956594  3.1762407  ... 1.9122269  2.6543422  2.4322653 ]\n",
      " [0.81757647 1.8842933  3.6636524  ... 2.272511   2.3291814  2.5483742 ]\n",
      " [0.9993806  1.4650375  3.6274574  ... 2.1659544  3.1940098  2.562913  ]]\n"
     ]
    },
    {
     "name": "stderr",
     "output_type": "stream",
     "text": [
      "2023-05-25 20:02:47.416340: I tensorflow/core/platform/cpu_feature_guard.cc:193] This TensorFlow binary is optimized with oneAPI Deep Neural Network Library (oneDNN) to use the following CPU instructions in performance-critical operations:  SSE4.1 SSE4.2 AVX AVX2 FMA\n",
      "To enable them in other operations, rebuild TensorFlow with the appropriate compiler flags.\n",
      "2023-05-25 20:02:47.417110: I tensorflow/core/common_runtime/process_util.cc:146] Creating new thread pool with default inter op setting: 2. Tune using inter_op_parallelism_threads for best performance.\n"
     ]
    },
    {
     "name": "stdout",
     "output_type": "stream",
     "text": [
      "Extracted OpenL3 features\n",
      "[[2.2157934  1.5022827  3.446421   ... 1.7755558  2.4377043  4.711986  ]\n",
      " [1.1155047  1.8877331  3.1831696  ... 1.8875377  2.690814   2.4762306 ]\n",
      " [0.71939915 1.8856311  3.5926845  ... 2.2130802  2.1881917  2.557474  ]\n",
      " ...\n",
      " [0.613585   1.3858314  3.0622516  ... 1.607097   1.5630399  2.3708258 ]\n",
      " [0.40518445 1.5294648  3.0694945  ... 1.8086574  2.0454302  2.1136436 ]\n",
      " [1.1089098  1.6505855  1.9243581  ... 2.3220344  2.5887895  2.643721  ]]\n"
     ]
    },
    {
     "name": "stderr",
     "output_type": "stream",
     "text": [
      "2023-05-25 20:02:52.096728: I tensorflow/core/platform/cpu_feature_guard.cc:193] This TensorFlow binary is optimized with oneAPI Deep Neural Network Library (oneDNN) to use the following CPU instructions in performance-critical operations:  SSE4.1 SSE4.2 AVX AVX2 FMA\n",
      "To enable them in other operations, rebuild TensorFlow with the appropriate compiler flags.\n",
      "2023-05-25 20:02:52.097456: I tensorflow/core/common_runtime/process_util.cc:146] Creating new thread pool with default inter op setting: 2. Tune using inter_op_parallelism_threads for best performance.\n"
     ]
    },
    {
     "name": "stdout",
     "output_type": "stream",
     "text": [
      "Extracted OpenL3 features\n",
      "[[2.2157934 1.9883105 2.3574586 ... 1.705689  1.838651  4.711986 ]\n",
      " [0.9608642 1.9981791 1.4471025 ... 1.8659686 1.8633379 3.0550401]\n",
      " [1.4001163 1.8999481 1.1876073 ... 1.1534162 2.13799   3.2669613]\n",
      " ...\n",
      " [1.0432585 1.9387647 1.2058232 ... 1.5114173 1.898589  3.3180373]\n",
      " [1.4096849 2.0587597 1.2803421 ... 1.5533845 2.1921847 3.159495 ]\n",
      " [2.1610243 2.060948  3.0464363 ... 1.4419309 2.033104  6.2321095]]\n"
     ]
    },
    {
     "name": "stderr",
     "output_type": "stream",
     "text": [
      "2023-05-25 20:02:54.116392: I tensorflow/core/platform/cpu_feature_guard.cc:193] This TensorFlow binary is optimized with oneAPI Deep Neural Network Library (oneDNN) to use the following CPU instructions in performance-critical operations:  SSE4.1 SSE4.2 AVX AVX2 FMA\n",
      "To enable them in other operations, rebuild TensorFlow with the appropriate compiler flags.\n",
      "2023-05-25 20:02:54.117224: I tensorflow/core/common_runtime/process_util.cc:146] Creating new thread pool with default inter op setting: 2. Tune using inter_op_parallelism_threads for best performance.\n"
     ]
    },
    {
     "name": "stdout",
     "output_type": "stream",
     "text": [
      "Extracted OpenL3 features\n",
      "[[2.2157934 1.9883105 2.3574586 ... 1.705689  1.838651  4.711986 ]\n",
      " [0.9608642 1.9981791 1.4471025 ... 1.8659686 1.8633379 3.0550401]\n",
      " [1.4001163 1.8999481 1.1876073 ... 1.1534162 2.13799   3.2669613]\n",
      " ...\n",
      " [1.2095501 1.8237495 1.4180274 ... 1.4139199 1.7456001 3.1705282]\n",
      " [0.9590984 1.9157089 1.1572168 ... 1.510648  1.9965034 3.207972 ]\n",
      " [1.3940058 2.0436726 1.338352  ... 1.4949816 2.27607   3.1035562]]\n"
     ]
    },
    {
     "name": "stderr",
     "output_type": "stream",
     "text": [
      "2023-05-25 20:02:56.576444: I tensorflow/core/platform/cpu_feature_guard.cc:193] This TensorFlow binary is optimized with oneAPI Deep Neural Network Library (oneDNN) to use the following CPU instructions in performance-critical operations:  SSE4.1 SSE4.2 AVX AVX2 FMA\n",
      "To enable them in other operations, rebuild TensorFlow with the appropriate compiler flags.\n",
      "2023-05-25 20:02:56.577188: I tensorflow/core/common_runtime/process_util.cc:146] Creating new thread pool with default inter op setting: 2. Tune using inter_op_parallelism_threads for best performance.\n"
     ]
    },
    {
     "name": "stdout",
     "output_type": "stream",
     "text": [
      "Extracted OpenL3 features\n",
      "[[2.2157934  1.9883105  2.3574586  ... 1.705689   1.838651   4.711986  ]\n",
      " [0.9608642  1.9981791  1.4471025  ... 1.8659686  1.8633379  3.0550401 ]\n",
      " [1.4001163  1.8999481  1.1876073  ... 1.1534162  2.13799    3.2669613 ]\n",
      " ...\n",
      " [1.149278   1.8347847  1.1409403  ... 1.2866099  2.6624184  2.9702253 ]\n",
      " [1.3057774  1.8120477  1.2169441  ... 1.4626395  1.8164833  3.142867  ]\n",
      " [0.95202875 1.910818   1.1251622  ... 1.4513047  2.2067873  3.172846  ]]\n"
     ]
    },
    {
     "name": "stderr",
     "output_type": "stream",
     "text": [
      "2023-05-25 20:03:00.595645: I tensorflow/core/platform/cpu_feature_guard.cc:193] This TensorFlow binary is optimized with oneAPI Deep Neural Network Library (oneDNN) to use the following CPU instructions in performance-critical operations:  SSE4.1 SSE4.2 AVX AVX2 FMA\n",
      "To enable them in other operations, rebuild TensorFlow with the appropriate compiler flags.\n",
      "2023-05-25 20:03:00.596706: I tensorflow/core/common_runtime/process_util.cc:146] Creating new thread pool with default inter op setting: 2. Tune using inter_op_parallelism_threads for best performance.\n"
     ]
    },
    {
     "name": "stdout",
     "output_type": "stream",
     "text": [
      "Extracted OpenL3 features\n",
      "[[2.2157934 1.5147623 2.3574586 ... 1.2280701 1.1752355 4.711986 ]\n",
      " [1.4734324 1.5950178 3.037243  ... 1.4621477 1.9307439 3.8725038]\n",
      " [1.254999  1.7716795 3.1877756 ... 2.8003044 2.0106287 3.440776 ]\n",
      " ...\n",
      " [1.3108572 1.6411912 2.5532568 ... 2.3578703 2.0737617 4.661534 ]\n",
      " [1.3041067 1.6252989 2.334599  ... 1.5483027 2.0547347 4.546001 ]\n",
      " [2.0151558 1.6153816 3.0266442 ... 1.3100588 1.8569981 6.0369062]]\n"
     ]
    },
    {
     "name": "stderr",
     "output_type": "stream",
     "text": [
      "2023-05-25 20:03:02.606744: I tensorflow/core/platform/cpu_feature_guard.cc:193] This TensorFlow binary is optimized with oneAPI Deep Neural Network Library (oneDNN) to use the following CPU instructions in performance-critical operations:  SSE4.1 SSE4.2 AVX AVX2 FMA\n",
      "To enable them in other operations, rebuild TensorFlow with the appropriate compiler flags.\n",
      "2023-05-25 20:03:02.607647: I tensorflow/core/common_runtime/process_util.cc:146] Creating new thread pool with default inter op setting: 2. Tune using inter_op_parallelism_threads for best performance.\n"
     ]
    },
    {
     "name": "stdout",
     "output_type": "stream",
     "text": [
      "Extracted OpenL3 features\n",
      "[[2.2157934 1.5147623 2.3574586 ... 1.2280701 1.1752355 4.711986 ]\n",
      " [1.4734324 1.5950178 3.037243  ... 1.4621477 1.9307439 3.8725038]\n",
      " [1.254999  1.7716795 3.1877756 ... 2.8003044 2.0106287 3.440776 ]\n",
      " ...\n",
      " [1.4261218 1.5963173 2.291509  ... 1.2820812 2.0969007 4.6263723]\n",
      " [1.3978617 1.5927433 3.1855938 ... 1.8750249 1.9124985 2.8086565]\n",
      " [1.2411968 1.7977353 3.2307274 ... 2.7907748 3.050344  3.1995404]]\n"
     ]
    },
    {
     "name": "stderr",
     "output_type": "stream",
     "text": [
      "2023-05-25 20:03:05.264515: I tensorflow/core/platform/cpu_feature_guard.cc:193] This TensorFlow binary is optimized with oneAPI Deep Neural Network Library (oneDNN) to use the following CPU instructions in performance-critical operations:  SSE4.1 SSE4.2 AVX AVX2 FMA\n",
      "To enable them in other operations, rebuild TensorFlow with the appropriate compiler flags.\n",
      "2023-05-25 20:03:05.265325: I tensorflow/core/common_runtime/process_util.cc:146] Creating new thread pool with default inter op setting: 2. Tune using inter_op_parallelism_threads for best performance.\n"
     ]
    },
    {
     "name": "stdout",
     "output_type": "stream",
     "text": [
      "Extracted OpenL3 features\n",
      "[[2.2157934 1.5147623 2.3574586 ... 1.2280701 1.1752355 4.711986 ]\n",
      " [1.4734324 1.5950178 3.037243  ... 1.4621477 1.9307439 3.8725038]\n",
      " [1.254999  1.7716795 3.1877756 ... 2.8003044 2.0106287 3.440776 ]\n",
      " ...\n",
      " [1.2548984 1.7883518 2.2535286 ... 1.8030031 3.053857  3.0803823]\n",
      " [1.2326362 1.609926  2.6351652 ... 2.3994799 3.062446  2.7185192]\n",
      " [1.0959622 1.8843628 2.6360846 ... 2.4450097 2.951192  2.6509376]]\n"
     ]
    },
    {
     "name": "stderr",
     "output_type": "stream",
     "text": [
      "2023-05-25 20:03:09.714696: I tensorflow/core/platform/cpu_feature_guard.cc:193] This TensorFlow binary is optimized with oneAPI Deep Neural Network Library (oneDNN) to use the following CPU instructions in performance-critical operations:  SSE4.1 SSE4.2 AVX AVX2 FMA\n",
      "To enable them in other operations, rebuild TensorFlow with the appropriate compiler flags.\n",
      "2023-05-25 20:03:09.715398: I tensorflow/core/common_runtime/process_util.cc:146] Creating new thread pool with default inter op setting: 2. Tune using inter_op_parallelism_threads for best performance.\n"
     ]
    },
    {
     "name": "stdout",
     "output_type": "stream",
     "text": [
      "Extracted OpenL3 features\n",
      "[[2.2157934 1.8387975 2.3574586 ... 1.0796174 3.2475605 4.711986 ]\n",
      " [1.252632  1.7937425 0.9724983 ... 1.0886893 3.725157  3.488478 ]\n",
      " [1.385793  1.8382992 1.29578   ... 0.9133096 3.732187  3.1992486]\n",
      " ...\n",
      " [1.1781483 1.7997257 1.0738466 ... 1.3323171 3.7336712 3.6815155]\n",
      " [2.1912017 1.5411532 1.1079298 ... 1.0977653 3.515969  3.6119146]\n",
      " [2.3736186 1.8970997 3.2036614 ... 1.0921024 3.833819  6.469425 ]]\n"
     ]
    },
    {
     "name": "stderr",
     "output_type": "stream",
     "text": [
      "2023-05-25 20:03:11.651640: I tensorflow/core/platform/cpu_feature_guard.cc:193] This TensorFlow binary is optimized with oneAPI Deep Neural Network Library (oneDNN) to use the following CPU instructions in performance-critical operations:  SSE4.1 SSE4.2 AVX AVX2 FMA\n",
      "To enable them in other operations, rebuild TensorFlow with the appropriate compiler flags.\n",
      "2023-05-25 20:03:11.652309: I tensorflow/core/common_runtime/process_util.cc:146] Creating new thread pool with default inter op setting: 2. Tune using inter_op_parallelism_threads for best performance.\n"
     ]
    },
    {
     "name": "stdout",
     "output_type": "stream",
     "text": [
      "Extracted OpenL3 features\n",
      "[[2.2157934  1.8387975  2.3574586  ... 1.0796174  3.2475605  4.711986  ]\n",
      " [1.252632   1.7937425  0.9724983  ... 1.0886893  3.725157   3.488478  ]\n",
      " [1.385793   1.8382992  1.29578    ... 0.9133096  3.732187   3.1992486 ]\n",
      " ...\n",
      " [1.4554112  1.9144166  1.1526017  ... 1.0193901  3.7869003  2.8344693 ]\n",
      " [1.7915282  1.7912672  1.5521362  ... 0.8202585  3.6478763  2.8489375 ]\n",
      " [1.8481601  1.7312993  1.312595   ... 0.88992816 4.4783697  2.8957562 ]]\n"
     ]
    },
    {
     "name": "stderr",
     "output_type": "stream",
     "text": [
      "2023-05-25 20:03:14.208950: I tensorflow/core/platform/cpu_feature_guard.cc:193] This TensorFlow binary is optimized with oneAPI Deep Neural Network Library (oneDNN) to use the following CPU instructions in performance-critical operations:  SSE4.1 SSE4.2 AVX AVX2 FMA\n",
      "To enable them in other operations, rebuild TensorFlow with the appropriate compiler flags.\n",
      "2023-05-25 20:03:14.209676: I tensorflow/core/common_runtime/process_util.cc:146] Creating new thread pool with default inter op setting: 2. Tune using inter_op_parallelism_threads for best performance.\n"
     ]
    },
    {
     "name": "stdout",
     "output_type": "stream",
     "text": [
      "Extracted OpenL3 features\n",
      "[[2.2157934  1.8387975  2.3574586  ... 1.0796174  3.2475605  4.711986  ]\n",
      " [1.252632   1.7937425  0.9724983  ... 1.0886893  3.725157   3.488478  ]\n",
      " [1.385793   1.8382992  1.29578    ... 0.9133096  3.732187   3.1992486 ]\n",
      " ...\n",
      " [2.2060843  1.7252384  0.99378437 ... 1.2703887  4.016193   2.8391051 ]\n",
      " [1.4574538  1.8074827  1.0661023  ... 1.3018281  3.7966883  3.7219615 ]\n",
      " [1.220896   1.8351512  1.0078344  ... 1.0847396  3.4387872  3.607056  ]]\n"
     ]
    },
    {
     "name": "stderr",
     "output_type": "stream",
     "text": [
      "2023-05-25 20:03:18.749900: I tensorflow/core/platform/cpu_feature_guard.cc:193] This TensorFlow binary is optimized with oneAPI Deep Neural Network Library (oneDNN) to use the following CPU instructions in performance-critical operations:  SSE4.1 SSE4.2 AVX AVX2 FMA\n",
      "To enable them in other operations, rebuild TensorFlow with the appropriate compiler flags.\n",
      "2023-05-25 20:03:18.750773: I tensorflow/core/common_runtime/process_util.cc:146] Creating new thread pool with default inter op setting: 2. Tune using inter_op_parallelism_threads for best performance.\n"
     ]
    },
    {
     "name": "stdout",
     "output_type": "stream",
     "text": [
      "Extracted OpenL3 features\n",
      "[[2.2157934 1.6145755 2.3574586 ... 1.243671  3.3170989 4.711986 ]\n",
      " [0.9969711 1.677158  1.3336239 ... 1.2579356 3.141798  2.8999949]\n",
      " [1.012598  1.7546265 1.2285216 ... 1.7105442 3.1851373 1.8935329]\n",
      " ...\n",
      " [1.399091  1.66507   1.1694493 ... 1.5503055 3.453257  2.5952196]\n",
      " [1.380289  1.6565878 1.3262557 ... 1.2613348 3.3093328 2.5797014]\n",
      " [1.8949546 1.7098769 2.8532393 ... 1.1870642 3.2234054 5.7794404]]\n"
     ]
    },
    {
     "name": "stderr",
     "output_type": "stream",
     "text": [
      "2023-05-25 20:03:20.799781: I tensorflow/core/platform/cpu_feature_guard.cc:193] This TensorFlow binary is optimized with oneAPI Deep Neural Network Library (oneDNN) to use the following CPU instructions in performance-critical operations:  SSE4.1 SSE4.2 AVX AVX2 FMA\n",
      "To enable them in other operations, rebuild TensorFlow with the appropriate compiler flags.\n",
      "2023-05-25 20:03:20.800460: I tensorflow/core/common_runtime/process_util.cc:146] Creating new thread pool with default inter op setting: 2. Tune using inter_op_parallelism_threads for best performance.\n"
     ]
    },
    {
     "name": "stdout",
     "output_type": "stream",
     "text": [
      "Extracted OpenL3 features\n",
      "[[2.2157934 1.6145755 2.3574586 ... 1.243671  3.3170989 4.711986 ]\n",
      " [0.9969711 1.677158  1.3336239 ... 1.2579356 3.141798  2.8999949]\n",
      " [1.012598  1.7546265 1.2285216 ... 1.7105442 3.1851373 1.8935329]\n",
      " ...\n",
      " [1.118277  1.7038722 1.337467  ... 1.2674608 3.230506  2.9578412]\n",
      " [1.0195159 1.722827  1.2382002 ... 1.722994  3.1594427 1.8940723]\n",
      " [0.8637508 1.6957332 1.1526    ... 1.713783  2.393676  2.3295925]]\n"
     ]
    },
    {
     "name": "stderr",
     "output_type": "stream",
     "text": [
      "2023-05-25 20:03:23.196248: I tensorflow/core/platform/cpu_feature_guard.cc:193] This TensorFlow binary is optimized with oneAPI Deep Neural Network Library (oneDNN) to use the following CPU instructions in performance-critical operations:  SSE4.1 SSE4.2 AVX AVX2 FMA\n",
      "To enable them in other operations, rebuild TensorFlow with the appropriate compiler flags.\n",
      "2023-05-25 20:03:23.197073: I tensorflow/core/common_runtime/process_util.cc:146] Creating new thread pool with default inter op setting: 2. Tune using inter_op_parallelism_threads for best performance.\n"
     ]
    },
    {
     "name": "stdout",
     "output_type": "stream",
     "text": [
      "Extracted OpenL3 features\n",
      "[[2.2157934 1.6145755 2.3574586 ... 1.243671  3.3170989 4.711986 ]\n",
      " [0.9969711 1.677158  1.3336239 ... 1.2579356 3.141798  2.8999949]\n",
      " [1.012598  1.7546265 1.2285216 ... 1.7105442 3.1851373 1.8935329]\n",
      " ...\n",
      " [0.6914317 1.8184748 1.1027653 ... 1.2846633 2.7034528 2.429894 ]\n",
      " [0.9607711 1.9732589 0.9553903 ... 1.1703655 3.3665102 2.388548 ]\n",
      " [1.6388566 1.9304049 1.1478926 ... 1.1855823 3.5760477 2.2373307]]\n"
     ]
    },
    {
     "name": "stderr",
     "output_type": "stream",
     "text": [
      "2023-05-25 20:03:26.897206: I tensorflow/core/platform/cpu_feature_guard.cc:193] This TensorFlow binary is optimized with oneAPI Deep Neural Network Library (oneDNN) to use the following CPU instructions in performance-critical operations:  SSE4.1 SSE4.2 AVX AVX2 FMA\n",
      "To enable them in other operations, rebuild TensorFlow with the appropriate compiler flags.\n",
      "2023-05-25 20:03:26.898066: I tensorflow/core/common_runtime/process_util.cc:146] Creating new thread pool with default inter op setting: 2. Tune using inter_op_parallelism_threads for best performance.\n"
     ]
    },
    {
     "name": "stdout",
     "output_type": "stream",
     "text": [
      "Extracted OpenL3 features\n",
      "[[2.2157934 1.6531031 2.3574586 ... 1.4395967 1.620211  4.711986 ]\n",
      " [1.2252972 1.7506553 1.6086591 ... 1.6904234 2.1625042 2.0105686]\n",
      " [1.8634073 1.6447399 2.058347  ... 1.914623  2.1721094 2.0805068]\n",
      " ...\n",
      " [0.9569568 1.8400862 1.8777937 ... 1.7577666 2.772458  3.9139335]\n",
      " [0.8581047 1.7817285 1.4969192 ... 1.7417809 3.27061   2.3992734]\n",
      " [2.0454206 1.7043734 3.0947037 ... 1.6426003 2.8464193 6.279497 ]]\n"
     ]
    },
    {
     "name": "stderr",
     "output_type": "stream",
     "text": [
      "2023-05-25 20:03:28.962596: I tensorflow/core/platform/cpu_feature_guard.cc:193] This TensorFlow binary is optimized with oneAPI Deep Neural Network Library (oneDNN) to use the following CPU instructions in performance-critical operations:  SSE4.1 SSE4.2 AVX AVX2 FMA\n",
      "To enable them in other operations, rebuild TensorFlow with the appropriate compiler flags.\n",
      "2023-05-25 20:03:28.963299: I tensorflow/core/common_runtime/process_util.cc:146] Creating new thread pool with default inter op setting: 2. Tune using inter_op_parallelism_threads for best performance.\n"
     ]
    },
    {
     "name": "stdout",
     "output_type": "stream",
     "text": [
      "Extracted OpenL3 features\n",
      "[[2.2157934  1.6531031  2.3574586  ... 1.4395967  1.620211   4.711986  ]\n",
      " [1.2252972  1.7506553  1.6086591  ... 1.6904234  2.1625042  2.0105686 ]\n",
      " [1.8634073  1.6447399  2.058347   ... 1.914623   2.1721094  2.0805068 ]\n",
      " ...\n",
      " [0.95426816 1.9054153  1.3083493  ... 1.5363382  3.6044784  2.502912  ]\n",
      " [0.9673231  1.7076557  1.5403252  ... 1.6303884  3.5197895  2.753507  ]\n",
      " [1.4982592  1.7448257  1.512921   ... 1.5964235  2.0474014  2.2253418 ]]\n"
     ]
    },
    {
     "name": "stderr",
     "output_type": "stream",
     "text": [
      "2023-05-25 20:03:31.624278: I tensorflow/core/platform/cpu_feature_guard.cc:193] This TensorFlow binary is optimized with oneAPI Deep Neural Network Library (oneDNN) to use the following CPU instructions in performance-critical operations:  SSE4.1 SSE4.2 AVX AVX2 FMA\n",
      "To enable them in other operations, rebuild TensorFlow with the appropriate compiler flags.\n",
      "2023-05-25 20:03:31.625021: I tensorflow/core/common_runtime/process_util.cc:146] Creating new thread pool with default inter op setting: 2. Tune using inter_op_parallelism_threads for best performance.\n"
     ]
    },
    {
     "name": "stdout",
     "output_type": "stream",
     "text": [
      "Extracted OpenL3 features\n",
      "[[2.2157934 1.6531031 2.3574586 ... 1.4395967 1.620211  4.711986 ]\n",
      " [1.2252972 1.7506553 1.6086591 ... 1.6904234 2.1625042 2.0105686]\n",
      " [1.8634073 1.6447399 2.058347  ... 1.914623  2.1721094 2.0805068]\n",
      " ...\n",
      " [1.2697762 1.7384201 1.4954305 ... 1.6951706 1.8336375 2.5142968]\n",
      " [1.9988314 1.6452645 1.5069436 ... 1.6970294 2.1423352 2.1396246]\n",
      " [1.8577065 1.5917593 2.391206  ... 1.9482366 2.2531238 2.597864 ]]\n"
     ]
    },
    {
     "name": "stderr",
     "output_type": "stream",
     "text": [
      "2023-05-25 20:03:35.662323: I tensorflow/core/platform/cpu_feature_guard.cc:193] This TensorFlow binary is optimized with oneAPI Deep Neural Network Library (oneDNN) to use the following CPU instructions in performance-critical operations:  SSE4.1 SSE4.2 AVX AVX2 FMA\n",
      "To enable them in other operations, rebuild TensorFlow with the appropriate compiler flags.\n",
      "2023-05-25 20:03:35.663049: I tensorflow/core/common_runtime/process_util.cc:146] Creating new thread pool with default inter op setting: 2. Tune using inter_op_parallelism_threads for best performance.\n"
     ]
    },
    {
     "name": "stdout",
     "output_type": "stream",
     "text": [
      "Extracted OpenL3 features\n",
      "[[2.2157934 1.4481606 2.3574586 ... 1.2756134 1.6581173 4.711986 ]\n",
      " [1.6776735 1.4397216 2.1866145 ... 1.2490455 1.648024  2.8709197]\n",
      " [1.444307  1.3053049 2.5329554 ... 1.4294394 2.0899527 2.7774904]\n",
      " ...\n",
      " [1.1468762 1.5606711 2.35651   ... 1.467137  2.6067967 2.8751204]\n",
      " [1.6598561 1.4243582 2.1476796 ... 1.5010026 2.436975  2.8410401]\n",
      " [1.8949546 1.3522661 2.9856503 ... 1.3169712 2.0368724 5.9909253]]\n"
     ]
    },
    {
     "name": "stderr",
     "output_type": "stream",
     "text": [
      "2023-05-25 20:03:37.696767: I tensorflow/core/platform/cpu_feature_guard.cc:193] This TensorFlow binary is optimized with oneAPI Deep Neural Network Library (oneDNN) to use the following CPU instructions in performance-critical operations:  SSE4.1 SSE4.2 AVX AVX2 FMA\n",
      "To enable them in other operations, rebuild TensorFlow with the appropriate compiler flags.\n",
      "2023-05-25 20:03:37.697680: I tensorflow/core/common_runtime/process_util.cc:146] Creating new thread pool with default inter op setting: 2. Tune using inter_op_parallelism_threads for best performance.\n"
     ]
    },
    {
     "name": "stdout",
     "output_type": "stream",
     "text": [
      "Extracted OpenL3 features\n",
      "[[2.2157934 1.4481606 2.3574586 ... 1.2756134 1.6581173 4.711986 ]\n",
      " [1.6776735 1.4397216 2.1866145 ... 1.2490455 1.648024  2.8709197]\n",
      " [1.444307  1.3053049 2.5329554 ... 1.4294394 2.0899527 2.7774904]\n",
      " ...\n",
      " [1.7120323 1.3262779 2.0154178 ... 1.5332651 2.1124885 2.8354814]\n",
      " [1.475489  1.3961364 2.5499494 ... 1.3345282 2.1244917 3.050712 ]\n",
      " [1.4819744 1.4613038 3.01368   ... 1.631599  1.9230796 3.0291727]]\n"
     ]
    },
    {
     "name": "stderr",
     "output_type": "stream",
     "text": [
      "2023-05-25 20:03:40.241865: I tensorflow/core/platform/cpu_feature_guard.cc:193] This TensorFlow binary is optimized with oneAPI Deep Neural Network Library (oneDNN) to use the following CPU instructions in performance-critical operations:  SSE4.1 SSE4.2 AVX AVX2 FMA\n",
      "To enable them in other operations, rebuild TensorFlow with the appropriate compiler flags.\n",
      "2023-05-25 20:03:40.242562: I tensorflow/core/common_runtime/process_util.cc:146] Creating new thread pool with default inter op setting: 2. Tune using inter_op_parallelism_threads for best performance.\n"
     ]
    },
    {
     "name": "stdout",
     "output_type": "stream",
     "text": [
      "Extracted OpenL3 features\n",
      "[[2.2157934 1.4481606 2.3574586 ... 1.2756134 1.6581173 4.711986 ]\n",
      " [1.6776735 1.4397216 2.1866145 ... 1.2490455 1.648024  2.8709197]\n",
      " [1.444307  1.3053049 2.5329554 ... 1.4294394 2.0899527 2.7774904]\n",
      " ...\n",
      " [1.5831444 1.736476  2.828405  ... 1.3159087 1.9832206 2.821502 ]\n",
      " [1.5274742 1.752438  2.201248  ... 1.3746297 2.7749074 2.8886335]\n",
      " [1.5315688 1.4611084 1.8936443 ... 1.9897882 2.7618449 2.898434 ]]\n"
     ]
    },
    {
     "name": "stderr",
     "output_type": "stream",
     "text": [
      "2023-05-25 20:03:44.044173: I tensorflow/core/platform/cpu_feature_guard.cc:193] This TensorFlow binary is optimized with oneAPI Deep Neural Network Library (oneDNN) to use the following CPU instructions in performance-critical operations:  SSE4.1 SSE4.2 AVX AVX2 FMA\n",
      "To enable them in other operations, rebuild TensorFlow with the appropriate compiler flags.\n",
      "2023-05-25 20:03:44.044960: I tensorflow/core/common_runtime/process_util.cc:146] Creating new thread pool with default inter op setting: 2. Tune using inter_op_parallelism_threads for best performance.\n"
     ]
    },
    {
     "name": "stdout",
     "output_type": "stream",
     "text": [
      "Extracted OpenL3 features\n",
      "[[2.2157934  1.1371076  2.3574586  ... 0.99594325 2.6859298  4.711986  ]\n",
      " [2.300019   1.8082956  1.5108619  ... 1.036511   3.463985   3.1642327 ]\n",
      " [2.4735467  2.3383217  0.95701265 ... 1.7934004  4.0220623  2.873426  ]\n",
      " ...\n",
      " [1.9003587  2.3466754  1.125449   ... 1.9001948  3.2082245  2.3501053 ]\n",
      " [2.368125   1.9207084  1.0919397  ... 1.2522137  3.2365072  2.2199838 ]\n",
      " [2.2759683  1.6007979  3.1806211  ... 1.3396277  2.4819686  6.3992853 ]]\n"
     ]
    },
    {
     "name": "stderr",
     "output_type": "stream",
     "text": [
      "2023-05-25 20:03:45.973853: I tensorflow/core/platform/cpu_feature_guard.cc:193] This TensorFlow binary is optimized with oneAPI Deep Neural Network Library (oneDNN) to use the following CPU instructions in performance-critical operations:  SSE4.1 SSE4.2 AVX AVX2 FMA\n",
      "To enable them in other operations, rebuild TensorFlow with the appropriate compiler flags.\n",
      "2023-05-25 20:03:45.974746: I tensorflow/core/common_runtime/process_util.cc:146] Creating new thread pool with default inter op setting: 2. Tune using inter_op_parallelism_threads for best performance.\n"
     ]
    },
    {
     "name": "stdout",
     "output_type": "stream",
     "text": [
      "Extracted OpenL3 features\n",
      "[[2.2157934  1.1371076  2.3574586  ... 0.99594325 2.6859298  4.711986  ]\n",
      " [2.300019   1.8082956  1.5108619  ... 1.036511   3.463985   3.1642327 ]\n",
      " [2.4735467  2.3383217  0.95701265 ... 1.7934004  4.0220623  2.873426  ]\n",
      " ...\n",
      " [2.3925445  2.1045034  1.0818825  ... 1.8117142  3.8287232  2.8089764 ]\n",
      " [2.3932548  2.3581507  1.0202534  ... 1.8610198  3.9071195  2.7934556 ]\n",
      " [2.5445201  1.9691612  1.1192416  ... 1.0064865  3.115033   2.6063144 ]]\n"
     ]
    },
    {
     "name": "stderr",
     "output_type": "stream",
     "text": [
      "2023-05-25 20:03:48.494673: I tensorflow/core/platform/cpu_feature_guard.cc:193] This TensorFlow binary is optimized with oneAPI Deep Neural Network Library (oneDNN) to use the following CPU instructions in performance-critical operations:  SSE4.1 SSE4.2 AVX AVX2 FMA\n",
      "To enable them in other operations, rebuild TensorFlow with the appropriate compiler flags.\n",
      "2023-05-25 20:03:48.495373: I tensorflow/core/common_runtime/process_util.cc:146] Creating new thread pool with default inter op setting: 2. Tune using inter_op_parallelism_threads for best performance.\n"
     ]
    },
    {
     "name": "stdout",
     "output_type": "stream",
     "text": [
      "Extracted OpenL3 features\n",
      "[[2.2157934  1.1371076  2.3574586  ... 0.99594325 2.6859298  4.711986  ]\n",
      " [2.300019   1.8082956  1.5108619  ... 1.036511   3.463985   3.1642327 ]\n",
      " [2.4735467  2.3383217  0.95701265 ... 1.7934004  4.0220623  2.873426  ]\n",
      " ...\n",
      " [1.8105793  1.799836   1.6269121  ... 1.1173308  2.9922435  2.3017943 ]\n",
      " [0.924912   1.6393607  1.6320281  ... 1.0401497  3.364049   2.396707  ]\n",
      " [2.4021783  1.9118587  1.0417604  ... 1.1931058  3.8470526  2.8134415 ]]\n"
     ]
    },
    {
     "name": "stderr",
     "output_type": "stream",
     "text": [
      "2023-05-25 20:03:53.101406: I tensorflow/core/platform/cpu_feature_guard.cc:193] This TensorFlow binary is optimized with oneAPI Deep Neural Network Library (oneDNN) to use the following CPU instructions in performance-critical operations:  SSE4.1 SSE4.2 AVX AVX2 FMA\n",
      "To enable them in other operations, rebuild TensorFlow with the appropriate compiler flags.\n",
      "2023-05-25 20:03:53.102173: I tensorflow/core/common_runtime/process_util.cc:146] Creating new thread pool with default inter op setting: 2. Tune using inter_op_parallelism_threads for best performance.\n"
     ]
    },
    {
     "name": "stdout",
     "output_type": "stream",
     "text": [
      "Extracted OpenL3 features\n",
      "[[2.2157934  1.5237598  2.9928207  ... 1.6894926  1.8666078  4.711986  ]\n",
      " [1.2207314  1.7948426  2.1285746  ... 2.173455   1.7593364  2.0883882 ]\n",
      " [0.94436145 1.6546993  2.4074247  ... 1.9835298  1.7331797  2.1446378 ]\n",
      " ...\n",
      " [1.4204154  1.5603548  2.8884482  ... 1.5803419  1.651378   2.1480114 ]\n",
      " [1.6876957  1.7113588  2.0538185  ... 1.5867804  1.6502241  2.152233  ]\n",
      " [2.565797   1.6962581  3.1176891  ... 1.5574013  1.4583129  6.300952  ]]\n"
     ]
    },
    {
     "name": "stderr",
     "output_type": "stream",
     "text": [
      "2023-05-25 20:03:55.203001: I tensorflow/core/platform/cpu_feature_guard.cc:193] This TensorFlow binary is optimized with oneAPI Deep Neural Network Library (oneDNN) to use the following CPU instructions in performance-critical operations:  SSE4.1 SSE4.2 AVX AVX2 FMA\n",
      "To enable them in other operations, rebuild TensorFlow with the appropriate compiler flags.\n",
      "2023-05-25 20:03:55.203725: I tensorflow/core/common_runtime/process_util.cc:146] Creating new thread pool with default inter op setting: 2. Tune using inter_op_parallelism_threads for best performance.\n"
     ]
    },
    {
     "name": "stdout",
     "output_type": "stream",
     "text": [
      "Extracted OpenL3 features\n",
      "[[2.2157934  1.5237598  2.9928207  ... 1.6894926  1.8666078  4.711986  ]\n",
      " [1.2207314  1.7948426  2.1285746  ... 2.173455   1.7593364  2.0883882 ]\n",
      " [0.94436145 1.6546993  2.4074247  ... 1.9835298  1.7331797  2.1446378 ]\n",
      " ...\n",
      " [2.633753   1.895158   2.9105165  ... 2.4351988  1.6429638  1.9230952 ]\n",
      " [2.0057824  1.8927735  2.2459903  ... 2.0826974  1.7686508  1.9346848 ]\n",
      " [1.8521177  1.9128995  2.4756014  ... 2.344956   1.6147223  1.8755039 ]]\n"
     ]
    },
    {
     "name": "stderr",
     "output_type": "stream",
     "text": [
      "2023-05-25 20:03:57.930385: I tensorflow/core/platform/cpu_feature_guard.cc:193] This TensorFlow binary is optimized with oneAPI Deep Neural Network Library (oneDNN) to use the following CPU instructions in performance-critical operations:  SSE4.1 SSE4.2 AVX AVX2 FMA\n",
      "To enable them in other operations, rebuild TensorFlow with the appropriate compiler flags.\n",
      "2023-05-25 20:03:57.931064: I tensorflow/core/common_runtime/process_util.cc:146] Creating new thread pool with default inter op setting: 2. Tune using inter_op_parallelism_threads for best performance.\n"
     ]
    },
    {
     "name": "stdout",
     "output_type": "stream",
     "text": [
      "Extracted OpenL3 features\n",
      "[[2.2157934  1.5237598  2.9928207  ... 1.6894926  1.8666078  4.711986  ]\n",
      " [1.2207314  1.7948426  2.1285746  ... 2.173455   1.7593364  2.0883882 ]\n",
      " [0.94436145 1.6546993  2.4074247  ... 1.9835298  1.7331797  2.1446378 ]\n",
      " ...\n",
      " [2.3775566  1.8430469  2.8738768  ... 1.6564637  1.6172144  2.1021924 ]\n",
      " [2.4807284  1.8555818  2.7494621  ... 2.4328287  1.6478326  1.8081454 ]\n",
      " [2.0895064  1.9054738  2.2741344  ... 2.6784756  1.7966094  2.0553932 ]]\n"
     ]
    },
    {
     "name": "stderr",
     "output_type": "stream",
     "text": [
      "2023-05-25 20:04:02.615072: I tensorflow/core/platform/cpu_feature_guard.cc:193] This TensorFlow binary is optimized with oneAPI Deep Neural Network Library (oneDNN) to use the following CPU instructions in performance-critical operations:  SSE4.1 SSE4.2 AVX AVX2 FMA\n",
      "To enable them in other operations, rebuild TensorFlow with the appropriate compiler flags.\n",
      "2023-05-25 20:04:02.615814: I tensorflow/core/common_runtime/process_util.cc:146] Creating new thread pool with default inter op setting: 2. Tune using inter_op_parallelism_threads for best performance.\n"
     ]
    },
    {
     "name": "stdout",
     "output_type": "stream",
     "text": [
      "Extracted OpenL3 features\n",
      "[[2.2157934  1.9613117  2.3574586  ... 1.1652622  2.2945178  4.711986  ]\n",
      " [1.6112882  2.0425034  1.352859   ... 1.4068707  2.3878112  3.0142994 ]\n",
      " [2.31594    2.2444391  1.7635996  ... 1.4511455  2.5593812  3.7065873 ]\n",
      " ...\n",
      " [1.3926466  1.8710057  1.456726   ... 1.2435476  2.6265543  2.6860597 ]\n",
      " [1.7264826  1.874505   1.2300675  ... 0.95700085 2.8555179  3.0861874 ]\n",
      " [2.237829   1.7327513  3.1883256  ... 0.93142027 3.709177   6.3932295 ]]\n"
     ]
    },
    {
     "name": "stderr",
     "output_type": "stream",
     "text": [
      "2023-05-25 20:04:04.623789: I tensorflow/core/platform/cpu_feature_guard.cc:193] This TensorFlow binary is optimized with oneAPI Deep Neural Network Library (oneDNN) to use the following CPU instructions in performance-critical operations:  SSE4.1 SSE4.2 AVX AVX2 FMA\n",
      "To enable them in other operations, rebuild TensorFlow with the appropriate compiler flags.\n",
      "2023-05-25 20:04:04.624962: I tensorflow/core/common_runtime/process_util.cc:146] Creating new thread pool with default inter op setting: 2. Tune using inter_op_parallelism_threads for best performance.\n"
     ]
    },
    {
     "name": "stdout",
     "output_type": "stream",
     "text": [
      "Extracted OpenL3 features\n",
      "[[2.2157934 1.9613117 2.3574586 ... 1.1652622 2.2945178 4.711986 ]\n",
      " [1.6112882 2.0425034 1.352859  ... 1.4068707 2.3878112 3.0142994]\n",
      " [2.31594   2.2444391 1.7635996 ... 1.4511455 2.5593812 3.7065873]\n",
      " ...\n",
      " [1.4277253 1.9500248 1.0590359 ... 1.2348297 2.754316  3.838421 ]\n",
      " [1.8395598 1.878191  1.3299601 ... 0.9501057 3.1304443 2.6913779]\n",
      " [1.8354168 1.8985567 1.1902528 ... 0.8653572 3.7506263 3.109696 ]]\n"
     ]
    },
    {
     "name": "stderr",
     "output_type": "stream",
     "text": [
      "2023-05-25 20:04:07.280097: I tensorflow/core/platform/cpu_feature_guard.cc:193] This TensorFlow binary is optimized with oneAPI Deep Neural Network Library (oneDNN) to use the following CPU instructions in performance-critical operations:  SSE4.1 SSE4.2 AVX AVX2 FMA\n",
      "To enable them in other operations, rebuild TensorFlow with the appropriate compiler flags.\n",
      "2023-05-25 20:04:07.280864: I tensorflow/core/common_runtime/process_util.cc:146] Creating new thread pool with default inter op setting: 2. Tune using inter_op_parallelism_threads for best performance.\n"
     ]
    },
    {
     "name": "stdout",
     "output_type": "stream",
     "text": [
      "Extracted OpenL3 features\n",
      "[[2.2157934  1.9613117  2.3574586  ... 1.1652622  2.2945178  4.711986  ]\n",
      " [1.6112882  2.0425034  1.352859   ... 1.4068707  2.3878112  3.0142994 ]\n",
      " [2.31594    2.2444391  1.7635996  ... 1.4511455  2.5593812  3.7065873 ]\n",
      " ...\n",
      " [2.4230332  2.3192697  1.5110996  ... 1.2176355  2.6041775  3.5978317 ]\n",
      " [1.5050713  1.8862549  1.2427238  ... 1.2774208  2.78426    2.781942  ]\n",
      " [1.6364226  1.9084407  1.2842839  ... 0.97360104 3.5232038  2.791335  ]]\n"
     ]
    },
    {
     "name": "stderr",
     "output_type": "stream",
     "text": [
      "2023-05-25 20:04:11.634570: I tensorflow/core/platform/cpu_feature_guard.cc:193] This TensorFlow binary is optimized with oneAPI Deep Neural Network Library (oneDNN) to use the following CPU instructions in performance-critical operations:  SSE4.1 SSE4.2 AVX AVX2 FMA\n",
      "To enable them in other operations, rebuild TensorFlow with the appropriate compiler flags.\n",
      "2023-05-25 20:04:11.635264: I tensorflow/core/common_runtime/process_util.cc:146] Creating new thread pool with default inter op setting: 2. Tune using inter_op_parallelism_threads for best performance.\n"
     ]
    },
    {
     "name": "stdout",
     "output_type": "stream",
     "text": [
      "Extracted OpenL3 features\n",
      "[[2.2157934  1.4379884  2.3574586  ... 1.5027214  1.7992947  4.711986  ]\n",
      " [1.3085543  1.4245645  2.0709507  ... 1.6744972  1.9842457  2.2055614 ]\n",
      " [2.028147   1.5281231  2.0773494  ... 1.835703   1.9795705  3.235905  ]\n",
      " ...\n",
      " [0.99775666 1.4390683  1.4738542  ... 1.5576859  2.05959    2.4008765 ]\n",
      " [0.61957246 1.0639079  2.4508562  ... 2.2800138  1.5979929  2.3908527 ]\n",
      " [1.9767014  1.0862958  2.9385977  ... 2.215311   1.6684346  5.977279  ]]\n"
     ]
    },
    {
     "name": "stderr",
     "output_type": "stream",
     "text": [
      "2023-05-25 20:04:13.691407: I tensorflow/core/platform/cpu_feature_guard.cc:193] This TensorFlow binary is optimized with oneAPI Deep Neural Network Library (oneDNN) to use the following CPU instructions in performance-critical operations:  SSE4.1 SSE4.2 AVX AVX2 FMA\n",
      "To enable them in other operations, rebuild TensorFlow with the appropriate compiler flags.\n",
      "2023-05-25 20:04:13.692247: I tensorflow/core/common_runtime/process_util.cc:146] Creating new thread pool with default inter op setting: 2. Tune using inter_op_parallelism_threads for best performance.\n"
     ]
    },
    {
     "name": "stdout",
     "output_type": "stream",
     "text": [
      "Extracted OpenL3 features\n",
      "[[2.2157934  1.4379884  2.3574586  ... 1.5027214  1.7992947  4.711986  ]\n",
      " [1.3085543  1.4245645  2.0709507  ... 1.6744972  1.9842457  2.2055614 ]\n",
      " [2.028147   1.5281231  2.0773494  ... 1.835703   1.9795705  3.235905  ]\n",
      " ...\n",
      " [1.9815383  1.526208   2.5057833  ... 1.4845273  1.8534589  3.2741227 ]\n",
      " [0.59435886 1.5035034  2.5494013  ... 2.0474281  1.9867262  2.0302343 ]\n",
      " [1.1799186  1.4879365  2.2398055  ... 1.944853   1.6183183  2.1104348 ]]\n"
     ]
    },
    {
     "name": "stderr",
     "output_type": "stream",
     "text": [
      "2023-05-25 20:04:16.284442: I tensorflow/core/platform/cpu_feature_guard.cc:193] This TensorFlow binary is optimized with oneAPI Deep Neural Network Library (oneDNN) to use the following CPU instructions in performance-critical operations:  SSE4.1 SSE4.2 AVX AVX2 FMA\n",
      "To enable them in other operations, rebuild TensorFlow with the appropriate compiler flags.\n",
      "2023-05-25 20:04:16.285152: I tensorflow/core/common_runtime/process_util.cc:146] Creating new thread pool with default inter op setting: 2. Tune using inter_op_parallelism_threads for best performance.\n"
     ]
    },
    {
     "name": "stdout",
     "output_type": "stream",
     "text": [
      "Extracted OpenL3 features\n",
      "[[2.2157934  1.4379884  2.3574586  ... 1.5027214  1.7992947  4.711986  ]\n",
      " [1.3085543  1.4245645  2.0709507  ... 1.6744972  1.9842457  2.2055614 ]\n",
      " [2.028147   1.5281231  2.0773494  ... 1.835703   1.9795705  3.235905  ]\n",
      " ...\n",
      " [0.95443666 1.6109017  2.2693577  ... 1.824435   2.056604   2.2731962 ]\n",
      " [0.9010106  1.6386385  1.5799987  ... 1.8417398  2.1406085  2.3801124 ]\n",
      " [1.0739646  1.1377702  2.430119   ... 1.8050842  1.7428237  2.4734864 ]]\n"
     ]
    },
    {
     "name": "stderr",
     "output_type": "stream",
     "text": [
      "2023-05-25 20:04:20.635112: I tensorflow/core/platform/cpu_feature_guard.cc:193] This TensorFlow binary is optimized with oneAPI Deep Neural Network Library (oneDNN) to use the following CPU instructions in performance-critical operations:  SSE4.1 SSE4.2 AVX AVX2 FMA\n",
      "To enable them in other operations, rebuild TensorFlow with the appropriate compiler flags.\n",
      "2023-05-25 20:04:20.635871: I tensorflow/core/common_runtime/process_util.cc:146] Creating new thread pool with default inter op setting: 2. Tune using inter_op_parallelism_threads for best performance.\n"
     ]
    },
    {
     "name": "stdout",
     "output_type": "stream",
     "text": [
      "Extracted OpenL3 features\n",
      "[[2.2157934  1.5233604  2.3574586  ... 0.78764546 2.4242563  4.711986  ]\n",
      " [1.5373179  1.7382902  1.6252348  ... 1.4848862  2.5105882  2.2850811 ]\n",
      " [1.2396094  1.8518622  1.0892705  ... 1.56211    2.57666    2.1079638 ]\n",
      " ...\n",
      " [1.6782768  2.0869746  1.2013811  ... 1.7881396  3.5297337  2.0026307 ]\n",
      " [1.8934989  1.7954284  1.3149745  ... 1.3577     3.3119795  2.0685647 ]\n",
      " [2.176143   1.6768652  3.07675    ... 1.298825   3.5365813  6.268855  ]]\n"
     ]
    },
    {
     "name": "stderr",
     "output_type": "stream",
     "text": [
      "2023-05-25 20:04:22.614474: I tensorflow/core/platform/cpu_feature_guard.cc:193] This TensorFlow binary is optimized with oneAPI Deep Neural Network Library (oneDNN) to use the following CPU instructions in performance-critical operations:  SSE4.1 SSE4.2 AVX AVX2 FMA\n",
      "To enable them in other operations, rebuild TensorFlow with the appropriate compiler flags.\n",
      "2023-05-25 20:04:22.615122: I tensorflow/core/common_runtime/process_util.cc:146] Creating new thread pool with default inter op setting: 2. Tune using inter_op_parallelism_threads for best performance.\n"
     ]
    },
    {
     "name": "stdout",
     "output_type": "stream",
     "text": [
      "Extracted OpenL3 features\n",
      "[[2.2157934  1.5233604  2.3574586  ... 0.78764546 2.4242563  4.711986  ]\n",
      " [1.5373179  1.7382902  1.6252348  ... 1.4848862  2.5105882  2.2850811 ]\n",
      " [1.2396094  1.8518622  1.0892705  ... 1.56211    2.57666    2.1079638 ]\n",
      " ...\n",
      " [1.6973295  1.8820316  1.4663486  ... 1.110423   2.804758   2.0424955 ]\n",
      " [1.4281405  2.1625094  1.1595265  ... 1.4244326  2.9455335  2.3793206 ]\n",
      " [1.3803589  1.9373665  1.0772069  ... 1.3906722  3.049584   2.3089545 ]]\n"
     ]
    },
    {
     "name": "stderr",
     "output_type": "stream",
     "text": [
      "2023-05-25 20:04:25.243994: I tensorflow/core/platform/cpu_feature_guard.cc:193] This TensorFlow binary is optimized with oneAPI Deep Neural Network Library (oneDNN) to use the following CPU instructions in performance-critical operations:  SSE4.1 SSE4.2 AVX AVX2 FMA\n",
      "To enable them in other operations, rebuild TensorFlow with the appropriate compiler flags.\n",
      "2023-05-25 20:04:25.244815: I tensorflow/core/common_runtime/process_util.cc:146] Creating new thread pool with default inter op setting: 2. Tune using inter_op_parallelism_threads for best performance.\n"
     ]
    },
    {
     "name": "stdout",
     "output_type": "stream",
     "text": [
      "Extracted OpenL3 features\n",
      "[[2.2157934  1.5233604  2.3574586  ... 0.78764546 2.4242563  4.711986  ]\n",
      " [1.5373179  1.7382902  1.6252348  ... 1.4848862  2.5105882  2.2850811 ]\n",
      " [1.2396094  1.8518622  1.0892705  ... 1.56211    2.57666    2.1079638 ]\n",
      " ...\n",
      " [1.8103287  2.0883331  1.9041376  ... 1.9334241  2.4953885  2.2384658 ]\n",
      " [1.8799013  2.083626   1.4234891  ... 1.7948177  2.5701144  2.035148  ]\n",
      " [1.8581969  2.0662043  1.103921   ... 1.8175422  2.8857327  2.535224  ]]\n"
     ]
    },
    {
     "name": "stderr",
     "output_type": "stream",
     "text": [
      "2023-05-25 20:04:29.400274: I tensorflow/core/platform/cpu_feature_guard.cc:193] This TensorFlow binary is optimized with oneAPI Deep Neural Network Library (oneDNN) to use the following CPU instructions in performance-critical operations:  SSE4.1 SSE4.2 AVX AVX2 FMA\n",
      "To enable them in other operations, rebuild TensorFlow with the appropriate compiler flags.\n",
      "2023-05-25 20:04:29.400951: I tensorflow/core/common_runtime/process_util.cc:146] Creating new thread pool with default inter op setting: 2. Tune using inter_op_parallelism_threads for best performance.\n"
     ]
    },
    {
     "name": "stdout",
     "output_type": "stream",
     "text": [
      "Extracted OpenL3 features\n",
      "[[2.2157934 1.8837508 2.3574586 ... 1.9860784 4.5622587 4.711986 ]\n",
      " [1.6340976 1.8874724 1.770037  ... 2.061019  4.5067453 2.006828 ]\n",
      " [1.8550287 1.7834872 1.3142568 ... 1.9283745 4.227621  1.9584078]\n",
      " ...\n",
      " [1.4667095 2.0966015 1.5259266 ... 1.8449365 3.5678618 2.0961616]\n",
      " [1.4680104 1.995021  1.3949736 ... 2.1015422 3.5582304 2.194396 ]\n",
      " [1.8949546 1.286035  2.6453116 ... 1.6316227 2.869101  5.814527 ]]\n"
     ]
    },
    {
     "name": "stderr",
     "output_type": "stream",
     "text": [
      "2023-05-25 20:04:31.316357: I tensorflow/core/platform/cpu_feature_guard.cc:193] This TensorFlow binary is optimized with oneAPI Deep Neural Network Library (oneDNN) to use the following CPU instructions in performance-critical operations:  SSE4.1 SSE4.2 AVX AVX2 FMA\n",
      "To enable them in other operations, rebuild TensorFlow with the appropriate compiler flags.\n",
      "2023-05-25 20:04:31.317087: I tensorflow/core/common_runtime/process_util.cc:146] Creating new thread pool with default inter op setting: 2. Tune using inter_op_parallelism_threads for best performance.\n"
     ]
    },
    {
     "name": "stdout",
     "output_type": "stream",
     "text": [
      "Extracted OpenL3 features\n",
      "[[2.2157934 1.8837508 2.3574586 ... 1.9860784 4.5622587 4.711986 ]\n",
      " [1.6340976 1.8874724 1.770037  ... 2.061019  4.5067453 2.006828 ]\n",
      " [1.8550287 1.7834872 1.3142568 ... 1.9283745 4.227621  1.9584078]\n",
      " ...\n",
      " [1.886166  2.0855172 1.6148742 ... 1.9548296 2.7441287 2.0354567]\n",
      " [1.6023918 1.9723157 1.5017229 ... 2.2056446 3.5802119 2.0890818]\n",
      " [1.45582   1.9169428 1.4498839 ... 2.1773107 3.4003532 2.0476177]]\n"
     ]
    },
    {
     "name": "stderr",
     "output_type": "stream",
     "text": [
      "2023-05-25 20:04:34.000676: I tensorflow/core/platform/cpu_feature_guard.cc:193] This TensorFlow binary is optimized with oneAPI Deep Neural Network Library (oneDNN) to use the following CPU instructions in performance-critical operations:  SSE4.1 SSE4.2 AVX AVX2 FMA\n",
      "To enable them in other operations, rebuild TensorFlow with the appropriate compiler flags.\n",
      "2023-05-25 20:04:34.001314: I tensorflow/core/common_runtime/process_util.cc:146] Creating new thread pool with default inter op setting: 2. Tune using inter_op_parallelism_threads for best performance.\n"
     ]
    },
    {
     "name": "stdout",
     "output_type": "stream",
     "text": [
      "Extracted OpenL3 features\n",
      "[[2.2157934 1.8837508 2.3574586 ... 1.9860784 4.5622587 4.711986 ]\n",
      " [1.6340976 1.8874724 1.770037  ... 2.061019  4.5067453 2.006828 ]\n",
      " [1.8550287 1.7834872 1.3142568 ... 1.9283745 4.227621  1.9584078]\n",
      " ...\n",
      " [2.6258135 2.1123354 1.715947  ... 1.8591892 2.8323488 2.019996 ]\n",
      " [1.39678   1.9628773 1.6422201 ... 2.224457  3.6840663 2.1112869]\n",
      " [1.1166608 1.9960768 1.3192886 ... 2.200195  3.6035213 2.0764554]]\n"
     ]
    },
    {
     "name": "stderr",
     "output_type": "stream",
     "text": [
      "2023-05-25 20:04:38.803035: I tensorflow/core/platform/cpu_feature_guard.cc:193] This TensorFlow binary is optimized with oneAPI Deep Neural Network Library (oneDNN) to use the following CPU instructions in performance-critical operations:  SSE4.1 SSE4.2 AVX AVX2 FMA\n",
      "To enable them in other operations, rebuild TensorFlow with the appropriate compiler flags.\n",
      "2023-05-25 20:04:38.803721: I tensorflow/core/common_runtime/process_util.cc:146] Creating new thread pool with default inter op setting: 2. Tune using inter_op_parallelism_threads for best performance.\n"
     ]
    },
    {
     "name": "stdout",
     "output_type": "stream",
     "text": [
      "Extracted OpenL3 features\n",
      "[[2.2157934 2.0274522 2.3574586 ... 1.3208308 2.1388159 4.711986 ]\n",
      " [1.2823336 2.1689591 1.2389773 ... 1.3428364 2.4363582 2.9439113]\n",
      " [1.2848996 1.839656  1.1828271 ... 1.1715544 2.4764178 2.9218998]\n",
      " ...\n",
      " [1.2754805 1.3274142 1.8870157 ... 1.877855  2.4732246 3.3763728]\n",
      " [1.7413423 2.205442  1.4765837 ... 2.0954742 2.0721393 3.4974263]\n",
      " [2.183007  1.7711142 3.2991953 ... 1.6550333 1.9918693 6.1517653]]\n"
     ]
    },
    {
     "name": "stderr",
     "output_type": "stream",
     "text": [
      "2023-05-25 20:04:40.831388: I tensorflow/core/platform/cpu_feature_guard.cc:193] This TensorFlow binary is optimized with oneAPI Deep Neural Network Library (oneDNN) to use the following CPU instructions in performance-critical operations:  SSE4.1 SSE4.2 AVX AVX2 FMA\n",
      "To enable them in other operations, rebuild TensorFlow with the appropriate compiler flags.\n",
      "2023-05-25 20:04:40.832120: I tensorflow/core/common_runtime/process_util.cc:146] Creating new thread pool with default inter op setting: 2. Tune using inter_op_parallelism_threads for best performance.\n"
     ]
    },
    {
     "name": "stdout",
     "output_type": "stream",
     "text": [
      "Extracted OpenL3 features\n",
      "[[2.2157934 2.0274522 2.3574586 ... 1.3208308 2.1388159 4.711986 ]\n",
      " [1.2823336 2.1689591 1.2389773 ... 1.3428364 2.4363582 2.9439113]\n",
      " [1.2848996 1.839656  1.1828271 ... 1.1715544 2.4764178 2.9218998]\n",
      " ...\n",
      " [1.3850136 1.2778589 1.2843465 ... 1.655869  2.8176591 3.3151135]\n",
      " [1.7266556 2.2026422 1.6470615 ... 2.0666182 2.0816786 3.5395076]\n",
      " [1.7057257 2.2017508 2.03768   ... 2.0736878 2.0972562 3.5092175]]\n"
     ]
    },
    {
     "name": "stderr",
     "output_type": "stream",
     "text": [
      "2023-05-25 20:04:43.396698: I tensorflow/core/platform/cpu_feature_guard.cc:193] This TensorFlow binary is optimized with oneAPI Deep Neural Network Library (oneDNN) to use the following CPU instructions in performance-critical operations:  SSE4.1 SSE4.2 AVX AVX2 FMA\n",
      "To enable them in other operations, rebuild TensorFlow with the appropriate compiler flags.\n",
      "2023-05-25 20:04:43.397437: I tensorflow/core/common_runtime/process_util.cc:146] Creating new thread pool with default inter op setting: 2. Tune using inter_op_parallelism_threads for best performance.\n"
     ]
    },
    {
     "name": "stdout",
     "output_type": "stream",
     "text": [
      "Extracted OpenL3 features\n",
      "[[2.2157934 2.0274522 2.3574586 ... 1.3208308 2.1388159 4.711986 ]\n",
      " [1.2823336 2.1689591 1.2389773 ... 1.3428364 2.4363582 2.9439113]\n",
      " [1.2848996 1.839656  1.1828271 ... 1.1715544 2.4764178 2.9218998]\n",
      " ...\n",
      " [1.5983386 1.2878551 1.1780154 ... 1.7500232 3.0340815 3.4706995]\n",
      " [1.4649924 2.1054761 1.6230445 ... 2.1040375 3.205021  3.43082  ]\n",
      " [1.6678321 2.1919215 2.2263172 ... 2.021402  2.07249   3.53003  ]]\n"
     ]
    },
    {
     "name": "stderr",
     "output_type": "stream",
     "text": [
      "2023-05-25 20:04:47.322507: I tensorflow/core/platform/cpu_feature_guard.cc:193] This TensorFlow binary is optimized with oneAPI Deep Neural Network Library (oneDNN) to use the following CPU instructions in performance-critical operations:  SSE4.1 SSE4.2 AVX AVX2 FMA\n",
      "To enable them in other operations, rebuild TensorFlow with the appropriate compiler flags.\n",
      "2023-05-25 20:04:47.323167: I tensorflow/core/common_runtime/process_util.cc:146] Creating new thread pool with default inter op setting: 2. Tune using inter_op_parallelism_threads for best performance.\n"
     ]
    },
    {
     "name": "stdout",
     "output_type": "stream",
     "text": [
      "Extracted OpenL3 features\n",
      "[[2.2157934  1.7550265  2.3574586  ... 1.1483817  1.6590168  4.711986  ]\n",
      " [1.5672641  1.9424641  1.1511203  ... 1.3154992  2.1289577  3.6294892 ]\n",
      " [1.2318448  1.8717407  1.0884379  ... 0.9910609  2.1745644  3.5638888 ]\n",
      " ...\n",
      " [1.259471   1.8541294  1.0747844  ... 0.9671169  2.2415693  3.568677  ]\n",
      " [0.89588493 1.6174953  1.3389521  ... 1.1940953  2.1834447  2.7664833 ]\n",
      " [2.040074   1.8770195  3.0732307  ... 1.1967635  2.2940161  6.169321  ]]\n"
     ]
    },
    {
     "name": "stderr",
     "output_type": "stream",
     "text": [
      "2023-05-25 20:04:49.501269: I tensorflow/core/platform/cpu_feature_guard.cc:193] This TensorFlow binary is optimized with oneAPI Deep Neural Network Library (oneDNN) to use the following CPU instructions in performance-critical operations:  SSE4.1 SSE4.2 AVX AVX2 FMA\n",
      "To enable them in other operations, rebuild TensorFlow with the appropriate compiler flags.\n",
      "2023-05-25 20:04:49.502026: I tensorflow/core/common_runtime/process_util.cc:146] Creating new thread pool with default inter op setting: 2. Tune using inter_op_parallelism_threads for best performance.\n"
     ]
    },
    {
     "name": "stdout",
     "output_type": "stream",
     "text": [
      "Extracted OpenL3 features\n",
      "[[2.2157934 1.7550265 2.3574586 ... 1.1483817 1.6590168 4.711986 ]\n",
      " [1.5672641 1.9424641 1.1511203 ... 1.3154992 2.1289577 3.6294892]\n",
      " [1.2318448 1.8717407 1.0884379 ... 0.9910609 2.1745644 3.5638888]\n",
      " ...\n",
      " [1.6749303 2.095278  1.245152  ... 1.2211461 2.1534855 3.3444111]\n",
      " [1.7013736 2.0257251 1.1935676 ... 1.2516694 2.4379466 3.4246216]\n",
      " [1.6800814 1.9643028 1.0866067 ... 1.3591437 1.7394379 3.4685645]]\n"
     ]
    },
    {
     "name": "stderr",
     "output_type": "stream",
     "text": [
      "2023-05-25 20:04:52.107825: I tensorflow/core/platform/cpu_feature_guard.cc:193] This TensorFlow binary is optimized with oneAPI Deep Neural Network Library (oneDNN) to use the following CPU instructions in performance-critical operations:  SSE4.1 SSE4.2 AVX AVX2 FMA\n",
      "To enable them in other operations, rebuild TensorFlow with the appropriate compiler flags.\n",
      "2023-05-25 20:04:52.108581: I tensorflow/core/common_runtime/process_util.cc:146] Creating new thread pool with default inter op setting: 2. Tune using inter_op_parallelism_threads for best performance.\n"
     ]
    },
    {
     "name": "stdout",
     "output_type": "stream",
     "text": [
      "Extracted OpenL3 features\n",
      "[[2.2157934 1.7550265 2.3574586 ... 1.1483817 1.6590168 4.711986 ]\n",
      " [1.5672641 1.9424641 1.1511203 ... 1.3154992 2.1289577 3.6294892]\n",
      " [1.2318448 1.8717407 1.0884379 ... 0.9910609 2.1745644 3.5638888]\n",
      " ...\n",
      " [1.7743164 1.7299862 1.0281018 ... 1.1616554 2.4646645 3.3865407]\n",
      " [1.7010126 1.9282981 1.1036553 ... 1.4431388 2.1980295 3.6388779]\n",
      " [1.3737279 1.8355361 1.1148388 ... 1.1698815 2.2330844 3.6220777]]\n"
     ]
    },
    {
     "name": "stderr",
     "output_type": "stream",
     "text": [
      "2023-05-25 20:04:56.462084: I tensorflow/core/platform/cpu_feature_guard.cc:193] This TensorFlow binary is optimized with oneAPI Deep Neural Network Library (oneDNN) to use the following CPU instructions in performance-critical operations:  SSE4.1 SSE4.2 AVX AVX2 FMA\n",
      "To enable them in other operations, rebuild TensorFlow with the appropriate compiler flags.\n",
      "2023-05-25 20:04:56.462853: I tensorflow/core/common_runtime/process_util.cc:146] Creating new thread pool with default inter op setting: 2. Tune using inter_op_parallelism_threads for best performance.\n"
     ]
    },
    {
     "name": "stdout",
     "output_type": "stream",
     "text": [
      "Extracted OpenL3 features\n",
      "[[2.2157934 1.4918276 2.3574586 ... 1.1887597 1.2373523 4.711986 ]\n",
      " [1.6563267 1.7146947 1.7373079 ... 1.6344835 3.2431116 3.034362 ]\n",
      " [2.6165857 1.7328409 1.9663366 ... 1.4917741 3.2763252 3.9383252]\n",
      " ...\n",
      " [3.0027194 1.7589734 2.0054874 ... 1.1325793 2.2405558 4.328136 ]\n",
      " [2.0105858 1.7532585 2.0060208 ... 1.2158842 1.8869839 4.240623 ]\n",
      " [2.0763438 2.11044   3.138322  ... 1.2930056 2.5760162 6.2293816]]\n"
     ]
    },
    {
     "name": "stderr",
     "output_type": "stream",
     "text": [
      "2023-05-25 20:04:58.409762: I tensorflow/core/platform/cpu_feature_guard.cc:193] This TensorFlow binary is optimized with oneAPI Deep Neural Network Library (oneDNN) to use the following CPU instructions in performance-critical operations:  SSE4.1 SSE4.2 AVX AVX2 FMA\n",
      "To enable them in other operations, rebuild TensorFlow with the appropriate compiler flags.\n",
      "2023-05-25 20:04:58.410455: I tensorflow/core/common_runtime/process_util.cc:146] Creating new thread pool with default inter op setting: 2. Tune using inter_op_parallelism_threads for best performance.\n"
     ]
    },
    {
     "name": "stdout",
     "output_type": "stream",
     "text": [
      "Extracted OpenL3 features\n",
      "[[2.2157934 1.4918276 2.3574586 ... 1.1887597 1.2373523 4.711986 ]\n",
      " [1.6563267 1.7146947 1.7373079 ... 1.6344835 3.2431116 3.034362 ]\n",
      " [2.6165857 1.7328409 1.9663366 ... 1.4917741 3.2763252 3.9383252]\n",
      " ...\n",
      " [2.8230822 1.7397497 1.6518053 ... 1.3559958 2.039226  4.408241 ]\n",
      " [2.0835564 1.729334  1.840045  ... 1.2495108 1.8991859 4.515389 ]\n",
      " [1.829427  1.292833  1.7126429 ... 0.9990302 1.3987195 2.665879 ]]\n"
     ]
    },
    {
     "name": "stderr",
     "output_type": "stream",
     "text": [
      "2023-05-25 20:05:01.132008: I tensorflow/core/platform/cpu_feature_guard.cc:193] This TensorFlow binary is optimized with oneAPI Deep Neural Network Library (oneDNN) to use the following CPU instructions in performance-critical operations:  SSE4.1 SSE4.2 AVX AVX2 FMA\n",
      "To enable them in other operations, rebuild TensorFlow with the appropriate compiler flags.\n",
      "2023-05-25 20:05:01.132669: I tensorflow/core/common_runtime/process_util.cc:146] Creating new thread pool with default inter op setting: 2. Tune using inter_op_parallelism_threads for best performance.\n"
     ]
    },
    {
     "name": "stdout",
     "output_type": "stream",
     "text": [
      "Extracted OpenL3 features\n",
      "[[2.2157934 1.4918276 2.3574586 ... 1.1887597 1.2373523 4.711986 ]\n",
      " [1.6563267 1.7146947 1.7373079 ... 1.6344835 3.2431116 3.034362 ]\n",
      " [2.6165857 1.7328409 1.9663366 ... 1.4917741 3.2763252 3.9383252]\n",
      " ...\n",
      " [2.1585827 1.7813629 1.8958459 ... 1.2837962 1.9094707 4.4306   ]\n",
      " [1.2395241 1.3827883 1.6010151 ... 1.2552414 1.4899187 2.3273976]\n",
      " [1.8068793 1.6935786 1.7360923 ... 1.466092  2.9517787 3.121812 ]]\n"
     ]
    },
    {
     "name": "stderr",
     "output_type": "stream",
     "text": [
      "2023-05-25 20:05:04.743313: I tensorflow/core/platform/cpu_feature_guard.cc:193] This TensorFlow binary is optimized with oneAPI Deep Neural Network Library (oneDNN) to use the following CPU instructions in performance-critical operations:  SSE4.1 SSE4.2 AVX AVX2 FMA\n",
      "To enable them in other operations, rebuild TensorFlow with the appropriate compiler flags.\n",
      "2023-05-25 20:05:04.744066: I tensorflow/core/common_runtime/process_util.cc:146] Creating new thread pool with default inter op setting: 2. Tune using inter_op_parallelism_threads for best performance.\n"
     ]
    },
    {
     "name": "stdout",
     "output_type": "stream",
     "text": [
      "Extracted OpenL3 features\n",
      "[[2.2157934 1.2671393 2.3574586 ... 1.7931246 1.442275  4.711986 ]\n",
      " [1.3393545 1.2575282 1.1680927 ... 1.8209009 2.267245  3.1937187]\n",
      " [1.6496316 1.3942161 0.9357721 ... 1.6849397 2.516584  2.5236776]\n",
      " ...\n",
      " [1.6074284 1.4973522 1.7174177 ... 1.750993  3.314855  2.9375136]\n",
      " [2.3118458 1.4075117 1.4795976 ... 1.6798916 3.202333  3.121354 ]\n",
      " [2.093665  1.1970075 3.1066475 ... 1.103991  1.5605942 6.1270804]]\n"
     ]
    },
    {
     "name": "stderr",
     "output_type": "stream",
     "text": [
      "2023-05-25 20:05:06.673638: I tensorflow/core/platform/cpu_feature_guard.cc:193] This TensorFlow binary is optimized with oneAPI Deep Neural Network Library (oneDNN) to use the following CPU instructions in performance-critical operations:  SSE4.1 SSE4.2 AVX AVX2 FMA\n",
      "To enable them in other operations, rebuild TensorFlow with the appropriate compiler flags.\n",
      "2023-05-25 20:05:06.674398: I tensorflow/core/common_runtime/process_util.cc:146] Creating new thread pool with default inter op setting: 2. Tune using inter_op_parallelism_threads for best performance.\n"
     ]
    },
    {
     "name": "stdout",
     "output_type": "stream",
     "text": [
      "Extracted OpenL3 features\n",
      "[[2.2157934 1.2671393 2.3574586 ... 1.7931246 1.442275  4.711986 ]\n",
      " [1.3393545 1.2575282 1.1680927 ... 1.8209009 2.267245  3.1937187]\n",
      " [1.6496316 1.3942161 0.9357721 ... 1.6849397 2.516584  2.5236776]\n",
      " ...\n",
      " [1.7578157 1.5241104 1.8485079 ... 1.5176445 3.4168878 2.969419 ]\n",
      " [1.7944634 1.4147432 1.715491  ... 1.501211  3.3258436 3.9656801]\n",
      " [1.7167075 1.2526411 1.5613413 ... 1.7312027 1.6154262 4.1317906]]\n"
     ]
    },
    {
     "name": "stderr",
     "output_type": "stream",
     "text": [
      "2023-05-25 20:05:09.306157: I tensorflow/core/platform/cpu_feature_guard.cc:193] This TensorFlow binary is optimized with oneAPI Deep Neural Network Library (oneDNN) to use the following CPU instructions in performance-critical operations:  SSE4.1 SSE4.2 AVX AVX2 FMA\n",
      "To enable them in other operations, rebuild TensorFlow with the appropriate compiler flags.\n",
      "2023-05-25 20:05:09.306972: I tensorflow/core/common_runtime/process_util.cc:146] Creating new thread pool with default inter op setting: 2. Tune using inter_op_parallelism_threads for best performance.\n"
     ]
    },
    {
     "name": "stdout",
     "output_type": "stream",
     "text": [
      "Extracted OpenL3 features\n",
      "[[2.2157934  1.2671393  2.3574586  ... 1.7931246  1.442275   4.711986  ]\n",
      " [1.3393545  1.2575282  1.1680927  ... 1.8209009  2.267245   3.1937187 ]\n",
      " [1.6496316  1.3942161  0.9357721  ... 1.6849397  2.516584   2.5236776 ]\n",
      " ...\n",
      " [1.706486   1.4185709  1.6164052  ... 1.4897437  3.2964106  4.666837  ]\n",
      " [1.7847929  1.2862574  1.7909856  ... 1.7958251  1.5833695  4.294971  ]\n",
      " [1.3955256  1.2351621  0.94037247 ... 1.7762285  1.9895979  2.5269248 ]]\n"
     ]
    },
    {
     "name": "stderr",
     "output_type": "stream",
     "text": [
      "2023-05-25 20:05:12.996838: I tensorflow/core/platform/cpu_feature_guard.cc:193] This TensorFlow binary is optimized with oneAPI Deep Neural Network Library (oneDNN) to use the following CPU instructions in performance-critical operations:  SSE4.1 SSE4.2 AVX AVX2 FMA\n",
      "To enable them in other operations, rebuild TensorFlow with the appropriate compiler flags.\n",
      "2023-05-25 20:05:12.997507: I tensorflow/core/common_runtime/process_util.cc:146] Creating new thread pool with default inter op setting: 2. Tune using inter_op_parallelism_threads for best performance.\n"
     ]
    },
    {
     "name": "stdout",
     "output_type": "stream",
     "text": [
      "Extracted OpenL3 features\n",
      "[[2.2157934  1.6352837  2.3574586  ... 0.72451425 1.919177   4.711986  ]\n",
      " [2.068673   1.9618086  1.5244251  ... 1.041081   2.2486007  2.3861675 ]\n",
      " [2.2074847  1.9508951  1.1393882  ... 0.9519622  2.7752838  1.9361687 ]\n",
      " ...\n",
      " [1.6515169  1.8933318  2.3240528  ... 1.2830237  2.583792   2.2184782 ]\n",
      " [1.9515456  1.9438419  2.1945286  ... 1.0669796  2.5408196  2.2373917 ]\n",
      " [2.0995336  1.9319012  2.874693   ... 1.1110164  2.2567363  5.9562726 ]]\n"
     ]
    },
    {
     "name": "stderr",
     "output_type": "stream",
     "text": [
      "2023-05-25 20:05:14.956861: I tensorflow/core/platform/cpu_feature_guard.cc:193] This TensorFlow binary is optimized with oneAPI Deep Neural Network Library (oneDNN) to use the following CPU instructions in performance-critical operations:  SSE4.1 SSE4.2 AVX AVX2 FMA\n",
      "To enable them in other operations, rebuild TensorFlow with the appropriate compiler flags.\n",
      "2023-05-25 20:05:14.957486: I tensorflow/core/common_runtime/process_util.cc:146] Creating new thread pool with default inter op setting: 2. Tune using inter_op_parallelism_threads for best performance.\n"
     ]
    },
    {
     "name": "stdout",
     "output_type": "stream",
     "text": [
      "Extracted OpenL3 features\n",
      "[[2.2157934  1.6352837  2.3574586  ... 0.72451425 1.919177   4.711986  ]\n",
      " [2.068673   1.9618086  1.5244251  ... 1.041081   2.2486007  2.3861675 ]\n",
      " [2.2074847  1.9508951  1.1393882  ... 0.9519622  2.7752838  1.9361687 ]\n",
      " ...\n",
      " [2.1660123  1.9540651  1.626431   ... 1.0843607  2.346031   2.7022274 ]\n",
      " [2.103543   1.8640653  1.1944844  ... 0.90729254 2.57627    1.8972081 ]\n",
      " [1.63836    1.5136055  2.0041056  ... 1.0517935  2.3794522  2.751645  ]]\n"
     ]
    },
    {
     "name": "stderr",
     "output_type": "stream",
     "text": [
      "2023-05-25 20:05:17.335537: I tensorflow/core/platform/cpu_feature_guard.cc:193] This TensorFlow binary is optimized with oneAPI Deep Neural Network Library (oneDNN) to use the following CPU instructions in performance-critical operations:  SSE4.1 SSE4.2 AVX AVX2 FMA\n",
      "To enable them in other operations, rebuild TensorFlow with the appropriate compiler flags.\n",
      "2023-05-25 20:05:17.336242: I tensorflow/core/common_runtime/process_util.cc:146] Creating new thread pool with default inter op setting: 2. Tune using inter_op_parallelism_threads for best performance.\n"
     ]
    },
    {
     "name": "stdout",
     "output_type": "stream",
     "text": [
      "Extracted OpenL3 features\n",
      "[[2.2157934  1.6352837  2.3574586  ... 0.72451425 1.919177   4.711986  ]\n",
      " [2.068673   1.9618086  1.5244251  ... 1.041081   2.2486007  2.3861675 ]\n",
      " [2.2074847  1.9508951  1.1393882  ... 0.9519622  2.7752838  1.9361687 ]\n",
      " ...\n",
      " [1.2671502  1.6895646  1.2301393  ... 1.1940603  2.862186   2.631762  ]\n",
      " [1.9819669  1.3408648  1.2470878  ... 1.1700593  3.5544684  2.7400143 ]\n",
      " [1.9981933  1.6225654  1.0712087  ... 1.3699725  3.453194   2.377882  ]]\n"
     ]
    },
    {
     "name": "stderr",
     "output_type": "stream",
     "text": [
      "2023-05-25 20:05:21.742496: I tensorflow/core/platform/cpu_feature_guard.cc:193] This TensorFlow binary is optimized with oneAPI Deep Neural Network Library (oneDNN) to use the following CPU instructions in performance-critical operations:  SSE4.1 SSE4.2 AVX AVX2 FMA\n",
      "To enable them in other operations, rebuild TensorFlow with the appropriate compiler flags.\n",
      "2023-05-25 20:05:21.743218: I tensorflow/core/common_runtime/process_util.cc:146] Creating new thread pool with default inter op setting: 2. Tune using inter_op_parallelism_threads for best performance.\n"
     ]
    },
    {
     "name": "stdout",
     "output_type": "stream",
     "text": [
      "Extracted OpenL3 features\n",
      "[[2.2157934  1.8767262  2.3574586  ... 0.63461244 2.4153175  4.711986  ]\n",
      " [1.4866999  1.5767789  1.9595225  ... 2.0035295  3.3975902  2.6609344 ]\n",
      " [1.7447222  1.5047759  1.8882515  ... 1.9804897  4.1332064  2.7496042 ]\n",
      " ...\n",
      " [1.5483044  1.5956522  1.246617   ... 1.0316962  3.698565   2.6945074 ]\n",
      " [0.88116586 2.1323366  1.1614826  ... 1.0554426  3.8473642  2.119212  ]\n",
      " [1.8949546  2.1729953  2.7034574  ... 0.84114116 2.9069026  5.650516  ]]\n"
     ]
    },
    {
     "name": "stderr",
     "output_type": "stream",
     "text": [
      "2023-05-25 20:05:23.574073: I tensorflow/core/platform/cpu_feature_guard.cc:193] This TensorFlow binary is optimized with oneAPI Deep Neural Network Library (oneDNN) to use the following CPU instructions in performance-critical operations:  SSE4.1 SSE4.2 AVX AVX2 FMA\n",
      "To enable them in other operations, rebuild TensorFlow with the appropriate compiler flags.\n",
      "2023-05-25 20:05:23.574980: I tensorflow/core/common_runtime/process_util.cc:146] Creating new thread pool with default inter op setting: 2. Tune using inter_op_parallelism_threads for best performance.\n"
     ]
    },
    {
     "name": "stdout",
     "output_type": "stream",
     "text": [
      "Extracted OpenL3 features\n",
      "[[2.2157934  1.8767262  2.3574586  ... 0.63461244 2.4153175  4.711986  ]\n",
      " [1.4866999  1.5767789  1.9595225  ... 2.0035295  3.3975902  2.6609344 ]\n",
      " [1.7447222  1.5047759  1.8882515  ... 1.9804897  4.1332064  2.7496042 ]\n",
      " ...\n",
      " [1.8806841  1.5882325  1.4252069  ... 0.9659885  2.9761562  2.8919687 ]\n",
      " [1.1229818  2.0639577  1.4484336  ... 1.0374066  3.8663974  2.066094  ]\n",
      " [1.0295417  2.155671   1.1360543  ... 0.8668121  4.2132416  2.1024187 ]]\n"
     ]
    },
    {
     "name": "stderr",
     "output_type": "stream",
     "text": [
      "2023-05-25 20:05:25.916332: I tensorflow/core/platform/cpu_feature_guard.cc:193] This TensorFlow binary is optimized with oneAPI Deep Neural Network Library (oneDNN) to use the following CPU instructions in performance-critical operations:  SSE4.1 SSE4.2 AVX AVX2 FMA\n",
      "To enable them in other operations, rebuild TensorFlow with the appropriate compiler flags.\n",
      "2023-05-25 20:05:25.917118: I tensorflow/core/common_runtime/process_util.cc:146] Creating new thread pool with default inter op setting: 2. Tune using inter_op_parallelism_threads for best performance.\n"
     ]
    },
    {
     "name": "stdout",
     "output_type": "stream",
     "text": [
      "Extracted OpenL3 features\n",
      "[[2.2157934  1.8767262  2.3574586  ... 0.63461244 2.4153175  4.711986  ]\n",
      " [1.4866999  1.5767789  1.9595225  ... 2.0035295  3.3975902  2.6609344 ]\n",
      " [1.7447222  1.5047759  1.8882515  ... 1.9804897  4.1332064  2.7496042 ]\n",
      " ...\n",
      " [1.9471979  1.6342276  1.3397316  ... 1.2659159  3.0611665  2.8495076 ]\n",
      " [1.1019303  1.7859167  1.2927475  ... 0.98546606 3.8323867  2.188162  ]\n",
      " [1.163294   2.1976445  1.1140532  ... 0.9495188  3.8902442  2.045926  ]]\n"
     ]
    },
    {
     "name": "stderr",
     "output_type": "stream",
     "text": [
      "2023-05-25 20:05:30.246236: I tensorflow/core/platform/cpu_feature_guard.cc:193] This TensorFlow binary is optimized with oneAPI Deep Neural Network Library (oneDNN) to use the following CPU instructions in performance-critical operations:  SSE4.1 SSE4.2 AVX AVX2 FMA\n",
      "To enable them in other operations, rebuild TensorFlow with the appropriate compiler flags.\n",
      "2023-05-25 20:05:30.246896: I tensorflow/core/common_runtime/process_util.cc:146] Creating new thread pool with default inter op setting: 2. Tune using inter_op_parallelism_threads for best performance.\n"
     ]
    },
    {
     "name": "stdout",
     "output_type": "stream",
     "text": [
      "Extracted OpenL3 features\n",
      "[[2.2157934 1.5193597 2.3574586 ... 2.866999  2.1666384 4.711986 ]\n",
      " [1.6762915 1.6143878 2.1746414 ... 2.8300786 2.3975472 3.3277607]\n",
      " [0.9079138 1.7156374 1.9639987 ... 1.229048  2.741943  3.4301584]\n",
      " ...\n",
      " [2.0123906 1.8156706 1.7553015 ... 1.3806492 2.1051233 4.400051 ]\n",
      " [1.4705693 2.0683732 1.5809541 ... 1.8418117 2.9893868 3.7053618]\n",
      " [2.3464298 2.0539086 3.1061337 ... 1.8868455 1.7859544 6.2836165]]\n"
     ]
    },
    {
     "name": "stderr",
     "output_type": "stream",
     "text": [
      "2023-05-25 20:05:32.123411: I tensorflow/core/platform/cpu_feature_guard.cc:193] This TensorFlow binary is optimized with oneAPI Deep Neural Network Library (oneDNN) to use the following CPU instructions in performance-critical operations:  SSE4.1 SSE4.2 AVX AVX2 FMA\n",
      "To enable them in other operations, rebuild TensorFlow with the appropriate compiler flags.\n",
      "2023-05-25 20:05:32.124325: I tensorflow/core/common_runtime/process_util.cc:146] Creating new thread pool with default inter op setting: 2. Tune using inter_op_parallelism_threads for best performance.\n"
     ]
    },
    {
     "name": "stdout",
     "output_type": "stream",
     "text": [
      "Extracted OpenL3 features\n",
      "[[2.2157934 1.5193597 2.3574586 ... 2.866999  2.1666384 4.711986 ]\n",
      " [1.6762915 1.6143878 2.1746414 ... 2.8300786 2.3975472 3.3277607]\n",
      " [0.9079138 1.7156374 1.9639987 ... 1.229048  2.741943  3.4301584]\n",
      " ...\n",
      " [1.8109596 1.6849381 1.8187308 ... 1.2892259 2.280554  3.3431082]\n",
      " [1.3045396 1.6628388 1.7930819 ... 1.8505191 1.9757959 3.4554515]\n",
      " [1.4268686 1.7045345 1.8409837 ... 1.7268825 2.0585296 3.459249 ]]\n"
     ]
    },
    {
     "name": "stderr",
     "output_type": "stream",
     "text": [
      "2023-05-25 20:05:34.576339: I tensorflow/core/platform/cpu_feature_guard.cc:193] This TensorFlow binary is optimized with oneAPI Deep Neural Network Library (oneDNN) to use the following CPU instructions in performance-critical operations:  SSE4.1 SSE4.2 AVX AVX2 FMA\n",
      "To enable them in other operations, rebuild TensorFlow with the appropriate compiler flags.\n",
      "2023-05-25 20:05:34.577055: I tensorflow/core/common_runtime/process_util.cc:146] Creating new thread pool with default inter op setting: 2. Tune using inter_op_parallelism_threads for best performance.\n"
     ]
    },
    {
     "name": "stdout",
     "output_type": "stream",
     "text": [
      "Extracted OpenL3 features\n",
      "[[2.2157934  1.5193597  2.3574586  ... 2.866999   2.1666384  4.711986  ]\n",
      " [1.6762915  1.6143878  2.1746414  ... 2.8300786  2.3975472  3.3277607 ]\n",
      " [0.9079138  1.7156374  1.9639987  ... 1.229048   2.741943   3.4301584 ]\n",
      " ...\n",
      " [0.93807065 1.7200319  1.8835256  ... 1.0472528  2.8619452  3.4485667 ]\n",
      " [1.0883168  1.8372401  1.8453803  ... 1.4413284  2.8755636  3.3301704 ]\n",
      " [1.7462595  1.6576151  1.1019996  ... 1.3010249  2.4961534  2.944903  ]]\n"
     ]
    },
    {
     "name": "stderr",
     "output_type": "stream",
     "text": [
      "2023-05-25 20:05:38.991441: I tensorflow/core/platform/cpu_feature_guard.cc:193] This TensorFlow binary is optimized with oneAPI Deep Neural Network Library (oneDNN) to use the following CPU instructions in performance-critical operations:  SSE4.1 SSE4.2 AVX AVX2 FMA\n",
      "To enable them in other operations, rebuild TensorFlow with the appropriate compiler flags.\n",
      "2023-05-25 20:05:38.992173: I tensorflow/core/common_runtime/process_util.cc:146] Creating new thread pool with default inter op setting: 2. Tune using inter_op_parallelism_threads for best performance.\n"
     ]
    },
    {
     "name": "stdout",
     "output_type": "stream",
     "text": [
      "Extracted OpenL3 features\n",
      "[[2.2157934  1.30931    2.3574586  ... 0.76958805 1.9765344  4.711986  ]\n",
      " [1.5027162  1.4460316  1.5548297  ... 0.9714393  2.0197508  2.227855  ]\n",
      " [1.3914496  1.7249794  1.5862272  ... 1.1259409  2.130923   2.6357048 ]\n",
      " ...\n",
      " [1.3768784  1.8139584  1.8987076  ... 1.3128891  1.8703145  2.3879826 ]\n",
      " [1.2396388  1.7978358  1.6854017  ... 1.7125175  2.0278165  2.6646018 ]\n",
      " [1.8949546  1.4585602  2.929368   ... 1.6664754  2.3761683  6.118924  ]]\n"
     ]
    },
    {
     "name": "stderr",
     "output_type": "stream",
     "text": [
      "2023-05-25 20:05:40.840630: I tensorflow/core/platform/cpu_feature_guard.cc:193] This TensorFlow binary is optimized with oneAPI Deep Neural Network Library (oneDNN) to use the following CPU instructions in performance-critical operations:  SSE4.1 SSE4.2 AVX AVX2 FMA\n",
      "To enable them in other operations, rebuild TensorFlow with the appropriate compiler flags.\n",
      "2023-05-25 20:05:40.841335: I tensorflow/core/common_runtime/process_util.cc:146] Creating new thread pool with default inter op setting: 2. Tune using inter_op_parallelism_threads for best performance.\n"
     ]
    },
    {
     "name": "stdout",
     "output_type": "stream",
     "text": [
      "Extracted OpenL3 features\n",
      "[[2.2157934  1.30931    2.3574586  ... 0.76958805 1.9765344  4.711986  ]\n",
      " [1.5027162  1.4460316  1.5548297  ... 0.9714393  2.0197508  2.227855  ]\n",
      " [1.3914496  1.7249794  1.5862272  ... 1.1259409  2.130923   2.6357048 ]\n",
      " ...\n",
      " [1.5573049  1.3846816  1.1892118  ... 0.962067   1.8492154  2.670982  ]\n",
      " [1.4791478  1.7365007  1.5904133  ... 0.9401897  1.8308818  2.410758  ]\n",
      " [1.4919893  1.4826121  1.4617989  ... 1.0383584  2.0679662  2.3147373 ]]\n"
     ]
    },
    {
     "name": "stderr",
     "output_type": "stream",
     "text": [
      "2023-05-25 20:05:43.217525: I tensorflow/core/platform/cpu_feature_guard.cc:193] This TensorFlow binary is optimized with oneAPI Deep Neural Network Library (oneDNN) to use the following CPU instructions in performance-critical operations:  SSE4.1 SSE4.2 AVX AVX2 FMA\n",
      "To enable them in other operations, rebuild TensorFlow with the appropriate compiler flags.\n",
      "2023-05-25 20:05:43.218649: I tensorflow/core/common_runtime/process_util.cc:146] Creating new thread pool with default inter op setting: 2. Tune using inter_op_parallelism_threads for best performance.\n"
     ]
    },
    {
     "name": "stdout",
     "output_type": "stream",
     "text": [
      "Extracted OpenL3 features\n",
      "[[2.2157934  1.30931    2.3574586  ... 0.76958805 1.9765344  4.711986  ]\n",
      " [1.5027162  1.4460316  1.5548297  ... 0.9714393  2.0197508  2.227855  ]\n",
      " [1.3914496  1.7249794  1.5862272  ... 1.1259409  2.130923   2.6357048 ]\n",
      " ...\n",
      " [1.5204847  1.4812006  1.48324    ... 1.0254009  2.00883    2.2588155 ]\n",
      " [1.4099857  1.5183213  1.4945028  ... 1.0341567  2.0599687  2.6280353 ]\n",
      " [1.1593498  1.8189528  1.4392313  ... 1.422825   2.226359   2.55317   ]]\n"
     ]
    },
    {
     "name": "stderr",
     "output_type": "stream",
     "text": [
      "2023-05-25 20:05:47.638737: I tensorflow/core/platform/cpu_feature_guard.cc:193] This TensorFlow binary is optimized with oneAPI Deep Neural Network Library (oneDNN) to use the following CPU instructions in performance-critical operations:  SSE4.1 SSE4.2 AVX AVX2 FMA\n",
      "To enable them in other operations, rebuild TensorFlow with the appropriate compiler flags.\n",
      "2023-05-25 20:05:47.639455: I tensorflow/core/common_runtime/process_util.cc:146] Creating new thread pool with default inter op setting: 2. Tune using inter_op_parallelism_threads for best performance.\n"
     ]
    },
    {
     "name": "stdout",
     "output_type": "stream",
     "text": [
      "Extracted OpenL3 features\n",
      "[[2.2157934 1.7034211 2.3574586 ... 1.0210825 2.6816015 4.711986 ]\n",
      " [1.5830002 1.6798719 1.7481215 ... 1.6745844 2.9717035 2.6956763]\n",
      " [1.531825  1.7080793 1.6110717 ... 1.698715  3.4709175 2.8161767]\n",
      " ...\n",
      " [1.7395129 1.9825608 2.461732  ... 1.3580469 3.8458128 2.7218692]\n",
      " [1.7813095 1.9402949 2.6221194 ... 1.6766644 3.4022012 2.3103333]\n",
      " [1.8949546 1.8111111 2.7987761 ... 1.9216292 3.851464  5.957548 ]]\n"
     ]
    },
    {
     "name": "stderr",
     "output_type": "stream",
     "text": [
      "2023-05-25 20:05:49.537672: I tensorflow/core/platform/cpu_feature_guard.cc:193] This TensorFlow binary is optimized with oneAPI Deep Neural Network Library (oneDNN) to use the following CPU instructions in performance-critical operations:  SSE4.1 SSE4.2 AVX AVX2 FMA\n",
      "To enable them in other operations, rebuild TensorFlow with the appropriate compiler flags.\n",
      "2023-05-25 20:05:49.538379: I tensorflow/core/common_runtime/process_util.cc:146] Creating new thread pool with default inter op setting: 2. Tune using inter_op_parallelism_threads for best performance.\n"
     ]
    },
    {
     "name": "stdout",
     "output_type": "stream",
     "text": [
      "Extracted OpenL3 features\n",
      "[[2.2157934 1.7034211 2.3574586 ... 1.0210825 2.6816015 4.711986 ]\n",
      " [1.5830002 1.6798719 1.7481215 ... 1.6745844 2.9717035 2.6956763]\n",
      " [1.531825  1.7080793 1.6110717 ... 1.698715  3.4709175 2.8161767]\n",
      " ...\n",
      " [1.7057582 1.7134861 2.0356266 ... 1.4768175 3.0590398 2.1187785]\n",
      " [1.7127087 1.8017522 1.8951111 ... 1.4409446 3.384002  2.2320824]\n",
      " [1.6409687 1.8704826 1.8138896 ... 1.0162752 3.8739865 2.5248723]]\n"
     ]
    },
    {
     "name": "stderr",
     "output_type": "stream",
     "text": [
      "2023-05-25 20:05:51.850607: I tensorflow/core/platform/cpu_feature_guard.cc:193] This TensorFlow binary is optimized with oneAPI Deep Neural Network Library (oneDNN) to use the following CPU instructions in performance-critical operations:  SSE4.1 SSE4.2 AVX AVX2 FMA\n",
      "To enable them in other operations, rebuild TensorFlow with the appropriate compiler flags.\n",
      "2023-05-25 20:05:51.851248: I tensorflow/core/common_runtime/process_util.cc:146] Creating new thread pool with default inter op setting: 2. Tune using inter_op_parallelism_threads for best performance.\n"
     ]
    },
    {
     "name": "stdout",
     "output_type": "stream",
     "text": [
      "Extracted OpenL3 features\n",
      "[[2.2157934 1.7034211 2.3574586 ... 1.0210825 2.6816015 4.711986 ]\n",
      " [1.5830002 1.6798719 1.7481215 ... 1.6745844 2.9717035 2.6956763]\n",
      " [1.531825  1.7080793 1.6110717 ... 1.698715  3.4709175 2.8161767]\n",
      " ...\n",
      " [1.2219834 1.2214977 0.8559014 ... 1.4177989 3.2732387 2.554572 ]\n",
      " [1.796011  1.7197695 1.0623269 ... 1.1612968 3.5880065 3.124619 ]\n",
      " [1.7766355 1.8163549 2.0250678 ... 1.474813  3.3958917 3.1705322]]\n"
     ]
    },
    {
     "name": "stderr",
     "output_type": "stream",
     "text": [
      "2023-05-25 20:05:55.383371: I tensorflow/core/platform/cpu_feature_guard.cc:193] This TensorFlow binary is optimized with oneAPI Deep Neural Network Library (oneDNN) to use the following CPU instructions in performance-critical operations:  SSE4.1 SSE4.2 AVX AVX2 FMA\n",
      "To enable them in other operations, rebuild TensorFlow with the appropriate compiler flags.\n",
      "2023-05-25 20:05:55.384083: I tensorflow/core/common_runtime/process_util.cc:146] Creating new thread pool with default inter op setting: 2. Tune using inter_op_parallelism_threads for best performance.\n"
     ]
    },
    {
     "name": "stdout",
     "output_type": "stream",
     "text": [
      "Extracted OpenL3 features\n",
      "[[2.2157934 1.576498  3.1927462 ... 2.1224847 1.6880708 4.711986 ]\n",
      " [1.3330523 1.5713894 2.233714  ... 2.0808678 1.6348182 2.0801644]\n",
      " [1.4665629 1.5197402 1.9956471 ... 1.4991709 1.7794297 2.08797  ]\n",
      " ...\n",
      " [1.1964881 1.5927411 2.2315433 ... 1.8148206 1.781044  2.033269 ]\n",
      " [1.2113514 1.6071    2.2223988 ... 2.131666  1.6505117 2.0507352]\n",
      " [2.1969988 1.4121665 3.1643448 ... 1.4904996 1.6902362 6.203822 ]]\n"
     ]
    },
    {
     "name": "stderr",
     "output_type": "stream",
     "text": [
      "2023-05-25 20:05:57.310566: I tensorflow/core/platform/cpu_feature_guard.cc:193] This TensorFlow binary is optimized with oneAPI Deep Neural Network Library (oneDNN) to use the following CPU instructions in performance-critical operations:  SSE4.1 SSE4.2 AVX AVX2 FMA\n",
      "To enable them in other operations, rebuild TensorFlow with the appropriate compiler flags.\n",
      "2023-05-25 20:05:57.311269: I tensorflow/core/common_runtime/process_util.cc:146] Creating new thread pool with default inter op setting: 2. Tune using inter_op_parallelism_threads for best performance.\n"
     ]
    },
    {
     "name": "stdout",
     "output_type": "stream",
     "text": [
      "Extracted OpenL3 features\n",
      "[[2.2157934 1.576498  3.1927462 ... 2.1224847 1.6880708 4.711986 ]\n",
      " [1.3330523 1.5713894 2.233714  ... 2.0808678 1.6348182 2.0801644]\n",
      " [1.4665629 1.5197402 1.9956471 ... 1.4991709 1.7794297 2.08797  ]\n",
      " ...\n",
      " [1.291061  1.5702395 2.2114463 ... 2.1919675 1.6507862 2.0656586]\n",
      " [1.2911534 1.4401954 2.1140041 ... 1.5091608 1.6606878 2.0719407]\n",
      " [1.2777139 1.5932325 2.9874039 ... 1.9086102 1.8124334 2.3635805]]\n"
     ]
    },
    {
     "name": "stderr",
     "output_type": "stream",
     "text": [
      "2023-05-25 20:05:59.646111: I tensorflow/core/platform/cpu_feature_guard.cc:193] This TensorFlow binary is optimized with oneAPI Deep Neural Network Library (oneDNN) to use the following CPU instructions in performance-critical operations:  SSE4.1 SSE4.2 AVX AVX2 FMA\n",
      "To enable them in other operations, rebuild TensorFlow with the appropriate compiler flags.\n",
      "2023-05-25 20:05:59.646844: I tensorflow/core/common_runtime/process_util.cc:146] Creating new thread pool with default inter op setting: 2. Tune using inter_op_parallelism_threads for best performance.\n"
     ]
    },
    {
     "name": "stdout",
     "output_type": "stream",
     "text": [
      "Extracted OpenL3 features\n",
      "[[2.2157934 1.576498  3.1927462 ... 2.1224847 1.6880708 4.711986 ]\n",
      " [1.3330523 1.5713894 2.233714  ... 2.0808678 1.6348182 2.0801644]\n",
      " [1.4665629 1.5197402 1.9956471 ... 1.4991709 1.7794297 2.08797  ]\n",
      " ...\n",
      " [0.8256146 1.5604964 2.2823927 ... 2.3273103 1.4741881 2.0147297]\n",
      " [1.2170972 1.3222615 1.6614447 ... 1.7238168 1.6247808 2.0326443]\n",
      " [1.3234717 1.4874966 1.6705441 ... 1.3143265 1.766377  2.105092 ]]\n"
     ]
    },
    {
     "name": "stderr",
     "output_type": "stream",
     "text": [
      "2023-05-25 20:06:04.041218: I tensorflow/core/platform/cpu_feature_guard.cc:193] This TensorFlow binary is optimized with oneAPI Deep Neural Network Library (oneDNN) to use the following CPU instructions in performance-critical operations:  SSE4.1 SSE4.2 AVX AVX2 FMA\n",
      "To enable them in other operations, rebuild TensorFlow with the appropriate compiler flags.\n",
      "2023-05-25 20:06:04.041956: I tensorflow/core/common_runtime/process_util.cc:146] Creating new thread pool with default inter op setting: 2. Tune using inter_op_parallelism_threads for best performance.\n"
     ]
    },
    {
     "name": "stdout",
     "output_type": "stream",
     "text": [
      "Extracted OpenL3 features\n",
      "[[2.2157934  1.828213   2.3574586  ... 1.6529207  2.3910987  4.711986  ]\n",
      " [1.3887397  1.9809073  2.1662781  ... 1.8417162  2.3637068  2.0467322 ]\n",
      " [0.91254073 1.9433256  2.1324856  ... 1.8008002  2.10814    1.9953268 ]\n",
      " ...\n",
      " [0.8347323  1.4301069  2.927997   ... 2.2131493  2.255603   2.2438    ]\n",
      " [1.0113397  1.6139349  3.0379033  ... 2.175958   2.360878   2.2907531 ]\n",
      " [2.1493046  1.662674   3.1655185  ... 2.0207489  1.8778911  6.2869024 ]]\n"
     ]
    },
    {
     "name": "stderr",
     "output_type": "stream",
     "text": [
      "2023-05-25 20:06:06.002267: I tensorflow/core/platform/cpu_feature_guard.cc:193] This TensorFlow binary is optimized with oneAPI Deep Neural Network Library (oneDNN) to use the following CPU instructions in performance-critical operations:  SSE4.1 SSE4.2 AVX AVX2 FMA\n",
      "To enable them in other operations, rebuild TensorFlow with the appropriate compiler flags.\n",
      "2023-05-25 20:06:06.003089: I tensorflow/core/common_runtime/process_util.cc:146] Creating new thread pool with default inter op setting: 2. Tune using inter_op_parallelism_threads for best performance.\n"
     ]
    },
    {
     "name": "stdout",
     "output_type": "stream",
     "text": [
      "Extracted OpenL3 features\n",
      "[[2.2157934  1.828213   2.3574586  ... 1.6529207  2.3910987  4.711986  ]\n",
      " [1.3887397  1.9809073  2.1662781  ... 1.8417162  2.3637068  2.0467322 ]\n",
      " [0.91254073 1.9433256  2.1324856  ... 1.8008002  2.10814    1.9953268 ]\n",
      " ...\n",
      " [0.96888566 1.853204   2.5653882  ... 1.8434083  1.8638945  2.0422325 ]\n",
      " [0.788512   1.8640506  2.6775186  ... 1.4207482  2.250049   2.0422835 ]\n",
      " [0.92187864 1.7505983  2.229911   ... 1.4332654  2.436871   2.274418  ]]\n"
     ]
    },
    {
     "name": "stderr",
     "output_type": "stream",
     "text": [
      "2023-05-25 20:06:08.441456: I tensorflow/core/platform/cpu_feature_guard.cc:193] This TensorFlow binary is optimized with oneAPI Deep Neural Network Library (oneDNN) to use the following CPU instructions in performance-critical operations:  SSE4.1 SSE4.2 AVX AVX2 FMA\n",
      "To enable them in other operations, rebuild TensorFlow with the appropriate compiler flags.\n",
      "2023-05-25 20:06:08.442191: I tensorflow/core/common_runtime/process_util.cc:146] Creating new thread pool with default inter op setting: 2. Tune using inter_op_parallelism_threads for best performance.\n"
     ]
    },
    {
     "name": "stdout",
     "output_type": "stream",
     "text": [
      "Extracted OpenL3 features\n",
      "[[2.2157934  1.828213   2.3574586  ... 1.6529207  2.3910987  4.711986  ]\n",
      " [1.3887397  1.9809073  2.1662781  ... 1.8417162  2.3637068  2.0467322 ]\n",
      " [0.91254073 1.9433256  2.1324856  ... 1.8008002  2.10814    1.9953268 ]\n",
      " ...\n",
      " [0.9459219  1.4370426  2.8658834  ... 2.0888705  2.0366268  2.3118494 ]\n",
      " [0.9933563  1.6318083  2.8795254  ... 2.1468096  2.3515415  2.1835606 ]\n",
      " [1.0410866  1.7068219  2.2146063  ... 1.8984802  1.9524254  1.949971  ]]\n"
     ]
    },
    {
     "name": "stderr",
     "output_type": "stream",
     "text": [
      "2023-05-25 20:06:12.851050: I tensorflow/core/platform/cpu_feature_guard.cc:193] This TensorFlow binary is optimized with oneAPI Deep Neural Network Library (oneDNN) to use the following CPU instructions in performance-critical operations:  SSE4.1 SSE4.2 AVX AVX2 FMA\n",
      "To enable them in other operations, rebuild TensorFlow with the appropriate compiler flags.\n",
      "2023-05-25 20:06:12.851757: I tensorflow/core/common_runtime/process_util.cc:146] Creating new thread pool with default inter op setting: 2. Tune using inter_op_parallelism_threads for best performance.\n"
     ]
    },
    {
     "name": "stdout",
     "output_type": "stream",
     "text": [
      "Extracted OpenL3 features\n",
      "[[2.2157934 1.79977   2.3574586 ... 1.2676437 3.3641057 4.711986 ]\n",
      " [1.0316902 2.0269191 1.4091201 ... 1.1776383 3.2737544 2.2998838]\n",
      " [1.3425813 2.0957127 1.0776707 ... 1.3746068 3.8518066 2.3186889]\n",
      " ...\n",
      " [1.1600173 1.9209063 1.7128437 ... 1.2480925 3.2418528 2.2864635]\n",
      " [1.0575994 1.9093993 1.4419693 ... 1.2470777 3.3897665 1.9589843]\n",
      " [2.0572839 2.0242782 3.1477551 ... 1.2395461 3.1331627 6.34016  ]]\n"
     ]
    },
    {
     "name": "stderr",
     "output_type": "stream",
     "text": [
      "2023-05-25 20:06:14.684326: I tensorflow/core/platform/cpu_feature_guard.cc:193] This TensorFlow binary is optimized with oneAPI Deep Neural Network Library (oneDNN) to use the following CPU instructions in performance-critical operations:  SSE4.1 SSE4.2 AVX AVX2 FMA\n",
      "To enable them in other operations, rebuild TensorFlow with the appropriate compiler flags.\n",
      "2023-05-25 20:06:14.685078: I tensorflow/core/common_runtime/process_util.cc:146] Creating new thread pool with default inter op setting: 2. Tune using inter_op_parallelism_threads for best performance.\n"
     ]
    },
    {
     "name": "stdout",
     "output_type": "stream",
     "text": [
      "Extracted OpenL3 features\n",
      "[[2.2157934  1.79977    2.3574586  ... 1.2676437  3.3641057  4.711986  ]\n",
      " [1.0316902  2.0269191  1.4091201  ... 1.1776383  3.2737544  2.2998838 ]\n",
      " [1.3425813  2.0957127  1.0776707  ... 1.3746068  3.8518066  2.3186889 ]\n",
      " ...\n",
      " [0.97619236 2.0255792  1.4161352  ... 1.2074369  3.3823743  2.407909  ]\n",
      " [1.4194821  2.0835514  1.092749   ... 1.4751873  4.0280104  2.283401  ]\n",
      " [1.0962241  2.067946   1.1281147  ... 1.5504524  3.8283908  2.6200187 ]]\n"
     ]
    },
    {
     "name": "stderr",
     "output_type": "stream",
     "text": [
      "2023-05-25 20:06:17.152307: I tensorflow/core/platform/cpu_feature_guard.cc:193] This TensorFlow binary is optimized with oneAPI Deep Neural Network Library (oneDNN) to use the following CPU instructions in performance-critical operations:  SSE4.1 SSE4.2 AVX AVX2 FMA\n",
      "To enable them in other operations, rebuild TensorFlow with the appropriate compiler flags.\n",
      "2023-05-25 20:06:17.152918: I tensorflow/core/common_runtime/process_util.cc:146] Creating new thread pool with default inter op setting: 2. Tune using inter_op_parallelism_threads for best performance.\n"
     ]
    },
    {
     "name": "stdout",
     "output_type": "stream",
     "text": [
      "Extracted OpenL3 features\n",
      "[[2.2157934 1.79977   2.3574586 ... 1.2676437 3.3641057 4.711986 ]\n",
      " [1.0316902 2.0269191 1.4091201 ... 1.1776383 3.2737544 2.2998838]\n",
      " [1.3425813 2.0957127 1.0776707 ... 1.3746068 3.8518066 2.3186889]\n",
      " ...\n",
      " [1.2319782 2.1499007 1.442346  ... 1.3182122 4.013841  2.9907184]\n",
      " [1.2977207 2.1220722 1.4218273 ... 1.5484586 3.2676258 2.913913 ]\n",
      " [1.4449989 1.8427676 1.3582472 ... 0.9448114 2.577397  2.5893865]]\n"
     ]
    },
    {
     "name": "stderr",
     "output_type": "stream",
     "text": [
      "2023-05-25 20:06:20.723866: I tensorflow/core/platform/cpu_feature_guard.cc:193] This TensorFlow binary is optimized with oneAPI Deep Neural Network Library (oneDNN) to use the following CPU instructions in performance-critical operations:  SSE4.1 SSE4.2 AVX AVX2 FMA\n",
      "To enable them in other operations, rebuild TensorFlow with the appropriate compiler flags.\n",
      "2023-05-25 20:06:20.724568: I tensorflow/core/common_runtime/process_util.cc:146] Creating new thread pool with default inter op setting: 2. Tune using inter_op_parallelism_threads for best performance.\n"
     ]
    },
    {
     "name": "stdout",
     "output_type": "stream",
     "text": [
      "Extracted OpenL3 features\n",
      "[[2.259283  1.5429367 2.3574586 ... 1.0462695 1.9278926 4.711986 ]\n",
      " [1.6084627 1.4958255 1.2450655 ... 1.3798883 2.201539  2.0648618]\n",
      " [1.5657591 1.5474939 1.316975  ... 1.5957706 3.29487   2.4535077]\n",
      " ...\n",
      " [1.8957131 1.5735745 1.1734227 ... 1.7719396 2.9260588 2.594104 ]\n",
      " [1.8908381 1.6108044 0.9994256 ... 1.6506355 1.8424037 2.6913755]\n",
      " [1.8949546 1.6459538 3.246758  ... 1.6448275 1.8986622 6.203277 ]]\n"
     ]
    },
    {
     "name": "stderr",
     "output_type": "stream",
     "text": [
      "2023-05-25 20:06:22.661183: I tensorflow/core/platform/cpu_feature_guard.cc:193] This TensorFlow binary is optimized with oneAPI Deep Neural Network Library (oneDNN) to use the following CPU instructions in performance-critical operations:  SSE4.1 SSE4.2 AVX AVX2 FMA\n",
      "To enable them in other operations, rebuild TensorFlow with the appropriate compiler flags.\n",
      "2023-05-25 20:06:22.661878: I tensorflow/core/common_runtime/process_util.cc:146] Creating new thread pool with default inter op setting: 2. Tune using inter_op_parallelism_threads for best performance.\n"
     ]
    },
    {
     "name": "stdout",
     "output_type": "stream",
     "text": [
      "Extracted OpenL3 features\n",
      "[[2.259283  1.5429367 2.3574586 ... 1.0462695 1.9278926 4.711986 ]\n",
      " [1.6084627 1.4958255 1.2450655 ... 1.3798883 2.201539  2.0648618]\n",
      " [1.5657591 1.5474939 1.316975  ... 1.5957706 3.29487   2.4535077]\n",
      " ...\n",
      " [1.5763229 1.5328918 1.2810777 ... 1.2601643 2.1031072 2.1547601]\n",
      " [1.639386  1.5724283 1.3568082 ... 1.8256589 3.0645623 2.3960948]\n",
      " [1.8612305 1.6168473 1.255467  ... 1.754244  3.2331579 2.5897949]]\n"
     ]
    },
    {
     "name": "stderr",
     "output_type": "stream",
     "text": [
      "2023-05-25 20:06:25.180199: I tensorflow/core/platform/cpu_feature_guard.cc:193] This TensorFlow binary is optimized with oneAPI Deep Neural Network Library (oneDNN) to use the following CPU instructions in performance-critical operations:  SSE4.1 SSE4.2 AVX AVX2 FMA\n",
      "To enable them in other operations, rebuild TensorFlow with the appropriate compiler flags.\n",
      "2023-05-25 20:06:25.180864: I tensorflow/core/common_runtime/process_util.cc:146] Creating new thread pool with default inter op setting: 2. Tune using inter_op_parallelism_threads for best performance.\n"
     ]
    },
    {
     "name": "stdout",
     "output_type": "stream",
     "text": [
      "Extracted OpenL3 features\n",
      "[[2.259283   1.5429367  2.3574586  ... 1.0462695  1.9278926  4.711986  ]\n",
      " [1.6084627  1.4958255  1.2450655  ... 1.3798883  2.201539   2.0648618 ]\n",
      " [1.5657591  1.5474939  1.316975   ... 1.5957706  3.29487    2.4535077 ]\n",
      " ...\n",
      " [1.6123267  1.7073596  0.99466854 ... 1.7735035  2.7314043  2.467761  ]\n",
      " [1.1962626  1.5972897  1.001617   ... 1.5238069  2.74792    2.4753492 ]\n",
      " [1.8510066  1.6037685  1.1839186  ... 1.42741    2.3031104  2.365194  ]]\n"
     ]
    },
    {
     "name": "stderr",
     "output_type": "stream",
     "text": [
      "2023-05-25 20:06:29.586111: I tensorflow/core/platform/cpu_feature_guard.cc:193] This TensorFlow binary is optimized with oneAPI Deep Neural Network Library (oneDNN) to use the following CPU instructions in performance-critical operations:  SSE4.1 SSE4.2 AVX AVX2 FMA\n",
      "To enable them in other operations, rebuild TensorFlow with the appropriate compiler flags.\n",
      "2023-05-25 20:06:29.586878: I tensorflow/core/common_runtime/process_util.cc:146] Creating new thread pool with default inter op setting: 2. Tune using inter_op_parallelism_threads for best performance.\n"
     ]
    },
    {
     "name": "stdout",
     "output_type": "stream",
     "text": [
      "Extracted OpenL3 features\n",
      "[[2.2157934  1.3799369  2.3574586  ... 0.85355246 2.887541   4.711986  ]\n",
      " [1.5872222  1.5669723  1.226514   ... 1.3825078  3.0685275  2.4769027 ]\n",
      " [1.4946157  1.5830479  1.1352532  ... 1.5776232  3.4784071  2.7972305 ]\n",
      " ...\n",
      " [1.3083372  1.6653908  1.9945344  ... 1.0768452  3.551169   2.4711885 ]\n",
      " [1.214825   1.7451909  1.9697448  ... 1.1171231  3.4001665  2.2637537 ]\n",
      " [2.0622826  2.0926964  3.0961158  ... 0.82217973 2.4025667  6.1573405 ]]\n"
     ]
    },
    {
     "name": "stderr",
     "output_type": "stream",
     "text": [
      "2023-05-25 20:06:31.343222: I tensorflow/core/platform/cpu_feature_guard.cc:193] This TensorFlow binary is optimized with oneAPI Deep Neural Network Library (oneDNN) to use the following CPU instructions in performance-critical operations:  SSE4.1 SSE4.2 AVX AVX2 FMA\n",
      "To enable them in other operations, rebuild TensorFlow with the appropriate compiler flags.\n",
      "2023-05-25 20:06:31.343979: I tensorflow/core/common_runtime/process_util.cc:146] Creating new thread pool with default inter op setting: 2. Tune using inter_op_parallelism_threads for best performance.\n"
     ]
    },
    {
     "name": "stdout",
     "output_type": "stream",
     "text": [
      "Extracted OpenL3 features\n",
      "[[2.2157934  1.3799369  2.3574586  ... 0.85355246 2.887541   4.711986  ]\n",
      " [1.5872222  1.5669723  1.226514   ... 1.3825078  3.0685275  2.4769027 ]\n",
      " [1.4946157  1.5830479  1.1352532  ... 1.5776232  3.4784071  2.7972305 ]\n",
      " ...\n",
      " [2.1533997  1.7205675  1.5020663  ... 1.3479116  3.6257553  2.6424174 ]\n",
      " [2.2950203  1.8028469  0.9594029  ... 1.2087023  2.7195163  2.9331896 ]\n",
      " [1.2289397  1.772504   1.2416121  ... 1.270845   3.3370361  2.4993126 ]]\n"
     ]
    },
    {
     "name": "stderr",
     "output_type": "stream",
     "text": [
      "2023-05-25 20:06:33.724783: I tensorflow/core/platform/cpu_feature_guard.cc:193] This TensorFlow binary is optimized with oneAPI Deep Neural Network Library (oneDNN) to use the following CPU instructions in performance-critical operations:  SSE4.1 SSE4.2 AVX AVX2 FMA\n",
      "To enable them in other operations, rebuild TensorFlow with the appropriate compiler flags.\n",
      "2023-05-25 20:06:33.725573: I tensorflow/core/common_runtime/process_util.cc:146] Creating new thread pool with default inter op setting: 2. Tune using inter_op_parallelism_threads for best performance.\n"
     ]
    },
    {
     "name": "stdout",
     "output_type": "stream",
     "text": [
      "Extracted OpenL3 features\n",
      "[[2.2157934  1.3799369  2.3574586  ... 0.85355246 2.887541   4.711986  ]\n",
      " [1.5872222  1.5669723  1.226514   ... 1.3825078  3.0685275  2.4769027 ]\n",
      " [1.4946157  1.5830479  1.1352532  ... 1.5776232  3.4784071  2.7972305 ]\n",
      " ...\n",
      " [1.4161785  1.9376758  1.4873741  ... 1.4058638  4.0115747  2.1677368 ]\n",
      " [1.5755407  1.7102243  1.4619415  ... 1.426494   3.4158788  2.0759928 ]\n",
      " [1.6158872  1.6958959  1.2716073  ... 1.4770181  3.2185316  2.06188   ]]\n"
     ]
    },
    {
     "name": "stderr",
     "output_type": "stream",
     "text": [
      "2023-05-25 20:06:38.068457: I tensorflow/core/platform/cpu_feature_guard.cc:193] This TensorFlow binary is optimized with oneAPI Deep Neural Network Library (oneDNN) to use the following CPU instructions in performance-critical operations:  SSE4.1 SSE4.2 AVX AVX2 FMA\n",
      "To enable them in other operations, rebuild TensorFlow with the appropriate compiler flags.\n",
      "2023-05-25 20:06:38.069215: I tensorflow/core/common_runtime/process_util.cc:146] Creating new thread pool with default inter op setting: 2. Tune using inter_op_parallelism_threads for best performance.\n"
     ]
    },
    {
     "name": "stdout",
     "output_type": "stream",
     "text": [
      "Extracted OpenL3 features\n",
      "[[2.2157934  1.759439   2.3574586  ... 0.90182775 3.3882844  4.711986  ]\n",
      " [2.0886087  1.7745606  0.84694    ... 1.0527089  3.9754617  2.815739  ]\n",
      " [2.1449409  1.5940179  0.7982826  ... 0.9916195  4.509453   2.885946  ]\n",
      " ...\n",
      " [2.4582183  1.8007246  1.1512489  ... 1.2469845  3.462666   2.7038074 ]\n",
      " [2.4596765  1.8133446  0.98063594 ... 1.0272608  3.5565746  3.2839258 ]\n",
      " [2.1758823  1.7933377  3.072571   ... 1.2302388  3.7265267  6.1075463 ]]\n"
     ]
    },
    {
     "name": "stderr",
     "output_type": "stream",
     "text": [
      "2023-05-25 20:06:39.998327: I tensorflow/core/platform/cpu_feature_guard.cc:193] This TensorFlow binary is optimized with oneAPI Deep Neural Network Library (oneDNN) to use the following CPU instructions in performance-critical operations:  SSE4.1 SSE4.2 AVX AVX2 FMA\n",
      "To enable them in other operations, rebuild TensorFlow with the appropriate compiler flags.\n",
      "2023-05-25 20:06:39.999014: I tensorflow/core/common_runtime/process_util.cc:146] Creating new thread pool with default inter op setting: 2. Tune using inter_op_parallelism_threads for best performance.\n"
     ]
    },
    {
     "name": "stdout",
     "output_type": "stream",
     "text": [
      "Extracted OpenL3 features\n",
      "[[2.2157934  1.759439   2.3574586  ... 0.90182775 3.3882844  4.711986  ]\n",
      " [2.0886087  1.7745606  0.84694    ... 1.0527089  3.9754617  2.815739  ]\n",
      " [2.1449409  1.5940179  0.7982826  ... 0.9916195  4.509453   2.885946  ]\n",
      " ...\n",
      " [1.516656   1.6681185  0.89506954 ... 1.2026938  4.0501676  2.772829  ]\n",
      " [2.0119965  1.5642859  0.8444474  ... 1.2311538  4.0052505  2.9473724 ]\n",
      " [2.1148484  1.6152622  0.95196474 ... 1.1031877  3.8931756  3.2370613 ]]\n"
     ]
    },
    {
     "name": "stderr",
     "output_type": "stream",
     "text": [
      "2023-05-25 20:06:42.295340: I tensorflow/core/platform/cpu_feature_guard.cc:193] This TensorFlow binary is optimized with oneAPI Deep Neural Network Library (oneDNN) to use the following CPU instructions in performance-critical operations:  SSE4.1 SSE4.2 AVX AVX2 FMA\n",
      "To enable them in other operations, rebuild TensorFlow with the appropriate compiler flags.\n",
      "2023-05-25 20:06:42.296059: I tensorflow/core/common_runtime/process_util.cc:146] Creating new thread pool with default inter op setting: 2. Tune using inter_op_parallelism_threads for best performance.\n"
     ]
    },
    {
     "name": "stdout",
     "output_type": "stream",
     "text": [
      "Extracted OpenL3 features\n",
      "[[2.2157934  1.759439   2.3574586  ... 0.90182775 3.3882844  4.711986  ]\n",
      " [2.0886087  1.7745606  0.84694    ... 1.0527089  3.9754617  2.815739  ]\n",
      " [2.1449409  1.5940179  0.7982826  ... 0.9916195  4.509453   2.885946  ]\n",
      " ...\n",
      " [2.2046323  1.8020521  0.8226528  ... 1.0263456  3.897877   3.0213106 ]\n",
      " [1.9676348  1.5039778  0.88548607 ... 0.9072525  4.137436   2.570615  ]\n",
      " [1.8195945  1.6148412  0.8699688  ... 0.9634781  3.4681277  2.784927  ]]\n"
     ]
    },
    {
     "name": "stderr",
     "output_type": "stream",
     "text": [
      "2023-05-25 20:06:46.569534: I tensorflow/core/platform/cpu_feature_guard.cc:193] This TensorFlow binary is optimized with oneAPI Deep Neural Network Library (oneDNN) to use the following CPU instructions in performance-critical operations:  SSE4.1 SSE4.2 AVX AVX2 FMA\n",
      "To enable them in other operations, rebuild TensorFlow with the appropriate compiler flags.\n",
      "2023-05-25 20:06:46.570183: I tensorflow/core/common_runtime/process_util.cc:146] Creating new thread pool with default inter op setting: 2. Tune using inter_op_parallelism_threads for best performance.\n"
     ]
    },
    {
     "name": "stdout",
     "output_type": "stream",
     "text": [
      "Extracted OpenL3 features\n",
      "[[2.2157934 1.3786916 2.3574586 ... 1.6552801 2.5913095 4.711986 ]\n",
      " [1.7117507 1.4776993 2.1245208 ... 1.6346639 2.5046394 4.078371 ]\n",
      " [1.9443272 1.5627081 1.4851358 ... 1.6529197 2.7750375 4.000486 ]\n",
      " ...\n",
      " [1.5222162 1.8816144 1.7875273 ... 1.2790767 3.0555632 3.9726007]\n",
      " [1.6516939 1.9561163 1.8002003 ... 1.2406447 2.5497353 3.616016 ]\n",
      " [1.8949546 2.0337057 2.8493502 ... 1.1455314 2.6005855 5.8141594]]\n"
     ]
    },
    {
     "name": "stderr",
     "output_type": "stream",
     "text": [
      "2023-05-25 20:06:48.414487: I tensorflow/core/platform/cpu_feature_guard.cc:193] This TensorFlow binary is optimized with oneAPI Deep Neural Network Library (oneDNN) to use the following CPU instructions in performance-critical operations:  SSE4.1 SSE4.2 AVX AVX2 FMA\n",
      "To enable them in other operations, rebuild TensorFlow with the appropriate compiler flags.\n",
      "2023-05-25 20:06:48.415257: I tensorflow/core/common_runtime/process_util.cc:146] Creating new thread pool with default inter op setting: 2. Tune using inter_op_parallelism_threads for best performance.\n"
     ]
    },
    {
     "name": "stdout",
     "output_type": "stream",
     "text": [
      "Extracted OpenL3 features\n",
      "[[2.2157934 1.3786916 2.3574586 ... 1.6552801 2.5913095 4.711986 ]\n",
      " [1.7117507 1.4776993 2.1245208 ... 1.6346639 2.5046394 4.078371 ]\n",
      " [1.9443272 1.5627081 1.4851358 ... 1.6529197 2.7750375 4.000486 ]\n",
      " ...\n",
      " [1.5579054 1.7790802 2.2008138 ... 2.2336173 2.4161491 3.5915146]\n",
      " [1.3672414 1.8921592 2.079868  ... 1.9304918 2.773005  3.8281698]\n",
      " [1.5113809 1.8153118 1.5571789 ... 1.3363701 2.6597004 3.8194754]]\n"
     ]
    },
    {
     "name": "stderr",
     "output_type": "stream",
     "text": [
      "2023-05-25 20:06:50.837412: I tensorflow/core/platform/cpu_feature_guard.cc:193] This TensorFlow binary is optimized with oneAPI Deep Neural Network Library (oneDNN) to use the following CPU instructions in performance-critical operations:  SSE4.1 SSE4.2 AVX AVX2 FMA\n",
      "To enable them in other operations, rebuild TensorFlow with the appropriate compiler flags.\n",
      "2023-05-25 20:06:50.838057: I tensorflow/core/common_runtime/process_util.cc:146] Creating new thread pool with default inter op setting: 2. Tune using inter_op_parallelism_threads for best performance.\n"
     ]
    },
    {
     "name": "stdout",
     "output_type": "stream",
     "text": [
      "Extracted OpenL3 features\n",
      "[[2.2157934 1.3786916 2.3574586 ... 1.6552801 2.5913095 4.711986 ]\n",
      " [1.7117507 1.4776993 2.1245208 ... 1.6346639 2.5046394 4.078371 ]\n",
      " [1.9443272 1.5627081 1.4851358 ... 1.6529197 2.7750375 4.000486 ]\n",
      " ...\n",
      " [1.5391406 1.6332023 2.4765663 ... 1.7371376 2.5216925 3.5630288]\n",
      " [1.6896259 1.5089782 1.6267197 ... 1.3352023 2.3765566 3.6223931]\n",
      " [1.7715075 1.4862688 2.3301537 ... 2.1731472 2.4724905 3.5942452]]\n"
     ]
    },
    {
     "name": "stderr",
     "output_type": "stream",
     "text": [
      "2023-05-25 20:06:55.109133: I tensorflow/core/platform/cpu_feature_guard.cc:193] This TensorFlow binary is optimized with oneAPI Deep Neural Network Library (oneDNN) to use the following CPU instructions in performance-critical operations:  SSE4.1 SSE4.2 AVX AVX2 FMA\n",
      "To enable them in other operations, rebuild TensorFlow with the appropriate compiler flags.\n",
      "2023-05-25 20:06:55.109849: I tensorflow/core/common_runtime/process_util.cc:146] Creating new thread pool with default inter op setting: 2. Tune using inter_op_parallelism_threads for best performance.\n"
     ]
    },
    {
     "name": "stdout",
     "output_type": "stream",
     "text": [
      "Extracted OpenL3 features\n",
      "[[2.2157934  1.5731729  2.3574586  ... 1.4382887  1.8049818  4.711986  ]\n",
      " [0.87099046 1.5636615  1.9421575  ... 1.8950149  4.5227056  2.3158257 ]\n",
      " [1.3379472  1.7698363  1.9843009  ... 1.2794378  4.544378   2.1887813 ]\n",
      " ...\n",
      " [0.953293   1.712255   1.610596   ... 1.2806482  4.4636455  2.1894367 ]\n",
      " [1.8442633  1.7294074  1.8076178  ... 1.6285329  3.2624786  2.3253558 ]\n",
      " [2.4159067  1.6286902  3.1788325  ... 1.3217407  2.7610984  6.3731127 ]]\n"
     ]
    },
    {
     "name": "stderr",
     "output_type": "stream",
     "text": [
      "2023-05-25 20:06:56.926481: I tensorflow/core/platform/cpu_feature_guard.cc:193] This TensorFlow binary is optimized with oneAPI Deep Neural Network Library (oneDNN) to use the following CPU instructions in performance-critical operations:  SSE4.1 SSE4.2 AVX AVX2 FMA\n",
      "To enable them in other operations, rebuild TensorFlow with the appropriate compiler flags.\n",
      "2023-05-25 20:06:56.927226: I tensorflow/core/common_runtime/process_util.cc:146] Creating new thread pool with default inter op setting: 2. Tune using inter_op_parallelism_threads for best performance.\n"
     ]
    },
    {
     "name": "stdout",
     "output_type": "stream",
     "text": [
      "Extracted OpenL3 features\n",
      "[[2.2157934  1.5731729  2.3574586  ... 1.4382887  1.8049818  4.711986  ]\n",
      " [0.87099046 1.5636615  1.9421575  ... 1.8950149  4.5227056  2.3158257 ]\n",
      " [1.3379472  1.7698363  1.9843009  ... 1.2794378  4.544378   2.1887813 ]\n",
      " ...\n",
      " [1.212221   1.672015   1.1597428  ... 1.3332458  4.6815844  2.1574845 ]\n",
      " [1.4831501  1.6150059  1.5084006  ... 1.7713232  4.702687   2.173009  ]\n",
      " [1.0009542  1.5574801  1.9144604  ... 2.0451825  4.474628   2.2627335 ]]\n"
     ]
    },
    {
     "name": "stderr",
     "output_type": "stream",
     "text": [
      "2023-05-25 20:06:59.381498: I tensorflow/core/platform/cpu_feature_guard.cc:193] This TensorFlow binary is optimized with oneAPI Deep Neural Network Library (oneDNN) to use the following CPU instructions in performance-critical operations:  SSE4.1 SSE4.2 AVX AVX2 FMA\n",
      "To enable them in other operations, rebuild TensorFlow with the appropriate compiler flags.\n",
      "2023-05-25 20:06:59.382401: I tensorflow/core/common_runtime/process_util.cc:146] Creating new thread pool with default inter op setting: 2. Tune using inter_op_parallelism_threads for best performance.\n"
     ]
    },
    {
     "name": "stdout",
     "output_type": "stream",
     "text": [
      "Extracted OpenL3 features\n",
      "[[2.2157934  1.5731729  2.3574586  ... 1.4382887  1.8049818  4.711986  ]\n",
      " [0.87099046 1.5636615  1.9421575  ... 1.8950149  4.5227056  2.3158257 ]\n",
      " [1.3379472  1.7698363  1.9843009  ... 1.2794378  4.544378   2.1887813 ]\n",
      " ...\n",
      " [1.0427008  1.5661476  1.9583199  ... 2.125365   4.3326488  2.2220023 ]\n",
      " [0.9856187  1.7517041  1.9300692  ... 1.1673996  4.4582224  2.3191411 ]\n",
      " [2.3250484  1.7078849  1.5920826  ... 1.670161   3.156622   2.3291361 ]]\n"
     ]
    },
    {
     "name": "stderr",
     "output_type": "stream",
     "text": [
      "2023-05-25 20:07:03.386675: I tensorflow/core/platform/cpu_feature_guard.cc:193] This TensorFlow binary is optimized with oneAPI Deep Neural Network Library (oneDNN) to use the following CPU instructions in performance-critical operations:  SSE4.1 SSE4.2 AVX AVX2 FMA\n",
      "To enable them in other operations, rebuild TensorFlow with the appropriate compiler flags.\n",
      "2023-05-25 20:07:03.387458: I tensorflow/core/common_runtime/process_util.cc:146] Creating new thread pool with default inter op setting: 2. Tune using inter_op_parallelism_threads for best performance.\n"
     ]
    },
    {
     "name": "stdout",
     "output_type": "stream",
     "text": [
      "Extracted OpenL3 features\n",
      "[[2.2157934 1.5779307 2.3574586 ... 1.7345599 2.7181013 4.711986 ]\n",
      " [1.0876467 1.6318653 1.7126995 ... 1.7065083 3.6022742 3.0096889]\n",
      " [1.5146681 1.60787   1.719365  ... 1.0745443 1.4706644 2.5263743]\n",
      " ...\n",
      " [1.4861256 1.674607  1.5217781 ... 1.9664451 3.8623018 2.6559498]\n",
      " [2.3619027 1.6687554 2.0034194 ... 1.7638717 3.476372  2.6616127]\n",
      " [2.4830155 1.62293   3.2114117 ... 2.1822982 2.6501474 6.6045117]]\n"
     ]
    },
    {
     "name": "stderr",
     "output_type": "stream",
     "text": [
      "2023-05-25 20:07:05.244963: I tensorflow/core/platform/cpu_feature_guard.cc:193] This TensorFlow binary is optimized with oneAPI Deep Neural Network Library (oneDNN) to use the following CPU instructions in performance-critical operations:  SSE4.1 SSE4.2 AVX AVX2 FMA\n",
      "To enable them in other operations, rebuild TensorFlow with the appropriate compiler flags.\n",
      "2023-05-25 20:07:05.245735: I tensorflow/core/common_runtime/process_util.cc:146] Creating new thread pool with default inter op setting: 2. Tune using inter_op_parallelism_threads for best performance.\n"
     ]
    },
    {
     "name": "stdout",
     "output_type": "stream",
     "text": [
      "Extracted OpenL3 features\n",
      "[[2.2157934 1.5779307 2.3574586 ... 1.7345599 2.7181013 4.711986 ]\n",
      " [1.0876467 1.6318653 1.7126995 ... 1.7065083 3.6022742 3.0096889]\n",
      " [1.5146681 1.60787   1.719365  ... 1.0745443 1.4706644 2.5263743]\n",
      " ...\n",
      " [1.6681483 1.8483065 1.8670273 ... 1.6066048 4.360713  2.195222 ]\n",
      " [1.6525431 1.7669418 1.8832233 ... 1.5949798 2.8617425 2.4700038]\n",
      " [1.9871668 1.5969697 1.271158  ... 1.6808481 3.3933725 2.749295 ]]\n"
     ]
    },
    {
     "name": "stderr",
     "output_type": "stream",
     "text": [
      "2023-05-25 20:07:07.786452: I tensorflow/core/platform/cpu_feature_guard.cc:193] This TensorFlow binary is optimized with oneAPI Deep Neural Network Library (oneDNN) to use the following CPU instructions in performance-critical operations:  SSE4.1 SSE4.2 AVX AVX2 FMA\n",
      "To enable them in other operations, rebuild TensorFlow with the appropriate compiler flags.\n",
      "2023-05-25 20:07:07.787225: I tensorflow/core/common_runtime/process_util.cc:146] Creating new thread pool with default inter op setting: 2. Tune using inter_op_parallelism_threads for best performance.\n"
     ]
    },
    {
     "name": "stdout",
     "output_type": "stream",
     "text": [
      "Extracted OpenL3 features\n",
      "[[2.2157934 1.5779307 2.3574586 ... 1.7345599 2.7181013 4.711986 ]\n",
      " [1.0876467 1.6318653 1.7126995 ... 1.7065083 3.6022742 3.0096889]\n",
      " [1.5146681 1.60787   1.719365  ... 1.0745443 1.4706644 2.5263743]\n",
      " ...\n",
      " [1.4515797 1.8919555 1.9351352 ... 2.1250296 4.086467  2.3611493]\n",
      " [1.6945333 1.8470341 1.7516114 ... 1.6014689 4.435314  2.206755 ]\n",
      " [1.8024663 1.770669  1.8519268 ... 1.661946  3.0267885 2.4551582]]\n"
     ]
    },
    {
     "name": "stderr",
     "output_type": "stream",
     "text": [
      "2023-05-25 20:07:12.573686: I tensorflow/core/platform/cpu_feature_guard.cc:193] This TensorFlow binary is optimized with oneAPI Deep Neural Network Library (oneDNN) to use the following CPU instructions in performance-critical operations:  SSE4.1 SSE4.2 AVX AVX2 FMA\n",
      "To enable them in other operations, rebuild TensorFlow with the appropriate compiler flags.\n",
      "2023-05-25 20:07:12.574491: I tensorflow/core/common_runtime/process_util.cc:146] Creating new thread pool with default inter op setting: 2. Tune using inter_op_parallelism_threads for best performance.\n"
     ]
    },
    {
     "name": "stdout",
     "output_type": "stream",
     "text": [
      "Extracted OpenL3 features\n",
      "[[2.2157934 1.740053  2.3574586 ... 0.9984585 3.9641645 4.711986 ]\n",
      " [1.17391   1.7915536 1.2151959 ... 1.3293269 4.1746716 2.5633154]\n",
      " [1.3142784 1.6732079 1.3167577 ... 1.498078  3.8530006 2.4539614]\n",
      " ...\n",
      " [1.4875454 1.7040799 1.3688011 ... 1.350559  3.043973  2.3330355]\n",
      " [1.6559246 1.7496507 1.3928958 ... 1.6237403 3.6390421 2.3186948]\n",
      " [1.8949546 1.6963125 2.7478917 ... 1.495705  3.75049   5.9072556]]\n"
     ]
    },
    {
     "name": "stderr",
     "output_type": "stream",
     "text": [
      "2023-05-25 20:07:14.531369: I tensorflow/core/platform/cpu_feature_guard.cc:193] This TensorFlow binary is optimized with oneAPI Deep Neural Network Library (oneDNN) to use the following CPU instructions in performance-critical operations:  SSE4.1 SSE4.2 AVX AVX2 FMA\n",
      "To enable them in other operations, rebuild TensorFlow with the appropriate compiler flags.\n",
      "2023-05-25 20:07:14.532162: I tensorflow/core/common_runtime/process_util.cc:146] Creating new thread pool with default inter op setting: 2. Tune using inter_op_parallelism_threads for best performance.\n"
     ]
    },
    {
     "name": "stdout",
     "output_type": "stream",
     "text": [
      "Extracted OpenL3 features\n",
      "[[2.2157934 1.740053  2.3574586 ... 0.9984585 3.9641645 4.711986 ]\n",
      " [1.17391   1.7915536 1.2151959 ... 1.3293269 4.1746716 2.5633154]\n",
      " [1.3142784 1.6732079 1.3167577 ... 1.498078  3.8530006 2.4539614]\n",
      " ...\n",
      " [1.389371  1.832749  1.5225772 ... 1.5700651 3.034935  1.9613656]\n",
      " [1.1788871 1.8978379 1.5002165 ... 1.4188901 3.825189  2.2561753]\n",
      " [1.6015115 1.9240584 1.3104833 ... 1.3227122 4.0574484 2.7607152]]\n"
     ]
    },
    {
     "name": "stderr",
     "output_type": "stream",
     "text": [
      "2023-05-25 20:07:17.037132: I tensorflow/core/platform/cpu_feature_guard.cc:193] This TensorFlow binary is optimized with oneAPI Deep Neural Network Library (oneDNN) to use the following CPU instructions in performance-critical operations:  SSE4.1 SSE4.2 AVX AVX2 FMA\n",
      "To enable them in other operations, rebuild TensorFlow with the appropriate compiler flags.\n",
      "2023-05-25 20:07:17.037847: I tensorflow/core/common_runtime/process_util.cc:146] Creating new thread pool with default inter op setting: 2. Tune using inter_op_parallelism_threads for best performance.\n"
     ]
    },
    {
     "name": "stdout",
     "output_type": "stream",
     "text": [
      "Extracted OpenL3 features\n",
      "[[2.2157934 1.740053  2.3574586 ... 0.9984585 3.9641645 4.711986 ]\n",
      " [1.17391   1.7915536 1.2151959 ... 1.3293269 4.1746716 2.5633154]\n",
      " [1.3142784 1.6732079 1.3167577 ... 1.498078  3.8530006 2.4539614]\n",
      " ...\n",
      " [1.3832568 1.9113071 1.0680766 ... 1.6949271 3.7101939 2.890333 ]\n",
      " [1.2861135 1.7901683 1.5072821 ... 1.7919505 3.3251774 1.9652666]\n",
      " [1.2053956 1.7968084 1.6181564 ... 1.37295   3.963627  2.2196517]]\n"
     ]
    },
    {
     "name": "stderr",
     "output_type": "stream",
     "text": [
      "2023-05-25 20:07:21.674241: I tensorflow/core/platform/cpu_feature_guard.cc:193] This TensorFlow binary is optimized with oneAPI Deep Neural Network Library (oneDNN) to use the following CPU instructions in performance-critical operations:  SSE4.1 SSE4.2 AVX AVX2 FMA\n",
      "To enable them in other operations, rebuild TensorFlow with the appropriate compiler flags.\n",
      "2023-05-25 20:07:21.674956: I tensorflow/core/common_runtime/process_util.cc:146] Creating new thread pool with default inter op setting: 2. Tune using inter_op_parallelism_threads for best performance.\n"
     ]
    },
    {
     "name": "stdout",
     "output_type": "stream",
     "text": [
      "Extracted OpenL3 features\n",
      "[[2.2157934  1.9290091  2.3574586  ... 1.6442878  2.2872317  4.711986  ]\n",
      " [2.201706   1.9353331  1.8863715  ... 1.6986775  3.1935408  2.956579  ]\n",
      " [0.84442735 1.204361   1.4297442  ... 1.0916101  3.3393965  2.8611743 ]\n",
      " ...\n",
      " [1.8252381  2.17169    1.2074695  ... 1.4769852  4.1658134  2.9521992 ]\n",
      " [1.9672358  1.7938095  1.3918773  ... 1.4458327  3.1895287  2.4808552 ]\n",
      " [2.1931975  1.7694342  3.1215901  ... 1.0420009  3.062702   6.1809616 ]]\n"
     ]
    },
    {
     "name": "stderr",
     "output_type": "stream",
     "text": [
      "2023-05-25 20:07:23.512252: I tensorflow/core/platform/cpu_feature_guard.cc:193] This TensorFlow binary is optimized with oneAPI Deep Neural Network Library (oneDNN) to use the following CPU instructions in performance-critical operations:  SSE4.1 SSE4.2 AVX AVX2 FMA\n",
      "To enable them in other operations, rebuild TensorFlow with the appropriate compiler flags.\n",
      "2023-05-25 20:07:23.512938: I tensorflow/core/common_runtime/process_util.cc:146] Creating new thread pool with default inter op setting: 2. Tune using inter_op_parallelism_threads for best performance.\n"
     ]
    },
    {
     "name": "stdout",
     "output_type": "stream",
     "text": [
      "Extracted OpenL3 features\n",
      "[[2.2157934  1.9290091  2.3574586  ... 1.6442878  2.2872317  4.711986  ]\n",
      " [2.201706   1.9353331  1.8863715  ... 1.6986775  3.1935408  2.956579  ]\n",
      " [0.84442735 1.204361   1.4297442  ... 1.0916101  3.3393965  2.8611743 ]\n",
      " ...\n",
      " [1.8664774  1.9104407  1.8204863  ... 1.2246089  3.338956   2.4173915 ]\n",
      " [1.9042293  2.113307   1.8413872  ... 0.88843274 3.2380612  2.9882252 ]\n",
      " [1.6560742  2.1236315  1.296299   ... 1.0323563  3.3608527  2.985633  ]]\n"
     ]
    },
    {
     "name": "stderr",
     "output_type": "stream",
     "text": [
      "2023-05-25 20:07:26.062354: I tensorflow/core/platform/cpu_feature_guard.cc:193] This TensorFlow binary is optimized with oneAPI Deep Neural Network Library (oneDNN) to use the following CPU instructions in performance-critical operations:  SSE4.1 SSE4.2 AVX AVX2 FMA\n",
      "To enable them in other operations, rebuild TensorFlow with the appropriate compiler flags.\n",
      "2023-05-25 20:07:26.063088: I tensorflow/core/common_runtime/process_util.cc:146] Creating new thread pool with default inter op setting: 2. Tune using inter_op_parallelism_threads for best performance.\n"
     ]
    },
    {
     "name": "stdout",
     "output_type": "stream",
     "text": [
      "Extracted OpenL3 features\n",
      "[[2.2157934  1.9290091  2.3574586  ... 1.6442878  2.2872317  4.711986  ]\n",
      " [2.201706   1.9353331  1.8863715  ... 1.6986775  3.1935408  2.956579  ]\n",
      " [0.84442735 1.204361   1.4297442  ... 1.0916101  3.3393965  2.8611743 ]\n",
      " ...\n",
      " [2.6505558  1.8016834  1.1801634  ... 1.3147235  4.3763576  3.7470949 ]\n",
      " [2.5581627  1.932383   1.7406932  ... 1.5376153  4.2164288  3.2326384 ]\n",
      " [2.5745254  1.9094948  1.7602934  ... 1.6206466  2.971904   2.9013088 ]]\n"
     ]
    },
    {
     "name": "stderr",
     "output_type": "stream",
     "text": [
      "2023-05-25 20:07:29.685879: I tensorflow/core/platform/cpu_feature_guard.cc:193] This TensorFlow binary is optimized with oneAPI Deep Neural Network Library (oneDNN) to use the following CPU instructions in performance-critical operations:  SSE4.1 SSE4.2 AVX AVX2 FMA\n",
      "To enable them in other operations, rebuild TensorFlow with the appropriate compiler flags.\n",
      "2023-05-25 20:07:29.686620: I tensorflow/core/common_runtime/process_util.cc:146] Creating new thread pool with default inter op setting: 2. Tune using inter_op_parallelism_threads for best performance.\n"
     ]
    },
    {
     "name": "stdout",
     "output_type": "stream",
     "text": [
      "Extracted OpenL3 features\n",
      "[[2.2157934 1.2783836 2.3574586 ... 1.069399  1.8602293 4.711986 ]\n",
      " [1.1193639 1.4563081 1.2674268 ... 1.3385754 2.214209  3.041035 ]\n",
      " [1.1211843 1.1559103 1.3286194 ... 1.2349994 2.353529  2.8254213]\n",
      " ...\n",
      " [1.0747845 1.4825304 1.2875429 ... 1.2659888 2.0601764 3.4046757]\n",
      " [1.0885752 1.6666561 1.2669154 ... 1.1566614 2.3781474 3.3385763]\n",
      " [2.2657096 1.3349532 2.9533646 ... 1.1283392 2.2433703 5.8276825]]\n"
     ]
    },
    {
     "name": "stderr",
     "output_type": "stream",
     "text": [
      "2023-05-25 20:07:31.713509: I tensorflow/core/platform/cpu_feature_guard.cc:193] This TensorFlow binary is optimized with oneAPI Deep Neural Network Library (oneDNN) to use the following CPU instructions in performance-critical operations:  SSE4.1 SSE4.2 AVX AVX2 FMA\n",
      "To enable them in other operations, rebuild TensorFlow with the appropriate compiler flags.\n",
      "2023-05-25 20:07:31.714210: I tensorflow/core/common_runtime/process_util.cc:146] Creating new thread pool with default inter op setting: 2. Tune using inter_op_parallelism_threads for best performance.\n"
     ]
    },
    {
     "name": "stdout",
     "output_type": "stream",
     "text": [
      "Extracted OpenL3 features\n",
      "[[2.2157934 1.2783836 2.3574586 ... 1.069399  1.8602293 4.711986 ]\n",
      " [1.1193639 1.4563081 1.2674268 ... 1.3385754 2.214209  3.041035 ]\n",
      " [1.1211843 1.1559103 1.3286194 ... 1.2349994 2.353529  2.8254213]\n",
      " ...\n",
      " [0.7706012 1.1301162 1.3292701 ... 1.1647056 1.5643092 3.110175 ]\n",
      " [1.5571415 1.4828448 1.3511826 ... 2.5932138 2.3674095 3.673456 ]\n",
      " [1.2552513 1.6614162 2.6520646 ... 2.5022323 2.511586  3.6449075]]\n"
     ]
    },
    {
     "name": "stderr",
     "output_type": "stream",
     "text": [
      "2023-05-25 20:07:34.022785: I tensorflow/core/platform/cpu_feature_guard.cc:193] This TensorFlow binary is optimized with oneAPI Deep Neural Network Library (oneDNN) to use the following CPU instructions in performance-critical operations:  SSE4.1 SSE4.2 AVX AVX2 FMA\n",
      "To enable them in other operations, rebuild TensorFlow with the appropriate compiler flags.\n",
      "2023-05-25 20:07:34.023509: I tensorflow/core/common_runtime/process_util.cc:146] Creating new thread pool with default inter op setting: 2. Tune using inter_op_parallelism_threads for best performance.\n"
     ]
    },
    {
     "name": "stdout",
     "output_type": "stream",
     "text": [
      "Extracted OpenL3 features\n",
      "[[2.2157934 1.2783836 2.3574586 ... 1.069399  1.8602293 4.711986 ]\n",
      " [1.1193639 1.4563081 1.2674268 ... 1.3385754 2.214209  3.041035 ]\n",
      " [1.1211843 1.1559103 1.3286194 ... 1.2349994 2.353529  2.8254213]\n",
      " ...\n",
      " [1.1683348 1.4864765 1.9974176 ... 1.8068613 3.1247585 3.5774   ]\n",
      " [0.9657901 1.4917403 1.5933883 ... 1.1315329 2.5449595 3.459632 ]\n",
      " [1.2136271 1.6856853 1.5020987 ... 1.2764709 2.441627  3.0478072]]\n"
     ]
    },
    {
     "name": "stderr",
     "output_type": "stream",
     "text": [
      "2023-05-25 20:07:38.377879: I tensorflow/core/platform/cpu_feature_guard.cc:193] This TensorFlow binary is optimized with oneAPI Deep Neural Network Library (oneDNN) to use the following CPU instructions in performance-critical operations:  SSE4.1 SSE4.2 AVX AVX2 FMA\n",
      "To enable them in other operations, rebuild TensorFlow with the appropriate compiler flags.\n",
      "2023-05-25 20:07:38.378583: I tensorflow/core/common_runtime/process_util.cc:146] Creating new thread pool with default inter op setting: 2. Tune using inter_op_parallelism_threads for best performance.\n"
     ]
    },
    {
     "name": "stdout",
     "output_type": "stream",
     "text": [
      "Extracted OpenL3 features\n",
      "[[2.2157934 1.2357597 2.3574586 ... 1.279558  2.8664699 4.711986 ]\n",
      " [1.1878625 1.7828577 1.5218557 ... 1.3039048 2.9181786 2.7396271]\n",
      " [1.8619393 1.7201873 2.017961  ... 1.6019442 2.3348606 2.5575197]\n",
      " ...\n",
      " [1.0926371 1.7788932 1.4660003 ... 1.2756482 2.9424741 2.6416876]\n",
      " [1.7880139 1.8469584 1.4437687 ... 1.3706528 2.9491775 2.308262 ]\n",
      " [2.2699618 1.6549447 3.1325982 ... 1.6330776 1.737806  6.2669134]]\n"
     ]
    },
    {
     "name": "stderr",
     "output_type": "stream",
     "text": [
      "2023-05-25 20:07:40.278445: I tensorflow/core/platform/cpu_feature_guard.cc:193] This TensorFlow binary is optimized with oneAPI Deep Neural Network Library (oneDNN) to use the following CPU instructions in performance-critical operations:  SSE4.1 SSE4.2 AVX AVX2 FMA\n",
      "To enable them in other operations, rebuild TensorFlow with the appropriate compiler flags.\n",
      "2023-05-25 20:07:40.279207: I tensorflow/core/common_runtime/process_util.cc:146] Creating new thread pool with default inter op setting: 2. Tune using inter_op_parallelism_threads for best performance.\n"
     ]
    },
    {
     "name": "stdout",
     "output_type": "stream",
     "text": [
      "Extracted OpenL3 features\n",
      "[[2.2157934 1.2357597 2.3574586 ... 1.279558  2.8664699 4.711986 ]\n",
      " [1.1878625 1.7828577 1.5218557 ... 1.3039048 2.9181786 2.7396271]\n",
      " [1.8619393 1.7201873 2.017961  ... 1.6019442 2.3348606 2.5575197]\n",
      " ...\n",
      " [1.7317041 2.1936846 1.925393  ... 1.6221384 2.9705977 2.4802797]\n",
      " [2.023815  2.1508548 1.5219784 ... 1.7192999 2.9696982 2.6702962]\n",
      " [1.9330184 2.301829  1.4111595 ... 1.6623563 2.087065  2.1289892]]\n"
     ]
    },
    {
     "name": "stderr",
     "output_type": "stream",
     "text": [
      "2023-05-25 20:07:42.672870: I tensorflow/core/platform/cpu_feature_guard.cc:193] This TensorFlow binary is optimized with oneAPI Deep Neural Network Library (oneDNN) to use the following CPU instructions in performance-critical operations:  SSE4.1 SSE4.2 AVX AVX2 FMA\n",
      "To enable them in other operations, rebuild TensorFlow with the appropriate compiler flags.\n",
      "2023-05-25 20:07:42.673596: I tensorflow/core/common_runtime/process_util.cc:146] Creating new thread pool with default inter op setting: 2. Tune using inter_op_parallelism_threads for best performance.\n"
     ]
    },
    {
     "name": "stdout",
     "output_type": "stream",
     "text": [
      "Extracted OpenL3 features\n",
      "[[2.2157934 1.2357597 2.3574586 ... 1.279558  2.8664699 4.711986 ]\n",
      " [1.1878625 1.7828577 1.5218557 ... 1.3039048 2.9181786 2.7396271]\n",
      " [1.8619393 1.7201873 2.017961  ... 1.6019442 2.3348606 2.5575197]\n",
      " ...\n",
      " [1.4337628 1.3594073 1.5246309 ... 1.3039526 2.8532667 2.7441468]\n",
      " [1.2419529 1.7910478 1.4118955 ... 1.3496729 2.9617407 2.6767855]\n",
      " [1.8881196 1.6406343 1.8456587 ... 1.6866932 2.3159394 2.5113275]]\n"
     ]
    },
    {
     "name": "stderr",
     "output_type": "stream",
     "text": [
      "2023-05-25 20:07:46.568549: I tensorflow/core/platform/cpu_feature_guard.cc:193] This TensorFlow binary is optimized with oneAPI Deep Neural Network Library (oneDNN) to use the following CPU instructions in performance-critical operations:  SSE4.1 SSE4.2 AVX AVX2 FMA\n",
      "To enable them in other operations, rebuild TensorFlow with the appropriate compiler flags.\n",
      "2023-05-25 20:07:46.569328: I tensorflow/core/common_runtime/process_util.cc:146] Creating new thread pool with default inter op setting: 2. Tune using inter_op_parallelism_threads for best performance.\n"
     ]
    },
    {
     "name": "stdout",
     "output_type": "stream",
     "text": [
      "Extracted OpenL3 features\n",
      "[[2.2157934 1.6042434 2.3574586 ... 1.1581893 3.5623896 4.711986 ]\n",
      " [1.8920536 1.9628577 2.0659292 ... 1.6925979 3.452003  2.1356719]\n",
      " [2.0390704 1.962237  1.9979165 ... 1.6530653 2.9554582 2.0519245]\n",
      " ...\n",
      " [1.392399  1.7010074 1.8237659 ... 1.3334756 2.7505357 1.9749596]\n",
      " [1.0063279 1.8643273 1.3235538 ... 1.1817223 3.0365827 1.8350961]\n",
      " [1.8949546 1.7983948 2.7599902 ... 1.5261173 2.3269253 5.6812854]]\n"
     ]
    },
    {
     "name": "stderr",
     "output_type": "stream",
     "text": [
      "2023-05-25 20:07:48.500252: I tensorflow/core/platform/cpu_feature_guard.cc:193] This TensorFlow binary is optimized with oneAPI Deep Neural Network Library (oneDNN) to use the following CPU instructions in performance-critical operations:  SSE4.1 SSE4.2 AVX AVX2 FMA\n",
      "To enable them in other operations, rebuild TensorFlow with the appropriate compiler flags.\n",
      "2023-05-25 20:07:48.500956: I tensorflow/core/common_runtime/process_util.cc:146] Creating new thread pool with default inter op setting: 2. Tune using inter_op_parallelism_threads for best performance.\n"
     ]
    },
    {
     "name": "stdout",
     "output_type": "stream",
     "text": [
      "Extracted OpenL3 features\n",
      "[[2.2157934 1.6042434 2.3574586 ... 1.1581893 3.5623896 4.711986 ]\n",
      " [1.8920536 1.9628577 2.0659292 ... 1.6925979 3.452003  2.1356719]\n",
      " [2.0390704 1.962237  1.9979165 ... 1.6530653 2.9554582 2.0519245]\n",
      " ...\n",
      " [1.7580812 1.811242  1.9605196 ... 1.4130933 2.826028  2.0739923]\n",
      " [1.6851437 1.7381301 1.4848322 ... 1.3788322 3.5733023 1.8782978]\n",
      " [1.7909888 1.8605342 1.5033507 ... 1.2163147 3.4389498 2.1134765]]\n"
     ]
    },
    {
     "name": "stderr",
     "output_type": "stream",
     "text": [
      "2023-05-25 20:07:50.908830: I tensorflow/core/platform/cpu_feature_guard.cc:193] This TensorFlow binary is optimized with oneAPI Deep Neural Network Library (oneDNN) to use the following CPU instructions in performance-critical operations:  SSE4.1 SSE4.2 AVX AVX2 FMA\n",
      "To enable them in other operations, rebuild TensorFlow with the appropriate compiler flags.\n",
      "2023-05-25 20:07:50.909521: I tensorflow/core/common_runtime/process_util.cc:146] Creating new thread pool with default inter op setting: 2. Tune using inter_op_parallelism_threads for best performance.\n"
     ]
    },
    {
     "name": "stdout",
     "output_type": "stream",
     "text": [
      "Extracted OpenL3 features\n",
      "[[2.2157934 1.6042434 2.3574586 ... 1.1581893 3.5623896 4.711986 ]\n",
      " [1.8920536 1.9628577 2.0659292 ... 1.6925979 3.452003  2.1356719]\n",
      " [2.0390704 1.962237  1.9979165 ... 1.6530653 2.9554582 2.0519245]\n",
      " ...\n",
      " [2.15022   2.0038006 1.9333522 ... 1.4966791 3.0098805 2.0279226]\n",
      " [1.604271  1.7938474 1.9994377 ... 1.4034069 2.9991307 2.0841126]\n",
      " [1.7877061 1.744677  1.4520879 ... 1.2534528 3.3442292 1.8341311]]\n"
     ]
    },
    {
     "name": "stderr",
     "output_type": "stream",
     "text": [
      "2023-05-25 20:07:54.795684: I tensorflow/core/platform/cpu_feature_guard.cc:193] This TensorFlow binary is optimized with oneAPI Deep Neural Network Library (oneDNN) to use the following CPU instructions in performance-critical operations:  SSE4.1 SSE4.2 AVX AVX2 FMA\n",
      "To enable them in other operations, rebuild TensorFlow with the appropriate compiler flags.\n",
      "2023-05-25 20:07:54.796408: I tensorflow/core/common_runtime/process_util.cc:146] Creating new thread pool with default inter op setting: 2. Tune using inter_op_parallelism_threads for best performance.\n"
     ]
    },
    {
     "name": "stdout",
     "output_type": "stream",
     "text": [
      "Extracted OpenL3 features\n",
      "[[2.2157934 1.6520282 2.3574586 ... 1.1365484 2.7024612 4.711986 ]\n",
      " [1.1724609 1.6203585 1.6029397 ... 1.1527894 2.7576852 2.0514252]\n",
      " [1.1248051 1.7766743 2.790138  ... 2.5041907 3.114124  2.2157526]\n",
      " ...\n",
      " [1.5322199 1.6597639 2.1303809 ... 1.4312085 2.316599  1.9109488]\n",
      " [1.7114555 1.6204133 2.3435247 ... 1.4312388 2.4048517 2.0058234]\n",
      " [2.1759837 1.629633  3.0438056 ... 1.3993629 2.3288138 6.1400313]]\n"
     ]
    },
    {
     "name": "stderr",
     "output_type": "stream",
     "text": [
      "2023-05-25 20:07:56.597545: I tensorflow/core/platform/cpu_feature_guard.cc:193] This TensorFlow binary is optimized with oneAPI Deep Neural Network Library (oneDNN) to use the following CPU instructions in performance-critical operations:  SSE4.1 SSE4.2 AVX AVX2 FMA\n",
      "To enable them in other operations, rebuild TensorFlow with the appropriate compiler flags.\n",
      "2023-05-25 20:07:56.598219: I tensorflow/core/common_runtime/process_util.cc:146] Creating new thread pool with default inter op setting: 2. Tune using inter_op_parallelism_threads for best performance.\n"
     ]
    },
    {
     "name": "stdout",
     "output_type": "stream",
     "text": [
      "Extracted OpenL3 features\n",
      "[[2.2157934 1.6520282 2.3574586 ... 1.1365484 2.7024612 4.711986 ]\n",
      " [1.1724609 1.6203585 1.6029397 ... 1.1527894 2.7576852 2.0514252]\n",
      " [1.1248051 1.7766743 2.790138  ... 2.5041907 3.114124  2.2157526]\n",
      " ...\n",
      " [1.5676056 1.7376646 1.7822337 ... 1.3797408 2.1266806 2.0566633]\n",
      " [1.3599057 1.8156434 1.7751672 ... 1.9312845 2.6725194 2.1514707]\n",
      " [1.615493  1.8306649 2.5590155 ... 1.9990743 2.7086673 1.9991882]]\n"
     ]
    },
    {
     "name": "stderr",
     "output_type": "stream",
     "text": [
      "2023-05-25 20:07:58.938118: I tensorflow/core/platform/cpu_feature_guard.cc:193] This TensorFlow binary is optimized with oneAPI Deep Neural Network Library (oneDNN) to use the following CPU instructions in performance-critical operations:  SSE4.1 SSE4.2 AVX AVX2 FMA\n",
      "To enable them in other operations, rebuild TensorFlow with the appropriate compiler flags.\n",
      "2023-05-25 20:07:58.938838: I tensorflow/core/common_runtime/process_util.cc:146] Creating new thread pool with default inter op setting: 2. Tune using inter_op_parallelism_threads for best performance.\n"
     ]
    },
    {
     "name": "stdout",
     "output_type": "stream",
     "text": [
      "Extracted OpenL3 features\n",
      "[[2.2157934 1.6520282 2.3574586 ... 1.1365484 2.7024612 4.711986 ]\n",
      " [1.1724609 1.6203585 1.6029397 ... 1.1527894 2.7576852 2.0514252]\n",
      " [1.1248051 1.7766743 2.790138  ... 2.5041907 3.114124  2.2157526]\n",
      " ...\n",
      " [1.265578  1.8506032 2.3641796 ... 2.2689686 3.499545  2.3575988]\n",
      " [1.6806511 1.6957214 2.3917544 ... 1.8610286 1.9623418 2.4236274]\n",
      " [1.6352664 1.7565912 1.9363865 ... 1.4363166 2.075894  2.0206094]]\n"
     ]
    },
    {
     "name": "stderr",
     "output_type": "stream",
     "text": [
      "2023-05-25 20:08:02.631555: I tensorflow/core/platform/cpu_feature_guard.cc:193] This TensorFlow binary is optimized with oneAPI Deep Neural Network Library (oneDNN) to use the following CPU instructions in performance-critical operations:  SSE4.1 SSE4.2 AVX AVX2 FMA\n",
      "To enable them in other operations, rebuild TensorFlow with the appropriate compiler flags.\n",
      "2023-05-25 20:08:02.632273: I tensorflow/core/common_runtime/process_util.cc:146] Creating new thread pool with default inter op setting: 2. Tune using inter_op_parallelism_threads for best performance.\n"
     ]
    },
    {
     "name": "stdout",
     "output_type": "stream",
     "text": [
      "Extracted OpenL3 features\n",
      "[[2.2157934  1.7032276  2.3574586  ... 0.72560894 2.5552142  4.711986  ]\n",
      " [1.46239    1.9302531  1.1331555  ... 1.0222658  2.6791604  2.8887942 ]\n",
      " [2.4026175  1.9075098  1.1671791  ... 1.0930293  2.4033449  2.5665834 ]\n",
      " ...\n",
      " [1.7573503  1.8316483  1.1922665  ... 1.0065423  2.7389748  2.585253  ]\n",
      " [1.9746451  1.8674997  1.198059   ... 1.2049046  2.5126274  2.5015383 ]\n",
      " [2.276083   2.0152016  3.134536   ... 1.1943898  2.4893515  6.2902684 ]]\n"
     ]
    },
    {
     "name": "stderr",
     "output_type": "stream",
     "text": [
      "2023-05-25 20:08:04.602139: I tensorflow/core/platform/cpu_feature_guard.cc:193] This TensorFlow binary is optimized with oneAPI Deep Neural Network Library (oneDNN) to use the following CPU instructions in performance-critical operations:  SSE4.1 SSE4.2 AVX AVX2 FMA\n",
      "To enable them in other operations, rebuild TensorFlow with the appropriate compiler flags.\n",
      "2023-05-25 20:08:04.603060: I tensorflow/core/common_runtime/process_util.cc:146] Creating new thread pool with default inter op setting: 2. Tune using inter_op_parallelism_threads for best performance.\n"
     ]
    },
    {
     "name": "stdout",
     "output_type": "stream",
     "text": [
      "Extracted OpenL3 features\n",
      "[[2.2157934  1.7032276  2.3574586  ... 0.72560894 2.5552142  4.711986  ]\n",
      " [1.46239    1.9302531  1.1331555  ... 1.0222658  2.6791604  2.8887942 ]\n",
      " [2.4026175  1.9075098  1.1671791  ... 1.0930293  2.4033449  2.5665834 ]\n",
      " ...\n",
      " [2.1998575  1.8965439  1.0206804  ... 1.2701062  2.3620124  3.126463  ]\n",
      " [1.8166041  1.9589673  1.213313   ... 1.0730195  3.626877   2.9904814 ]\n",
      " [1.057955   2.0635045  1.2594966  ... 1.4813806  2.6486492  2.6081724 ]]\n"
     ]
    },
    {
     "name": "stderr",
     "output_type": "stream",
     "text": [
      "2023-05-25 20:08:07.091085: I tensorflow/core/platform/cpu_feature_guard.cc:193] This TensorFlow binary is optimized with oneAPI Deep Neural Network Library (oneDNN) to use the following CPU instructions in performance-critical operations:  SSE4.1 SSE4.2 AVX AVX2 FMA\n",
      "To enable them in other operations, rebuild TensorFlow with the appropriate compiler flags.\n",
      "2023-05-25 20:08:07.091803: I tensorflow/core/common_runtime/process_util.cc:146] Creating new thread pool with default inter op setting: 2. Tune using inter_op_parallelism_threads for best performance.\n"
     ]
    },
    {
     "name": "stdout",
     "output_type": "stream",
     "text": [
      "Extracted OpenL3 features\n",
      "[[2.2157934  1.7032276  2.3574586  ... 0.72560894 2.5552142  4.711986  ]\n",
      " [1.46239    1.9302531  1.1331555  ... 1.0222658  2.6791604  2.8887942 ]\n",
      " [2.4026175  1.9075098  1.1671791  ... 1.0930293  2.4033449  2.5665834 ]\n",
      " ...\n",
      " [2.1022022  2.024597   0.935332   ... 1.2954222  2.7471776  2.4360907 ]\n",
      " [1.7732041  1.8266754  1.2311174  ... 1.2664033  3.1719244  3.048261  ]\n",
      " [1.6514341  1.9918962  1.2075303  ... 1.3116374  3.6236768  2.9857295 ]]\n"
     ]
    },
    {
     "name": "stderr",
     "output_type": "stream",
     "text": [
      "2023-05-25 20:08:10.697756: I tensorflow/core/platform/cpu_feature_guard.cc:193] This TensorFlow binary is optimized with oneAPI Deep Neural Network Library (oneDNN) to use the following CPU instructions in performance-critical operations:  SSE4.1 SSE4.2 AVX AVX2 FMA\n",
      "To enable them in other operations, rebuild TensorFlow with the appropriate compiler flags.\n",
      "2023-05-25 20:08:10.698461: I tensorflow/core/common_runtime/process_util.cc:146] Creating new thread pool with default inter op setting: 2. Tune using inter_op_parallelism_threads for best performance.\n"
     ]
    },
    {
     "name": "stdout",
     "output_type": "stream",
     "text": [
      "Extracted OpenL3 features\n",
      "[[2.2157934 1.7839223 2.3574586 ... 1.428421  3.4330008 4.711986 ]\n",
      " [2.1264906 1.9168062 1.469069  ... 1.9752457 3.4278312 2.3005707]\n",
      " [2.1916785 1.9769869 0.8561824 ... 2.0168426 2.2915578 2.3364034]\n",
      " ...\n",
      " [1.3172992 2.0073383 1.4717733 ... 1.4105959 3.417055  2.4559686]\n",
      " [2.1645606 2.0125322 1.4609658 ... 1.5602041 3.4775734 2.629631 ]\n",
      " [2.171599  2.0099483 2.9783473 ... 1.5131053 2.6889994 5.930726 ]]\n"
     ]
    },
    {
     "name": "stderr",
     "output_type": "stream",
     "text": [
      "2023-05-25 20:08:12.765361: I tensorflow/core/platform/cpu_feature_guard.cc:193] This TensorFlow binary is optimized with oneAPI Deep Neural Network Library (oneDNN) to use the following CPU instructions in performance-critical operations:  SSE4.1 SSE4.2 AVX AVX2 FMA\n",
      "To enable them in other operations, rebuild TensorFlow with the appropriate compiler flags.\n",
      "2023-05-25 20:08:12.766109: I tensorflow/core/common_runtime/process_util.cc:146] Creating new thread pool with default inter op setting: 2. Tune using inter_op_parallelism_threads for best performance.\n"
     ]
    },
    {
     "name": "stdout",
     "output_type": "stream",
     "text": [
      "Extracted OpenL3 features\n",
      "[[2.2157934 1.7839223 2.3574586 ... 1.428421  3.4330008 4.711986 ]\n",
      " [2.1264906 1.9168062 1.469069  ... 1.9752457 3.4278312 2.3005707]\n",
      " [2.1916785 1.9769869 0.8561824 ... 2.0168426 2.2915578 2.3364034]\n",
      " ...\n",
      " [1.8596406 2.3054297 1.2769439 ... 1.5512496 3.2208376 2.7770524]\n",
      " [1.9978514 2.3724856 1.2418998 ... 1.5458536 2.8944428 2.7856283]\n",
      " [1.9626372 2.039036  1.1865561 ... 1.2230469 2.4982264 2.5388467]]\n"
     ]
    },
    {
     "name": "stderr",
     "output_type": "stream",
     "text": [
      "2023-05-25 20:08:15.311294: I tensorflow/core/platform/cpu_feature_guard.cc:193] This TensorFlow binary is optimized with oneAPI Deep Neural Network Library (oneDNN) to use the following CPU instructions in performance-critical operations:  SSE4.1 SSE4.2 AVX AVX2 FMA\n",
      "To enable them in other operations, rebuild TensorFlow with the appropriate compiler flags.\n",
      "2023-05-25 20:08:15.312042: I tensorflow/core/common_runtime/process_util.cc:146] Creating new thread pool with default inter op setting: 2. Tune using inter_op_parallelism_threads for best performance.\n"
     ]
    },
    {
     "name": "stdout",
     "output_type": "stream",
     "text": [
      "Extracted OpenL3 features\n",
      "[[2.2157934  1.7839223  2.3574586  ... 1.428421   3.4330008  4.711986  ]\n",
      " [2.1264906  1.9168062  1.469069   ... 1.9752457  3.4278312  2.3005707 ]\n",
      " [2.1916785  1.9769869  0.8561824  ... 2.0168426  2.2915578  2.3364034 ]\n",
      " ...\n",
      " [1.1669083  2.2897568  1.3481386  ... 1.5216453  3.041758   1.8993726 ]\n",
      " [2.1603942  2.0109932  0.9329847  ... 1.6145625  3.772975   2.0213993 ]\n",
      " [2.2577252  1.6323467  0.97659343 ... 1.389912   3.8887424  3.361721  ]]\n"
     ]
    },
    {
     "name": "stderr",
     "output_type": "stream",
     "text": [
      "2023-05-25 20:08:18.903763: I tensorflow/core/platform/cpu_feature_guard.cc:193] This TensorFlow binary is optimized with oneAPI Deep Neural Network Library (oneDNN) to use the following CPU instructions in performance-critical operations:  SSE4.1 SSE4.2 AVX AVX2 FMA\n",
      "To enable them in other operations, rebuild TensorFlow with the appropriate compiler flags.\n",
      "2023-05-25 20:08:18.904454: I tensorflow/core/common_runtime/process_util.cc:146] Creating new thread pool with default inter op setting: 2. Tune using inter_op_parallelism_threads for best performance.\n"
     ]
    },
    {
     "name": "stdout",
     "output_type": "stream",
     "text": [
      "Extracted OpenL3 features\n",
      "[[2.2157934 1.5766895 2.3574586 ... 1.4694406 2.69145   4.711986 ]\n",
      " [1.2914597 1.6470337 1.8992453 ... 1.4361833 4.499872  2.9481647]\n",
      " [0.9511303 2.3039074 1.9686557 ... 2.1304803 4.4361863 2.9322858]\n",
      " ...\n",
      " [1.8874608 1.8058721 2.3440924 ... 2.184626  3.4321303 2.6258292]\n",
      " [1.787958  2.227118  2.271197  ... 1.386911  3.6991038 2.5064201]\n",
      " [1.9063625 1.5336285 2.7931237 ... 1.6551986 3.4790409 5.73424  ]]\n"
     ]
    },
    {
     "name": "stderr",
     "output_type": "stream",
     "text": [
      "2023-05-25 20:08:20.771690: I tensorflow/core/platform/cpu_feature_guard.cc:193] This TensorFlow binary is optimized with oneAPI Deep Neural Network Library (oneDNN) to use the following CPU instructions in performance-critical operations:  SSE4.1 SSE4.2 AVX AVX2 FMA\n",
      "To enable them in other operations, rebuild TensorFlow with the appropriate compiler flags.\n",
      "2023-05-25 20:08:20.772535: I tensorflow/core/common_runtime/process_util.cc:146] Creating new thread pool with default inter op setting: 2. Tune using inter_op_parallelism_threads for best performance.\n"
     ]
    },
    {
     "name": "stdout",
     "output_type": "stream",
     "text": [
      "Extracted OpenL3 features\n",
      "[[2.2157934 1.5766895 2.3574586 ... 1.4694406 2.69145   4.711986 ]\n",
      " [1.2914597 1.6470337 1.8992453 ... 1.4361833 4.499872  2.9481647]\n",
      " [0.9511303 2.3039074 1.9686557 ... 2.1304803 4.4361863 2.9322858]\n",
      " ...\n",
      " [1.7230874 1.8236558 2.4134386 ... 2.1588545 2.989918  3.4469652]\n",
      " [1.871604  2.235064  2.178099  ... 2.170869  3.3635726 2.6179717]\n",
      " [1.3159676 2.2392213 2.2088397 ... 1.3357313 3.359487  2.7803073]]\n"
     ]
    },
    {
     "name": "stderr",
     "output_type": "stream",
     "text": [
      "2023-05-25 20:08:23.100381: I tensorflow/core/platform/cpu_feature_guard.cc:193] This TensorFlow binary is optimized with oneAPI Deep Neural Network Library (oneDNN) to use the following CPU instructions in performance-critical operations:  SSE4.1 SSE4.2 AVX AVX2 FMA\n",
      "To enable them in other operations, rebuild TensorFlow with the appropriate compiler flags.\n",
      "2023-05-25 20:08:23.101026: I tensorflow/core/common_runtime/process_util.cc:146] Creating new thread pool with default inter op setting: 2. Tune using inter_op_parallelism_threads for best performance.\n"
     ]
    },
    {
     "name": "stdout",
     "output_type": "stream",
     "text": [
      "Extracted OpenL3 features\n",
      "[[2.2157934 1.5766895 2.3574586 ... 1.4694406 2.69145   4.711986 ]\n",
      " [1.2914597 1.6470337 1.8992453 ... 1.4361833 4.499872  2.9481647]\n",
      " [0.9511303 2.3039074 1.9686557 ... 2.1304803 4.4361863 2.9322858]\n",
      " ...\n",
      " [2.4834142 1.7914395 1.6604271 ... 2.2742155 3.4325461 3.2074754]\n",
      " [1.8891144 1.8161583 2.391577  ... 2.184824  3.4123983 2.626524 ]\n",
      " [1.7820625 2.1966326 2.2730932 ... 1.3828555 3.7014606 2.6965072]]\n"
     ]
    },
    {
     "name": "stderr",
     "output_type": "stream",
     "text": [
      "2023-05-25 20:08:26.649615: I tensorflow/core/platform/cpu_feature_guard.cc:193] This TensorFlow binary is optimized with oneAPI Deep Neural Network Library (oneDNN) to use the following CPU instructions in performance-critical operations:  SSE4.1 SSE4.2 AVX AVX2 FMA\n",
      "To enable them in other operations, rebuild TensorFlow with the appropriate compiler flags.\n",
      "2023-05-25 20:08:26.650418: I tensorflow/core/common_runtime/process_util.cc:146] Creating new thread pool with default inter op setting: 2. Tune using inter_op_parallelism_threads for best performance.\n"
     ]
    },
    {
     "name": "stdout",
     "output_type": "stream",
     "text": [
      "Extracted OpenL3 features\n",
      "[[2.2157934  1.5977774  2.3574586  ... 1.083748   3.8738606  4.711986  ]\n",
      " [1.1265348  1.9501345  1.6592277  ... 1.2963611  3.9913116  2.3892815 ]\n",
      " [1.5907863  1.9742101  1.2167937  ... 1.8759084  3.2879589  2.058078  ]\n",
      " ...\n",
      " [1.371776   1.4867643  1.0535574  ... 1.4006734  3.1712673  2.298909  ]\n",
      " [0.97875756 1.8605223  1.5501055  ... 2.0005279  1.6604712  2.8519113 ]\n",
      " [2.373328   1.8685195  3.1606348  ... 1.7581517  1.6783873  6.439065  ]]\n"
     ]
    },
    {
     "name": "stderr",
     "output_type": "stream",
     "text": [
      "2023-05-25 20:08:28.528857: I tensorflow/core/platform/cpu_feature_guard.cc:193] This TensorFlow binary is optimized with oneAPI Deep Neural Network Library (oneDNN) to use the following CPU instructions in performance-critical operations:  SSE4.1 SSE4.2 AVX AVX2 FMA\n",
      "To enable them in other operations, rebuild TensorFlow with the appropriate compiler flags.\n",
      "2023-05-25 20:08:28.529526: I tensorflow/core/common_runtime/process_util.cc:146] Creating new thread pool with default inter op setting: 2. Tune using inter_op_parallelism_threads for best performance.\n"
     ]
    },
    {
     "name": "stdout",
     "output_type": "stream",
     "text": [
      "Extracted OpenL3 features\n",
      "[[2.2157934 1.5977774 2.3574586 ... 1.083748  3.8738606 4.711986 ]\n",
      " [1.1265348 1.9501345 1.6592277 ... 1.2963611 3.9913116 2.3892815]\n",
      " [1.5907863 1.9742101 1.2167937 ... 1.8759084 3.2879589 2.058078 ]\n",
      " ...\n",
      " [1.0568492 1.5609155 1.1341398 ... 1.4631019 3.1270452 2.3517125]\n",
      " [1.3749585 1.5196104 1.2967786 ... 1.5991317 3.435631  2.833187 ]\n",
      " [1.7816658 1.8542753 1.8700914 ... 2.0973458 1.5198805 2.8973224]]\n"
     ]
    },
    {
     "name": "stderr",
     "output_type": "stream",
     "text": [
      "2023-05-25 20:08:30.852550: I tensorflow/core/platform/cpu_feature_guard.cc:193] This TensorFlow binary is optimized with oneAPI Deep Neural Network Library (oneDNN) to use the following CPU instructions in performance-critical operations:  SSE4.1 SSE4.2 AVX AVX2 FMA\n",
      "To enable them in other operations, rebuild TensorFlow with the appropriate compiler flags.\n",
      "2023-05-25 20:08:30.853264: I tensorflow/core/common_runtime/process_util.cc:146] Creating new thread pool with default inter op setting: 2. Tune using inter_op_parallelism_threads for best performance.\n"
     ]
    },
    {
     "name": "stdout",
     "output_type": "stream",
     "text": [
      "Extracted OpenL3 features\n",
      "[[2.2157934 1.5977774 2.3574586 ... 1.083748  3.8738606 4.711986 ]\n",
      " [1.1265348 1.9501345 1.6592277 ... 1.2963611 3.9913116 2.3892815]\n",
      " [1.5907863 1.9742101 1.2167937 ... 1.8759084 3.2879589 2.058078 ]\n",
      " ...\n",
      " [1.2535645 1.6125929 1.0510886 ... 1.3130199 1.7862942 2.3774393]\n",
      " [0.9151885 1.5673873 1.1098698 ... 1.4420921 3.4183443 2.1664088]\n",
      " [1.7080618 1.8884007 1.174514  ... 2.152164  3.208586  2.8035073]]\n"
     ]
    },
    {
     "name": "stderr",
     "output_type": "stream",
     "text": [
      "2023-05-25 20:08:35.294684: I tensorflow/core/platform/cpu_feature_guard.cc:193] This TensorFlow binary is optimized with oneAPI Deep Neural Network Library (oneDNN) to use the following CPU instructions in performance-critical operations:  SSE4.1 SSE4.2 AVX AVX2 FMA\n",
      "To enable them in other operations, rebuild TensorFlow with the appropriate compiler flags.\n",
      "2023-05-25 20:08:35.295391: I tensorflow/core/common_runtime/process_util.cc:146] Creating new thread pool with default inter op setting: 2. Tune using inter_op_parallelism_threads for best performance.\n"
     ]
    },
    {
     "name": "stdout",
     "output_type": "stream",
     "text": [
      "Extracted OpenL3 features\n",
      "[[2.4869726 0.8695026 2.3574586 ... 0.97523   2.618031  4.711986 ]\n",
      " [2.3582752 1.735474  1.170685  ... 1.01535   2.6789892 3.1815457]\n",
      " [1.7678436 1.7373139 1.8137256 ... 1.690916  2.6215086 3.2744005]\n",
      " ...\n",
      " [1.0082793 1.6536554 1.1844399 ... 1.425508  3.293491  2.472461 ]\n",
      " [1.87479   1.5803297 1.2529298 ... 1.3371797 3.3994086 2.606742 ]\n",
      " [1.8949546 1.4402393 2.7192373 ... 1.3805561 3.5128782 5.850624 ]]\n"
     ]
    },
    {
     "name": "stderr",
     "output_type": "stream",
     "text": [
      "2023-05-25 20:08:37.175568: I tensorflow/core/platform/cpu_feature_guard.cc:193] This TensorFlow binary is optimized with oneAPI Deep Neural Network Library (oneDNN) to use the following CPU instructions in performance-critical operations:  SSE4.1 SSE4.2 AVX AVX2 FMA\n",
      "To enable them in other operations, rebuild TensorFlow with the appropriate compiler flags.\n",
      "2023-05-25 20:08:37.176422: I tensorflow/core/common_runtime/process_util.cc:146] Creating new thread pool with default inter op setting: 2. Tune using inter_op_parallelism_threads for best performance.\n"
     ]
    },
    {
     "name": "stdout",
     "output_type": "stream",
     "text": [
      "Extracted OpenL3 features\n",
      "[[2.4869726 0.8695026 2.3574586 ... 0.97523   2.618031  4.711986 ]\n",
      " [2.3582752 1.735474  1.170685  ... 1.01535   2.6789892 3.1815457]\n",
      " [1.7678436 1.7373139 1.8137256 ... 1.690916  2.6215086 3.2744005]\n",
      " ...\n",
      " [1.5537343 1.6620301 1.1562937 ... 1.4704626 4.0992265 2.3679566]\n",
      " [1.0595886 1.6424769 1.1967312 ... 1.4439478 3.3092659 2.8604198]\n",
      " [1.7991343 1.5686624 1.3091344 ... 1.4114622 3.6259181 2.828431 ]]\n"
     ]
    },
    {
     "name": "stderr",
     "output_type": "stream",
     "text": [
      "2023-05-25 20:08:39.625065: I tensorflow/core/platform/cpu_feature_guard.cc:193] This TensorFlow binary is optimized with oneAPI Deep Neural Network Library (oneDNN) to use the following CPU instructions in performance-critical operations:  SSE4.1 SSE4.2 AVX AVX2 FMA\n",
      "To enable them in other operations, rebuild TensorFlow with the appropriate compiler flags.\n",
      "2023-05-25 20:08:39.625838: I tensorflow/core/common_runtime/process_util.cc:146] Creating new thread pool with default inter op setting: 2. Tune using inter_op_parallelism_threads for best performance.\n"
     ]
    },
    {
     "name": "stdout",
     "output_type": "stream",
     "text": [
      "Extracted OpenL3 features\n",
      "[[2.4869726 0.8695026 2.3574586 ... 0.97523   2.618031  4.711986 ]\n",
      " [2.3582752 1.735474  1.170685  ... 1.01535   2.6789892 3.1815457]\n",
      " [1.7678436 1.7373139 1.8137256 ... 1.690916  2.6215086 3.2744005]\n",
      " ...\n",
      " [1.0204922 1.6734627 1.2003106 ... 1.4337246 3.3182604 2.4193559]\n",
      " [1.4362084 1.5477338 1.3944792 ... 1.3648865 3.335275  2.751376 ]\n",
      " [1.7924488 1.5437509 1.3120177 ... 1.4612536 3.5396786 2.6532414]]\n"
     ]
    },
    {
     "name": "stderr",
     "output_type": "stream",
     "text": [
      "2023-05-25 20:08:44.048664: I tensorflow/core/platform/cpu_feature_guard.cc:193] This TensorFlow binary is optimized with oneAPI Deep Neural Network Library (oneDNN) to use the following CPU instructions in performance-critical operations:  SSE4.1 SSE4.2 AVX AVX2 FMA\n",
      "To enable them in other operations, rebuild TensorFlow with the appropriate compiler flags.\n",
      "2023-05-25 20:08:44.049422: I tensorflow/core/common_runtime/process_util.cc:146] Creating new thread pool with default inter op setting: 2. Tune using inter_op_parallelism_threads for best performance.\n"
     ]
    },
    {
     "name": "stdout",
     "output_type": "stream",
     "text": [
      "Extracted OpenL3 features\n",
      "[[2.5885444 1.3684373 2.3574586 ... 1.27921   2.201424  4.711986 ]\n",
      " [2.6296756 1.3791851 1.4790578 ... 1.3578513 2.509785  3.0056067]\n",
      " [1.9085977 1.4356085 1.7422074 ... 1.2819054 3.2542827 2.2175887]\n",
      " ...\n",
      " [2.1541328 2.0572083 2.230579  ... 2.134874  2.1833143 3.2711225]\n",
      " [2.0284553 2.0297074 1.9577271 ... 2.0854897 2.5363958 3.3720372]\n",
      " [2.0251358 2.0478694 3.0768542 ... 1.3823645 2.5285351 5.9998064]]\n"
     ]
    },
    {
     "name": "stderr",
     "output_type": "stream",
     "text": [
      "2023-05-25 20:08:45.994746: I tensorflow/core/platform/cpu_feature_guard.cc:193] This TensorFlow binary is optimized with oneAPI Deep Neural Network Library (oneDNN) to use the following CPU instructions in performance-critical operations:  SSE4.1 SSE4.2 AVX AVX2 FMA\n",
      "To enable them in other operations, rebuild TensorFlow with the appropriate compiler flags.\n",
      "2023-05-25 20:08:45.995454: I tensorflow/core/common_runtime/process_util.cc:146] Creating new thread pool with default inter op setting: 2. Tune using inter_op_parallelism_threads for best performance.\n"
     ]
    },
    {
     "name": "stdout",
     "output_type": "stream",
     "text": [
      "Extracted OpenL3 features\n",
      "[[2.5885444 1.3684373 2.3574586 ... 1.27921   2.201424  4.711986 ]\n",
      " [2.6296756 1.3791851 1.4790578 ... 1.3578513 2.509785  3.0056067]\n",
      " [1.9085977 1.4356085 1.7422074 ... 1.2819054 3.2542827 2.2175887]\n",
      " ...\n",
      " [1.9724245 1.8298824 2.2602248 ... 1.6809174 2.148618  2.734036 ]\n",
      " [2.074006  2.0345435 2.2339528 ... 2.1058798 2.2586029 3.187341 ]\n",
      " [2.0802886 1.9842986 1.8820242 ... 2.124925  2.5228293 3.2843888]]\n"
     ]
    },
    {
     "name": "stderr",
     "output_type": "stream",
     "text": [
      "2023-05-25 20:08:48.305433: I tensorflow/core/platform/cpu_feature_guard.cc:193] This TensorFlow binary is optimized with oneAPI Deep Neural Network Library (oneDNN) to use the following CPU instructions in performance-critical operations:  SSE4.1 SSE4.2 AVX AVX2 FMA\n",
      "To enable them in other operations, rebuild TensorFlow with the appropriate compiler flags.\n",
      "2023-05-25 20:08:48.306102: I tensorflow/core/common_runtime/process_util.cc:146] Creating new thread pool with default inter op setting: 2. Tune using inter_op_parallelism_threads for best performance.\n"
     ]
    },
    {
     "name": "stdout",
     "output_type": "stream",
     "text": [
      "Extracted OpenL3 features\n",
      "[[2.5885444 1.3684373 2.3574586 ... 1.27921   2.201424  4.711986 ]\n",
      " [2.6296756 1.3791851 1.4790578 ... 1.3578513 2.509785  3.0056067]\n",
      " [1.9085977 1.4356085 1.7422074 ... 1.2819054 3.2542827 2.2175887]\n",
      " ...\n",
      " [1.7642353 1.8239181 2.152283  ... 1.590459  1.9465514 2.6148622]\n",
      " [2.12204   2.0507185 2.2798028 ... 2.034295  2.2741215 3.3088617]\n",
      " [2.0700533 2.0207124 1.9079888 ... 2.0732183 2.439341  3.179705 ]]\n"
     ]
    },
    {
     "name": "stderr",
     "output_type": "stream",
     "text": [
      "2023-05-25 20:08:52.598090: I tensorflow/core/platform/cpu_feature_guard.cc:193] This TensorFlow binary is optimized with oneAPI Deep Neural Network Library (oneDNN) to use the following CPU instructions in performance-critical operations:  SSE4.1 SSE4.2 AVX AVX2 FMA\n",
      "To enable them in other operations, rebuild TensorFlow with the appropriate compiler flags.\n",
      "2023-05-25 20:08:52.598834: I tensorflow/core/common_runtime/process_util.cc:146] Creating new thread pool with default inter op setting: 2. Tune using inter_op_parallelism_threads for best performance.\n"
     ]
    },
    {
     "name": "stdout",
     "output_type": "stream",
     "text": [
      "Extracted OpenL3 features\n",
      "[[2.2157934 1.6411858 2.3574586 ... 1.3546435 3.236077  4.711986 ]\n",
      " [1.5810984 1.9907166 1.113791  ... 2.0399399 3.229316  4.1349773]\n",
      " [1.5659397 2.3070154 1.7272373 ... 2.8788648 2.1631782 3.6391199]\n",
      " ...\n",
      " [1.7504716 1.6048554 1.3034934 ... 1.258259  3.2162917 4.2186775]\n",
      " [1.7174699 1.5884565 1.0722992 ... 1.3504119 3.253621  4.1117997]\n",
      " [2.494164  2.233142  3.2259288 ... 2.7871125 1.8179348 6.481231 ]]\n"
     ]
    },
    {
     "name": "stderr",
     "output_type": "stream",
     "text": [
      "2023-05-25 20:08:54.472761: I tensorflow/core/platform/cpu_feature_guard.cc:193] This TensorFlow binary is optimized with oneAPI Deep Neural Network Library (oneDNN) to use the following CPU instructions in performance-critical operations:  SSE4.1 SSE4.2 AVX AVX2 FMA\n",
      "To enable them in other operations, rebuild TensorFlow with the appropriate compiler flags.\n",
      "2023-05-25 20:08:54.473430: I tensorflow/core/common_runtime/process_util.cc:146] Creating new thread pool with default inter op setting: 2. Tune using inter_op_parallelism_threads for best performance.\n"
     ]
    },
    {
     "name": "stdout",
     "output_type": "stream",
     "text": [
      "Extracted OpenL3 features\n",
      "[[2.2157934 1.6411858 2.3574586 ... 1.3546435 3.236077  4.711986 ]\n",
      " [1.5810984 1.9907166 1.113791  ... 2.0399399 3.229316  4.1349773]\n",
      " [1.5659397 2.3070154 1.7272373 ... 2.8788648 2.1631782 3.6391199]\n",
      " ...\n",
      " [1.6018629 2.305757  1.3661247 ... 2.7976632 2.0383332 3.5791297]\n",
      " [1.5029458 2.308388  1.5114645 ... 2.810672  2.3769045 3.4775112]\n",
      " [1.7363323 2.006457  1.3967336 ... 1.4222975 2.587469  4.4564466]]\n"
     ]
    },
    {
     "name": "stderr",
     "output_type": "stream",
     "text": [
      "2023-05-25 20:08:56.868089: I tensorflow/core/platform/cpu_feature_guard.cc:193] This TensorFlow binary is optimized with oneAPI Deep Neural Network Library (oneDNN) to use the following CPU instructions in performance-critical operations:  SSE4.1 SSE4.2 AVX AVX2 FMA\n",
      "To enable them in other operations, rebuild TensorFlow with the appropriate compiler flags.\n",
      "2023-05-25 20:08:56.869041: I tensorflow/core/common_runtime/process_util.cc:146] Creating new thread pool with default inter op setting: 2. Tune using inter_op_parallelism_threads for best performance.\n"
     ]
    },
    {
     "name": "stdout",
     "output_type": "stream",
     "text": [
      "Extracted OpenL3 features\n",
      "[[2.2157934 1.6411858 2.3574586 ... 1.3546435 3.236077  4.711986 ]\n",
      " [1.5810984 1.9907166 1.113791  ... 2.0399399 3.229316  4.1349773]\n",
      " [1.5659397 2.3070154 1.7272373 ... 2.8788648 2.1631782 3.6391199]\n",
      " ...\n",
      " [1.9602128 1.864908  1.5248305 ... 1.2200207 3.6707048 3.4915733]\n",
      " [2.1830704 1.7429221 1.584133  ... 1.101017  3.5626602 3.792118 ]\n",
      " [2.259439  1.5046058 1.3834608 ... 1.105408  3.6685731 3.6987019]]\n"
     ]
    },
    {
     "name": "stderr",
     "output_type": "stream",
     "text": [
      "2023-05-25 20:09:01.260645: I tensorflow/core/platform/cpu_feature_guard.cc:193] This TensorFlow binary is optimized with oneAPI Deep Neural Network Library (oneDNN) to use the following CPU instructions in performance-critical operations:  SSE4.1 SSE4.2 AVX AVX2 FMA\n",
      "To enable them in other operations, rebuild TensorFlow with the appropriate compiler flags.\n",
      "2023-05-25 20:09:01.261317: I tensorflow/core/common_runtime/process_util.cc:146] Creating new thread pool with default inter op setting: 2. Tune using inter_op_parallelism_threads for best performance.\n"
     ]
    },
    {
     "name": "stdout",
     "output_type": "stream",
     "text": [
      "Extracted OpenL3 features\n",
      "[[2.2157934 1.6392266 2.3574586 ... 1.4343762 1.6009208 4.711986 ]\n",
      " [1.2092954 2.0781744 1.3478072 ... 1.7028431 2.466088  2.5482175]\n",
      " [1.7092392 2.0644753 1.3914661 ... 1.7984251 3.4142988 2.4152186]\n",
      " ...\n",
      " [1.6929067 1.9661412 1.4405544 ... 1.8671889 3.272728  2.4316483]\n",
      " [1.5260828 1.7927914 1.4688377 ... 1.5267425 3.334782  2.5926552]\n",
      " [2.0565476 1.7456375 3.0343878 ... 1.474942  1.854362  6.30353  ]]\n"
     ]
    },
    {
     "name": "stderr",
     "output_type": "stream",
     "text": [
      "2023-05-25 20:09:03.093528: I tensorflow/core/platform/cpu_feature_guard.cc:193] This TensorFlow binary is optimized with oneAPI Deep Neural Network Library (oneDNN) to use the following CPU instructions in performance-critical operations:  SSE4.1 SSE4.2 AVX AVX2 FMA\n",
      "To enable them in other operations, rebuild TensorFlow with the appropriate compiler flags.\n",
      "2023-05-25 20:09:03.094220: I tensorflow/core/common_runtime/process_util.cc:146] Creating new thread pool with default inter op setting: 2. Tune using inter_op_parallelism_threads for best performance.\n"
     ]
    },
    {
     "name": "stdout",
     "output_type": "stream",
     "text": [
      "Extracted OpenL3 features\n",
      "[[2.2157934 1.6392266 2.3574586 ... 1.4343762 1.6009208 4.711986 ]\n",
      " [1.2092954 2.0781744 1.3478072 ... 1.7028431 2.466088  2.5482175]\n",
      " [1.7092392 2.0644753 1.3914661 ... 1.7984251 3.4142988 2.4152186]\n",
      " ...\n",
      " [1.6051717 1.9488999 1.5539223 ... 1.88377   2.7928345 2.4174473]\n",
      " [1.5876917 1.9527098 1.4532895 ... 1.8668189 3.3353512 2.8317869]\n",
      " [1.6154588 1.718232  1.2650741 ... 1.345425  1.9425135 2.5790014]]\n"
     ]
    },
    {
     "name": "stderr",
     "output_type": "stream",
     "text": [
      "2023-05-25 20:09:05.633137: I tensorflow/core/platform/cpu_feature_guard.cc:193] This TensorFlow binary is optimized with oneAPI Deep Neural Network Library (oneDNN) to use the following CPU instructions in performance-critical operations:  SSE4.1 SSE4.2 AVX AVX2 FMA\n",
      "To enable them in other operations, rebuild TensorFlow with the appropriate compiler flags.\n",
      "2023-05-25 20:09:05.633763: I tensorflow/core/common_runtime/process_util.cc:146] Creating new thread pool with default inter op setting: 2. Tune using inter_op_parallelism_threads for best performance.\n"
     ]
    },
    {
     "name": "stdout",
     "output_type": "stream",
     "text": [
      "Extracted OpenL3 features\n",
      "[[2.2157934 1.6392266 2.3574586 ... 1.4343762 1.6009208 4.711986 ]\n",
      " [1.2092954 2.0781744 1.3478072 ... 1.7028431 2.466088  2.5482175]\n",
      " [1.7092392 2.0644753 1.3914661 ... 1.7984251 3.4142988 2.4152186]\n",
      " ...\n",
      " [1.5822825 1.926841  1.3805331 ... 1.966601  2.973261  2.4927895]\n",
      " [1.828238  1.9322346 1.4781514 ... 1.8868425 3.286288  2.4820242]\n",
      " [1.7421417 1.7133163 1.1124095 ... 1.4257305 3.3069968 2.7356408]]\n"
     ]
    },
    {
     "name": "stderr",
     "output_type": "stream",
     "text": [
      "2023-05-25 20:09:10.043180: I tensorflow/core/platform/cpu_feature_guard.cc:193] This TensorFlow binary is optimized with oneAPI Deep Neural Network Library (oneDNN) to use the following CPU instructions in performance-critical operations:  SSE4.1 SSE4.2 AVX AVX2 FMA\n",
      "To enable them in other operations, rebuild TensorFlow with the appropriate compiler flags.\n",
      "2023-05-25 20:09:10.043896: I tensorflow/core/common_runtime/process_util.cc:146] Creating new thread pool with default inter op setting: 2. Tune using inter_op_parallelism_threads for best performance.\n"
     ]
    },
    {
     "name": "stdout",
     "output_type": "stream",
     "text": [
      "Extracted OpenL3 features\n",
      "[[2.2157934  0.9147424  2.3574586  ... 1.139162   3.6180305  4.711986  ]\n",
      " [1.3057439  1.5557592  1.9282656  ... 1.1642258  2.9790587  3.3227909 ]\n",
      " [1.3215082  1.5869596  1.2676611  ... 1.5017518  2.606381   2.7864664 ]\n",
      " ...\n",
      " [1.4451126  1.8824803  0.99825466 ... 1.1772194  4.327633   2.8844333 ]\n",
      " [1.2413119  1.6263589  1.5555847  ... 1.0621858  3.298334   2.77917   ]\n",
      " [2.234181   1.299369   3.1312451  ... 1.1493714  1.8457417  6.037137  ]]\n"
     ]
    },
    {
     "name": "stderr",
     "output_type": "stream",
     "text": [
      "2023-05-25 20:09:11.933192: I tensorflow/core/platform/cpu_feature_guard.cc:193] This TensorFlow binary is optimized with oneAPI Deep Neural Network Library (oneDNN) to use the following CPU instructions in performance-critical operations:  SSE4.1 SSE4.2 AVX AVX2 FMA\n",
      "To enable them in other operations, rebuild TensorFlow with the appropriate compiler flags.\n",
      "2023-05-25 20:09:11.933867: I tensorflow/core/common_runtime/process_util.cc:146] Creating new thread pool with default inter op setting: 2. Tune using inter_op_parallelism_threads for best performance.\n"
     ]
    },
    {
     "name": "stdout",
     "output_type": "stream",
     "text": [
      "Extracted OpenL3 features\n",
      "[[2.2157934 0.9147424 2.3574586 ... 1.139162  3.6180305 4.711986 ]\n",
      " [1.3057439 1.5557592 1.9282656 ... 1.1642258 2.9790587 3.3227909]\n",
      " [1.3215082 1.5869596 1.2676611 ... 1.5017518 2.606381  2.7864664]\n",
      " ...\n",
      " [1.1194324 1.82123   1.2242247 ... 1.2386969 3.680965  2.796791 ]\n",
      " [1.6692804 2.0673208 1.1569508 ... 1.2591573 4.3887763 2.8166282]\n",
      " [1.6944686 1.6127881 1.186027  ... 1.222645  4.6471176 2.7358234]]\n"
     ]
    },
    {
     "name": "stderr",
     "output_type": "stream",
     "text": [
      "2023-05-25 20:09:14.322095: I tensorflow/core/platform/cpu_feature_guard.cc:193] This TensorFlow binary is optimized with oneAPI Deep Neural Network Library (oneDNN) to use the following CPU instructions in performance-critical operations:  SSE4.1 SSE4.2 AVX AVX2 FMA\n",
      "To enable them in other operations, rebuild TensorFlow with the appropriate compiler flags.\n",
      "2023-05-25 20:09:14.322817: I tensorflow/core/common_runtime/process_util.cc:146] Creating new thread pool with default inter op setting: 2. Tune using inter_op_parallelism_threads for best performance.\n"
     ]
    },
    {
     "name": "stdout",
     "output_type": "stream",
     "text": [
      "Extracted OpenL3 features\n",
      "[[2.2157934 0.9147424 2.3574586 ... 1.139162  3.6180305 4.711986 ]\n",
      " [1.3057439 1.5557592 1.9282656 ... 1.1642258 2.9790587 3.3227909]\n",
      " [1.3215082 1.5869596 1.2676611 ... 1.5017518 2.606381  2.7864664]\n",
      " ...\n",
      " [1.2259464 1.858302  1.7670549 ... 1.236901  3.2957795 2.9408257]\n",
      " [1.4958704 1.939533  1.3072984 ... 1.2153863 3.328682  2.8370824]\n",
      " [1.4654945 2.0496528 1.0400207 ... 1.2388983 2.9397058 2.7934794]]\n"
     ]
    },
    {
     "name": "stderr",
     "output_type": "stream",
     "text": [
      "2023-05-25 20:09:18.678695: I tensorflow/core/platform/cpu_feature_guard.cc:193] This TensorFlow binary is optimized with oneAPI Deep Neural Network Library (oneDNN) to use the following CPU instructions in performance-critical operations:  SSE4.1 SSE4.2 AVX AVX2 FMA\n",
      "To enable them in other operations, rebuild TensorFlow with the appropriate compiler flags.\n",
      "2023-05-25 20:09:18.679419: I tensorflow/core/common_runtime/process_util.cc:146] Creating new thread pool with default inter op setting: 2. Tune using inter_op_parallelism_threads for best performance.\n"
     ]
    },
    {
     "name": "stdout",
     "output_type": "stream",
     "text": [
      "Extracted OpenL3 features\n",
      "[[2.2157934  1.6906826  2.3574586  ... 1.30704    2.5628705  4.711986  ]\n",
      " [0.91121334 1.7725097  1.665613   ... 1.586016   3.7935019  2.8588262 ]\n",
      " [0.73969346 1.8064433  1.967703   ... 1.278032   3.6048918  3.2842908 ]\n",
      " ...\n",
      " [1.4980067  1.4907088  1.6910224  ... 1.3318621  3.646648   2.2880821 ]\n",
      " [1.140353   1.5548564  2.0487301  ... 1.48349    3.6296139  2.856715  ]\n",
      " [2.0391414  1.5908011  3.0651422  ... 1.6826802  2.876387   6.1506886 ]]\n"
     ]
    },
    {
     "name": "stderr",
     "output_type": "stream",
     "text": [
      "2023-05-25 20:09:20.582261: I tensorflow/core/platform/cpu_feature_guard.cc:193] This TensorFlow binary is optimized with oneAPI Deep Neural Network Library (oneDNN) to use the following CPU instructions in performance-critical operations:  SSE4.1 SSE4.2 AVX AVX2 FMA\n",
      "To enable them in other operations, rebuild TensorFlow with the appropriate compiler flags.\n",
      "2023-05-25 20:09:20.582911: I tensorflow/core/common_runtime/process_util.cc:146] Creating new thread pool with default inter op setting: 2. Tune using inter_op_parallelism_threads for best performance.\n"
     ]
    },
    {
     "name": "stdout",
     "output_type": "stream",
     "text": [
      "Extracted OpenL3 features\n",
      "[[2.2157934  1.6906826  2.3574586  ... 1.30704    2.5628705  4.711986  ]\n",
      " [0.91121334 1.7725097  1.665613   ... 1.586016   3.7935019  2.8588262 ]\n",
      " [0.73969346 1.8064433  1.967703   ... 1.278032   3.6048918  3.2842908 ]\n",
      " ...\n",
      " [1.5114559  1.5051689  1.932213   ... 1.1946044  3.337071   2.3668244 ]\n",
      " [1.5883918  1.1008415  1.8073398  ... 1.3033806  3.3572752  3.0209198 ]\n",
      " [1.4286405  1.5552981  1.6052201  ... 1.6829897  3.149305   2.9490047 ]]\n"
     ]
    },
    {
     "name": "stderr",
     "output_type": "stream",
     "text": [
      "2023-05-25 20:09:23.182122: I tensorflow/core/platform/cpu_feature_guard.cc:193] This TensorFlow binary is optimized with oneAPI Deep Neural Network Library (oneDNN) to use the following CPU instructions in performance-critical operations:  SSE4.1 SSE4.2 AVX AVX2 FMA\n",
      "To enable them in other operations, rebuild TensorFlow with the appropriate compiler flags.\n",
      "2023-05-25 20:09:23.182828: I tensorflow/core/common_runtime/process_util.cc:146] Creating new thread pool with default inter op setting: 2. Tune using inter_op_parallelism_threads for best performance.\n"
     ]
    },
    {
     "name": "stdout",
     "output_type": "stream",
     "text": [
      "Extracted OpenL3 features\n",
      "[[2.2157934  1.6906826  2.3574586  ... 1.30704    2.5628705  4.711986  ]\n",
      " [0.91121334 1.7725097  1.665613   ... 1.586016   3.7935019  2.8588262 ]\n",
      " [0.73969346 1.8064433  1.967703   ... 1.278032   3.6048918  3.2842908 ]\n",
      " ...\n",
      " [1.4050877  1.5333002  1.8716539  ... 1.3425314  3.755796   2.3150287 ]\n",
      " [1.5506963  1.0979656  1.9203327  ... 1.3094388  3.5539966  2.9376845 ]\n",
      " [1.3887992  1.5735312  1.6796526  ... 1.7237281  2.9344294  2.9600835 ]]\n"
     ]
    },
    {
     "name": "stderr",
     "output_type": "stream",
     "text": [
      "2023-05-25 20:09:27.798407: I tensorflow/core/platform/cpu_feature_guard.cc:193] This TensorFlow binary is optimized with oneAPI Deep Neural Network Library (oneDNN) to use the following CPU instructions in performance-critical operations:  SSE4.1 SSE4.2 AVX AVX2 FMA\n",
      "To enable them in other operations, rebuild TensorFlow with the appropriate compiler flags.\n",
      "2023-05-25 20:09:27.799093: I tensorflow/core/common_runtime/process_util.cc:146] Creating new thread pool with default inter op setting: 2. Tune using inter_op_parallelism_threads for best performance.\n"
     ]
    },
    {
     "name": "stdout",
     "output_type": "stream",
     "text": [
      "Extracted OpenL3 features\n",
      "[[2.2157934 1.5699124 2.3574586 ... 1.0996265 1.4633667 4.711986 ]\n",
      " [1.3057063 1.8319939 1.6341578 ... 1.0963718 2.8086205 2.8575804]\n",
      " [1.4336863 1.7280574 1.5429876 ... 1.5827781 2.8238811 2.8761325]\n",
      " ...\n",
      " [1.6996115 1.8400339 1.0144758 ... 1.11193   2.4393382 2.463679 ]\n",
      " [1.964998  1.9675475 1.0698346 ... 1.693309  3.3736224 2.3361232]\n",
      " [2.0626078 1.9646527 3.034391  ... 1.7454308 3.269721  6.045181 ]]\n"
     ]
    },
    {
     "name": "stderr",
     "output_type": "stream",
     "text": [
      "2023-05-25 20:09:29.768649: I tensorflow/core/platform/cpu_feature_guard.cc:193] This TensorFlow binary is optimized with oneAPI Deep Neural Network Library (oneDNN) to use the following CPU instructions in performance-critical operations:  SSE4.1 SSE4.2 AVX AVX2 FMA\n",
      "To enable them in other operations, rebuild TensorFlow with the appropriate compiler flags.\n",
      "2023-05-25 20:09:29.769412: I tensorflow/core/common_runtime/process_util.cc:146] Creating new thread pool with default inter op setting: 2. Tune using inter_op_parallelism_threads for best performance.\n"
     ]
    },
    {
     "name": "stdout",
     "output_type": "stream",
     "text": [
      "Extracted OpenL3 features\n",
      "[[2.2157934  1.5699124  2.3574586  ... 1.0996265  1.4633667  4.711986  ]\n",
      " [1.3057063  1.8319939  1.6341578  ... 1.0963718  2.8086205  2.8575804 ]\n",
      " [1.4336863  1.7280574  1.5429876  ... 1.5827781  2.8238811  2.8761325 ]\n",
      " ...\n",
      " [1.6340705  1.6617806  0.99940866 ... 1.137503   2.3113096  2.4882913 ]\n",
      " [1.657513   1.9437062  0.9976644  ... 1.3360445  2.50322    2.3796046 ]\n",
      " [1.4562697  2.0032837  1.2090559  ... 1.713232   3.0886312  2.8971987 ]]\n"
     ]
    },
    {
     "name": "stderr",
     "output_type": "stream",
     "text": [
      "2023-05-25 20:09:32.175932: I tensorflow/core/platform/cpu_feature_guard.cc:193] This TensorFlow binary is optimized with oneAPI Deep Neural Network Library (oneDNN) to use the following CPU instructions in performance-critical operations:  SSE4.1 SSE4.2 AVX AVX2 FMA\n",
      "To enable them in other operations, rebuild TensorFlow with the appropriate compiler flags.\n",
      "2023-05-25 20:09:32.176709: I tensorflow/core/common_runtime/process_util.cc:146] Creating new thread pool with default inter op setting: 2. Tune using inter_op_parallelism_threads for best performance.\n"
     ]
    },
    {
     "name": "stdout",
     "output_type": "stream",
     "text": [
      "Extracted OpenL3 features\n",
      "[[2.2157934 1.5699124 2.3574586 ... 1.0996265 1.4633667 4.711986 ]\n",
      " [1.3057063 1.8319939 1.6341578 ... 1.0963718 2.8086205 2.8575804]\n",
      " [1.4336863 1.7280574 1.5429876 ... 1.5827781 2.8238811 2.8761325]\n",
      " ...\n",
      " [1.7159098 1.6405973 1.0131125 ... 1.1098466 2.3120015 2.4752502]\n",
      " [1.7534535 1.8759594 1.0721159 ... 1.3409286 2.4492643 2.3960314]\n",
      " [1.6176896 1.9514375 1.1572872 ... 1.7439518 3.2701538 2.598035 ]]\n"
     ]
    },
    {
     "name": "stderr",
     "output_type": "stream",
     "text": [
      "2023-05-25 20:09:35.697723: I tensorflow/core/platform/cpu_feature_guard.cc:193] This TensorFlow binary is optimized with oneAPI Deep Neural Network Library (oneDNN) to use the following CPU instructions in performance-critical operations:  SSE4.1 SSE4.2 AVX AVX2 FMA\n",
      "To enable them in other operations, rebuild TensorFlow with the appropriate compiler flags.\n",
      "2023-05-25 20:09:35.698376: I tensorflow/core/common_runtime/process_util.cc:146] Creating new thread pool with default inter op setting: 2. Tune using inter_op_parallelism_threads for best performance.\n"
     ]
    },
    {
     "name": "stdout",
     "output_type": "stream",
     "text": [
      "Extracted OpenL3 features\n",
      "[[2.4607837 1.9709306 2.3574586 ... 1.1906368 3.0116198 4.711986 ]\n",
      " [2.1552846 1.934976  1.4015778 ... 1.1432745 3.271132  3.7969592]\n",
      " [1.8803445 1.9804821 1.7452403 ... 1.190086  3.0058963 3.620177 ]\n",
      " ...\n",
      " [1.884701  1.9025468 2.27411   ... 1.9867524 3.814658  3.8942215]\n",
      " [1.8032726 1.8428019 1.5677596 ... 1.0388663 3.8996432 3.922873 ]\n",
      " [2.4732895 1.8472773 3.2202375 ... 0.8720633 3.1005323 6.5448227]]\n"
     ]
    },
    {
     "name": "stderr",
     "output_type": "stream",
     "text": [
      "2023-05-25 20:09:37.677170: I tensorflow/core/platform/cpu_feature_guard.cc:193] This TensorFlow binary is optimized with oneAPI Deep Neural Network Library (oneDNN) to use the following CPU instructions in performance-critical operations:  SSE4.1 SSE4.2 AVX AVX2 FMA\n",
      "To enable them in other operations, rebuild TensorFlow with the appropriate compiler flags.\n",
      "2023-05-25 20:09:37.677892: I tensorflow/core/common_runtime/process_util.cc:146] Creating new thread pool with default inter op setting: 2. Tune using inter_op_parallelism_threads for best performance.\n"
     ]
    },
    {
     "name": "stdout",
     "output_type": "stream",
     "text": [
      "Extracted OpenL3 features\n",
      "[[2.4607837 1.9709306 2.3574586 ... 1.1906368 3.0116198 4.711986 ]\n",
      " [2.1552846 1.934976  1.4015778 ... 1.1432745 3.271132  3.7969592]\n",
      " [1.8803445 1.9804821 1.7452403 ... 1.190086  3.0058963 3.620177 ]\n",
      " ...\n",
      " [2.4083612 1.7977071 1.5370677 ... 0.8600919 3.5264328 3.6512299]\n",
      " [2.3770354 1.9263632 1.4690272 ... 1.096604  3.582175  3.676039 ]\n",
      " [1.9680032 1.6617577 1.2791723 ... 1.1460955 3.2809286 3.6035914]]\n"
     ]
    },
    {
     "name": "stderr",
     "output_type": "stream",
     "text": [
      "2023-05-25 20:09:40.027096: I tensorflow/core/platform/cpu_feature_guard.cc:193] This TensorFlow binary is optimized with oneAPI Deep Neural Network Library (oneDNN) to use the following CPU instructions in performance-critical operations:  SSE4.1 SSE4.2 AVX AVX2 FMA\n",
      "To enable them in other operations, rebuild TensorFlow with the appropriate compiler flags.\n",
      "2023-05-25 20:09:40.028048: I tensorflow/core/common_runtime/process_util.cc:146] Creating new thread pool with default inter op setting: 2. Tune using inter_op_parallelism_threads for best performance.\n"
     ]
    },
    {
     "name": "stdout",
     "output_type": "stream",
     "text": [
      "Extracted OpenL3 features\n",
      "[[2.4607837 1.9709306 2.3574586 ... 1.1906368 3.0116198 4.711986 ]\n",
      " [2.1552846 1.934976  1.4015778 ... 1.1432745 3.271132  3.7969592]\n",
      " [1.8803445 1.9804821 1.7452403 ... 1.190086  3.0058963 3.620177 ]\n",
      " ...\n",
      " [2.2484043 1.9927578 1.7866797 ... 1.319134  3.1581817 3.5641522]\n",
      " [1.9372607 1.9919133 2.2282062 ... 1.2077341 2.4425902 3.6613176]\n",
      " [1.9140093 1.809614  2.1738846 ... 1.2643833 3.4249814 3.8082223]]\n"
     ]
    },
    {
     "name": "stderr",
     "output_type": "stream",
     "text": [
      "2023-05-25 20:09:43.526943: I tensorflow/core/platform/cpu_feature_guard.cc:193] This TensorFlow binary is optimized with oneAPI Deep Neural Network Library (oneDNN) to use the following CPU instructions in performance-critical operations:  SSE4.1 SSE4.2 AVX AVX2 FMA\n",
      "To enable them in other operations, rebuild TensorFlow with the appropriate compiler flags.\n",
      "2023-05-25 20:09:43.527727: I tensorflow/core/common_runtime/process_util.cc:146] Creating new thread pool with default inter op setting: 2. Tune using inter_op_parallelism_threads for best performance.\n"
     ]
    },
    {
     "name": "stdout",
     "output_type": "stream",
     "text": [
      "Extracted OpenL3 features\n",
      "[[2.2157934  1.0675362  2.3574586  ... 1.1861202  4.0256076  4.711986  ]\n",
      " [1.6665745  1.3344362  1.1166552  ... 1.3568017  3.9910393  3.3849504 ]\n",
      " [1.4597939  1.4091322  0.93357444 ... 1.2321008  3.2201014  3.4140368 ]\n",
      " ...\n",
      " [1.9344807  1.1800399  1.0067761  ... 1.7588415  2.7882416  2.9981928 ]\n",
      " [1.997494   1.168572   1.006164   ... 1.7558982  3.5530317  2.5246012 ]\n",
      " [2.4099393  1.1920391  3.3492124  ... 1.6678306  3.4419565  6.634166  ]]\n"
     ]
    },
    {
     "name": "stderr",
     "output_type": "stream",
     "text": [
      "2023-05-25 20:09:45.338429: I tensorflow/core/platform/cpu_feature_guard.cc:193] This TensorFlow binary is optimized with oneAPI Deep Neural Network Library (oneDNN) to use the following CPU instructions in performance-critical operations:  SSE4.1 SSE4.2 AVX AVX2 FMA\n",
      "To enable them in other operations, rebuild TensorFlow with the appropriate compiler flags.\n",
      "2023-05-25 20:09:45.339083: I tensorflow/core/common_runtime/process_util.cc:146] Creating new thread pool with default inter op setting: 2. Tune using inter_op_parallelism_threads for best performance.\n"
     ]
    },
    {
     "name": "stdout",
     "output_type": "stream",
     "text": [
      "Extracted OpenL3 features\n",
      "[[2.2157934  1.0675362  2.3574586  ... 1.1861202  4.0256076  4.711986  ]\n",
      " [1.6665745  1.3344362  1.1166552  ... 1.3568017  3.9910393  3.3849504 ]\n",
      " [1.4597939  1.4091322  0.93357444 ... 1.2321008  3.2201014  3.4140368 ]\n",
      " ...\n",
      " [2.0803382  1.2378706  1.1011498  ... 1.6533834  4.295088   2.4860177 ]\n",
      " [1.9974504  1.2900192  1.1944029  ... 1.5976819  3.883562   2.1440978 ]\n",
      " [1.5753715  1.39076    1.3233474  ... 1.3604673  2.8563788  2.5655077 ]]\n"
     ]
    },
    {
     "name": "stderr",
     "output_type": "stream",
     "text": [
      "2023-05-25 20:09:47.797687: I tensorflow/core/platform/cpu_feature_guard.cc:193] This TensorFlow binary is optimized with oneAPI Deep Neural Network Library (oneDNN) to use the following CPU instructions in performance-critical operations:  SSE4.1 SSE4.2 AVX AVX2 FMA\n",
      "To enable them in other operations, rebuild TensorFlow with the appropriate compiler flags.\n",
      "2023-05-25 20:09:47.798415: I tensorflow/core/common_runtime/process_util.cc:146] Creating new thread pool with default inter op setting: 2. Tune using inter_op_parallelism_threads for best performance.\n"
     ]
    },
    {
     "name": "stdout",
     "output_type": "stream",
     "text": [
      "Extracted OpenL3 features\n",
      "[[2.2157934  1.0675362  2.3574586  ... 1.1861202  4.0256076  4.711986  ]\n",
      " [1.6665745  1.3344362  1.1166552  ... 1.3568017  3.9910393  3.3849504 ]\n",
      " [1.4597939  1.4091322  0.93357444 ... 1.2321008  3.2201014  3.4140368 ]\n",
      " ...\n",
      " [2.160973   1.2826028  0.96714836 ... 1.4943188  2.745677   2.3927634 ]\n",
      " [1.8530499  1.0992935  1.1151775  ... 1.4511639  2.601096   2.541843  ]\n",
      " [1.8020123  1.2063204  1.7232765  ... 1.4170051  3.7566254  2.3495076 ]]\n"
     ]
    },
    {
     "name": "stderr",
     "output_type": "stream",
     "text": [
      "2023-05-25 20:09:52.294771: I tensorflow/core/platform/cpu_feature_guard.cc:193] This TensorFlow binary is optimized with oneAPI Deep Neural Network Library (oneDNN) to use the following CPU instructions in performance-critical operations:  SSE4.1 SSE4.2 AVX AVX2 FMA\n",
      "To enable them in other operations, rebuild TensorFlow with the appropriate compiler flags.\n",
      "2023-05-25 20:09:52.295510: I tensorflow/core/common_runtime/process_util.cc:146] Creating new thread pool with default inter op setting: 2. Tune using inter_op_parallelism_threads for best performance.\n"
     ]
    },
    {
     "name": "stdout",
     "output_type": "stream",
     "text": [
      "Extracted OpenL3 features\n",
      "[[2.3955293 1.6991032 2.3574586 ... 1.2168559 1.9250695 4.711986 ]\n",
      " [2.3027866 2.1870823 1.4936736 ... 1.2458031 2.734233  1.9710772]\n",
      " [2.6104827 2.1639135 1.4435683 ... 1.0530688 3.096739  2.0208008]\n",
      " ...\n",
      " [2.216818  1.9399886 1.6667724 ... 1.1292036 2.149912  2.1868174]\n",
      " [1.1255394 1.9190288 1.7056367 ... 1.0805025 2.057659  2.2746494]\n",
      " [2.597577  2.4148989 3.162116  ... 1.2426065 2.5099926 6.2042394]]\n"
     ]
    },
    {
     "name": "stderr",
     "output_type": "stream",
     "text": [
      "2023-05-25 20:09:54.257512: I tensorflow/core/platform/cpu_feature_guard.cc:193] This TensorFlow binary is optimized with oneAPI Deep Neural Network Library (oneDNN) to use the following CPU instructions in performance-critical operations:  SSE4.1 SSE4.2 AVX AVX2 FMA\n",
      "To enable them in other operations, rebuild TensorFlow with the appropriate compiler flags.\n",
      "2023-05-25 20:09:54.258197: I tensorflow/core/common_runtime/process_util.cc:146] Creating new thread pool with default inter op setting: 2. Tune using inter_op_parallelism_threads for best performance.\n"
     ]
    },
    {
     "name": "stdout",
     "output_type": "stream",
     "text": [
      "Extracted OpenL3 features\n",
      "[[2.3955293 1.6991032 2.3574586 ... 1.2168559 1.9250695 4.711986 ]\n",
      " [2.3027866 2.1870823 1.4936736 ... 1.2458031 2.734233  1.9710772]\n",
      " [2.6104827 2.1639135 1.4435683 ... 1.0530688 3.096739  2.0208008]\n",
      " ...\n",
      " [2.313868  2.126008  1.2407048 ... 1.012566  2.319029  2.0247676]\n",
      " [2.2220738 1.9651859 1.659855  ... 1.064666  2.1292236 2.125664 ]\n",
      " [1.2482771 1.8074944 1.5730308 ... 1.0539013 2.4065025 2.0519598]]\n"
     ]
    },
    {
     "name": "stderr",
     "output_type": "stream",
     "text": [
      "2023-05-25 20:09:56.609746: I tensorflow/core/platform/cpu_feature_guard.cc:193] This TensorFlow binary is optimized with oneAPI Deep Neural Network Library (oneDNN) to use the following CPU instructions in performance-critical operations:  SSE4.1 SSE4.2 AVX AVX2 FMA\n",
      "To enable them in other operations, rebuild TensorFlow with the appropriate compiler flags.\n",
      "2023-05-25 20:09:56.610457: I tensorflow/core/common_runtime/process_util.cc:146] Creating new thread pool with default inter op setting: 2. Tune using inter_op_parallelism_threads for best performance.\n"
     ]
    },
    {
     "name": "stdout",
     "output_type": "stream",
     "text": [
      "Extracted OpenL3 features\n",
      "[[2.3955293 1.6991032 2.3574586 ... 1.2168559 1.9250695 4.711986 ]\n",
      " [2.3027866 2.1870823 1.4936736 ... 1.2458031 2.734233  1.9710772]\n",
      " [2.6104827 2.1639135 1.4435683 ... 1.0530688 3.096739  2.0208008]\n",
      " ...\n",
      " [2.598994  2.1166136 1.2553997 ... 1.0396109 2.2927263 2.0005906]\n",
      " [2.2297006 1.9452409 1.6293232 ... 1.0938691 2.150058  2.1774046]\n",
      " [1.3247266 1.926702  1.6323934 ... 1.0675302 2.0288768 2.04186  ]]\n"
     ]
    },
    {
     "name": "stderr",
     "output_type": "stream",
     "text": [
      "2023-05-25 20:10:00.941492: I tensorflow/core/platform/cpu_feature_guard.cc:193] This TensorFlow binary is optimized with oneAPI Deep Neural Network Library (oneDNN) to use the following CPU instructions in performance-critical operations:  SSE4.1 SSE4.2 AVX AVX2 FMA\n",
      "To enable them in other operations, rebuild TensorFlow with the appropriate compiler flags.\n",
      "2023-05-25 20:10:00.942176: I tensorflow/core/common_runtime/process_util.cc:146] Creating new thread pool with default inter op setting: 2. Tune using inter_op_parallelism_threads for best performance.\n"
     ]
    },
    {
     "name": "stdout",
     "output_type": "stream",
     "text": [
      "Extracted OpenL3 features\n",
      "[[2.2157934  1.6623948  2.3574586  ... 2.7262528  2.779061   4.711986  ]\n",
      " [1.4490355  1.9104843  2.0366526  ... 2.601093   2.9044294  2.9639747 ]\n",
      " [1.2306201  1.8775468  1.8180069  ... 2.3647096  2.3876915  2.4470775 ]\n",
      " ...\n",
      " [0.75019467 1.4162104  3.0636232  ... 1.878616   2.3217976  2.3777506 ]\n",
      " [0.7889195  1.2895118  3.0106702  ... 2.5370822  2.1306357  2.378345  ]\n",
      " [1.9298162  1.4636941  2.9452384  ... 2.6600592  1.7623262  5.9708014 ]]\n"
     ]
    },
    {
     "name": "stderr",
     "output_type": "stream",
     "text": [
      "2023-05-25 20:10:02.944483: I tensorflow/core/platform/cpu_feature_guard.cc:193] This TensorFlow binary is optimized with oneAPI Deep Neural Network Library (oneDNN) to use the following CPU instructions in performance-critical operations:  SSE4.1 SSE4.2 AVX AVX2 FMA\n",
      "To enable them in other operations, rebuild TensorFlow with the appropriate compiler flags.\n",
      "2023-05-25 20:10:02.945211: I tensorflow/core/common_runtime/process_util.cc:146] Creating new thread pool with default inter op setting: 2. Tune using inter_op_parallelism_threads for best performance.\n"
     ]
    },
    {
     "name": "stdout",
     "output_type": "stream",
     "text": [
      "Extracted OpenL3 features\n",
      "[[2.2157934 1.6623948 2.3574586 ... 2.7262528 2.779061  4.711986 ]\n",
      " [1.4490355 1.9104843 2.0366526 ... 2.601093  2.9044294 2.9639747]\n",
      " [1.2306201 1.8775468 1.8180069 ... 2.3647096 2.3876915 2.4470775]\n",
      " ...\n",
      " [0.7219387 1.4860394 2.9920795 ... 2.0947523 2.5707014 2.37767  ]\n",
      " [0.7600428 1.2762815 3.0744357 ... 1.9590861 2.1631398 2.3811288]\n",
      " [1.3384229 1.4535283 2.566096  ... 2.6221426 2.116329  2.562605 ]]\n"
     ]
    },
    {
     "name": "stderr",
     "output_type": "stream",
     "text": [
      "2023-05-25 20:10:05.453128: I tensorflow/core/platform/cpu_feature_guard.cc:193] This TensorFlow binary is optimized with oneAPI Deep Neural Network Library (oneDNN) to use the following CPU instructions in performance-critical operations:  SSE4.1 SSE4.2 AVX AVX2 FMA\n",
      "To enable them in other operations, rebuild TensorFlow with the appropriate compiler flags.\n",
      "2023-05-25 20:10:05.453860: I tensorflow/core/common_runtime/process_util.cc:146] Creating new thread pool with default inter op setting: 2. Tune using inter_op_parallelism_threads for best performance.\n"
     ]
    },
    {
     "name": "stdout",
     "output_type": "stream",
     "text": [
      "Extracted OpenL3 features\n",
      "[[2.2157934  1.6623948  2.3574586  ... 2.7262528  2.779061   4.711986  ]\n",
      " [1.4490355  1.9104843  2.0366526  ... 2.601093   2.9044294  2.9639747 ]\n",
      " [1.2306201  1.8775468  1.8180069  ... 2.3647096  2.3876915  2.4470775 ]\n",
      " ...\n",
      " [1.0678693  1.4944596  2.7564862  ... 1.9637154  2.4657557  2.3592598 ]\n",
      " [0.85198754 1.3198571  3.0003157  ... 1.9171603  2.2302876  2.337849  ]\n",
      " [0.9065794  1.3520982  2.4627166  ... 2.5461729  2.0565631  2.4720864 ]]\n"
     ]
    },
    {
     "name": "stderr",
     "output_type": "stream",
     "text": [
      "2023-05-25 20:10:09.789408: I tensorflow/core/platform/cpu_feature_guard.cc:193] This TensorFlow binary is optimized with oneAPI Deep Neural Network Library (oneDNN) to use the following CPU instructions in performance-critical operations:  SSE4.1 SSE4.2 AVX AVX2 FMA\n",
      "To enable them in other operations, rebuild TensorFlow with the appropriate compiler flags.\n",
      "2023-05-25 20:10:09.790129: I tensorflow/core/common_runtime/process_util.cc:146] Creating new thread pool with default inter op setting: 2. Tune using inter_op_parallelism_threads for best performance.\n"
     ]
    },
    {
     "name": "stdout",
     "output_type": "stream",
     "text": [
      "Extracted OpenL3 features\n",
      "[[2.3708458  1.7711971  2.3574586  ... 0.99807405 2.0892036  4.711986  ]\n",
      " [1.7259085  1.3775043  1.7587428  ... 1.0073342  2.8313203  3.9247818 ]\n",
      " [1.4716872  1.5740092  1.2607543  ... 0.9951842  2.9330242  3.1109574 ]\n",
      " ...\n",
      " [1.2803085  1.2214273  1.4161677  ... 1.1773123  1.9200268  3.047485  ]\n",
      " [1.3468269  1.3993678  1.3721092  ... 1.2464207  2.3175464  3.135843  ]\n",
      " [2.0384505  1.4234962  3.058307   ... 1.2106892  2.2727802  6.2106233 ]]\n"
     ]
    },
    {
     "name": "stderr",
     "output_type": "stream",
     "text": [
      "2023-05-25 20:10:11.595947: I tensorflow/core/platform/cpu_feature_guard.cc:193] This TensorFlow binary is optimized with oneAPI Deep Neural Network Library (oneDNN) to use the following CPU instructions in performance-critical operations:  SSE4.1 SSE4.2 AVX AVX2 FMA\n",
      "To enable them in other operations, rebuild TensorFlow with the appropriate compiler flags.\n",
      "2023-05-25 20:10:11.596852: I tensorflow/core/common_runtime/process_util.cc:146] Creating new thread pool with default inter op setting: 2. Tune using inter_op_parallelism_threads for best performance.\n"
     ]
    },
    {
     "name": "stdout",
     "output_type": "stream",
     "text": [
      "Extracted OpenL3 features\n",
      "[[2.3708458  1.7711971  2.3574586  ... 0.99807405 2.0892036  4.711986  ]\n",
      " [1.7259085  1.3775043  1.7587428  ... 1.0073342  2.8313203  3.9247818 ]\n",
      " [1.4716872  1.5740092  1.2607543  ... 0.9951842  2.9330242  3.1109574 ]\n",
      " ...\n",
      " [2.4351134  1.5548456  1.614435   ... 1.3476963  1.6881467  2.7781126 ]\n",
      " [1.8788679  1.1718962  1.4992783  ... 1.4176003  1.5839583  2.603891  ]\n",
      " [1.3410358  1.3415856  1.7828478  ... 2.3897893  1.6214135  2.5510304 ]]\n"
     ]
    },
    {
     "name": "stderr",
     "output_type": "stream",
     "text": [
      "2023-05-25 20:10:13.945184: I tensorflow/core/platform/cpu_feature_guard.cc:193] This TensorFlow binary is optimized with oneAPI Deep Neural Network Library (oneDNN) to use the following CPU instructions in performance-critical operations:  SSE4.1 SSE4.2 AVX AVX2 FMA\n",
      "To enable them in other operations, rebuild TensorFlow with the appropriate compiler flags.\n",
      "2023-05-25 20:10:13.945825: I tensorflow/core/common_runtime/process_util.cc:146] Creating new thread pool with default inter op setting: 2. Tune using inter_op_parallelism_threads for best performance.\n"
     ]
    },
    {
     "name": "stdout",
     "output_type": "stream",
     "text": [
      "Extracted OpenL3 features\n",
      "[[2.3708458  1.7711971  2.3574586  ... 0.99807405 2.0892036  4.711986  ]\n",
      " [1.7259085  1.3775043  1.7587428  ... 1.0073342  2.8313203  3.9247818 ]\n",
      " [1.4716872  1.5740092  1.2607543  ... 0.9951842  2.9330242  3.1109574 ]\n",
      " ...\n",
      " [1.065846   0.8998635  1.3401107  ... 1.0676075  1.9135795  2.506352  ]\n",
      " [1.5993004  0.8691517  1.7548813  ... 0.9686276  1.9511636  2.5228527 ]\n",
      " [2.4944382  0.79817045 1.9280562  ... 1.1048466  1.9628419  2.6000252 ]]\n"
     ]
    },
    {
     "name": "stderr",
     "output_type": "stream",
     "text": [
      "2023-05-25 20:10:17.933722: I tensorflow/core/platform/cpu_feature_guard.cc:193] This TensorFlow binary is optimized with oneAPI Deep Neural Network Library (oneDNN) to use the following CPU instructions in performance-critical operations:  SSE4.1 SSE4.2 AVX AVX2 FMA\n",
      "To enable them in other operations, rebuild TensorFlow with the appropriate compiler flags.\n",
      "2023-05-25 20:10:17.934451: I tensorflow/core/common_runtime/process_util.cc:146] Creating new thread pool with default inter op setting: 2. Tune using inter_op_parallelism_threads for best performance.\n"
     ]
    },
    {
     "name": "stdout",
     "output_type": "stream",
     "text": [
      "Extracted OpenL3 features\n",
      "[[2.2157934 1.5402632 2.3574586 ... 1.7413275 1.8087693 4.711986 ]\n",
      " [1.5531752 2.0521145 1.9746509 ... 1.6781694 2.1313488 3.2681732]\n",
      " [2.1746356 1.9143783 2.0345585 ... 1.6767113 2.1651633 3.3942106]\n",
      " ...\n",
      " [1.5455052 1.4908237 1.936583  ... 1.3055086 3.4817226 2.7008631]\n",
      " [1.5536499 1.3695844 1.4776359 ... 1.1680614 4.2815638 3.4112995]\n",
      " [2.3280833 1.408306  3.0631824 ... 1.1741109 4.157827  6.2542396]]\n"
     ]
    },
    {
     "name": "stderr",
     "output_type": "stream",
     "text": [
      "2023-05-25 20:10:19.716284: I tensorflow/core/platform/cpu_feature_guard.cc:193] This TensorFlow binary is optimized with oneAPI Deep Neural Network Library (oneDNN) to use the following CPU instructions in performance-critical operations:  SSE4.1 SSE4.2 AVX AVX2 FMA\n",
      "To enable them in other operations, rebuild TensorFlow with the appropriate compiler flags.\n",
      "2023-05-25 20:10:19.717132: I tensorflow/core/common_runtime/process_util.cc:146] Creating new thread pool with default inter op setting: 2. Tune using inter_op_parallelism_threads for best performance.\n"
     ]
    },
    {
     "name": "stdout",
     "output_type": "stream",
     "text": [
      "Extracted OpenL3 features\n",
      "[[2.2157934 1.5402632 2.3574586 ... 1.7413275 1.8087693 4.711986 ]\n",
      " [1.5531752 2.0521145 1.9746509 ... 1.6781694 2.1313488 3.2681732]\n",
      " [2.1746356 1.9143783 2.0345585 ... 1.6767113 2.1651633 3.3942106]\n",
      " ...\n",
      " [1.1869344 1.8297826 1.3073981 ... 1.6648184 3.3415165 2.461196 ]\n",
      " [1.3863348 1.478938  2.4219983 ... 1.695995  2.6055543 3.2047024]\n",
      " [1.5217855 1.8216913 2.3750677 ... 1.4266486 2.7438672 3.2531283]]\n"
     ]
    },
    {
     "name": "stderr",
     "output_type": "stream",
     "text": [
      "2023-05-25 20:10:22.171420: I tensorflow/core/platform/cpu_feature_guard.cc:193] This TensorFlow binary is optimized with oneAPI Deep Neural Network Library (oneDNN) to use the following CPU instructions in performance-critical operations:  SSE4.1 SSE4.2 AVX AVX2 FMA\n",
      "To enable them in other operations, rebuild TensorFlow with the appropriate compiler flags.\n",
      "2023-05-25 20:10:22.172125: I tensorflow/core/common_runtime/process_util.cc:146] Creating new thread pool with default inter op setting: 2. Tune using inter_op_parallelism_threads for best performance.\n"
     ]
    },
    {
     "name": "stdout",
     "output_type": "stream",
     "text": [
      "Extracted OpenL3 features\n",
      "[[2.2157934 1.5402632 2.3574586 ... 1.7413275 1.8087693 4.711986 ]\n",
      " [1.5531752 2.0521145 1.9746509 ... 1.6781694 2.1313488 3.2681732]\n",
      " [2.1746356 1.9143783 2.0345585 ... 1.6767113 2.1651633 3.3942106]\n",
      " ...\n",
      " [1.819444  1.4429334 1.2939427 ... 1.842958  3.0354388 2.8626566]\n",
      " [2.039007  1.6327671 2.7516332 ... 1.8132998 3.4831538 2.9995732]\n",
      " [2.0055168 1.6402584 2.7719233 ... 1.5938463 3.606671  3.123549 ]]\n",
      "Got chunk of videos from database. Extracting audio and audio embeddings...\n",
      "----------------------------------------------------------------      FINISHED      -----------------------------------------\n",
      "--- 673.2496371269226 seconds ---\n"
     ]
    }
   ],
   "source": [
    "con = sl.connect(datasetPathDatabase)  # Connection to databases\n",
    "print('------------------- ABOUT TO START --------------------')\n",
    "#TODO what if two files have the same name in the same batch\n",
    "\n",
    " \n",
    "def extractAudio(rows):\n",
    "    con2 = sl.connect(datasetPathDatabase)\n",
    "    #print(rows)\n",
    "\n",
    "    for row in rows:\n",
    "        #print(row)\n",
    "        absPathVideo = row[1]   # for this one video\n",
    "        rowId = row[0]          # id in database\n",
    "\n",
    "        absPathAudio = y = absPathVideo.replace(datasetPathVideo,datasetPathAudio)  # for this one audio\n",
    "        absPathAudio = os.path.splitext(absPathAudio)[0]\n",
    "        absPathAudio_w = absPathAudio   # without the end\n",
    "        absPathAudio = absPathAudio + \"_audio.wav\"  # full path to extracted audio from the video\n",
    "\n",
    "        #Create Directory\n",
    "        pathlib.Path(os.path.dirname(absPathAudio)).mkdir(parents=True, exist_ok=True) \n",
    "\n",
    "        # Extract audio monochannel and with 16khz and put it in absPathAudio\n",
    "        command = \"ffmpeg -nostats -loglevel 0 -y -i '\" + absPathVideo + \"' -acodec pcm_s16le -ab 160k -ac 1 -ar 16000 -vn '\" + absPathAudio + \"'\"\n",
    "        subprocess.call(command, shell=True)\n",
    "\n",
    "\n",
    "        # Get original duration of video\n",
    "        audio = AudioSegment.from_file(absPathVideo)\n",
    "        audio_length_og = math.floor(audio.duration_seconds)\n",
    "        #print(audio_length_og)\n",
    "        \n",
    "\n",
    "    \n",
    "        # Will either truncate or loop the original video to reach audio_length (3,6,12 or 24)\n",
    "        audio_length_list = [6,12,24]\n",
    "        for audio_length in audio_length_list:\n",
    "            path_var_len_audio =  absPathAudio_w + \"audio\" + str(audio_length) + \"s.wav\"    # path to the variable length audio\n",
    "            path_var_len_audio_temp =  absPathAudio_w + \"audio_temp\" + str(audio_length) + \"s.wav\"  # path to a temp version of the variable length audio\n",
    "\n",
    "            if(audio_length_og > audio_length):\n",
    "                # Truncate    \n",
    "\n",
    "                command = \"ffmpeg -nostats -loglevel 0 -y -ss 0 -t \"+str(audio_length)+\" -i \\\"\" + absPathAudio + \"\\\" \\\"\" + path_var_len_audio + \"\\\"\"\n",
    "                subprocess.call(command, shell=True)\n",
    "\n",
    "\n",
    "            else:\n",
    "                # Loop then truncaate\n",
    "                #print(\"lesa\")\n",
    "                twoDigitLenStr = f\"{audio_length:02}\"\n",
    "                #print(twoDigitLenStr)\n",
    "                command = \"ffmpeg -nostats -loglevel 0 -y -stream_loop -1 -i '\" + absPathAudio + \"' -t \\\"00:00:\"+twoDigitLenStr+\".000\\\" -codec:a \\\"aac\\\" -f \\\"wav\\\" -c copy '\"+ path_var_len_audio_temp + \"'\"\n",
    "                subprocess.call(command, shell=True)\n",
    "                command = \"ffmpeg -nostats -loglevel 0 -y -ss 0 -t \"+str(audio_length)+\" -i \\\"\" + path_var_len_audio_temp + \"\\\" \\\"\" + path_var_len_audio + \"\\\"\"\n",
    "                subprocess.call(command, shell=True)\n",
    "\n",
    "            # Extract audio embeddings\n",
    "            audio, sr = sf.read(path_var_len_audio)\n",
    "            #emb = []\n",
    "            #queue = Queue()\n",
    "            #proc = Process(target=openSb.extractOpenL3Subprocess, args=(audio,sr,queue,))   # spawn a process\n",
    "            #proc.start()\n",
    "            #proc.join()\n",
    "            #emb = queue.get()\n",
    "\n",
    "            p = Pool(1)\n",
    "            emb = p.apply(openSb.extractOpenL3Subprocess, args=(audio,sr,))\n",
    "\n",
    "            #emb, ts = openl3.get_audio_embedding(audio, sr,embedding_size=512,hop_size=audio_length/50,verbose=0)\n",
    "            #signal, fs = torchaudio.load(path_var_len_audio)\n",
    "            #embeddings = classifier.encode_batch(signal)\n",
    "            #embeddingsPickle = pickle.dumps(embeddings.cpu().detach().numpy()) # pickle embeddings to put in database\n",
    "            #print(emb)\n",
    "            #print(emb.min())\n",
    "            #print(emb.max())\n",
    "            #print(audio_length)\n",
    "            #print(emb.shape)\n",
    "            #print(emb)\n",
    "            embeddingsPickle = pickle.dumps(emb)\n",
    "\n",
    "\n",
    "            # update audio embeddings into database\n",
    "            sql = ''' UPDATE AUDIO SET AUDIO_EMB = ? WHERE VIDEO_ID = ? AND AUDIO_LENGTH = ?'''\n",
    "\n",
    "            \n",
    "            cur = con2.cursor()\n",
    "            data = [embeddingsPickle,rowId,audio_length]\n",
    "            cur.execute(sql, data)\n",
    "            con2.commit()\n",
    "            \n",
    "            sql = '''UPDATE VIDEO SET AUDIO_PRE = 2 WHERE ID = ?'''\n",
    "\n",
    "            data = [rowId]\n",
    "            cur.execute(sql, data)\n",
    "            con2.commit()\n",
    "            cur.close()\n",
    "\n",
    "             # Will delete those files after a little bit\n",
    "            ftd = [absPathAudio,path_var_len_audio,os.path.basename(path_var_len_audio),path_var_len_audio_temp]\n",
    "            tDelete = Thread(target=delFiles, args=(ftd,))   # spawn a process\n",
    "            tDelete.start()\n",
    "           \n",
    "            \n",
    "# Function to delete audio temp files\n",
    "def delFiles(filesToDelete):\n",
    "    time.sleep(ttwbdf)  # wait a bit\n",
    "    for file in filesToDelete:  \n",
    "        try:\n",
    "            os.remove(file)\n",
    "        except OSError:\n",
    "            pass\n",
    "        \n",
    "\n",
    "\n",
    "\n",
    "# TODO Better display of progress and handling of exceptions\n",
    "contLoop = True # Flag to continue to get chunks of videos from database\n",
    "offset = 0\n",
    "while(contLoop):\n",
    "    data = con.execute(\"SELECT * FROM VIDEO WHERE AUDIO_PRE = 1 ORDER BY ID ASC LIMIT \" + p + \" OFFSET \" + str(offset))\n",
    "    contLoop = False\n",
    "    offset = offset + int(p)\n",
    "    print(\"Got chunk of videos from database. Extracting audio and audio embeddings...\")\n",
    "    # TODO write time\n",
    "    \n",
    "    #print(data.fetchall())\n",
    "    dataGotten = data.fetchall()\n",
    "    rowsPerProcess = math.ceil(len(dataGotten) / cpus)  # Will spawn no. of processes = cpus, each will get rows = rowsperprocess\n",
    "    procs = []\n",
    "    while(len(dataGotten) > 0):\n",
    "        rows=dataGotten[:rowsPerProcess]    # rows to be sent to a process\n",
    "        dataGotten = dataGotten[rowsPerProcess:]    # Deletes the rows that are going to be sent from dataGotten\n",
    "        #print(rows)\n",
    "        contLoop = True # Continue to get data from database since data length is not 0\n",
    "        extractAudio(rows)\n",
    "        #proc = Process(target=extractAudio, args=(rows,))   # spawn a process\n",
    "        #procs.append(proc)\n",
    "        #proc.start()\n",
    "    #for proc in procs:  # wait for all processes to finish\n",
    "        #proc.join()\n",
    "    \n",
    "print('----------------------------------------------------------------      FINISHED      -----------------------------------------')\n",
    "\n",
    "print(\"--- %s seconds ---\" % (time.time() - start_time))"
   ]
  }
 ],
 "metadata": {
  "kernelspec": {
   "display_name": "ds2f_pre",
   "language": "python",
   "name": "python3"
  },
  "language_info": {
   "codemirror_mode": {
    "name": "ipython",
    "version": 3
   },
   "file_extension": ".py",
   "mimetype": "text/x-python",
   "name": "python",
   "nbconvert_exporter": "python",
   "pygments_lexer": "ipython3",
   "version": "3.8.16"
  },
  "orig_nbformat": 4
 },
 "nbformat": 4,
 "nbformat_minor": 2
}

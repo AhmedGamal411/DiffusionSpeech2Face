{
 "cells": [
  {
   "cell_type": "code",
   "execution_count": 48,
   "metadata": {},
   "outputs": [],
   "source": [
    "import os\n",
    "import configparser\n",
    "\n",
    "# Loading configurations\n",
    "configParser = configparser.RawConfigParser()   \n",
    "configFilePath = r'configuration.txt'\n",
    "configParser.read(configFilePath)\n",
    "\n",
    "insert_amd_env_vars =  int(configParser.get('COMMON', 'insert_amd_env_vars'))\n",
    "HSA_OVERRIDE_GFX_VERSION =  configParser.get('COMMON', 'HSA_OVERRIDE_GFX_VERSION')\n",
    "ROCM_PATH =  configParser.get('COMMON', 'ROCM_PATH')\n",
    "\n",
    "if(insert_amd_env_vars != 0):\n",
    "    os.environ[\"HSA_OVERRIDE_GFX_VERSION\"] = HSA_OVERRIDE_GFX_VERSION\n",
    "    os.environ[\"ROCM_PATH\"] = ROCM_PATH\n",
    "    \n",
    "#import os\n",
    "#os.environ[\"TF_CPP_MIN_LOG_LEVEL\"] = \"2\"\n",
    "#os.environ[\"AUTOGRAPH_VERBOSITY\"] = \"0\""
   ]
  },
  {
   "cell_type": "code",
   "execution_count": 49,
   "metadata": {},
   "outputs": [],
   "source": [
    "\n",
    "import configparser\n",
    "\n",
    "# Loading configurations\n",
    "configParser = configparser.RawConfigParser()   \n",
    "configFilePath = r'configuration.txt'\n",
    "configParser.read(configFilePath)\n",
    "\n",
    "\n",
    "datasetPathGeneratedFaces =  configParser.get('evaluate_imagen', 'test_datasetPathGeneratedFaces')\n",
    "generated_face_table_name =  configParser.get('evaluate_imagen', 'generated_face_table_name')\n",
    "evaluation_results_folder = configParser.get('evaluate_imagen', 'evaluation_results_folder')\n",
    "datasetPathFaces =  configParser.get('evaluate_imagen', 'test_datasetpathfaces')\n",
    "\n",
    "datasetPathGeneratedFaces_pooled =  configParser.get('evaluate_imagen', 'test_datasetpathgeneratedfaces_pooled')\n",
    "datasetPathFaces_pooled =  configParser.get('evaluate_imagen', 'test_datasetpathfaces_pooled')\n",
    "\n",
    "datasetPathDatabase =  configParser.get('COMMON', 'test_datasetPathDatabase') + '/dataset.db'\n",
    "\n",
    "\n",
    "\n",
    "cuda =  int(configParser.get('COMMON', 'cuda'))\n",
    "cpus =  int(configParser.get('COMMON', 'cpus'))\n",
    "\n",
    "\n"
   ]
  },
  {
   "cell_type": "code",
   "execution_count": 3,
   "metadata": {},
   "outputs": [],
   "source": [
    "#TODO document jupyter\n",
    "import pickle\n",
    "import sqlite3 as sl\n",
    "import pandas as pd\n",
    "import numpy as np\n",
    "from PIL import Image\n",
    "\n",
    "from textwrap import wrap\n",
    "import os\n",
    "\n",
    "\n",
    "import matplotlib.pyplot as plt\n",
    "import numpy as np\n",
    "import pandas as pd\n",
    "\n"
   ]
  },
  {
   "cell_type": "code",
   "execution_count": 4,
   "metadata": {},
   "outputs": [],
   "source": [
    "pd.set_option('display.max_columns', None)\n",
    "pd.options.mode.chained_assignment = None\n"
   ]
  },
  {
   "cell_type": "code",
   "execution_count": 5,
   "metadata": {},
   "outputs": [],
   "source": [
    "image_size =  int(configParser.get('COMMON', 'resizeImageTo'))\n",
    "audio_length_used =  configParser.get('evaluate_imagen', 'audio_length_used') \n",
    "model_filename =  configParser.get('evaluate_imagen', 'model_filename') + '_'  + audio_length_used +  's.pt'\n",
    "openl3_mode =  configParser.get('evaluate_imagen', 'openl3_mode')"
   ]
  },
  {
   "cell_type": "code",
   "execution_count": 6,
   "metadata": {},
   "outputs": [
    {
     "data": {
      "text/html": [
       "<div>\n",
       "<style scoped>\n",
       "    .dataframe tbody tr th:only-of-type {\n",
       "        vertical-align: middle;\n",
       "    }\n",
       "\n",
       "    .dataframe tbody tr th {\n",
       "        vertical-align: top;\n",
       "    }\n",
       "\n",
       "    .dataframe thead th {\n",
       "        text-align: right;\n",
       "    }\n",
       "</style>\n",
       "<table border=\"1\" class=\"dataframe\">\n",
       "  <thead>\n",
       "    <tr style=\"text-align: right;\">\n",
       "      <th></th>\n",
       "      <th>id</th>\n",
       "      <th>id_true</th>\n",
       "      <th>generated_face_path</th>\n",
       "      <th>user</th>\n",
       "    </tr>\n",
       "  </thead>\n",
       "  <tbody>\n",
       "    <tr>\n",
       "      <th>0</th>\n",
       "      <td>0</td>\n",
       "      <td>0</td>\n",
       "      <td>/media/gamal/Passport/Datasets/VoxCeleb2TestMi...</td>\n",
       "      <td>id00017</td>\n",
       "    </tr>\n",
       "    <tr>\n",
       "      <th>1</th>\n",
       "      <td>1</td>\n",
       "      <td>183</td>\n",
       "      <td>/media/gamal/Passport/Datasets/VoxCeleb2TestMi...</td>\n",
       "      <td>id00061</td>\n",
       "    </tr>\n",
       "    <tr>\n",
       "      <th>2</th>\n",
       "      <td>2</td>\n",
       "      <td>471</td>\n",
       "      <td>/media/gamal/Passport/Datasets/VoxCeleb2TestMi...</td>\n",
       "      <td>id00081</td>\n",
       "    </tr>\n",
       "    <tr>\n",
       "      <th>3</th>\n",
       "      <td>3</td>\n",
       "      <td>780</td>\n",
       "      <td>/media/gamal/Passport/Datasets/VoxCeleb2TestMi...</td>\n",
       "      <td>id00154</td>\n",
       "    </tr>\n",
       "    <tr>\n",
       "      <th>4</th>\n",
       "      <td>4</td>\n",
       "      <td>968</td>\n",
       "      <td>/media/gamal/Passport/Datasets/VoxCeleb2TestMi...</td>\n",
       "      <td>id00419</td>\n",
       "    </tr>\n",
       "    <tr>\n",
       "      <th>5</th>\n",
       "      <td>5</td>\n",
       "      <td>1468</td>\n",
       "      <td>/media/gamal/Passport/Datasets/VoxCeleb2TestMi...</td>\n",
       "      <td>id00812</td>\n",
       "    </tr>\n",
       "    <tr>\n",
       "      <th>6</th>\n",
       "      <td>6</td>\n",
       "      <td>1875</td>\n",
       "      <td>/media/gamal/Passport/Datasets/VoxCeleb2TestMi...</td>\n",
       "      <td>id00817</td>\n",
       "    </tr>\n",
       "    <tr>\n",
       "      <th>7</th>\n",
       "      <td>7</td>\n",
       "      <td>2328</td>\n",
       "      <td>/media/gamal/Passport/Datasets/VoxCeleb2TestMi...</td>\n",
       "      <td>id00866</td>\n",
       "    </tr>\n",
       "    <tr>\n",
       "      <th>8</th>\n",
       "      <td>8</td>\n",
       "      <td>2600</td>\n",
       "      <td>/media/gamal/Passport/Datasets/VoxCeleb2TestMi...</td>\n",
       "      <td>id00926</td>\n",
       "    </tr>\n",
       "    <tr>\n",
       "      <th>9</th>\n",
       "      <td>9</td>\n",
       "      <td>2763</td>\n",
       "      <td>/media/gamal/Passport/Datasets/VoxCeleb2TestMi...</td>\n",
       "      <td>id01000</td>\n",
       "    </tr>\n",
       "  </tbody>\n",
       "</table>\n",
       "</div>"
      ],
      "text/plain": [
       "   id  id_true                                generated_face_path     user\n",
       "0   0        0  /media/gamal/Passport/Datasets/VoxCeleb2TestMi...  id00017\n",
       "1   1      183  /media/gamal/Passport/Datasets/VoxCeleb2TestMi...  id00061\n",
       "2   2      471  /media/gamal/Passport/Datasets/VoxCeleb2TestMi...  id00081\n",
       "3   3      780  /media/gamal/Passport/Datasets/VoxCeleb2TestMi...  id00154\n",
       "4   4      968  /media/gamal/Passport/Datasets/VoxCeleb2TestMi...  id00419\n",
       "5   5     1468  /media/gamal/Passport/Datasets/VoxCeleb2TestMi...  id00812\n",
       "6   6     1875  /media/gamal/Passport/Datasets/VoxCeleb2TestMi...  id00817\n",
       "7   7     2328  /media/gamal/Passport/Datasets/VoxCeleb2TestMi...  id00866\n",
       "8   8     2600  /media/gamal/Passport/Datasets/VoxCeleb2TestMi...  id00926\n",
       "9   9     2763  /media/gamal/Passport/Datasets/VoxCeleb2TestMi...  id01000"
      ]
     },
     "execution_count": 6,
     "metadata": {},
     "output_type": "execute_result"
    }
   ],
   "source": [
    "import lancedb\n",
    "uri = datasetPathDatabase\n",
    "db = lancedb.connect(uri)\n",
    "\n",
    "table_generated = db.open_table(generated_face_table_name).to_pandas()\n",
    "table_generated\n"
   ]
  },
  {
   "cell_type": "code",
   "execution_count": 7,
   "metadata": {},
   "outputs": [],
   "source": [
    "try:\n",
    "  db.drop_table(generated_face_table_name)\n",
    "except:\n",
    "  print(\"\")"
   ]
  },
  {
   "cell_type": "code",
   "execution_count": 8,
   "metadata": {},
   "outputs": [],
   "source": [
    "import multiprocessing\n",
    "try:\n",
    "    multiprocessing.set_start_method('spawn')\n",
    "except:\n",
    "    print(\"\")"
   ]
  },
  {
   "cell_type": "code",
   "execution_count": 9,
   "metadata": {},
   "outputs": [],
   "source": [
    "import pathlib\n",
    "import os\n",
    "from random import randrange\n",
    "\n",
    "\n",
    "uri = datasetPathDatabase\n",
    "db = lancedb.connect(uri)\n",
    "\n",
    "\n",
    "\n"
   ]
  },
  {
   "cell_type": "code",
   "execution_count": 10,
   "metadata": {},
   "outputs": [],
   "source": [
    "audio_folder = output_folder = r'imagen_testing_folder' \n",
    "if not os.path.exists(audio_folder):\n",
    "    os.makedirs(audio_folder)"
   ]
  },
  {
   "cell_type": "code",
   "execution_count": 11,
   "metadata": {},
   "outputs": [
    {
     "name": "stderr",
     "output_type": "stream",
     "text": [
      "2023-10-13 15:30:35.689770: I tensorflow/core/platform/cpu_feature_guard.cc:193] This TensorFlow binary is optimized with oneAPI Deep Neural Network Library (oneDNN) to use the following CPU instructions in performance-critical operations:  SSE4.1 SSE4.2 AVX AVX2 FMA\n",
      "To enable them in other operations, rebuild TensorFlow with the appropriate compiler flags.\n"
     ]
    }
   ],
   "source": [
    "\n",
    "from testing_imagen_vision_transformer import extract_vision_transformer\n",
    "from testing_imagen_face import extract_face_rep,extract_face_attributes\n",
    "import pathlib\n",
    "import shutil\n"
   ]
  },
  {
   "cell_type": "code",
   "execution_count": 12,
   "metadata": {},
   "outputs": [
    {
     "name": "stderr",
     "output_type": "stream",
     "text": [
      "Action: race: 100%|██████████| 3/3 [00:01<00:00,  2.20it/s]  \n"
     ]
    },
    {
     "name": "stdout",
     "output_type": "stream",
     "text": [
      "---------------0----------------\n"
     ]
    },
    {
     "name": "stderr",
     "output_type": "stream",
     "text": [
      "Action: race: 100%|██████████| 3/3 [00:01<00:00,  2.26it/s]  \n"
     ]
    },
    {
     "name": "stdout",
     "output_type": "stream",
     "text": [
      "---------------1----------------\n"
     ]
    },
    {
     "name": "stderr",
     "output_type": "stream",
     "text": [
      "Action: race: 100%|██████████| 3/3 [00:01<00:00,  1.60it/s]  \n"
     ]
    },
    {
     "name": "stdout",
     "output_type": "stream",
     "text": [
      "---------------2----------------\n"
     ]
    },
    {
     "name": "stderr",
     "output_type": "stream",
     "text": [
      "Action: race: 100%|██████████| 3/3 [00:01<00:00,  2.50it/s]  \n"
     ]
    },
    {
     "name": "stdout",
     "output_type": "stream",
     "text": [
      "---------------3----------------\n"
     ]
    },
    {
     "name": "stderr",
     "output_type": "stream",
     "text": [
      "Action: race: 100%|██████████| 3/3 [00:01<00:00,  2.15it/s]  \n"
     ]
    },
    {
     "name": "stdout",
     "output_type": "stream",
     "text": [
      "---------------4----------------\n"
     ]
    },
    {
     "name": "stderr",
     "output_type": "stream",
     "text": [
      "Action: race: 100%|██████████| 3/3 [00:01<00:00,  2.03it/s]  \n"
     ]
    },
    {
     "name": "stdout",
     "output_type": "stream",
     "text": [
      "---------------5----------------\n"
     ]
    },
    {
     "name": "stderr",
     "output_type": "stream",
     "text": [
      "Action: race: 100%|██████████| 3/3 [00:01<00:00,  2.28it/s]  \n"
     ]
    },
    {
     "name": "stdout",
     "output_type": "stream",
     "text": [
      "---------------6----------------\n"
     ]
    },
    {
     "name": "stderr",
     "output_type": "stream",
     "text": [
      "Action: race: 100%|██████████| 3/3 [00:01<00:00,  2.23it/s]  \n"
     ]
    },
    {
     "name": "stdout",
     "output_type": "stream",
     "text": [
      "---------------7----------------\n"
     ]
    },
    {
     "name": "stderr",
     "output_type": "stream",
     "text": [
      "Action: race: 100%|██████████| 3/3 [00:01<00:00,  2.41it/s]  \n"
     ]
    },
    {
     "name": "stdout",
     "output_type": "stream",
     "text": [
      "---------------8----------------\n"
     ]
    },
    {
     "name": "stderr",
     "output_type": "stream",
     "text": [
      "Action: race: 100%|██████████| 3/3 [00:01<00:00,  2.32it/s]  \n"
     ]
    },
    {
     "name": "stdout",
     "output_type": "stream",
     "text": [
      "---------------9----------------\n"
     ]
    },
    {
     "name": "stderr",
     "output_type": "stream",
     "text": [
      "Action: race: 100%|██████████| 3/3 [00:01<00:00,  2.19it/s]  \n"
     ]
    },
    {
     "name": "stdout",
     "output_type": "stream",
     "text": [
      "---------------10----------------\n"
     ]
    }
   ],
   "source": [
    "\n",
    "\n",
    "i = 0\n",
    "for index, row in table_generated.iterrows():\n",
    "    face_file = row['generated_face_path']\n",
    "    user = row['user']\n",
    "    id_true= int(row['id_true'])\n",
    "\n",
    "    \n",
    "    q = multiprocessing.Queue()\n",
    "\n",
    "    try:\n",
    "        proc = multiprocessing.Process(target=extract_face_rep, args=(q,face_file,\n",
    "                                                                image_size,output_folder,))\n",
    "        proc.start()\n",
    "        proc.join()\n",
    "    except:\n",
    "        continue\n",
    "\n",
    "    with open(output_folder + '/' + 'vgg_generated_face.pickle', 'rb') as handle:\n",
    "        vgg = pickle.load(handle)\n",
    "        #print(\"++++++\" + str(vgg))\n",
    "\n",
    "    try:\n",
    "        proc = multiprocessing.Process(target=extract_face_attributes, args=(q,face_file,))\n",
    "        proc.start()\n",
    "        proc.join()\n",
    "\n",
    "        gender = q.get()\n",
    "        if(gender == 'Error'):\n",
    "            continue\n",
    "        ethnicity = q.get()\n",
    "        if(ethnicity == 'Error'):\n",
    "            continue\n",
    "        age = q.get()\n",
    "        if(age == 'Error'):\n",
    "            continue\n",
    "\n",
    "    except:\n",
    "        continue\n",
    "\n",
    "\n",
    "    \n",
    "    tbl = db.open_table(\"video_stage1\")\n",
    "    result = tbl.search(vgg).limit(10).to_df()\n",
    "\n",
    "    match_1 = result.iloc[0]['user']\n",
    "    match_2 = result.iloc[1]['user']\n",
    "    match_3 = result.iloc[2]['user']\n",
    "    match_4 = result.iloc[3]['user']\n",
    "    match_5 = result.iloc[4]['user']\n",
    "    match_6 = result.iloc[5]['user']\n",
    "    match_7 = result.iloc[6]['user']\n",
    "    match_8 = result.iloc[7]['user']\n",
    "    match_9 = result.iloc[8]['user']\n",
    "    match_10= result.iloc[9]['user']\n",
    "    \n",
    "\n",
    "    df_table = pd.DataFrame()\n",
    "    df_table = df_table.append({'id': i , 'id_true':id_true,\n",
    "                    'generated_face_path': face_file,'user':user,'age':age,'gender':gender,'ethnicity':ethnicity,\n",
    "                    'match_1':match_1,'match_2':match_2,'match_3':match_3,'match_4':match_4,'match_5':match_5,\n",
    "                    'match_6':match_6,'match_7':match_7,'match_8':match_8,'match_9':match_9,'match_10':match_10,\n",
    "        'vector' : vgg,'stage': 1}, ignore_index=True)\n",
    "    \n",
    "\n",
    "    if(i == 0):\n",
    "        try:\n",
    "            db.create_table(generated_face_table_name, df_table)\n",
    "        except:\n",
    "            db.drop_table(generated_face_table_name)\n",
    "            db.create_table(generated_face_table_name, df_table)\n",
    "    else:\n",
    "        tbl = db.open_table(generated_face_table_name)\n",
    "        tbl.add(df_table)\n",
    "\n",
    "\n",
    "    print(\"---------------\" + str(i) + \"----------------\")\n",
    "    i = i + 1\n",
    "\n",
    "shutil.rmtree(output_folder)\n"
   ]
  },
  {
   "cell_type": "code",
   "execution_count": 13,
   "metadata": {},
   "outputs": [],
   "source": [
    "tbl = db.open_table(generated_face_table_name)"
   ]
  },
  {
   "cell_type": "code",
   "execution_count": 14,
   "metadata": {},
   "outputs": [
    {
     "data": {
      "text/html": [
       "<div>\n",
       "<style scoped>\n",
       "    .dataframe tbody tr th:only-of-type {\n",
       "        vertical-align: middle;\n",
       "    }\n",
       "\n",
       "    .dataframe tbody tr th {\n",
       "        vertical-align: top;\n",
       "    }\n",
       "\n",
       "    .dataframe thead th {\n",
       "        text-align: right;\n",
       "    }\n",
       "</style>\n",
       "<table border=\"1\" class=\"dataframe\">\n",
       "  <thead>\n",
       "    <tr style=\"text-align: right;\">\n",
       "      <th></th>\n",
       "      <th>id</th>\n",
       "      <th>id_true</th>\n",
       "      <th>generated_face_path</th>\n",
       "      <th>user</th>\n",
       "      <th>age</th>\n",
       "      <th>gender</th>\n",
       "      <th>ethnicity</th>\n",
       "      <th>match_1</th>\n",
       "      <th>match_2</th>\n",
       "      <th>match_3</th>\n",
       "      <th>match_4</th>\n",
       "      <th>match_5</th>\n",
       "      <th>match_6</th>\n",
       "      <th>match_7</th>\n",
       "      <th>match_8</th>\n",
       "      <th>match_9</th>\n",
       "      <th>match_10</th>\n",
       "      <th>vector</th>\n",
       "      <th>stage</th>\n",
       "    </tr>\n",
       "  </thead>\n",
       "  <tbody>\n",
       "    <tr>\n",
       "      <th>0</th>\n",
       "      <td>0</td>\n",
       "      <td>0</td>\n",
       "      <td>/media/gamal/Passport/Datasets/VoxCeleb2TestMi...</td>\n",
       "      <td>id00017</td>\n",
       "      <td>34</td>\n",
       "      <td>Man</td>\n",
       "      <td>asian</td>\n",
       "      <td>id00812</td>\n",
       "      <td>id00154</td>\n",
       "      <td>id00817</td>\n",
       "      <td>id00061</td>\n",
       "      <td>id00419</td>\n",
       "      <td>id00866</td>\n",
       "      <td>id00017</td>\n",
       "      <td>id00926</td>\n",
       "      <td>id01000</td>\n",
       "      <td>id00081</td>\n",
       "      <td>[0.0075060795, 0.0031019482, 0.002376909, 0.00...</td>\n",
       "      <td>1</td>\n",
       "    </tr>\n",
       "    <tr>\n",
       "      <th>1</th>\n",
       "      <td>1</td>\n",
       "      <td>183</td>\n",
       "      <td>/media/gamal/Passport/Datasets/VoxCeleb2TestMi...</td>\n",
       "      <td>id00061</td>\n",
       "      <td>35</td>\n",
       "      <td>Man</td>\n",
       "      <td>asian</td>\n",
       "      <td>id00812</td>\n",
       "      <td>id00154</td>\n",
       "      <td>id00817</td>\n",
       "      <td>id00061</td>\n",
       "      <td>id00419</td>\n",
       "      <td>id00866</td>\n",
       "      <td>id00017</td>\n",
       "      <td>id00926</td>\n",
       "      <td>id01000</td>\n",
       "      <td>id00081</td>\n",
       "      <td>[0.0076998365, 0.0036566316, 0.0028854471, 0.0...</td>\n",
       "      <td>1</td>\n",
       "    </tr>\n",
       "    <tr>\n",
       "      <th>2</th>\n",
       "      <td>2</td>\n",
       "      <td>471</td>\n",
       "      <td>/media/gamal/Passport/Datasets/VoxCeleb2TestMi...</td>\n",
       "      <td>id00081</td>\n",
       "      <td>36</td>\n",
       "      <td>Man</td>\n",
       "      <td>middle eastern</td>\n",
       "      <td>id00812</td>\n",
       "      <td>id00154</td>\n",
       "      <td>id00061</td>\n",
       "      <td>id00817</td>\n",
       "      <td>id00419</td>\n",
       "      <td>id00866</td>\n",
       "      <td>id00017</td>\n",
       "      <td>id00926</td>\n",
       "      <td>id01000</td>\n",
       "      <td>id00081</td>\n",
       "      <td>[0.0078802565, 0.0033581466, 0.0025512753, 0.0...</td>\n",
       "      <td>1</td>\n",
       "    </tr>\n",
       "    <tr>\n",
       "      <th>3</th>\n",
       "      <td>3</td>\n",
       "      <td>780</td>\n",
       "      <td>/media/gamal/Passport/Datasets/VoxCeleb2TestMi...</td>\n",
       "      <td>id00154</td>\n",
       "      <td>37</td>\n",
       "      <td>Man</td>\n",
       "      <td>asian</td>\n",
       "      <td>id00812</td>\n",
       "      <td>id00154</td>\n",
       "      <td>id00817</td>\n",
       "      <td>id00061</td>\n",
       "      <td>id00419</td>\n",
       "      <td>id00866</td>\n",
       "      <td>id00017</td>\n",
       "      <td>id00926</td>\n",
       "      <td>id01000</td>\n",
       "      <td>id00081</td>\n",
       "      <td>[0.0072413436, 0.0031869488, 0.0024481025, 0.0...</td>\n",
       "      <td>1</td>\n",
       "    </tr>\n",
       "    <tr>\n",
       "      <th>4</th>\n",
       "      <td>4</td>\n",
       "      <td>968</td>\n",
       "      <td>/media/gamal/Passport/Datasets/VoxCeleb2TestMi...</td>\n",
       "      <td>id00419</td>\n",
       "      <td>36</td>\n",
       "      <td>Man</td>\n",
       "      <td>asian</td>\n",
       "      <td>id00812</td>\n",
       "      <td>id00154</td>\n",
       "      <td>id00817</td>\n",
       "      <td>id00061</td>\n",
       "      <td>id00419</td>\n",
       "      <td>id00866</td>\n",
       "      <td>id00017</td>\n",
       "      <td>id00926</td>\n",
       "      <td>id01000</td>\n",
       "      <td>id00081</td>\n",
       "      <td>[0.0068007736, 0.0025085332, 0.003274194, 0.00...</td>\n",
       "      <td>1</td>\n",
       "    </tr>\n",
       "    <tr>\n",
       "      <th>5</th>\n",
       "      <td>5</td>\n",
       "      <td>1468</td>\n",
       "      <td>/media/gamal/Passport/Datasets/VoxCeleb2TestMi...</td>\n",
       "      <td>id00812</td>\n",
       "      <td>36</td>\n",
       "      <td>Man</td>\n",
       "      <td>asian</td>\n",
       "      <td>id00812</td>\n",
       "      <td>id00154</td>\n",
       "      <td>id00817</td>\n",
       "      <td>id00061</td>\n",
       "      <td>id00419</td>\n",
       "      <td>id00866</td>\n",
       "      <td>id00017</td>\n",
       "      <td>id00926</td>\n",
       "      <td>id01000</td>\n",
       "      <td>id00081</td>\n",
       "      <td>[0.0067802374, 0.0026269024, 0.0026200695, 0.0...</td>\n",
       "      <td>1</td>\n",
       "    </tr>\n",
       "    <tr>\n",
       "      <th>6</th>\n",
       "      <td>6</td>\n",
       "      <td>1875</td>\n",
       "      <td>/media/gamal/Passport/Datasets/VoxCeleb2TestMi...</td>\n",
       "      <td>id00817</td>\n",
       "      <td>36</td>\n",
       "      <td>Man</td>\n",
       "      <td>asian</td>\n",
       "      <td>id00812</td>\n",
       "      <td>id00154</td>\n",
       "      <td>id00817</td>\n",
       "      <td>id00061</td>\n",
       "      <td>id00419</td>\n",
       "      <td>id00866</td>\n",
       "      <td>id00017</td>\n",
       "      <td>id00926</td>\n",
       "      <td>id01000</td>\n",
       "      <td>id00081</td>\n",
       "      <td>[0.007610667, 0.0026419596, 0.0026976238, 0.00...</td>\n",
       "      <td>1</td>\n",
       "    </tr>\n",
       "    <tr>\n",
       "      <th>7</th>\n",
       "      <td>7</td>\n",
       "      <td>2328</td>\n",
       "      <td>/media/gamal/Passport/Datasets/VoxCeleb2TestMi...</td>\n",
       "      <td>id00866</td>\n",
       "      <td>34</td>\n",
       "      <td>Man</td>\n",
       "      <td>asian</td>\n",
       "      <td>id00812</td>\n",
       "      <td>id00154</td>\n",
       "      <td>id00817</td>\n",
       "      <td>id00061</td>\n",
       "      <td>id00419</td>\n",
       "      <td>id00866</td>\n",
       "      <td>id00017</td>\n",
       "      <td>id00926</td>\n",
       "      <td>id01000</td>\n",
       "      <td>id00081</td>\n",
       "      <td>[0.006814258, 0.0025084624, 0.0028836415, 0.00...</td>\n",
       "      <td>1</td>\n",
       "    </tr>\n",
       "    <tr>\n",
       "      <th>8</th>\n",
       "      <td>8</td>\n",
       "      <td>2600</td>\n",
       "      <td>/media/gamal/Passport/Datasets/VoxCeleb2TestMi...</td>\n",
       "      <td>id00926</td>\n",
       "      <td>33</td>\n",
       "      <td>Man</td>\n",
       "      <td>asian</td>\n",
       "      <td>id00812</td>\n",
       "      <td>id00154</td>\n",
       "      <td>id00817</td>\n",
       "      <td>id00061</td>\n",
       "      <td>id00419</td>\n",
       "      <td>id00866</td>\n",
       "      <td>id00017</td>\n",
       "      <td>id00926</td>\n",
       "      <td>id01000</td>\n",
       "      <td>id00081</td>\n",
       "      <td>[0.0075222575, 0.0028506285, 0.0030971956, 0.0...</td>\n",
       "      <td>1</td>\n",
       "    </tr>\n",
       "    <tr>\n",
       "      <th>9</th>\n",
       "      <td>9</td>\n",
       "      <td>2763</td>\n",
       "      <td>/media/gamal/Passport/Datasets/VoxCeleb2TestMi...</td>\n",
       "      <td>id01000</td>\n",
       "      <td>31</td>\n",
       "      <td>Man</td>\n",
       "      <td>asian</td>\n",
       "      <td>id00812</td>\n",
       "      <td>id00154</td>\n",
       "      <td>id00061</td>\n",
       "      <td>id00817</td>\n",
       "      <td>id00419</td>\n",
       "      <td>id00866</td>\n",
       "      <td>id00017</td>\n",
       "      <td>id00926</td>\n",
       "      <td>id01000</td>\n",
       "      <td>id00081</td>\n",
       "      <td>[0.007852313, 0.0037854768, 0.002530039, 0.007...</td>\n",
       "      <td>1</td>\n",
       "    </tr>\n",
       "  </tbody>\n",
       "</table>\n",
       "</div>"
      ],
      "text/plain": [
       "   id  id_true                                generated_face_path     user  \\\n",
       "0   0        0  /media/gamal/Passport/Datasets/VoxCeleb2TestMi...  id00017   \n",
       "1   1      183  /media/gamal/Passport/Datasets/VoxCeleb2TestMi...  id00061   \n",
       "2   2      471  /media/gamal/Passport/Datasets/VoxCeleb2TestMi...  id00081   \n",
       "3   3      780  /media/gamal/Passport/Datasets/VoxCeleb2TestMi...  id00154   \n",
       "4   4      968  /media/gamal/Passport/Datasets/VoxCeleb2TestMi...  id00419   \n",
       "5   5     1468  /media/gamal/Passport/Datasets/VoxCeleb2TestMi...  id00812   \n",
       "6   6     1875  /media/gamal/Passport/Datasets/VoxCeleb2TestMi...  id00817   \n",
       "7   7     2328  /media/gamal/Passport/Datasets/VoxCeleb2TestMi...  id00866   \n",
       "8   8     2600  /media/gamal/Passport/Datasets/VoxCeleb2TestMi...  id00926   \n",
       "9   9     2763  /media/gamal/Passport/Datasets/VoxCeleb2TestMi...  id01000   \n",
       "\n",
       "   age gender       ethnicity  match_1  match_2  match_3  match_4  match_5  \\\n",
       "0   34    Man           asian  id00812  id00154  id00817  id00061  id00419   \n",
       "1   35    Man           asian  id00812  id00154  id00817  id00061  id00419   \n",
       "2   36    Man  middle eastern  id00812  id00154  id00061  id00817  id00419   \n",
       "3   37    Man           asian  id00812  id00154  id00817  id00061  id00419   \n",
       "4   36    Man           asian  id00812  id00154  id00817  id00061  id00419   \n",
       "5   36    Man           asian  id00812  id00154  id00817  id00061  id00419   \n",
       "6   36    Man           asian  id00812  id00154  id00817  id00061  id00419   \n",
       "7   34    Man           asian  id00812  id00154  id00817  id00061  id00419   \n",
       "8   33    Man           asian  id00812  id00154  id00817  id00061  id00419   \n",
       "9   31    Man           asian  id00812  id00154  id00061  id00817  id00419   \n",
       "\n",
       "   match_6  match_7  match_8  match_9 match_10  \\\n",
       "0  id00866  id00017  id00926  id01000  id00081   \n",
       "1  id00866  id00017  id00926  id01000  id00081   \n",
       "2  id00866  id00017  id00926  id01000  id00081   \n",
       "3  id00866  id00017  id00926  id01000  id00081   \n",
       "4  id00866  id00017  id00926  id01000  id00081   \n",
       "5  id00866  id00017  id00926  id01000  id00081   \n",
       "6  id00866  id00017  id00926  id01000  id00081   \n",
       "7  id00866  id00017  id00926  id01000  id00081   \n",
       "8  id00866  id00017  id00926  id01000  id00081   \n",
       "9  id00866  id00017  id00926  id01000  id00081   \n",
       "\n",
       "                                              vector  stage  \n",
       "0  [0.0075060795, 0.0031019482, 0.002376909, 0.00...      1  \n",
       "1  [0.0076998365, 0.0036566316, 0.0028854471, 0.0...      1  \n",
       "2  [0.0078802565, 0.0033581466, 0.0025512753, 0.0...      1  \n",
       "3  [0.0072413436, 0.0031869488, 0.0024481025, 0.0...      1  \n",
       "4  [0.0068007736, 0.0025085332, 0.003274194, 0.00...      1  \n",
       "5  [0.0067802374, 0.0026269024, 0.0026200695, 0.0...      1  \n",
       "6  [0.007610667, 0.0026419596, 0.0026976238, 0.00...      1  \n",
       "7  [0.006814258, 0.0025084624, 0.0028836415, 0.00...      1  \n",
       "8  [0.0075222575, 0.0028506285, 0.0030971956, 0.0...      1  \n",
       "9  [0.007852313, 0.0037854768, 0.002530039, 0.007...      1  "
      ]
     },
     "execution_count": 14,
     "metadata": {},
     "output_type": "execute_result"
    }
   ],
   "source": [
    "ptable = tbl.to_pandas()\n",
    "ptable"
   ]
  },
  {
   "cell_type": "code",
   "execution_count": 128,
   "metadata": {},
   "outputs": [],
   "source": [
    "ptable_unique_users = ptable.drop_duplicates(subset=['user'], keep='first')"
   ]
  },
  {
   "cell_type": "code",
   "execution_count": 129,
   "metadata": {},
   "outputs": [
    {
     "data": {
      "text/plain": [
       "24"
      ]
     },
     "execution_count": 129,
     "metadata": {},
     "output_type": "execute_result"
    }
   ],
   "source": [
    "f= open(evaluation_results_folder + \"/results.txt\",\"w+\")\n",
    "f.write(\"No. of generated faces: \" + str(len(ptable)) + \"\\n\")\n",
    "f.write(\"No. of unique users: \" + str(len(ptable_unique_users)) + \"\\n\")\n"
   ]
  },
  {
   "cell_type": "code",
   "execution_count": 130,
   "metadata": {},
   "outputs": [
    {
     "data": {
      "text/plain": [
       "56"
      ]
     },
     "execution_count": 130,
     "metadata": {},
     "output_type": "execute_result"
    }
   ],
   "source": [
    "acc_10 = int((len(tbl.search() \\\n",
    "   .where(\"\"\" user = match_1 or user = match_2 or user = match_3 \n",
    "          or user = match_4 or user = match_5 or user = match_6 or user = match_7\n",
    "          or user = match_8 or user = match_9 or user = match_10\n",
    "    \"\"\").to_df()) / float(len(ptable))) * 100)\n",
    "f.write(\"Face Recognition Accuracy within first 10 matches: \" + str(acc_10) + \"%\\n\")\n"
   ]
  },
  {
   "cell_type": "code",
   "execution_count": 131,
   "metadata": {},
   "outputs": [
    {
     "data": {
      "text/plain": [
       "55"
      ]
     },
     "execution_count": 131,
     "metadata": {},
     "output_type": "execute_result"
    }
   ],
   "source": [
    "acc_5 = int((len(tbl.search() \\\n",
    "   .where(\"\"\" user = match_1 or user = match_2 or user = match_3\n",
    "          or user = match_4 or user = match_5 \n",
    "    \"\"\").to_df()) / float(len(ptable))) * 100)\n",
    "f.write(\"Face Recognition Accuracy within first  5 matches: \" + str(acc_5) + \"%\\n\")"
   ]
  },
  {
   "cell_type": "code",
   "execution_count": 132,
   "metadata": {},
   "outputs": [
    {
     "data": {
      "text/plain": [
       "55"
      ]
     },
     "execution_count": 132,
     "metadata": {},
     "output_type": "execute_result"
    }
   ],
   "source": [
    "acc_3 = int((len(tbl.search() \\\n",
    "   .where(\"\"\" user = match_1 or user = match_2 or user = match_3\n",
    "    \"\"\").to_df()) / float(len(ptable))) * 100)\n",
    "f.write(\"Face Recognition Accuracy within first  3 matches: \" + str(acc_3) + \"%\\n\")"
   ]
  },
  {
   "cell_type": "code",
   "execution_count": 133,
   "metadata": {},
   "outputs": [
    {
     "data": {
      "text/plain": [
       "55"
      ]
     },
     "execution_count": 133,
     "metadata": {},
     "output_type": "execute_result"
    }
   ],
   "source": [
    "acc_1 = int((len(tbl.search() \\\n",
    "   .where(\"\"\" user = match_1\n",
    "    \"\"\").to_df()) / float(len(ptable))) * 100)\n",
    "f.write(\"Face Recognition Accuracy within first  1 matches: \" + str(acc_1) + \"%\\n\")"
   ]
  },
  {
   "cell_type": "code",
   "execution_count": 134,
   "metadata": {},
   "outputs": [],
   "source": [
    "tbl_generated = db.open_table(generated_face_table_name)\n",
    "tbl_truth = db.open_table(\"video_stage1\")"
   ]
  },
  {
   "cell_type": "code",
   "execution_count": 135,
   "metadata": {},
   "outputs": [
    {
     "data": {
      "text/html": [
       "<div>\n",
       "<style scoped>\n",
       "    .dataframe tbody tr th:only-of-type {\n",
       "        vertical-align: middle;\n",
       "    }\n",
       "\n",
       "    .dataframe tbody tr th {\n",
       "        vertical-align: top;\n",
       "    }\n",
       "\n",
       "    .dataframe thead th {\n",
       "        text-align: right;\n",
       "    }\n",
       "</style>\n",
       "<table border=\"1\" class=\"dataframe\">\n",
       "  <thead>\n",
       "    <tr style=\"text-align: right;\">\n",
       "      <th></th>\n",
       "      <th>id_true</th>\n",
       "      <th>user</th>\n",
       "      <th>age_true</th>\n",
       "      <th>age_generated</th>\n",
       "      <th>gender_true</th>\n",
       "      <th>gender_generated</th>\n",
       "      <th>ethnicity_true</th>\n",
       "      <th>ethnicity_generated</th>\n",
       "    </tr>\n",
       "  </thead>\n",
       "  <tbody>\n",
       "    <tr>\n",
       "      <th>0</th>\n",
       "      <td>0</td>\n",
       "      <td>id00017</td>\n",
       "      <td>NaN</td>\n",
       "      <td>NaN</td>\n",
       "      <td>NaN</td>\n",
       "      <td>NaN</td>\n",
       "      <td>NaN</td>\n",
       "      <td>NaN</td>\n",
       "    </tr>\n",
       "    <tr>\n",
       "      <th>1</th>\n",
       "      <td>183</td>\n",
       "      <td>id00061</td>\n",
       "      <td>NaN</td>\n",
       "      <td>NaN</td>\n",
       "      <td>NaN</td>\n",
       "      <td>NaN</td>\n",
       "      <td>NaN</td>\n",
       "      <td>NaN</td>\n",
       "    </tr>\n",
       "    <tr>\n",
       "      <th>2</th>\n",
       "      <td>471</td>\n",
       "      <td>id00081</td>\n",
       "      <td>NaN</td>\n",
       "      <td>NaN</td>\n",
       "      <td>NaN</td>\n",
       "      <td>NaN</td>\n",
       "      <td>NaN</td>\n",
       "      <td>NaN</td>\n",
       "    </tr>\n",
       "    <tr>\n",
       "      <th>3</th>\n",
       "      <td>780</td>\n",
       "      <td>id00154</td>\n",
       "      <td>NaN</td>\n",
       "      <td>NaN</td>\n",
       "      <td>NaN</td>\n",
       "      <td>NaN</td>\n",
       "      <td>NaN</td>\n",
       "      <td>NaN</td>\n",
       "    </tr>\n",
       "    <tr>\n",
       "      <th>4</th>\n",
       "      <td>968</td>\n",
       "      <td>id00419</td>\n",
       "      <td>NaN</td>\n",
       "      <td>NaN</td>\n",
       "      <td>NaN</td>\n",
       "      <td>NaN</td>\n",
       "      <td>NaN</td>\n",
       "      <td>NaN</td>\n",
       "    </tr>\n",
       "    <tr>\n",
       "      <th>5</th>\n",
       "      <td>1468</td>\n",
       "      <td>id00812</td>\n",
       "      <td>NaN</td>\n",
       "      <td>NaN</td>\n",
       "      <td>NaN</td>\n",
       "      <td>NaN</td>\n",
       "      <td>NaN</td>\n",
       "      <td>NaN</td>\n",
       "    </tr>\n",
       "    <tr>\n",
       "      <th>6</th>\n",
       "      <td>1875</td>\n",
       "      <td>id00817</td>\n",
       "      <td>NaN</td>\n",
       "      <td>NaN</td>\n",
       "      <td>NaN</td>\n",
       "      <td>NaN</td>\n",
       "      <td>NaN</td>\n",
       "      <td>NaN</td>\n",
       "    </tr>\n",
       "    <tr>\n",
       "      <th>7</th>\n",
       "      <td>2328</td>\n",
       "      <td>id00866</td>\n",
       "      <td>NaN</td>\n",
       "      <td>NaN</td>\n",
       "      <td>NaN</td>\n",
       "      <td>NaN</td>\n",
       "      <td>NaN</td>\n",
       "      <td>NaN</td>\n",
       "    </tr>\n",
       "    <tr>\n",
       "      <th>8</th>\n",
       "      <td>2600</td>\n",
       "      <td>id00926</td>\n",
       "      <td>NaN</td>\n",
       "      <td>NaN</td>\n",
       "      <td>NaN</td>\n",
       "      <td>NaN</td>\n",
       "      <td>NaN</td>\n",
       "      <td>NaN</td>\n",
       "    </tr>\n",
       "    <tr>\n",
       "      <th>9</th>\n",
       "      <td>2763</td>\n",
       "      <td>id01000</td>\n",
       "      <td>NaN</td>\n",
       "      <td>NaN</td>\n",
       "      <td>NaN</td>\n",
       "      <td>NaN</td>\n",
       "      <td>NaN</td>\n",
       "      <td>NaN</td>\n",
       "    </tr>\n",
       "  </tbody>\n",
       "</table>\n",
       "</div>"
      ],
      "text/plain": [
       "   id_true     user  age_true  age_generated  gender_true  gender_generated  \\\n",
       "0        0  id00017       NaN            NaN          NaN               NaN   \n",
       "1      183  id00061       NaN            NaN          NaN               NaN   \n",
       "2      471  id00081       NaN            NaN          NaN               NaN   \n",
       "3      780  id00154       NaN            NaN          NaN               NaN   \n",
       "4      968  id00419       NaN            NaN          NaN               NaN   \n",
       "5     1468  id00812       NaN            NaN          NaN               NaN   \n",
       "6     1875  id00817       NaN            NaN          NaN               NaN   \n",
       "7     2328  id00866       NaN            NaN          NaN               NaN   \n",
       "8     2600  id00926       NaN            NaN          NaN               NaN   \n",
       "9     2763  id01000       NaN            NaN          NaN               NaN   \n",
       "\n",
       "   ethnicity_true  ethnicity_generated  \n",
       "0             NaN                  NaN  \n",
       "1             NaN                  NaN  \n",
       "2             NaN                  NaN  \n",
       "3             NaN                  NaN  \n",
       "4             NaN                  NaN  \n",
       "5             NaN                  NaN  \n",
       "6             NaN                  NaN  \n",
       "7             NaN                  NaN  \n",
       "8             NaN                  NaN  \n",
       "9             NaN                  NaN  "
      ]
     },
     "execution_count": 135,
     "metadata": {},
     "output_type": "execute_result"
    }
   ],
   "source": [
    "pandas_generated = tbl_generated.to_pandas()\n",
    "pandas_users = pandas_generated[['id_true','user']]\n",
    "#pandas_users = pandas_users.drop_duplicates(keep='first', inplace=False)\n",
    "pandas_users[\"age_true\"] = np.nan\n",
    "pandas_users[\"age_generated\"] = np.nan\n",
    "pandas_users[\"gender_true\"] = np.nan\n",
    "pandas_users[\"gender_generated\"] = np.nan\n",
    "pandas_users[\"ethnicity_true\"] = np.nan\n",
    "pandas_users[\"ethnicity_generated\"] = np.nan\n",
    "pandas_users"
   ]
  },
  {
   "cell_type": "code",
   "execution_count": null,
   "metadata": {},
   "outputs": [],
   "source": [
    "def make_square(im, min_size=image_size, fill_color=(0, 0, 0, 0)):\n",
    "    x, y = im.size\n",
    "    size = max(min_size, x, y)\n",
    "    new_im = Image.new('RGB', (size, size), fill_color)\n",
    "    new_im.paste(im, (int((size - x) / 2), int((size - y) / 2)))\n",
    "    im.close()\n",
    "    return new_im\n",
    "\n",
    "def real_image_preprocess(path):\n",
    "\n",
    "    image = Image.open(path).convert('RGB')\n",
    "\n",
    "    w_s = image_size / (1+2 * 0.5)\n",
    "    h_s = image_size / (1+2 * 0.4)\n",
    "\n",
    "    image = image.crop((0.4*w_s, 0.0*h_s, 1.6*w_s, 1.4*h_s))\n",
    "\n",
    "    image = make_square(image)\n",
    "\n",
    "    image = image.resize((begin_with_image_size,begin_with_image_size))\n",
    "    im = image\n",
    "    \n",
    "\n",
    "    #print('saving')\n",
    "    #image.save('opop.png')\n",
    "\n",
    "    #print(np.array(image,np.float32).shape)\n",
    "\n",
    "    pix = np.array(image, np.float32)\n",
    "    pix = np.moveaxis(pix, -1, 0)\n",
    "\n",
    "    pix = pix / 255\n",
    "    image.close()\n",
    "    im.close()\n",
    "    return pix.tolist()\n",
    "return image_guide"
   ]
  },
  {
   "cell_type": "code",
   "execution_count": 24,
   "metadata": {},
   "outputs": [
    {
     "name": "stdout",
     "output_type": "stream",
     "text": [
      "real: /home/gamal/Datasets/Dataset1Test/FacesTest/id00002/obama/obama_face_1.png\n",
      "generated: /home/gamal/Datasets/Dataset1Test/GeneratedFacesTest/id00002/obama/obama_generated_face_.png\n",
      "real: /home/gamal/Datasets/Dataset1Test/FacesTest/id00001/trump/trump_face_1.png\n",
      "generated: /home/gamal/Datasets/Dataset1Test/GeneratedFacesTest/id00001/trump/trump_generated_face_.png\n",
      "real: /home/gamal/Datasets/Dataset1Test/FacesTest/id00006/afsd/0qIAk5sTwEo_173.333333_176.333333_face_1.png\n",
      "generated: /home/gamal/Datasets/Dataset1Test/GeneratedFacesTest/id00006/afsd/0qIAk5sTwEo_173.333333_176.333333_generated_face_.png\n",
      "real: /home/gamal/Datasets/Dataset1Test/FacesTest/id00008/sadf/1uizi6R-PMU_116.920000_120.000000_face_1.png\n",
      "generated: /home/gamal/Datasets/Dataset1Test/GeneratedFacesTest/id00008/sadf/1uizi6R-PMU_116.920000_120.000000_generated_face_.png\n",
      "real: /home/gamal/Datasets/Dataset1Test/FacesTest/id00010/asdf/-6Q8rfdxYoM_197.600000_204.200000_face_1.png\n",
      "generated: /home/gamal/Datasets/Dataset1Test/GeneratedFacesTest/id00010/asdf/-6Q8rfdxYoM_197.600000_204.200000_generated_face_.png\n",
      "real: /home/gamal/Datasets/Dataset1Test/FacesTest/id00012/fasdfas/-124IQ-v7-Y_100.480000_105.400000_face_1.png\n",
      "generated: /home/gamal/Datasets/Dataset1Test/GeneratedFacesTest/id00012/fasdfas/-124IQ-v7-Y_100.480000_105.400000_generated_face_.png\n",
      "real: /home/gamal/Datasets/Dataset1Test/FacesTest/id00009/asdf/-3YxIpmrKe4_210.001467_215.924044_face_1.png\n",
      "generated: /home/gamal/Datasets/Dataset1Test/GeneratedFacesTest/id00009/asdf/-3YxIpmrKe4_210.001467_215.924044_generated_face_.png\n",
      "real: /home/gamal/Datasets/Dataset1Test/FacesTest/id00005/aasdf/-2pPayrmmPI_90.000000_99.733333_face_1.png\n",
      "generated: /home/gamal/Datasets/Dataset1Test/GeneratedFacesTest/id00005/aasdf/-2pPayrmmPI_90.000000_99.733333_generated_face_.png\n",
      "real: /home/gamal/Datasets/Dataset1Test/FacesTest/id00004/aaa/-1n-Uy-SZZo_180.013167_184.142289_face_1.png\n",
      "generated: /home/gamal/Datasets/Dataset1Test/GeneratedFacesTest/id00004/aaa/-1n-Uy-SZZo_180.013167_184.142289_generated_face_.png\n",
      "real: /home/gamal/Datasets/Dataset1Test/FacesTest/id00007/asdf/-5CwA2zjCWc_210.009800_216.115900_face_1.png\n",
      "generated: /home/gamal/Datasets/Dataset1Test/GeneratedFacesTest/id00007/asdf/-5CwA2zjCWc_210.009800_216.115900_generated_face_.png\n",
      "real: /home/gamal/Datasets/Dataset1Test/FacesTest/id00003/a/-5iJ7Tg-Z8A_70.840000_76.960000_face_1.png\n",
      "generated: /home/gamal/Datasets/Dataset1Test/GeneratedFacesTest/id00003/a/-5iJ7Tg-Z8A_70.840000_76.960000_generated_face_.png\n"
     ]
    }
   ],
   "source": [
    "import cv2\n",
    "from skimage.metrics import structural_similarity as calc_ssim\n",
    "from skimage.metrics import mean_squared_error\n",
    "psnr = []\n",
    "ssim = []\n",
    "mse = []\n",
    "for index, row in pandas_users.iterrows():\n",
    "    id_true = str(row['id_true'])\n",
    "    user = row['user']\n",
    "    user = \"'\" + user + \"'\"\n",
    "    m = tbl_truth.search().where(\" id = \" + id_true).to_df()\n",
    "    \n",
    "    pandas_users.loc[index,'age_true'] = m['age'][0]\n",
    "    pandas_users.loc[index,'gender_true'] = m['gender'][0]\n",
    "    pandas_users.loc[index,'ethnicity_true'] = m['ethnicity'][0]\n",
    "\n",
    "    n = tbl_generated.search().where(\" id_true = \" + id_true).to_df()\n",
    "    pandas_users.loc[index,'age_generated'] = n['age'][0]\n",
    "    pandas_users.loc[index,'gender_generated'] = n['gender'][0]\n",
    "    pandas_users.loc[index,'ethnicity_generated'] = n['ethnicity'][0]\n",
    "\n",
    "\n",
    "    print(\"real: \" + m['face_path'][0])\n",
    "    print(\"generated: \" + n['generated_face_path'][0])\n",
    "\n",
    "    \n",
    "    im_true = cv2.imread(m['face_path'][0])\n",
    "    im_generated = cv2.imread(n['generated_face_path'][0])\n",
    "    psnr.append(cv2.PSNR(im_true, im_generated))\n",
    "    #print(im_true.shape)\n",
    "    ssim.append(calc_ssim(im_true,im_generated,channel_axis=2))\n",
    "\n",
    "    mse.append(mean_squared_error(im_true,im_generated))\n",
    "    \n",
    "\n",
    "    "
   ]
  },
  {
   "cell_type": "code",
   "execution_count": 137,
   "metadata": {},
   "outputs": [
    {
     "data": {
      "text/plain": [
       "35"
      ]
     },
     "execution_count": 137,
     "metadata": {},
     "output_type": "execute_result"
    }
   ],
   "source": [
    "f.write('Average PSNR is: ' + str(np.array(psnr).mean()) + \"\\n\")\n",
    "f.write('Average SSIM is: ' + str(np.array(ssim).mean()) + \"\\n\")\n",
    "f.write('Average  MSE is: ' + str(np.array(mse).mean()) + \"\\n\")"
   ]
  },
  {
   "cell_type": "code",
   "execution_count": 138,
   "metadata": {},
   "outputs": [
    {
     "data": {
      "text/plain": [
       "31"
      ]
     },
     "execution_count": 138,
     "metadata": {},
     "output_type": "execute_result"
    }
   ],
   "source": [
    "from math import sqrt\n",
    "age_true = pandas_users['age_true'].to_numpy()\n",
    "age_generated = pandas_users['age_generated'].to_numpy()\n",
    "age_rmse = sqrt(((age_true - age_generated)**2).mean(axis = 0))\n",
    "f.write('rmse of age: ' + str(age_rmse) + \"\\n\")"
   ]
  },
  {
   "cell_type": "code",
   "execution_count": 139,
   "metadata": {},
   "outputs": [
    {
     "data": {
      "image/png": "[encoded data removed]",
      "text/plain": [
       "<Figure size 640x480 with 2 Axes>"
      ]
     },
     "metadata": {},
     "output_type": "display_data"
    }
   ],
   "source": [
    "from sklearn.metrics import confusion_matrix, ConfusionMatrixDisplay\n",
    "display_labels = pandas_users.gender_true.drop_duplicates(keep='first', inplace=False).to_numpy()\n",
    "cm = confusion_matrix(pandas_users.gender_true, pandas_users.gender_generated,labels=display_labels)\n",
    "disp = ConfusionMatrixDisplay(confusion_matrix=cm,\n",
    "                              display_labels=display_labels,)\n",
    "disp.plot(cmap=\"Blues\")\n",
    "disp.figure_.savefig(evaluation_results_folder + \"/gender_cm.png\",dpi=300)"
   ]
  },
  {
   "cell_type": "code",
   "execution_count": 140,
   "metadata": {},
   "outputs": [
    {
     "data": {
      "image/png": "[encoded data removed]",
      "text/plain": [
       "<Figure size 640x480 with 2 Axes>"
      ]
     },
     "metadata": {},
     "output_type": "display_data"
    }
   ],
   "source": [
    "display_labels = pandas_users.ethnicity_true.drop_duplicates(keep='first', inplace=False).to_numpy()\n",
    "cm = confusion_matrix(pandas_users.ethnicity_true, pandas_users.ethnicity_generated, labels=display_labels)\n",
    "disp = ConfusionMatrixDisplay(confusion_matrix=cm,\n",
    "                              display_labels=display_labels)\n",
    "disp.plot(cmap=\"Blues\")\n",
    "disp.figure_.savefig(evaluation_results_folder + \"/ethnicity_cm.png\",dpi=300)"
   ]
  },
  {
   "cell_type": "code",
   "execution_count": 141,
   "metadata": {},
   "outputs": [
    {
     "data": {
      "text/html": [
       "<div>\n",
       "<style scoped>\n",
       "    .dataframe tbody tr th:only-of-type {\n",
       "        vertical-align: middle;\n",
       "    }\n",
       "\n",
       "    .dataframe tbody tr th {\n",
       "        vertical-align: top;\n",
       "    }\n",
       "\n",
       "    .dataframe thead th {\n",
       "        text-align: right;\n",
       "    }\n",
       "</style>\n",
       "<table border=\"1\" class=\"dataframe\">\n",
       "  <thead>\n",
       "    <tr style=\"text-align: right;\">\n",
       "      <th></th>\n",
       "      <th>id_true</th>\n",
       "      <th>user</th>\n",
       "      <th>age_true</th>\n",
       "      <th>age_generated</th>\n",
       "      <th>gender_true</th>\n",
       "      <th>gender_generated</th>\n",
       "      <th>ethnicity_true</th>\n",
       "      <th>ethnicity_generated</th>\n",
       "    </tr>\n",
       "  </thead>\n",
       "  <tbody>\n",
       "    <tr>\n",
       "      <th>0</th>\n",
       "      <td>0</td>\n",
       "      <td>id00017</td>\n",
       "      <td>29.0</td>\n",
       "      <td>34.0</td>\n",
       "      <td>Man</td>\n",
       "      <td>Man</td>\n",
       "      <td>white</td>\n",
       "      <td>asian</td>\n",
       "    </tr>\n",
       "    <tr>\n",
       "      <th>1</th>\n",
       "      <td>183</td>\n",
       "      <td>id00061</td>\n",
       "      <td>32.0</td>\n",
       "      <td>35.0</td>\n",
       "      <td>Man</td>\n",
       "      <td>Man</td>\n",
       "      <td>middle eastern</td>\n",
       "      <td>asian</td>\n",
       "    </tr>\n",
       "    <tr>\n",
       "      <th>2</th>\n",
       "      <td>471</td>\n",
       "      <td>id00081</td>\n",
       "      <td>37.0</td>\n",
       "      <td>36.0</td>\n",
       "      <td>Man</td>\n",
       "      <td>Man</td>\n",
       "      <td>middle eastern</td>\n",
       "      <td>middle eastern</td>\n",
       "    </tr>\n",
       "    <tr>\n",
       "      <th>3</th>\n",
       "      <td>780</td>\n",
       "      <td>id00154</td>\n",
       "      <td>31.0</td>\n",
       "      <td>37.0</td>\n",
       "      <td>Man</td>\n",
       "      <td>Man</td>\n",
       "      <td>middle eastern</td>\n",
       "      <td>asian</td>\n",
       "    </tr>\n",
       "    <tr>\n",
       "      <th>4</th>\n",
       "      <td>968</td>\n",
       "      <td>id00419</td>\n",
       "      <td>38.0</td>\n",
       "      <td>36.0</td>\n",
       "      <td>Woman</td>\n",
       "      <td>Man</td>\n",
       "      <td>white</td>\n",
       "      <td>asian</td>\n",
       "    </tr>\n",
       "    <tr>\n",
       "      <th>5</th>\n",
       "      <td>1468</td>\n",
       "      <td>id00812</td>\n",
       "      <td>32.0</td>\n",
       "      <td>36.0</td>\n",
       "      <td>Woman</td>\n",
       "      <td>Man</td>\n",
       "      <td>white</td>\n",
       "      <td>asian</td>\n",
       "    </tr>\n",
       "    <tr>\n",
       "      <th>6</th>\n",
       "      <td>1875</td>\n",
       "      <td>id00817</td>\n",
       "      <td>31.0</td>\n",
       "      <td>36.0</td>\n",
       "      <td>Man</td>\n",
       "      <td>Man</td>\n",
       "      <td>white</td>\n",
       "      <td>asian</td>\n",
       "    </tr>\n",
       "    <tr>\n",
       "      <th>7</th>\n",
       "      <td>2328</td>\n",
       "      <td>id00866</td>\n",
       "      <td>26.0</td>\n",
       "      <td>34.0</td>\n",
       "      <td>Man</td>\n",
       "      <td>Man</td>\n",
       "      <td>white</td>\n",
       "      <td>asian</td>\n",
       "    </tr>\n",
       "    <tr>\n",
       "      <th>8</th>\n",
       "      <td>2600</td>\n",
       "      <td>id00926</td>\n",
       "      <td>42.0</td>\n",
       "      <td>33.0</td>\n",
       "      <td>Man</td>\n",
       "      <td>Man</td>\n",
       "      <td>white</td>\n",
       "      <td>asian</td>\n",
       "    </tr>\n",
       "    <tr>\n",
       "      <th>9</th>\n",
       "      <td>2763</td>\n",
       "      <td>id01000</td>\n",
       "      <td>30.0</td>\n",
       "      <td>31.0</td>\n",
       "      <td>Woman</td>\n",
       "      <td>Man</td>\n",
       "      <td>white</td>\n",
       "      <td>asian</td>\n",
       "    </tr>\n",
       "  </tbody>\n",
       "</table>\n",
       "</div>"
      ],
      "text/plain": [
       "   id_true     user  age_true  age_generated gender_true gender_generated  \\\n",
       "0        0  id00017      29.0           34.0         Man              Man   \n",
       "1      183  id00061      32.0           35.0         Man              Man   \n",
       "2      471  id00081      37.0           36.0         Man              Man   \n",
       "3      780  id00154      31.0           37.0         Man              Man   \n",
       "4      968  id00419      38.0           36.0       Woman              Man   \n",
       "5     1468  id00812      32.0           36.0       Woman              Man   \n",
       "6     1875  id00817      31.0           36.0         Man              Man   \n",
       "7     2328  id00866      26.0           34.0         Man              Man   \n",
       "8     2600  id00926      42.0           33.0         Man              Man   \n",
       "9     2763  id01000      30.0           31.0       Woman              Man   \n",
       "\n",
       "   ethnicity_true ethnicity_generated  \n",
       "0           white               asian  \n",
       "1  middle eastern               asian  \n",
       "2  middle eastern      middle eastern  \n",
       "3  middle eastern               asian  \n",
       "4           white               asian  \n",
       "5           white               asian  \n",
       "6           white               asian  \n",
       "7           white               asian  \n",
       "8           white               asian  \n",
       "9           white               asian  "
      ]
     },
     "execution_count": 141,
     "metadata": {},
     "output_type": "execute_result"
    }
   ],
   "source": [
    "pandas_users"
   ]
  },
  {
   "cell_type": "code",
   "execution_count": 142,
   "metadata": {},
   "outputs": [],
   "source": [
    "f.close()"
   ]
  },
  {
   "cell_type": "code",
   "execution_count": 35,
   "metadata": {},
   "outputs": [],
   "source": [
    "#https://pypi.org/project/pytorch-fid-wrapper/\n",
    "#https://github.com/mseitzer/pytorch-fid\n",
    "\n",
    "import  pytorch_fid_wrapper as pfw\n",
    "import torchvision.datasets as datasets\n",
    "\n",
    "data = datasets.ImageFolder(datasetPathGeneratedFaces)\n",
    "\n",
    "\n",
    "\n"
   ]
  }
 ],
 "metadata": {
  "kernelspec": {
   "display_name": "ds2f_m_i",
   "language": "python",
   "name": "python3"
  },
  "language_info": {
   "codemirror_mode": {
    "name": "ipython",
    "version": 3
   },
   "file_extension": ".py",
   "mimetype": "text/x-python",
   "name": "python",
   "nbconvert_exporter": "python",
   "pygments_lexer": "ipython3",
   "version": "3.8.16"
  },
  "orig_nbformat": 4,
  "vscode": {
   "interpreter": {
    "hash": "78dccc615e96ab04385280185a87a524fe0822daf5dbad2f4bf2e7d7b28366a7"
   }
  }
 },
 "nbformat": 4,
 "nbformat_minor": 2
}

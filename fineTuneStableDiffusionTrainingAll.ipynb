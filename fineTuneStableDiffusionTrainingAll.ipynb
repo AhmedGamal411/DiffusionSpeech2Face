{
 "cells": [
  {
   "cell_type": "code",
   "execution_count": null,
   "metadata": {},
   "outputs": [],
   "source": [
    "import configparser\n",
    "\n",
    "import multiprocessing\n",
    "from multiprocessing import Process\n",
    "from fineTuneStableDiffusionTrainingBatch import trainBatch"
   ]
  },
  {
   "cell_type": "code",
   "execution_count": null,
   "metadata": {},
   "outputs": [],
   "source": [
    "\n",
    "\n",
    "configParser = configparser.RawConfigParser()   \n",
    "configFilePath = r'configuration.txt'\n",
    "configParser.read(configFilePath)\n",
    "datasetPathDatabase =  configParser.get('COMMON', 'datasetPathDatabase') + '/dataset.db'\n",
    "db_chunk = int(configParser.get('fineTuneStableDiffusionTraining', 'db_chunk'))\n",
    "dev_mode = int(configParser.get('fineTuneStableDiffusionTraining', 'dev_mode'))\n",
    "\n",
    "continue_from_epoch = int(configParser.get('fineTuneStableDiffusionTraining', 'continue_from_epoch'))\n",
    "continue_from_offset = int(configParser.get('fineTuneStableDiffusionTraining', 'continue_from_offset'))\n",
    "continue_from_epoch_and_offset = int(configParser.get('fineTuneStableDiffusionTraining', 'continue_from_epoch_and_offset'))\n",
    "\n",
    "unconditional_guidance_scale = int(configParser.get('fineTuneStableDiffusionTraining', 'unconditional_guidance_scale'))\n",
    "multiprocessing.set_start_method('spawn')\n"
   ]
  },
  {
   "cell_type": "code",
   "execution_count": 3,
   "metadata": {},
   "outputs": [
    {
     "name": "stdout",
     "output_type": "stream",
     "text": [
      "36871/50000 [=====================>........] - ETA: 2:24:54 - loss: 0.1186"
     ]
    }
   ],
   "source": [
    "\n",
    "epochs = 5\n",
    "\n",
    "\n",
    "range_of_epochs = range(1,epochs + 1)\n",
    "\n",
    "if(continue_from_epoch_and_offset != 0):\n",
    "    \n",
    "    range_of_epochs = range(continue_from_epoch, epochs + 1)\n",
    "\n",
    "offset_zero_flag = 0\n",
    "\n",
    "for epoch in range_of_epochs:\n",
    "\n",
    "    offset = 0\n",
    "\n",
    "    if(continue_from_epoch_and_offset != 0 and offset_zero_flag == 0):\n",
    "        offset = continue_from_offset\n",
    "        offset_zero_flag = 1\n",
    "\n",
    "    while(True):\n",
    "        return_var = 0\n",
    "        \n",
    "        proc = Process(target=trainBatch, args=(epoch,offset,return_var,))\n",
    "        proc.start()\n",
    "        proc.join()\n",
    "\n",
    "        #return_var = trainBatch(epoch,offset,return_var)\n",
    "        #if(return_var == 1):\n",
    "        #    break\n",
    "\n",
    "        offset = offset + db_chunk\n",
    "\n",
    "\n",
    "\n"
   ]
  }
 ],
 "metadata": {
  "kernelspec": {
   "display_name": "ds2f_m_i",
   "language": "python",
   "name": "python3"
  },
  "language_info": {
   "codemirror_mode": {
    "name": "ipython",
    "version": 3
   },
   "file_extension": ".py",
   "mimetype": "text/x-python",
   "name": "python",
   "nbconvert_exporter": "python",
   "pygments_lexer": "ipython3",
   "version": "3.8.16"
  },
  "orig_nbformat": 4
 },
 "nbformat": 4,
 "nbformat_minor": 2
}

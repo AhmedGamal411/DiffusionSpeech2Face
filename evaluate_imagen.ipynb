{
 "cells": [
  {
   "cell_type": "code",
   "execution_count": 1,
   "metadata": {},
   "outputs": [],
   "source": [
    "import os\n",
    "import configparser\n",
    "\n",
    "# Loading configurations\n",
    "configParser = configparser.RawConfigParser()   \n",
    "configFilePath = r'configuration.txt'\n",
    "configParser.read(configFilePath)\n",
    "\n",
    "insert_amd_env_vars =  int(configParser.get('COMMON', 'insert_amd_env_vars'))\n",
    "HSA_OVERRIDE_GFX_VERSION =  configParser.get('COMMON', 'HSA_OVERRIDE_GFX_VERSION')\n",
    "ROCM_PATH =  configParser.get('COMMON', 'ROCM_PATH')\n",
    "\n",
    "if(insert_amd_env_vars != 0):\n",
    "    os.environ[\"HSA_OVERRIDE_GFX_VERSION\"] = HSA_OVERRIDE_GFX_VERSION\n",
    "    os.environ[\"ROCM_PATH\"] = ROCM_PATH\n",
    "    \n",
    "#import os\n",
    "#os.environ[\"TF_CPP_MIN_LOG_LEVEL\"] = \"2\"\n",
    "#os.environ[\"AUTOGRAPH_VERBOSITY\"] = \"0\""
   ]
  },
  {
   "cell_type": "code",
   "execution_count": 2,
   "metadata": {},
   "outputs": [],
   "source": [
    "\n",
    "import configparser\n",
    "\n",
    "# Loading configurations\n",
    "configParser = configparser.RawConfigParser()   \n",
    "configFilePath = r'configuration.txt'\n",
    "configParser.read(configFilePath)\n",
    "\n",
    "\n",
    "datasetPathVideo =  configParser.get('COMMON', 'test_datasetPathVideo')\n",
    "datasetPathFaces =  configParser.get('evaluate_imagen', 'test_datasetPathFaces')\n",
    "\n",
    "datasetPathDatabase =  configParser.get('COMMON', 'test_datasetPathDatabase') + '/dataset.db'\n",
    "\n",
    "ttwbdf =  int(configParser.get('evaluate_imagen', 'time_to_wait_before_deleting_files'))\n",
    "\n",
    "\n",
    "cuda =  int(configParser.get('COMMON', 'cuda'))\n",
    "cpus =  int(configParser.get('COMMON', 'cpus'))\n",
    "\n",
    "\n"
   ]
  },
  {
   "cell_type": "code",
   "execution_count": 3,
   "metadata": {},
   "outputs": [],
   "source": [
    "#TODO document jupyter\n",
    "import pickle\n",
    "import sqlite3 as sl\n",
    "import pandas as pd\n",
    "import numpy as np\n",
    "from PIL import Image\n",
    "\n",
    "from textwrap import wrap\n",
    "import os\n",
    "\n",
    "\n",
    "import matplotlib.pyplot as plt\n",
    "import numpy as np\n",
    "import pandas as pd\n",
    "\n"
   ]
  },
  {
   "cell_type": "code",
   "execution_count": 4,
   "metadata": {},
   "outputs": [],
   "source": [
    "pd.set_option('display.max_columns', None)\n",
    "pd.options.mode.chained_assignment = None\n"
   ]
  },
  {
   "cell_type": "code",
   "execution_count": 5,
   "metadata": {},
   "outputs": [],
   "source": [
    "audio_folder = output_folder = r'imagen_testing_folder' \n",
    "if not os.path.exists(audio_folder):\n",
    "    os.makedirs(audio_folder)"
   ]
  },
  {
   "cell_type": "code",
   "execution_count": 6,
   "metadata": {},
   "outputs": [],
   "source": [
    "image_size =  int(configParser.get('COMMON', 'resizeImageTo'))\n",
    "audio_length_used =  configParser.get('evaluate_imagen', 'audio_length_used') \n",
    "model_filename =  configParser.get('evaluate_imagen', 'model_filename') + '_'  + audio_length_used +  's.pt'\n",
    "openl3_mode =  configParser.get('evaluate_imagen', 'openl3_mode')\n",
    "folder =  configParser.get('evaluate_imagen', 'folder')\n",
    "number_of_images =  configParser.get('evaluate_imagen', 'number_of_images')"
   ]
  },
  {
   "cell_type": "code",
   "execution_count": 7,
   "metadata": {},
   "outputs": [],
   "source": [
    "\n",
    "boxBlurMin =  int(configParser.get('evaluate_imagen', 'boxBlurMin'))\n",
    "boxBlurMax =  int(configParser.get('evaluate_imagen', 'boxBlurMax'))\n",
    "\n",
    "gaussianBlurMin =  int(configParser.get('evaluate_imagen', 'gaussianBlurMin'))\n",
    "gaussianBlurMax =  int(configParser.get('evaluate_imagen', 'gaussianBlurMax'))\n",
    "\n",
    "pix_to_min =  int(configParser.get('evaluate_imagen', 'pix_to_min'))\n",
    "pix_to_max =  int(configParser.get('evaluate_imagen', 'pix_to_max'))\n",
    "\n",
    "fddfb =  int(configParser.get('evaluate_imagen', 'faceDetectionDeepFaceBackend'))\n",
    "efvr =  float(configParser.get('evaluate_imagen', 'expandFaceVerticalRatio'))\n",
    "efhr =  float(configParser.get('evaluate_imagen', 'expandFaceHorizontalRatio'))\n"
   ]
  },
  {
   "cell_type": "code",
   "execution_count": 8,
   "metadata": {},
   "outputs": [],
   "source": [
    "import lancedb\n",
    "uri = datasetPathDatabase\n",
    "db = lancedb.connect(uri)\n",
    "\n",
    "table = db.open_table(\"video\")"
   ]
  },
  {
   "cell_type": "code",
   "execution_count": 9,
   "metadata": {},
   "outputs": [],
   "source": [
    "import multiprocessing\n",
    "multiprocessing.set_start_method('spawn')"
   ]
  },
  {
   "cell_type": "code",
   "execution_count": 10,
   "metadata": {},
   "outputs": [
    {
     "name": "stderr",
     "output_type": "stream",
     "text": [
      "2023-09-22 23:18:36.409813: I tensorflow/core/platform/cpu_feature_guard.cc:193] This TensorFlow binary is optimized with oneAPI Deep Neural Network Library (oneDNN) to use the following CPU instructions in performance-critical operations:  SSE4.1 SSE4.2 AVX AVX2 FMA\n",
      "To enable them in other operations, rebuild TensorFlow with the appropriate compiler flags.\n",
      "[NeMo W 2023-09-22 23:18:39 optimizers:54] Apex was not found. Using the lamb or fused_adam optimizer will error out.\n",
      "[NeMo W 2023-09-22 23:18:39 experimental:27] Module <class 'nemo.collections.asr.modules.audio_modules.SpectrogramToMultichannelFeatures'> is experimental, not ready for production and is not fully supported. Use at your own risk.\n"
     ]
    }
   ],
   "source": [
    "from testing_imagen_speechbrain import extract_speechbrain_embeddings\n",
    "from testing_imagen_pyannote_titanet import extract_pyannote_titanet_embeddings\n",
    "from testing_imagen_audio_features import extract_audio_features\n",
    "from testing_imagen_vision_transformer import extract_vision_transformer\n",
    "from testing_imagen_face import extract_face\n",
    "import pathlib\n",
    "import shutil\n"
   ]
  },
  {
   "cell_type": "code",
   "execution_count": 11,
   "metadata": {},
   "outputs": [
    {
     "name": "stderr",
     "output_type": "stream",
     "text": [
      "Action: race: 100%|██████████| 3/3 [00:01<00:00,  2.37it/s]  \n"
     ]
    },
    {
     "name": "stdout",
     "output_type": "stream",
     "text": [
      "age :--------------36\n",
      "gender :--------------Man\n",
      "ethnicity :--------------white\n"
     ]
    },
    {
     "name": "stderr",
     "output_type": "stream",
     "text": [
      "/home/gamal/anaconda3/envs/ds2f_pre/lib/python3.8/site-packages/torch/functional.py:641: UserWarning: stft with return_complex=False is deprecated. In a future pytorch release, stft will return complex tensors for all inputs, and return_complex=False will raise an error.\n",
      "Note: you can still call torch.view_as_real on the complex output to recover the old return format. (Triggered internally at ../aten/src/ATen/native/SpectralOps.cpp:862.)\n",
      "  return _VF.stft(input, n_fft, hop_length, win_length, window,  # type: ignore[attr-defined]\n"
     ]
    },
    {
     "name": "stdout",
     "output_type": "stream",
     "text": [
      "0    English\n",
      "Name: caption_l, dtype: object\n"
     ]
    },
    {
     "name": "stderr",
     "output_type": "stream",
     "text": [
      "[NeMo W 2023-09-22 23:19:05 optimizers:54] Apex was not found. Using the lamb or fused_adam optimizer will error out.\n",
      "[NeMo W 2023-09-22 23:19:05 experimental:27] Module <class 'nemo.collections.asr.modules.audio_modules.SpectrogramToMultichannelFeatures'> is experimental, not ready for production and is not fully supported. Use at your own risk.\n",
      "Lightning automatically upgraded your loaded checkpoint from v1.2.7 to v1.9.4. To apply the upgrade to your files permanently, run `python -m pytorch_lightning.utilities.upgrade_checkpoint --file ../../.cache/torch/pyannote/models--pyannote--embedding/snapshots/ef54f1b59c9fbef89ea2bab0e27b4a5dd9cfce36/pytorch_model.bin`\n",
      "Lightning automatically upgraded your loaded checkpoint from v1.2.7 to v1.9.4. To apply the upgrade to your files permanently, run `python -m pytorch_lightning.utilities.upgrade_checkpoint --file ../../.cache/torch/pyannote/models--pyannote--embedding/snapshots/ef54f1b59c9fbef89ea2bab0e27b4a5dd9cfce36/pytorch_model.bin`\n"
     ]
    },
    {
     "name": "stdout",
     "output_type": "stream",
     "text": [
      "Model was trained with pyannote.audio 0.0.1, yours is 2.1.1. Bad things might happen unless you revert pyannote.audio to 0.x.\n",
      "Model was trained with torch 1.8.1+cu102, yours is 2.0.1+rocm5. Bad things might happen unless you revert torch to 1.x.\n",
      "Model was trained with pyannote.audio 0.0.1, yours is 2.1.1. Bad things might happen unless you revert pyannote.audio to 0.x.\n",
      "Model was trained with torch 1.8.1+cu102, yours is 2.0.1+rocm5. Bad things might happen unless you revert torch to 1.x.\n"
     ]
    },
    {
     "name": "stderr",
     "output_type": "stream",
     "text": [
      "[NeMo W 2023-09-22 23:19:06 modelPT:161] If you intend to do training or fine-tuning, please call the ModelPT.setup_training_data() method and provide a valid configuration file to setup the train data loader.\n",
      "    Train config : \n",
      "    manifest_filepath: /manifests/combined_fisher_swbd_voxceleb12_librispeech/train.json\n",
      "    sample_rate: 16000\n",
      "    labels: null\n",
      "    batch_size: 64\n",
      "    shuffle: true\n",
      "    is_tarred: false\n",
      "    tarred_audio_filepaths: null\n",
      "    tarred_shard_strategy: scatter\n",
      "    augmentor:\n",
      "      noise:\n",
      "        manifest_path: /manifests/noise/rir_noise_manifest.json\n",
      "        prob: 0.5\n",
      "        min_snr_db: 0\n",
      "        max_snr_db: 15\n",
      "      speed:\n",
      "        prob: 0.5\n",
      "        sr: 16000\n",
      "        resample_type: kaiser_fast\n",
      "        min_speed_rate: 0.95\n",
      "        max_speed_rate: 1.05\n",
      "    num_workers: 15\n",
      "    pin_memory: true\n",
      "    \n",
      "[NeMo W 2023-09-22 23:19:06 modelPT:168] If you intend to do validation, please call the ModelPT.setup_validation_data() or ModelPT.setup_multiple_validation_data() method and provide a valid configuration file to setup the validation data loader(s). \n",
      "    Validation config : \n",
      "    manifest_filepath: /manifests/combined_fisher_swbd_voxceleb12_librispeech/dev.json\n",
      "    sample_rate: 16000\n",
      "    labels: null\n",
      "    batch_size: 128\n",
      "    shuffle: false\n",
      "    num_workers: 15\n",
      "    pin_memory: true\n",
      "    \n"
     ]
    },
    {
     "name": "stdout",
     "output_type": "stream",
     "text": [
      "[NeMo I 2023-09-22 23:19:06 features:287] PADDING: 16\n",
      "[NeMo I 2023-09-22 23:19:07 save_restore_connector:249] Model EncDecSpeakerLabelModel was successfully restored from /home/gamal/.cache/huggingface/hub/models--nvidia--speakerverification_en_titanet_large/snapshots/4e0b2d387a805da7c208b13d5898ee09de8ec1e9/speakerverification_en_titanet_large.nemo.\n",
      "[NeMo I 2023-09-22 23:19:07 cloud:58] Found existing object /home/gamal/.cache/torch/NeMo/NeMo_1.18.1/speakerverification_speakernet/a8330fa516557b963a89ccbf0fcbe2f2/speakerverification_speakernet.nemo.\n",
      "[NeMo I 2023-09-22 23:19:07 cloud:64] Re-using file from: /home/gamal/.cache/torch/NeMo/NeMo_1.18.1/speakerverification_speakernet/a8330fa516557b963a89ccbf0fcbe2f2/speakerverification_speakernet.nemo\n",
      "[NeMo I 2023-09-22 23:19:07 common:913] Instantiating model from pre-trained checkpoint\n",
      "[NeMo I 2023-09-22 23:19:07 features:287] PADDING: 16\n"
     ]
    },
    {
     "name": "stderr",
     "output_type": "stream",
     "text": [
      "[NeMo W 2023-09-22 23:19:07 modelPT:161] If you intend to do training or fine-tuning, please call the ModelPT.setup_training_data() method and provide a valid configuration file to setup the train data loader.\n",
      "    Train config : \n",
      "    manifest_filepath: /ws/manifests/raid/combined/train_manifest.json\n",
      "    sample_rate: 16000\n",
      "    labels: null\n",
      "    batch_size: 64\n",
      "    shuffle: true\n",
      "    time_length: 8\n",
      "    augmentor:\n",
      "      noise:\n",
      "        manifest_path: /ws/manifests/raid/musan/musan_music_noise_manifest_dur8.json\n",
      "        prob: 0.2\n",
      "        min_snr_db: 5\n",
      "        max_snr_db: 15\n",
      "    num_workers: 4\n",
      "    \n",
      "[NeMo W 2023-09-22 23:19:07 modelPT:168] If you intend to do validation, please call the ModelPT.setup_validation_data() or ModelPT.setup_multiple_validation_data() method and provide a valid configuration file to setup the validation data loader(s). \n",
      "    Validation config : \n",
      "    manifest_filepath: /ws/manifests/raid/voxceleb/small_manifest.json\n",
      "    sample_rate: 16000\n",
      "    labels: null\n",
      "    batch_size: 64\n",
      "    shuffle: false\n",
      "    time_length: 8\n",
      "    num_workers: 1\n",
      "    \n"
     ]
    },
    {
     "name": "stdout",
     "output_type": "stream",
     "text": [
      "[NeMo I 2023-09-22 23:19:07 save_restore_connector:249] Model EncDecSpeakerLabelModel was successfully restored from /home/gamal/.cache/torch/NeMo/NeMo_1.18.1/speakerverification_speakernet/a8330fa516557b963a89ccbf0fcbe2f2/speakerverification_speakernet.nemo.\n"
     ]
    },
    {
     "name": "stderr",
     "output_type": "stream",
     "text": [
      "Process Process-5:\n",
      "Traceback (most recent call last):\n",
      "  File \"/home/gamal/anaconda3/envs/ds2f_pre/lib/python3.8/multiprocessing/process.py\", line 315, in _bootstrap\n",
      "    self.run()\n",
      "  File \"/home/gamal/anaconda3/envs/ds2f_pre/lib/python3.8/multiprocessing/process.py\", line 108, in run\n",
      "    self._target(*self._args, **self._kwargs)\n",
      "TypeError: extract_vision_transformer() takes 11 positional arguments but 12 were given\n",
      "Action: race: 100%|██████████| 3/3 [00:01<00:00,  2.38it/s]  \n"
     ]
    },
    {
     "name": "stdout",
     "output_type": "stream",
     "text": [
      "age :--------------32\n",
      "gender :--------------Man\n",
      "ethnicity :--------------white\n"
     ]
    },
    {
     "ename": "KeyboardInterrupt",
     "evalue": "",
     "output_type": "error",
     "traceback": [
      "\u001b[0;31m---------------------------------------------------------------------------\u001b[0m",
      "\u001b[0;31mKeyboardInterrupt\u001b[0m                         Traceback (most recent call last)",
      "Cell \u001b[0;32mIn[11], line 124\u001b[0m\n\u001b[1;32m    122\u001b[0m proc \u001b[39m=\u001b[39m multiprocessing\u001b[39m.\u001b[39mProcess(target\u001b[39m=\u001b[39mextract_speechbrain_embeddings, args\u001b[39m=\u001b[39m(q,path_var_len_audio,))\n\u001b[1;32m    123\u001b[0m proc\u001b[39m.\u001b[39mstart()\n\u001b[0;32m--> 124\u001b[0m proc\u001b[39m.\u001b[39;49mjoin()\n\u001b[1;32m    129\u001b[0m df[\u001b[39m'\u001b[39m\u001b[39mSPEAKER_EMB\u001b[39m\u001b[39m'\u001b[39m] \u001b[39m=\u001b[39m q\u001b[39m.\u001b[39mget()\n\u001b[1;32m    130\u001b[0m df[\u001b[39m'\u001b[39m\u001b[39mcaption_l\u001b[39m\u001b[39m'\u001b[39m] \u001b[39m=\u001b[39m q\u001b[39m.\u001b[39mget()\n",
      "File \u001b[0;32m~/anaconda3/envs/ds2f_pre/lib/python3.8/multiprocessing/process.py:149\u001b[0m, in \u001b[0;36mBaseProcess.join\u001b[0;34m(self, timeout)\u001b[0m\n\u001b[1;32m    147\u001b[0m \u001b[39massert\u001b[39;00m \u001b[39mself\u001b[39m\u001b[39m.\u001b[39m_parent_pid \u001b[39m==\u001b[39m os\u001b[39m.\u001b[39mgetpid(), \u001b[39m'\u001b[39m\u001b[39mcan only join a child process\u001b[39m\u001b[39m'\u001b[39m\n\u001b[1;32m    148\u001b[0m \u001b[39massert\u001b[39;00m \u001b[39mself\u001b[39m\u001b[39m.\u001b[39m_popen \u001b[39mis\u001b[39;00m \u001b[39mnot\u001b[39;00m \u001b[39mNone\u001b[39;00m, \u001b[39m'\u001b[39m\u001b[39mcan only join a started process\u001b[39m\u001b[39m'\u001b[39m\n\u001b[0;32m--> 149\u001b[0m res \u001b[39m=\u001b[39m \u001b[39mself\u001b[39;49m\u001b[39m.\u001b[39;49m_popen\u001b[39m.\u001b[39;49mwait(timeout)\n\u001b[1;32m    150\u001b[0m \u001b[39mif\u001b[39;00m res \u001b[39mis\u001b[39;00m \u001b[39mnot\u001b[39;00m \u001b[39mNone\u001b[39;00m:\n\u001b[1;32m    151\u001b[0m     _children\u001b[39m.\u001b[39mdiscard(\u001b[39mself\u001b[39m)\n",
      "File \u001b[0;32m~/anaconda3/envs/ds2f_pre/lib/python3.8/multiprocessing/popen_fork.py:47\u001b[0m, in \u001b[0;36mPopen.wait\u001b[0;34m(self, timeout)\u001b[0m\n\u001b[1;32m     45\u001b[0m             \u001b[39mreturn\u001b[39;00m \u001b[39mNone\u001b[39;00m\n\u001b[1;32m     46\u001b[0m     \u001b[39m# This shouldn't block if wait() returned successfully.\u001b[39;00m\n\u001b[0;32m---> 47\u001b[0m     \u001b[39mreturn\u001b[39;00m \u001b[39mself\u001b[39;49m\u001b[39m.\u001b[39;49mpoll(os\u001b[39m.\u001b[39;49mWNOHANG \u001b[39mif\u001b[39;49;00m timeout \u001b[39m==\u001b[39;49m \u001b[39m0.0\u001b[39;49m \u001b[39melse\u001b[39;49;00m \u001b[39m0\u001b[39;49m)\n\u001b[1;32m     48\u001b[0m \u001b[39mreturn\u001b[39;00m \u001b[39mself\u001b[39m\u001b[39m.\u001b[39mreturncode\n",
      "File \u001b[0;32m~/anaconda3/envs/ds2f_pre/lib/python3.8/multiprocessing/popen_fork.py:27\u001b[0m, in \u001b[0;36mPopen.poll\u001b[0;34m(self, flag)\u001b[0m\n\u001b[1;32m     25\u001b[0m \u001b[39mif\u001b[39;00m \u001b[39mself\u001b[39m\u001b[39m.\u001b[39mreturncode \u001b[39mis\u001b[39;00m \u001b[39mNone\u001b[39;00m:\n\u001b[1;32m     26\u001b[0m     \u001b[39mtry\u001b[39;00m:\n\u001b[0;32m---> 27\u001b[0m         pid, sts \u001b[39m=\u001b[39m os\u001b[39m.\u001b[39;49mwaitpid(\u001b[39mself\u001b[39;49m\u001b[39m.\u001b[39;49mpid, flag)\n\u001b[1;32m     28\u001b[0m     \u001b[39mexcept\u001b[39;00m \u001b[39mOSError\u001b[39;00m \u001b[39mas\u001b[39;00m e:\n\u001b[1;32m     29\u001b[0m         \u001b[39m# Child process not yet created. See #1731717\u001b[39;00m\n\u001b[1;32m     30\u001b[0m         \u001b[39m# e.errno == errno.ECHILD == 10\u001b[39;00m\n\u001b[1;32m     31\u001b[0m         \u001b[39mreturn\u001b[39;00m \u001b[39mNone\u001b[39;00m\n",
      "\u001b[0;31mKeyboardInterrupt\u001b[0m: "
     ]
    },
    {
     "name": "stderr",
     "output_type": "stream",
     "text": [
      "/home/gamal/anaconda3/envs/ds2f_pre/lib/python3.8/site-packages/torch/functional.py:641: UserWarning: stft with return_complex=False is deprecated. In a future pytorch release, stft will return complex tensors for all inputs, and return_complex=False will raise an error.\n",
      "Note: you can still call torch.view_as_real on the complex output to recover the old return format. (Triggered internally at ../aten/src/ATen/native/SpectralOps.cpp:862.)\n",
      "  return _VF.stft(input, n_fft, hop_length, win_length, window,  # type: ignore[attr-defined]\n"
     ]
    }
   ],
   "source": [
    "df_to_be_saved = pd.DataFrame()\n",
    "for index, row in table.to_pandas().iterrows():\n",
    "    video_path = absPathVideo = row['video_path']\n",
    "\n",
    "    absPathFace = absPathVideo.replace(datasetPathVideo,datasetPathFaces)\n",
    "    absPathFace = os.path.splitext(absPathFace)[0]\n",
    "    absPathFace = absPathFace + \"_face_\" + str(1) + \".png\"\n",
    "    #print(absPathFace)\n",
    "    #Create Directory\n",
    "    pathlib.Path(os.path.dirname(absPathFace)).mkdir(parents=True, exist_ok=True) \n",
    "\n",
    "    \n",
    "    q = multiprocessing.Queue()\n",
    "\n",
    "    proc = multiprocessing.Process(target=extract_face, args=(q,absPathVideo,\n",
    "                                                             image_size,\n",
    "                                                             fddfb,\n",
    "                                                             output_folder,\n",
    "                                                             efvr,efhr,))\n",
    "    proc.start()\n",
    "    proc.join()\n",
    "\n",
    "    shutil.copy2(output_folder + \"/\" + \"face.png\", \n",
    "                 absPathFace) # complete target filename given\n",
    "    \n",
    "    image_guide_path = output_folder + \"/\" + \"face.png\"\n",
    "\n",
    "    gender = q.get()\n",
    "    if(gender == 'Error'):\n",
    "        continue\n",
    "    ethnicity = q.get()\n",
    "    if(ethnicity == 'Error'):\n",
    "        continue\n",
    "    age = q.get()\n",
    "    if(age == 'Error'):\n",
    "        continue\n",
    "\n",
    "\n",
    "\n",
    "    dataGotten = [['1','1',video_path,'age','ethnicity','gender',[],[],[],'language',[]]]\n",
    "    df = pd.DataFrame(dataGotten,columns = ['ID','FACE_ID','VIDEO_PATH','caption_a','caption_e','caption_g','SPEAKER_EMB','AUDIO_EMB','AUDIO_FEATURES','caption_l','image_path'])\n",
    "    df[\"image_guide\"] = np.nan\n",
    "\n",
    "    df[\"caption_e\"] = ethnicity\n",
    "    df[\"caption_g\"] = gender\n",
    "    df[\"caption_a\"] = age\n",
    "\n",
    "    print(\"age :--------------\"  + str(age))\n",
    "    print(\"gender :--------------\"  + str(gender))\n",
    "    print(\"ethnicity :--------------\"  + str(ethnicity))\n",
    "\n",
    "    q.empty()\n",
    "\n",
    "    #gpus\n",
    "    import pickle\n",
    "\n",
    "\n",
    "\n",
    "\n",
    "\n",
    "    audio_embs =  configParser.get('COMMON', 'audio_embs') \n",
    "    from pydub import AudioSegment\n",
    "    import math\n",
    "    # Get original duration of video\n",
    "    audio = AudioSegment.from_file(video_path)\n",
    "    audio_length_og = math.floor(audio.duration_seconds)\n",
    "\n",
    "\n",
    "    video_filename = os.path.basename(video_path)\n",
    "\n",
    "    absPathAudio_w = os.path.abspath(audio_folder) + \"/\" + video_filename\n",
    "    absPathAudio = os.path.splitext(absPathAudio_w)[0]+'_audio.wav'\n",
    "    absPathAudio_w = os.path.splitext(absPathAudio_w)[0]\n",
    "\n",
    "\n",
    "    import subprocess\n",
    "    # Extract audio monochannel and with 16khz and put it in absPathAudio\n",
    "\n",
    "    command = \"ffmpeg -nostats -loglevel 0 -y -i '\" + video_path + \"' -acodec pcm_s16le -ab 160k -ac 1 -ar 16000 -vn '\" + absPathAudio  + \"'\"\n",
    "    subprocess.call(command, shell=True)\n",
    "\n",
    "    from threading import Thread\n",
    "    import time\n",
    "\n",
    "    # Function to delete audio temp files\n",
    "    def delFiles(filesToDelete):\n",
    "        time.sleep(ttwbdf)  # wait a bit\n",
    "        for file in filesToDelete:  \n",
    "            try:\n",
    "                os.remove(file)\n",
    "            except OSError:\n",
    "                pass\n",
    "\n",
    "\n",
    "    # Will either truncate or loop the original video to reach audio_length (6,12 or 24)\n",
    "    audio_length_list = [24]\n",
    "    for audio_length in audio_length_list:\n",
    "        path_var_len_audio =  absPathAudio_w + \"audio\" + str(audio_length) + \"s.wav\"    # path to the variable length audio\n",
    "        path_var_len_audio_temp =  absPathAudio_w + \"audio_temp\" + str(audio_length) + \"s.wav\"  # path to a temp version of the variable length audio\n",
    "\n",
    "        if(audio_length_og > audio_length):\n",
    "            # Truncate    \n",
    "\n",
    "            command = \"ffmpeg -nostats -loglevel 0 -y -ss 0 -t \"+str(audio_length)+\" -i \\\"\" + absPathAudio + \"\\\" \\\"\" + path_var_len_audio + \"\\\"\"\n",
    "            subprocess.call(command, shell=True)\n",
    "\n",
    "\n",
    "        else:\n",
    "            # Loop then truncaate\n",
    "            #print(\"lesa\")\n",
    "            twoDigitLenStr = f\"{audio_length:02}\"\n",
    "            #print(twoDigitLenStr)\n",
    "            command = \"ffmpeg -nostats -loglevel 0 -y -stream_loop -1 -i '\" + absPathAudio + \"' -t \\\"00:00:\"+twoDigitLenStr+\".000\\\" -codec:a \\\"aac\\\" -f \\\"wav\\\" -c copy '\"+ path_var_len_audio_temp + \"'\"\n",
    "            subprocess.call(command, shell=True)\n",
    "            command = \"ffmpeg -nostats -loglevel 0 -y -ss 0 -t \"+str(audio_length)+\" -i \\\"\" + path_var_len_audio_temp + \"\\\" \\\"\" + path_var_len_audio + \"\\\"\"\n",
    "            subprocess.call(command, shell=True)\n",
    "\n",
    "\n",
    "\n",
    "\n",
    "\n",
    "        proc = multiprocessing.Process(target=extract_speechbrain_embeddings, args=(q,path_var_len_audio,))\n",
    "        proc.start()\n",
    "        proc.join()\n",
    "\n",
    "\n",
    "        \n",
    "        \n",
    "        df['SPEAKER_EMB'] = q.get()\n",
    "        df['caption_l'] = q.get()\n",
    "        print(df['caption_l'])\n",
    "\n",
    "\n",
    "        proc = multiprocessing.Process(target=extract_pyannote_titanet_embeddings, args=(q,path_var_len_audio,audio_embs,audio_length,openl3_mode,))\n",
    "        proc.start()\n",
    "        proc.join()\n",
    "\n",
    "        df['AUDIO_EMB'] = q.get()\n",
    "\n",
    "        proc = multiprocessing.Process(target=extract_audio_features, args=(q,path_var_len_audio,output_folder,))\n",
    "        proc.start()\n",
    "        proc.join()\n",
    "\n",
    "\n",
    "\n",
    "        with open(output_folder + '/' + 'audio_features.pickle', 'rb') as handle:\n",
    "            df['AUDIO_FEATURES'] = pickle.load(handle)\n",
    "\n",
    "\n",
    "        proc = multiprocessing.Process(target=extract_vision_transformer, args=(q,output_folder,\n",
    "                                                                                image_guide_path,1,\n",
    "                                                                                image_size,\n",
    "            boxBlurMin,boxBlurMax,gaussianBlurMin,gaussianBlurMax,pix_to_min,pix_to_max,))\n",
    "        proc.start()\n",
    "        proc.join()\n",
    "\n",
    "\n",
    "\n",
    "        with open(output_folder + '/' + 'image_features.pickle', 'rb') as handle:\n",
    "            df[\"image_guide\"] = pickle.load(handle)\n",
    "\n",
    "\n",
    "        \n",
    "\n",
    "        ftd = [absPathAudio,path_var_len_audio,os.path.basename(path_var_len_audio),path_var_len_audio_temp]\n",
    "        tDelete = Thread(target=delFiles, args=(ftd,))   # spawn a process\n",
    "        tDelete.start()\n",
    "\n",
    "    df3 = df[[\"image_path\",\"caption_a\",\"caption_e\",\"caption_g\",\"caption_l\"]]\n",
    "    data_frame = df3\n",
    "    data_frame['SPEAKER_EMB'] = df['SPEAKER_EMB']\n",
    "    data_frame['AUDIO_EMB'] = df['AUDIO_EMB']\n",
    "    data_frame['AUDIO_FEATURES'] = df['AUDIO_FEATURES']\n",
    "    data_frame['image_guide'] = df['image_guide']\n",
    "\n",
    "    import pickle\n",
    "\n",
    "\n",
    "    with open(output_folder + '/' + 'filename.pickle', 'wb') as handle:\n",
    "        pickle.dump(data_frame, handle)\n",
    "\n",
    "    #data_frame.loc[index,\"features_path\"] = output_folder + '/' + 'filename.pickle'\n"
   ]
  }
 ],
 "metadata": {
  "kernelspec": {
   "display_name": "ds2f_m_i",
   "language": "python",
   "name": "python3"
  },
  "language_info": {
   "codemirror_mode": {
    "name": "ipython",
    "version": 3
   },
   "file_extension": ".py",
   "mimetype": "text/x-python",
   "name": "python",
   "nbconvert_exporter": "python",
   "pygments_lexer": "ipython3",
   "version": "3.8.16"
  },
  "orig_nbformat": 4,
  "vscode": {
   "interpreter": {
    "hash": "78dccc615e96ab04385280185a87a524fe0822daf5dbad2f4bf2e7d7b28366a7"
   }
  }
 },
 "nbformat": 4,
 "nbformat_minor": 2
}

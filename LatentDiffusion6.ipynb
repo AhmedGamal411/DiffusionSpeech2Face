{
 "cells": [
  {
   "cell_type": "code",
   "execution_count": 2,
   "metadata": {},
   "outputs": [
    {
     "name": "stdout",
     "output_type": "stream",
     "text": [
      "Got chunk of DATA from database. Training diffusion network\n"
     ]
    }
   ],
   "source": [
    "#TODO document jupyter\n",
    "import pickle\n",
    "import configparser\n",
    "import sqlite3 as sl\n",
    "import pandas as pd\n",
    "import numpy as np\n",
    "from PIL import Image\n",
    "\n",
    "configParser = configparser.RawConfigParser()   \n",
    "configFilePath = r'configuration.txt'\n",
    "configParser.read(configFilePath)\n",
    "datasetPathDatabase =  configParser.get('COMMON', 'datasetPathDatabase') + '/dataset.db'\n",
    "p =  configParser.get('extractFacesLatents', 'dbChunk')\n",
    "\n",
    "# TODO Better display of progress and handling of exceptions\n",
    "contLoop = True # Flag to continue to get chunks of videos from database\n",
    "con = sl.connect(datasetPathDatabase)\n",
    "offset = 0\n",
    "while(contLoop):\n",
    "    data = con.execute('''SELECT F.LATENT_REP,A.SPEAKER_EMB FROM VIDEO V \n",
    "                        INNER JOIN FACE F ON V.ID = F.VIDEO_ID \n",
    "                       INNER JOIN AUDIO A ON V.ID = A.VIDEO_ID \n",
    "                       WHERE F.LATENT_REP IS NOT NULL AND AUDIO_PRE = 1 AND FACES_PRE = 1\n",
    "                        ''')\n",
    "    contLoop = False\n",
    "    offset = offset + int(p)\n",
    "    print(\"Got chunk of DATA from database. Training diffusion network\")\n",
    "    dataGotten = data.fetchall()\n",
    "    for latent_rep_pickled, speaker_emb_pickled in dataGotten:\n",
    "        latent_rep_list.append(pickle.loads(latent_rep_pickled))\n",
    "        speaker_emb_list.append(pickle.loads(speaker_emb_pickled))\n",
    "\n",
    "\n",
    "con.close()\n",
    "        \n",
    "        \n",
    "\n",
    "\n",
    "\n"
   ]
  },
  {
   "cell_type": "code",
   "execution_count": null,
   "metadata": {},
   "outputs": [],
   "source": [
    "import torch\n",
    "from imagen_pytorch import Unet, Imagen\n",
    "\n",
    "# unet for imagen\n",
    "\n",
    "unet1 = Unet(\n",
    "    dim = 32,\n",
    "    cond_dim = 512,\n",
    "    dim_mults = (1, 2, 4, 8),\n",
    "    num_resnet_blocks = 3,\n",
    "    layer_attns = (False, True, True, True),\n",
    "    layer_cross_attns = (False, True, True, True)\n",
    ")\n",
    "\n",
    "\n",
    "# imagen, which contains the unets above (base unet and super resoluting ones)\n",
    "\n",
    "imagen = Imagen(\n",
    "    unets = (unet1),\n",
    "    image_sizes = (64, 64),\n",
    "    timesteps = 1000,\n",
    "    cond_drop_prob = 0.1\n",
    ").cuda()\n",
    "\n",
    "# mock images (get a lot of this) and text encodings from large T5\n",
    "\n",
    "text_embeds = torch.randn(4, 256, 768).cuda()\n",
    "images = torch.randn(4, 3, 256, 256).cuda()\n",
    "\n",
    "# feed images into imagen, training each unet in the cascade\n",
    "\n",
    "for i in (1):\n",
    "    loss = imagen(images, text_embeds = text_embeds, unet_number = i)\n",
    "    loss.backward()\n",
    "\n",
    "# do the above for many many many many steps\n",
    "# now you can sample an image based on the text embeddings from the cascading ddpm\n",
    "\n",
    "images = imagen.sample(texts = [\n",
    "    'a whale breaching from afar',\n",
    "    'young girl blowing out candles on her birthday cake',\n",
    "    'fireworks with blue and green sparkles'\n",
    "], cond_scale = 3.)"
   ]
  }
 ],
 "metadata": {
  "kernelspec": {
   "display_name": "ds2f_m_i",
   "language": "python",
   "name": "python3"
  },
  "language_info": {
   "codemirror_mode": {
    "name": "ipython",
    "version": 3
   },
   "file_extension": ".py",
   "mimetype": "text/x-python",
   "name": "python",
   "nbconvert_exporter": "python",
   "pygments_lexer": "ipython3",
   "version": "3.8.16"
  },
  "orig_nbformat": 4
 },
 "nbformat": 4,
 "nbformat_minor": 2
}

{
 "cells": [
  {
   "cell_type": "code",
   "execution_count": 1,
   "metadata": {},
   "outputs": [
    {
     "name": "stdout",
     "output_type": "stream",
     "text": [
      "Downloading http://fashion-mnist.s3-website.eu-central-1.amazonaws.com/train-images-idx3-ubyte.gz\n",
      "Downloading http://fashion-mnist.s3-website.eu-central-1.amazonaws.com/train-images-idx3-ubyte.gz to /home/gamal/data/fashion_mnist/FashionMNIST/raw/train-images-idx3-ubyte.gz\n"
     ]
    },
    {
     "name": "stderr",
     "output_type": "stream",
     "text": [
      "100%|██████████| 26421880/26421880 [00:02<00:00, 10678897.07it/s]\n"
     ]
    },
    {
     "name": "stdout",
     "output_type": "stream",
     "text": [
      "Extracting /home/gamal/data/fashion_mnist/FashionMNIST/raw/train-images-idx3-ubyte.gz to /home/gamal/data/fashion_mnist/FashionMNIST/raw\n",
      "\n",
      "Downloading http://fashion-mnist.s3-website.eu-central-1.amazonaws.com/train-labels-idx1-ubyte.gz\n",
      "Downloading http://fashion-mnist.s3-website.eu-central-1.amazonaws.com/train-labels-idx1-ubyte.gz to /home/gamal/data/fashion_mnist/FashionMNIST/raw/train-labels-idx1-ubyte.gz\n"
     ]
    },
    {
     "name": "stderr",
     "output_type": "stream",
     "text": [
      "100%|██████████| 29515/29515 [00:00<00:00, 30364209.61it/s]\n"
     ]
    },
    {
     "name": "stdout",
     "output_type": "stream",
     "text": [
      "Extracting /home/gamal/data/fashion_mnist/FashionMNIST/raw/train-labels-idx1-ubyte.gz to /home/gamal/data/fashion_mnist/FashionMNIST/raw\n",
      "\n",
      "Downloading http://fashion-mnist.s3-website.eu-central-1.amazonaws.com/t10k-images-idx3-ubyte.gz\n",
      "Downloading http://fashion-mnist.s3-website.eu-central-1.amazonaws.com/t10k-images-idx3-ubyte.gz to /home/gamal/data/fashion_mnist/FashionMNIST/raw/t10k-images-idx3-ubyte.gz\n"
     ]
    },
    {
     "name": "stderr",
     "output_type": "stream",
     "text": [
      "100%|██████████| 4422102/4422102 [00:00<00:00, 11813038.61it/s]\n"
     ]
    },
    {
     "name": "stdout",
     "output_type": "stream",
     "text": [
      "Extracting /home/gamal/data/fashion_mnist/FashionMNIST/raw/t10k-images-idx3-ubyte.gz to /home/gamal/data/fashion_mnist/FashionMNIST/raw\n",
      "\n",
      "Downloading http://fashion-mnist.s3-website.eu-central-1.amazonaws.com/t10k-labels-idx1-ubyte.gz\n",
      "Downloading http://fashion-mnist.s3-website.eu-central-1.amazonaws.com/t10k-labels-idx1-ubyte.gz to /home/gamal/data/fashion_mnist/FashionMNIST/raw/t10k-labels-idx1-ubyte.gz\n"
     ]
    },
    {
     "name": "stderr",
     "output_type": "stream",
     "text": [
      "100%|██████████| 5148/5148 [00:00<00:00, 39330194.89it/s]\n"
     ]
    },
    {
     "name": "stdout",
     "output_type": "stream",
     "text": [
      "Extracting /home/gamal/data/fashion_mnist/FashionMNIST/raw/t10k-labels-idx1-ubyte.gz to /home/gamal/data/fashion_mnist/FashionMNIST/raw\n",
      "\n",
      "baseline\n"
     ]
    },
    {
     "data": {
      "application/vnd.jupyter.widget-view+json": {
       "model_id": "0770571d35e54bb3a90ebc83aca23529",
       "version_major": 2,
       "version_minor": 0
      },
      "text/plain": [
       "  0%|          | 0/1000 [00:00<?, ?it/s]"
      ]
     },
     "metadata": {},
     "output_type": "display_data"
    }
   ],
   "source": [
    "# FashionMnist VQ experiment with various settings.\n",
    "# From https://github.com/minyoungg/vqtorch/blob/main/examples/autoencoder.py\n",
    "\n",
    "from tqdm.auto import trange\n",
    "\n",
    "import torch\n",
    "import torch.nn as nn\n",
    "from torchvision import datasets, transforms\n",
    "from torch.utils.data import DataLoader\n",
    "\n",
    "from vector_quantize_pytorch import VectorQuantize\n",
    "\n",
    "\n",
    "lr = 3e-4\n",
    "train_iter = 1000\n",
    "num_codes = 256\n",
    "seed = 1234\n",
    "device = \"cuda\" if torch.cuda.is_available() else \"cpu\"\n",
    "\n",
    "\n",
    "class SimpleVQAutoEncoder(nn.Module):\n",
    "    def __init__(self, **vq_kwargs):\n",
    "        super().__init__()\n",
    "        self.layers = nn.ModuleList(\n",
    "            [\n",
    "                nn.Conv2d(1, 16, kernel_size=3, stride=1, padding=1),\n",
    "                nn.MaxPool2d(kernel_size=2, stride=2),\n",
    "                nn.GELU(),\n",
    "                nn.Conv2d(16, 32, kernel_size=3, stride=1, padding=1),\n",
    "                nn.MaxPool2d(kernel_size=2, stride=2),\n",
    "                VectorQuantize(dim=32, accept_image_fmap = True, **vq_kwargs),\n",
    "                nn.Upsample(scale_factor=2, mode=\"nearest\"),\n",
    "                nn.Conv2d(32, 16, kernel_size=3, stride=1, padding=1),\n",
    "                nn.GELU(),\n",
    "                nn.Upsample(scale_factor=2, mode=\"nearest\"),\n",
    "                nn.Conv2d(16, 1, kernel_size=3, stride=1, padding=1),\n",
    "            ]\n",
    "        )\n",
    "        return\n",
    "\n",
    "    def forward(self, x):\n",
    "        for layer in self.layers:\n",
    "            if isinstance(layer, VectorQuantize):\n",
    "                x_flat, indices, commit_loss = layer(x)\n",
    "            else:\n",
    "                x = layer(x)\n",
    "\n",
    "        return x.clamp(-1, 1), indices, commit_loss\n",
    "\n",
    "\n",
    "def train(model, train_loader, train_iterations=1000, alpha=10):\n",
    "    def iterate_dataset(data_loader):\n",
    "        data_iter = iter(data_loader)\n",
    "        while True:\n",
    "            try:\n",
    "                x, y = next(data_iter)\n",
    "            except StopIteration:\n",
    "                data_iter = iter(data_loader)\n",
    "                x, y = next(data_iter)\n",
    "            yield x.to(device), y.to(device)\n",
    "\n",
    "    for _ in (pbar := trange(train_iterations)):\n",
    "        opt.zero_grad()\n",
    "        x, _ = next(iterate_dataset(train_loader))\n",
    "        out, indices, cmt_loss = model(x)\n",
    "        rec_loss = (out - x).abs().mean()\n",
    "        (rec_loss + alpha * cmt_loss).backward()\n",
    "\n",
    "        opt.step()\n",
    "        pbar.set_description(\n",
    "            f\"rec loss: {rec_loss.item():.3f} | \"\n",
    "            + f\"cmt loss: {cmt_loss.item():.3f} | \"\n",
    "            + f\"active %: {indices.unique().numel() / num_codes * 100:.3f}\"\n",
    "        )\n",
    "    return\n",
    "\n",
    "\n",
    "transform = transforms.Compose(\n",
    "    [transforms.ToTensor(), transforms.Normalize((0.5,), (0.5,))]\n",
    ")\n",
    "train_dataset = DataLoader(\n",
    "    datasets.FashionMNIST(\n",
    "        root=\"~/data/fashion_mnist\", train=True, download=True, transform=transform\n",
    "    ),\n",
    "    batch_size=256,\n",
    "    shuffle=True,\n",
    ")\n",
    "\n",
    "print(\"baseline\")\n",
    "torch.random.manual_seed(seed)\n",
    "model = SimpleVQAutoEncoder(codebook_size=num_codes).to(device)\n",
    "opt = torch.optim.AdamW(model.parameters(), lr=lr)\n",
    "train(model, train_dataset, train_iterations=train_iter)"
   ]
  },
  {
   "cell_type": "code",
   "execution_count": null,
   "metadata": {},
   "outputs": [],
   "source": [
    "#https://www.geeksforgeeks.org/train-a-deep-learning-model-with-pytorch/"
   ]
  },
  {
   "cell_type": "code",
   "execution_count": 2,
   "metadata": {},
   "outputs": [
    {
     "data": {
      "text/plain": [
       "SimpleVQAutoEncoder(\n",
       "  (layers): ModuleList(\n",
       "    (0): Conv2d(1, 16, kernel_size=(3, 3), stride=(1, 1), padding=(1, 1))\n",
       "    (1): MaxPool2d(kernel_size=2, stride=2, padding=0, dilation=1, ceil_mode=False)\n",
       "    (2): GELU(approximate='none')\n",
       "    (3): Conv2d(16, 32, kernel_size=(3, 3), stride=(1, 1), padding=(1, 1))\n",
       "    (4): MaxPool2d(kernel_size=2, stride=2, padding=0, dilation=1, ceil_mode=False)\n",
       "    (5): VectorQuantize(\n",
       "      (project_in): Identity()\n",
       "      (project_out): Identity()\n",
       "      (_codebook): EuclideanCodebook()\n",
       "    )\n",
       "    (6): Upsample(scale_factor=2.0, mode='nearest')\n",
       "    (7): Conv2d(32, 16, kernel_size=(3, 3), stride=(1, 1), padding=(1, 1))\n",
       "    (8): GELU(approximate='none')\n",
       "    (9): Upsample(scale_factor=2.0, mode='nearest')\n",
       "    (10): Conv2d(16, 1, kernel_size=(3, 3), stride=(1, 1), padding=(1, 1))\n",
       "  )\n",
       ")"
      ]
     },
     "execution_count": 2,
     "metadata": {},
     "output_type": "execute_result"
    }
   ],
   "source": [
    "model"
   ]
  }
 ],
 "metadata": {
  "kernelspec": {
   "display_name": "ds2f_m_i",
   "language": "python",
   "name": "python3"
  },
  "language_info": {
   "codemirror_mode": {
    "name": "ipython",
    "version": 3
   },
   "file_extension": ".py",
   "mimetype": "text/x-python",
   "name": "python",
   "nbconvert_exporter": "python",
   "pygments_lexer": "ipython3",
   "version": "3.8.16"
  },
  "orig_nbformat": 4
 },
 "nbformat": 4,
 "nbformat_minor": 2
}

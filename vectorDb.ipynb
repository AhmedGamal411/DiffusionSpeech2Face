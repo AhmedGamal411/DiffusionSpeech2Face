{
 "cells": [
  {
   "cell_type": "code",
   "execution_count": 1,
   "metadata": {},
   "outputs": [],
   "source": [
    "import pathlib\n",
    "import os\n",
    "import configparser\n",
    "from random import randrange\n",
    "import uuid\n",
    "\n",
    "\n",
    "\n",
    "# TODO document how to set up the needed folders and paths in configuration.txt\n",
    "# TODO document how to use recreateDb\n",
    "# TODO indices\n",
    "configParser = configparser.RawConfigParser()   \n",
    "configFilePath = r'configuration.txt'\n",
    "configParser.read(configFilePath)\n",
    "\n",
    "datasetPathVideo =  configParser.get('COMMON', 'test_datasetPathVideo')\n",
    "datasetPathDatabase =  configParser.get('COMMON', 'test_datasetPathDatabase') + '/dataset.db'\n",
    "\n",
    "\n"
   ]
  },
  {
   "cell_type": "code",
   "execution_count": 2,
   "metadata": {},
   "outputs": [],
   "source": [
    "import lancedb\n",
    "uri = datasetPathDatabase\n",
    "db = lancedb.connect(uri)"
   ]
  },
  {
   "cell_type": "code",
   "execution_count": null,
   "metadata": {},
   "outputs": [],
   "source": []
  },
  {
   "cell_type": "code",
   "execution_count": 5,
   "metadata": {},
   "outputs": [
    {
     "name": "stdout",
     "output_type": "stream",
     "text": [
      "/home/gamal/Datasets/Dataset1Test/VideoTest1uizi6R-PMU_116.920000_120.000000.mp4\n",
      "/home/gamal/Datasets/Dataset1Test/VideoTest-2pPayrmmPI_90.000000_99.733333.mp4\n",
      "/home/gamal/Datasets/Dataset1Test/VideoTest-3YxIpmrKe4_210.001467_215.924044.mp4\n",
      "/home/gamal/Datasets/Dataset1Test/VideoTest-124IQ-v7-Y_100.480000_105.400000.mp4\n",
      "/home/gamal/Datasets/Dataset1Test/VideoTest-1n-Uy-SZZo_180.013167_184.142289.mp4\n",
      "/home/gamal/Datasets/Dataset1Test/VideoTest-1n-Uy-SZZo_270.270000_278.319711.mp4\n",
      "/home/gamal/Datasets/Dataset1Test/VideoTest-5CwA2zjCWc_210.009800_216.115900.mp4\n",
      "/home/gamal/Datasets/Dataset1Test/VideoTest-5iJ7Tg-Z8A_70.840000_76.960000.mp4\n",
      "/home/gamal/Datasets/Dataset1Test/VideoTest-6Q8rfdxYoM_197.600000_204.200000.mp4\n",
      "/home/gamal/Datasets/Dataset1Test/VideoTest0qIAk5sTwEo_173.333333_176.333333.mp4\n",
      "/home/gamal/Datasets/Dataset1Test/VideoTest/id00002/obamaobama.mp4\n",
      "/home/gamal/Datasets/Dataset1Test/VideoTest/id00001/trumptrump.mp4\n"
     ]
    }
   ],
   "source": [
    "\n",
    "files_to_insert = []\n",
    "\n",
    "\n",
    "for root, dirs, files in os.walk(datasetPathVideo):\n",
    "    #tasks = [insertIntoDb(file,root) for file in files]\n",
    "    # TODO split into chunks of say 4 files\n",
    "    #await asyncio.wait(tasks)\n",
    "    #await asyncio.gather(*tasks)\n",
    "    for file in files:\n",
    "        files_to_insert.append(file)\n",
    "        print(root + file)\n",
    "\n",
    "\n",
    "\n"
   ]
  },
  {
   "cell_type": "code",
   "execution_count": 27,
   "metadata": {},
   "outputs": [
    {
     "name": "stderr",
     "output_type": "stream",
     "text": [
      "/tmp/ipykernel_15135/517531604.py:6: FutureWarning: The frame.append method is deprecated and will be removed from pandas in a future version. Use pandas.concat instead.\n",
      "  df = df.append({'id': i, 'video_path': file, 'face_path': '',\n",
      "/tmp/ipykernel_15135/517531604.py:6: FutureWarning: The frame.append method is deprecated and will be removed from pandas in a future version. Use pandas.concat instead.\n",
      "  df = df.append({'id': i, 'video_path': file, 'face_path': '',\n",
      "/tmp/ipykernel_15135/517531604.py:6: FutureWarning: The frame.append method is deprecated and will be removed from pandas in a future version. Use pandas.concat instead.\n",
      "  df = df.append({'id': i, 'video_path': file, 'face_path': '',\n",
      "/tmp/ipykernel_15135/517531604.py:6: FutureWarning: The frame.append method is deprecated and will be removed from pandas in a future version. Use pandas.concat instead.\n",
      "  df = df.append({'id': i, 'video_path': file, 'face_path': '',\n",
      "/tmp/ipykernel_15135/517531604.py:6: FutureWarning: The frame.append method is deprecated and will be removed from pandas in a future version. Use pandas.concat instead.\n",
      "  df = df.append({'id': i, 'video_path': file, 'face_path': '',\n",
      "/tmp/ipykernel_15135/517531604.py:6: FutureWarning: The frame.append method is deprecated and will be removed from pandas in a future version. Use pandas.concat instead.\n",
      "  df = df.append({'id': i, 'video_path': file, 'face_path': '',\n",
      "/tmp/ipykernel_15135/517531604.py:6: FutureWarning: The frame.append method is deprecated and will be removed from pandas in a future version. Use pandas.concat instead.\n",
      "  df = df.append({'id': i, 'video_path': file, 'face_path': '',\n",
      "/tmp/ipykernel_15135/517531604.py:6: FutureWarning: The frame.append method is deprecated and will be removed from pandas in a future version. Use pandas.concat instead.\n",
      "  df = df.append({'id': i, 'video_path': file, 'face_path': '',\n",
      "/tmp/ipykernel_15135/517531604.py:6: FutureWarning: The frame.append method is deprecated and will be removed from pandas in a future version. Use pandas.concat instead.\n",
      "  df = df.append({'id': i, 'video_path': file, 'face_path': '',\n",
      "/tmp/ipykernel_15135/517531604.py:6: FutureWarning: The frame.append method is deprecated and will be removed from pandas in a future version. Use pandas.concat instead.\n",
      "  df = df.append({'id': i, 'video_path': file, 'face_path': '',\n",
      "/tmp/ipykernel_15135/517531604.py:6: FutureWarning: The frame.append method is deprecated and will be removed from pandas in a future version. Use pandas.concat instead.\n",
      "  df = df.append({'id': i, 'video_path': file, 'face_path': '',\n",
      "/tmp/ipykernel_15135/517531604.py:6: FutureWarning: The frame.append method is deprecated and will be removed from pandas in a future version. Use pandas.concat instead.\n",
      "  df = df.append({'id': i, 'video_path': file, 'face_path': '',\n"
     ]
    }
   ],
   "source": [
    "import pandas as pd\n",
    "import numpy as np\n",
    "df = pd.DataFrame()\n",
    "i = 0\n",
    "for file in files_to_insert:\n",
    "    df = df.append({'id': i, 'video_path': file, 'face_path': '', \n",
    "        'blurred_face_path': '', 'features_path': '', 'vector' : np.random.rand(128),'stage': ''}, ignore_index=True)\n",
    "    i = i +1"
   ]
  },
  {
   "cell_type": "code",
   "execution_count": 28,
   "metadata": {},
   "outputs": [
    {
     "data": {
      "text/html": [
       "<div>\n",
       "<style scoped>\n",
       "    .dataframe tbody tr th:only-of-type {\n",
       "        vertical-align: middle;\n",
       "    }\n",
       "\n",
       "    .dataframe tbody tr th {\n",
       "        vertical-align: top;\n",
       "    }\n",
       "\n",
       "    .dataframe thead th {\n",
       "        text-align: right;\n",
       "    }\n",
       "</style>\n",
       "<table border=\"1\" class=\"dataframe\">\n",
       "  <thead>\n",
       "    <tr style=\"text-align: right;\">\n",
       "      <th></th>\n",
       "      <th>id</th>\n",
       "      <th>video_path</th>\n",
       "      <th>face_path</th>\n",
       "      <th>blurred_face_path</th>\n",
       "      <th>features_path</th>\n",
       "      <th>vector</th>\n",
       "      <th>stage</th>\n",
       "    </tr>\n",
       "  </thead>\n",
       "  <tbody>\n",
       "    <tr>\n",
       "      <th>0</th>\n",
       "      <td>0</td>\n",
       "      <td>1uizi6R-PMU_116.920000_120.000000.mp4</td>\n",
       "      <td></td>\n",
       "      <td></td>\n",
       "      <td></td>\n",
       "      <td>[0.7118933802117685, 0.07711609890464322, 0.46...</td>\n",
       "      <td></td>\n",
       "    </tr>\n",
       "    <tr>\n",
       "      <th>1</th>\n",
       "      <td>1</td>\n",
       "      <td>-2pPayrmmPI_90.000000_99.733333.mp4</td>\n",
       "      <td></td>\n",
       "      <td></td>\n",
       "      <td></td>\n",
       "      <td>[0.25393197814895074, 0.12705447739844788, 0.0...</td>\n",
       "      <td></td>\n",
       "    </tr>\n",
       "    <tr>\n",
       "      <th>2</th>\n",
       "      <td>2</td>\n",
       "      <td>-3YxIpmrKe4_210.001467_215.924044.mp4</td>\n",
       "      <td></td>\n",
       "      <td></td>\n",
       "      <td></td>\n",
       "      <td>[0.8418830930901227, 0.6337607081952212, 0.414...</td>\n",
       "      <td></td>\n",
       "    </tr>\n",
       "    <tr>\n",
       "      <th>3</th>\n",
       "      <td>3</td>\n",
       "      <td>-124IQ-v7-Y_100.480000_105.400000.mp4</td>\n",
       "      <td></td>\n",
       "      <td></td>\n",
       "      <td></td>\n",
       "      <td>[0.9767531923849333, 0.6783599204789292, 0.810...</td>\n",
       "      <td></td>\n",
       "    </tr>\n",
       "    <tr>\n",
       "      <th>4</th>\n",
       "      <td>4</td>\n",
       "      <td>-1n-Uy-SZZo_180.013167_184.142289.mp4</td>\n",
       "      <td></td>\n",
       "      <td></td>\n",
       "      <td></td>\n",
       "      <td>[0.926580118986082, 0.1451939913619853, 0.8274...</td>\n",
       "      <td></td>\n",
       "    </tr>\n",
       "    <tr>\n",
       "      <th>5</th>\n",
       "      <td>5</td>\n",
       "      <td>-1n-Uy-SZZo_270.270000_278.319711.mp4</td>\n",
       "      <td></td>\n",
       "      <td></td>\n",
       "      <td></td>\n",
       "      <td>[0.8629043476631233, 0.831152281524574, 0.0946...</td>\n",
       "      <td></td>\n",
       "    </tr>\n",
       "    <tr>\n",
       "      <th>6</th>\n",
       "      <td>6</td>\n",
       "      <td>-5CwA2zjCWc_210.009800_216.115900.mp4</td>\n",
       "      <td></td>\n",
       "      <td></td>\n",
       "      <td></td>\n",
       "      <td>[0.5850560496094313, 0.5585038411115134, 0.704...</td>\n",
       "      <td></td>\n",
       "    </tr>\n",
       "    <tr>\n",
       "      <th>7</th>\n",
       "      <td>7</td>\n",
       "      <td>-5iJ7Tg-Z8A_70.840000_76.960000.mp4</td>\n",
       "      <td></td>\n",
       "      <td></td>\n",
       "      <td></td>\n",
       "      <td>[0.36789607078271036, 0.25398643252037834, 0.1...</td>\n",
       "      <td></td>\n",
       "    </tr>\n",
       "    <tr>\n",
       "      <th>8</th>\n",
       "      <td>8</td>\n",
       "      <td>-6Q8rfdxYoM_197.600000_204.200000.mp4</td>\n",
       "      <td></td>\n",
       "      <td></td>\n",
       "      <td></td>\n",
       "      <td>[0.9361743800857771, 0.10320524656201713, 0.52...</td>\n",
       "      <td></td>\n",
       "    </tr>\n",
       "    <tr>\n",
       "      <th>9</th>\n",
       "      <td>9</td>\n",
       "      <td>0qIAk5sTwEo_173.333333_176.333333.mp4</td>\n",
       "      <td></td>\n",
       "      <td></td>\n",
       "      <td></td>\n",
       "      <td>[0.6305255211616617, 0.3139281863707697, 0.234...</td>\n",
       "      <td></td>\n",
       "    </tr>\n",
       "    <tr>\n",
       "      <th>10</th>\n",
       "      <td>10</td>\n",
       "      <td>obama.mp4</td>\n",
       "      <td></td>\n",
       "      <td></td>\n",
       "      <td></td>\n",
       "      <td>[0.013613493264126864, 0.3217326520267021, 0.3...</td>\n",
       "      <td></td>\n",
       "    </tr>\n",
       "    <tr>\n",
       "      <th>11</th>\n",
       "      <td>11</td>\n",
       "      <td>trump.mp4</td>\n",
       "      <td></td>\n",
       "      <td></td>\n",
       "      <td></td>\n",
       "      <td>[0.8539129537808728, 0.4036741436325889, 0.304...</td>\n",
       "      <td></td>\n",
       "    </tr>\n",
       "  </tbody>\n",
       "</table>\n",
       "</div>"
      ],
      "text/plain": [
       "    id                             video_path face_path blurred_face_path  \\\n",
       "0    0  1uizi6R-PMU_116.920000_120.000000.mp4                               \n",
       "1    1    -2pPayrmmPI_90.000000_99.733333.mp4                               \n",
       "2    2  -3YxIpmrKe4_210.001467_215.924044.mp4                               \n",
       "3    3  -124IQ-v7-Y_100.480000_105.400000.mp4                               \n",
       "4    4  -1n-Uy-SZZo_180.013167_184.142289.mp4                               \n",
       "5    5  -1n-Uy-SZZo_270.270000_278.319711.mp4                               \n",
       "6    6  -5CwA2zjCWc_210.009800_216.115900.mp4                               \n",
       "7    7    -5iJ7Tg-Z8A_70.840000_76.960000.mp4                               \n",
       "8    8  -6Q8rfdxYoM_197.600000_204.200000.mp4                               \n",
       "9    9  0qIAk5sTwEo_173.333333_176.333333.mp4                               \n",
       "10  10                              obama.mp4                               \n",
       "11  11                              trump.mp4                               \n",
       "\n",
       "   features_path                                             vector stage  \n",
       "0                 [0.7118933802117685, 0.07711609890464322, 0.46...        \n",
       "1                 [0.25393197814895074, 0.12705447739844788, 0.0...        \n",
       "2                 [0.8418830930901227, 0.6337607081952212, 0.414...        \n",
       "3                 [0.9767531923849333, 0.6783599204789292, 0.810...        \n",
       "4                 [0.926580118986082, 0.1451939913619853, 0.8274...        \n",
       "5                 [0.8629043476631233, 0.831152281524574, 0.0946...        \n",
       "6                 [0.5850560496094313, 0.5585038411115134, 0.704...        \n",
       "7                 [0.36789607078271036, 0.25398643252037834, 0.1...        \n",
       "8                 [0.9361743800857771, 0.10320524656201713, 0.52...        \n",
       "9                 [0.6305255211616617, 0.3139281863707697, 0.234...        \n",
       "10                [0.013613493264126864, 0.3217326520267021, 0.3...        \n",
       "11                [0.8539129537808728, 0.4036741436325889, 0.304...        "
      ]
     },
     "execution_count": 28,
     "metadata": {},
     "output_type": "execute_result"
    }
   ],
   "source": [
    "df"
   ]
  },
  {
   "cell_type": "code",
   "execution_count": 66,
   "metadata": {},
   "outputs": [],
   "source": [
    "db.drop_table(\"video\")"
   ]
  },
  {
   "cell_type": "code",
   "execution_count": 29,
   "metadata": {},
   "outputs": [
    {
     "data": {
      "text/plain": [
       "LanceTable(video)"
      ]
     },
     "execution_count": 29,
     "metadata": {},
     "output_type": "execute_result"
    }
   ],
   "source": [
    "\n",
    "\n",
    "db.create_table(\"video\", df)\n"
   ]
  },
  {
   "cell_type": "code",
   "execution_count": 30,
   "metadata": {},
   "outputs": [
    {
     "name": "stdout",
     "output_type": "stream",
     "text": [
      "['video']\n"
     ]
    },
    {
     "data": {
      "text/plain": [
       "LanceTable(video)"
      ]
     },
     "execution_count": 30,
     "metadata": {},
     "output_type": "execute_result"
    }
   ],
   "source": [
    "print(db.table_names())\n",
    "tbl = db.open_table(\"video\")\n",
    "tbl"
   ]
  },
  {
   "cell_type": "code",
   "execution_count": 62,
   "metadata": {},
   "outputs": [
    {
     "data": {
      "text/html": [
       "<div>\n",
       "<style scoped>\n",
       "    .dataframe tbody tr th:only-of-type {\n",
       "        vertical-align: middle;\n",
       "    }\n",
       "\n",
       "    .dataframe tbody tr th {\n",
       "        vertical-align: top;\n",
       "    }\n",
       "\n",
       "    .dataframe thead th {\n",
       "        text-align: right;\n",
       "    }\n",
       "</style>\n",
       "<table border=\"1\" class=\"dataframe\">\n",
       "  <thead>\n",
       "    <tr style=\"text-align: right;\">\n",
       "      <th></th>\n",
       "      <th>id</th>\n",
       "      <th>video_path</th>\n",
       "      <th>face_path</th>\n",
       "      <th>blurred_face_path</th>\n",
       "      <th>features_path</th>\n",
       "      <th>vector</th>\n",
       "      <th>stage</th>\n",
       "      <th>_distance</th>\n",
       "    </tr>\n",
       "  </thead>\n",
       "  <tbody>\n",
       "    <tr>\n",
       "      <th>0</th>\n",
       "      <td>7</td>\n",
       "      <td>-5iJ7Tg-Z8A_70.840000_76.960000.mp4</td>\n",
       "      <td>None</td>\n",
       "      <td>None</td>\n",
       "      <td>None</td>\n",
       "      <td>[0.36789608, 0.25398642, 0.19734843, 0.6540901...</td>\n",
       "      <td>None</td>\n",
       "      <td>17.239857</td>\n",
       "    </tr>\n",
       "    <tr>\n",
       "      <th>1</th>\n",
       "      <td>1</td>\n",
       "      <td>-2pPayrmmPI_90.000000_99.733333.mp4</td>\n",
       "      <td>None</td>\n",
       "      <td>None</td>\n",
       "      <td>None</td>\n",
       "      <td>[0.25393197, 0.12705448, 0.048556514, 0.520356...</td>\n",
       "      <td>None</td>\n",
       "      <td>20.109121</td>\n",
       "    </tr>\n",
       "  </tbody>\n",
       "</table>\n",
       "</div>"
      ],
      "text/plain": [
       "   id                           video_path face_path blurred_face_path  \\\n",
       "0   7  -5iJ7Tg-Z8A_70.840000_76.960000.mp4      None              None   \n",
       "1   1  -2pPayrmmPI_90.000000_99.733333.mp4      None              None   \n",
       "\n",
       "  features_path                                             vector stage  \\\n",
       "0          None  [0.36789608, 0.25398642, 0.19734843, 0.6540901...  None   \n",
       "1          None  [0.25393197, 0.12705448, 0.048556514, 0.520356...  None   \n",
       "\n",
       "   _distance  \n",
       "0  17.239857  \n",
       "1  20.109121  "
      ]
     },
     "execution_count": 62,
     "metadata": {},
     "output_type": "execute_result"
    }
   ],
   "source": [
    "tbl.search(np.random.rand(128)).limit(2).to_df()"
   ]
  },
  {
   "cell_type": "code",
   "execution_count": 65,
   "metadata": {},
   "outputs": [
    {
     "name": "stdout",
     "output_type": "stream",
     "text": [
      "INSERTED 12 VIDEOS\n"
     ]
    }
   ],
   "source": [
    "print('INSERTED ' + str(len(df)) + ' VIDEOS')"
   ]
  }
 ],
 "metadata": {
  "kernelspec": {
   "display_name": "ds2f_pre",
   "language": "python",
   "name": "python3"
  },
  "language_info": {
   "codemirror_mode": {
    "name": "ipython",
    "version": 3
   },
   "file_extension": ".py",
   "mimetype": "text/x-python",
   "name": "python",
   "nbconvert_exporter": "python",
   "pygments_lexer": "ipython3",
   "version": "3.8.16"
  },
  "orig_nbformat": 4
 },
 "nbformat": 4,
 "nbformat_minor": 2
}

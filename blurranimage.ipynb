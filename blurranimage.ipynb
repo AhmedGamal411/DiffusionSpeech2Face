{
 "cells": [
  {
   "cell_type": "code",
   "execution_count": 1,
   "metadata": {},
   "outputs": [],
   "source": [
    "# Importing Image class from PIL module\n",
    "from PIL import Image,ImageFilter\n",
    " \n",
    "# Opens a image in RGB mode\n",
    "im = Image.open(r\"12.png\").convert('RGB')\n",
    " \n",
    "# Blurring the image\n",
    "#im1 = im.filter(ImageFilter.BoxBlur(14)) # 4 to 14\n",
    "#im2 = im.filter(ImageFilter.GaussianBlur(5)) # 2 to 6\n",
    "\n",
    "im = im.resize((128,128))\n",
    "\n",
    "import random\n",
    "#im3 = im.filter(ImageFilter.BoxBlur(random.randint(2, 7))).filter(\n",
    "#           ImageFilter.GaussianBlur(random.randint(1, 3)))\n",
    "\n",
    "#im3 = im.filter(ImageFilter.BoxBlur(random.randint(1, 5)))\n",
    "\n",
    "#im3 = im.filter(ImageFilter.GaussianBlur(random.randint(1, 3)))\n",
    "\n",
    "im3 = im.filter(ImageFilter.BoxBlur(random.randint(1, 2))).filter(\n",
    "           ImageFilter.GaussianBlur(random.randint(1, 1)))\n",
    "\n",
    "\n",
    "\n",
    "#im1.save(\"a2.jpeg\")\n",
    "#im2.save(\"a3.jpeg\")\n",
    "im3.save(\"a12.png\")"
   ]
  },
  {
   "cell_type": "code",
   "execution_count": 2,
   "metadata": {},
   "outputs": [],
   "source": [
    "import numpy as np\n",
    "x = np.array(im3,np.float32)"
   ]
  },
  {
   "cell_type": "code",
   "execution_count": 3,
   "metadata": {},
   "outputs": [],
   "source": [
    "x = np.moveaxis(x, -1, 0)"
   ]
  },
  {
   "cell_type": "code",
   "execution_count": 4,
   "metadata": {},
   "outputs": [
    {
     "data": {
      "text/plain": [
       "(3, 128, 128)"
      ]
     },
     "execution_count": 4,
     "metadata": {},
     "output_type": "execute_result"
    }
   ],
   "source": [
    "x.shape"
   ]
  },
  {
   "cell_type": "code",
   "execution_count": 5,
   "metadata": {},
   "outputs": [
    {
     "data": {
      "text/plain": [
       "(128, 128)"
      ]
     },
     "execution_count": 5,
     "metadata": {},
     "output_type": "execute_result"
    }
   ],
   "source": [
    "x[0].shape"
   ]
  },
  {
   "cell_type": "code",
   "execution_count": 6,
   "metadata": {},
   "outputs": [
    {
     "ename": "NameError",
     "evalue": "name 'n' is not defined",
     "output_type": "error",
     "traceback": [
      "\u001b[0;31m---------------------------------------------------------------------------\u001b[0m",
      "\u001b[0;31mNameError\u001b[0m                                 Traceback (most recent call last)",
      "\u001b[1;32m/home/gamal/vsc/DiffusionSpeech2Face/blurranimage.ipynb Cell 6\u001b[0m in \u001b[0;36m<cell line: 1>\u001b[0;34m()\u001b[0m\n\u001b[0;32m----> <a href='vscode-notebook-cell:/home/gamal/vsc/DiffusionSpeech2Face/blurranimage.ipynb#W5sZmlsZQ%3D%3D?line=0'>1</a>\u001b[0m n\u001b[39m.\u001b[39mshape\n",
      "\u001b[0;31mNameError\u001b[0m: name 'n' is not defined"
     ]
    }
   ],
   "source": [
    "\n",
    "\n",
    "n.shape"
   ]
  },
  {
   "cell_type": "code",
   "execution_count": null,
   "metadata": {},
   "outputs": [],
   "source": [
    "import numpy as np\n",
    "x = np.array([[[155,  33, 129],\n",
    "        [161, 218,   6]],\n",
    "\n",
    "       [[215, 142, 235],\n",
    "        [143, 249, 164]],\n",
    "\n",
    "       [[221,  71, 229],\n",
    "        [ 56,  91, 120]],\n",
    "\n",
    "       [[236,   4, 177],\n",
    "        [171, 105,  40]]])"
   ]
  },
  {
   "cell_type": "code",
   "execution_count": null,
   "metadata": {},
   "outputs": [
    {
     "data": {
      "text/plain": [
       "array([[155,  33, 129, 215, 142, 235, 221,  71, 229],\n",
       "       [161, 218,   6, 143, 249, 164,  56,  91, 120]])"
      ]
     },
     "execution_count": 31,
     "metadata": {},
     "output_type": "execute_result"
    }
   ],
   "source": [
    "m = np.hstack((x[0],x[1]))\n",
    "n = np.hstack((m,x[2]))\n",
    "n"
   ]
  },
  {
   "cell_type": "code",
   "execution_count": null,
   "metadata": {},
   "outputs": [
    {
     "data": {
      "text/plain": [
       "array([[155,  33, 129],\n",
       "       [161, 218,   6]])"
      ]
     },
     "execution_count": 29,
     "metadata": {},
     "output_type": "execute_result"
    }
   ],
   "source": [
    "."
   ]
  },
  {
   "cell_type": "code",
   "execution_count": null,
   "metadata": {},
   "outputs": [
    {
     "data": {
      "text/plain": [
       "array([[[155,  33, 129],\n",
       "        [161, 218,   6]],\n",
       "\n",
       "       [[215, 142, 235],\n",
       "        [143, 249, 164]],\n",
       "\n",
       "       [[221,  71, 229],\n",
       "        [ 56,  91, 120]],\n",
       "\n",
       "       [[236,   4, 177],\n",
       "        [171, 105,  40]]])"
      ]
     },
     "execution_count": 26,
     "metadata": {},
     "output_type": "execute_result"
    }
   ],
   "source": [
    "x"
   ]
  },
  {
   "cell_type": "code",
   "execution_count": null,
   "metadata": {},
   "outputs": [
    {
     "name": "stdout",
     "output_type": "stream",
     "text": [
      "1/1 [==============================] - 0s 82ms/step\n"
     ]
    }
   ],
   "source": [
    "from tensorflow.keras.applications.vgg19 import VGG19\n",
    "from tensorflow.keras.preprocessing import image\n",
    "from tensorflow.keras.applications.vgg19 import preprocess_input\n",
    "import numpy as np\n",
    "\n",
    "model = VGG19(weights='imagenet', include_top=False)\n",
    "\n",
    "img_path = '/home/gamal/Datasets/Dataset1/Faces/ufuRTqz29no_278.866667_283.900000_face_3.png'\n",
    "img = image.load_img(img_path, target_size=(224, 224))\n",
    "x = image.img_to_array(img)\n",
    "x = np.expand_dims(x, axis=0)\n",
    "x = preprocess_input(x)\n",
    "\n",
    "features = model.predict(x)\n"
   ]
  },
  {
   "cell_type": "code",
   "execution_count": null,
   "metadata": {},
   "outputs": [
    {
     "data": {
      "text/plain": [
       "154.96358"
      ]
     },
     "execution_count": 12,
     "metadata": {},
     "output_type": "execute_result"
    }
   ],
   "source": [
    "features.max()"
   ]
  },
  {
   "cell_type": "code",
   "execution_count": null,
   "metadata": {},
   "outputs": [
    {
     "data": {
      "text/plain": [
       "0.0"
      ]
     },
     "execution_count": 32,
     "metadata": {},
     "output_type": "execute_result"
    }
   ],
   "source": [
    "features.min()"
   ]
  },
  {
   "cell_type": "code",
   "execution_count": null,
   "metadata": {},
   "outputs": [
    {
     "data": {
      "text/plain": [
       "(512,)"
      ]
     },
     "execution_count": 22,
     "metadata": {},
     "output_type": "execute_result"
    }
   ],
   "source": [
    "features.squeeze().shape"
   ]
  },
  {
   "cell_type": "code",
   "execution_count": null,
   "metadata": {},
   "outputs": [
    {
     "data": {
      "text/plain": [
       "1"
      ]
     },
     "execution_count": 13,
     "metadata": {},
     "output_type": "execute_result"
    }
   ],
   "source": [
    "random.randint(1, 3)"
   ]
  },
  {
   "cell_type": "code",
   "execution_count": null,
   "metadata": {},
   "outputs": [
    {
     "data": {
      "text/plain": [
       "(1, 7, 7, 512)"
      ]
     },
     "execution_count": 5,
     "metadata": {},
     "output_type": "execute_result"
    }
   ],
   "source": [
    "features.shape"
   ]
  },
  {
   "cell_type": "code",
   "execution_count": null,
   "metadata": {},
   "outputs": [],
   "source": [
    "new_arr = features.reshape(-1, features.shape[-1])"
   ]
  },
  {
   "cell_type": "code",
   "execution_count": null,
   "metadata": {},
   "outputs": [
    {
     "data": {
      "text/plain": [
       "(49, 512)"
      ]
     },
     "execution_count": 10,
     "metadata": {},
     "output_type": "execute_result"
    }
   ],
   "source": [
    "new_arr.shape"
   ]
  },
  {
   "cell_type": "code",
   "execution_count": null,
   "metadata": {},
   "outputs": [],
   "source": [
    "import numpy as np\n",
    "z1 = np.zeros((190,128))"
   ]
  },
  {
   "cell_type": "code",
   "execution_count": null,
   "metadata": {},
   "outputs": [],
   "source": [
    "z = np.array( [[1,2,3],[4,5,6],[6,7,8],[9,10,11]])"
   ]
  },
  {
   "cell_type": "code",
   "execution_count": null,
   "metadata": {},
   "outputs": [
    {
     "data": {
      "text/plain": [
       "array([[ 1,  2,  3],\n",
       "       [ 4,  5,  6],\n",
       "       [ 6,  7,  8],\n",
       "       [ 9, 10, 11]])"
      ]
     },
     "execution_count": 39,
     "metadata": {},
     "output_type": "execute_result"
    }
   ],
   "source": [
    "z"
   ]
  },
  {
   "cell_type": "code",
   "execution_count": null,
   "metadata": {},
   "outputs": [
    {
     "data": {
      "text/plain": [
       "(4, 3)"
      ]
     },
     "execution_count": 34,
     "metadata": {},
     "output_type": "execute_result"
    }
   ],
   "source": [
    "z.shape"
   ]
  },
  {
   "cell_type": "code",
   "execution_count": null,
   "metadata": {},
   "outputs": [
    {
     "data": {
      "text/plain": [
       "array([[ 1,  2,  3,  4,  5,  6],\n",
       "       [ 6,  7,  8,  9, 10, 11]])"
      ]
     },
     "execution_count": 41,
     "metadata": {},
     "output_type": "execute_result"
    }
   ],
   "source": [
    "z.reshape(2,-1).squeeze()"
   ]
  },
  {
   "cell_type": "code",
   "execution_count": null,
   "metadata": {},
   "outputs": [
    {
     "data": {
      "text/plain": [
       "array([[ 1,  2,  3],\n",
       "       [ 4,  5,  6],\n",
       "       [ 6,  7,  8],\n",
       "       [ 9, 10, 11]])"
      ]
     },
     "execution_count": 42,
     "metadata": {},
     "output_type": "execute_result"
    }
   ],
   "source": [
    "z"
   ]
  },
  {
   "cell_type": "code",
   "execution_count": null,
   "metadata": {},
   "outputs": [
    {
     "data": {
      "text/plain": [
       "array([[1, 2, 3],\n",
       "       [4, 5, 6]])"
      ]
     },
     "execution_count": 43,
     "metadata": {},
     "output_type": "execute_result"
    }
   ],
   "source": [
    "z[0:2]"
   ]
  },
  {
   "cell_type": "code",
   "execution_count": null,
   "metadata": {},
   "outputs": [
    {
     "name": "stdout",
     "output_type": "stream",
     "text": [
      "(3, 49, 49)\n",
      "(49, 147)\n",
      "(49, 621)\n",
      "(49, 768)\n"
     ]
    }
   ],
   "source": [
    "image = Image.open(\"12.png\").convert('RGB')\n",
    "im = image.resize((49,49))\n",
    "\n",
    "im3 = im.filter(ImageFilter.BoxBlur(random.randint(1, 2))).filter(\n",
    "    ImageFilter.GaussianBlur(random.randint(1, 1)))\n",
    "\n",
    "pix = np.array(im3,np.float32)\n",
    "pix = pix / 255\n",
    "pix = np.moveaxis(pix, -1, 0)\n",
    "print(pix.shape)\n",
    "\n",
    "m = np.hstack((pix[0],pix[1]))\n",
    "n = np.hstack((m,pix[2]))\n",
    "print(n.shape)\n",
    "\n",
    "z1 = np.ones((49,768-(3*49)))\n",
    "print(z1.shape)\n",
    "image_guide = np.hstack((n,z1))\n",
    "print(image_guide.shape)\n",
    "\n",
    "image.close()\n",
    "im.close()\n",
    "im3.close()"
   ]
  },
  {
   "cell_type": "code",
   "execution_count": 1,
   "metadata": {},
   "outputs": [],
   "source": [
    "# Importing Image class from PIL module\n",
    "from PIL import Image,ImageFilter\n",
    " \n",
    "# Opens a image in RGB mode\n",
    "im = Image.open(r\"12.png\").convert('RGB')\n",
    " \n",
    "# Blurring the image\n",
    "#im1 = im.filter(ImageFilter.BoxBlur(14)) # 4 to 14\n",
    "#im2 = im.filter(ImageFilter.GaussianBlur(5)) # 2 to 6\n",
    "\n",
    "im = im.resize((126,126))\n",
    "\n",
    "import random\n",
    "#im3 = im.filter(ImageFilter.BoxBlur(random.randint(2, 7))).filter(\n",
    "#           ImageFilter.GaussianBlur(random.randint(1, 3)))\n",
    "\n",
    "#im3 = im.filter(ImageFilter.BoxBlur(random.randint(1, 5)))\n",
    "\n",
    "#im3 = im.filter(ImageFilter.GaussianBlur(random.randint(1, 3)))\n",
    "\n",
    "im3 = im.filter(ImageFilter.BoxBlur(random.randint(1, 2))).filter(\n",
    "           ImageFilter.GaussianBlur(random.randint(1, 1)))\n",
    "\n",
    "\n",
    "\n",
    "#im1.save(\"a2.jpeg\")\n",
    "#im2.save(\"a3.jpeg\")\n",
    "im3.save(\"a12.png\")"
   ]
  },
  {
   "cell_type": "code",
   "execution_count": 71,
   "metadata": {},
   "outputs": [],
   "source": [
    "import numpy as np\n",
    "M = 16\n",
    "N = 32\n",
    "im=np.array(im3)\n",
    "tiles = [im[x:x+M,y:y+N] for x in range(0,im.shape[0],M) for y in range(0,im.shape[1],N)]"
   ]
  },
  {
   "cell_type": "code",
   "execution_count": 72,
   "metadata": {},
   "outputs": [],
   "source": [
    "pics = np.asarray(tiles)"
   ]
  },
  {
   "cell_type": "code",
   "execution_count": 73,
   "metadata": {},
   "outputs": [
    {
     "data": {
      "text/plain": [
       "(32, 16, 32, 3)"
      ]
     },
     "execution_count": 73,
     "metadata": {},
     "output_type": "execute_result"
    }
   ],
   "source": [
    "pics.shape"
   ]
  },
  {
   "cell_type": "code",
   "execution_count": 5,
   "metadata": {},
   "outputs": [
    {
     "data": {
      "text/plain": [
       "(16, 16, 3)"
      ]
     },
     "execution_count": 5,
     "metadata": {},
     "output_type": "execute_result"
    }
   ],
   "source": [
    "pics[0].shape"
   ]
  },
  {
   "cell_type": "code",
   "execution_count": 6,
   "metadata": {},
   "outputs": [
    {
     "data": {
      "image/png": "[encoded data removed]",
      "text/plain": [
       "<PIL.Image.Image image mode=RGB size=16x16>"
      ]
     },
     "execution_count": 6,
     "metadata": {},
     "output_type": "execute_result"
    }
   ],
   "source": [
    "Image.fromarray(pics[0])"
   ]
  },
  {
   "cell_type": "code",
   "execution_count": 7,
   "metadata": {},
   "outputs": [
    {
     "data": {
      "image/png": "[encoded data removed]",
      "text/plain": [
       "<PIL.Image.Image image mode=RGB size=16x16>"
      ]
     },
     "execution_count": 7,
     "metadata": {},
     "output_type": "execute_result"
    }
   ],
   "source": [
    "Image.fromarray(pics[1])"
   ]
  },
  {
   "cell_type": "code",
   "execution_count": 8,
   "metadata": {},
   "outputs": [
    {
     "data": {
      "image/png": "[encoded data removed]",
      "text/plain": [
       "<PIL.Image.Image image mode=RGB size=16x16>"
      ]
     },
     "execution_count": 8,
     "metadata": {},
     "output_type": "execute_result"
    }
   ],
   "source": [
    "Image.fromarray(pics[2])"
   ]
  },
  {
   "cell_type": "code",
   "execution_count": 9,
   "metadata": {},
   "outputs": [],
   "source": [
    "x = Image.fromarray(pics[3])\n",
    "x.save(\"a13.png\")\n",
    "x.close()"
   ]
  },
  {
   "cell_type": "code",
   "execution_count": 15,
   "metadata": {},
   "outputs": [
    {
     "data": {
      "text/plain": [
       "(0.0, 256.0)"
      ]
     },
     "execution_count": 15,
     "metadata": {},
     "output_type": "execute_result"
    },
    {
     "data": {
      "image/png": "[encoded data removed]",
      "text/plain": [
       "<Figure size 640x480 with 2 Axes>"
      ]
     },
     "metadata": {},
     "output_type": "display_data"
    }
   ],
   "source": [
    "import cv2\n",
    "import numpy as np\n",
    "from matplotlib import pyplot as plt\n",
    "  \n",
    "img = cv2.imread('a12.png')\n",
    "\n",
    "# Calculate histogram without mask\n",
    "hist1 = cv2.calcHist([img],[0],None,[256],[0,256])\n",
    "hist2 = cv2.calcHist([img],[1],None,[256],[0,256])\n",
    "hist3 = cv2.calcHist([img],[2],None,[256],[0,256])\n",
    "\n",
    "RGB_img = cv2.cvtColor(img, cv2.COLOR_BGR2RGB)\n",
    "plt.subplot(221), plt.imshow(RGB_img)\n",
    "plt.subplot(222), plt.plot(hist1), plt.plot(hist2),plt.plot(hist3)\n",
    "plt.xlim([0,256])\n"
   ]
  },
  {
   "cell_type": "code",
   "execution_count": 16,
   "metadata": {},
   "outputs": [
    {
     "data": {
      "text/plain": [
       "(256, 1)"
      ]
     },
     "execution_count": 16,
     "metadata": {},
     "output_type": "execute_result"
    }
   ],
   "source": [
    "hist1.shape"
   ]
  },
  {
   "cell_type": "code",
   "execution_count": 17,
   "metadata": {},
   "outputs": [
    {
     "data": {
      "text/plain": [
       "(256, 1)"
      ]
     },
     "execution_count": 17,
     "metadata": {},
     "output_type": "execute_result"
    }
   ],
   "source": [
    "hist2.shape"
   ]
  },
  {
   "cell_type": "code",
   "execution_count": 18,
   "metadata": {},
   "outputs": [
    {
     "data": {
      "text/plain": [
       "(256, 1)"
      ]
     },
     "execution_count": 18,
     "metadata": {},
     "output_type": "execute_result"
    }
   ],
   "source": [
    "hist3.shape"
   ]
  }
 ],
 "metadata": {
  "kernelspec": {
   "display_name": "ds2f_pre",
   "language": "python",
   "name": "python3"
  },
  "language_info": {
   "codemirror_mode": {
    "name": "ipython",
    "version": 3
   },
   "file_extension": ".py",
   "mimetype": "text/x-python",
   "name": "python",
   "nbconvert_exporter": "python",
   "pygments_lexer": "ipython3",
   "version": "3.8.16"
  },
  "orig_nbformat": 4
 },
 "nbformat": 4,
 "nbformat_minor": 2
}

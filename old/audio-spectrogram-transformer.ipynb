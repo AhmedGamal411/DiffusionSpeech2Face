{
 "cells": [
  {
   "cell_type": "code",
   "execution_count": 29,
   "metadata": {},
   "outputs": [],
   "source": [
    "from scipy.io import wavfile\n",
    "samplerate, data = wavfile.read('song.wav')"
   ]
  },
  {
   "cell_type": "code",
   "execution_count": 30,
   "metadata": {},
   "outputs": [
    {
     "data": {
      "text/plain": [
       "16000"
      ]
     },
     "execution_count": 30,
     "metadata": {},
     "output_type": "execute_result"
    }
   ],
   "source": [
    "samplerate"
   ]
  },
  {
   "cell_type": "code",
   "execution_count": 31,
   "metadata": {},
   "outputs": [],
   "source": [
    "data = data[0:400]"
   ]
  },
  {
   "cell_type": "code",
   "execution_count": 32,
   "metadata": {},
   "outputs": [],
   "source": [
    "import numpy\n",
    "data = data.astype(numpy.float32)"
   ]
  },
  {
   "cell_type": "code",
   "execution_count": 33,
   "metadata": {},
   "outputs": [
    {
     "data": {
      "text/plain": [
       "array([112.,  96.,  95., 100., 100.,  97.,  97.,  99., 105., 116., 120.,\n",
       "       114., 116., 128., 133., 133., 134., 138., 142., 141., 133., 135.,\n",
       "       149., 154., 149., 147., 147., 150., 159., 163., 153., 142., 143.,\n",
       "       149., 150., 148., 146., 148., 146., 139., 136., 142., 146., 137.,\n",
       "       124., 119., 123., 127., 129., 135., 136., 126., 120., 121., 117.,\n",
       "       109., 108., 110., 101.,  87.,  84.,  92.,  97.,  92.,  90., 103.,\n",
       "       121., 127., 121., 115., 114., 122., 137., 147., 149., 149., 150.,\n",
       "       148., 145., 148., 157., 158., 153., 155., 162., 166., 166., 161.,\n",
       "       152., 144., 141., 144., 154., 162., 155., 143., 143., 147., 145.,\n",
       "       141., 136., 131., 130., 134., 138., 147., 152., 144., 129., 121.,\n",
       "       122., 123., 119., 109., 100.,  95.,  90.,  88.,  89.,  88.,  90.,\n",
       "       103., 119., 123., 117., 111., 112., 114., 115., 122., 139., 154.,\n",
       "       160., 157., 148., 142., 144., 150., 153., 150., 147., 155., 174.,\n",
       "       177., 159., 143., 137., 133., 134., 141., 150., 153., 148., 142.,\n",
       "       142., 142., 135., 129., 130., 129., 132., 140., 142., 135., 129.,\n",
       "       123., 115., 110., 112., 111., 104.,  99.,  96.,  90.,  78.,  69.,\n",
       "        72.,  85., 102., 116., 125., 129., 125., 110.,  98., 105., 130.,\n",
       "       154., 164., 162., 159., 157., 154., 150., 152., 153., 151., 152.,\n",
       "       164., 176., 176., 164., 149., 142., 139., 139., 147., 162., 168.,\n",
       "       157., 143., 139., 140., 137., 127., 122., 124., 124., 128., 141.,\n",
       "       144., 128., 111., 105., 105., 108., 110., 105.,  98.,  94.,  89.,\n",
       "        80.,  76.,  77.,  88., 111., 132., 135., 127., 117., 105., 102.,\n",
       "       117., 136., 149., 154., 152., 153., 161., 165., 155., 145., 146.,\n",
       "       150., 158., 171., 179., 174., 159., 142., 132., 135., 146., 155.,\n",
       "       160., 159., 147., 137., 138., 139., 130., 119., 115., 116., 123.,\n",
       "       131., 137., 139., 131., 113.,  98.,  97., 104., 110., 110., 100.,\n",
       "        82.,  70.,  64.,  62.,  71.,  93., 116., 126., 122., 111., 103.,\n",
       "       106., 120., 138., 152., 155., 151., 155., 166., 172., 166., 157.,\n",
       "       151., 148., 152., 167., 184., 185., 169., 150., 137., 132., 136.,\n",
       "       146., 155., 155., 148., 141., 138., 136., 131., 124., 116., 112.,\n",
       "       117., 135., 150., 148., 131., 113., 101.,  95., 100., 110., 108.,\n",
       "        94.,  80.,  72.,  72.,  78.,  93., 115., 131., 130., 121., 117.,\n",
       "       113., 108., 121., 148., 164., 162., 158., 163., 173., 174., 162.,\n",
       "       153., 156., 158., 160., 174., 188., 179., 157., 142., 133., 131.,\n",
       "       142., 157., 162., 155., 144., 137., 136., 134., 126., 117., 109.,\n",
       "       106., 116., 138., 151., 142., 121., 103.,  93.,  89.,  91.,  95.,\n",
       "        89.,  76.,  67.,  64.], dtype=float32)"
      ]
     },
     "execution_count": 33,
     "metadata": {},
     "output_type": "execute_result"
    }
   ],
   "source": [
    "data"
   ]
  },
  {
   "cell_type": "code",
   "execution_count": 34,
   "metadata": {},
   "outputs": [
    {
     "data": {
      "text/plain": [
       "array([112.,  96.,  95., 100., 100.,  97.,  97.,  99., 105., 116., 120.,\n",
       "       114., 116., 128., 133., 133., 134., 138., 142., 141., 133., 135.,\n",
       "       149., 154., 149., 147., 147., 150., 159., 163., 153., 142., 143.,\n",
       "       149., 150., 148., 146., 148., 146., 139., 136., 142., 146., 137.,\n",
       "       124., 119., 123., 127., 129., 135., 136., 126., 120., 121., 117.,\n",
       "       109., 108., 110., 101.,  87.,  84.,  92.,  97.,  92.,  90., 103.,\n",
       "       121., 127., 121., 115., 114., 122., 137., 147., 149., 149., 150.,\n",
       "       148., 145., 148., 157., 158., 153., 155., 162., 166., 166., 161.,\n",
       "       152., 144., 141., 144., 154., 162., 155., 143., 143., 147., 145.,\n",
       "       141., 136., 131., 130., 134., 138., 147., 152., 144., 129., 121.,\n",
       "       122., 123., 119., 109., 100.,  95.,  90.,  88.,  89.,  88.,  90.,\n",
       "       103., 119., 123., 117., 111., 112., 114., 115., 122., 139., 154.,\n",
       "       160., 157., 148., 142., 144., 150., 153., 150., 147., 155., 174.,\n",
       "       177., 159., 143., 137., 133., 134., 141., 150., 153., 148., 142.,\n",
       "       142., 142., 135., 129., 130., 129., 132., 140., 142., 135., 129.,\n",
       "       123., 115., 110., 112., 111., 104.,  99.,  96.,  90.,  78.,  69.,\n",
       "        72.,  85., 102., 116., 125., 129., 125., 110.,  98., 105., 130.,\n",
       "       154., 164., 162., 159., 157., 154., 150., 152., 153., 151., 152.,\n",
       "       164., 176., 176., 164., 149., 142., 139., 139., 147., 162., 168.,\n",
       "       157., 143., 139., 140., 137., 127., 122., 124., 124., 128., 141.,\n",
       "       144., 128., 111., 105., 105., 108., 110., 105.,  98.,  94.,  89.,\n",
       "        80.,  76.,  77.,  88., 111., 132., 135., 127., 117., 105., 102.,\n",
       "       117., 136., 149., 154., 152., 153., 161., 165., 155., 145., 146.,\n",
       "       150., 158., 171., 179., 174., 159., 142., 132., 135., 146., 155.,\n",
       "       160., 159., 147., 137., 138., 139., 130., 119., 115., 116., 123.,\n",
       "       131., 137., 139., 131., 113.,  98.,  97., 104., 110., 110., 100.,\n",
       "        82.,  70.,  64.,  62.,  71.,  93., 116., 126., 122., 111., 103.,\n",
       "       106., 120., 138., 152., 155., 151., 155., 166., 172., 166., 157.,\n",
       "       151., 148., 152., 167., 184., 185., 169., 150., 137., 132., 136.,\n",
       "       146., 155., 155., 148., 141., 138., 136., 131., 124., 116., 112.,\n",
       "       117., 135., 150., 148., 131., 113., 101.,  95., 100., 110., 108.,\n",
       "        94.,  80.,  72.,  72.,  78.,  93., 115., 131., 130., 121., 117.,\n",
       "       113., 108., 121., 148., 164., 162., 158., 163., 173., 174., 162.,\n",
       "       153., 156., 158., 160., 174., 188., 179., 157., 142., 133., 131.,\n",
       "       142., 157., 162., 155., 144., 137., 136., 134., 126., 117., 109.,\n",
       "       106., 116., 138., 151., 142., 121., 103.,  93.,  89.,  91.,  95.,\n",
       "        89.,  76.,  67.,  64.], dtype=float32)"
      ]
     },
     "execution_count": 34,
     "metadata": {},
     "output_type": "execute_result"
    }
   ],
   "source": [
    "data"
   ]
  },
  {
   "cell_type": "code",
   "execution_count": 35,
   "metadata": {},
   "outputs": [
    {
     "name": "stderr",
     "output_type": "stream",
     "text": [
      "Could not find image processor class in the image processor config or the model config. Loading based on pattern matching with the model's feature extractor configuration.\n",
      "Some weights of the model checkpoint at MIT/ast-finetuned-audioset-10-10-0.4593 were not used when initializing ASTModel: ['classifier.dense.weight', 'classifier.layernorm.bias', 'classifier.dense.bias', 'classifier.layernorm.weight']\n",
      "- This IS expected if you are initializing ASTModel from the checkpoint of a model trained on another task or with another architecture (e.g. initializing a BertForSequenceClassification model from a BertForPreTraining model).\n",
      "- This IS NOT expected if you are initializing ASTModel from the checkpoint of a model that you expect to be exactly identical (initializing a BertForSequenceClassification model from a BertForSequenceClassification model).\n"
     ]
    },
    {
     "data": {
      "text/plain": [
       "[1, 1214, 768]"
      ]
     },
     "execution_count": 35,
     "metadata": {},
     "output_type": "execute_result"
    }
   ],
   "source": [
    "from transformers import AutoProcessor, ASTModel\n",
    "\n",
    "import torch\n",
    "\n",
    "\n",
    "\n",
    "processor = AutoProcessor.from_pretrained(\"MIT/ast-finetuned-audioset-10-10-0.4593\")\n",
    "\n",
    "model = ASTModel.from_pretrained(\"MIT/ast-finetuned-audioset-10-10-0.4593\")\n",
    "\n",
    "# audio file is decoded on the fly\n",
    "\n",
    "inputs = processor(data, sampling_rate=samplerate, return_tensors=\"pt\")\n",
    "\n",
    "with torch.no_grad():\n",
    "\n",
    "    outputs = model(**inputs)\n",
    "\n",
    "last_hidden_states = outputs.last_hidden_state\n",
    "\n",
    "list(last_hidden_states.shape)"
   ]
  },
  {
   "cell_type": "code",
   "execution_count": 40,
   "metadata": {},
   "outputs": [
    {
     "data": {
      "text/plain": [
       "(1, 1214, 768)"
      ]
     },
     "execution_count": 40,
     "metadata": {},
     "output_type": "execute_result"
    }
   ],
   "source": [
    "last_hidden_states.cpu().detach().numpy().shape"
   ]
  }
 ],
 "metadata": {
  "kernelspec": {
   "display_name": "ds2f_pre",
   "language": "python",
   "name": "python3"
  },
  "language_info": {
   "codemirror_mode": {
    "name": "ipython",
    "version": 3
   },
   "file_extension": ".py",
   "mimetype": "text/x-python",
   "name": "python",
   "nbconvert_exporter": "python",
   "pygments_lexer": "ipython3",
   "version": "3.8.16"
  },
  "orig_nbformat": 4
 },
 "nbformat": 4,
 "nbformat_minor": 2
}

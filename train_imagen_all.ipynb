{
 "cells": [
  {
   "cell_type": "code",
   "execution_count": 1,
   "metadata": {},
   "outputs": [
    {
     "name": "stdout",
     "output_type": "stream",
     "text": [
      "env: HSA_OVERRIDE_GFX_VERSION=10.3.0\n",
      "env: ROCM_PATH=/opt/rocm\n"
     ]
    }
   ],
   "source": [
    "%env HSA_OVERRIDE_GFX_VERSION=10.3.0\n",
    "%env ROCM_PATH=/opt/rocm\n"
   ]
  },
  {
   "cell_type": "code",
   "execution_count": 2,
   "metadata": {},
   "outputs": [],
   "source": [
    "from textwrap import wrap\n",
    "import os\n",
    "\n",
    "import matplotlib.pyplot as plt\n",
    "import numpy as np\n",
    "import pandas as pd\n",
    "\n",
    "#TODO document jupyter\n",
    "import pickle\n",
    "import configparser\n",
    "import sqlite3 as sl\n",
    "import pandas as pd\n",
    "import numpy as np\n",
    "\n",
    "configParser = configparser.RawConfigParser()   \n",
    "configFilePath = r'configuration.txt'\n",
    "configParser.read(configFilePath)\n",
    "datasetPathDatabase =  configParser.get('COMMON', 'datasetPathDatabase') + '/dataset.db'\n",
    "image_size =  int(configParser.get('COMMON', 'resizeImageTo'))\n",
    "audio_length_used =  configParser.get('train_imagen', 'audio_length_used') \n",
    "model_filename =  configParser.get('train_imagen', 'model_filename') + '_'  + audio_length_used +  's.pt'\n",
    "sub_epochs=  int(configParser.get('train_imagen', 'sub_epochs') )\n",
    "batch_size=  int(configParser.get('train_imagen', 'batch_size') )\n",
    "sample_every=  int(configParser.get('train_imagen', 'sample_every') ) - 1\n",
    "save_model_every=  int(configParser.get('train_imagen', 'save_model_every') ) - 1\n",
    "epochs=  int(configParser.get('train_imagen', 'epochs') )\n",
    "\n",
    "continue_from_epoch = int(configParser.get('train_imagen', 'continue_from_epoch'))\n",
    "continue_from_offset = int(configParser.get('train_imagen', 'continue_from_offset'))\n",
    "continue_from_epoch_and_offset_flag = int(configParser.get('train_imagen', 'continue_from_epoch_and_offset_flag'))\n",
    "db_chunk = int(configParser.get('train_imagen', 'db_chunk'))\n",
    "\n",
    "con = sl.connect(datasetPathDatabase)\n",
    "pd.set_option('display.max_columns', None)\n",
    "pd.options.mode.chained_assignment = None\n",
    "\n"
   ]
  },
  {
   "cell_type": "code",
   "execution_count": 3,
   "metadata": {},
   "outputs": [],
   "source": [
    "def speaker_emb_preprocess(speaker_emb2):\n",
    "\n",
    "    speaker_emb2 = pickle.loads(speaker_emb2)\n",
    "    speaker_emb2 = speaker_emb2.squeeze()\n",
    "    speaker_emb2 = np.pad(speaker_emb2, (288), 'constant', constant_values=(0))\n",
    "    speaker_emb2 = np.tile(speaker_emb2, (1, 1))\n",
    "    speaker_emb2 = speaker_emb2 / 200.0\n",
    "    speaker_emb2 = np.array(speaker_emb2).tolist()\n",
    "    return speaker_emb2\n",
    "\n",
    "\n",
    "def audio_emb_preprocess2(speaker_emb2):\n",
    "    speaker_emb2 = pickle.loads(speaker_emb2)\n",
    "    a = speaker_emb2 #np.zeros(shape=(24, 512))\n",
    "    b = np.zeros(shape=(a.shape[0], 768-a.shape[1]))\n",
    "    c = np.zeros(shape=(250-a.shape[0], 768))\n",
    "    arr = np.concatenate((a, b), axis=1)\n",
    "    arr = np.concatenate((arr, c), axis=0)\n",
    "    arr = arr / 10.0\n",
    "    speaker_emb2 = np.array(arr).tolist()\n",
    "    return speaker_emb2\n",
    "\n",
    "from PIL import Image\n",
    "def getImage(face_path):\n",
    "    im = Image.open(face_path)\n",
    "    im.load() # required for png.split()\n",
    "\n",
    "    im2 = Image.new(\"RGB\", im.size, (255, 255, 255))\n",
    "    im2.paste(im, mask=im.split()[3]) # 3 is the alpha channel\n",
    "    im3 = np.array(im2)\n",
    "    im4 = np.rollaxis(im3,2)\n",
    "    return im4"
   ]
  },
  {
   "cell_type": "code",
   "execution_count": 4,
   "metadata": {},
   "outputs": [],
   "source": [
    "import random\n",
    "def process_gender(gender):\n",
    "    if(random.random() < 0.2):\n",
    "        return np.zeros(768)\n",
    "    elif(gender == 'man'):\n",
    "        return np.ones(768)\n",
    "    elif(gender == \"woman\"):\n",
    "        return np.ones(768) * -1\n",
    "    else:\n",
    "        return np.zeros(768)\n",
    "    \n",
    "# TODO\n",
    "def process_ethnicity(eth):\n",
    "    x = np.zeros(768)\n",
    "    if(random.random() < 0.2):\n",
    "        x = x\n",
    "    elif(eth == \"indian\"):\n",
    "        x[0] = 1\n",
    "    elif(eth == \"asian\"):\n",
    "        x[16]=1\n",
    "    elif(eth == \"latino hispanic\"):\n",
    "        x[2]=1\n",
    "    elif(eth == \"black\"):\n",
    "        x[3]=1\n",
    "    elif(eth == \"middle eastern\"):\n",
    "        x[4]=1\n",
    "    elif(eth == \"white\"):\n",
    "        x[5]=1 \n",
    "    else:\n",
    "        x = x\n",
    "    return x     \n",
    "\n",
    "def process_language(lan):\n",
    "    x = np.zeros(768)\n",
    "    if(random.random() < 0.2):\n",
    "        x = x\n",
    "    elif(lan == \"Arabic\"):\n",
    "        x[0] = 1\n",
    "    elif(lan == \"Portuguese\"):\n",
    "        x[16]=1\n",
    "    elif(lan == \"Romansh_Sursilvan\"):\n",
    "        x[2]=1\n",
    "    elif(lan == \"Japanese\"):\n",
    "        x[3]=1\n",
    "    elif(lan == \"Ukranian\"):\n",
    "        x[4]=1\n",
    "    elif(lan == \"German\"):\n",
    "        x[5]=1   \n",
    "    elif(lan == \"Chinese_China\"):\n",
    "        x[6]=1   \n",
    "    elif(lan == \"Welsh\"):\n",
    "        x[7]=1  \n",
    "    elif(lan == \"English\"):\n",
    "        x[8]=1\n",
    "    elif(lan == \"Kabyle\"):\n",
    "        x[9]=1 \n",
    "    elif(lan == \"Kyrgyz\"):\n",
    "        x[10]=1\n",
    "    elif(lan == \"Georgian\"):\n",
    "        x[11]=1\n",
    "    elif(lan == \"Persian\"):\n",
    "        x[12]=1 \n",
    "    elif(lan == \"French\"):\n",
    "        x[13]=1\n",
    "    elif(lan == \"Interlingua\"):\n",
    "        x[14]=1\n",
    "    elif(lan == \"Swedish\"):\n",
    "        x[15]=1\n",
    "    elif(lan == \"Spanish\"):\n",
    "        x[16]=1 \n",
    "    elif(lan == \"Dhivehi\"):\n",
    "        x[17]=1\n",
    "    elif(lan == \"Kinyarwanda\"):\n",
    "        x[18]=1 \n",
    "    elif(lan == \"Tatar\"):\n",
    "        x[19]=1\n",
    "    elif(lan == \"Hakha_Chin\"):\n",
    "        x[20]=1 \n",
    "    elif(lan == \"Tamil\"):\n",
    "        x[21]=1 \n",
    "    elif(lan == \"Greek\"):\n",
    "        x[22]=1\n",
    "    elif(lan == \"Latvian\"):\n",
    "        x[23]=1 \n",
    "    elif(lan == \"Russian\"):\n",
    "        x[24]=1\n",
    "    elif(lan == \"Breton\"):\n",
    "        x[25]=1\n",
    "    elif(lan == \"Catalan\"):\n",
    "        x[26]=1    \n",
    "    elif(lan == \"Maltese\"):\n",
    "        x[27]=1 \n",
    "    elif(lan == \"Slovenian\"):\n",
    "        x[28]=1    \n",
    "    elif(lan == \"Indonesian\"):\n",
    "        x[29]=1    \n",
    "    elif(lan == \"Dutch\"):\n",
    "        x[30]=1\n",
    "    elif(lan == \"Chinese_Taiwan\"):\n",
    "        x[31]=1 \n",
    "    elif(lan == \"Sakha\"):\n",
    "        x[32]=1 \n",
    "    elif(lan == \"Polish\"):\n",
    "        x[33]=1 \n",
    "    elif(lan == \"Czech\"):\n",
    "        x[34]=1 \n",
    "    elif(lan == \"Romanian\"):\n",
    "        x[35]=1 \n",
    "    elif(lan == \"Mangolian\"):\n",
    "        x[36]=1 \n",
    "    elif(lan == \"Italian\"):\n",
    "        x[37]=1 \n",
    "    elif(lan == \"Chinese_Hongkong\"):\n",
    "        x[38]=1 \n",
    "    elif(lan == \"Estonian\"):\n",
    "        x[39]=1 \n",
    "    elif(lan == \"Basque\"):\n",
    "        x[40]=1 \n",
    "    elif(lan == \"Esperanto\"):\n",
    "        x[41]=1 \n",
    "    elif(lan == \"Frisian\"):\n",
    "        x[42]=1 \n",
    "    elif(lan == \"Turkish\"):\n",
    "        x[43]=1 \n",
    "    elif(lan == \"Chuvash\"):\n",
    "        x[44]=1 \n",
    "    else:\n",
    "        x = x\n",
    "    return x       "
   ]
  },
  {
   "cell_type": "code",
   "execution_count": 5,
   "metadata": {},
   "outputs": [],
   "source": [
    "#TODO add age\n",
    "def process_input(ethnicity,gender,language,speaker_emb,audio_emb):\n",
    "    speaker_emb = np.asarray(speaker_emb, dtype=np.float32)\n",
    "    speaker_emb = speaker_emb.squeeze()\n",
    "    audio_emb = np.asarray(audio_emb, dtype=np.float32)\n",
    "    audio_emb = audio_emb.squeeze()\n",
    "    #print(speaker_emb.shape)\n",
    "    h = np.vstack((ethnicity, gender))\n",
    "    h = np.vstack((h, language))\n",
    "    h = np.vstack((h, speaker_emb))\n",
    "    h = np.vstack((h, audio_emb))\n",
    "\n",
    "    j = np.zeros(768)\n",
    "    j = np.tile(j,(256-h.shape[0],1))\n",
    "    h = np.vstack((h, j))\n",
    "    #print(h.shape)\n",
    "    return h.tolist()\n",
    "\n",
    "from PIL import Image\n",
    "def process_image_path(path):\n",
    "    \n",
    "    image = Image.open(path).convert('RGB')\n",
    "    \n",
    "    pix = np.array(image,np.float32)\n",
    "    pix = np.moveaxis(pix, -1, 0)\n",
    "    \n",
    "    pix = pix / 255\n",
    "    return pix.tolist()"
   ]
  },
  {
   "cell_type": "code",
   "execution_count": null,
   "metadata": {},
   "outputs": [
    {
     "name": "stderr",
     "output_type": "stream",
     "text": [
      "/home/gamal/anaconda3/envs/ds2f_m_i/lib/python3.8/site-packages/tqdm/auto.py:21: TqdmWarning: IProgress not found. Please update jupyter and ipywidgets. See https://ipywidgets.readthedocs.io/en/stable/user_install.html\n",
      "  from .autonotebook import tqdm as notebook_tqdm\n"
     ]
    },
    {
     "name": "stdout",
     "output_type": "stream",
     "text": [
      "Training in epoch 1\n",
      "Training in offset 0\n",
      "Training Unet No. 1\n"
     ]
    },
    {
     "name": "stderr",
     "output_type": "stream",
     "text": [
      "2023-05-29 10:02:44.412954: I tensorflow/core/platform/cpu_feature_guard.cc:193] This TensorFlow binary is optimized with oneAPI Deep Neural Network Library (oneDNN) to use the following CPU instructions in performance-critical operations:  SSE4.1 SSE4.2 AVX AVX2 AVX_VNNI FMA\n",
      "To enable them in other operations, rebuild TensorFlow with the appropriate compiler flags.\n",
      "2023-05-29 10:02:44.654442: I tensorflow/core/util/port.cc:104] oneDNN custom operations are on. You may see slightly different numerical results due to floating-point round-off errors from different computation orders. To turn them off, set the environment variable `TF_ENABLE_ONEDNN_OPTS=0`.\n"
     ]
    },
    {
     "name": "stdout",
     "output_type": "stream",
     "text": [
      "The base dimension of your u-net should ideally be no smaller than 128, as recommended by a professional DDPM trainer https://nonint.com/2022/05/04/friends-dont-let-friends-train-small-diffusion-models/\n",
      "training with dataset of 975 samples and validating with randomly splitted 25 samples\n",
      "valid loss: 0.3891371190547943\n",
      "unet 2 has not been trained\n",
      "when sampling, you can pass stop_at_unet_number to stop early in the cascade, so it does not try to generate with untrained unets\n"
     ]
    },
    {
     "name": "stderr",
     "output_type": "stream",
     "text": [
      "sampling loop time step: 100%|██████████| 1000/1000 [00:48<00:00, 20.83it/s]\n",
      "0it [00:48, ?it/s]\n"
     ]
    },
    {
     "name": "stdout",
     "output_type": "stream",
     "text": [
      "checkpoint saved to imagen_two_unets_24s.pt\n",
      "valid loss: 0.2543244957923889\n",
      "valid loss: 0.06447862833738327\n",
      "valid loss: 0.15998338162899017\n",
      "valid loss: 0.036453913897275925\n",
      "valid loss: 0.054477132856845856\n",
      "valid loss: 0.03573376312851906\n",
      "valid loss: 0.05886620283126831\n",
      "valid loss: 0.05402786657214165\n",
      "valid loss: 0.040450554341077805\n",
      "valid loss: 0.03463262319564819\n",
      "valid loss: 0.02409813180565834\n",
      "valid loss: 0.019666103646159172\n",
      "valid loss: 0.02213306538760662\n",
      "valid loss: 0.023678231984376907\n",
      "valid loss: 0.02285417541861534\n",
      "valid loss: 0.019883031025528908\n",
      "valid loss: 0.020458677783608437\n",
      "valid loss: 0.026252586394548416\n",
      "valid loss: 0.02275071106851101\n",
      "unet 2 has not been trained\n",
      "when sampling, you can pass stop_at_unet_number to stop early in the cascade, so it does not try to generate with untrained unets\n"
     ]
    },
    {
     "name": "stderr",
     "output_type": "stream",
     "text": [
      "sampling loop time step: 100%|██████████| 1000/1000 [00:49<00:00, 20.09it/s]\n",
      "0it [00:49, ?it/s]\n"
     ]
    },
    {
     "name": "stdout",
     "output_type": "stream",
     "text": [
      "valid loss: 0.020509880036115646\n",
      "valid loss: 0.02117871306836605\n",
      "valid loss: 0.014328350313007832\n",
      "valid loss: 0.023072345182299614\n",
      "valid loss: 0.016899079084396362\n",
      "valid loss: 0.018882114440202713\n",
      "valid loss: 0.022858453914523125\n",
      "valid loss: 0.01632832922041416\n",
      "valid loss: 0.02163705602288246\n",
      "valid loss: 0.018583331257104874\n",
      "valid loss: 0.014947894029319286\n",
      "valid loss: 0.018120355904102325\n",
      "valid loss: 0.0145344203338027\n",
      "valid loss: 0.020027536898851395\n",
      "valid loss: 0.013471423648297787\n",
      "valid loss: 0.012844473123550415\n",
      "valid loss: 0.01229296624660492\n",
      "valid loss: 0.010675760917365551\n",
      "valid loss: 0.020008375868201256\n",
      "valid loss: 0.013393387198448181\n",
      "unet 2 has not been trained\n",
      "when sampling, you can pass stop_at_unet_number to stop early in the cascade, so it does not try to generate with untrained unets\n"
     ]
    },
    {
     "name": "stderr",
     "output_type": "stream",
     "text": [
      "sampling loop time step: 100%|██████████| 1000/1000 [00:39<00:00, 25.18it/s]\n",
      "0it [00:39, ?it/s]\n"
     ]
    },
    {
     "name": "stdout",
     "output_type": "stream",
     "text": [
      "valid loss: 0.012072809971868992\n",
      "valid loss: 0.016208970919251442\n",
      "valid loss: 0.00856966432183981\n",
      "valid loss: 0.017524152994155884\n",
      "valid loss: 0.011353912763297558\n",
      "valid loss: 0.009523238055408001\n",
      "valid loss: 0.013955935835838318\n",
      "valid loss: 0.010137384757399559\n",
      "valid loss: 0.015466727316379547\n",
      "valid loss: 0.008461196906864643\n",
      "valid loss: 0.010242508724331856\n",
      "valid loss: 0.008072711527347565\n",
      "valid loss: 0.009068849496543407\n",
      "valid loss: 0.009601830504834652\n",
      "valid loss: 0.009030766785144806\n",
      "valid loss: 0.00911314133554697\n",
      "valid loss: 0.01313907839357853\n",
      "valid loss: 0.007007093634456396\n",
      "valid loss: 0.009306075051426888\n",
      "valid loss: 0.010007055476307869\n",
      "unet 2 has not been trained\n",
      "when sampling, you can pass stop_at_unet_number to stop early in the cascade, so it does not try to generate with untrained unets\n"
     ]
    },
    {
     "name": "stderr",
     "output_type": "stream",
     "text": [
      "sampling loop time step: 100%|██████████| 1000/1000 [00:45<00:00, 21.92it/s]\n",
      "0it [00:45, ?it/s]\n"
     ]
    },
    {
     "name": "stdout",
     "output_type": "stream",
     "text": [
      "valid loss: 0.009721084497869015\n",
      "valid loss: 0.00600834283977747\n",
      "valid loss: 0.006445742677897215\n",
      "valid loss: 0.01359113771468401\n",
      "valid loss: 0.00811461266130209\n",
      "valid loss: 0.00855631846934557\n",
      "valid loss: 0.012333860620856285\n",
      "valid loss: 0.008832008577883244\n",
      "valid loss: 0.006313313730061054\n",
      "valid loss: 0.007794629782438278\n",
      "valid loss: 0.005387544631958008\n",
      "valid loss: 0.008430096320807934\n",
      "valid loss: 0.002790815196931362\n",
      "valid loss: 0.01158077921718359\n",
      "valid loss: 0.01081536989659071\n",
      "valid loss: 0.0079592764377594\n",
      "valid loss: 0.00910022109746933\n",
      "valid loss: 0.007288520224392414\n",
      "valid loss: 0.00862449686974287\n",
      "valid loss: 0.00745846051722765\n",
      "unet 2 has not been trained\n",
      "when sampling, you can pass stop_at_unet_number to stop early in the cascade, so it does not try to generate with untrained unets\n"
     ]
    },
    {
     "name": "stderr",
     "output_type": "stream",
     "text": [
      "sampling loop time step: 100%|██████████| 1000/1000 [00:48<00:00, 20.76it/s]\n",
      "0it [00:48, ?it/s]\n"
     ]
    },
    {
     "name": "stdout",
     "output_type": "stream",
     "text": [
      "valid loss: 0.006202549673616886\n",
      "valid loss: 0.010790250264108181\n",
      "valid loss: 0.008483140729367733\n",
      "valid loss: 0.012363786809146404\n",
      "valid loss: 0.006213061511516571\n",
      "valid loss: 0.005668238736689091\n",
      "valid loss: 0.009470432065427303\n",
      "valid loss: 0.005093584768474102\n",
      "valid loss: 0.011751674115657806\n",
      "valid loss: 0.010045419447124004\n",
      "valid loss: 0.004608652088791132\n",
      "valid loss: 0.00975386705249548\n",
      "valid loss: 0.004335814621299505\n",
      "valid loss: 0.00993011798709631\n",
      "valid loss: 0.008410741575062275\n",
      "valid loss: 0.005480055697262287\n",
      "valid loss: 0.010018798522651196\n",
      "valid loss: 0.006615058984607458\n",
      "valid loss: 0.009657257236540318\n",
      "valid loss: 0.00675449101254344\n",
      "unet 2 has not been trained\n",
      "when sampling, you can pass stop_at_unet_number to stop early in the cascade, so it does not try to generate with untrained unets\n"
     ]
    },
    {
     "name": "stderr",
     "output_type": "stream",
     "text": [
      "sampling loop time step: 100%|██████████| 1000/1000 [00:44<00:00, 22.22it/s]\n",
      "0it [00:45, ?it/s]\n"
     ]
    },
    {
     "name": "stdout",
     "output_type": "stream",
     "text": [
      "valid loss: 0.00642593577504158\n",
      "valid loss: 0.007435027044266462\n",
      "valid loss: 0.006391589995473623\n",
      "valid loss: 0.008599533699452877\n",
      "valid loss: 0.005195121746510267\n",
      "valid loss: 0.0056032720021903515\n",
      "valid loss: 0.009496055543422699\n",
      "valid loss: 0.006817270070314407\n",
      "valid loss: 0.010386916808784008\n",
      "valid loss: 0.007645599544048309\n",
      "valid loss: 0.0038466956466436386\n",
      "valid loss: 0.009328744374215603\n",
      "valid loss: 0.007110488601028919\n",
      "valid loss: 0.01191024947911501\n",
      "valid loss: 0.0083148879930377\n",
      "valid loss: 0.00669734925031662\n",
      "valid loss: 0.007195673882961273\n",
      "valid loss: 0.00469167297706008\n",
      "valid loss: 0.007374861743301153\n",
      "valid loss: 0.008500120602548122\n",
      "unet 2 has not been trained\n",
      "when sampling, you can pass stop_at_unet_number to stop early in the cascade, so it does not try to generate with untrained unets\n"
     ]
    },
    {
     "name": "stderr",
     "output_type": "stream",
     "text": [
      "sampling loop time step: 100%|██████████| 1000/1000 [00:39<00:00, 25.47it/s]\n",
      "0it [00:39, ?it/s]\n"
     ]
    },
    {
     "name": "stdout",
     "output_type": "stream",
     "text": [
      "valid loss: 0.005373069085180759\n",
      "valid loss: 0.007639619987457991\n",
      "valid loss: 0.0058811018243432045\n",
      "valid loss: 0.00901543628424406\n",
      "valid loss: 0.00682677561417222\n",
      "valid loss: 0.004656483419239521\n",
      "valid loss: 0.007257204037159681\n",
      "valid loss: 0.005464732646942139\n",
      "valid loss: 0.00977238267660141\n",
      "valid loss: 0.005594031419605017\n",
      "valid loss: 0.003983765374869108\n",
      "valid loss: 0.007964836433529854\n",
      "valid loss: 0.003510687267407775\n",
      "valid loss: 0.008823463693261147\n",
      "valid loss: 0.009196844883263111\n",
      "valid loss: 0.006358177866786718\n",
      "valid loss: 0.005899365525692701\n",
      "valid loss: 0.0062963091768324375\n",
      "valid loss: 0.006845247931778431\n",
      "valid loss: 0.006446675397455692\n",
      "unet 2 has not been trained\n",
      "when sampling, you can pass stop_at_unet_number to stop early in the cascade, so it does not try to generate with untrained unets\n"
     ]
    },
    {
     "name": "stderr",
     "output_type": "stream",
     "text": [
      "sampling loop time step: 100%|██████████| 1000/1000 [00:39<00:00, 25.64it/s]\n",
      "0it [00:39, ?it/s]\n"
     ]
    },
    {
     "name": "stdout",
     "output_type": "stream",
     "text": [
      "valid loss: 0.00772020174190402\n",
      "valid loss: 0.00791101437062025\n",
      "valid loss: 0.004157820716500282\n",
      "valid loss: 0.00801832415163517\n",
      "valid loss: 0.006585156079381704\n",
      "valid loss: 0.003751336829736829\n",
      "valid loss: 0.009115665219724178\n",
      "valid loss: 0.004114388022571802\n",
      "valid loss: 0.007633686065673828\n",
      "valid loss: 0.007197733968496323\n",
      "valid loss: 0.004269130527973175\n",
      "valid loss: 0.0066002532839775085\n",
      "valid loss: 0.004592688288539648\n",
      "valid loss: 0.009788990020751953\n",
      "valid loss: 0.0037871592212468386\n",
      "valid loss: 0.005172679666429758\n",
      "valid loss: 0.005960770882666111\n",
      "valid loss: 0.002866522641852498\n",
      "valid loss: 0.008792994543910027\n",
      "valid loss: 0.0052202907390892506\n",
      "unet 2 has not been trained\n",
      "when sampling, you can pass stop_at_unet_number to stop early in the cascade, so it does not try to generate with untrained unets\n"
     ]
    },
    {
     "name": "stderr",
     "output_type": "stream",
     "text": [
      "sampling loop time step: 100%|██████████| 1000/1000 [00:39<00:00, 25.55it/s]\n",
      "0it [00:39, ?it/s]\n"
     ]
    },
    {
     "name": "stdout",
     "output_type": "stream",
     "text": [
      "valid loss: 0.00546037033200264\n",
      "valid loss: 0.007659864611923695\n",
      "valid loss: 0.00511659262701869\n",
      "valid loss: 0.00621434673666954\n",
      "valid loss: 0.007904489524662495\n",
      "valid loss: 0.005208795890212059\n",
      "valid loss: 0.007503500673919916\n",
      "valid loss: 0.004236615262925625\n",
      "valid loss: 0.00838144589215517\n",
      "valid loss: 0.005477188620716333\n",
      "valid loss: 0.0066963559947907925\n",
      "valid loss: 0.006108559668064117\n",
      "valid loss: 0.004544887226074934\n",
      "valid loss: 0.005518184043467045\n",
      "valid loss: 0.008452284149825573\n",
      "valid loss: 0.0039927843026816845\n",
      "valid loss: 0.0026031166780740023\n",
      "valid loss: 0.004706013482064009\n",
      "valid loss: 0.007000885903835297\n",
      "valid loss: 0.008126816712319851\n",
      "unet 2 has not been trained\n",
      "when sampling, you can pass stop_at_unet_number to stop early in the cascade, so it does not try to generate with untrained unets\n"
     ]
    },
    {
     "name": "stderr",
     "output_type": "stream",
     "text": [
      "sampling loop time step: 100%|██████████| 1000/1000 [00:39<00:00, 25.50it/s]\n",
      "0it [00:39, ?it/s]\n"
     ]
    },
    {
     "name": "stdout",
     "output_type": "stream",
     "text": [
      "valid loss: 0.005127099808305502\n",
      "valid loss: 0.005583592690527439\n",
      "valid loss: 0.0020399894565343857\n",
      "valid loss: 0.006974907126277685\n",
      "valid loss: 0.008809690363705158\n",
      "valid loss: 0.0038068839348852634\n",
      "valid loss: 0.0042213802225887775\n",
      "valid loss: 0.0027861776761710644\n",
      "valid loss: 0.010470437817275524\n",
      "valid loss: 0.006864666938781738\n",
      "valid loss: 0.0034580689389258623\n",
      "valid loss: 0.0065537854097783566\n",
      "valid loss: 0.0035679207649081945\n",
      "valid loss: 0.00739654153585434\n",
      "valid loss: 0.006513823755085468\n",
      "valid loss: 0.004586127586662769\n",
      "valid loss: 0.008333833888173103\n",
      "valid loss: 0.004175384528934956\n",
      "valid loss: 0.0066811563447117805\n",
      "valid loss: 0.006009380333125591\n",
      "unet 2 has not been trained\n",
      "when sampling, you can pass stop_at_unet_number to stop early in the cascade, so it does not try to generate with untrained unets\n"
     ]
    },
    {
     "name": "stderr",
     "output_type": "stream",
     "text": [
      "sampling loop time step: 100%|██████████| 1000/1000 [00:40<00:00, 24.44it/s]\n",
      "0it [00:41, ?it/s]\n"
     ]
    },
    {
     "name": "stdout",
     "output_type": "stream",
     "text": [
      "checkpoint saved to imagen_two_unets_24s.pt\n",
      "valid loss: 0.003190948162227869\n",
      "valid loss: 0.004620830994099379\n",
      "valid loss: 0.0038663402665406466\n",
      "valid loss: 0.00857212208211422\n",
      "valid loss: 0.007263661362230778\n",
      "valid loss: 0.00459773326292634\n",
      "valid loss: 0.0058495341800153255\n",
      "valid loss: 0.004806817509233952\n",
      "valid loss: 0.006487388163805008\n",
      "valid loss: 0.0047182985581457615\n",
      "valid loss: 0.0067859129048883915\n",
      "valid loss: 0.005218944046646357\n",
      "valid loss: 0.002261386252939701\n",
      "valid loss: 0.005329435225576162\n",
      "valid loss: 0.006759905721992254\n",
      "valid loss: 0.005063430871814489\n",
      "valid loss: 0.005827638320624828\n",
      "valid loss: 0.004408302716910839\n",
      "valid loss: 0.006252015475183725\n",
      "valid loss: 0.004411484580487013\n",
      "unet 2 has not been trained\n",
      "when sampling, you can pass stop_at_unet_number to stop early in the cascade, so it does not try to generate with untrained unets\n"
     ]
    },
    {
     "name": "stderr",
     "output_type": "stream",
     "text": [
      "sampling loop time step: 100%|██████████| 1000/1000 [00:49<00:00, 20.30it/s]\n",
      "0it [00:49, ?it/s]\n"
     ]
    },
    {
     "name": "stdout",
     "output_type": "stream",
     "text": [
      "valid loss: 0.006041982676833868\n",
      "valid loss: 0.008196547627449036\n",
      "valid loss: 0.0032660861033946276\n",
      "valid loss: 0.0061682346276938915\n",
      "valid loss: 0.00482350867241621\n",
      "valid loss: 0.004625601228326559\n",
      "valid loss: 0.007757183164358139\n",
      "valid loss: 0.004706293344497681\n",
      "valid loss: 0.0037859349977225065\n",
      "valid loss: 0.006870472338050604\n",
      "valid loss: 0.004874181933701038\n",
      "valid loss: 0.005619576666504145\n",
      "valid loss: 0.001813413924537599\n",
      "valid loss: 0.004257705993950367\n",
      "valid loss: 0.004204307217150927\n",
      "valid loss: 0.0030819016974419355\n",
      "valid loss: 0.004498619586229324\n",
      "valid loss: 0.0031855986453592777\n",
      "valid loss: 0.008317030034959316\n",
      "valid loss: 0.002690661698579788\n",
      "unet 2 has not been trained\n",
      "when sampling, you can pass stop_at_unet_number to stop early in the cascade, so it does not try to generate with untrained unets\n"
     ]
    },
    {
     "name": "stderr",
     "output_type": "stream",
     "text": [
      "sampling loop time step: 100%|██████████| 1000/1000 [00:38<00:00, 25.68it/s]\n",
      "0it [00:39, ?it/s]\n"
     ]
    },
    {
     "name": "stdout",
     "output_type": "stream",
     "text": [
      "valid loss: 0.004098967649042606\n",
      "valid loss: 0.00532515486702323\n",
      "valid loss: 0.004282071255147457\n",
      "valid loss: 0.008055171929299831\n",
      "valid loss: 0.005562507547438145\n",
      "valid loss: 0.004706504754722118\n",
      "valid loss: 0.005506107117980719\n",
      "valid loss: 0.004132145084440708\n",
      "valid loss: 0.0051800841465592384\n",
      "valid loss: 0.005468638148158789\n",
      "valid loss: 0.004782877862453461\n",
      "valid loss: 0.006012212950736284\n",
      "valid loss: 0.00289747747592628\n",
      "valid loss: 0.00668308837339282\n",
      "valid loss: 0.006512213498353958\n",
      "valid loss: 0.002711611334234476\n",
      "valid loss: 0.005979127716273069\n",
      "valid loss: 0.003144334303215146\n",
      "valid loss: 0.007214286830276251\n",
      "valid loss: 0.00518976291641593\n",
      "unet 2 has not been trained\n",
      "when sampling, you can pass stop_at_unet_number to stop early in the cascade, so it does not try to generate with untrained unets\n"
     ]
    },
    {
     "name": "stderr",
     "output_type": "stream",
     "text": [
      "sampling loop time step: 100%|██████████| 1000/1000 [00:39<00:00, 25.49it/s]\n",
      "0it [00:39, ?it/s]\n"
     ]
    },
    {
     "name": "stdout",
     "output_type": "stream",
     "text": [
      "valid loss: 0.004148624371737242\n",
      "valid loss: 0.007126066833734512\n",
      "valid loss: 0.004805973265320063\n",
      "valid loss: 0.003983828704804182\n",
      "valid loss: 0.005578095093369484\n",
      "valid loss: 0.004073845688253641\n",
      "valid loss: 0.003337112022563815\n",
      "valid loss: 0.002962017199024558\n",
      "valid loss: 0.003119580913335085\n",
      "valid loss: 0.0073488191701471806\n",
      "valid loss: 0.003196449251845479\n",
      "valid loss: 0.006535612046718597\n",
      "valid loss: 0.0022045597434043884\n",
      "valid loss: 0.005271050613373518\n",
      "valid loss: 0.003503978718072176\n",
      "valid loss: 0.0028196752537041903\n",
      "valid loss: 0.00745315570384264\n",
      "valid loss: 0.004905323963612318\n",
      "valid loss: 0.004150037653744221\n",
      "valid loss: 0.007106468081474304\n",
      "unet 2 has not been trained\n",
      "when sampling, you can pass stop_at_unet_number to stop early in the cascade, so it does not try to generate with untrained unets\n"
     ]
    },
    {
     "name": "stderr",
     "output_type": "stream",
     "text": [
      "sampling loop time step: 100%|██████████| 1000/1000 [00:47<00:00, 20.84it/s]\n",
      "0it [00:48, ?it/s]\n"
     ]
    },
    {
     "name": "stdout",
     "output_type": "stream",
     "text": [
      "valid loss: 0.004218466579914093\n",
      "valid loss: 0.005288765765726566\n",
      "valid loss: 0.004605968948453665\n",
      "valid loss: 0.0038053803145885468\n",
      "valid loss: 0.005572016816586256\n",
      "valid loss: 0.00426994264125824\n",
      "valid loss: 0.0033781290985643864\n",
      "valid loss: 0.003610102226957679\n",
      "valid loss: 0.005608602426946163\n",
      "valid loss: 0.006376810371875763\n",
      "valid loss: 0.005418167915195227\n",
      "valid loss: 0.00530726695433259\n",
      "valid loss: 0.0038169987965375185\n",
      "valid loss: 0.0064043463207781315\n",
      "valid loss: 0.007902663201093674\n",
      "valid loss: 0.0042716884054243565\n",
      "valid loss: 0.006886524613946676\n",
      "valid loss: 0.004424214828759432\n",
      "valid loss: 0.00801771879196167\n",
      "valid loss: 0.00457262247800827\n",
      "unet 2 has not been trained\n",
      "when sampling, you can pass stop_at_unet_number to stop early in the cascade, so it does not try to generate with untrained unets\n"
     ]
    },
    {
     "name": "stderr",
     "output_type": "stream",
     "text": [
      "sampling loop time step: 100%|██████████| 1000/1000 [00:46<00:00, 21.49it/s]\n",
      "0it [00:46, ?it/s]\n"
     ]
    },
    {
     "name": "stdout",
     "output_type": "stream",
     "text": [
      "valid loss: 0.0035399466287344694\n",
      "valid loss: 0.007506169378757477\n",
      "valid loss: 0.0032688062638044357\n",
      "valid loss: 0.006783136632293463\n",
      "valid loss: 0.005834849551320076\n",
      "valid loss: 0.005078270100057125\n",
      "valid loss: 0.0062544094398617744\n",
      "valid loss: 0.0039757899940013885\n",
      "valid loss: 0.0037379448767751455\n",
      "valid loss: 0.0058677527122199535\n",
      "valid loss: 0.004432899411767721\n",
      "valid loss: 0.004165295511484146\n",
      "valid loss: 0.004163701087236404\n",
      "valid loss: 0.008033323101699352\n",
      "valid loss: 0.006906627211719751\n",
      "valid loss: 0.005042100790888071\n",
      "valid loss: 0.004643613006919622\n",
      "valid loss: 0.004305215086787939\n",
      "valid loss: 0.005600166041404009\n",
      "valid loss: 0.005312697496265173\n",
      "unet 2 has not been trained\n",
      "when sampling, you can pass stop_at_unet_number to stop early in the cascade, so it does not try to generate with untrained unets\n"
     ]
    },
    {
     "name": "stderr",
     "output_type": "stream",
     "text": [
      "sampling loop time step: 100%|██████████| 1000/1000 [00:39<00:00, 25.35it/s]\n",
      "0it [00:39, ?it/s]\n"
     ]
    },
    {
     "name": "stdout",
     "output_type": "stream",
     "text": [
      "valid loss: 0.005887497216463089\n",
      "valid loss: 0.005387864541262388\n",
      "valid loss: 0.002511344151571393\n",
      "valid loss: 0.00343851069919765\n",
      "valid loss: 0.006870690733194351\n",
      "valid loss: 0.005226194858551025\n",
      "valid loss: 0.006284666713327169\n",
      "valid loss: 0.0036470522172749043\n",
      "valid loss: 0.004106323700398207\n",
      "valid loss: 0.004943139385432005\n",
      "valid loss: 0.004171017557382584\n",
      "valid loss: 0.006065969821065664\n",
      "valid loss: 0.0030950650107115507\n",
      "valid loss: 0.007583805359899998\n",
      "valid loss: 0.0035298371221870184\n",
      "valid loss: 0.004602890461683273\n",
      "valid loss: 0.003673168597742915\n",
      "valid loss: 0.0024486894253641367\n",
      "valid loss: 0.005623050034046173\n",
      "valid loss: 0.005770545918494463\n",
      "unet 2 has not been trained\n",
      "when sampling, you can pass stop_at_unet_number to stop early in the cascade, so it does not try to generate with untrained unets\n"
     ]
    },
    {
     "name": "stderr",
     "output_type": "stream",
     "text": [
      "sampling loop time step: 100%|██████████| 1000/1000 [00:46<00:00, 21.35it/s]\n",
      "0it [00:47, ?it/s]\n"
     ]
    },
    {
     "name": "stdout",
     "output_type": "stream",
     "text": [
      "valid loss: 0.004425719380378723\n",
      "valid loss: 0.005646036006510258\n",
      "valid loss: 0.004157230257987976\n",
      "valid loss: 0.006815698929131031\n",
      "valid loss: 0.005864267703145742\n",
      "valid loss: 0.0034503948409110308\n",
      "valid loss: 0.00526288291439414\n",
      "valid loss: 0.004189676139503717\n",
      "valid loss: 0.006373922806233168\n",
      "valid loss: 0.003682289971038699\n",
      "valid loss: 0.004872113931924105\n",
      "valid loss: 0.0041479188948869705\n",
      "valid loss: 0.003136751940473914\n",
      "valid loss: 0.005503017455339432\n",
      "valid loss: 0.003370958613231778\n",
      "valid loss: 0.0031847574282437563\n",
      "valid loss: 0.004809497855603695\n",
      "valid loss: 0.003327591111883521\n",
      "valid loss: 0.006957364268600941\n",
      "valid loss: 0.003533327952027321\n",
      "unet 2 has not been trained\n",
      "when sampling, you can pass stop_at_unet_number to stop early in the cascade, so it does not try to generate with untrained unets\n"
     ]
    },
    {
     "name": "stderr",
     "output_type": "stream",
     "text": [
      "sampling loop time step: 100%|██████████| 1000/1000 [00:46<00:00, 21.63it/s]\n",
      "0it [00:46, ?it/s]\n"
     ]
    },
    {
     "name": "stdout",
     "output_type": "stream",
     "text": [
      "valid loss: 0.002134036971256137\n",
      "valid loss: 0.006323107983916998\n",
      "valid loss: 0.0029069860465824604\n",
      "valid loss: 0.0018813383067026734\n",
      "valid loss: 0.0056771631352603436\n",
      "valid loss: 0.0019448001403361559\n",
      "valid loss: 0.007191361393779516\n",
      "valid loss: 0.0031998232007026672\n",
      "valid loss: 0.0049893902614712715\n",
      "valid loss: 0.005772509146481752\n",
      "valid loss: 0.004669893067330122\n",
      "valid loss: 0.005704776383936405\n",
      "valid loss: 0.003973118960857391\n",
      "valid loss: 0.005731584969907999\n",
      "valid loss: 0.005712767131626606\n",
      "valid loss: 0.004421216435730457\n",
      "valid loss: 0.003797464771196246\n",
      "valid loss: 0.00222259433940053\n",
      "valid loss: 0.004925805144011974\n",
      "valid loss: 0.005329156760126352\n",
      "unet 2 has not been trained\n",
      "when sampling, you can pass stop_at_unet_number to stop early in the cascade, so it does not try to generate with untrained unets\n"
     ]
    },
    {
     "name": "stderr",
     "output_type": "stream",
     "text": [
      "sampling loop time step: 100%|██████████| 1000/1000 [00:39<00:00, 25.04it/s]\n",
      "0it [00:40, ?it/s]\n"
     ]
    },
    {
     "name": "stdout",
     "output_type": "stream",
     "text": [
      "valid loss: 0.004400197416543961\n",
      "valid loss: 0.004526290576905012\n",
      "valid loss: 0.003550967900082469\n",
      "valid loss: 0.0071559324860572815\n",
      "valid loss: 0.0052633751183748245\n",
      "valid loss: 0.00467043137177825\n",
      "valid loss: 0.004906769376248121\n",
      "valid loss: 0.0037058801390230656\n",
      "valid loss: 0.005472972989082336\n",
      "valid loss: 0.005630858708173037\n",
      "valid loss: 0.005414657294750214\n",
      "valid loss: 0.0031725973822176456\n",
      "valid loss: 0.0035396770108491182\n",
      "valid loss: 0.00631884578615427\n",
      "valid loss: 0.006041388958692551\n",
      "valid loss: 0.003991666715592146\n",
      "valid loss: 0.0064643071964383125\n",
      "valid loss: 0.003566053230315447\n",
      "valid loss: 0.007056412287056446\n",
      "valid loss: 0.004404015373438597\n",
      "unet 2 has not been trained\n",
      "when sampling, you can pass stop_at_unet_number to stop early in the cascade, so it does not try to generate with untrained unets\n"
     ]
    },
    {
     "name": "stderr",
     "output_type": "stream",
     "text": [
      "sampling loop time step: 100%|██████████| 1000/1000 [00:49<00:00, 20.28it/s]\n",
      "0it [00:49, ?it/s]\n"
     ]
    },
    {
     "name": "stdout",
     "output_type": "stream",
     "text": [
      "checkpoint saved to imagen_two_unets_24s.pt\n",
      "valid loss: 0.0037179470527917147\n",
      "valid loss: 0.0069085643626749516\n",
      "valid loss: 0.004794504027813673\n",
      "valid loss: 0.0038641837891191244\n",
      "valid loss: 0.005432318430393934\n",
      "valid loss: 0.005146348383277655\n",
      "valid loss: 0.0068656764924526215\n",
      "valid loss: 0.004407523665577173\n",
      "valid loss: 0.00470907986164093\n",
      "valid loss: 0.003291398286819458\n",
      "valid loss: 0.004369102418422699\n",
      "valid loss: 0.0041433656588196754\n",
      "valid loss: 0.002859158907085657\n",
      "valid loss: 0.00786938238888979\n",
      "valid loss: 0.0034492164850234985\n",
      "valid loss: 0.003311026841402054\n",
      "valid loss: 0.006812460720539093\n",
      "valid loss: 0.0041353232227265835\n",
      "valid loss: 0.0063756355084478855\n",
      "valid loss: 0.005011073779314756\n",
      "unet 2 has not been trained\n",
      "when sampling, you can pass stop_at_unet_number to stop early in the cascade, so it does not try to generate with untrained unets\n"
     ]
    },
    {
     "name": "stderr",
     "output_type": "stream",
     "text": [
      "sampling loop time step: 100%|██████████| 1000/1000 [00:44<00:00, 22.68it/s]\n",
      "0it [00:44, ?it/s]\n"
     ]
    },
    {
     "name": "stdout",
     "output_type": "stream",
     "text": [
      "valid loss: 0.003933760803192854\n",
      "valid loss: 0.004979992751032114\n",
      "valid loss: 0.0016951147699728608\n",
      "valid loss: 0.006560492794960737\n",
      "valid loss: 0.004634551238268614\n",
      "valid loss: 0.00458291033282876\n",
      "valid loss: 0.008333769626915455\n",
      "valid loss: 0.004950357601046562\n",
      "valid loss: 0.00547857116907835\n",
      "valid loss: 0.004167074337601662\n",
      "valid loss: 0.00493755005300045\n",
      "valid loss: 0.004650293383747339\n",
      "valid loss: 0.003366950899362564\n",
      "valid loss: 0.0052175517193973064\n",
      "valid loss: 0.006203876342624426\n",
      "valid loss: 0.004219894763082266\n",
      "valid loss: 0.005887727718800306\n",
      "valid loss: 0.003266897052526474\n",
      "valid loss: 0.00812181644141674\n",
      "valid loss: 0.006399266421794891\n",
      "unet 2 has not been trained\n",
      "when sampling, you can pass stop_at_unet_number to stop early in the cascade, so it does not try to generate with untrained unets\n"
     ]
    },
    {
     "name": "stderr",
     "output_type": "stream",
     "text": [
      "sampling loop time step: 100%|██████████| 1000/1000 [00:42<00:00, 23.34it/s]\n",
      "0it [00:42, ?it/s]\n"
     ]
    },
    {
     "name": "stdout",
     "output_type": "stream",
     "text": [
      "valid loss: 0.004313429351896048\n",
      "valid loss: 0.006121872458606958\n",
      "valid loss: 0.004372673574835062\n",
      "valid loss: 0.0047591328620910645\n",
      "valid loss: 0.005240327212959528\n",
      "valid loss: 0.004145573824644089\n",
      "valid loss: 0.00776296341791749\n",
      "valid loss: 0.0025511370040476322\n",
      "valid loss: 0.005819152574986219\n",
      "valid loss: 0.0032793977297842503\n",
      "valid loss: 0.0032551896292716265\n",
      "valid loss: 0.0036793642211705446\n",
      "valid loss: 0.003301051678135991\n",
      "valid loss: 0.004268743097782135\n",
      "valid loss: 0.003236241638660431\n",
      "valid loss: 0.004587747156620026\n",
      "valid loss: 0.00421597296372056\n",
      "valid loss: 0.0037342810537666082\n",
      "valid loss: 0.003175648394972086\n",
      "valid loss: 0.004420820157974958\n",
      "unet 2 has not been trained\n",
      "when sampling, you can pass stop_at_unet_number to stop early in the cascade, so it does not try to generate with untrained unets\n"
     ]
    },
    {
     "name": "stderr",
     "output_type": "stream",
     "text": [
      "sampling loop time step: 100%|██████████| 1000/1000 [00:43<00:00, 22.94it/s]\n",
      "0it [00:43, ?it/s]\n"
     ]
    },
    {
     "name": "stdout",
     "output_type": "stream",
     "text": [
      "valid loss: 0.0030570661183446646\n",
      "valid loss: 0.004549534060060978\n",
      "valid loss: 0.002963306847959757\n",
      "valid loss: 0.0033944733440876007\n",
      "valid loss: 0.006930758710950613\n",
      "valid loss: 0.0036324968095868826\n",
      "valid loss: 0.003996585495769978\n",
      "valid loss: 0.003168867900967598\n",
      "valid loss: 0.004585892893373966\n",
      "valid loss: 0.007268406450748444\n",
      "valid loss: 0.003884011646732688\n",
      "valid loss: 0.0043967547826468945\n",
      "valid loss: 0.004114364739507437\n",
      "valid loss: 0.004343059845268726\n",
      "valid loss: 0.005349792540073395\n",
      "valid loss: 0.00258533819578588\n",
      "valid loss: 0.003877092618495226\n",
      "valid loss: 0.004267157055437565\n",
      "valid loss: 0.007413261570036411\n",
      "valid loss: 0.006457689683884382\n",
      "unet 2 has not been trained\n",
      "when sampling, you can pass stop_at_unet_number to stop early in the cascade, so it does not try to generate with untrained unets\n"
     ]
    },
    {
     "name": "stderr",
     "output_type": "stream",
     "text": [
      "sampling loop time step: 100%|██████████| 1000/1000 [00:40<00:00, 24.92it/s]\n",
      "0it [00:40, ?it/s]\n"
     ]
    },
    {
     "name": "stdout",
     "output_type": "stream",
     "text": [
      "valid loss: 0.0036251458805054426\n",
      "valid loss: 0.005366594064980745\n",
      "valid loss: 0.0017648950451985002\n",
      "valid loss: 0.006635657045990229\n",
      "valid loss: 0.00598044553771615\n",
      "valid loss: 0.0029345271177589893\n",
      "valid loss: 0.004375733435153961\n",
      "valid loss: 0.0021201351191848516\n",
      "valid loss: 0.005372856743633747\n",
      "valid loss: 0.003478600410744548\n",
      "valid loss: 0.005880161188542843\n",
      "valid loss: 0.007066998165100813\n",
      "valid loss: 0.004448981024324894\n",
      "valid loss: 0.005306813400238752\n",
      "valid loss: 0.005768638104200363\n",
      "valid loss: 0.004985774401575327\n",
      "valid loss: 0.0057213022373616695\n",
      "valid loss: 0.0018068336648866534\n",
      "valid loss: 0.004151869565248489\n",
      "valid loss: 0.005173120182007551\n",
      "unet 2 has not been trained\n",
      "when sampling, you can pass stop_at_unet_number to stop early in the cascade, so it does not try to generate with untrained unets\n"
     ]
    },
    {
     "name": "stderr",
     "output_type": "stream",
     "text": [
      "sampling loop time step: 100%|██████████| 1000/1000 [00:50<00:00, 19.97it/s]\n",
      "0it [00:50, ?it/s]\n"
     ]
    },
    {
     "name": "stdout",
     "output_type": "stream",
     "text": [
      "valid loss: 0.00234018312767148\n",
      "valid loss: 0.006544144358485937\n",
      "valid loss: 0.0017974397633224726\n",
      "valid loss: 0.002702620578929782\n",
      "valid loss: 0.003813036484643817\n",
      "valid loss: 0.005054399371147156\n",
      "valid loss: 0.006792635656893253\n",
      "valid loss: 0.0034425545018166304\n",
      "valid loss: 0.005280484911054373\n",
      "valid loss: 0.004510500002652407\n",
      "valid loss: 0.0042913141660392284\n",
      "valid loss: 0.004231687635183334\n",
      "valid loss: 0.002860264154151082\n",
      "valid loss: 0.005285537336021662\n",
      "valid loss: 0.006030214484781027\n",
      "valid loss: 0.003277945565059781\n",
      "valid loss: 0.003412056714296341\n",
      "valid loss: 0.0036789551377296448\n",
      "valid loss: 0.005969497375190258\n",
      "valid loss: 0.004168281797319651\n",
      "unet 2 has not been trained\n",
      "when sampling, you can pass stop_at_unet_number to stop early in the cascade, so it does not try to generate with untrained unets\n"
     ]
    },
    {
     "name": "stderr",
     "output_type": "stream",
     "text": [
      "sampling loop time step: 100%|██████████| 1000/1000 [00:41<00:00, 23.89it/s]\n",
      "0it [00:41, ?it/s]\n"
     ]
    },
    {
     "name": "stdout",
     "output_type": "stream",
     "text": [
      "valid loss: 0.002657991833984852\n",
      "valid loss: 0.0033324335236102343\n",
      "valid loss: 0.0032912620808929205\n",
      "valid loss: 0.004765331279486418\n",
      "valid loss: 0.006428197026252747\n",
      "valid loss: 0.004096517339348793\n",
      "valid loss: 0.005800831597298384\n",
      "valid loss: 0.002841376466676593\n",
      "valid loss: 0.005889286287128925\n",
      "valid loss: 0.004342030268162489\n",
      "valid loss: 0.003968832548707724\n",
      "valid loss: 0.005576047580689192\n",
      "valid loss: 0.0039950585924088955\n",
      "valid loss: 0.005020860116928816\n",
      "valid loss: 0.007130447309464216\n",
      "valid loss: 0.004559255670756102\n",
      "valid loss: 0.0058433800004422665\n",
      "valid loss: 0.0033341185189783573\n",
      "valid loss: 0.0012807874009013176\n",
      "valid loss: 0.00516462279483676\n",
      "unet 2 has not been trained\n",
      "when sampling, you can pass stop_at_unet_number to stop early in the cascade, so it does not try to generate with untrained unets\n"
     ]
    },
    {
     "name": "stderr",
     "output_type": "stream",
     "text": [
      "sampling loop time step: 100%|██████████| 1000/1000 [00:43<00:00, 22.93it/s]\n",
      "0it [00:43, ?it/s]\n"
     ]
    },
    {
     "name": "stdout",
     "output_type": "stream",
     "text": [
      "valid loss: 0.0024634860455989838\n",
      "valid loss: 0.005224464926868677\n",
      "valid loss: 0.0023354419972747564\n",
      "valid loss: 0.0056968918070197105\n",
      "valid loss: 0.005722267087548971\n",
      "valid loss: 0.0028124672826379538\n",
      "valid loss: 0.006216356065124273\n",
      "valid loss: 0.0038666233886033297\n",
      "valid loss: 0.004810915794223547\n",
      "valid loss: 0.00607086718082428\n",
      "valid loss: 0.0024983456823974848\n",
      "valid loss: 0.0068628727458417416\n",
      "valid loss: 0.0041022771038115025\n",
      "valid loss: 0.00405177241191268\n",
      "valid loss: 0.005806493107229471\n",
      "valid loss: 0.003739774925634265\n",
      "valid loss: 0.005053468979895115\n",
      "valid loss: 0.0033596050925552845\n",
      "valid loss: 0.00609526177868247\n",
      "valid loss: 0.0036754233296960592\n",
      "unet 2 has not been trained\n",
      "when sampling, you can pass stop_at_unet_number to stop early in the cascade, so it does not try to generate with untrained unets\n"
     ]
    },
    {
     "name": "stderr",
     "output_type": "stream",
     "text": [
      "sampling loop time step: 100%|██████████| 1000/1000 [00:46<00:00, 21.57it/s]\n",
      "0it [00:46, ?it/s]\n"
     ]
    },
    {
     "name": "stdout",
     "output_type": "stream",
     "text": [
      "valid loss: 0.004013628698885441\n",
      "valid loss: 0.007641379721462727\n",
      "valid loss: 0.003302060067653656\n",
      "valid loss: 0.005873552057892084\n",
      "valid loss: 0.00512930890545249\n",
      "valid loss: 0.002696701092645526\n",
      "valid loss: 0.005523418076336384\n",
      "valid loss: 0.0030468273907899857\n",
      "valid loss: 0.006709131877869368\n",
      "valid loss: 0.005604514852166176\n",
      "valid loss: 0.0035112486220896244\n",
      "valid loss: 0.0035457746125757694\n",
      "valid loss: 0.002529730787500739\n",
      "valid loss: 0.007090655621141195\n",
      "valid loss: 0.00438889442011714\n",
      "valid loss: 0.0019137117778882384\n",
      "valid loss: 0.0055724154226481915\n",
      "valid loss: 0.004956387914717197\n",
      "valid loss: 0.006879653315991163\n",
      "valid loss: 0.004846315365284681\n",
      "unet 2 has not been trained\n",
      "when sampling, you can pass stop_at_unet_number to stop early in the cascade, so it does not try to generate with untrained unets\n"
     ]
    },
    {
     "name": "stderr",
     "output_type": "stream",
     "text": [
      "sampling loop time step: 100%|██████████| 1000/1000 [00:39<00:00, 25.60it/s]\n",
      "0it [00:39, ?it/s]\n"
     ]
    },
    {
     "name": "stdout",
     "output_type": "stream",
     "text": [
      "valid loss: 0.004760881420224905\n",
      "valid loss: 0.0033097926061600447\n",
      "valid loss: 0.003940259106457233\n",
      "valid loss: 0.004871274810284376\n",
      "valid loss: 0.007592129986733198\n",
      "valid loss: 0.003305989084765315\n",
      "valid loss: 0.006860438734292984\n",
      "valid loss: 0.004279244691133499\n",
      "valid loss: 0.005025557707995176\n",
      "valid loss: 0.003967456519603729\n",
      "valid loss: 0.0039319065399467945\n",
      "valid loss: 0.004893918987363577\n",
      "valid loss: 0.004081349354237318\n",
      "valid loss: 0.005027249455451965\n",
      "valid loss: 0.003987512551248074\n",
      "valid loss: 0.0026735332794487476\n",
      "valid loss: 0.00655418261885643\n",
      "valid loss: 0.0020428465213626623\n",
      "valid loss: 0.0036375608760863543\n",
      "valid loss: 0.006854180246591568\n",
      "unet 2 has not been trained\n",
      "when sampling, you can pass stop_at_unet_number to stop early in the cascade, so it does not try to generate with untrained unets\n"
     ]
    },
    {
     "name": "stderr",
     "output_type": "stream",
     "text": [
      "sampling loop time step: 100%|██████████| 1000/1000 [00:43<00:00, 23.04it/s]\n",
      "0it [00:43, ?it/s]\n"
     ]
    },
    {
     "name": "stdout",
     "output_type": "stream",
     "text": [
      "checkpoint saved to imagen_two_unets_24s.pt\n",
      "valid loss: 0.003945512231439352\n",
      "valid loss: 0.005746405106037855\n",
      "valid loss: 0.0038427754770964384\n",
      "valid loss: 0.007160133216530085\n",
      "valid loss: 0.004345654044300318\n",
      "valid loss: 0.005227704532444477\n",
      "valid loss: 0.005976879969239235\n",
      "valid loss: 0.003277789568528533\n",
      "valid loss: 0.00406049145385623\n",
      "valid loss: 0.004675920587033033\n",
      "valid loss: 0.005223480053246021\n",
      "valid loss: 0.004896070342510939\n",
      "valid loss: 0.003205597400665283\n",
      "valid loss: 0.004701294004917145\n",
      "valid loss: 0.004208353813737631\n",
      "valid loss: 0.0037585694808512926\n",
      "valid loss: 0.004113779868930578\n",
      "valid loss: 0.004824768286198378\n",
      "valid loss: 0.005789988674223423\n",
      "valid loss: 0.005655382759869099\n",
      "unet 2 has not been trained\n",
      "when sampling, you can pass stop_at_unet_number to stop early in the cascade, so it does not try to generate with untrained unets\n"
     ]
    },
    {
     "name": "stderr",
     "output_type": "stream",
     "text": [
      "sampling loop time step: 100%|██████████| 1000/1000 [00:39<00:00, 25.47it/s]\n",
      "0it [00:39, ?it/s]\n"
     ]
    },
    {
     "name": "stdout",
     "output_type": "stream",
     "text": [
      "valid loss: 0.0029420251958072186\n",
      "valid loss: 0.005694161634892225\n",
      "valid loss: 0.0032637310214340687\n",
      "valid loss: 0.0018824521685019135\n",
      "valid loss: 0.0045258477330207825\n",
      "valid loss: 0.003986851777881384\n",
      "valid loss: 0.007305063307285309\n",
      "valid loss: 0.003997896797955036\n",
      "valid loss: 0.005420428700745106\n",
      "valid loss: 0.0067864167504012585\n",
      "valid loss: 0.003522405168041587\n",
      "valid loss: 0.005376385059207678\n",
      "valid loss: 0.0031958564650267363\n",
      "valid loss: 0.004015112761408091\n",
      "valid loss: 0.003292615758255124\n",
      "valid loss: 0.0036402076948434114\n",
      "valid loss: 0.004207573365420103\n",
      "valid loss: 0.002262064954265952\n",
      "valid loss: 0.0012640586355701089\n",
      "valid loss: 0.003583516925573349\n",
      "unet 2 has not been trained\n",
      "when sampling, you can pass stop_at_unet_number to stop early in the cascade, so it does not try to generate with untrained unets\n"
     ]
    },
    {
     "name": "stderr",
     "output_type": "stream",
     "text": [
      "sampling loop time step: 100%|██████████| 1000/1000 [00:40<00:00, 24.40it/s]\n",
      "0it [00:41, ?it/s]\n"
     ]
    },
    {
     "name": "stdout",
     "output_type": "stream",
     "text": [
      "valid loss: 0.003836791729554534\n",
      "valid loss: 0.0040954300202429295\n",
      "valid loss: 0.004412392619997263\n",
      "valid loss: 0.003003946505486965\n",
      "valid loss: 0.005054939072579145\n",
      "valid loss: 0.004032005090266466\n",
      "valid loss: 0.006372538395226002\n",
      "valid loss: 0.0034357313998043537\n",
      "valid loss: 0.006287723314017057\n",
      "valid loss: 0.004594555590301752\n",
      "valid loss: 0.002600146224722266\n",
      "valid loss: 0.003297768533229828\n",
      "valid loss: 0.0023823685478419065\n",
      "valid loss: 0.007964410819113255\n",
      "valid loss: 0.006217118818312883\n",
      "valid loss: 0.003478042548522353\n",
      "valid loss: 0.005197638180106878\n",
      "valid loss: 0.0028416470158845186\n",
      "valid loss: 0.004555196035653353\n",
      "valid loss: 0.0033366219140589237\n",
      "unet 2 has not been trained\n",
      "when sampling, you can pass stop_at_unet_number to stop early in the cascade, so it does not try to generate with untrained unets\n"
     ]
    },
    {
     "name": "stderr",
     "output_type": "stream",
     "text": [
      "sampling loop time step: 100%|██████████| 1000/1000 [00:45<00:00, 22.12it/s]\n",
      "0it [00:45, ?it/s]\n"
     ]
    },
    {
     "name": "stdout",
     "output_type": "stream",
     "text": [
      "valid loss: 0.003690525656566024\n",
      "valid loss: 0.00396095821633935\n",
      "valid loss: 0.0028440970927476883\n",
      "valid loss: 0.005251945462077856\n",
      "valid loss: 0.004847855772823095\n",
      "valid loss: 0.0027308743447065353\n",
      "valid loss: 0.005979853216558695\n",
      "valid loss: 0.0038238931447267532\n",
      "valid loss: 0.005429115146398544\n",
      "valid loss: 0.005840141326189041\n",
      "valid loss: 0.0024718232452869415\n",
      "valid loss: 0.005128569435328245\n",
      "valid loss: 0.0029140301048755646\n",
      "valid loss: 0.007191311102360487\n",
      "valid loss: 0.0055326553992927074\n",
      "valid loss: 0.003080553375184536\n",
      "valid loss: 0.004313417710363865\n",
      "valid loss: 0.001152843120507896\n",
      "valid loss: 0.007941345684230328\n",
      "valid loss: 0.004952705930918455\n",
      "unet 2 has not been trained\n",
      "when sampling, you can pass stop_at_unet_number to stop early in the cascade, so it does not try to generate with untrained unets\n"
     ]
    },
    {
     "name": "stderr",
     "output_type": "stream",
     "text": [
      "sampling loop time step: 100%|██████████| 1000/1000 [00:41<00:00, 24.22it/s]\n",
      "0it [00:41, ?it/s]\n"
     ]
    },
    {
     "name": "stdout",
     "output_type": "stream",
     "text": [
      "valid loss: 0.0033812604378908873\n",
      "valid loss: 0.0040914625860750675\n",
      "valid loss: 0.0026672978419810534\n",
      "valid loss: 0.005402727518230677\n",
      "valid loss: 0.004051960539072752\n",
      "valid loss: 0.0027070597279816866\n",
      "valid loss: 0.005714838858693838\n",
      "valid loss: 0.0045674885623157024\n",
      "valid loss: 0.0022413809783756733\n",
      "valid loss: 0.003890339285135269\n",
      "valid loss: 0.004845678806304932\n",
      "valid loss: 0.005625629331916571\n",
      "valid loss: 0.0026111414190381765\n",
      "valid loss: 0.004021125379949808\n",
      "valid loss: 0.00434568477794528\n",
      "valid loss: 0.004084903746843338\n",
      "valid loss: 0.0052345613949000835\n",
      "valid loss: 0.003899402916431427\n",
      "valid loss: 0.004658692516386509\n",
      "valid loss: 0.004860172979533672\n",
      "unet 2 has not been trained\n",
      "when sampling, you can pass stop_at_unet_number to stop early in the cascade, so it does not try to generate with untrained unets\n"
     ]
    },
    {
     "name": "stderr",
     "output_type": "stream",
     "text": [
      "sampling loop time step: 100%|██████████| 1000/1000 [00:46<00:00, 21.43it/s]\n",
      "0it [00:46, ?it/s]\n"
     ]
    },
    {
     "name": "stdout",
     "output_type": "stream",
     "text": [
      "valid loss: 0.0040051876567304134\n",
      "valid loss: 0.0060130576603114605\n",
      "valid loss: 0.0018955193227156997\n",
      "valid loss: 0.006630850024521351\n",
      "valid loss: 0.005961646791547537\n",
      "valid loss: 0.0018548635998740792\n",
      "valid loss: 0.005859577562659979\n",
      "valid loss: 0.0040833912789821625\n",
      "valid loss: 0.007588102016597986\n",
      "valid loss: 0.005065436474978924\n",
      "valid loss: 0.0022931615822017193\n",
      "valid loss: 0.0023149370681494474\n",
      "valid loss: 0.002830922370776534\n",
      "valid loss: 0.0018860027194023132\n",
      "valid loss: 0.003983890172094107\n",
      "valid loss: 0.0029603270813822746\n",
      "valid loss: 0.0035007749684154987\n",
      "valid loss: 0.0038347335066646338\n",
      "valid loss: 0.00624872324988246\n",
      "valid loss: 0.0033005811274051666\n",
      "unet 2 has not been trained\n",
      "when sampling, you can pass stop_at_unet_number to stop early in the cascade, so it does not try to generate with untrained unets\n"
     ]
    },
    {
     "name": "stderr",
     "output_type": "stream",
     "text": [
      "sampling loop time step: 100%|██████████| 1000/1000 [00:46<00:00, 21.37it/s]\n",
      "0it [00:46, ?it/s]\n"
     ]
    },
    {
     "name": "stdout",
     "output_type": "stream",
     "text": [
      "valid loss: 0.0024319016374647617\n",
      "valid loss: 0.005999542307108641\n",
      "valid loss: 0.0032274783588945866\n",
      "valid loss: 0.004340597428381443\n",
      "valid loss: 0.004466921091079712\n",
      "valid loss: 0.0028602241072803736\n",
      "valid loss: 0.006899446249008179\n",
      "valid loss: 0.0034162390511482954\n",
      "valid loss: 0.0033127597998827696\n",
      "valid loss: 0.006517697125673294\n",
      "valid loss: 0.005908810533583164\n",
      "valid loss: 0.003700193017721176\n",
      "valid loss: 0.003144672606140375\n",
      "valid loss: 0.004571568686515093\n",
      "valid loss: 0.005264725536108017\n",
      "valid loss: 0.004231500905007124\n",
      "valid loss: 0.007298469543457031\n",
      "valid loss: 0.0033906307071447372\n",
      "valid loss: 0.0037140571512281895\n",
      "valid loss: 0.004140182863920927\n",
      "unet 2 has not been trained\n",
      "when sampling, you can pass stop_at_unet_number to stop early in the cascade, so it does not try to generate with untrained unets\n"
     ]
    },
    {
     "name": "stderr",
     "output_type": "stream",
     "text": [
      "sampling loop time step: 100%|██████████| 1000/1000 [00:39<00:00, 25.26it/s]\n",
      "0it [00:39, ?it/s]\n"
     ]
    },
    {
     "name": "stdout",
     "output_type": "stream",
     "text": [
      "valid loss: 0.0035920862574130297\n",
      "valid loss: 0.0071871280670166016\n",
      "valid loss: 0.004492318723350763\n",
      "valid loss: 0.00448975944891572\n",
      "valid loss: 0.004141844809055328\n",
      "valid loss: 0.004027952905744314\n",
      "valid loss: 0.005312065593898296\n",
      "valid loss: 0.003061836352571845\n",
      "valid loss: 0.0047438363544642925\n",
      "valid loss: 0.0019106075633317232\n",
      "valid loss: 0.002505635842680931\n",
      "valid loss: 0.004941229708492756\n",
      "valid loss: 0.0036736615002155304\n",
      "valid loss: 0.005059116519987583\n",
      "valid loss: 0.004378402139991522\n",
      "valid loss: 0.0025043589994311333\n",
      "valid loss: 0.005107691045850515\n",
      "valid loss: 0.002848969306796789\n",
      "valid loss: 0.005432066973298788\n",
      "valid loss: 0.00719254557043314\n",
      "unet 2 has not been trained\n",
      "when sampling, you can pass stop_at_unet_number to stop early in the cascade, so it does not try to generate with untrained unets\n"
     ]
    },
    {
     "name": "stderr",
     "output_type": "stream",
     "text": [
      "sampling loop time step: 100%|██████████| 1000/1000 [00:46<00:00, 21.41it/s]\n",
      "0it [00:46, ?it/s]\n"
     ]
    },
    {
     "name": "stdout",
     "output_type": "stream",
     "text": [
      "valid loss: 0.002132624154910445\n",
      "valid loss: 0.005678527057170868\n",
      "valid loss: 0.003244755556806922\n",
      "valid loss: 0.0061459168791770935\n",
      "valid loss: 0.004971131216734648\n",
      "valid loss: 0.00453478517010808\n",
      "valid loss: 0.0053029716946184635\n",
      "valid loss: 0.0031481136102229357\n",
      "valid loss: 0.0033047187607735395\n",
      "valid loss: 0.0064497753046453\n",
      "valid loss: 0.005719385575503111\n",
      "valid loss: 0.004461231175810099\n",
      "valid loss: 0.0028999594505876303\n",
      "valid loss: 0.002367558656260371\n",
      "valid loss: 0.006426769774407148\n",
      "valid loss: 0.003466881811618805\n",
      "valid loss: 0.008116227574646473\n",
      "valid loss: 0.003521553473547101\n",
      "valid loss: 0.0049011060036718845\n",
      "valid loss: 0.0032600329723209143\n",
      "unet 2 has not been trained\n",
      "when sampling, you can pass stop_at_unet_number to stop early in the cascade, so it does not try to generate with untrained unets\n"
     ]
    },
    {
     "name": "stderr",
     "output_type": "stream",
     "text": [
      "sampling loop time step: 100%|██████████| 1000/1000 [00:39<00:00, 25.45it/s]\n",
      "0it [00:39, ?it/s]\n"
     ]
    },
    {
     "name": "stdout",
     "output_type": "stream",
     "text": [
      "valid loss: 0.0030797526706010103\n",
      "valid loss: 0.006353132426738739\n",
      "valid loss: 0.0034994191955775023\n",
      "valid loss: 0.00414927676320076\n",
      "valid loss: 0.0048458329401910305\n",
      "valid loss: 0.003053155029192567\n",
      "valid loss: 0.005341742187738419\n",
      "valid loss: 0.0032824419904500246\n",
      "valid loss: 0.004895802121609449\n",
      "valid loss: 0.008668544702231884\n",
      "valid loss: 0.0034673467744141817\n",
      "valid loss: 0.0033006444573402405\n",
      "valid loss: 0.0033550914376974106\n",
      "valid loss: 0.004821601789444685\n",
      "valid loss: 0.006002230569720268\n",
      "valid loss: 0.003985262010246515\n",
      "valid loss: 0.0040155029855668545\n",
      "valid loss: 0.003354917513206601\n",
      "valid loss: 0.006105510983616114\n",
      "valid loss: 0.004043809603899717\n",
      "unet 2 has not been trained\n",
      "when sampling, you can pass stop_at_unet_number to stop early in the cascade, so it does not try to generate with untrained unets\n"
     ]
    },
    {
     "name": "stderr",
     "output_type": "stream",
     "text": [
      "sampling loop time step: 100%|██████████| 1000/1000 [00:41<00:00, 23.99it/s]\n",
      "0it [00:41, ?it/s]\n"
     ]
    },
    {
     "name": "stdout",
     "output_type": "stream",
     "text": [
      "checkpoint saved to imagen_two_unets_24s.pt\n",
      "valid loss: 0.002765721408650279\n",
      "valid loss: 0.008207685314118862\n",
      "valid loss: 0.0037137889303267\n",
      "valid loss: 0.005073018372058868\n",
      "valid loss: 0.0052941590547561646\n",
      "valid loss: 0.0033069357741624117\n",
      "valid loss: 0.0042908042669296265\n",
      "valid loss: 0.0020040320232510567\n",
      "valid loss: 0.005170718301087618\n",
      "valid loss: 0.005785119719803333\n",
      "valid loss: 0.003926103003323078\n",
      "valid loss: 0.006610578391700983\n",
      "valid loss: 0.0035490659065544605\n",
      "valid loss: 0.006848956923931837\n",
      "valid loss: 0.005633988883346319\n",
      "valid loss: 0.004215820226818323\n",
      "valid loss: 0.003791824681684375\n",
      "valid loss: 0.0016734481323510408\n",
      "valid loss: 0.0019640044774860144\n",
      "valid loss: 0.007991932332515717\n",
      "unet 2 has not been trained\n",
      "when sampling, you can pass stop_at_unet_number to stop early in the cascade, so it does not try to generate with untrained unets\n"
     ]
    },
    {
     "name": "stderr",
     "output_type": "stream",
     "text": [
      "sampling loop time step: 100%|██████████| 1000/1000 [00:39<00:00, 25.52it/s]\n",
      "0it [00:39, ?it/s]\n"
     ]
    },
    {
     "name": "stdout",
     "output_type": "stream",
     "text": [
      "valid loss: 0.003626252058893442\n",
      "valid loss: 0.005224196705967188\n",
      "valid loss: 0.0034490921534597874\n",
      "valid loss: 0.004778319038450718\n",
      "valid loss: 0.0039031952619552612\n",
      "valid loss: 0.0016877955058589578\n",
      "valid loss: 0.008045296184718609\n",
      "valid loss: 0.0027947283815592527\n",
      "valid loss: 0.004489607643336058\n",
      "valid loss: 0.0031646897550672293\n",
      "valid loss: 0.004178948700428009\n",
      "valid loss: 0.005665445234626532\n",
      "valid loss: 0.00386502081528306\n",
      "valid loss: 0.005467935930937529\n",
      "valid loss: 0.006916641723364592\n",
      "valid loss: 0.004498415160924196\n",
      "valid loss: 0.0061563546769320965\n",
      "valid loss: 0.0032469574362039566\n",
      "valid loss: 0.004826964344829321\n",
      "valid loss: 0.0059804548509418964\n",
      "unet 2 has not been trained\n",
      "when sampling, you can pass stop_at_unet_number to stop early in the cascade, so it does not try to generate with untrained unets\n"
     ]
    },
    {
     "name": "stderr",
     "output_type": "stream",
     "text": [
      "sampling loop time step: 100%|██████████| 1000/1000 [00:48<00:00, 20.79it/s]\n",
      "0it [00:48, ?it/s]\n"
     ]
    },
    {
     "name": "stdout",
     "output_type": "stream",
     "text": [
      "valid loss: 0.004825584590435028\n",
      "valid loss: 0.006917279213666916\n",
      "valid loss: 0.0038956627249717712\n",
      "valid loss: 0.00530509976670146\n",
      "valid loss: 0.006410082336515188\n",
      "valid loss: 0.004485624376684427\n",
      "valid loss: 0.003836696734651923\n",
      "valid loss: 0.0021965336054563522\n",
      "valid loss: 0.004355163313448429\n",
      "valid loss: 0.0036353350151330233\n",
      "valid loss: 0.003923996817320585\n",
      "valid loss: 0.006601233966648579\n",
      "valid loss: 0.00426596961915493\n",
      "valid loss: 0.0030523750465363264\n",
      "valid loss: 0.007850120775401592\n",
      "valid loss: 0.004642032086849213\n",
      "valid loss: 0.005450469441711903\n",
      "valid loss: 0.00397668918594718\n",
      "valid loss: 0.0025572532322257757\n",
      "valid loss: 0.006300665438175201\n",
      "unet 2 has not been trained\n",
      "when sampling, you can pass stop_at_unet_number to stop early in the cascade, so it does not try to generate with untrained unets\n"
     ]
    },
    {
     "name": "stderr",
     "output_type": "stream",
     "text": [
      "sampling loop time step: 100%|██████████| 1000/1000 [00:39<00:00, 25.32it/s]\n",
      "0it [00:39, ?it/s]\n"
     ]
    },
    {
     "name": "stdout",
     "output_type": "stream",
     "text": [
      "valid loss: 0.005212162621319294\n",
      "valid loss: 0.008014120161533356\n",
      "valid loss: 0.00435054674744606\n",
      "valid loss: 0.0028366651386022568\n",
      "valid loss: 0.006972357630729675\n",
      "valid loss: 0.004277491942048073\n",
      "valid loss: 0.005422098096460104\n",
      "valid loss: 0.003570687025785446\n",
      "valid loss: 0.005538896657526493\n",
      "valid loss: 0.005254750605672598\n",
      "valid loss: 0.0021161637268960476\n",
      "valid loss: 0.006669619120657444\n",
      "valid loss: 0.0048852055333554745\n",
      "valid loss: 0.0034649681765586138\n",
      "valid loss: 0.005713705904781818\n",
      "valid loss: 0.0036577663850039244\n",
      "valid loss: 0.009464593604207039\n",
      "valid loss: 0.0029648891650140285\n",
      "valid loss: 0.004524268209934235\n",
      "valid loss: 0.006302130874246359\n",
      "unet 2 has not been trained\n",
      "when sampling, you can pass stop_at_unet_number to stop early in the cascade, so it does not try to generate with untrained unets\n"
     ]
    },
    {
     "name": "stderr",
     "output_type": "stream",
     "text": [
      "sampling loop time step: 100%|██████████| 1000/1000 [00:39<00:00, 25.06it/s]\n",
      "0it [00:40, ?it/s]\n"
     ]
    },
    {
     "name": "stdout",
     "output_type": "stream",
     "text": [
      "valid loss: 0.002741813426837325\n",
      "valid loss: 0.004446773324161768\n",
      "valid loss: 0.003519020974636078\n",
      "valid loss: 0.006128847599029541\n",
      "valid loss: 0.004641958978027105\n",
      "valid loss: 0.003950285259634256\n",
      "valid loss: 0.005251646973192692\n",
      "valid loss: 0.004502754658460617\n",
      "valid loss: 0.006150936242192984\n",
      "valid loss: 0.005676235072314739\n",
      "valid loss: 0.0024679580237716436\n",
      "valid loss: 0.005910682957619429\n",
      "valid loss: 0.0034762166906148195\n",
      "valid loss: 0.003979006316512823\n",
      "valid loss: 0.003760144580155611\n",
      "valid loss: 0.0065067424438893795\n",
      "valid loss: 0.007965556345880032\n",
      "valid loss: 0.0034412045497447252\n",
      "valid loss: 0.0060845655389130116\n",
      "valid loss: 0.007751038763672113\n",
      "unet 2 has not been trained\n",
      "when sampling, you can pass stop_at_unet_number to stop early in the cascade, so it does not try to generate with untrained unets\n"
     ]
    },
    {
     "name": "stderr",
     "output_type": "stream",
     "text": [
      "sampling loop time step: 100%|██████████| 1000/1000 [00:39<00:00, 25.35it/s]\n",
      "0it [00:39, ?it/s]\n"
     ]
    },
    {
     "name": "stdout",
     "output_type": "stream",
     "text": [
      "valid loss: 0.004215771798044443\n",
      "valid loss: 0.006596910301595926\n",
      "valid loss: 0.0016676776576787233\n",
      "valid loss: 0.004628628492355347\n",
      "valid loss: 0.004729151260107756\n",
      "valid loss: 0.0019355685217306018\n",
      "valid loss: 0.0036834259517490864\n",
      "valid loss: 0.0038294258993119\n",
      "valid loss: 0.005162960384041071\n",
      "valid loss: 0.00455414829775691\n",
      "valid loss: 0.004944027867168188\n",
      "valid loss: 0.005266917869448662\n",
      "valid loss: 0.003827138338238001\n",
      "valid loss: 0.002876819111406803\n",
      "valid loss: 0.007649370469152927\n",
      "valid loss: 0.0022467211820185184\n",
      "valid loss: 0.005259307101368904\n",
      "valid loss: 0.0034675546921789646\n",
      "valid loss: 0.004027221351861954\n",
      "valid loss: 0.006121345330029726\n",
      "unet 2 has not been trained\n",
      "when sampling, you can pass stop_at_unet_number to stop early in the cascade, so it does not try to generate with untrained unets\n"
     ]
    },
    {
     "name": "stderr",
     "output_type": "stream",
     "text": [
      "sampling loop time step: 100%|██████████| 1000/1000 [00:40<00:00, 24.79it/s]\n",
      "0it [00:40, ?it/s]\n"
     ]
    },
    {
     "name": "stdout",
     "output_type": "stream",
     "text": [
      "valid loss: 0.005644521210342646\n",
      "valid loss: 0.008358103223145008\n",
      "valid loss: 0.002917953534051776\n",
      "valid loss: 0.004160996060818434\n",
      "valid loss: 0.008796753361821175\n",
      "valid loss: 0.003691906575113535\n",
      "valid loss: 0.00531182112172246\n",
      "valid loss: 0.004238002933561802\n",
      "valid loss: 0.005522813647985458\n",
      "valid loss: 0.005969966296106577\n",
      "valid loss: 0.00234065018594265\n",
      "valid loss: 0.008661794476211071\n",
      "valid loss: 0.003000207245349884\n",
      "valid loss: 0.002820974914357066\n",
      "valid loss: 0.002890813397243619\n",
      "valid loss: 0.0037487938534468412\n",
      "valid loss: 0.005394065286964178\n",
      "valid loss: 0.0040796357207000256\n",
      "valid loss: 0.0036803209222853184\n",
      "valid loss: 0.00614164350554347\n",
      "unet 2 has not been trained\n",
      "when sampling, you can pass stop_at_unet_number to stop early in the cascade, so it does not try to generate with untrained unets\n"
     ]
    },
    {
     "name": "stderr",
     "output_type": "stream",
     "text": [
      "sampling loop time step: 100%|██████████| 1000/1000 [00:40<00:00, 24.55it/s]\n",
      "0it [00:40, ?it/s]\n"
     ]
    },
    {
     "name": "stdout",
     "output_type": "stream",
     "text": [
      "valid loss: 0.004084520507603884\n",
      "valid loss: 0.004860037472099066\n",
      "valid loss: 0.002616633428260684\n",
      "valid loss: 0.004247787408530712\n",
      "valid loss: 0.0034235313069075346\n",
      "valid loss: 0.0037805610336363316\n",
      "valid loss: 0.0037829435896128416\n",
      "valid loss: 0.004082787316292524\n",
      "valid loss: 0.0042643314227461815\n",
      "valid loss: 0.005347949918359518\n",
      "valid loss: 0.0035981242544949055\n",
      "valid loss: 0.0038188553880900145\n",
      "valid loss: 0.0018747601425275207\n",
      "valid loss: 0.00609112111851573\n",
      "valid loss: 0.007119643036276102\n",
      "valid loss: 0.00537100387737155\n",
      "valid loss: 0.007550835143774748\n",
      "valid loss: 0.004814067389816046\n",
      "valid loss: 0.005524981301277876\n",
      "valid loss: 0.006556387525051832\n",
      "unet 2 has not been trained\n",
      "when sampling, you can pass stop_at_unet_number to stop early in the cascade, so it does not try to generate with untrained unets\n"
     ]
    },
    {
     "name": "stderr",
     "output_type": "stream",
     "text": [
      "sampling loop time step: 100%|██████████| 1000/1000 [00:39<00:00, 25.48it/s]\n",
      "0it [00:39, ?it/s]\n"
     ]
    },
    {
     "name": "stdout",
     "output_type": "stream",
     "text": [
      "valid loss: 0.0032067925203591585\n",
      "valid loss: 0.0067580523900687695\n",
      "valid loss: 0.003922505769878626\n",
      "valid loss: 0.004160693380981684\n",
      "valid loss: 0.0061074793338775635\n",
      "valid loss: 0.004379525780677795\n",
      "valid loss: 0.005391186568886042\n",
      "valid loss: 0.0035232806112617254\n",
      "valid loss: 0.0068379552103579044\n",
      "valid loss: 0.005152547266334295\n",
      "valid loss: 0.003719837637618184\n",
      "valid loss: 0.005846645217388868\n",
      "valid loss: 0.004116432275623083\n",
      "valid loss: 0.00484102638438344\n",
      "valid loss: 0.0066366358660161495\n",
      "valid loss: 0.002580589847639203\n",
      "valid loss: 0.004434491973370314\n",
      "valid loss: 0.0027470493223518133\n",
      "valid loss: 0.0034919683821499348\n",
      "valid loss: 0.006842297501862049\n",
      "unet 2 has not been trained\n",
      "when sampling, you can pass stop_at_unet_number to stop early in the cascade, so it does not try to generate with untrained unets\n"
     ]
    },
    {
     "name": "stderr",
     "output_type": "stream",
     "text": [
      "sampling loop time step: 100%|██████████| 1000/1000 [00:39<00:00, 25.54it/s]\n",
      "0it [00:39, ?it/s]\n"
     ]
    },
    {
     "name": "stdout",
     "output_type": "stream",
     "text": [
      "valid loss: 0.004559219814836979\n",
      "valid loss: 0.0059003266505897045\n",
      "valid loss: 0.0037396654952317476\n",
      "valid loss: 0.0033708219416439533\n",
      "valid loss: 0.00420015212148428\n",
      "valid loss: 0.004592259880155325\n",
      "valid loss: 0.005564203020185232\n",
      "valid loss: 0.0021852131467312574\n",
      "valid loss: 0.002444822108373046\n",
      "valid loss: 0.007295142859220505\n",
      "valid loss: 0.005853121634572744\n",
      "valid loss: 0.002941415412351489\n",
      "valid loss: 0.0031664289999753237\n",
      "valid loss: 0.006467301398515701\n",
      "valid loss: 0.005442636553198099\n",
      "valid loss: 0.003113861195743084\n",
      "valid loss: 0.006258124019950628\n",
      "valid loss: 0.002655856078490615\n",
      "valid loss: 0.0053456490859389305\n",
      "valid loss: 0.009480214677751064\n",
      "unet 2 has not been trained\n",
      "when sampling, you can pass stop_at_unet_number to stop early in the cascade, so it does not try to generate with untrained unets\n"
     ]
    },
    {
     "name": "stderr",
     "output_type": "stream",
     "text": [
      "sampling loop time step: 100%|██████████| 1000/1000 [00:42<00:00, 23.68it/s]\n",
      "0it [00:42, ?it/s]\n"
     ]
    },
    {
     "name": "stdout",
     "output_type": "stream",
     "text": [
      "checkpoint saved to imagen_two_unets_24s.pt\n",
      "valid loss: 0.0038903530221432447\n",
      "valid loss: 0.004659815225750208\n",
      "valid loss: 0.002994293812662363\n",
      "valid loss: 0.005517034325748682\n",
      "valid loss: 0.008861224167048931\n",
      "valid loss: 0.005255354568362236\n",
      "valid loss: 0.008666402660310268\n",
      "valid loss: 0.0039016485679894686\n",
      "valid loss: 0.005258806981146336\n",
      "valid loss: 0.006556723266839981\n",
      "valid loss: 0.003863201243802905\n",
      "valid loss: 0.006174022797495127\n",
      "valid loss: 0.004925588611513376\n",
      "valid loss: 0.0018807679880410433\n",
      "valid loss: 0.004647550638765097\n",
      "valid loss: 0.003276501316577196\n",
      "valid loss: 0.0062238909304142\n",
      "valid loss: 0.0022339781280606985\n",
      "valid loss: 0.0026112899649888277\n",
      "unet 2 has not been trained\n",
      "when sampling, you can pass stop_at_unet_number to stop early in the cascade, so it does not try to generate with untrained unets\n"
     ]
    },
    {
     "name": "stderr",
     "output_type": "stream",
     "text": [
      "sampling loop time step: 100%|██████████| 1000/1000 [00:48<00:00, 20.66it/s]\n",
      "0it [00:48, ?it/s]\n"
     ]
    },
    {
     "name": "stdout",
     "output_type": "stream",
     "text": [
      "valid loss: 0.005135790910571814\n",
      "valid loss: 0.002780821407213807\n",
      "valid loss: 0.006806532386690378\n",
      "valid loss: 0.0050875842571258545\n",
      "valid loss: 0.004666327033191919\n",
      "valid loss: 0.0025229835882782936\n",
      "valid loss: 0.0054714735597372055\n",
      "valid loss: 0.0018655868479982018\n",
      "valid loss: 0.0026840863283723593\n",
      "valid loss: 0.007201394531875849\n",
      "valid loss: 0.006122995167970657\n",
      "valid loss: 0.0062720137648284435\n",
      "valid loss: 0.007160760462284088\n",
      "valid loss: 0.004988071974366903\n",
      "valid loss: 0.005050456617027521\n",
      "valid loss: 0.0055412775836884975\n",
      "valid loss: 0.0029590041376650333\n",
      "valid loss: 0.005236685276031494\n",
      "valid loss: 0.0035862387157976627\n",
      "valid loss: 0.003227400127798319\n",
      "unet 2 has not been trained\n",
      "when sampling, you can pass stop_at_unet_number to stop early in the cascade, so it does not try to generate with untrained unets\n"
     ]
    },
    {
     "name": "stderr",
     "output_type": "stream",
     "text": [
      "sampling loop time step: 100%|██████████| 1000/1000 [00:39<00:00, 25.40it/s]\n",
      "0it [00:39, ?it/s]\n"
     ]
    },
    {
     "name": "stdout",
     "output_type": "stream",
     "text": [
      "valid loss: 0.004084060434252024\n",
      "valid loss: 0.0043865698389709\n",
      "valid loss: 0.005766476970165968\n",
      "valid loss: 0.00317954714410007\n",
      "valid loss: 0.006293789949268103\n",
      "valid loss: 0.004786768462508917\n",
      "valid loss: 0.003379259957000613\n",
      "valid loss: 0.0047816867008805275\n",
      "valid loss: 0.0046472931280732155\n",
      "valid loss: 0.006189183332026005\n",
      "valid loss: 0.004263091366738081\n",
      "valid loss: 0.0024274771567434072\n",
      "valid loss: 0.005754975602030754\n",
      "valid loss: 0.0034750141203403473\n",
      "valid loss: 0.003425341099500656\n",
      "valid loss: 0.005778379738330841\n",
      "valid loss: 0.004719303455203772\n",
      "valid loss: 0.0023564384318888187\n",
      "valid loss: 0.002963840030133724\n",
      "valid loss: 0.007619630079716444\n",
      "unet 2 has not been trained\n",
      "when sampling, you can pass stop_at_unet_number to stop early in the cascade, so it does not try to generate with untrained unets\n"
     ]
    },
    {
     "name": "stderr",
     "output_type": "stream",
     "text": [
      "sampling loop time step: 100%|██████████| 1000/1000 [00:49<00:00, 20.20it/s]\n",
      "0it [00:49, ?it/s]\n"
     ]
    },
    {
     "name": "stdout",
     "output_type": "stream",
     "text": [
      "valid loss: 0.0057124244049191475\n",
      "valid loss: 0.003968475386500359\n",
      "valid loss: 0.0052107833325862885\n",
      "valid loss: 0.003862569108605385\n",
      "valid loss: 0.005301421973854303\n",
      "valid loss: 0.004311568569391966\n",
      "valid loss: 0.002929480979219079\n",
      "valid loss: 0.007764582987874746\n",
      "valid loss: 0.0038584580179303885\n",
      "valid loss: 0.0030812816694378853\n",
      "valid loss: 0.004475445486605167\n",
      "valid loss: 0.00379268079996109\n",
      "valid loss: 0.008002171292901039\n",
      "valid loss: 0.004096729215234518\n",
      "valid loss: 0.005029388703405857\n",
      "valid loss: 0.005136231426149607\n",
      "valid loss: 0.0019119633361697197\n",
      "valid loss: 0.004770600236952305\n",
      "valid loss: 0.0023752660490572453\n",
      "valid loss: 0.006732054054737091\n",
      "unet 2 has not been trained\n",
      "when sampling, you can pass stop_at_unet_number to stop early in the cascade, so it does not try to generate with untrained unets\n"
     ]
    },
    {
     "name": "stderr",
     "output_type": "stream",
     "text": [
      "sampling loop time step: 100%|██████████| 1000/1000 [00:39<00:00, 25.48it/s]\n",
      "0it [00:39, ?it/s]\n"
     ]
    },
    {
     "name": "stdout",
     "output_type": "stream",
     "text": [
      "valid loss: 0.003946002572774887\n",
      "valid loss: 0.0034180886577814817\n",
      "valid loss: 0.004949960391968489\n",
      "valid loss: 0.004214826505631208\n",
      "valid loss: 0.0054612900130450726\n",
      "valid loss: 0.004312776029109955\n",
      "valid loss: 0.004493143409490585\n",
      "valid loss: 0.003305017715319991\n",
      "valid loss: 0.003722915193066001\n",
      "valid loss: 0.005031866952776909\n",
      "valid loss: 0.007506218738853931\n",
      "valid loss: 0.003981695976108313\n",
      "valid loss: 0.009077680297195911\n",
      "valid loss: 0.002470916137099266\n",
      "valid loss: 0.006187272723764181\n",
      "valid loss: 0.004359999671578407\n",
      "valid loss: 0.004815314896404743\n",
      "valid loss: 0.007383525371551514\n",
      "valid loss: 0.0032605237793177366\n",
      "valid loss: 0.00651977164670825\n",
      "unet 2 has not been trained\n",
      "when sampling, you can pass stop_at_unet_number to stop early in the cascade, so it does not try to generate with untrained unets\n"
     ]
    },
    {
     "name": "stderr",
     "output_type": "stream",
     "text": [
      "sampling loop time step: 100%|██████████| 1000/1000 [00:45<00:00, 21.86it/s]\n",
      "0it [00:45, ?it/s]\n"
     ]
    },
    {
     "name": "stdout",
     "output_type": "stream",
     "text": [
      "valid loss: 0.007258206605911255\n",
      "valid loss: 0.004006349015980959\n",
      "valid loss: 0.006556092295795679\n",
      "valid loss: 0.0050043645314872265\n",
      "valid loss: 0.004472558852285147\n",
      "valid loss: 0.0054832459427416325\n",
      "valid loss: 0.0034803561866283417\n",
      "valid loss: 0.003321633208543062\n",
      "valid loss: 0.0035627135075628757\n",
      "valid loss: 0.005418896675109863\n",
      "valid loss: 0.009418741799890995\n",
      "valid loss: 0.004002070054411888\n",
      "valid loss: 0.006730616092681885\n",
      "valid loss: 0.002520680194720626\n",
      "valid loss: 0.0034478174056857824\n",
      "valid loss: 0.00746504170820117\n",
      "valid loss: 0.0035234764218330383\n",
      "valid loss: 0.005015181843191385\n",
      "valid loss: 0.004769794177263975\n",
      "valid loss: 0.006066081579774618\n",
      "unet 2 has not been trained\n",
      "when sampling, you can pass stop_at_unet_number to stop early in the cascade, so it does not try to generate with untrained unets\n"
     ]
    },
    {
     "name": "stderr",
     "output_type": "stream",
     "text": [
      "sampling loop time step: 100%|██████████| 1000/1000 [00:46<00:00, 21.30it/s]\n",
      "0it [00:47, ?it/s]\n"
     ]
    },
    {
     "name": "stdout",
     "output_type": "stream",
     "text": [
      "valid loss: 0.004538512323051691\n",
      "valid loss: 0.004649316426366568\n",
      "valid loss: 0.008816207759082317\n",
      "valid loss: 0.004856296814978123\n",
      "valid loss: 0.004503690637648106\n",
      "valid loss: 0.005234780255705118\n",
      "valid loss: 0.002236993983387947\n",
      "valid loss: 0.006108375731855631\n",
      "valid loss: 0.0026281308382749557\n",
      "valid loss: 0.0021522578317672014\n",
      "valid loss: 0.006012434139847755\n",
      "valid loss: 0.0024509322829544544\n",
      "valid loss: 0.01007778849452734\n",
      "valid loss: 0.005895380862057209\n",
      "valid loss: 0.006951326038688421\n",
      "valid loss: 0.00827751774340868\n",
      "valid loss: 0.0034172937739640474\n",
      "valid loss: 0.005184082314372063\n",
      "valid loss: 0.004282773472368717\n",
      "valid loss: 0.0051840245723724365\n",
      "unet 2 has not been trained\n",
      "when sampling, you can pass stop_at_unet_number to stop early in the cascade, so it does not try to generate with untrained unets\n"
     ]
    },
    {
     "name": "stderr",
     "output_type": "stream",
     "text": [
      "sampling loop time step: 100%|██████████| 1000/1000 [00:40<00:00, 24.40it/s]\n",
      "0it [00:41, ?it/s]\n"
     ]
    },
    {
     "name": "stdout",
     "output_type": "stream",
     "text": [
      "valid loss: 0.007693600840866566\n",
      "valid loss: 0.0035615430679172277\n",
      "valid loss: 0.004774471279233694\n",
      "valid loss: 0.0025535859167575836\n",
      "valid loss: 0.005897652357816696\n",
      "valid loss: 0.0025150596629828215\n",
      "valid loss: 0.00416272459551692\n",
      "valid loss: 0.005515416618436575\n",
      "valid loss: 0.0032617466058582067\n",
      "valid loss: 0.004324065055698156\n",
      "valid loss: 0.005156654864549637\n",
      "valid loss: 0.005902244709432125\n",
      "valid loss: 0.008226622827351093\n",
      "valid loss: 0.002621521009132266\n",
      "valid loss: 0.005699826870113611\n",
      "valid loss: 0.0011194266844540834\n",
      "valid loss: 0.003124684328213334\n",
      "valid loss: 0.009634857065975666\n",
      "valid loss: 0.0030818197410553694\n",
      "valid loss: 0.0037538285832852125\n",
      "unet 2 has not been trained\n",
      "when sampling, you can pass stop_at_unet_number to stop early in the cascade, so it does not try to generate with untrained unets\n"
     ]
    },
    {
     "name": "stderr",
     "output_type": "stream",
     "text": [
      "sampling loop time step: 100%|██████████| 1000/1000 [00:39<00:00, 25.39it/s]\n",
      "0it [00:39, ?it/s]\n"
     ]
    },
    {
     "name": "stdout",
     "output_type": "stream",
     "text": [
      "valid loss: 0.0034144141245633364\n",
      "valid loss: 0.0011771952267736197\n",
      "valid loss: 0.006987419910728931\n",
      "valid loss: 0.003463421016931534\n",
      "valid loss: 0.006441617850214243\n",
      "valid loss: 0.009166650474071503\n",
      "valid loss: 0.0018190257251262665\n",
      "valid loss: 0.006423828192055225\n",
      "valid loss: 0.00434521958231926\n",
      "valid loss: 0.0051749711856245995\n",
      "valid loss: 0.006096459925174713\n",
      "valid loss: 0.0027942091692239046\n",
      "valid loss: 0.007414506282657385\n",
      "valid loss: 0.002951422706246376\n",
      "valid loss: 0.004962918348610401\n",
      "valid loss: 0.005477088037878275\n",
      "valid loss: 0.0035816829185932875\n",
      "valid loss: 0.005224399268627167\n",
      "valid loss: 0.0036056337412446737\n",
      "valid loss: 0.00370465568266809\n",
      "unet 2 has not been trained\n",
      "when sampling, you can pass stop_at_unet_number to stop early in the cascade, so it does not try to generate with untrained unets\n"
     ]
    },
    {
     "name": "stderr",
     "output_type": "stream",
     "text": [
      "sampling loop time step: 100%|██████████| 1000/1000 [00:43<00:00, 23.03it/s]\n",
      "0it [00:43, ?it/s]\n"
     ]
    },
    {
     "name": "stdout",
     "output_type": "stream",
     "text": [
      "valid loss: 0.006939926650375128\n",
      "valid loss: 0.0024562301114201546\n",
      "valid loss: 0.008828423917293549\n",
      "valid loss: 0.0040549542754888535\n",
      "valid loss: 0.0047091045416891575\n",
      "valid loss: 0.007372555788606405\n",
      "valid loss: 0.001838021562434733\n",
      "valid loss: 0.004175116773694754\n",
      "valid loss: 0.0021388877648860216\n",
      "valid loss: 0.005430680233985186\n",
      "valid loss: 0.0043441615998744965\n",
      "valid loss: 0.006417327560484409\n",
      "valid loss: 0.0021363417617976665\n",
      "valid loss: 0.00509021058678627\n",
      "valid loss: 0.0055970991961658\n",
      "valid loss: 0.006862930953502655\n",
      "valid loss: 0.005327601917088032\n",
      "valid loss: 0.005628549959510565\n",
      "valid loss: 0.004880573134869337\n",
      "valid loss: 0.005576411262154579\n",
      "unet 2 has not been trained\n",
      "when sampling, you can pass stop_at_unet_number to stop early in the cascade, so it does not try to generate with untrained unets\n"
     ]
    },
    {
     "name": "stderr",
     "output_type": "stream",
     "text": [
      "sampling loop time step: 100%|██████████| 1000/1000 [00:46<00:00, 21.33it/s]\n",
      "0it [00:47, ?it/s]\n"
     ]
    },
    {
     "name": "stdout",
     "output_type": "stream",
     "text": [
      "valid loss: 0.006626622285693884\n",
      "checkpoint saved to imagen_two_unets_24s.pt\n",
      "valid loss: 0.0024215243756771088\n",
      "valid loss: 0.0040748282335698605\n",
      "valid loss: 0.0020433866884559393\n",
      "valid loss: 0.004988897126168013\n",
      "valid loss: 0.00600460497662425\n",
      "valid loss: 0.005186956375837326\n",
      "valid loss: 0.0058869849890470505\n",
      "valid loss: 0.005722233094274998\n",
      "valid loss: 0.003330437932163477\n",
      "valid loss: 0.007764499168843031\n",
      "valid loss: 0.0021891226060688496\n",
      "valid loss: 0.0039703259244561195\n",
      "valid loss: 0.006343199405819178\n",
      "valid loss: 0.005496351979672909\n",
      "valid loss: 0.008190351538360119\n",
      "valid loss: 0.0049046799540519714\n",
      "valid loss: 0.006372848059982061\n",
      "valid loss: 0.001721161068417132\n",
      "valid loss: 0.0044295466504991055\n",
      "unet 2 has not been trained\n",
      "when sampling, you can pass stop_at_unet_number to stop early in the cascade, so it does not try to generate with untrained unets\n"
     ]
    },
    {
     "name": "stderr",
     "output_type": "stream",
     "text": [
      "sampling loop time step: 100%|██████████| 1000/1000 [00:46<00:00, 21.29it/s]\n",
      "0it [00:47, ?it/s]\n"
     ]
    },
    {
     "name": "stdout",
     "output_type": "stream",
     "text": [
      "valid loss: 0.0035551467444747686\n",
      "valid loss: 0.004911842290312052\n",
      "valid loss: 0.00426193093881011\n",
      "valid loss: 0.0055605084635317326\n",
      "valid loss: 0.006010792218148708\n",
      "valid loss: 0.0039772461168468\n",
      "valid loss: 0.005053571425378323\n",
      "valid loss: 0.003422340378165245\n",
      "valid loss: 0.0029944356065243483\n",
      "valid loss: 0.003916106652468443\n",
      "valid loss: 0.0048533654771745205\n",
      "valid loss: 0.0042226361110806465\n",
      "valid loss: 0.008875325322151184\n",
      "valid loss: 0.004786101635545492\n",
      "valid loss: 0.003478575497865677\n",
      "valid loss: 0.004791043233126402\n",
      "valid loss: 0.0030023441649973392\n",
      "valid loss: 0.006897536106407642\n",
      "valid loss: 0.0040130107663571835\n",
      "valid loss: 0.0035775022115558386\n",
      "unet 2 has not been trained\n",
      "when sampling, you can pass stop_at_unet_number to stop early in the cascade, so it does not try to generate with untrained unets\n"
     ]
    },
    {
     "name": "stderr",
     "output_type": "stream",
     "text": [
      "sampling loop time step: 100%|██████████| 1000/1000 [00:45<00:00, 22.17it/s]\n",
      "0it [00:45, ?it/s]\n"
     ]
    },
    {
     "name": "stdout",
     "output_type": "stream",
     "text": [
      "valid loss: 0.006595784332603216\n",
      "valid loss: 0.003106508171185851\n",
      "valid loss: 0.003858604235574603\n",
      "valid loss: 0.004296525847166777\n",
      "valid loss: 0.004991506692022085\n",
      "valid loss: 0.009595189243555069\n",
      "valid loss: 0.004761646036058664\n",
      "valid loss: 0.006893869489431381\n",
      "valid loss: 0.005235953722149134\n",
      "valid loss: 0.0034031968098133802\n",
      "valid loss: 0.007673385087400675\n",
      "valid loss: 0.0046599917113780975\n",
      "valid loss: 0.007948653772473335\n",
      "valid loss: 0.004487534053623676\n",
      "valid loss: 0.006494766566902399\n",
      "valid loss: 0.006929902825504541\n",
      "valid loss: 0.004976383876055479\n",
      "valid loss: 0.00805246364325285\n",
      "valid loss: 0.0018663642695173621\n",
      "valid loss: 0.00284216389991343\n",
      "unet 2 has not been trained\n",
      "when sampling, you can pass stop_at_unet_number to stop early in the cascade, so it does not try to generate with untrained unets\n"
     ]
    },
    {
     "name": "stderr",
     "output_type": "stream",
     "text": [
      "sampling loop time step: 100%|██████████| 1000/1000 [00:49<00:00, 20.23it/s]\n",
      "0it [00:49, ?it/s]\n"
     ]
    },
    {
     "name": "stdout",
     "output_type": "stream",
     "text": [
      "valid loss: 0.004558801185339689\n",
      "valid loss: 0.005363529082387686\n",
      "valid loss: 0.005860652308911085\n",
      "valid loss: 0.004629415925592184\n",
      "valid loss: 0.003479453269392252\n",
      "valid loss: 0.006444806698709726\n",
      "valid loss: 0.004074558615684509\n",
      "valid loss: 0.0044383094646036625\n",
      "valid loss: 0.004719130229204893\n",
      "valid loss: 0.0027369982562959194\n",
      "valid loss: 0.005516897886991501\n",
      "valid loss: 0.005495003890246153\n",
      "valid loss: 0.006377583835273981\n",
      "valid loss: 0.004321437329053879\n",
      "valid loss: 0.0049956743605434895\n",
      "valid loss: 0.003169868839904666\n",
      "valid loss: 0.004400915466248989\n",
      "valid loss: 0.004533999599516392\n",
      "valid loss: 0.003506588516756892\n",
      "valid loss: 0.007664781995117664\n",
      "unet 2 has not been trained\n",
      "when sampling, you can pass stop_at_unet_number to stop early in the cascade, so it does not try to generate with untrained unets\n"
     ]
    },
    {
     "name": "stderr",
     "output_type": "stream",
     "text": [
      "sampling loop time step: 100%|██████████| 1000/1000 [00:39<00:00, 25.07it/s]\n",
      "0it [00:40, ?it/s]\n"
     ]
    },
    {
     "name": "stdout",
     "output_type": "stream",
     "text": [
      "valid loss: 0.006905506830662489\n",
      "valid loss: 0.004626231733709574\n",
      "valid loss: 0.002048811875283718\n",
      "valid loss: 0.0027254868764430285\n",
      "valid loss: 0.005928289145231247\n",
      "valid loss: 0.00885069277137518\n",
      "valid loss: 0.0038277306593954563\n",
      "valid loss: 0.009609730914235115\n",
      "valid loss: 0.0017036916688084602\n",
      "valid loss: 0.006551885511726141\n",
      "valid loss: 0.004259580280631781\n",
      "valid loss: 0.0026626817416399717\n",
      "valid loss: 0.008337090723216534\n",
      "valid loss: 0.003630048828199506\n",
      "valid loss: 0.005875691771507263\n",
      "valid loss: 0.003886864287778735\n",
      "valid loss: 0.004223032854497433\n",
      "valid loss: 0.004778740461915731\n",
      "valid loss: 0.001828916952945292\n",
      "valid loss: 0.004074019845575094\n",
      "unet 2 has not been trained\n",
      "when sampling, you can pass stop_at_unet_number to stop early in the cascade, so it does not try to generate with untrained unets\n"
     ]
    },
    {
     "name": "stderr",
     "output_type": "stream",
     "text": [
      "sampling loop time step: 100%|██████████| 1000/1000 [00:39<00:00, 25.43it/s]\n",
      "0it [00:39, ?it/s]\n"
     ]
    },
    {
     "name": "stdout",
     "output_type": "stream",
     "text": [
      "valid loss: 0.006032366305589676\n",
      "valid loss: 0.002660255180671811\n",
      "valid loss: 0.007601382676512003\n",
      "valid loss: 0.0036743839737027884\n",
      "valid loss: 0.007724172901362181\n",
      "valid loss: 0.008838489651679993\n",
      "valid loss: 0.0021179199684411287\n",
      "valid loss: 0.008166850544512272\n",
      "valid loss: 0.004141645040363073\n",
      "valid loss: 0.006044979672878981\n",
      "valid loss: 0.007280177902430296\n",
      "valid loss: 0.0043218694627285\n",
      "valid loss: 0.007981928996741772\n",
      "valid loss: 0.005651944782584906\n",
      "valid loss: 0.0060853539034724236\n",
      "valid loss: 0.0037621669471263885\n",
      "valid loss: 0.0038346536457538605\n",
      "valid loss: 0.008205714635550976\n",
      "valid loss: 0.004121828358620405\n",
      "valid loss: 0.003874310990795493\n",
      "unet 2 has not been trained\n",
      "when sampling, you can pass stop_at_unet_number to stop early in the cascade, so it does not try to generate with untrained unets\n"
     ]
    },
    {
     "name": "stderr",
     "output_type": "stream",
     "text": [
      "sampling loop time step: 100%|██████████| 1000/1000 [00:39<00:00, 25.21it/s]\n",
      "0it [00:39, ?it/s]\n"
     ]
    },
    {
     "name": "stdout",
     "output_type": "stream",
     "text": [
      "valid loss: 0.007087483536452055\n",
      "valid loss: 0.003945641219615936\n",
      "valid loss: 0.006304004695266485\n",
      "valid loss: 0.0046904669143259525\n",
      "valid loss: 0.004251411650329828\n",
      "valid loss: 0.004103504586964846\n",
      "valid loss: 0.004028754774481058\n",
      "valid loss: 0.00634018937125802\n",
      "valid loss: 0.004670730326324701\n",
      "valid loss: 0.005839149467647076\n",
      "valid loss: 0.007102970965206623\n",
      "valid loss: 0.005236907862126827\n",
      "valid loss: 0.006377180572599173\n",
      "valid loss: 0.004941154271364212\n",
      "valid loss: 0.003471671137958765\n",
      "valid loss: 0.008313816972076893\n",
      "valid loss: 0.005034553352743387\n",
      "valid loss: 0.006726905703544617\n",
      "valid loss: 0.003249209374189377\n",
      "valid loss: 0.005286518484354019\n",
      "unet 2 has not been trained\n",
      "when sampling, you can pass stop_at_unet_number to stop early in the cascade, so it does not try to generate with untrained unets\n"
     ]
    },
    {
     "name": "stderr",
     "output_type": "stream",
     "text": [
      "sampling loop time step: 100%|██████████| 1000/1000 [00:43<00:00, 22.88it/s]\n",
      "0it [00:43, ?it/s]\n"
     ]
    },
    {
     "name": "stdout",
     "output_type": "stream",
     "text": [
      "valid loss: 0.006117652170360088\n",
      "valid loss: 0.003803648753091693\n",
      "valid loss: 0.006563817150890827\n",
      "valid loss: 0.003001206088811159\n",
      "valid loss: 0.007277023978531361\n",
      "valid loss: 0.0076454984955489635\n",
      "valid loss: 0.005203798413276672\n",
      "valid loss: 0.004859528969973326\n",
      "valid loss: 0.004181049298495054\n",
      "valid loss: 0.007404509466141462\n",
      "valid loss: 0.003496643155813217\n",
      "valid loss: 0.004110666457563639\n",
      "valid loss: 0.006261132657527924\n",
      "valid loss: 0.004668461624532938\n",
      "valid loss: 0.0050561698153615\n",
      "valid loss: 0.008813715539872646\n",
      "valid loss: 0.004830494523048401\n",
      "valid loss: 0.008813264779746532\n",
      "valid loss: 0.003393279854208231\n",
      "valid loss: 0.005126388277858496\n",
      "unet 2 has not been trained\n",
      "when sampling, you can pass stop_at_unet_number to stop early in the cascade, so it does not try to generate with untrained unets\n"
     ]
    },
    {
     "name": "stderr",
     "output_type": "stream",
     "text": [
      "sampling loop time step: 100%|██████████| 1000/1000 [00:39<00:00, 25.42it/s]\n",
      "0it [00:39, ?it/s]\n"
     ]
    },
    {
     "name": "stdout",
     "output_type": "stream",
     "text": [
      "valid loss: 0.0061835008673369884\n",
      "valid loss: 0.003600585972890258\n",
      "valid loss: 0.008904187940061092\n",
      "valid loss: 0.0013201322872191668\n",
      "valid loss: 0.006541782524436712\n",
      "valid loss: 0.0067793503403663635\n",
      "valid loss: 0.005519653204828501\n",
      "valid loss: 0.005510607268661261\n",
      "valid loss: 0.002699595643207431\n",
      "valid loss: 0.0035458311904221773\n",
      "valid loss: 0.0038172390777617693\n",
      "valid loss: 0.003800543723627925\n",
      "valid loss: 0.008752585388720036\n",
      "valid loss: 0.005328386090695858\n",
      "valid loss: 0.0037593289744108915\n",
      "valid loss: 0.007757470943033695\n",
      "valid loss: 0.003819479839876294\n",
      "valid loss: 0.008460941724479198\n",
      "valid loss: 0.0044490196742117405\n",
      "valid loss: 0.0033935350365936756\n",
      "unet 2 has not been trained\n",
      "when sampling, you can pass stop_at_unet_number to stop early in the cascade, so it does not try to generate with untrained unets\n"
     ]
    },
    {
     "name": "stderr",
     "output_type": "stream",
     "text": [
      "sampling loop time step: 100%|██████████| 1000/1000 [00:49<00:00, 20.23it/s]\n",
      "0it [00:49, ?it/s]\n"
     ]
    },
    {
     "name": "stdout",
     "output_type": "stream",
     "text": [
      "valid loss: 0.003346285317093134\n",
      "valid loss: 0.002806101692840457\n",
      "valid loss: 0.0077839805744588375\n",
      "valid loss: 0.0040632691234350204\n",
      "valid loss: 0.00555183133110404\n",
      "valid loss: 0.008349803276360035\n",
      "valid loss: 0.005781453102827072\n",
      "valid loss: 0.008678358979523182\n",
      "valid loss: 0.0038708539213985205\n",
      "valid loss: 0.005572304129600525\n",
      "valid loss: 0.00401607621461153\n",
      "valid loss: 0.004521069582551718\n",
      "valid loss: 0.007349892985075712\n",
      "valid loss: 0.004702657461166382\n",
      "valid loss: 0.003999493550509214\n",
      "valid loss: 0.005469788331538439\n",
      "valid loss: 0.0030788311269134283\n",
      "valid loss: 0.01064207125455141\n",
      "valid loss: 0.004896143916994333\n",
      "valid loss: 0.0019498205510899425\n",
      "unet 2 has not been trained\n",
      "when sampling, you can pass stop_at_unet_number to stop early in the cascade, so it does not try to generate with untrained unets\n"
     ]
    },
    {
     "name": "stderr",
     "output_type": "stream",
     "text": [
      "sampling loop time step: 100%|██████████| 1000/1000 [00:40<00:00, 24.99it/s]\n",
      "0it [00:40, ?it/s]\n"
     ]
    },
    {
     "name": "stdout",
     "output_type": "stream",
     "text": [
      "valid loss: 0.009224592708051205\n",
      "checkpoint saved to imagen_two_unets_24s.pt\n",
      "valid loss: 0.0046165576204657555\n",
      "valid loss: 0.007276895921677351\n",
      "valid loss: 0.00429913867264986\n",
      "valid loss: 0.0049636573530733585\n",
      "valid loss: 0.003994093742221594\n",
      "valid loss: 0.003891392145305872\n",
      "valid loss: 0.008223050273954868\n",
      "valid loss: 0.004500256851315498\n",
      "valid loss: 0.008427154272794724\n",
      "valid loss: 0.007874327711760998\n",
      "valid loss: 0.0027108844369649887\n",
      "valid loss: 0.006899310741573572\n",
      "valid loss: 0.003760435851290822\n",
      "valid loss: 0.0030391819309443235\n",
      "valid loss: 0.00828164629638195\n",
      "valid loss: 0.004231257829815149\n",
      "valid loss: 0.006911686155945063\n",
      "valid loss: 0.0035408164840191603\n",
      "valid loss: 0.007992306724190712\n",
      "unet 2 has not been trained\n",
      "when sampling, you can pass stop_at_unet_number to stop early in the cascade, so it does not try to generate with untrained unets\n"
     ]
    },
    {
     "name": "stderr",
     "output_type": "stream",
     "text": [
      "sampling loop time step: 100%|██████████| 1000/1000 [00:47<00:00, 21.03it/s]\n",
      "0it [00:47, ?it/s]\n"
     ]
    },
    {
     "name": "stdout",
     "output_type": "stream",
     "text": [
      "valid loss: 0.0052535575814545155\n",
      "valid loss: 0.005447080824524164\n",
      "valid loss: 0.007046020124107599\n",
      "valid loss: 0.004427048843353987\n",
      "valid loss: 0.006037882063537836\n",
      "valid loss: 0.004214635118842125\n",
      "valid loss: 0.0053808377124369144\n",
      "valid loss: 0.004841843154281378\n",
      "valid loss: 0.004294018726795912\n",
      "valid loss: 0.008594231680035591\n",
      "valid loss: 0.00758386543020606\n",
      "valid loss: 0.003454057965427637\n",
      "valid loss: 0.006536682602018118\n",
      "valid loss: 0.005358424969017506\n",
      "valid loss: 0.005118337459862232\n",
      "valid loss: 0.00708616292104125\n",
      "valid loss: 0.0037527724634855986\n",
      "valid loss: 0.009601562283933163\n",
      "valid loss: 0.00451784860342741\n",
      "valid loss: 0.0038500563241541386\n",
      "unet 2 has not been trained\n",
      "when sampling, you can pass stop_at_unet_number to stop early in the cascade, so it does not try to generate with untrained unets\n"
     ]
    },
    {
     "name": "stderr",
     "output_type": "stream",
     "text": [
      "sampling loop time step: 100%|██████████| 1000/1000 [00:39<00:00, 25.44it/s]\n",
      "0it [00:39, ?it/s]\n"
     ]
    },
    {
     "name": "stdout",
     "output_type": "stream",
     "text": [
      "valid loss: 0.007730537094175816\n",
      "valid loss: 0.002632538555189967\n",
      "valid loss: 0.005515379831194878\n",
      "valid loss: 0.00458462443202734\n",
      "valid loss: 0.00523389084264636\n",
      "valid loss: 0.006063609849661589\n",
      "valid loss: 0.005993648897856474\n",
      "valid loss: 0.007679566740989685\n",
      "valid loss: 0.004146318417042494\n",
      "valid loss: 0.004592535551637411\n",
      "valid loss: 0.005204577464610338\n",
      "valid loss: 0.0036936120595782995\n",
      "valid loss: 0.0052271210588514805\n",
      "valid loss: 0.004128036089241505\n",
      "valid loss: 0.00361361401155591\n",
      "valid loss: 0.008007579483091831\n",
      "valid loss: 0.005774873774498701\n",
      "valid loss: 0.008786847814917564\n",
      "valid loss: 0.0018258016789332032\n",
      "valid loss: 0.005644654389470816\n",
      "unet 2 has not been trained\n",
      "when sampling, you can pass stop_at_unet_number to stop early in the cascade, so it does not try to generate with untrained unets\n"
     ]
    },
    {
     "name": "stderr",
     "output_type": "stream",
     "text": [
      "sampling loop time step: 100%|██████████| 1000/1000 [00:39<00:00, 25.43it/s]\n",
      "0it [00:39, ?it/s]\n"
     ]
    },
    {
     "name": "stdout",
     "output_type": "stream",
     "text": [
      "valid loss: 0.0038084741681814194\n",
      "valid loss: 0.004498199559748173\n",
      "valid loss: 0.003819810226559639\n",
      "valid loss: 0.002169446088373661\n",
      "valid loss: 0.0068849967792630196\n",
      "valid loss: 0.006831356789916754\n",
      "valid loss: 0.005737602710723877\n",
      "valid loss: 0.008049658499658108\n",
      "valid loss: 0.004462095908820629\n",
      "valid loss: 0.006065491121262312\n",
      "valid loss: 0.004131306894123554\n",
      "valid loss: 0.0039589679799973965\n",
      "valid loss: 0.008225403726100922\n",
      "valid loss: 0.0026834101881831884\n",
      "valid loss: 0.005675768945366144\n",
      "valid loss: 0.007082223892211914\n",
      "valid loss: 0.005916444119066\n",
      "valid loss: 0.008293184451758862\n",
      "valid loss: 0.0039248988032341\n",
      "valid loss: 0.003561361227184534\n",
      "unet 2 has not been trained\n",
      "when sampling, you can pass stop_at_unet_number to stop early in the cascade, so it does not try to generate with untrained unets\n"
     ]
    },
    {
     "name": "stderr",
     "output_type": "stream",
     "text": [
      "sampling loop time step: 100%|██████████| 1000/1000 [00:47<00:00, 21.03it/s]\n",
      "0it [00:47, ?it/s]\n"
     ]
    },
    {
     "name": "stdout",
     "output_type": "stream",
     "text": [
      "valid loss: 0.006025200244039297\n",
      "valid loss: 0.004990520887076855\n",
      "valid loss: 0.005640857852995396\n",
      "valid loss: 0.0026113614439964294\n",
      "valid loss: 0.004587005358189344\n",
      "valid loss: 0.00829322636127472\n",
      "valid loss: 0.004580199718475342\n",
      "valid loss: 0.00835054088383913\n",
      "valid loss: 0.002083946717903018\n",
      "valid loss: 0.005281846504658461\n",
      "valid loss: 0.00986376591026783\n",
      "valid loss: 0.004700573161244392\n",
      "valid loss: 0.005957792047411203\n",
      "valid loss: 0.0039087631739676\n",
      "valid loss: 0.007432833313941956\n",
      "valid loss: 0.009612408466637135\n",
      "valid loss: 0.00446880841627717\n",
      "valid loss: 0.007221701089292765\n",
      "valid loss: 0.0036116025876253843\n",
      "valid loss: 0.006626443471759558\n",
      "unet 2 has not been trained\n",
      "when sampling, you can pass stop_at_unet_number to stop early in the cascade, so it does not try to generate with untrained unets\n"
     ]
    },
    {
     "name": "stderr",
     "output_type": "stream",
     "text": [
      "sampling loop time step: 100%|██████████| 1000/1000 [00:39<00:00, 25.51it/s]\n",
      "0it [00:39, ?it/s]\n"
     ]
    },
    {
     "name": "stdout",
     "output_type": "stream",
     "text": [
      "valid loss: 0.0022464778739959\n",
      "valid loss: 0.005497423931956291\n",
      "valid loss: 0.009136239998042583\n",
      "valid loss: 0.0029254541732370853\n",
      "valid loss: 0.004782638046890497\n",
      "valid loss: 0.008549976162612438\n",
      "valid loss: 0.005459215492010117\n",
      "valid loss: 0.006828661542385817\n",
      "valid loss: 0.0035336657892912626\n",
      "valid loss: 0.007569209672510624\n",
      "valid loss: 0.004990905057638884\n",
      "valid loss: 0.005334454122930765\n",
      "valid loss: 0.009073277935385704\n",
      "valid loss: 0.0038556568324565887\n",
      "valid loss: 0.006256528198719025\n",
      "valid loss: 0.004630747251212597\n",
      "valid loss: 0.0028425396885722876\n",
      "valid loss: 0.0034091637935489416\n",
      "valid loss: 0.0028987720143049955\n",
      "valid loss: 0.004767525941133499\n",
      "unet 2 has not been trained\n",
      "when sampling, you can pass stop_at_unet_number to stop early in the cascade, so it does not try to generate with untrained unets\n"
     ]
    },
    {
     "name": "stderr",
     "output_type": "stream",
     "text": [
      "sampling loop time step: 100%|██████████| 1000/1000 [00:39<00:00, 25.39it/s]\n",
      "0it [00:39, ?it/s]\n"
     ]
    },
    {
     "name": "stdout",
     "output_type": "stream",
     "text": [
      "valid loss: 0.007221825420856476\n",
      "valid loss: 0.004768135491758585\n",
      "valid loss: 0.005127699580043554\n",
      "valid loss: 0.005352415144443512\n",
      "valid loss: 0.004137545824050903\n",
      "valid loss: 0.006885917391628027\n",
      "valid loss: 0.0026431267615407705\n",
      "valid loss: 0.009525111876428127\n",
      "valid loss: 0.0030221440829336643\n",
      "valid loss: 0.0061949933879077435\n",
      "valid loss: 0.011282145977020264\n",
      "valid loss: 0.0024094213731586933\n",
      "valid loss: 0.010210170410573483\n",
      "valid loss: 0.005099849309772253\n",
      "valid loss: 0.0039642262272536755\n",
      "valid loss: 0.004393342416733503\n",
      "valid loss: 0.004778470378369093\n",
      "valid loss: 0.007140808738768101\n",
      "valid loss: 0.0036767886485904455\n",
      "valid loss: 0.0032512873876839876\n",
      "unet 2 has not been trained\n",
      "when sampling, you can pass stop_at_unet_number to stop early in the cascade, so it does not try to generate with untrained unets\n"
     ]
    },
    {
     "name": "stderr",
     "output_type": "stream",
     "text": [
      "sampling loop time step: 100%|██████████| 1000/1000 [00:47<00:00, 21.23it/s]\n",
      "0it [00:47, ?it/s]\n"
     ]
    },
    {
     "name": "stdout",
     "output_type": "stream",
     "text": [
      "valid loss: 0.004897572100162506\n",
      "valid loss: 0.0037570360582321882\n",
      "valid loss: 0.003952539060264826\n",
      "valid loss: 0.004280020482838154\n",
      "valid loss: 0.005392063874751329\n",
      "valid loss: 0.006856172811239958\n",
      "valid loss: 0.003068041056394577\n",
      "valid loss: 0.006783028598874807\n",
      "valid loss: 0.005810529459267855\n",
      "valid loss: 0.00702665327116847\n",
      "valid loss: 0.006146607920527458\n",
      "valid loss: 0.005650874227285385\n",
      "valid loss: 0.009606464765965939\n",
      "valid loss: 0.0028424893971532583\n",
      "valid loss: 0.004594828467816114\n",
      "valid loss: 0.009411985985934734\n",
      "valid loss: 0.006353322416543961\n",
      "valid loss: 0.0077597275376319885\n",
      "valid loss: 0.005190784577280283\n",
      "valid loss: 0.007330701686441898\n",
      "unet 2 has not been trained\n",
      "when sampling, you can pass stop_at_unet_number to stop early in the cascade, so it does not try to generate with untrained unets\n"
     ]
    },
    {
     "name": "stderr",
     "output_type": "stream",
     "text": [
      "sampling loop time step: 100%|██████████| 1000/1000 [00:45<00:00, 22.10it/s]\n",
      "0it [00:45, ?it/s]\n"
     ]
    },
    {
     "name": "stdout",
     "output_type": "stream",
     "text": [
      "valid loss: 0.008262588642537594\n",
      "valid loss: 0.0035677861887961626\n",
      "valid loss: 0.008765578269958496\n",
      "valid loss: 0.004400565754622221\n",
      "valid loss: 0.005990113131701946\n",
      "valid loss: 0.006001909729093313\n",
      "valid loss: 0.001960077090188861\n",
      "valid loss: 0.007662353105843067\n",
      "valid loss: 0.004026185255497694\n",
      "valid loss: 0.005220641847699881\n",
      "valid loss: 0.00845430139452219\n",
      "valid loss: 0.005118988454341888\n",
      "valid loss: 0.007091461215168238\n",
      "valid loss: 0.0028541130013763905\n",
      "valid loss: 0.0037089453544467688\n",
      "valid loss: 0.008223095908761024\n",
      "valid loss: 0.0057093375362455845\n",
      "valid loss: 0.0101520586758852\n",
      "valid loss: 0.003861336037516594\n",
      "valid loss: 0.005674904678016901\n",
      "unet 2 has not been trained\n",
      "when sampling, you can pass stop_at_unet_number to stop early in the cascade, so it does not try to generate with untrained unets\n"
     ]
    },
    {
     "name": "stderr",
     "output_type": "stream",
     "text": [
      "sampling loop time step: 100%|██████████| 1000/1000 [00:39<00:00, 25.29it/s]\n",
      "0it [00:39, ?it/s]\n"
     ]
    },
    {
     "name": "stdout",
     "output_type": "stream",
     "text": [
      "valid loss: 0.009580143727362156\n",
      "valid loss: 0.00526493089273572\n",
      "valid loss: 0.008457866497337818\n",
      "valid loss: 0.004356336314231157\n",
      "valid loss: 0.0021630858536809683\n",
      "valid loss: 0.010002943687140942\n",
      "valid loss: 0.0043080272153019905\n",
      "valid loss: 0.005158733576536179\n",
      "valid loss: 0.002132632303982973\n",
      "valid loss: 0.005698663182556629\n",
      "valid loss: 0.0040402840822935104\n",
      "valid loss: 0.005330722313374281\n",
      "valid loss: 0.008313396945595741\n",
      "valid loss: 0.005756677594035864\n",
      "valid loss: 0.006548385601490736\n",
      "valid loss: 0.010665184818208218\n",
      "valid loss: 0.005438502412289381\n",
      "valid loss: 0.010568141005933285\n",
      "valid loss: 0.0038370811380445957\n",
      "valid loss: 0.004170972853899002\n",
      "unet 2 has not been trained\n",
      "when sampling, you can pass stop_at_unet_number to stop early in the cascade, so it does not try to generate with untrained unets\n"
     ]
    },
    {
     "name": "stderr",
     "output_type": "stream",
     "text": [
      "sampling loop time step: 100%|██████████| 1000/1000 [00:42<00:00, 23.38it/s]\n",
      "0it [00:42, ?it/s]\n"
     ]
    },
    {
     "name": "stdout",
     "output_type": "stream",
     "text": [
      "valid loss: 0.006247628014534712\n",
      "checkpoint saved to imagen_two_unets_24s.pt\n",
      "valid loss: 0.005261357873678207\n",
      "valid loss: 0.005134102888405323\n",
      "valid loss: 0.004508507903665304\n",
      "valid loss: 0.005167513620108366\n",
      "valid loss: 0.009599640034139156\n",
      "valid loss: 0.005247414577752352\n",
      "valid loss: 0.006134078837931156\n",
      "valid loss: 0.003345267614349723\n",
      "valid loss: 0.007031064014881849\n",
      "valid loss: 0.010412382893264294\n",
      "valid loss: 0.0051788571290671825\n",
      "valid loss: 0.010407159104943275\n",
      "valid loss: 0.002123279729858041\n",
      "valid loss: 0.003957168664783239\n",
      "valid loss: 0.005059102550148964\n",
      "valid loss: 0.0034017760772258043\n",
      "valid loss: 0.005968285258859396\n",
      "valid loss: 0.0021627703681588173\n",
      "valid loss: 0.007119606714695692\n",
      "unet 2 has not been trained\n",
      "when sampling, you can pass stop_at_unet_number to stop early in the cascade, so it does not try to generate with untrained unets\n"
     ]
    },
    {
     "name": "stderr",
     "output_type": "stream",
     "text": [
      "sampling loop time step: 100%|██████████| 1000/1000 [00:39<00:00, 25.40it/s]\n",
      "0it [00:39, ?it/s]\n"
     ]
    },
    {
     "name": "stdout",
     "output_type": "stream",
     "text": [
      "valid loss: 0.009156234562397003\n",
      "valid loss: 0.003366482211276889\n",
      "valid loss: 0.0029557531233876944\n",
      "valid loss: 0.006210605148226023\n",
      "valid loss: 0.005146114621311426\n",
      "valid loss: 0.010256588459014893\n",
      "valid loss: 0.002340255305171013\n",
      "valid loss: 0.007084130775183439\n",
      "valid loss: 0.0028008006047457457\n",
      "valid loss: 0.006875982973724604\n",
      "valid loss: 0.007806745357811451\n",
      "valid loss: 0.0035280378069728613\n",
      "valid loss: 0.010471264831721783\n",
      "valid loss: 0.004461845848709345\n",
      "valid loss: 0.0030493636149913073\n",
      "valid loss: 0.004244566895067692\n",
      "valid loss: 0.005068136844784021\n",
      "valid loss: 0.007683306932449341\n",
      "valid loss: 0.005053822882473469\n",
      "valid loss: 0.0039075263775885105\n",
      "unet 2 has not been trained\n",
      "when sampling, you can pass stop_at_unet_number to stop early in the cascade, so it does not try to generate with untrained unets\n"
     ]
    },
    {
     "name": "stderr",
     "output_type": "stream",
     "text": [
      "sampling loop time step: 100%|██████████| 1000/1000 [00:48<00:00, 20.79it/s]\n",
      "0it [00:48, ?it/s]\n"
     ]
    },
    {
     "name": "stdout",
     "output_type": "stream",
     "text": [
      "valid loss: 0.00717144412919879\n",
      "valid loss: 0.005732194986194372\n",
      "valid loss: 0.00482200039550662\n",
      "valid loss: 0.005708831828087568\n",
      "valid loss: 0.003444523084908724\n",
      "valid loss: 0.006276470609009266\n",
      "valid loss: 0.004324826877564192\n",
      "valid loss: 0.009213695302605629\n",
      "valid loss: 0.006021332927048206\n",
      "valid loss: 0.005850468762218952\n",
      "valid loss: 0.00884553324431181\n",
      "valid loss: 0.005684498231858015\n",
      "valid loss: 0.006750160362571478\n",
      "valid loss: 0.005331290420144796\n",
      "valid loss: 0.00764180114492774\n",
      "valid loss: 0.005579950753599405\n",
      "valid loss: 0.002847940195351839\n",
      "valid loss: 0.008430360816419125\n",
      "valid loss: 0.0066294060088694096\n",
      "valid loss: 0.006181543692946434\n",
      "unet 2 has not been trained\n",
      "when sampling, you can pass stop_at_unet_number to stop early in the cascade, so it does not try to generate with untrained unets\n"
     ]
    },
    {
     "name": "stderr",
     "output_type": "stream",
     "text": [
      "sampling loop time step: 100%|██████████| 1000/1000 [00:47<00:00, 21.23it/s]\n",
      "0it [00:47, ?it/s]\n"
     ]
    },
    {
     "name": "stdout",
     "output_type": "stream",
     "text": [
      "valid loss: 0.008655453100800514\n",
      "valid loss: 0.0048004942946136\n",
      "valid loss: 0.0037857850547879934\n",
      "valid loss: 0.004910660441964865\n",
      "valid loss: 0.005279058124870062\n",
      "valid loss: 0.010677210055291653\n",
      "valid loss: 0.004504784941673279\n",
      "valid loss: 0.004391578026115894\n",
      "valid loss: 0.0029086677823215723\n",
      "valid loss: 0.0079527972266078\n",
      "valid loss: 0.0032102533150464296\n",
      "valid loss: 0.005514801945537329\n",
      "valid loss: 0.009003839455544949\n",
      "valid loss: 0.0044549270533025265\n",
      "valid loss: 0.009023446589708328\n",
      "valid loss: 0.0114766675978899\n",
      "valid loss: 0.004437991883605719\n",
      "valid loss: 0.009964142926037312\n",
      "valid loss: 0.005025342106819153\n",
      "valid loss: 0.004643326159566641\n",
      "unet 2 has not been trained\n",
      "when sampling, you can pass stop_at_unet_number to stop early in the cascade, so it does not try to generate with untrained unets\n"
     ]
    },
    {
     "name": "stderr",
     "output_type": "stream",
     "text": [
      "sampling loop time step: 100%|██████████| 1000/1000 [00:39<00:00, 25.39it/s]\n",
      "0it [00:39, ?it/s]\n"
     ]
    },
    {
     "name": "stdout",
     "output_type": "stream",
     "text": [
      "valid loss: 0.007424142211675644\n",
      "valid loss: 0.0038317067082971334\n",
      "valid loss: 0.006239685229957104\n",
      "valid loss: 0.0033810266759246588\n",
      "valid loss: 0.004518597852438688\n",
      "valid loss: 0.004015062935650349\n",
      "valid loss: 0.003022794146090746\n",
      "valid loss: 0.006414765026420355\n",
      "valid loss: 0.00214065657928586\n",
      "valid loss: 0.004145897924900055\n",
      "valid loss: 0.006835880223661661\n",
      "valid loss: 0.0061409552581608295\n",
      "valid loss: 0.009067396633327007\n",
      "valid loss: 0.004877431318163872\n",
      "valid loss: 0.004369279369711876\n",
      "valid loss: 0.004470254760235548\n",
      "valid loss: 0.0039886110462248325\n",
      "valid loss: 0.007847613655030727\n",
      "valid loss: 0.004804052412509918\n",
      "valid loss: 0.009230426512658596\n",
      "unet 2 has not been trained\n",
      "when sampling, you can pass stop_at_unet_number to stop early in the cascade, so it does not try to generate with untrained unets\n"
     ]
    },
    {
     "name": "stderr",
     "output_type": "stream",
     "text": [
      "sampling loop time step: 100%|██████████| 1000/1000 [00:47<00:00, 21.24it/s]\n",
      "0it [00:47, ?it/s]\n"
     ]
    },
    {
     "name": "stdout",
     "output_type": "stream",
     "text": [
      "valid loss: 0.0017087248852476478\n",
      "valid loss: 0.0037593760062009096\n",
      "valid loss: 0.007583448197692633\n",
      "valid loss: 0.004534584935754538\n",
      "valid loss: 0.0038406045641750097\n",
      "valid loss: 0.006279288325458765\n",
      "valid loss: 0.0053932140581309795\n",
      "valid loss: 0.010219566524028778\n",
      "valid loss: 0.0031792335212230682\n",
      "valid loss: 0.006502802949398756\n",
      "valid loss: 0.0029684037435799837\n",
      "valid loss: 0.004627395421266556\n",
      "valid loss: 0.006836932152509689\n",
      "valid loss: 0.003997315652668476\n",
      "valid loss: 0.006400126963853836\n",
      "valid loss: 0.012325773946940899\n",
      "valid loss: 0.0031922475900501013\n",
      "valid loss: 0.0023552586790174246\n",
      "valid loss: 0.005376008339226246\n",
      "valid loss: 0.004284611437469721\n",
      "unet 2 has not been trained\n",
      "when sampling, you can pass stop_at_unet_number to stop early in the cascade, so it does not try to generate with untrained unets\n"
     ]
    },
    {
     "name": "stderr",
     "output_type": "stream",
     "text": [
      "sampling loop time step: 100%|██████████| 1000/1000 [00:49<00:00, 20.33it/s]\n",
      "0it [00:49, ?it/s]\n"
     ]
    },
    {
     "name": "stdout",
     "output_type": "stream",
     "text": [
      "valid loss: 0.00605517765507102\n",
      "valid loss: 0.005944662261754274\n",
      "valid loss: 0.00650953222066164\n",
      "valid loss: 0.003959184046834707\n",
      "valid loss: 0.005235833115875721\n",
      "valid loss: 0.00732727674767375\n",
      "valid loss: 0.003569224616512656\n",
      "valid loss: 0.004285842180252075\n",
      "valid loss: 0.0029931114986538887\n",
      "valid loss: 0.008400318212807178\n",
      "valid loss: 0.007984604686498642\n",
      "valid loss: 0.0041540805250406265\n",
      "valid loss: 0.006162422709167004\n",
      "valid loss: 0.006190684158354998\n",
      "valid loss: 0.0026309120003134012\n",
      "valid loss: 0.011575163342058659\n",
      "valid loss: 0.005728175397962332\n",
      "valid loss: 0.005378514528274536\n",
      "valid loss: 0.003925067838281393\n",
      "valid loss: 0.004500761162489653\n",
      "unet 2 has not been trained\n",
      "when sampling, you can pass stop_at_unet_number to stop early in the cascade, so it does not try to generate with untrained unets\n"
     ]
    },
    {
     "name": "stderr",
     "output_type": "stream",
     "text": [
      "sampling loop time step: 100%|██████████| 1000/1000 [00:39<00:00, 25.26it/s]\n",
      "0it [00:39, ?it/s]\n"
     ]
    },
    {
     "name": "stdout",
     "output_type": "stream",
     "text": [
      "valid loss: 0.005473937373608351\n",
      "valid loss: 0.0035268745850771666\n",
      "valid loss: 0.007631173823028803\n",
      "valid loss: 0.0015633328584954143\n",
      "valid loss: 0.0055857556872069836\n",
      "valid loss: 0.00854539219290018\n",
      "valid loss: 0.0048294211737811565\n",
      "valid loss: 0.008922404609620571\n",
      "valid loss: 0.0037942067719995975\n",
      "valid loss: 0.00384336500428617\n",
      "valid loss: 0.007644015830010176\n",
      "valid loss: 0.00530626205727458\n",
      "valid loss: 0.00447305990383029\n",
      "valid loss: 0.0029620383866131306\n",
      "valid loss: 0.007256635464727879\n",
      "valid loss: 0.00769077567383647\n",
      "valid loss: 0.004250203724950552\n",
      "valid loss: 0.004088458605110645\n",
      "valid loss: 0.00512328464537859\n",
      "valid loss: 0.009265728294849396\n",
      "unet 2 has not been trained\n",
      "when sampling, you can pass stop_at_unet_number to stop early in the cascade, so it does not try to generate with untrained unets\n"
     ]
    },
    {
     "name": "stderr",
     "output_type": "stream",
     "text": [
      "sampling loop time step: 100%|██████████| 1000/1000 [00:45<00:00, 22.00it/s]\n",
      "0it [00:45, ?it/s]\n"
     ]
    },
    {
     "name": "stdout",
     "output_type": "stream",
     "text": [
      "valid loss: 0.009810484014451504\n",
      "valid loss: 0.004541580565273762\n",
      "valid loss: 0.006740466691553593\n",
      "valid loss: 0.0048263357020914555\n",
      "valid loss: 0.00783819705247879\n",
      "valid loss: 0.008944091387093067\n",
      "valid loss: 0.004130519926548004\n",
      "valid loss: 0.007873439230024815\n",
      "valid loss: 0.0037468099035322666\n",
      "valid loss: 0.0025351704098284245\n",
      "valid loss: 0.007394102402031422\n",
      "valid loss: 0.004814872983843088\n",
      "valid loss: 0.007824072614312172\n",
      "valid loss: 0.0028121639043092728\n",
      "valid loss: 0.004434201866388321\n",
      "valid loss: 0.009729480370879173\n",
      "valid loss: 0.005526612047106028\n",
      "valid loss: 0.006765148136764765\n",
      "valid loss: 0.0046045295894145966\n",
      "valid loss: 0.0033605420030653477\n",
      "unet 2 has not been trained\n",
      "when sampling, you can pass stop_at_unet_number to stop early in the cascade, so it does not try to generate with untrained unets\n"
     ]
    },
    {
     "name": "stderr",
     "output_type": "stream",
     "text": [
      "sampling loop time step: 100%|██████████| 1000/1000 [00:46<00:00, 21.59it/s]\n",
      "0it [00:46, ?it/s]\n"
     ]
    },
    {
     "name": "stdout",
     "output_type": "stream",
     "text": [
      "valid loss: 0.009254134260118008\n",
      "valid loss: 0.004997777286916971\n",
      "valid loss: 0.009112040512263775\n",
      "valid loss: 0.0039573232643306255\n",
      "valid loss: 0.004479422699660063\n",
      "valid loss: 0.008696754463016987\n",
      "valid loss: 0.0034137293696403503\n",
      "valid loss: 0.0022394307889044285\n",
      "valid loss: 0.004019496496766806\n",
      "valid loss: 0.004507220815867186\n",
      "valid loss: 0.0019464286742731929\n",
      "valid loss: 0.005183768924325705\n",
      "valid loss: 0.0029271601233631372\n",
      "valid loss: 0.006037489511072636\n",
      "valid loss: 0.009819560684263706\n",
      "valid loss: 0.010485435836017132\n",
      "valid loss: 0.005201644729822874\n",
      "valid loss: 0.008667312562465668\n",
      "valid loss: 0.0035137117374688387\n",
      "valid loss: 0.007936633192002773\n",
      "unet 2 has not been trained\n",
      "when sampling, you can pass stop_at_unet_number to stop early in the cascade, so it does not try to generate with untrained unets\n"
     ]
    },
    {
     "name": "stderr",
     "output_type": "stream",
     "text": [
      "sampling loop time step: 100%|██████████| 1000/1000 [00:42<00:00, 23.28it/s]\n",
      "0it [00:43, ?it/s]\n"
     ]
    },
    {
     "name": "stdout",
     "output_type": "stream",
     "text": [
      "valid loss: 0.008192845620214939\n",
      "checkpoint saved to imagen_two_unets_24s.pt\n",
      "valid loss: 0.006384058389812708\n",
      "valid loss: 0.005615298170596361\n",
      "valid loss: 0.005447557661682367\n",
      "valid loss: 0.004503454547375441\n",
      "valid loss: 0.009890508837997913\n",
      "valid loss: 0.004917742684483528\n",
      "valid loss: 0.00890427827835083\n",
      "valid loss: 0.0035748735535889864\n",
      "valid loss: 0.007269542198628187\n",
      "valid loss: 0.006506626959890127\n",
      "valid loss: 0.0038986813742667437\n",
      "valid loss: 0.006994721479713917\n",
      "valid loss: 0.002343809697777033\n",
      "valid loss: 0.0062045082449913025\n",
      "valid loss: 0.008069354109466076\n",
      "valid loss: 0.005466643255203962\n",
      "valid loss: 0.004658656194806099\n",
      "valid loss: 0.0034365521278232336\n",
      "valid loss: 0.005405018106102943\n",
      "unet 2 has not been trained\n",
      "when sampling, you can pass stop_at_unet_number to stop early in the cascade, so it does not try to generate with untrained unets\n"
     ]
    },
    {
     "name": "stderr",
     "output_type": "stream",
     "text": [
      "sampling loop time step: 100%|██████████| 1000/1000 [00:39<00:00, 25.54it/s]\n",
      "0it [00:39, ?it/s]\n"
     ]
    },
    {
     "name": "stdout",
     "output_type": "stream",
     "text": [
      "valid loss: 0.002730932552367449\n",
      "valid loss: 0.006417726632207632\n",
      "valid loss: 0.008739492855966091\n",
      "valid loss: 0.004703640937805176\n",
      "valid loss: 0.005695970728993416\n",
      "valid loss: 0.006694556679576635\n",
      "valid loss: 0.005066658835858107\n",
      "valid loss: 0.0035585842560976744\n",
      "valid loss: 0.0041885762475430965\n",
      "valid loss: 0.0059228925965726376\n",
      "valid loss: 0.008784842677414417\n",
      "valid loss: 0.006375917699187994\n",
      "valid loss: 0.005544987041503191\n",
      "valid loss: 0.003104454604908824\n",
      "valid loss: 0.007017932832241058\n",
      "valid loss: 0.01278668362647295\n",
      "valid loss: 0.0065954746678471565\n",
      "valid loss: 0.011296197772026062\n",
      "valid loss: 0.0038440802600234747\n",
      "valid loss: 0.002162425545975566\n",
      "unet 2 has not been trained\n",
      "when sampling, you can pass stop_at_unet_number to stop early in the cascade, so it does not try to generate with untrained unets\n"
     ]
    },
    {
     "name": "stderr",
     "output_type": "stream",
     "text": [
      "sampling loop time step: 100%|██████████| 1000/1000 [00:39<00:00, 25.42it/s]\n",
      "0it [00:39, ?it/s]\n"
     ]
    },
    {
     "name": "stdout",
     "output_type": "stream",
     "text": [
      "valid loss: 0.009688809514045715\n",
      "valid loss: 0.005012896377593279\n",
      "valid loss: 0.006887792143970728\n",
      "valid loss: 0.004934144206345081\n",
      "valid loss: 0.0066810548305511475\n",
      "valid loss: 0.010464302264153957\n",
      "valid loss: 0.004220455419272184\n",
      "valid loss: 0.009667662903666496\n",
      "valid loss: 0.0039874049834907055\n",
      "valid loss: 0.005222519394010305\n",
      "valid loss: 0.009040034376084805\n",
      "valid loss: 0.0040142955258488655\n",
      "valid loss: 0.011987444013357162\n",
      "valid loss: 0.0054593938402831554\n",
      "valid loss: 0.005598445888608694\n",
      "valid loss: 0.004586855415254831\n",
      "valid loss: 0.00664038909599185\n",
      "valid loss: 0.008629534393548965\n",
      "valid loss: 0.0055100019089877605\n",
      "valid loss: 0.005582465324550867\n",
      "unet 2 has not been trained\n",
      "when sampling, you can pass stop_at_unet_number to stop early in the cascade, so it does not try to generate with untrained unets\n"
     ]
    },
    {
     "name": "stderr",
     "output_type": "stream",
     "text": [
      "sampling loop time step: 100%|██████████| 1000/1000 [00:39<00:00, 25.55it/s]\n",
      "0it [00:39, ?it/s]\n"
     ]
    },
    {
     "name": "stdout",
     "output_type": "stream",
     "text": [
      "valid loss: 0.010491035878658295\n",
      "valid loss: 0.004531558137387037\n",
      "valid loss: 0.00601360434666276\n",
      "valid loss: 0.0031987770926207304\n",
      "valid loss: 0.005834865849465132\n",
      "valid loss: 0.006188785191625357\n",
      "valid loss: 0.0043492927215993404\n",
      "valid loss: 0.0069260443560779095\n",
      "valid loss: 0.0031798058189451694\n",
      "valid loss: 0.006136524956673384\n",
      "valid loss: 0.007282880134880543\n",
      "valid loss: 0.004841038025915623\n",
      "valid loss: 0.0029879610519856215\n",
      "valid loss: 0.003720042062923312\n",
      "valid loss: 0.004210296552628279\n",
      "valid loss: 0.008247913792729378\n",
      "valid loss: 0.0033399679232388735\n",
      "valid loss: 0.008431041613221169\n",
      "valid loss: 0.005769338458776474\n",
      "valid loss: 0.008000153116881847\n",
      "unet 2 has not been trained\n",
      "when sampling, you can pass stop_at_unet_number to stop early in the cascade, so it does not try to generate with untrained unets\n"
     ]
    },
    {
     "name": "stderr",
     "output_type": "stream",
     "text": [
      "sampling loop time step: 100%|██████████| 1000/1000 [00:46<00:00, 21.46it/s]\n",
      "0it [00:46, ?it/s]\n"
     ]
    },
    {
     "name": "stdout",
     "output_type": "stream",
     "text": [
      "valid loss: 0.007355809211730957\n",
      "valid loss: 0.005237750243395567\n",
      "valid loss: 0.0033502639271318913\n",
      "valid loss: 0.004741272423416376\n",
      "valid loss: 0.005359772592782974\n",
      "valid loss: 0.010932330042123795\n",
      "valid loss: 0.0029396486934274435\n",
      "valid loss: 0.003768395632505417\n",
      "valid loss: 0.0030864011496305466\n",
      "valid loss: 0.005576114635914564\n",
      "valid loss: 0.008819641545414925\n",
      "valid loss: 0.0018222801154479384\n",
      "valid loss: 0.009520330466330051\n",
      "valid loss: 0.006447352468967438\n",
      "valid loss: 0.0027779799420386553\n",
      "valid loss: 0.009154911153018475\n",
      "valid loss: 0.003178598824888468\n",
      "valid loss: 0.004746067803353071\n",
      "valid loss: 0.005001437850296497\n",
      "valid loss: 0.005098148714751005\n",
      "unet 2 has not been trained\n",
      "when sampling, you can pass stop_at_unet_number to stop early in the cascade, so it does not try to generate with untrained unets\n"
     ]
    },
    {
     "name": "stderr",
     "output_type": "stream",
     "text": [
      "sampling loop time step: 100%|██████████| 1000/1000 [00:39<00:00, 25.39it/s]\n",
      "0it [00:39, ?it/s]\n"
     ]
    },
    {
     "name": "stdout",
     "output_type": "stream",
     "text": [
      "valid loss: 0.009432305581867695\n",
      "valid loss: 0.0031056664884090424\n",
      "valid loss: 0.007026478182524443\n",
      "valid loss: 0.0032816678285598755\n",
      "valid loss: 0.005355973728001118\n",
      "valid loss: 0.00625567277893424\n",
      "valid loss: 0.004652310628443956\n",
      "valid loss: 0.008246359415352345\n",
      "valid loss: 0.0068399119190871716\n",
      "valid loss: 0.005194780882447958\n",
      "valid loss: 0.010332758538424969\n",
      "valid loss: 0.003559431526809931\n",
      "valid loss: 0.011165685951709747\n",
      "valid loss: 0.003281397046521306\n",
      "valid loss: 0.005411696154624224\n",
      "valid loss: 0.0026756979059427977\n",
      "valid loss: 0.003259369870647788\n",
      "valid loss: 0.008723640814423561\n",
      "valid loss: 0.0056764245964586735\n",
      "valid loss: 0.006100285332649946\n",
      "unet 2 has not been trained\n",
      "when sampling, you can pass stop_at_unet_number to stop early in the cascade, so it does not try to generate with untrained unets\n"
     ]
    },
    {
     "name": "stderr",
     "output_type": "stream",
     "text": [
      "sampling loop time step: 100%|██████████| 1000/1000 [00:47<00:00, 21.26it/s]\n",
      "0it [00:47, ?it/s]\n"
     ]
    },
    {
     "name": "stdout",
     "output_type": "stream",
     "text": [
      "valid loss: 0.005203829612582922\n",
      "valid loss: 0.005631270352751017\n",
      "valid loss: 0.013027344830334187\n",
      "valid loss: 0.004385891370475292\n",
      "valid loss: 0.007828806526958942\n",
      "valid loss: 0.005394198000431061\n",
      "valid loss: 0.0050925458781421185\n",
      "valid loss: 0.008671260438859463\n",
      "valid loss: 0.003494387259706855\n",
      "valid loss: 0.005803794600069523\n",
      "valid loss: 0.00900204386562109\n",
      "valid loss: 0.006059638224542141\n",
      "valid loss: 0.011504679918289185\n",
      "valid loss: 0.005996953696012497\n",
      "valid loss: 0.002429533749818802\n",
      "valid loss: 0.008352614939212799\n",
      "valid loss: 0.005963194649666548\n",
      "valid loss: 0.009877017699182034\n",
      "valid loss: 0.004664809908717871\n",
      "valid loss: 0.005804238375276327\n",
      "unet 2 has not been trained\n",
      "when sampling, you can pass stop_at_unet_number to stop early in the cascade, so it does not try to generate with untrained unets\n"
     ]
    },
    {
     "name": "stderr",
     "output_type": "stream",
     "text": [
      "sampling loop time step: 100%|██████████| 1000/1000 [00:39<00:00, 25.38it/s]\n",
      "0it [00:39, ?it/s]\n"
     ]
    },
    {
     "name": "stdout",
     "output_type": "stream",
     "text": [
      "valid loss: 0.007851913571357727\n",
      "valid loss: 0.00442256685346365\n",
      "valid loss: 0.007206444628536701\n",
      "valid loss: 0.0029043317772448063\n",
      "valid loss: 0.005545077379792929\n",
      "valid loss: 0.0110048558562994\n",
      "valid loss: 0.003711304161697626\n",
      "valid loss: 0.008035409264266491\n",
      "valid loss: 0.0034080741461366415\n",
      "valid loss: 0.00425834720954299\n",
      "valid loss: 0.008036752231419086\n",
      "valid loss: 0.004598690662533045\n",
      "valid loss: 0.010433931834995747\n",
      "valid loss: 0.004570778459310532\n",
      "valid loss: 0.0065614390186965466\n",
      "valid loss: 0.008024503476917744\n",
      "valid loss: 0.0058062998577952385\n",
      "valid loss: 0.0030052184592932463\n",
      "valid loss: 0.002867136150598526\n",
      "valid loss: 0.005159740801900625\n",
      "unet 2 has not been trained\n",
      "when sampling, you can pass stop_at_unet_number to stop early in the cascade, so it does not try to generate with untrained unets\n"
     ]
    },
    {
     "name": "stderr",
     "output_type": "stream",
     "text": [
      "sampling loop time step: 100%|██████████| 1000/1000 [00:47<00:00, 21.21it/s]\n",
      "0it [00:47, ?it/s]\n"
     ]
    },
    {
     "name": "stdout",
     "output_type": "stream",
     "text": [
      "valid loss: 0.006077972706407309\n",
      "valid loss: 0.005247530993074179\n",
      "valid loss: 0.007432416081428528\n",
      "valid loss: 0.007763739209622145\n",
      "valid loss: 0.00855544488877058\n",
      "valid loss: 0.009355299174785614\n",
      "valid loss: 0.006006662733852863\n",
      "valid loss: 0.008015723899006844\n",
      "valid loss: 0.006461735349148512\n",
      "valid loss: 0.006240345537662506\n",
      "valid loss: 0.00527998385950923\n",
      "valid loss: 0.004822597373276949\n",
      "valid loss: 0.010726263746619225\n",
      "valid loss: 0.0032509358134120703\n",
      "valid loss: 0.004361046012490988\n",
      "valid loss: 0.004388327244669199\n",
      "valid loss: 0.005102986004203558\n",
      "valid loss: 0.01049979217350483\n",
      "valid loss: 0.005164820235222578\n",
      "valid loss: 0.00800881814211607\n",
      "unet 2 has not been trained\n",
      "when sampling, you can pass stop_at_unet_number to stop early in the cascade, so it does not try to generate with untrained unets\n"
     ]
    },
    {
     "name": "stderr",
     "output_type": "stream",
     "text": [
      "sampling loop time step: 100%|██████████| 1000/1000 [00:39<00:00, 25.33it/s]\n",
      "0it [00:39, ?it/s]\n"
     ]
    },
    {
     "name": "stdout",
     "output_type": "stream",
     "text": [
      "valid loss: 0.008338811807334423\n",
      "valid loss: 0.0041024270467460155\n",
      "valid loss: 0.007982449606060982\n",
      "valid loss: 0.0042496914975345135\n",
      "valid loss: 0.005233725067228079\n",
      "valid loss: 0.009775788523256779\n",
      "valid loss: 0.004472512751817703\n",
      "valid loss: 0.006372131407260895\n",
      "valid loss: 0.004036223981529474\n",
      "valid loss: 0.009843677282333374\n",
      "valid loss: 0.0054129683412611485\n",
      "valid loss: 0.002712880726903677\n",
      "valid loss: 0.006741642951965332\n",
      "valid loss: 0.002216833410784602\n",
      "valid loss: 0.006457013078033924\n",
      "valid loss: 0.0107398871332407\n",
      "valid loss: 0.0042454577051103115\n",
      "valid loss: 0.006971916649490595\n",
      "valid loss: 0.005879578646272421\n",
      "valid loss: 0.0021918208803981543\n",
      "unet 2 has not been trained\n",
      "when sampling, you can pass stop_at_unet_number to stop early in the cascade, so it does not try to generate with untrained unets\n"
     ]
    },
    {
     "name": "stderr",
     "output_type": "stream",
     "text": [
      "sampling loop time step: 100%|██████████| 1000/1000 [00:44<00:00, 22.66it/s]\n",
      "0it [00:44, ?it/s]\n"
     ]
    },
    {
     "name": "stdout",
     "output_type": "stream",
     "text": [
      "valid loss: 0.011453025043010712\n",
      "checkpoint saved to imagen_two_unets_24s.pt\n",
      "checkpoint saved to imagen_two_unets_24s.pt\n",
      "Training Unet No. 2\n"
     ]
    },
    {
     "name": "stderr",
     "output_type": "stream",
     "text": [
      "2023-05-30 01:30:33.868737: I tensorflow/core/platform/cpu_feature_guard.cc:193] This TensorFlow binary is optimized with oneAPI Deep Neural Network Library (oneDNN) to use the following CPU instructions in performance-critical operations:  SSE4.1 SSE4.2 AVX AVX2 AVX_VNNI FMA\n",
      "To enable them in other operations, rebuild TensorFlow with the appropriate compiler flags.\n",
      "2023-05-30 01:30:34.090192: I tensorflow/core/util/port.cc:104] oneDNN custom operations are on. You may see slightly different numerical results due to floating-point round-off errors from different computation orders. To turn them off, set the environment variable `TF_ENABLE_ONEDNN_OPTS=0`.\n"
     ]
    },
    {
     "name": "stdout",
     "output_type": "stream",
     "text": [
      "The base dimension of your u-net should ideally be no smaller than 128, as recommended by a professional DDPM trainer https://nonint.com/2022/05/04/friends-dont-let-friends-train-small-diffusion-models/\n",
      "training with dataset of 975 samples and validating with randomly splitted 25 samples\n",
      "Using model file imagen_two_unets_24s.pt\n",
      "checkpoint loaded from imagen_two_unets_24s.pt\n",
      "valid loss: 0.5898513197898865\n"
     ]
    },
    {
     "name": "stderr",
     "output_type": "stream",
     "text": [
      "sampling loop time step: 100%|██████████| 1000/1000 [00:39<00:00, 25.52it/s]\n",
      "sampling loop time step: 100%|██████████| 1000/1000 [00:24<00:00, 40.22it/s]\n",
      "2it [01:04, 32.17s/it]\n"
     ]
    },
    {
     "name": "stdout",
     "output_type": "stream",
     "text": [
      "checkpoint saved to imagen_two_unets_24s.pt\n",
      "valid loss: 0.24209952354431152\n",
      "valid loss: 0.18985673785209656\n",
      "valid loss: 0.07587096840143204\n",
      "valid loss: 0.10418758541345596\n",
      "valid loss: 0.044483207166194916\n",
      "valid loss: 0.0414942130446434\n",
      "valid loss: 0.028424767777323723\n",
      "valid loss: 0.06663062423467636\n",
      "valid loss: 0.03540041297674179\n",
      "valid loss: 0.04371333867311478\n",
      "valid loss: 0.03463173657655716\n",
      "valid loss: 0.029020553454756737\n",
      "valid loss: 0.025447770953178406\n",
      "valid loss: 0.025134414434432983\n",
      "valid loss: 0.02360491268336773\n",
      "valid loss: 0.026325643062591553\n",
      "valid loss: 0.017508720979094505\n",
      "valid loss: 0.0210128091275692\n",
      "valid loss: 0.01898989826440811\n"
     ]
    },
    {
     "name": "stderr",
     "output_type": "stream",
     "text": [
      "sampling loop time step: 100%|██████████| 1000/1000 [00:39<00:00, 25.27it/s]\n",
      "sampling loop time step: 100%|██████████| 1000/1000 [00:35<00:00, 28.10it/s]\n",
      "2it [01:15, 37.72s/it]\n"
     ]
    },
    {
     "name": "stdout",
     "output_type": "stream",
     "text": [
      "valid loss: 0.02238377556204796\n",
      "valid loss: 0.016405023634433746\n",
      "valid loss: 0.018828392028808594\n",
      "valid loss: 0.02588483691215515\n",
      "valid loss: 0.01714310422539711\n",
      "valid loss: 0.01401565968990326\n",
      "valid loss: 0.019999612122774124\n",
      "valid loss: 0.013236219063401222\n",
      "valid loss: 0.01908840984106064\n",
      "valid loss: 0.015475431457161903\n",
      "valid loss: 0.014444984495639801\n",
      "valid loss: 0.018808970227837563\n",
      "valid loss: 0.01320545095950365\n",
      "valid loss: 0.015423259697854519\n",
      "valid loss: 0.013585937209427357\n",
      "valid loss: 0.010726687498390675\n",
      "valid loss: 0.016569290310144424\n",
      "valid loss: 0.008470987901091576\n",
      "valid loss: 0.01661711186170578\n",
      "valid loss: 0.011842162348330021\n"
     ]
    },
    {
     "name": "stderr",
     "output_type": "stream",
     "text": [
      "sampling loop time step: 100%|██████████| 1000/1000 [00:42<00:00, 23.63it/s]\n",
      "sampling loop time step: 100%|██████████| 1000/1000 [00:38<00:00, 26.05it/s]\n",
      "2it [01:21, 40.50s/it]\n"
     ]
    },
    {
     "name": "stdout",
     "output_type": "stream",
     "text": [
      "valid loss: 0.009444253519177437\n",
      "valid loss: 0.009088925085961819\n",
      "valid loss: 0.008751505985856056\n",
      "valid loss: 0.011046181432902813\n",
      "valid loss: 0.011066458187997341\n",
      "valid loss: 0.007426717318594456\n",
      "valid loss: 0.013372576795518398\n",
      "valid loss: 0.01192530058324337\n",
      "valid loss: 0.015401745215058327\n",
      "valid loss: 0.012211133725941181\n",
      "valid loss: 0.009568843059241772\n",
      "valid loss: 0.01614776998758316\n",
      "valid loss: 0.00678125349804759\n",
      "valid loss: 0.0055525335483253\n",
      "valid loss: 0.008530285209417343\n",
      "valid loss: 0.009240299463272095\n",
      "valid loss: 0.007902322337031364\n",
      "valid loss: 0.006395657546818256\n",
      "valid loss: 0.015058315359055996\n",
      "valid loss: 0.008865127339959145\n"
     ]
    },
    {
     "name": "stderr",
     "output_type": "stream",
     "text": [
      "sampling loop time step: 100%|██████████| 1000/1000 [00:39<00:00, 25.41it/s]\n",
      "sampling loop time step: 100%|██████████| 1000/1000 [00:25<00:00, 39.57it/s]\n",
      "2it [01:04, 32.46s/it]\n"
     ]
    },
    {
     "name": "stdout",
     "output_type": "stream",
     "text": [
      "valid loss: 0.00942899938672781\n",
      "valid loss: 0.006909248419106007\n",
      "valid loss: 0.006159988697618246\n",
      "valid loss: 0.014158489182591438\n",
      "valid loss: 0.00744285574182868\n",
      "valid loss: 0.006577744614332914\n",
      "valid loss: 0.011981411837041378\n",
      "valid loss: 0.0025604318361729383\n",
      "valid loss: 0.01212661899626255\n",
      "valid loss: 0.008630240336060524\n",
      "valid loss: 0.008160053752362728\n",
      "valid loss: 0.010210021398961544\n",
      "valid loss: 0.008414396084845066\n",
      "valid loss: 0.009264348074793816\n",
      "valid loss: 0.004648074507713318\n",
      "valid loss: 0.009278072975575924\n",
      "valid loss: 0.013215831480920315\n",
      "valid loss: 0.00983570609241724\n",
      "valid loss: 0.009160473011434078\n",
      "valid loss: 0.010485870763659477\n"
     ]
    },
    {
     "name": "stderr",
     "output_type": "stream",
     "text": [
      "sampling loop time step: 100%|██████████| 1000/1000 [00:40<00:00, 24.66it/s]\n",
      "sampling loop time step: 100%|██████████| 1000/1000 [00:54<00:00, 18.28it/s]\n",
      "2it [01:35, 47.78s/it]\n"
     ]
    },
    {
     "name": "stdout",
     "output_type": "stream",
     "text": [
      "valid loss: 0.006805115845054388\n",
      "valid loss: 0.010596840642392635\n",
      "valid loss: 0.004916983190923929\n",
      "valid loss: 0.01058622170239687\n",
      "valid loss: 0.007414199411869049\n",
      "valid loss: 0.004891164600849152\n",
      "valid loss: 0.00955533143132925\n",
      "valid loss: 0.007059253752231598\n",
      "valid loss: 0.006505821831524372\n",
      "valid loss: 0.008640363812446594\n",
      "valid loss: 0.00755016366019845\n",
      "valid loss: 0.005060078110545874\n",
      "valid loss: 0.003836148651316762\n",
      "valid loss: 0.00735900504514575\n",
      "valid loss: 0.004169400781393051\n",
      "valid loss: 0.00798560306429863\n",
      "valid loss: 0.007172842975705862\n",
      "valid loss: 0.006083572283387184\n",
      "valid loss: 0.004893898963928223\n",
      "valid loss: 0.008323290385305882\n"
     ]
    },
    {
     "name": "stderr",
     "output_type": "stream",
     "text": [
      "sampling loop time step: 100%|██████████| 1000/1000 [00:49<00:00, 20.14it/s]\n",
      "sampling loop time step: 100%|██████████| 1000/1000 [00:24<00:00, 40.02it/s]\n",
      "2it [01:15, 37.51s/it]\n"
     ]
    },
    {
     "name": "stdout",
     "output_type": "stream",
     "text": [
      "valid loss: 0.0065361144952476025\n",
      "valid loss: 0.009345746599137783\n",
      "valid loss: 0.005870747845619917\n",
      "valid loss: 0.013436584733426571\n",
      "valid loss: 0.008136890828609467\n",
      "valid loss: 0.002364041982218623\n",
      "valid loss: 0.004207306541502476\n",
      "valid loss: 0.004396394360810518\n",
      "valid loss: 0.004911044146865606\n",
      "valid loss: 0.00519845774397254\n",
      "valid loss: 0.006032147444784641\n",
      "valid loss: 0.008700049482285976\n",
      "valid loss: 0.005576425697654486\n",
      "valid loss: 0.009825584478676319\n",
      "valid loss: 0.006251444108784199\n",
      "valid loss: 0.0070869349874556065\n",
      "valid loss: 0.006689372006803751\n",
      "valid loss: 0.0029304109048098326\n",
      "valid loss: 0.009023289196193218\n",
      "valid loss: 0.009999123401939869\n"
     ]
    },
    {
     "name": "stderr",
     "output_type": "stream",
     "text": [
      "sampling loop time step: 100%|██████████| 1000/1000 [00:39<00:00, 25.36it/s]\n",
      "sampling loop time step: 100%|██████████| 1000/1000 [00:21<00:00, 46.24it/s]\n",
      "2it [01:01, 30.66s/it]\n"
     ]
    },
    {
     "name": "stdout",
     "output_type": "stream",
     "text": [
      "valid loss: 0.005409667268395424\n",
      "valid loss: 0.00586411077529192\n",
      "valid loss: 0.003674348583444953\n",
      "valid loss: 0.00877372920513153\n",
      "valid loss: 0.0071770003996789455\n",
      "valid loss: 0.007014490198343992\n",
      "valid loss: 0.00994163192808628\n",
      "valid loss: 0.0055523831397295\n",
      "valid loss: 0.007178965490311384\n",
      "valid loss: 0.0029650272335857153\n",
      "valid loss: 0.0035240070428699255\n",
      "valid loss: 0.0046272678300738335\n",
      "valid loss: 0.0066895331256091595\n",
      "valid loss: 0.002715362934395671\n",
      "valid loss: 0.006448144558817148\n",
      "valid loss: 0.0025160356890410185\n",
      "valid loss: 0.007266925182193518\n",
      "valid loss: 0.0062127308920025826\n",
      "valid loss: 0.008525635115802288\n",
      "valid loss: 0.007541828788816929\n"
     ]
    },
    {
     "name": "stderr",
     "output_type": "stream",
     "text": [
      "sampling loop time step: 100%|██████████| 1000/1000 [00:39<00:00, 25.53it/s]\n",
      "sampling loop time step: 100%|██████████| 1000/1000 [00:21<00:00, 46.31it/s]\n",
      "2it [01:01, 30.52s/it]\n"
     ]
    },
    {
     "name": "stdout",
     "output_type": "stream",
     "text": [
      "valid loss: 0.004891877993941307\n",
      "valid loss: 0.007114458363503218\n",
      "valid loss: 0.006026744842529297\n",
      "valid loss: 0.010052906349301338\n",
      "valid loss: 0.006939557380974293\n",
      "valid loss: 0.006402370519936085\n",
      "valid loss: 0.006380835082381964\n",
      "valid loss: 0.0034104117657989264\n",
      "valid loss: 0.005931919906288385\n",
      "valid loss: 0.007320144213736057\n",
      "valid loss: 0.004237334709614515\n",
      "valid loss: 0.009278861805796623\n",
      "valid loss: 0.0047540380619466305\n",
      "valid loss: 0.004347662907093763\n",
      "valid loss: 0.002994757844135165\n",
      "valid loss: 0.005581364966928959\n",
      "valid loss: 0.004621137864887714\n",
      "valid loss: 0.004252545535564423\n",
      "valid loss: 0.011422923766076565\n",
      "valid loss: 0.003671281738206744\n"
     ]
    },
    {
     "name": "stderr",
     "output_type": "stream",
     "text": [
      "sampling loop time step: 100%|██████████| 1000/1000 [00:39<00:00, 25.29it/s]\n",
      "sampling loop time step: 100%|██████████| 1000/1000 [00:21<00:00, 46.59it/s]\n",
      "2it [01:01, 30.64s/it]\n"
     ]
    },
    {
     "name": "stdout",
     "output_type": "stream",
     "text": [
      "valid loss: 0.003589096013456583\n",
      "valid loss: 0.008140216581523418\n",
      "valid loss: 0.004260324873030186\n",
      "valid loss: 0.010259781964123249\n",
      "valid loss: 0.0037139744963496923\n",
      "valid loss: 0.004660476930439472\n",
      "valid loss: 0.008330260403454304\n",
      "valid loss: 0.004382069688290358\n",
      "valid loss: 0.006525059230625629\n",
      "valid loss: 0.003783483523875475\n",
      "valid loss: 0.005002808757126331\n",
      "valid loss: 0.005669542588293552\n",
      "valid loss: 0.004506224300712347\n",
      "valid loss: 0.006372543517500162\n",
      "valid loss: 0.00809719692915678\n",
      "valid loss: 0.005657138768583536\n",
      "valid loss: 0.006757334806025028\n",
      "valid loss: 0.004741292912513018\n",
      "valid loss: 0.010909094475209713\n",
      "valid loss: 0.006158067844808102\n"
     ]
    },
    {
     "name": "stderr",
     "output_type": "stream",
     "text": [
      "sampling loop time step: 100%|██████████| 1000/1000 [00:39<00:00, 25.54it/s]\n",
      "sampling loop time step: 100%|██████████| 1000/1000 [00:21<00:00, 46.19it/s]\n",
      "2it [01:01, 30.54s/it]\n"
     ]
    },
    {
     "name": "stdout",
     "output_type": "stream",
     "text": [
      "valid loss: 0.0052912887185812\n",
      "valid loss: 0.008297276683151722\n",
      "valid loss: 0.0029798136092722416\n",
      "valid loss: 0.005293740425258875\n",
      "valid loss: 0.005363048054277897\n",
      "valid loss: 0.00462913466617465\n",
      "valid loss: 0.005414759274572134\n",
      "valid loss: 0.003305156948044896\n",
      "valid loss: 0.0036651825066655874\n",
      "valid loss: 0.00631213141605258\n",
      "valid loss: 0.003475985024124384\n",
      "valid loss: 0.006209488958120346\n",
      "valid loss: 0.0032714679837226868\n",
      "valid loss: 0.0048839496448636055\n",
      "valid loss: 0.006715607829391956\n",
      "valid loss: 0.003777450416237116\n",
      "valid loss: 0.0037221540696918964\n",
      "valid loss: 0.0021413767244666815\n",
      "valid loss: 0.0055419388227164745\n",
      "valid loss: 0.005436427425593138\n"
     ]
    },
    {
     "name": "stderr",
     "output_type": "stream",
     "text": [
      "sampling loop time step: 100%|██████████| 1000/1000 [00:49<00:00, 20.26it/s]\n",
      "sampling loop time step: 100%|██████████| 1000/1000 [00:52<00:00, 19.05it/s]\n",
      "2it [01:42, 51.12s/it]\n"
     ]
    },
    {
     "name": "stdout",
     "output_type": "stream",
     "text": [
      "checkpoint saved to imagen_two_unets_24s.pt\n",
      "valid loss: 0.0037601166404783726\n",
      "valid loss: 0.005983408074826002\n",
      "valid loss: 0.004659465979784727\n",
      "valid loss: 0.007789692375808954\n",
      "valid loss: 0.003325169673189521\n",
      "valid loss: 0.004256092011928558\n",
      "valid loss: 0.007259921636432409\n",
      "valid loss: 0.0031309404876083136\n",
      "valid loss: 0.0063235582783818245\n",
      "valid loss: 0.0051591782830655575\n",
      "valid loss: 0.005508908536285162\n",
      "valid loss: 0.0030979181174188852\n",
      "valid loss: 0.0038305900525301695\n",
      "valid loss: 0.007809288799762726\n",
      "valid loss: 0.006175490561872721\n",
      "valid loss: 0.004126651678234339\n",
      "valid loss: 0.0043686628341674805\n",
      "valid loss: 0.004214165266603231\n",
      "valid loss: 0.00955080147832632\n",
      "valid loss: 0.0043421476148068905\n"
     ]
    },
    {
     "name": "stderr",
     "output_type": "stream",
     "text": [
      "sampling loop time step: 100%|██████████| 1000/1000 [00:39<00:00, 25.52it/s]\n",
      "sampling loop time step: 100%|██████████| 1000/1000 [00:21<00:00, 46.27it/s]\n",
      "2it [01:01, 30.53s/it]\n"
     ]
    },
    {
     "name": "stdout",
     "output_type": "stream",
     "text": [
      "valid loss: 0.004975586663931608\n",
      "valid loss: 0.007504778448492289\n",
      "valid loss: 0.003100662026554346\n",
      "valid loss: 0.00323995272628963\n",
      "valid loss: 0.007084141951054335\n",
      "valid loss: 0.00569399306550622\n",
      "valid loss: 0.006874260492622852\n",
      "valid loss: 0.005383341107517481\n",
      "valid loss: 0.008766052313148975\n",
      "valid loss: 0.005637086927890778\n",
      "valid loss: 0.003080789465457201\n",
      "valid loss: 0.005272388458251953\n",
      "valid loss: 0.002954181982204318\n",
      "valid loss: 0.008215191774070263\n",
      "valid loss: 0.004978250712156296\n",
      "valid loss: 0.002361939987167716\n",
      "valid loss: 0.006507320795208216\n",
      "valid loss: 0.004201842006295919\n",
      "valid loss: 0.00812749657779932\n",
      "valid loss: 0.0050272042863070965\n"
     ]
    },
    {
     "name": "stderr",
     "output_type": "stream",
     "text": [
      "sampling loop time step: 100%|██████████| 1000/1000 [00:39<00:00, 25.42it/s]\n",
      "sampling loop time step: 100%|██████████| 1000/1000 [00:21<00:00, 46.07it/s]\n",
      "2it [01:01, 30.65s/it]\n"
     ]
    },
    {
     "name": "stdout",
     "output_type": "stream",
     "text": [
      "valid loss: 0.004514109808951616\n",
      "valid loss: 0.004935114178806543\n",
      "valid loss: 0.003795395838096738\n",
      "valid loss: 0.00837733130902052\n",
      "valid loss: 0.005879496689885855\n",
      "valid loss: 0.0019455712754279375\n",
      "valid loss: 0.003170775016769767\n",
      "valid loss: 0.004627447109669447\n",
      "valid loss: 0.008060986176133156\n",
      "valid loss: 0.0023549117613583803\n",
      "valid loss: 0.004780914168804884\n",
      "valid loss: 0.004916909616440535\n",
      "valid loss: 0.0012899379944428802\n",
      "valid loss: 0.0009308362496085465\n",
      "valid loss: 0.003577310359105468\n",
      "valid loss: 0.005516502540558577\n",
      "valid loss: 0.002183535834774375\n",
      "valid loss: 0.004033526871353388\n",
      "valid loss: 0.007499844767153263\n",
      "valid loss: 0.005725471768528223\n"
     ]
    },
    {
     "name": "stderr",
     "output_type": "stream",
     "text": [
      "sampling loop time step: 100%|██████████| 1000/1000 [00:44<00:00, 22.53it/s]\n",
      "sampling loop time step: 100%|██████████| 1000/1000 [00:30<00:00, 32.33it/s]\n",
      "2it [01:15, 37.83s/it]\n"
     ]
    },
    {
     "name": "stdout",
     "output_type": "stream",
     "text": [
      "valid loss: 0.005360495299100876\n",
      "valid loss: 0.005840906407684088\n",
      "valid loss: 0.002177696442231536\n",
      "valid loss: 0.00763538246974349\n",
      "valid loss: 0.001884138211607933\n",
      "valid loss: 0.005205910187214613\n",
      "valid loss: 0.0020731226541101933\n",
      "valid loss: 0.0044763460755348206\n",
      "valid loss: 0.004534160252660513\n",
      "valid loss: 0.004088816698640585\n",
      "valid loss: 0.004275194834917784\n",
      "valid loss: 0.00325138121843338\n",
      "valid loss: 0.0031468390952795744\n",
      "valid loss: 0.005487098824232817\n",
      "valid loss: 0.004044714849442244\n",
      "valid loss: 0.0030864274594932795\n",
      "valid loss: 0.004358548205345869\n",
      "valid loss: 0.004770126659423113\n",
      "valid loss: 0.004763903561979532\n",
      "valid loss: 0.00577964773401618\n"
     ]
    },
    {
     "name": "stderr",
     "output_type": "stream",
     "text": [
      "sampling loop time step: 100%|██████████| 1000/1000 [00:39<00:00, 25.16it/s]\n",
      "sampling loop time step: 100%|██████████| 1000/1000 [00:39<00:00, 25.04it/s]\n",
      "2it [01:19, 39.99s/it]\n"
     ]
    },
    {
     "name": "stdout",
     "output_type": "stream",
     "text": [
      "valid loss: 0.0043749152682721615\n",
      "valid loss: 0.005665136501193047\n",
      "valid loss: 0.005071662832051516\n",
      "valid loss: 0.00872073508799076\n",
      "valid loss: 0.005452035926282406\n",
      "valid loss: 0.005083370953798294\n",
      "valid loss: 0.007962016388773918\n",
      "valid loss: 0.003956423606723547\n",
      "valid loss: 0.005144779104739428\n",
      "valid loss: 0.0050825150683522224\n",
      "valid loss: 0.005321877542883158\n",
      "valid loss: 0.003937236499041319\n",
      "valid loss: 0.0031651207245886326\n",
      "valid loss: 0.006627067923545837\n",
      "valid loss: 0.004554899409413338\n",
      "valid loss: 0.004296756349503994\n",
      "valid loss: 0.004603498615324497\n",
      "valid loss: 0.003932509571313858\n",
      "valid loss: 0.007410980295389891\n",
      "valid loss: 0.007510875817388296\n"
     ]
    },
    {
     "name": "stderr",
     "output_type": "stream",
     "text": [
      "sampling loop time step: 100%|██████████| 1000/1000 [00:49<00:00, 20.22it/s]\n",
      "sampling loop time step: 100%|██████████| 1000/1000 [00:58<00:00, 17.02it/s]\n",
      "2it [01:48, 54.31s/it]\n"
     ]
    },
    {
     "name": "stdout",
     "output_type": "stream",
     "text": [
      "valid loss: 0.0036164559423923492\n",
      "valid loss: 0.00607641926035285\n",
      "valid loss: 0.0023339863400906324\n",
      "valid loss: 0.006395956967025995\n",
      "valid loss: 0.003858251264318824\n",
      "valid loss: 0.004222642630338669\n",
      "valid loss: 0.0044852690771222115\n",
      "valid loss: 0.0032602143473923206\n",
      "valid loss: 0.005872627254575491\n",
      "valid loss: 0.004933275748044252\n",
      "valid loss: 0.004175283946096897\n",
      "valid loss: 0.006665193475782871\n",
      "valid loss: 0.004412743262946606\n",
      "valid loss: 0.007940880954265594\n",
      "valid loss: 0.00579645624384284\n",
      "valid loss: 0.0036986940540373325\n",
      "valid loss: 0.007686634548008442\n",
      "valid loss: 0.004427042789757252\n",
      "valid loss: 0.004393572919070721\n",
      "valid loss: 0.002317590406164527\n"
     ]
    },
    {
     "name": "stderr",
     "output_type": "stream",
     "text": [
      "sampling loop time step: 100%|██████████| 1000/1000 [00:42<00:00, 23.35it/s]\n",
      "sampling loop time step: 100%|██████████| 1000/1000 [00:21<00:00, 45.71it/s]\n",
      "2it [01:04, 32.49s/it]\n"
     ]
    },
    {
     "name": "stdout",
     "output_type": "stream",
     "text": [
      "valid loss: 0.004080537706613541\n",
      "valid loss: 0.006740677636116743\n",
      "valid loss: 0.003759620478376746\n",
      "valid loss: 0.005489874631166458\n",
      "valid loss: 0.005198432132601738\n",
      "valid loss: 0.003247165819630027\n",
      "valid loss: 0.005767194088548422\n",
      "valid loss: 0.0035813532304018736\n",
      "valid loss: 0.002478082664310932\n",
      "valid loss: 0.004040958359837532\n",
      "valid loss: 0.002585439709946513\n",
      "valid loss: 0.004865552298724651\n",
      "valid loss: 0.0029540949035435915\n",
      "valid loss: 0.0030777703505009413\n",
      "valid loss: 0.004539571702480316\n",
      "valid loss: 0.003908679820597172\n",
      "valid loss: 0.006097743753343821\n",
      "valid loss: 0.003284035250544548\n",
      "valid loss: 0.003918363247066736\n",
      "valid loss: 0.006434889044612646\n"
     ]
    },
    {
     "name": "stderr",
     "output_type": "stream",
     "text": [
      "sampling loop time step: 100%|██████████| 1000/1000 [00:39<00:00, 25.55it/s]\n",
      "sampling loop time step: 100%|██████████| 1000/1000 [00:29<00:00, 33.92it/s]\n",
      "2it [01:08, 34.44s/it]\n"
     ]
    },
    {
     "name": "stdout",
     "output_type": "stream",
     "text": [
      "valid loss: 0.0035642737057060003\n",
      "valid loss: 0.00718346331268549\n",
      "valid loss: 0.003806253196671605\n",
      "valid loss: 0.004706747829914093\n",
      "valid loss: 0.005850921850651503\n",
      "valid loss: 0.0033330097794532776\n",
      "valid loss: 0.0029822292272001505\n",
      "valid loss: 0.0050361244939267635\n",
      "valid loss: 0.002356805605813861\n",
      "valid loss: 0.006731082685291767\n",
      "valid loss: 0.003783688647672534\n",
      "valid loss: 0.006574349943548441\n",
      "valid loss: 0.002848162781447172\n",
      "valid loss: 0.00627648551017046\n",
      "valid loss: 0.006392315030097961\n",
      "valid loss: 0.0048217447474598885\n",
      "valid loss: 0.007395513355731964\n",
      "valid loss: 0.0026554137002676725\n",
      "valid loss: 0.008093571290373802\n",
      "valid loss: 0.0036516718100756407\n"
     ]
    },
    {
     "name": "stderr",
     "output_type": "stream",
     "text": [
      "sampling loop time step: 100%|██████████| 1000/1000 [00:39<00:00, 25.40it/s]\n",
      "sampling loop time step: 100%|██████████| 1000/1000 [00:21<00:00, 46.24it/s]\n",
      "2it [01:01, 30.63s/it]\n"
     ]
    },
    {
     "name": "stdout",
     "output_type": "stream",
     "text": [
      "valid loss: 0.0039753178134560585\n",
      "valid loss: 0.0044095744378864765\n",
      "valid loss: 0.001805592910386622\n",
      "valid loss: 0.006420792546123266\n",
      "valid loss: 0.005426559131592512\n",
      "valid loss: 0.005102773662656546\n",
      "valid loss: 0.004983449820429087\n",
      "valid loss: 0.0018825000151991844\n",
      "valid loss: 0.0038615986704826355\n",
      "valid loss: 0.005027311388403177\n",
      "valid loss: 0.00280597317032516\n",
      "valid loss: 0.0068137855269014835\n",
      "valid loss: 0.004056097473949194\n",
      "valid loss: 0.003417201805859804\n",
      "valid loss: 0.0041313315741717815\n",
      "valid loss: 0.0029548387974500656\n",
      "valid loss: 0.005605289712548256\n",
      "valid loss: 0.004729563370347023\n",
      "valid loss: 0.006411909591406584\n",
      "valid loss: 0.004445259924978018\n"
     ]
    },
    {
     "name": "stderr",
     "output_type": "stream",
     "text": [
      "sampling loop time step: 100%|██████████| 1000/1000 [00:41<00:00, 24.24it/s]\n",
      "sampling loop time step: 100%|██████████| 1000/1000 [00:35<00:00, 28.23it/s]\n",
      "2it [01:16, 38.48s/it]\n"
     ]
    },
    {
     "name": "stdout",
     "output_type": "stream",
     "text": [
      "valid loss: 0.003991671837866306\n",
      "valid loss: 0.006415281444787979\n",
      "valid loss: 0.0037962649948894978\n",
      "valid loss: 0.005974908825010061\n",
      "valid loss: 0.004493603017181158\n",
      "valid loss: 0.003321494674310088\n",
      "valid loss: 0.0016746701439842582\n",
      "valid loss: 0.0040636020712554455\n",
      "valid loss: 0.006969287525862455\n",
      "valid loss: 0.004870516713708639\n",
      "valid loss: 0.0038923935499042273\n",
      "valid loss: 0.006406307220458984\n",
      "valid loss: 0.0008959122351370752\n",
      "valid loss: 0.0043314602226018906\n",
      "valid loss: 0.00197666697204113\n",
      "valid loss: 0.005080470349639654\n",
      "valid loss: 0.00380321335978806\n",
      "valid loss: 0.004311093129217625\n",
      "valid loss: 0.007621057331562042\n",
      "valid loss: 0.005203834269195795\n"
     ]
    },
    {
     "name": "stderr",
     "output_type": "stream",
     "text": [
      "sampling loop time step: 100%|██████████| 1000/1000 [00:45<00:00, 21.80it/s]\n",
      "sampling loop time step: 100%|██████████| 1000/1000 [00:38<00:00, 26.12it/s]\n",
      "2it [01:24, 42.24s/it]\n"
     ]
    },
    {
     "name": "stdout",
     "output_type": "stream",
     "text": [
      "checkpoint saved to imagen_two_unets_24s.pt\n",
      "valid loss: 0.001688793650828302\n",
      "valid loss: 0.005738831590861082\n",
      "valid loss: 0.0044570062309503555\n",
      "valid loss: 0.0030505978502333164\n",
      "valid loss: 0.005916162859648466\n",
      "valid loss: 0.0040824576281011105\n",
      "valid loss: 0.002692731097340584\n",
      "valid loss: 0.002253830898553133\n",
      "valid loss: 0.004980731755495071\n",
      "valid loss: 0.00585930235683918\n",
      "valid loss: 0.00387819716706872\n",
      "valid loss: 0.004831444472074509\n",
      "valid loss: 0.004845741670578718\n",
      "valid loss: 0.004785255994647741\n",
      "valid loss: 0.0032593875657767057\n",
      "valid loss: 0.005732319783419371\n",
      "valid loss: 0.007360656745731831\n",
      "valid loss: 0.004464185796678066\n",
      "valid loss: 0.0036507451441138983\n",
      "valid loss: 0.005565324332565069\n"
     ]
    },
    {
     "name": "stderr",
     "output_type": "stream",
     "text": [
      "sampling loop time step: 100%|██████████| 1000/1000 [00:42<00:00, 23.65it/s]\n",
      "sampling loop time step: 100%|██████████| 1000/1000 [00:34<00:00, 28.60it/s]\n",
      "2it [01:17, 38.81s/it]\n"
     ]
    },
    {
     "name": "stdout",
     "output_type": "stream",
     "text": [
      "valid loss: 0.0027000128757208586\n",
      "valid loss: 0.004282453563064337\n",
      "valid loss: 0.0031011169776320457\n",
      "valid loss: 0.004538393579423428\n",
      "valid loss: 0.005548782180994749\n",
      "valid loss: 0.0020924618002027273\n",
      "valid loss: 0.0054285661317408085\n",
      "valid loss: 0.004936532583087683\n",
      "valid loss: 0.003968793898820877\n",
      "valid loss: 0.005160966422408819\n",
      "valid loss: 0.0038326492067426443\n",
      "valid loss: 0.005735679995268583\n",
      "valid loss: 0.0038345307111740112\n",
      "valid loss: 0.006307004485279322\n",
      "valid loss: 0.002924500498920679\n",
      "valid loss: 0.0017980242846533656\n",
      "valid loss: 0.001166701316833496\n",
      "valid loss: 0.0011516460217535496\n",
      "valid loss: 0.00542322127148509\n",
      "valid loss: 0.0033951536752283573\n"
     ]
    },
    {
     "name": "stderr",
     "output_type": "stream",
     "text": [
      "sampling loop time step: 100%|██████████| 1000/1000 [00:42<00:00, 23.63it/s]\n",
      "sampling loop time step: 100%|██████████| 1000/1000 [00:40<00:00, 24.71it/s]\n",
      "2it [01:23, 41.54s/it]\n"
     ]
    },
    {
     "name": "stdout",
     "output_type": "stream",
     "text": [
      "valid loss: 0.003905519610270858\n",
      "valid loss: 0.006273030769079924\n",
      "valid loss: 0.003871592227369547\n",
      "valid loss: 0.0037606004625558853\n",
      "valid loss: 0.0012404489098116755\n",
      "valid loss: 0.004243283998221159\n",
      "valid loss: 0.004377544857561588\n",
      "valid loss: 0.00485476478934288\n",
      "valid loss: 0.0049950615502893925\n",
      "valid loss: 0.003461600048467517\n",
      "valid loss: 0.0030441507697105408\n",
      "valid loss: 0.0030226975213736296\n",
      "valid loss: 0.0013863833155483007\n",
      "valid loss: 0.007425440941005945\n",
      "valid loss: 0.0027286240365356207\n",
      "valid loss: 0.0028744784649461508\n",
      "valid loss: 0.0053198072127997875\n",
      "valid loss: 0.003642349736765027\n",
      "valid loss: 0.0074126082472503185\n",
      "valid loss: 0.001244849874638021\n"
     ]
    },
    {
     "name": "stderr",
     "output_type": "stream",
     "text": [
      "sampling loop time step: 100%|██████████| 1000/1000 [00:42<00:00, 23.36it/s]\n",
      "sampling loop time step: 100%|██████████| 1000/1000 [00:56<00:00, 17.76it/s]\n",
      "2it [01:39, 49.73s/it]\n"
     ]
    },
    {
     "name": "stdout",
     "output_type": "stream",
     "text": [
      "valid loss: 0.004934811498969793\n",
      "valid loss: 0.00524933123961091\n",
      "valid loss: 0.004415548872202635\n",
      "valid loss: 0.004988773725926876\n",
      "valid loss: 0.007129588630050421\n",
      "valid loss: 0.0034358040429651737\n",
      "valid loss: 0.0059717134572565556\n",
      "valid loss: 0.0034982876386493444\n",
      "valid loss: 0.004362741019576788\n",
      "valid loss: 0.005366767290979624\n",
      "valid loss: 0.003136800602078438\n",
      "valid loss: 0.005018178839236498\n",
      "valid loss: 0.004134787246584892\n",
      "valid loss: 0.006239552982151508\n",
      "valid loss: 0.004957905039191246\n",
      "valid loss: 0.0035590275656431913\n",
      "valid loss: 0.005120181478559971\n",
      "valid loss: 0.003162793815135956\n",
      "valid loss: 0.0013168680015951395\n",
      "valid loss: 0.005819662008434534\n"
     ]
    },
    {
     "name": "stderr",
     "output_type": "stream",
     "text": [
      "sampling loop time step: 100%|██████████| 1000/1000 [00:43<00:00, 23.03it/s]\n",
      "sampling loop time step: 100%|██████████| 1000/1000 [00:21<00:00, 45.80it/s]\n",
      "2it [01:05, 32.79s/it]\n"
     ]
    },
    {
     "name": "stdout",
     "output_type": "stream",
     "text": [
      "valid loss: 0.002574131591245532\n",
      "valid loss: 0.0029203451704233885\n",
      "valid loss: 0.0024389151949435472\n",
      "valid loss: 0.0037783801089972258\n",
      "valid loss: 0.0040315124206244946\n",
      "valid loss: 0.002128819702193141\n",
      "valid loss: 0.003967008553445339\n",
      "valid loss: 0.0029688156209886074\n",
      "valid loss: 0.005194591823965311\n",
      "valid loss: 0.004617625381797552\n",
      "valid loss: 0.0032551658805459738\n",
      "valid loss: 0.004207965452224016\n",
      "valid loss: 0.00209278822876513\n",
      "valid loss: 0.006623114924877882\n",
      "valid loss: 0.001973357517272234\n",
      "valid loss: 0.002802093280479312\n",
      "valid loss: 0.004307260271161795\n",
      "valid loss: 0.0025906837545335293\n",
      "valid loss: 0.005269971210509539\n",
      "valid loss: 0.005045431200414896\n"
     ]
    },
    {
     "name": "stderr",
     "output_type": "stream",
     "text": [
      "sampling loop time step: 100%|██████████| 1000/1000 [00:48<00:00, 20.54it/s]\n",
      "sampling loop time step: 100%|██████████| 1000/1000 [00:56<00:00, 17.69it/s]\n",
      "2it [01:45, 52.81s/it]\n"
     ]
    },
    {
     "name": "stdout",
     "output_type": "stream",
     "text": [
      "valid loss: 0.003391867270693183\n",
      "valid loss: 0.0023361442144960165\n",
      "valid loss: 0.001204584026709199\n",
      "valid loss: 0.005988213699311018\n",
      "valid loss: 0.003337229136377573\n",
      "valid loss: 0.0030510504730045795\n",
      "valid loss: 0.0010275064269080758\n",
      "valid loss: 0.003906439524143934\n",
      "valid loss: 0.006394538562744856\n",
      "valid loss: 0.00426599383354187\n",
      "valid loss: 0.003551835659891367\n",
      "valid loss: 0.0048979660496115685\n",
      "valid loss: 0.0017847709823399782\n",
      "valid loss: 0.002044582972303033\n",
      "valid loss: 0.003490683389827609\n",
      "valid loss: 0.0025217088405042887\n",
      "valid loss: 0.0069983103312551975\n",
      "valid loss: 0.0029861421789973974\n",
      "valid loss: 0.0013974152971059084\n",
      "valid loss: 0.006059087812900543\n"
     ]
    },
    {
     "name": "stderr",
     "output_type": "stream",
     "text": [
      "sampling loop time step: 100%|██████████| 1000/1000 [00:50<00:00, 19.99it/s]\n",
      "sampling loop time step: 100%|██████████| 1000/1000 [00:58<00:00, 16.98it/s]\n",
      "2it [01:49, 54.66s/it]\n"
     ]
    },
    {
     "name": "stdout",
     "output_type": "stream",
     "text": [
      "valid loss: 0.0027900540735572577\n",
      "valid loss: 0.004381320904940367\n",
      "valid loss: 0.0042555625550448895\n",
      "valid loss: 0.00442955968901515\n",
      "valid loss: 0.003607774619013071\n",
      "valid loss: 0.003974141553044319\n",
      "valid loss: 0.006199270021170378\n",
      "valid loss: 0.00319148157723248\n",
      "valid loss: 0.0023261455353349447\n",
      "valid loss: 0.003626918187364936\n",
      "valid loss: 0.0032008064445108175\n",
      "valid loss: 0.0034936293959617615\n",
      "valid loss: 0.004590700846165419\n",
      "valid loss: 0.004974329378455877\n",
      "valid loss: 0.005298054311424494\n",
      "valid loss: 0.0037418061401695013\n",
      "valid loss: 0.001050398452207446\n",
      "valid loss: 0.002805649768561125\n",
      "valid loss: 0.0037437055725604296\n",
      "valid loss: 0.004360692575573921\n"
     ]
    },
    {
     "name": "stderr",
     "output_type": "stream",
     "text": [
      "sampling loop time step: 100%|██████████| 1000/1000 [00:42<00:00, 23.65it/s]\n",
      "sampling loop time step: 100%|██████████| 1000/1000 [00:47<00:00, 20.94it/s]\n",
      "2it [01:30, 45.21s/it]\n"
     ]
    },
    {
     "name": "stdout",
     "output_type": "stream",
     "text": [
      "valid loss: 0.0030865243170410395\n",
      "valid loss: 0.005777525249868631\n",
      "valid loss: 0.0015062905149534345\n",
      "valid loss: 0.006216110195964575\n",
      "valid loss: 0.001234198804013431\n",
      "valid loss: 0.004093826748430729\n",
      "valid loss: 0.004037009552121162\n",
      "valid loss: 0.002531591337174177\n",
      "valid loss: 0.00593293271958828\n",
      "valid loss: 0.004245915915817022\n",
      "valid loss: 0.0030097374692559242\n",
      "valid loss: 0.005051794461905956\n",
      "valid loss: 0.0036681212950497866\n",
      "valid loss: 0.0063134911470115185\n",
      "valid loss: 0.0029638854321092367\n",
      "valid loss: 0.003515263320878148\n",
      "valid loss: 0.0072987317107617855\n",
      "valid loss: 0.003678722772747278\n",
      "valid loss: 0.006451682653278112\n",
      "valid loss: 0.0029535142239183187\n"
     ]
    },
    {
     "name": "stderr",
     "output_type": "stream",
     "text": [
      "sampling loop time step: 100%|██████████| 1000/1000 [00:44<00:00, 22.63it/s]\n",
      "sampling loop time step: 100%|██████████| 1000/1000 [00:58<00:00, 17.07it/s]\n",
      "2it [01:43, 51.56s/it]\n"
     ]
    },
    {
     "name": "stdout",
     "output_type": "stream",
     "text": [
      "valid loss: 0.0017724698409438133\n",
      "valid loss: 0.0041586668230593204\n",
      "valid loss: 0.0025114656891673803\n",
      "valid loss: 0.001861040131188929\n",
      "valid loss: 0.0035026425030082464\n",
      "valid loss: 0.0037076007574796677\n",
      "valid loss: 0.005321579519659281\n",
      "valid loss: 0.004453196190297604\n",
      "valid loss: 0.005674231331795454\n",
      "valid loss: 0.006106059532612562\n",
      "valid loss: 0.0013647399609908462\n",
      "valid loss: 0.006158525589853525\n",
      "valid loss: 0.0037991590797901154\n",
      "valid loss: 0.006489449646323919\n",
      "valid loss: 0.00425927946344018\n",
      "valid loss: 0.0038677018601447344\n",
      "valid loss: 0.006119906436651945\n",
      "valid loss: 0.0007944192620925605\n",
      "valid loss: 0.0037550819106400013\n",
      "valid loss: 0.0011961049167439342\n"
     ]
    },
    {
     "name": "stderr",
     "output_type": "stream",
     "text": [
      "sampling loop time step: 100%|██████████| 1000/1000 [00:42<00:00, 23.69it/s]\n",
      "sampling loop time step: 100%|██████████| 1000/1000 [00:57<00:00, 17.26it/s]\n",
      "2it [01:40, 50.24s/it]\n"
     ]
    },
    {
     "name": "stdout",
     "output_type": "stream",
     "text": [
      "valid loss: 0.0022398519795387983\n",
      "valid loss: 0.0059192064218223095\n",
      "valid loss: 0.00387199642136693\n",
      "valid loss: 0.0016493679722771049\n",
      "valid loss: 0.002869910793378949\n",
      "valid loss: 0.003964438568800688\n",
      "valid loss: 0.0075039914809167385\n",
      "valid loss: 0.0030090997461229563\n",
      "valid loss: 0.003909883089363575\n",
      "valid loss: 0.006188296712934971\n",
      "valid loss: 0.003717563347890973\n",
      "valid loss: 0.00575174018740654\n",
      "valid loss: 0.0030049511697143316\n",
      "valid loss: 0.004607548471540213\n",
      "valid loss: 0.006517837289720774\n",
      "valid loss: 0.002845542971044779\n",
      "valid loss: 0.004000987391918898\n",
      "valid loss: 0.0029424659442156553\n",
      "valid loss: 0.0035998248495161533\n",
      "valid loss: 0.0053834267891943455\n"
     ]
    },
    {
     "name": "stderr",
     "output_type": "stream",
     "text": [
      "sampling loop time step: 100%|██████████| 1000/1000 [00:48<00:00, 20.76it/s]\n",
      "sampling loop time step: 100%|██████████| 1000/1000 [00:56<00:00, 17.70it/s]\n",
      "2it [01:45, 52.54s/it]\n"
     ]
    },
    {
     "name": "stdout",
     "output_type": "stream",
     "text": [
      "checkpoint saved to imagen_two_unets_24s.pt\n",
      "valid loss: 0.0032058933284133673\n",
      "valid loss: 0.005673818755894899\n",
      "valid loss: 0.0031604201067239046\n",
      "valid loss: 0.007618861738592386\n",
      "valid loss: 0.00505199795588851\n",
      "valid loss: 0.004127714782953262\n",
      "valid loss: 0.0018894224194809794\n",
      "valid loss: 0.002199223032221198\n",
      "valid loss: 0.0031837932765483856\n",
      "valid loss: 0.006061505060642958\n",
      "valid loss: 0.0009325823048129678\n",
      "valid loss: 0.0033972051460295916\n",
      "valid loss: 0.0025418035220354795\n",
      "valid loss: 0.006286786403506994\n",
      "valid loss: 0.00337606156244874\n",
      "valid loss: 0.0028563819359987974\n",
      "valid loss: 0.004265593830496073\n",
      "valid loss: 0.003069498110562563\n",
      "valid loss: 0.001655352534726262\n",
      "valid loss: 0.003933123778551817\n"
     ]
    },
    {
     "name": "stderr",
     "output_type": "stream",
     "text": [
      "sampling loop time step: 100%|██████████| 1000/1000 [00:41<00:00, 23.93it/s]\n",
      "sampling loop time step: 100%|██████████| 1000/1000 [00:30<00:00, 33.20it/s]\n",
      "2it [01:12, 36.10s/it]\n"
     ]
    },
    {
     "name": "stdout",
     "output_type": "stream",
     "text": [
      "valid loss: 0.002053359989076853\n",
      "valid loss: 0.006508281920105219\n",
      "valid loss: 0.0020688765216618776\n",
      "valid loss: 0.005574655719101429\n",
      "valid loss: 0.0028981901705265045\n",
      "valid loss: 0.0037236306816339493\n",
      "valid loss: 0.005634895991533995\n",
      "valid loss: 0.0025177253410220146\n",
      "valid loss: 0.007874283008277416\n",
      "valid loss: 0.0036218122113496065\n",
      "valid loss: 0.004633220843970776\n",
      "valid loss: 0.00438658194616437\n",
      "valid loss: 0.001146488357335329\n",
      "valid loss: 0.003472069976851344\n",
      "valid loss: 0.005495814140886068\n",
      "valid loss: 0.002334253629669547\n",
      "valid loss: 0.005878203548491001\n",
      "valid loss: 0.004063399042934179\n",
      "valid loss: 0.00304630515165627\n",
      "valid loss: 0.0034506823867559433\n"
     ]
    },
    {
     "name": "stderr",
     "output_type": "stream",
     "text": [
      "sampling loop time step: 100%|██████████| 1000/1000 [00:42<00:00, 23.70it/s]\n",
      "sampling loop time step: 100%|██████████| 1000/1000 [00:37<00:00, 26.55it/s]\n",
      "2it [01:20, 40.10s/it]\n"
     ]
    },
    {
     "name": "stdout",
     "output_type": "stream",
     "text": [
      "valid loss: 0.0035088874865323305\n",
      "valid loss: 0.005244055297225714\n",
      "valid loss: 0.002662600949406624\n",
      "valid loss: 0.0038219268899410963\n",
      "valid loss: 0.0011916598305106163\n",
      "valid loss: 0.0027948373463004827\n",
      "valid loss: 0.007714416831731796\n",
      "valid loss: 0.003333455417305231\n",
      "valid loss: 0.005309815052896738\n",
      "valid loss: 0.002908897353336215\n",
      "valid loss: 0.003973610233515501\n",
      "valid loss: 0.00672121299430728\n",
      "valid loss: 0.00267779896967113\n",
      "valid loss: 0.0037495330907404423\n",
      "valid loss: 0.004125852137804031\n",
      "valid loss: 0.0032404859084635973\n",
      "valid loss: 0.004983142949640751\n",
      "valid loss: 0.0022922230418771505\n",
      "valid loss: 0.0066990116611123085\n",
      "valid loss: 0.006168732885271311\n"
     ]
    },
    {
     "name": "stderr",
     "output_type": "stream",
     "text": [
      "sampling loop time step: 100%|██████████| 1000/1000 [00:45<00:00, 22.22it/s]\n",
      "sampling loop time step: 100%|██████████| 1000/1000 [00:29<00:00, 33.69it/s]\n",
      "2it [01:15, 37.53s/it]\n"
     ]
    },
    {
     "name": "stdout",
     "output_type": "stream",
     "text": [
      "valid loss: 0.003256643656641245\n",
      "valid loss: 0.0056927390396595\n",
      "valid loss: 0.004047159105539322\n",
      "valid loss: 0.0061256433837115765\n",
      "valid loss: 0.00538279116153717\n",
      "valid loss: 0.005478610284626484\n",
      "valid loss: 0.004026827868074179\n",
      "valid loss: 0.0019436435541138053\n",
      "valid loss: 0.002814310137182474\n",
      "valid loss: 0.006533693056553602\n",
      "valid loss: 0.002286127768456936\n",
      "valid loss: 0.004843281581997871\n",
      "valid loss: 0.004300537519156933\n",
      "valid loss: 0.003804004518315196\n",
      "valid loss: 0.004073746968060732\n",
      "valid loss: 0.003725893096998334\n",
      "valid loss: 0.005289546679705381\n",
      "valid loss: 0.002887383569031954\n",
      "valid loss: 0.005291616078466177\n",
      "valid loss: 0.0037855326663702726\n"
     ]
    },
    {
     "name": "stderr",
     "output_type": "stream",
     "text": [
      "sampling loop time step: 100%|██████████| 1000/1000 [00:39<00:00, 25.32it/s]\n",
      "sampling loop time step: 100%|██████████| 1000/1000 [00:31<00:00, 32.03it/s]\n",
      "2it [01:11, 35.50s/it]\n"
     ]
    },
    {
     "name": "stdout",
     "output_type": "stream",
     "text": [
      "valid loss: 0.005087212659418583\n",
      "valid loss: 0.002025353955104947\n",
      "valid loss: 0.002355812815949321\n",
      "valid loss: 0.0009224283858202398\n",
      "valid loss: 0.005634945351630449\n",
      "valid loss: 0.0030575438868254423\n",
      "valid loss: 0.0011553157819435\n",
      "valid loss: 0.0031907756347209215\n",
      "valid loss: 0.0036124156322330236\n",
      "valid loss: 0.0026505261193960905\n",
      "valid loss: 0.001374388113617897\n",
      "valid loss: 0.0029915368650108576\n",
      "valid loss: 0.00467186002060771\n",
      "valid loss: 0.003760765539482236\n",
      "valid loss: 0.0037494469434022903\n",
      "valid loss: 0.001173656084574759\n",
      "valid loss: 0.006393859628587961\n",
      "valid loss: 0.0034001506865024567\n",
      "valid loss: 0.0030271117575466633\n",
      "valid loss: 0.0016253971261903644\n"
     ]
    },
    {
     "name": "stderr",
     "output_type": "stream",
     "text": [
      "sampling loop time step: 100%|██████████| 1000/1000 [00:47<00:00, 21.18it/s]\n",
      "sampling loop time step: 100%|██████████| 1000/1000 [00:55<00:00, 17.95it/s]\n",
      "2it [01:43, 51.66s/it]\n"
     ]
    },
    {
     "name": "stdout",
     "output_type": "stream",
     "text": [
      "valid loss: 0.0031609043944627047\n",
      "valid loss: 0.003039020113646984\n",
      "valid loss: 0.003445481648668647\n",
      "valid loss: 0.00411444716155529\n",
      "valid loss: 0.004659994971007109\n",
      "valid loss: 0.0029644405003637075\n",
      "valid loss: 0.002908154157921672\n",
      "valid loss: 0.003762904554605484\n",
      "valid loss: 0.005230094771832228\n",
      "valid loss: 0.00476083206012845\n",
      "valid loss: 0.003907538019120693\n",
      "valid loss: 0.004717615898698568\n",
      "valid loss: 0.0023460339289158583\n",
      "valid loss: 0.0047411187551915646\n",
      "valid loss: 0.0029495053458958864\n",
      "valid loss: 0.003945308271795511\n",
      "valid loss: 0.004266358446329832\n",
      "valid loss: 0.0018851116765290499\n",
      "valid loss: 0.0022812068928033113\n",
      "valid loss: 0.006894557271152735\n"
     ]
    },
    {
     "name": "stderr",
     "output_type": "stream",
     "text": [
      "sampling loop time step: 100%|██████████| 1000/1000 [00:43<00:00, 23.06it/s]\n",
      "sampling loop time step: 100%|██████████| 1000/1000 [00:30<00:00, 32.50it/s]\n",
      "2it [01:14, 37.24s/it]\n"
     ]
    },
    {
     "name": "stdout",
     "output_type": "stream",
     "text": [
      "valid loss: 0.002153700916096568\n",
      "valid loss: 0.004975222982466221\n",
      "valid loss: 0.003158211475238204\n",
      "valid loss: 0.0039511858485639095\n",
      "valid loss: 0.00259145419113338\n",
      "valid loss: 0.004449654370546341\n",
      "valid loss: 0.005750145297497511\n",
      "valid loss: 0.0021605845540761948\n",
      "valid loss: 0.003574854927137494\n",
      "valid loss: 0.003016370814293623\n",
      "valid loss: 0.0019400448072701693\n",
      "valid loss: 0.002576716709882021\n",
      "valid loss: 0.0010402182815596461\n",
      "valid loss: 0.005364492069929838\n",
      "valid loss: 0.00444719148799777\n",
      "valid loss: 0.0008954684599302709\n",
      "valid loss: 0.004723764024674892\n",
      "valid loss: 0.002296596532687545\n",
      "valid loss: 0.004942123778164387\n",
      "valid loss: 0.004263967275619507\n"
     ]
    },
    {
     "name": "stderr",
     "output_type": "stream",
     "text": [
      "sampling loop time step: 100%|██████████| 1000/1000 [00:44<00:00, 22.44it/s]\n",
      "sampling loop time step: 100%|██████████| 1000/1000 [00:37<00:00, 26.48it/s]\n",
      "2it [01:22, 41.31s/it]\n"
     ]
    },
    {
     "name": "stdout",
     "output_type": "stream",
     "text": [
      "valid loss: 0.004594943951815367\n",
      "valid loss: 0.006843313574790955\n",
      "valid loss: 0.0026243955362588167\n",
      "valid loss: 0.0019664361607283354\n",
      "valid loss: 0.0057389759458601475\n",
      "valid loss: 0.003622847842052579\n",
      "valid loss: 0.006250896956771612\n",
      "valid loss: 0.0029322549235075712\n",
      "valid loss: 0.005277359392493963\n",
      "valid loss: 0.007850977592170238\n",
      "valid loss: 0.0032662719022482634\n",
      "valid loss: 0.006698721554130316\n",
      "valid loss: 0.004332500044256449\n",
      "valid loss: 0.004855113569647074\n",
      "valid loss: 0.0032993305940181017\n",
      "valid loss: 0.003093011910095811\n",
      "valid loss: 0.0031698730308562517\n",
      "valid loss: 0.004321139771491289\n",
      "valid loss: 0.001606724807061255\n",
      "valid loss: 0.0006878788117319345\n"
     ]
    },
    {
     "name": "stderr",
     "output_type": "stream",
     "text": [
      "sampling loop time step: 100%|██████████| 1000/1000 [00:39<00:00, 25.01it/s]\n",
      "sampling loop time step: 100%|██████████| 1000/1000 [00:21<00:00, 46.90it/s]\n",
      "2it [01:01, 30.79s/it]\n"
     ]
    },
    {
     "name": "stdout",
     "output_type": "stream",
     "text": [
      "valid loss: 0.00329824211075902\n",
      "valid loss: 0.002793692983686924\n",
      "valid loss: 0.003840451827272773\n",
      "valid loss: 0.0042427536100149155\n",
      "valid loss: 0.005072640720754862\n",
      "valid loss: 0.0027983884792774916\n",
      "valid loss: 0.004467544611543417\n",
      "valid loss: 0.0009896097471937537\n",
      "valid loss: 0.003858956042677164\n",
      "valid loss: 0.00221877358853817\n",
      "valid loss: 0.003249259665608406\n",
      "valid loss: 0.005963191390037537\n",
      "valid loss: 0.004057455342262983\n",
      "valid loss: 0.00402232026681304\n",
      "valid loss: 0.005757254548370838\n",
      "valid loss: 0.003199005965143442\n",
      "valid loss: 0.003884207457304001\n",
      "valid loss: 0.0023710632231086493\n",
      "valid loss: 0.005305127706378698\n",
      "valid loss: 0.0027493208181113005\n"
     ]
    },
    {
     "name": "stderr",
     "output_type": "stream",
     "text": [
      "sampling loop time step: 100%|██████████| 1000/1000 [00:43<00:00, 23.16it/s]\n",
      "sampling loop time step: 100%|██████████| 1000/1000 [00:57<00:00, 17.32it/s]\n",
      "2it [01:41, 50.63s/it]\n"
     ]
    },
    {
     "name": "stdout",
     "output_type": "stream",
     "text": [
      "valid loss: 0.0036445402074605227\n",
      "valid loss: 0.00611486192792654\n",
      "valid loss: 0.004475615918636322\n",
      "valid loss: 0.005871096160262823\n",
      "valid loss: 0.005008392967283726\n",
      "valid loss: 0.004154724068939686\n",
      "valid loss: 0.0035199106205254793\n",
      "valid loss: 0.002683345228433609\n",
      "valid loss: 0.00648903101682663\n",
      "valid loss: 0.004629556089639664\n",
      "valid loss: 0.0021648607216775417\n",
      "valid loss: 0.005671344231814146\n",
      "valid loss: 0.003074054140597582\n",
      "valid loss: 0.00390914361923933\n",
      "valid loss: 0.00491316756233573\n",
      "valid loss: 0.000979465781711042\n",
      "valid loss: 0.002504706848412752\n",
      "valid loss: 0.003514764830470085\n",
      "valid loss: 0.006961904466152191\n",
      "valid loss: 0.006102015729993582\n"
     ]
    },
    {
     "name": "stderr",
     "output_type": "stream",
     "text": [
      "sampling loop time step: 100%|██████████| 1000/1000 [00:44<00:00, 22.30it/s]\n",
      "sampling loop time step: 100%|██████████| 1000/1000 [00:29<00:00, 33.97it/s]\n",
      "2it [01:14, 37.30s/it]\n"
     ]
    },
    {
     "name": "stdout",
     "output_type": "stream",
     "text": [
      "checkpoint saved to imagen_two_unets_24s.pt\n",
      "valid loss: 0.0032807469833642244\n",
      "valid loss: 0.00563047593459487\n",
      "valid loss: 0.0008600583532825112\n",
      "valid loss: 0.004630504176020622\n",
      "valid loss: 0.0059887198731303215\n",
      "valid loss: 0.004290028940886259\n",
      "valid loss: 0.004259888548403978\n",
      "valid loss: 0.004567806143313646\n",
      "valid loss: 0.006685720290988684\n",
      "valid loss: 0.004977875854820013\n",
      "valid loss: 0.0033008717000484467\n",
      "valid loss: 0.00503836665302515\n",
      "valid loss: 0.0037802220322191715\n",
      "valid loss: 0.004669492598623037\n",
      "valid loss: 0.0018793490016832948\n",
      "valid loss: 0.0017590121133252978\n",
      "valid loss: 0.002974475733935833\n",
      "valid loss: 0.003156075719743967\n",
      "valid loss: 0.004641104023903608\n",
      "valid loss: 0.0021630250848829746\n"
     ]
    },
    {
     "name": "stderr",
     "output_type": "stream",
     "text": [
      "sampling loop time step: 100%|██████████| 1000/1000 [00:45<00:00, 22.12it/s]\n",
      "sampling loop time step: 100%|██████████| 1000/1000 [00:21<00:00, 46.20it/s]\n",
      "2it [01:07, 33.58s/it]\n"
     ]
    },
    {
     "name": "stdout",
     "output_type": "stream",
     "text": [
      "valid loss: 0.0037772487848997116\n",
      "valid loss: 0.0034662724938243628\n",
      "valid loss: 0.00059078773483634\n",
      "valid loss: 0.003441002918407321\n",
      "valid loss: 0.004686761647462845\n",
      "valid loss: 0.0018624000949785113\n",
      "valid loss: 0.006998287048190832\n",
      "valid loss: 0.0029147963505238295\n",
      "valid loss: 0.002594372723251581\n",
      "valid loss: 0.003947471268475056\n",
      "valid loss: 0.003144535468891263\n",
      "valid loss: 0.0038782835472375154\n",
      "valid loss: 0.0028526070527732372\n",
      "valid loss: 0.00479330075904727\n",
      "valid loss: 0.0029370919801294804\n",
      "valid loss: 0.00410301610827446\n",
      "valid loss: 0.003690223442390561\n",
      "valid loss: 0.002431097673252225\n",
      "valid loss: 0.005453332792967558\n",
      "valid loss: 0.005301750730723143\n"
     ]
    },
    {
     "name": "stderr",
     "output_type": "stream",
     "text": [
      "sampling loop time step: 100%|██████████| 1000/1000 [00:46<00:00, 21.29it/s]\n",
      "sampling loop time step: 100%|██████████| 1000/1000 [00:56<00:00, 17.55it/s]\n",
      "2it [01:44, 52.16s/it]\n"
     ]
    },
    {
     "name": "stdout",
     "output_type": "stream",
     "text": [
      "valid loss: 0.0017413635505363345\n",
      "valid loss: 0.005647582467645407\n",
      "valid loss: 0.003909209277480841\n",
      "valid loss: 0.003903506323695183\n",
      "valid loss: 0.001040749135427177\n",
      "valid loss: 0.0020649093203246593\n",
      "valid loss: 0.0052534365095198154\n",
      "valid loss: 0.0038949549198150635\n",
      "valid loss: 0.004463918972760439\n",
      "valid loss: 0.00384334078989923\n",
      "valid loss: 0.0030873925425112247\n",
      "valid loss: 0.007227915804833174\n",
      "valid loss: 0.0032460882794111967\n",
      "valid loss: 0.006065941881388426\n",
      "valid loss: 0.0046899328008294106\n",
      "valid loss: 0.0024887840263545513\n",
      "valid loss: 0.004813804756850004\n",
      "valid loss: 0.002291695913299918\n",
      "valid loss: 0.006233637686818838\n",
      "valid loss: 0.0021372514311224222\n"
     ]
    },
    {
     "name": "stderr",
     "output_type": "stream",
     "text": [
      "sampling loop time step: 100%|██████████| 1000/1000 [00:43<00:00, 22.89it/s]\n",
      "sampling loop time step: 100%|██████████| 1000/1000 [00:36<00:00, 27.69it/s]\n",
      "2it [01:20, 40.07s/it]\n"
     ]
    },
    {
     "name": "stdout",
     "output_type": "stream",
     "text": [
      "valid loss: 0.002877553692087531\n",
      "valid loss: 0.007158245425671339\n",
      "valid loss: 0.0016218576347455382\n",
      "valid loss: 0.006430784706026316\n",
      "valid loss: 0.00601695803925395\n",
      "valid loss: 0.003967831376940012\n",
      "valid loss: 0.0033381939865648746\n",
      "valid loss: 0.003583585610613227\n",
      "valid loss: 0.002298855921253562\n",
      "valid loss: 0.0018349509919062257\n",
      "valid loss: 0.000960105680860579\n",
      "valid loss: 0.006014296319335699\n",
      "valid loss: 0.0037068487145006657\n",
      "valid loss: 0.005347300320863724\n",
      "valid loss: 0.004587893839925528\n",
      "valid loss: 0.0013990469742566347\n",
      "valid loss: 0.004069746937602758\n",
      "valid loss: 0.00384349818341434\n",
      "valid loss: 0.002696630544960499\n",
      "valid loss: 0.005450139287859201\n"
     ]
    },
    {
     "name": "stderr",
     "output_type": "stream",
     "text": [
      "sampling loop time step: 100%|██████████| 1000/1000 [00:39<00:00, 25.27it/s]\n",
      "sampling loop time step: 100%|██████████| 1000/1000 [00:21<00:00, 45.57it/s]\n",
      "2it [01:01, 30.90s/it]\n"
     ]
    },
    {
     "name": "stdout",
     "output_type": "stream",
     "text": [
      "valid loss: 0.0026898167561739683\n",
      "valid loss: 0.0030874554067850113\n",
      "valid loss: 0.004079935606569052\n",
      "valid loss: 0.004492228850722313\n",
      "valid loss: 0.00537118362262845\n",
      "valid loss: 0.002348814159631729\n",
      "valid loss: 0.006081860046833754\n",
      "valid loss: 0.0020360893104225397\n",
      "valid loss: 0.003722554538398981\n",
      "valid loss: 0.0018568789819255471\n",
      "valid loss: 0.0016803414328023791\n",
      "valid loss: 0.003681398928165436\n",
      "valid loss: 0.0030607550870627165\n",
      "valid loss: 0.00500113470479846\n",
      "valid loss: 0.005409587174654007\n",
      "valid loss: 0.0025960260536521673\n",
      "valid loss: 0.0038410089910030365\n",
      "valid loss: 0.003778842044994235\n",
      "valid loss: 0.0026469328440725803\n",
      "valid loss: 0.002648082794621587\n"
     ]
    },
    {
     "name": "stderr",
     "output_type": "stream",
     "text": [
      "sampling loop time step: 100%|██████████| 1000/1000 [00:47<00:00, 21.23it/s]\n",
      "sampling loop time step: 100%|██████████| 1000/1000 [00:39<00:00, 25.28it/s]\n",
      "2it [01:27, 43.50s/it]\n"
     ]
    },
    {
     "name": "stdout",
     "output_type": "stream",
     "text": [
      "valid loss: 0.00336907128803432\n",
      "valid loss: 0.005019166972488165\n",
      "valid loss: 0.001988921780139208\n",
      "valid loss: 0.006549202837049961\n",
      "valid loss: 0.004622227977961302\n",
      "valid loss: 0.0017904043197631836\n",
      "valid loss: 0.0033189549576491117\n",
      "valid loss: 0.003681648289784789\n",
      "valid loss: 0.0010507904225960374\n",
      "valid loss: 0.004884393885731697\n",
      "valid loss: 0.004211156163364649\n",
      "valid loss: 0.00546908238902688\n",
      "valid loss: 0.0010403702035546303\n",
      "valid loss: 0.005146948155015707\n",
      "valid loss: 0.002152174012735486\n",
      "valid loss: 0.003282040124759078\n",
      "valid loss: 0.0054504359140992165\n",
      "valid loss: 0.0031970699783414602\n",
      "valid loss: 0.001925819437019527\n",
      "valid loss: 0.005702592898160219\n"
     ]
    },
    {
     "name": "stderr",
     "output_type": "stream",
     "text": [
      "sampling loop time step: 100%|██████████| 1000/1000 [00:39<00:00, 25.20it/s]\n",
      "sampling loop time step: 100%|██████████| 1000/1000 [00:21<00:00, 46.23it/s]\n",
      "2it [01:01, 30.79s/it]\n"
     ]
    },
    {
     "name": "stdout",
     "output_type": "stream",
     "text": [
      "valid loss: 0.00353146786801517\n",
      "valid loss: 0.005384576506912708\n",
      "valid loss: 0.0037266823928803205\n",
      "valid loss: 0.005024371203035116\n",
      "valid loss: 0.002723851939663291\n",
      "valid loss: 0.0029347215313464403\n",
      "valid loss: 0.006113041192293167\n",
      "valid loss: 0.003090398386120796\n",
      "valid loss: 0.0052761114202439785\n",
      "valid loss: 0.0025840778835117817\n",
      "valid loss: 0.0021663375664502382\n",
      "valid loss: 0.0049366517923772335\n",
      "valid loss: 0.00300680473446846\n",
      "valid loss: 0.005430025048553944\n",
      "valid loss: 0.006580676417797804\n",
      "valid loss: 0.004209265578538179\n",
      "valid loss: 0.007010025437921286\n",
      "valid loss: 0.0052473577670753\n",
      "valid loss: 0.004382374230772257\n",
      "valid loss: 0.0023838779889047146\n"
     ]
    },
    {
     "name": "stderr",
     "output_type": "stream",
     "text": [
      "sampling loop time step: 100%|██████████| 1000/1000 [00:49<00:00, 20.06it/s]\n",
      "sampling loop time step: 100%|██████████| 1000/1000 [00:36<00:00, 27.49it/s]\n",
      "2it [01:26, 43.30s/it]\n"
     ]
    },
    {
     "name": "stdout",
     "output_type": "stream",
     "text": [
      "valid loss: 0.0031770055647939444\n",
      "valid loss: 0.0036447294987738132\n",
      "valid loss: 0.0032002534717321396\n",
      "valid loss: 0.006113418377935886\n",
      "valid loss: 0.0024457627441734076\n",
      "valid loss: 0.004061950836330652\n",
      "valid loss: 0.007116407155990601\n",
      "valid loss: 0.002759477822110057\n",
      "valid loss: 0.0030531228985637426\n",
      "valid loss: 0.005085277371108532\n",
      "valid loss: 0.003772162599489093\n",
      "valid loss: 0.005776501726359129\n",
      "valid loss: 0.0020060748793184757\n",
      "valid loss: 0.0034645467530936003\n",
      "valid loss: 0.00577190238982439\n",
      "valid loss: 0.0015469292411580682\n",
      "valid loss: 0.004246432334184647\n",
      "valid loss: 0.003242695704102516\n",
      "valid loss: 0.005202693399041891\n",
      "valid loss: 0.004455100279301405\n"
     ]
    },
    {
     "name": "stderr",
     "output_type": "stream",
     "text": [
      "sampling loop time step: 100%|██████████| 1000/1000 [00:40<00:00, 24.70it/s]\n",
      "sampling loop time step: 100%|██████████| 1000/1000 [00:49<00:00, 20.39it/s]\n",
      "2it [01:29, 44.91s/it]\n"
     ]
    },
    {
     "name": "stdout",
     "output_type": "stream",
     "text": [
      "valid loss: 0.001857656636275351\n",
      "valid loss: 0.004512439016252756\n",
      "valid loss: 0.003452122211456299\n",
      "valid loss: 0.003348209662362933\n",
      "valid loss: 0.001948353135958314\n",
      "valid loss: 0.002966479165479541\n",
      "valid loss: 0.005803281906992197\n",
      "valid loss: 0.0025487325619906187\n",
      "valid loss: 0.005739934276789427\n",
      "valid loss: 0.004884337540715933\n",
      "valid loss: 0.003912495449185371\n",
      "valid loss: 0.0052736117504537106\n",
      "valid loss: 0.0005790226277895272\n",
      "valid loss: 0.005645606201142073\n",
      "valid loss: 0.0056230719201266766\n",
      "valid loss: 0.0007530771545134485\n",
      "valid loss: 0.005686044692993164\n",
      "valid loss: 0.002245767507702112\n",
      "valid loss: 0.00704174255952239\n",
      "valid loss: 0.005006836727261543\n"
     ]
    },
    {
     "name": "stderr",
     "output_type": "stream",
     "text": [
      "sampling loop time step: 100%|██████████| 1000/1000 [00:39<00:00, 25.51it/s]\n",
      "sampling loop time step: 100%|██████████| 1000/1000 [00:21<00:00, 46.21it/s]\n",
      "2it [01:01, 30.55s/it]\n"
     ]
    },
    {
     "name": "stdout",
     "output_type": "stream",
     "text": [
      "valid loss: 0.0033982328604906797\n",
      "valid loss: 0.0016255028313025832\n",
      "valid loss: 0.0029362854547798634\n",
      "valid loss: 0.0018776170909404755\n",
      "valid loss: 0.0021125434432178736\n",
      "valid loss: 0.0010384796187281609\n",
      "valid loss: 0.006124557927250862\n",
      "valid loss: 0.0034499973990023136\n",
      "valid loss: 0.00677315890789032\n",
      "valid loss: 0.004189351107925177\n",
      "valid loss: 0.003402572125196457\n",
      "valid loss: 0.0025789975188672543\n",
      "valid loss: 0.0022200176026672125\n",
      "valid loss: 0.004339513834565878\n",
      "valid loss: 0.003766871290281415\n",
      "valid loss: 0.0013154986081644893\n",
      "valid loss: 0.004569073207676411\n",
      "valid loss: 0.00416623055934906\n",
      "valid loss: 0.0031580813229084015\n",
      "valid loss: 0.005469141062349081\n"
     ]
    },
    {
     "name": "stderr",
     "output_type": "stream",
     "text": [
      "sampling loop time step: 100%|██████████| 1000/1000 [00:41<00:00, 23.86it/s]\n",
      "sampling loop time step: 100%|██████████| 1000/1000 [00:36<00:00, 27.73it/s]\n",
      "2it [01:18, 39.15s/it]\n"
     ]
    },
    {
     "name": "stdout",
     "output_type": "stream",
     "text": [
      "checkpoint saved to imagen_two_unets_24s.pt\n",
      "valid loss: 0.003919454291462898\n",
      "valid loss: 0.005117133725434542\n",
      "valid loss: 0.004537312779575586\n",
      "valid loss: 0.004656278993934393\n",
      "valid loss: 0.004902718123048544\n",
      "valid loss: 0.00336051220074296\n",
      "valid loss: 0.006722884718328714\n",
      "valid loss: 0.0028581074438989162\n",
      "valid loss: 0.005538616329431534\n",
      "valid loss: 0.004420365206897259\n",
      "valid loss: 0.0036083662416785955\n",
      "valid loss: 0.006004782859236002\n",
      "valid loss: 0.003364224685356021\n",
      "valid loss: 0.005650559440255165\n",
      "valid loss: 0.0032456659246236086\n",
      "valid loss: 0.0038952238392084837\n",
      "valid loss: 0.005268012639135122\n",
      "valid loss: 0.002878638682886958\n",
      "valid loss: 0.0037880477029830217\n"
     ]
    },
    {
     "name": "stderr",
     "output_type": "stream",
     "text": [
      "sampling loop time step: 100%|██████████| 1000/1000 [00:40<00:00, 24.96it/s]\n",
      "sampling loop time step: 100%|██████████| 1000/1000 [00:56<00:00, 17.77it/s]\n",
      "2it [01:36, 48.33s/it]\n"
     ]
    },
    {
     "name": "stdout",
     "output_type": "stream",
     "text": [
      "valid loss: 0.001876414637081325\n",
      "valid loss: 0.0029343783389776945\n",
      "valid loss: 0.004237320274114609\n",
      "valid loss: 0.0022546262480318546\n",
      "valid loss: 0.004226678051054478\n",
      "valid loss: 0.003417128464207053\n",
      "valid loss: 0.0019685837905853987\n",
      "valid loss: 0.006448427680879831\n",
      "valid loss: 0.0024545087944716215\n",
      "valid loss: 0.0013952128356322646\n",
      "valid loss: 0.005689913406968117\n",
      "valid loss: 0.004105494823306799\n",
      "valid loss: 0.00530819920822978\n",
      "valid loss: 0.0025378342252224684\n",
      "valid loss: 0.0066953301429748535\n",
      "valid loss: 0.002864632522687316\n",
      "valid loss: 0.003598574548959732\n",
      "valid loss: 0.00485244719311595\n",
      "valid loss: 0.001125581213273108\n",
      "valid loss: 0.0021193705033510923\n"
     ]
    },
    {
     "name": "stderr",
     "output_type": "stream",
     "text": [
      "sampling loop time step: 100%|██████████| 1000/1000 [00:46<00:00, 21.56it/s]\n",
      "sampling loop time step: 100%|██████████| 1000/1000 [00:51<00:00, 19.37it/s]\n",
      "2it [01:38, 49.17s/it]\n"
     ]
    },
    {
     "name": "stdout",
     "output_type": "stream",
     "text": [
      "valid loss: 0.0026168120093643665\n",
      "valid loss: 0.004222094547003508\n",
      "valid loss: 0.004135950934141874\n",
      "valid loss: 0.004485410638153553\n",
      "valid loss: 0.0034872516989707947\n",
      "valid loss: 0.0040446436032652855\n",
      "valid loss: 0.0032250427175313234\n",
      "valid loss: 0.008443528786301613\n",
      "valid loss: 0.0037494865246117115\n",
      "valid loss: 0.005943776573985815\n",
      "valid loss: 0.004285053815692663\n",
      "valid loss: 0.003648179117590189\n",
      "valid loss: 0.004754392895847559\n",
      "valid loss: 0.0029432284645736217\n",
      "valid loss: 0.0025888930540531874\n",
      "valid loss: 0.005651489831507206\n",
      "valid loss: 0.001160012441687286\n",
      "valid loss: 0.004795260727405548\n",
      "valid loss: 0.003177812322974205\n",
      "valid loss: 0.0055556087754666805\n"
     ]
    },
    {
     "name": "stderr",
     "output_type": "stream",
     "text": [
      "sampling loop time step: 100%|██████████| 1000/1000 [00:39<00:00, 25.55it/s]\n",
      "sampling loop time step: 100%|██████████| 1000/1000 [00:26<00:00, 37.56it/s]\n",
      "2it [01:06, 33.01s/it]\n"
     ]
    },
    {
     "name": "stdout",
     "output_type": "stream",
     "text": [
      "valid loss: 0.007323357742279768\n",
      "valid loss: 0.0008136347169056535\n",
      "valid loss: 0.005317117553204298\n",
      "valid loss: 0.002459431765601039\n",
      "valid loss: 0.007008841726928949\n",
      "valid loss: 0.005284735467284918\n",
      "valid loss: 0.0010458462638780475\n",
      "valid loss: 0.004392590839415789\n",
      "valid loss: 0.0025615531485527754\n",
      "valid loss: 0.0034581974614411592\n",
      "valid loss: 0.0047733052633702755\n",
      "valid loss: 0.004815844353288412\n",
      "valid loss: 0.0024131075479090214\n",
      "valid loss: 0.0029839505441486835\n",
      "valid loss: 0.00563045684248209\n",
      "valid loss: 0.0024404479190707207\n",
      "valid loss: 0.004301972687244415\n",
      "valid loss: 0.007915152236819267\n",
      "valid loss: 0.002750230021774769\n",
      "valid loss: 0.0030870053451508284\n"
     ]
    },
    {
     "name": "stderr",
     "output_type": "stream",
     "text": [
      "sampling loop time step: 100%|██████████| 1000/1000 [00:47<00:00, 21.23it/s]\n",
      "sampling loop time step: 100%|██████████| 1000/1000 [00:55<00:00, 17.98it/s]\n",
      "2it [01:43, 51.55s/it]\n"
     ]
    },
    {
     "name": "stdout",
     "output_type": "stream",
     "text": [
      "valid loss: 0.00348168914206326\n",
      "valid loss: 0.002708776155486703\n",
      "valid loss: 0.0063422373495996\n",
      "valid loss: 0.002640241989865899\n",
      "valid loss: 0.004383649677038193\n",
      "valid loss: 0.001548581407405436\n",
      "valid loss: 0.003797520650550723\n",
      "valid loss: 0.005879574455320835\n",
      "valid loss: 0.004168781917542219\n",
      "valid loss: 0.002442775061354041\n",
      "valid loss: 0.004288338590413332\n",
      "valid loss: 0.0017552169738337398\n",
      "valid loss: 0.005736459046602249\n",
      "valid loss: 0.0022087530232965946\n",
      "valid loss: 0.005223312880843878\n",
      "valid loss: 0.004356881137937307\n",
      "valid loss: 0.0028869782108813524\n",
      "valid loss: 0.005510604940354824\n",
      "valid loss: 0.004324896726757288\n",
      "valid loss: 0.006526848766952753\n"
     ]
    },
    {
     "name": "stderr",
     "output_type": "stream",
     "text": [
      "sampling loop time step: 100%|██████████| 1000/1000 [00:39<00:00, 25.38it/s]\n",
      "sampling loop time step: 100%|██████████| 1000/1000 [00:30<00:00, 32.79it/s]\n",
      "2it [01:10, 35.08s/it]\n"
     ]
    },
    {
     "name": "stdout",
     "output_type": "stream",
     "text": [
      "valid loss: 0.005883923266083002\n",
      "valid loss: 0.0033246148377656937\n",
      "valid loss: 0.00480695441365242\n",
      "valid loss: 0.002810585079714656\n",
      "valid loss: 0.004500474780797958\n",
      "valid loss: 0.005701988935470581\n",
      "valid loss: 0.003753210650756955\n",
      "valid loss: 0.00685389107093215\n",
      "valid loss: 0.0018702534725889564\n",
      "valid loss: 0.005035535432398319\n",
      "valid loss: 0.0006684923428110778\n",
      "valid loss: 0.004098889417946339\n",
      "valid loss: 0.004379021469503641\n",
      "valid loss: 0.0019303954904899001\n",
      "valid loss: 0.0030315276235342026\n",
      "valid loss: 0.00452112453058362\n",
      "valid loss: 0.002112674294039607\n",
      "valid loss: 0.004822810646146536\n",
      "valid loss: 0.0038945642299950123\n",
      "valid loss: 0.004529584664851427\n"
     ]
    },
    {
     "name": "stderr",
     "output_type": "stream",
     "text": [
      "sampling loop time step: 100%|██████████| 1000/1000 [00:39<00:00, 25.51it/s]\n",
      "sampling loop time step: 100%|██████████| 1000/1000 [00:22<00:00, 45.22it/s]\n",
      "2it [01:01, 30.79s/it]\n"
     ]
    },
    {
     "name": "stdout",
     "output_type": "stream",
     "text": [
      "valid loss: 0.0013541007647290826\n",
      "valid loss: 0.003944975323975086\n",
      "valid loss: 0.005452932324260473\n",
      "valid loss: 0.0023856714833527803\n",
      "valid loss: 0.0059742373414337635\n",
      "valid loss: 0.0057427301071584225\n",
      "valid loss: 0.004028396215289831\n",
      "valid loss: 0.0051942253485322\n",
      "valid loss: 0.002003336790949106\n",
      "valid loss: 0.003960912581533194\n",
      "valid loss: 0.0015405890299007297\n",
      "valid loss: 0.003353264881297946\n",
      "valid loss: 0.005030945874750614\n",
      "valid loss: 0.0013825303176417947\n",
      "valid loss: 0.004301794804632664\n",
      "valid loss: 0.005003240425139666\n",
      "valid loss: 0.001880918862298131\n",
      "valid loss: 0.0010146253043785691\n",
      "valid loss: 0.0021968926303088665\n",
      "valid loss: 0.003918244503438473\n"
     ]
    },
    {
     "name": "stderr",
     "output_type": "stream",
     "text": [
      "sampling loop time step: 100%|██████████| 1000/1000 [00:42<00:00, 23.47it/s]\n",
      "sampling loop time step: 100%|██████████| 1000/1000 [00:55<00:00, 17.95it/s]\n",
      "2it [01:38, 49.33s/it]\n"
     ]
    },
    {
     "name": "stdout",
     "output_type": "stream",
     "text": [
      "valid loss: 0.005410260986536741\n",
      "valid loss: 0.0032573470380157232\n",
      "valid loss: 0.007594062481075525\n",
      "valid loss: 0.003004492027685046\n",
      "valid loss: 0.0050559150986373425\n",
      "valid loss: 0.004437889438122511\n",
      "valid loss: 0.004868429619818926\n",
      "valid loss: 0.005453053861856461\n",
      "valid loss: 0.0019210887840017676\n",
      "valid loss: 0.00312213646247983\n",
      "valid loss: 0.006352420896291733\n",
      "valid loss: 0.0036333326715976\n",
      "valid loss: 0.005624901503324509\n",
      "valid loss: 0.003019225550815463\n",
      "valid loss: 0.006712769158184528\n",
      "valid loss: 0.0058640302158892155\n",
      "valid loss: 0.003988198470324278\n",
      "valid loss: 0.000924176536500454\n",
      "valid loss: 0.0020230941008776426\n",
      "valid loss: 0.0038926766719669104\n"
     ]
    },
    {
     "name": "stderr",
     "output_type": "stream",
     "text": [
      "sampling loop time step: 100%|██████████| 1000/1000 [00:39<00:00, 25.08it/s]\n",
      "sampling loop time step: 100%|██████████| 1000/1000 [00:21<00:00, 46.13it/s]\n",
      "2it [01:01, 30.93s/it]\n"
     ]
    },
    {
     "name": "stdout",
     "output_type": "stream",
     "text": [
      "valid loss: 0.0026483081746846437\n",
      "valid loss: 0.004321224521845579\n",
      "valid loss: 0.004312976263463497\n",
      "valid loss: 0.0028989471029490232\n",
      "valid loss: 0.005334367509931326\n",
      "valid loss: 0.004045920446515083\n",
      "valid loss: 0.0032675780821591616\n",
      "valid loss: 0.007940358482301235\n",
      "valid loss: 0.0023277602158486843\n",
      "valid loss: 0.0048672715201973915\n",
      "valid loss: 0.0028020550962537527\n",
      "valid loss: 0.0030611841939389706\n",
      "valid loss: 0.006692150142043829\n",
      "valid loss: 0.0013685147278010845\n",
      "valid loss: 0.004122941289097071\n",
      "valid loss: 0.0022669800091534853\n",
      "valid loss: 0.0032156207598745823\n",
      "valid loss: 0.0059732915833592415\n",
      "valid loss: 0.005065750330686569\n",
      "valid loss: 0.002843038644641638\n"
     ]
    },
    {
     "name": "stderr",
     "output_type": "stream",
     "text": [
      "sampling loop time step: 100%|██████████| 1000/1000 [00:48<00:00, 20.69it/s]\n",
      "sampling loop time step: 100%|██████████| 1000/1000 [00:38<00:00, 26.26it/s]\n",
      "2it [01:26, 43.37s/it]\n"
     ]
    },
    {
     "name": "stdout",
     "output_type": "stream",
     "text": [
      "valid loss: 0.0049398052506148815\n",
      "valid loss: 0.00399367231875658\n",
      "valid loss: 0.006086115725338459\n",
      "valid loss: 0.0011636948911473155\n",
      "valid loss: 0.004326731897890568\n",
      "valid loss: 0.0037292917259037495\n",
      "valid loss: 0.004411326255649328\n",
      "valid loss: 0.0023114504292607307\n",
      "valid loss: 0.0037646822165697813\n",
      "valid loss: 0.002146648010239005\n",
      "valid loss: 0.002444261685013771\n",
      "valid loss: 0.0018616939196363091\n",
      "valid loss: 0.005525183863937855\n",
      "valid loss: 0.0037769475020468235\n",
      "valid loss: 0.004225156735628843\n",
      "valid loss: 0.006908421404659748\n",
      "valid loss: 0.003865035716444254\n",
      "valid loss: 0.0023653090465813875\n",
      "valid loss: 0.003259288612753153\n",
      "valid loss: 0.004591505974531174\n"
     ]
    },
    {
     "name": "stderr",
     "output_type": "stream",
     "text": [
      "sampling loop time step: 100%|██████████| 1000/1000 [00:44<00:00, 22.68it/s]\n",
      "sampling loop time step: 100%|██████████| 1000/1000 [00:39<00:00, 25.18it/s]\n",
      "2it [01:24, 42.07s/it]\n"
     ]
    },
    {
     "name": "stdout",
     "output_type": "stream",
     "text": [
      "valid loss: 0.005266763735562563\n",
      "checkpoint saved to imagen_two_unets_24s.pt\n",
      "valid loss: 0.0041853818111121655\n",
      "valid loss: 0.007318650372326374\n",
      "valid loss: 0.0049130879342556\n",
      "valid loss: 0.003206371096894145\n",
      "valid loss: 0.005190763156861067\n",
      "valid loss: 0.002892031567171216\n",
      "valid loss: 0.004557278472930193\n",
      "valid loss: 0.001863535144366324\n",
      "valid loss: 0.005290082190185785\n",
      "valid loss: 0.006436333060264587\n",
      "valid loss: 0.0029566758312284946\n",
      "valid loss: 0.0043366109021008015\n",
      "valid loss: 0.0026525421999394894\n",
      "valid loss: 0.0026759831234812737\n",
      "valid loss: 0.0073288194835186005\n",
      "valid loss: 0.002854899037629366\n",
      "valid loss: 0.004071206785738468\n",
      "valid loss: 0.0022771023213863373\n",
      "valid loss: 0.005402788054198027\n"
     ]
    },
    {
     "name": "stderr",
     "output_type": "stream",
     "text": [
      "sampling loop time step: 100%|██████████| 1000/1000 [00:43<00:00, 23.18it/s]\n",
      "sampling loop time step: 100%|██████████| 1000/1000 [00:32<00:00, 30.77it/s]\n",
      "2it [01:15, 37.96s/it]\n"
     ]
    },
    {
     "name": "stdout",
     "output_type": "stream",
     "text": [
      "valid loss: 0.0034641437232494354\n",
      "valid loss: 0.0033318952191621065\n",
      "valid loss: 0.005947937723249197\n",
      "valid loss: 0.0031858303118497133\n",
      "valid loss: 0.0028473425190895796\n",
      "valid loss: 0.002120415447279811\n",
      "valid loss: 0.0038498565554618835\n",
      "valid loss: 0.0009205198148265481\n",
      "valid loss: 0.004392562434077263\n",
      "valid loss: 0.006314802449196577\n",
      "valid loss: 0.004285176284611225\n",
      "valid loss: 0.005691897589713335\n",
      "valid loss: 0.006166254635900259\n",
      "valid loss: 0.0040830038487911224\n",
      "valid loss: 0.0025714298244565725\n",
      "valid loss: 0.0024749781005084515\n",
      "valid loss: 0.00098028767388314\n",
      "valid loss: 0.0035834989976137877\n",
      "valid loss: 0.0012646744726225734\n",
      "valid loss: 0.0015445195604115725\n"
     ]
    },
    {
     "name": "stderr",
     "output_type": "stream",
     "text": [
      "sampling loop time step: 100%|██████████| 1000/1000 [00:47<00:00, 20.91it/s]\n",
      "sampling loop time step: 100%|██████████| 1000/1000 [00:56<00:00, 17.80it/s]\n",
      "2it [01:44, 52.16s/it]\n"
     ]
    },
    {
     "name": "stdout",
     "output_type": "stream",
     "text": [
      "valid loss: 0.0012702887179329991\n",
      "valid loss: 0.0026911150198429823\n",
      "valid loss: 0.005894194357097149\n",
      "valid loss: 0.004688389133661985\n",
      "valid loss: 0.002906057983636856\n",
      "valid loss: 0.005883400794118643\n",
      "valid loss: 0.0012021505972370505\n",
      "valid loss: 0.0012738530058413744\n",
      "valid loss: 0.001682744361460209\n",
      "valid loss: 0.0036856557708233595\n",
      "valid loss: 0.004713307600468397\n",
      "valid loss: 0.0047344546765089035\n",
      "valid loss: 0.005877257324755192\n",
      "valid loss: 0.0050766742788255215\n",
      "valid loss: 0.004427583888173103\n",
      "valid loss: 0.006058685015887022\n",
      "valid loss: 0.0019872391130775213\n",
      "valid loss: 0.00675988057628274\n",
      "valid loss: 0.001519707147963345\n",
      "valid loss: 0.004132294561713934\n"
     ]
    },
    {
     "name": "stderr",
     "output_type": "stream",
     "text": [
      "sampling loop time step: 100%|██████████| 1000/1000 [00:41<00:00, 24.11it/s]\n",
      "sampling loop time step: 100%|██████████| 1000/1000 [00:29<00:00, 33.53it/s]\n",
      "2it [01:11, 35.80s/it]\n"
     ]
    },
    {
     "name": "stdout",
     "output_type": "stream",
     "text": [
      "valid loss: 0.005878307856619358\n",
      "valid loss: 0.0036264851223677397\n",
      "valid loss: 0.004619481507688761\n",
      "valid loss: 0.0024949500802904367\n",
      "valid loss: 0.0022838551085442305\n",
      "valid loss: 0.005326863378286362\n",
      "valid loss: 0.005128189921379089\n",
      "valid loss: 0.0020635584369301796\n",
      "valid loss: 0.003816908225417137\n",
      "valid loss: 0.005190690979361534\n",
      "valid loss: 0.00485081085935235\n",
      "valid loss: 0.003651718143373728\n",
      "valid loss: 0.006783147342503071\n",
      "valid loss: 0.003025528509169817\n",
      "valid loss: 0.004057715181261301\n",
      "valid loss: 0.004266783129423857\n",
      "valid loss: 0.0038981710094958544\n",
      "valid loss: 0.00581385800614953\n",
      "valid loss: 0.002790315542370081\n",
      "valid loss: 0.0037407458294183016\n"
     ]
    },
    {
     "name": "stderr",
     "output_type": "stream",
     "text": [
      "sampling loop time step: 100%|██████████| 1000/1000 [00:39<00:00, 25.47it/s]\n",
      "sampling loop time step: 100%|██████████| 1000/1000 [00:21<00:00, 46.04it/s]\n",
      "2it [01:01, 30.63s/it]\n"
     ]
    },
    {
     "name": "stdout",
     "output_type": "stream",
     "text": [
      "valid loss: 0.0033324062824249268\n",
      "valid loss: 0.005218315403908491\n",
      "valid loss: 0.002882268512621522\n",
      "valid loss: 0.0039832801558077335\n",
      "valid loss: 0.0033687830436974764\n",
      "valid loss: 0.005508102476596832\n",
      "valid loss: 0.0032711047679185867\n",
      "valid loss: 0.006286834832280874\n",
      "valid loss: 0.004153234418481588\n",
      "valid loss: 0.0032503088004887104\n",
      "valid loss: 0.005781904328614473\n",
      "valid loss: 0.0010680730920284986\n",
      "valid loss: 0.006435188930481672\n",
      "valid loss: 0.0013363457983359694\n",
      "valid loss: 0.003870729822665453\n",
      "valid loss: 0.0038821608759462833\n",
      "valid loss: 0.0028104418888688087\n",
      "valid loss: 0.004944966174662113\n",
      "valid loss: 0.0028362926095724106\n",
      "valid loss: 0.006262381561100483\n"
     ]
    },
    {
     "name": "stderr",
     "output_type": "stream",
     "text": [
      "sampling loop time step: 100%|██████████| 1000/1000 [00:39<00:00, 25.23it/s]\n",
      "sampling loop time step: 100%|██████████| 1000/1000 [00:21<00:00, 45.82it/s]\n",
      "2it [01:01, 30.87s/it]\n"
     ]
    },
    {
     "name": "stdout",
     "output_type": "stream",
     "text": [
      "valid loss: 0.0017196852713823318\n",
      "valid loss: 0.004127730615437031\n",
      "valid loss: 0.0047727967612445354\n",
      "valid loss: 0.003054995322600007\n",
      "valid loss: 0.004773000720888376\n",
      "valid loss: 0.005757755599915981\n",
      "valid loss: 0.0037150331772863865\n",
      "valid loss: 0.004719426389783621\n",
      "valid loss: 0.0030804453417658806\n",
      "valid loss: 0.004778208676725626\n",
      "valid loss: 0.005964058451354504\n",
      "valid loss: 0.0033240572083741426\n",
      "valid loss: 0.0040908679366111755\n",
      "valid loss: 0.003925888333469629\n",
      "valid loss: 0.004632936324924231\n",
      "valid loss: 0.003927875310182571\n",
      "valid loss: 0.0028451059479266405\n",
      "valid loss: 0.008511052466928959\n",
      "valid loss: 0.0009724559495225549\n",
      "valid loss: 0.0012883039889857173\n"
     ]
    },
    {
     "name": "stderr",
     "output_type": "stream",
     "text": [
      "sampling loop time step: 100%|██████████| 1000/1000 [00:46<00:00, 21.36it/s]\n",
      "sampling loop time step: 100%|██████████| 1000/1000 [00:57<00:00, 17.26it/s]\n",
      "2it [01:45, 52.57s/it]\n"
     ]
    },
    {
     "name": "stdout",
     "output_type": "stream",
     "text": [
      "valid loss: 0.0036111995577812195\n",
      "valid loss: 0.00409655598923564\n",
      "valid loss: 0.0052240327931940556\n",
      "valid loss: 0.0008441735408268869\n",
      "valid loss: 0.003945447038859129\n",
      "valid loss: 0.0061040157452225685\n",
      "valid loss: 0.0038851022254675627\n",
      "valid loss: 0.006017704494297504\n",
      "valid loss: 0.0028204896952956915\n",
      "valid loss: 0.0011526549933478236\n",
      "valid loss: 0.0031879458110779524\n",
      "valid loss: 0.002328716916963458\n",
      "valid loss: 0.00352152856066823\n",
      "valid loss: 0.003917602356523275\n",
      "valid loss: 0.005497252102941275\n",
      "valid loss: 0.0034951192792505026\n",
      "valid loss: 0.003165271831676364\n",
      "valid loss: 0.0042755999602377415\n",
      "valid loss: 0.00493180938065052\n",
      "valid loss: 0.0031490009278059006\n"
     ]
    },
    {
     "name": "stderr",
     "output_type": "stream",
     "text": [
      "sampling loop time step: 100%|██████████| 1000/1000 [00:39<00:00, 25.43it/s]\n",
      "sampling loop time step: 100%|██████████| 1000/1000 [00:21<00:00, 45.49it/s]\n",
      "2it [01:01, 30.79s/it]\n"
     ]
    },
    {
     "name": "stdout",
     "output_type": "stream",
     "text": [
      "valid loss: 0.006076409947127104\n",
      "valid loss: 0.0054935733787715435\n",
      "valid loss: 0.0011331215500831604\n",
      "valid loss: 0.0030676969327032566\n",
      "valid loss: 0.0015064000617712736\n",
      "valid loss: 0.0041200038976967335\n",
      "valid loss: 0.0023633164819329977\n",
      "valid loss: 0.004346344154328108\n",
      "valid loss: 0.0055689080618321896\n",
      "valid loss: 0.0024148724041879177\n",
      "valid loss: 0.0017831020522862673\n",
      "valid loss: 0.0029711227398365736\n",
      "valid loss: 0.004323088098317385\n",
      "valid loss: 0.0029121425468474627\n",
      "valid loss: 0.0040267412550747395\n",
      "valid loss: 0.005969757679849863\n",
      "valid loss: 0.0032366111408919096\n",
      "valid loss: 0.005580549128353596\n",
      "valid loss: 0.002692069625481963\n",
      "valid loss: 0.005302851554006338\n"
     ]
    },
    {
     "name": "stderr",
     "output_type": "stream",
     "text": [
      "sampling loop time step: 100%|██████████| 1000/1000 [00:44<00:00, 22.28it/s]\n",
      "sampling loop time step: 100%|██████████| 1000/1000 [00:45<00:00, 21.79it/s]\n",
      "2it [01:31, 45.57s/it]\n"
     ]
    },
    {
     "name": "stdout",
     "output_type": "stream",
     "text": [
      "valid loss: 0.005710371304303408\n",
      "valid loss: 0.002298938110470772\n",
      "valid loss: 0.004163170699030161\n",
      "valid loss: 0.0032654069364070892\n",
      "valid loss: 0.005439025815576315\n",
      "valid loss: 0.004471575375646353\n",
      "valid loss: 0.0016203022096306086\n",
      "valid loss: 0.005669511388987303\n",
      "valid loss: 0.004453600849956274\n",
      "valid loss: 0.004353855736553669\n",
      "valid loss: 0.006117179989814758\n",
      "valid loss: 0.0035505443811416626\n",
      "valid loss: 0.006112430710345507\n",
      "valid loss: 0.001328270765952766\n",
      "valid loss: 0.0048609585501253605\n",
      "valid loss: 0.0028971978463232517\n",
      "valid loss: 0.0021081564482301474\n",
      "valid loss: 0.0035246089100837708\n",
      "valid loss: 0.0027923518791794777\n",
      "valid loss: 0.0049276407808065414\n"
     ]
    },
    {
     "name": "stderr",
     "output_type": "stream",
     "text": [
      "sampling loop time step: 100%|██████████| 1000/1000 [00:39<00:00, 25.45it/s]\n",
      "sampling loop time step: 100%|██████████| 1000/1000 [00:21<00:00, 45.92it/s]\n",
      "2it [01:01, 30.67s/it]\n"
     ]
    },
    {
     "name": "stdout",
     "output_type": "stream",
     "text": [
      "valid loss: 0.002821447094902396\n",
      "valid loss: 0.0027765340637415648\n",
      "valid loss: 0.005016976036131382\n",
      "valid loss: 0.0008210001396946609\n",
      "valid loss: 0.005915579851716757\n",
      "valid loss: 0.0020813944283872843\n",
      "valid loss: 0.0027640042826533318\n",
      "valid loss: 0.0013757264241576195\n",
      "valid loss: 0.0029287422075867653\n",
      "valid loss: 0.003018969437107444\n",
      "valid loss: 0.0038866617251187563\n",
      "valid loss: 0.004532137885689735\n",
      "valid loss: 0.003566647646948695\n",
      "valid loss: 0.0044609420001506805\n",
      "valid loss: 0.0038281057495623827\n",
      "valid loss: 0.0037678037770092487\n",
      "valid loss: 0.0034262817353010178\n",
      "valid loss: 0.005334730725735426\n",
      "valid loss: 0.0023938012309372425\n",
      "valid loss: 0.004107494838535786\n"
     ]
    },
    {
     "name": "stderr",
     "output_type": "stream",
     "text": [
      "sampling loop time step: 100%|██████████| 1000/1000 [00:39<00:00, 25.56it/s]\n",
      "sampling loop time step: 100%|██████████| 1000/1000 [00:21<00:00, 46.17it/s]\n",
      "2it [01:01, 30.53s/it]\n"
     ]
    },
    {
     "name": "stdout",
     "output_type": "stream",
     "text": [
      "valid loss: 0.0022936288733035326\n",
      "checkpoint saved to imagen_two_unets_24s.pt\n",
      "valid loss: 0.003451958764344454\n",
      "valid loss: 0.005684375762939453\n",
      "valid loss: 0.0034486425574868917\n",
      "valid loss: 0.004990691784769297\n",
      "valid loss: 0.0012756893411278725\n",
      "valid loss: 0.0034446462523192167\n",
      "valid loss: 0.004332761745899916\n",
      "valid loss: 0.003727859351783991\n",
      "valid loss: 0.0043367138132452965\n",
      "valid loss: 0.007683357689529657\n",
      "valid loss: 0.0038334557320922613\n",
      "valid loss: 0.0008797053596936166\n",
      "valid loss: 0.0023109614849090576\n",
      "valid loss: 0.007426952011883259\n",
      "valid loss: 0.0037815880496054888\n",
      "valid loss: 0.0018448829650878906\n",
      "valid loss: 0.006229346618056297\n",
      "valid loss: 0.003018885850906372\n",
      "valid loss: 0.005307076498866081\n"
     ]
    },
    {
     "name": "stderr",
     "output_type": "stream",
     "text": [
      "sampling loop time step: 100%|██████████| 1000/1000 [00:39<00:00, 25.42it/s]\n",
      "sampling loop time step: 100%|██████████| 1000/1000 [00:21<00:00, 45.97it/s]\n",
      "2it [01:01, 30.68s/it]\n"
     ]
    },
    {
     "name": "stdout",
     "output_type": "stream",
     "text": [
      "valid loss: 0.005637734662741423\n",
      "valid loss: 0.002238441724330187\n",
      "valid loss: 0.005022547673434019\n",
      "valid loss: 0.002253573853522539\n",
      "valid loss: 0.001507652923464775\n",
      "valid loss: 0.0018495795084163547\n",
      "valid loss: 0.0035808496177196503\n",
      "valid loss: 0.003952648025006056\n",
      "valid loss: 0.003110442776232958\n",
      "valid loss: 0.0012734433403238654\n",
      "valid loss: 0.00703658489510417\n",
      "valid loss: 0.003728593932464719\n",
      "valid loss: 0.003409884637221694\n",
      "valid loss: 0.0008499252726323903\n",
      "valid loss: 0.003018286544829607\n",
      "valid loss: 0.0046821171417832375\n",
      "valid loss: 0.0031250379979610443\n",
      "valid loss: 0.0029308628290891647\n",
      "valid loss: 0.0023208947386592627\n",
      "valid loss: 0.0023562591522932053\n"
     ]
    },
    {
     "name": "stderr",
     "output_type": "stream",
     "text": [
      "sampling loop time step: 100%|██████████| 1000/1000 [00:39<00:00, 25.43it/s]\n",
      "sampling loop time step: 100%|██████████| 1000/1000 [00:21<00:00, 45.83it/s]\n",
      "2it [01:01, 30.70s/it]\n"
     ]
    },
    {
     "name": "stdout",
     "output_type": "stream",
     "text": [
      "valid loss: 0.0019427083898335695\n",
      "valid loss: 0.004060912411659956\n",
      "valid loss: 0.00560429273173213\n",
      "valid loss: 0.002703225938603282\n",
      "valid loss: 0.0011561838909983635\n",
      "valid loss: 0.004476325120776892\n",
      "valid loss: 0.0034424252808094025\n",
      "valid loss: 0.00689797243103385\n",
      "valid loss: 0.0016730920178815722\n",
      "valid loss: 0.006106994580477476\n",
      "valid loss: 0.005526688881218433\n",
      "valid loss: 0.0007226952002383769\n",
      "valid loss: 0.0011255046119913459\n",
      "valid loss: 0.003894286695867777\n",
      "valid loss: 0.004927796311676502\n",
      "valid loss: 0.005433990154415369\n",
      "valid loss: 0.002247347729280591\n",
      "valid loss: 0.0046865614131093025\n",
      "valid loss: 0.004097545053809881\n",
      "valid loss: 0.0063142976723611355\n"
     ]
    },
    {
     "name": "stderr",
     "output_type": "stream",
     "text": [
      "sampling loop time step: 100%|██████████| 1000/1000 [00:49<00:00, 20.17it/s]\n",
      "sampling loop time step: 100%|██████████| 1000/1000 [00:58<00:00, 17.09it/s]\n",
      "2it [01:48, 54.23s/it]\n"
     ]
    },
    {
     "name": "stdout",
     "output_type": "stream",
     "text": [
      "valid loss: 0.00560407480224967\n",
      "valid loss: 0.0037165849935263395\n",
      "valid loss: 0.005983910523355007\n",
      "valid loss: 0.0034276985097676516\n",
      "valid loss: 0.004593586083501577\n",
      "valid loss: 0.004518595989793539\n",
      "valid loss: 0.0036743897944688797\n",
      "valid loss: 0.006502159871160984\n",
      "valid loss: 0.003185115521773696\n",
      "valid loss: 0.004513602238148451\n",
      "valid loss: 0.003489251947030425\n",
      "valid loss: 0.004777729976922274\n",
      "valid loss: 0.00843152403831482\n",
      "valid loss: 0.0028544128872454166\n",
      "valid loss: 0.003703460795804858\n",
      "valid loss: 0.004997864365577698\n",
      "valid loss: 0.0027733291499316692\n",
      "valid loss: 0.006526518147438765\n",
      "valid loss: 0.0044112843461334705\n",
      "valid loss: 0.0018805062863975763\n"
     ]
    },
    {
     "name": "stderr",
     "output_type": "stream",
     "text": [
      "sampling loop time step: 100%|██████████| 1000/1000 [00:47<00:00, 21.05it/s]\n",
      "sampling loop time step: 100%|██████████| 1000/1000 [00:56<00:00, 17.83it/s]\n",
      "2it [01:43, 51.99s/it]\n"
     ]
    },
    {
     "name": "stdout",
     "output_type": "stream",
     "text": [
      "valid loss: 0.006152489222586155\n",
      "valid loss: 0.004787176847457886\n",
      "valid loss: 0.007718747016042471\n",
      "valid loss: 0.0022375781554728746\n",
      "valid loss: 0.002380113350227475\n",
      "valid loss: 0.0021039999555796385\n",
      "valid loss: 0.004449555184692144\n",
      "valid loss: 0.0006445206236094236\n",
      "valid loss: 0.002997513161972165\n",
      "valid loss: 0.004278913140296936\n",
      "valid loss: 0.004366904031485319\n",
      "valid loss: 0.0023656864650547504\n",
      "valid loss: 0.006647084839642048\n",
      "valid loss: 0.0021815074142068624\n",
      "valid loss: 0.004669496323913336\n",
      "valid loss: 0.004535540472716093\n",
      "valid loss: 0.0018066809279844165\n",
      "valid loss: 0.0030825175344944\n",
      "valid loss: 0.0046585677191615105\n",
      "valid loss: 0.007633394096046686\n"
     ]
    },
    {
     "name": "stderr",
     "output_type": "stream",
     "text": [
      "sampling loop time step: 100%|██████████| 1000/1000 [00:47<00:00, 20.91it/s]\n",
      "sampling loop time step: 100%|██████████| 1000/1000 [00:59<00:00, 16.86it/s]\n",
      "2it [01:47, 53.77s/it]\n"
     ]
    },
    {
     "name": "stdout",
     "output_type": "stream",
     "text": [
      "valid loss: 0.0033605152275413275\n",
      "valid loss: 0.0035543597768992186\n",
      "valid loss: 0.006808015052229166\n",
      "valid loss: 0.00411719037219882\n",
      "valid loss: 0.0036597889848053455\n",
      "valid loss: 0.0039598168805241585\n",
      "valid loss: 0.002121217781677842\n",
      "valid loss: 0.006163963116705418\n",
      "valid loss: 0.0033035874366760254\n",
      "valid loss: 0.005787512753158808\n",
      "valid loss: 0.0047608427703380585\n",
      "valid loss: 0.002316867932677269\n",
      "valid loss: 0.005550682544708252\n",
      "valid loss: 0.0012177679454907775\n",
      "valid loss: 0.0019367499044165015\n",
      "valid loss: 0.004269363824278116\n",
      "valid loss: 0.0027181177865713835\n",
      "valid loss: 0.006561311427503824\n",
      "valid loss: 0.0037882477045059204\n",
      "valid loss: 0.0030833594501018524\n"
     ]
    },
    {
     "name": "stderr",
     "output_type": "stream",
     "text": [
      "sampling loop time step: 100%|██████████| 1000/1000 [00:39<00:00, 25.02it/s]\n",
      "sampling loop time step: 100%|██████████| 1000/1000 [00:35<00:00, 28.03it/s]\n",
      "2it [01:15, 37.97s/it]\n"
     ]
    },
    {
     "name": "stdout",
     "output_type": "stream",
     "text": [
      "valid loss: 0.005930623505264521\n",
      "valid loss: 0.0017212171806022525\n",
      "valid loss: 0.007452068384736776\n",
      "valid loss: 0.00332919554784894\n",
      "valid loss: 0.006267664022743702\n",
      "valid loss: 0.005921147298067808\n",
      "valid loss: 0.00491556990891695\n",
      "valid loss: 0.005768670234829187\n",
      "valid loss: 0.002113099442794919\n",
      "valid loss: 0.0019841219764202833\n",
      "valid loss: 0.005152022931724787\n",
      "valid loss: 0.002609954448416829\n",
      "valid loss: 0.006714233662933111\n",
      "valid loss: 0.0033158701844513416\n",
      "valid loss: 0.0036592099349945784\n",
      "valid loss: 0.0036321484949439764\n",
      "valid loss: 0.003732695011422038\n",
      "valid loss: 0.008054876700043678\n",
      "valid loss: 0.004785203840583563\n",
      "valid loss: 0.002280784072354436\n"
     ]
    },
    {
     "name": "stderr",
     "output_type": "stream",
     "text": [
      "sampling loop time step: 100%|██████████| 1000/1000 [00:39<00:00, 25.44it/s]\n",
      "sampling loop time step: 100%|██████████| 1000/1000 [00:21<00:00, 46.26it/s]\n",
      "2it [01:01, 30.60s/it]\n"
     ]
    },
    {
     "name": "stdout",
     "output_type": "stream",
     "text": [
      "valid loss: 0.0038774244021624327\n",
      "valid loss: 0.003175223944708705\n",
      "valid loss: 0.0014622334856539965\n",
      "valid loss: 0.004049060400575399\n",
      "valid loss: 0.004117922857403755\n",
      "valid loss: 0.006031897850334644\n",
      "valid loss: 0.003420816035941243\n",
      "valid loss: 0.004914784338325262\n",
      "valid loss: 0.003561287885531783\n",
      "valid loss: 0.0063411458395421505\n",
      "valid loss: 0.00589714152738452\n",
      "valid loss: 0.003581555560231209\n",
      "valid loss: 0.005948177073150873\n",
      "valid loss: 0.0005343125085346401\n",
      "valid loss: 0.003633863525465131\n",
      "valid loss: 0.0022917762398719788\n",
      "valid loss: 0.0028945859521627426\n",
      "valid loss: 0.0005802524974569678\n",
      "valid loss: 0.0032284946646541357\n",
      "valid loss: 0.002492401748895645\n"
     ]
    },
    {
     "name": "stderr",
     "output_type": "stream",
     "text": [
      "sampling loop time step: 100%|██████████| 1000/1000 [00:49<00:00, 20.13it/s]\n",
      "sampling loop time step: 100%|██████████| 1000/1000 [00:59<00:00, 16.93it/s]\n",
      "2it [01:49, 54.58s/it]\n"
     ]
    },
    {
     "name": "stdout",
     "output_type": "stream",
     "text": [
      "valid loss: 0.004432100336998701\n",
      "valid loss: 0.0039789206348359585\n",
      "valid loss: 0.005086051300168037\n",
      "valid loss: 0.0017362779472023249\n",
      "valid loss: 0.003044413635507226\n",
      "valid loss: 0.0016330991638824344\n",
      "valid loss: 0.0037227242719382048\n",
      "valid loss: 0.002612257841974497\n",
      "valid loss: 0.0011575017124414444\n",
      "valid loss: 0.004740897566080093\n",
      "valid loss: 0.005591575056314468\n",
      "valid loss: 0.0014331253478303552\n",
      "valid loss: 0.00613039918243885\n",
      "valid loss: 0.003627252299338579\n",
      "valid loss: 0.0053183455020189285\n",
      "valid loss: 0.006429688073694706\n",
      "valid loss: 0.003800968173891306\n",
      "valid loss: 0.004096729680895805\n",
      "valid loss: 0.0029868546407669783\n",
      "valid loss: 0.00533309718593955\n"
     ]
    },
    {
     "name": "stderr",
     "output_type": "stream",
     "text": [
      "sampling loop time step: 100%|██████████| 1000/1000 [00:39<00:00, 25.44it/s]\n",
      "sampling loop time step: 100%|██████████| 1000/1000 [00:22<00:00, 45.04it/s]\n",
      "2it [01:01, 30.89s/it]\n"
     ]
    },
    {
     "name": "stdout",
     "output_type": "stream",
     "text": [
      "valid loss: 0.0068068355321884155\n",
      "valid loss: 0.004520986694842577\n",
      "valid loss: 0.004821059759706259\n",
      "valid loss: 0.0036727299448102713\n",
      "valid loss: 0.004169610794633627\n",
      "valid loss: 0.006814693100750446\n",
      "valid loss: 0.0035189648624509573\n",
      "valid loss: 0.0006024779286235571\n",
      "valid loss: 0.003968148957937956\n",
      "valid loss: 0.004063149448484182\n",
      "valid loss: 0.007809074129909277\n",
      "valid loss: 0.0016416453290730715\n",
      "valid loss: 0.007019414100795984\n",
      "valid loss: 0.0019593890756368637\n",
      "valid loss: 0.005043679382652044\n",
      "valid loss: 0.004592602606862783\n",
      "valid loss: 0.004884927999228239\n",
      "valid loss: 0.005574011709541082\n",
      "valid loss: 0.003724585520103574\n",
      "valid loss: 0.0056048231199383736\n"
     ]
    },
    {
     "name": "stderr",
     "output_type": "stream",
     "text": [
      "sampling loop time step: 100%|██████████| 1000/1000 [00:39<00:00, 25.49it/s]\n",
      "sampling loop time step: 100%|██████████| 1000/1000 [00:21<00:00, 45.76it/s]\n",
      "2it [01:01, 30.68s/it]\n"
     ]
    },
    {
     "name": "stdout",
     "output_type": "stream",
     "text": [
      "valid loss: 0.00467723747715354\n",
      "checkpoint saved to imagen_two_unets_24s.pt\n",
      "valid loss: 0.0023740127217024565\n",
      "valid loss: 0.004845482762902975\n",
      "valid loss: 0.0036321242805570364\n",
      "valid loss: 0.004202443640679121\n",
      "valid loss: 0.003982075490057468\n",
      "valid loss: 0.003977280575782061\n",
      "valid loss: 0.006354530341923237\n",
      "valid loss: 0.004670413676649332\n",
      "valid loss: 0.004417825490236282\n",
      "valid loss: 0.0042749689891934395\n",
      "valid loss: 0.0010624764254316688\n",
      "valid loss: 0.004819223191589117\n",
      "valid loss: 0.0016087914118543267\n",
      "valid loss: 0.001636242843233049\n",
      "valid loss: 0.007237942423671484\n",
      "valid loss: 0.0030083374585956335\n",
      "valid loss: 0.00344546209089458\n",
      "valid loss: 0.0045073810033500195\n",
      "valid loss: 0.006816797889769077\n"
     ]
    },
    {
     "name": "stderr",
     "output_type": "stream",
     "text": [
      "sampling loop time step: 100%|██████████| 1000/1000 [00:46<00:00, 21.33it/s]\n",
      "sampling loop time step: 100%|██████████| 1000/1000 [00:33<00:00, 29.75it/s]\n",
      "2it [01:20, 40.41s/it]\n"
     ]
    },
    {
     "name": "stdout",
     "output_type": "stream",
     "text": [
      "valid loss: 0.003579676616936922\n",
      "valid loss: 0.004215572960674763\n",
      "valid loss: 0.004455766174942255\n",
      "valid loss: 0.00278453784994781\n",
      "valid loss: 0.0028259865939617157\n",
      "valid loss: 0.008867419324815273\n",
      "valid loss: 0.003431389108300209\n",
      "valid loss: 0.006113944575190544\n",
      "valid loss: 0.004245392512530088\n",
      "valid loss: 0.0027180765755474567\n",
      "valid loss: 0.0026285236235708\n",
      "valid loss: 0.0041443840600550175\n",
      "valid loss: 0.002669725799933076\n",
      "valid loss: 0.002657340606674552\n",
      "valid loss: 0.005540616810321808\n",
      "valid loss: 0.008188225328922272\n",
      "valid loss: 0.0032655857503414154\n",
      "valid loss: 0.005341438576579094\n",
      "valid loss: 0.004363091196864843\n",
      "valid loss: 0.0045210509561002254\n"
     ]
    },
    {
     "name": "stderr",
     "output_type": "stream",
     "text": [
      "sampling loop time step: 100%|██████████| 1000/1000 [00:39<00:00, 25.39it/s]\n",
      "sampling loop time step: 100%|██████████| 1000/1000 [00:43<00:00, 22.79it/s]\n",
      "2it [01:23, 41.77s/it]\n"
     ]
    },
    {
     "name": "stdout",
     "output_type": "stream",
     "text": [
      "valid loss: 0.0037010235246270895\n",
      "valid loss: 0.005506935063749552\n",
      "valid loss: 0.0013188256416469812\n",
      "valid loss: 0.003711471101269126\n",
      "valid loss: 0.0012002693256363273\n",
      "valid loss: 0.0032715119887143373\n",
      "valid loss: 0.002804085146635771\n",
      "valid loss: 0.0017699524760246277\n",
      "valid loss: 0.001222290680743754\n",
      "valid loss: 0.004554274957627058\n",
      "valid loss: 0.004027439281344414\n",
      "valid loss: 0.00038036430487409234\n",
      "valid loss: 0.010030880570411682\n",
      "valid loss: 0.0037657932844012976\n",
      "valid loss: 0.005789147224277258\n",
      "valid loss: 0.004577368497848511\n",
      "valid loss: 0.0045523312874138355\n",
      "valid loss: 0.008387020789086819\n",
      "valid loss: 0.001705837668851018\n",
      "valid loss: 0.0032676723785698414\n"
     ]
    },
    {
     "name": "stderr",
     "output_type": "stream",
     "text": [
      "sampling loop time step: 100%|██████████| 1000/1000 [00:47<00:00, 20.94it/s]\n",
      "sampling loop time step: 100%|██████████| 1000/1000 [00:56<00:00, 17.85it/s]\n",
      "2it [01:44, 52.07s/it]\n"
     ]
    },
    {
     "name": "stdout",
     "output_type": "stream",
     "text": [
      "valid loss: 0.004655070137232542\n",
      "valid loss: 0.001944160321727395\n",
      "valid loss: 0.0034420513547956944\n",
      "valid loss: 0.0011291917180642486\n",
      "valid loss: 0.004450603853911161\n",
      "valid loss: 0.004600213374942541\n",
      "valid loss: 0.0032141716219484806\n",
      "valid loss: 0.006551737431436777\n",
      "valid loss: 0.004349480848759413\n",
      "valid loss: 0.005475518759340048\n",
      "valid loss: 0.00532794464379549\n",
      "valid loss: 0.002601148560643196\n",
      "valid loss: 0.006456432398408651\n",
      "valid loss: 0.0009124806965701282\n",
      "valid loss: 0.006367386318743229\n",
      "valid loss: 0.008795183151960373\n",
      "valid loss: 0.003935581538826227\n",
      "valid loss: 0.0023111242335289717\n",
      "valid loss: 0.00289720157161355\n",
      "valid loss: 0.006766671780496836\n"
     ]
    },
    {
     "name": "stderr",
     "output_type": "stream",
     "text": [
      "sampling loop time step: 100%|██████████| 1000/1000 [00:39<00:00, 25.41it/s]\n",
      "sampling loop time step: 100%|██████████| 1000/1000 [00:21<00:00, 46.30it/s]\n",
      "2it [01:01, 30.61s/it]\n"
     ]
    },
    {
     "name": "stdout",
     "output_type": "stream",
     "text": [
      "valid loss: 0.0038642697036266327\n",
      "valid loss: 0.0032765597570687532\n",
      "valid loss: 0.004719838500022888\n",
      "valid loss: 0.0028604245744645596\n",
      "valid loss: 0.005757014267146587\n",
      "valid loss: 0.004968367051333189\n",
      "valid loss: 0.004119706805795431\n",
      "valid loss: 0.004189393948763609\n",
      "valid loss: 0.002686872147023678\n",
      "valid loss: 0.0026553485076874495\n",
      "valid loss: 0.004254687577486038\n",
      "valid loss: 0.0055151889100670815\n",
      "valid loss: 0.006435919553041458\n",
      "valid loss: 0.0032121711410582066\n",
      "valid loss: 0.005899069365113974\n",
      "valid loss: 0.0025735136587172747\n",
      "valid loss: 0.0024371228646486998\n",
      "valid loss: 0.0005085854791104794\n",
      "valid loss: 0.0031662308610975742\n",
      "valid loss: 0.005089442245662212\n"
     ]
    },
    {
     "name": "stderr",
     "output_type": "stream",
     "text": [
      "sampling loop time step: 100%|██████████| 1000/1000 [00:46<00:00, 21.56it/s]\n",
      "sampling loop time step: 100%|██████████| 1000/1000 [00:58<00:00, 17.23it/s]\n",
      "2it [01:44, 52.37s/it]\n"
     ]
    },
    {
     "name": "stdout",
     "output_type": "stream",
     "text": [
      "valid loss: 0.0039395615458488464\n",
      "valid loss: 0.0015179963083937764\n",
      "valid loss: 0.003895572619512677\n",
      "valid loss: 0.002931971102952957\n",
      "valid loss: 0.00608768779784441\n",
      "valid loss: 0.0035015337634831667\n",
      "valid loss: 0.0014949184842407703\n",
      "valid loss: 0.0068998816423118114\n",
      "valid loss: 0.003390989499166608\n",
      "valid loss: 0.004493252374231815\n",
      "valid loss: 0.0048981704749166965\n",
      "valid loss: 0.004002933856099844\n",
      "valid loss: 0.0060341632924973965\n",
      "valid loss: 0.0014501889236271381\n",
      "valid loss: 0.006225097458809614\n",
      "valid loss: 0.00555190397426486\n",
      "valid loss: 0.004327327013015747\n",
      "valid loss: 0.0047308653593063354\n",
      "valid loss: 0.004182137548923492\n",
      "valid loss: 0.005784225650131702\n"
     ]
    },
    {
     "name": "stderr",
     "output_type": "stream",
     "text": [
      "sampling loop time step: 100%|██████████| 1000/1000 [00:44<00:00, 22.61it/s]\n",
      "sampling loop time step: 100%|██████████| 1000/1000 [00:36<00:00, 27.25it/s]\n",
      "2it [01:21, 40.63s/it]\n"
     ]
    },
    {
     "name": "stdout",
     "output_type": "stream",
     "text": [
      "valid loss: 0.004623815882951021\n",
      "valid loss: 0.0035153422504663467\n",
      "valid loss: 0.0024604431819170713\n",
      "valid loss: 0.0031417959835380316\n",
      "valid loss: 0.005985450930893421\n",
      "valid loss: 0.004501238465309143\n",
      "valid loss: 0.0030778113286942244\n",
      "valid loss: 0.007094293367117643\n",
      "valid loss: 0.0021294362377375364\n",
      "valid loss: 0.0005231455434113741\n",
      "valid loss: 0.006222825031727552\n",
      "valid loss: 0.004105818923562765\n",
      "valid loss: 0.00668015331029892\n",
      "valid loss: 0.0025963839143514633\n",
      "valid loss: 0.006114404182881117\n",
      "valid loss: 0.005329497158527374\n",
      "valid loss: 0.0026194192469120026\n",
      "valid loss: 0.004684995394200087\n",
      "valid loss: 0.004086419474333525\n",
      "valid loss: 0.006188689265400171\n"
     ]
    },
    {
     "name": "stderr",
     "output_type": "stream",
     "text": [
      "sampling loop time step: 100%|██████████| 1000/1000 [00:39<00:00, 25.35it/s]\n",
      "sampling loop time step: 100%|██████████| 1000/1000 [00:21<00:00, 45.98it/s]\n",
      "2it [01:01, 30.74s/it]\n"
     ]
    },
    {
     "name": "stdout",
     "output_type": "stream",
     "text": [
      "valid loss: 0.005126536823809147\n",
      "valid loss: 0.0014877895591780543\n",
      "valid loss: 0.006613731384277344\n",
      "valid loss: 0.004208040423691273\n",
      "valid loss: 0.004291106015443802\n",
      "valid loss: 0.001846703584305942\n",
      "valid loss: 0.003237383905798197\n",
      "valid loss: 0.007741935085505247\n",
      "valid loss: 0.001815584721043706\n",
      "valid loss: 0.004401227924972773\n",
      "valid loss: 0.002748842118307948\n",
      "valid loss: 0.002360502490773797\n",
      "valid loss: 0.002740472089499235\n",
      "valid loss: 0.0023674340918660164\n",
      "valid loss: 0.0020708951633423567\n",
      "valid loss: 0.004155418835580349\n",
      "valid loss: 0.0013762747403234243\n",
      "valid loss: 0.004841743502765894\n",
      "valid loss: 0.00464323116466403\n",
      "valid loss: 0.006651164032518864\n"
     ]
    },
    {
     "name": "stderr",
     "output_type": "stream",
     "text": [
      "sampling loop time step: 100%|██████████| 1000/1000 [00:47<00:00, 21.21it/s]\n",
      "sampling loop time step: 100%|██████████| 1000/1000 [00:55<00:00, 17.96it/s]\n",
      "2it [01:43, 51.60s/it]\n"
     ]
    },
    {
     "name": "stdout",
     "output_type": "stream",
     "text": [
      "valid loss: 0.005185182671993971\n",
      "valid loss: 0.0036544636823236942\n",
      "valid loss: 0.003548354608938098\n",
      "valid loss: 0.003112650942057371\n",
      "valid loss: 0.0007180609973147511\n",
      "valid loss: 0.005213618744164705\n",
      "valid loss: 0.0029650952201336622\n",
      "valid loss: 0.0035551723558455706\n",
      "valid loss: 0.0022866190411150455\n",
      "valid loss: 0.00468285009264946\n",
      "valid loss: 0.008000102825462818\n",
      "valid loss: 0.0038351048715412617\n",
      "valid loss: 0.006572084967046976\n",
      "valid loss: 0.0039168414659798145\n",
      "valid loss: 0.0018758239457383752\n",
      "valid loss: 0.0077030896209180355\n",
      "valid loss: 0.004593988414853811\n",
      "valid loss: 0.005764232017099857\n",
      "valid loss: 0.0034685113932937384\n",
      "valid loss: 0.0049637313932180405\n"
     ]
    },
    {
     "name": "stderr",
     "output_type": "stream",
     "text": [
      "sampling loop time step: 100%|██████████| 1000/1000 [00:39<00:00, 25.44it/s]\n",
      "sampling loop time step: 100%|██████████| 1000/1000 [00:21<00:00, 45.98it/s]\n",
      "2it [01:01, 30.67s/it]\n"
     ]
    },
    {
     "name": "stdout",
     "output_type": "stream",
     "text": [
      "valid loss: 0.00559177715331316\n",
      "valid loss: 0.002160965697839856\n",
      "valid loss: 0.0011056417133659124\n",
      "valid loss: 0.0019593066535890102\n",
      "valid loss: 0.005418883170932531\n",
      "valid loss: 0.004801344126462936\n",
      "valid loss: 0.003359530819579959\n",
      "valid loss: 0.005661794450134039\n",
      "valid loss: 0.0034966066014021635\n",
      "valid loss: 0.005422365851700306\n",
      "valid loss: 0.0018119730520993471\n",
      "valid loss: 0.00336700608022511\n",
      "valid loss: 0.006469545420259237\n",
      "valid loss: 0.001968851312994957\n",
      "valid loss: 0.006315805949270725\n",
      "valid loss: 0.005382658448070288\n",
      "valid loss: 0.0015486417105421424\n",
      "valid loss: 0.004646384622901678\n",
      "valid loss: 0.0034958214964717627\n",
      "valid loss: 0.0009227019036188722\n"
     ]
    },
    {
     "name": "stderr",
     "output_type": "stream",
     "text": [
      "sampling loop time step: 100%|██████████| 1000/1000 [00:43<00:00, 22.93it/s]\n",
      "sampling loop time step: 100%|██████████| 1000/1000 [00:55<00:00, 17.96it/s]\n",
      "2it [01:39, 49.83s/it]\n"
     ]
    },
    {
     "name": "stdout",
     "output_type": "stream",
     "text": [
      "valid loss: 0.003916100133210421\n",
      "checkpoint saved to imagen_two_unets_24s.pt\n",
      "valid loss: 0.0030624547507613897\n",
      "valid loss: 0.005166242364794016\n",
      "valid loss: 0.002138791372999549\n",
      "valid loss: 0.002005841350182891\n",
      "valid loss: 0.00534830940887332\n",
      "valid loss: 0.0012337052030488849\n",
      "valid loss: 0.00553469080477953\n",
      "valid loss: 0.0005005246493965387\n",
      "valid loss: 0.003580833552405238\n",
      "valid loss: 0.006960179191082716\n",
      "valid loss: 0.004677025601267815\n",
      "valid loss: 0.0040125600062310696\n",
      "valid loss: 0.0025606786366552114\n",
      "valid loss: 0.005986526608467102\n",
      "valid loss: 0.002473150147125125\n",
      "valid loss: 0.004983245860785246\n",
      "valid loss: 0.0069996691308915615\n",
      "valid loss: 0.002770878840237856\n",
      "valid loss: 0.0031688131857663393\n"
     ]
    },
    {
     "name": "stderr",
     "output_type": "stream",
     "text": [
      "sampling loop time step: 100%|██████████| 1000/1000 [00:43<00:00, 23.03it/s]\n",
      "sampling loop time step: 100%|██████████| 1000/1000 [00:54<00:00, 18.25it/s]\n",
      "2it [01:38, 49.28s/it]\n"
     ]
    },
    {
     "name": "stdout",
     "output_type": "stream",
     "text": [
      "valid loss: 0.0015232049627229571\n",
      "valid loss: 0.0033161190804094076\n",
      "valid loss: 0.005525040905922651\n",
      "valid loss: 0.0038466304540634155\n",
      "valid loss: 0.005406834185123444\n",
      "valid loss: 0.005977492313832045\n",
      "valid loss: 0.005197030026465654\n",
      "valid loss: 0.005424914415925741\n",
      "valid loss: 0.005232818424701691\n",
      "valid loss: 0.00549591239541769\n",
      "valid loss: 0.0059615327045321465\n",
      "valid loss: 0.005148970987647772\n",
      "valid loss: 0.005312421824783087\n",
      "valid loss: 0.002404195023700595\n",
      "valid loss: 0.005957785528153181\n",
      "valid loss: 0.005199836101382971\n",
      "valid loss: 0.0052057490684092045\n",
      "valid loss: 0.004339281003922224\n",
      "valid loss: 0.0025423727929592133\n",
      "valid loss: 0.0039113834500312805\n"
     ]
    },
    {
     "name": "stderr",
     "output_type": "stream",
     "text": [
      "sampling loop time step: 100%|██████████| 1000/1000 [00:42<00:00, 23.76it/s]\n",
      "sampling loop time step: 100%|██████████| 1000/1000 [00:34<00:00, 29.16it/s]\n",
      "2it [01:16, 38.35s/it]\n"
     ]
    },
    {
     "name": "stdout",
     "output_type": "stream",
     "text": [
      "valid loss: 0.004214340355247259\n",
      "valid loss: 0.002108026295900345\n",
      "valid loss: 0.005017935298383236\n",
      "valid loss: 0.0009762695990502834\n",
      "valid loss: 0.004143595229834318\n",
      "valid loss: 0.005183200817555189\n",
      "valid loss: 0.003801708808168769\n",
      "valid loss: 0.0067737349309027195\n",
      "valid loss: 0.0037795871030539274\n",
      "valid loss: 0.006399351637810469\n",
      "valid loss: 0.00895147304981947\n",
      "valid loss: 0.004648824222385883\n",
      "valid loss: 0.004466867074370384\n",
      "valid loss: 0.00219306955114007\n",
      "valid loss: 0.003225481603294611\n",
      "valid loss: 0.005184446927160025\n",
      "valid loss: 0.0031601593364030123\n",
      "valid loss: 0.004165457561612129\n",
      "valid loss: 0.003274975810199976\n",
      "valid loss: 0.002989228582009673\n"
     ]
    },
    {
     "name": "stderr",
     "output_type": "stream",
     "text": [
      "sampling loop time step: 100%|██████████| 1000/1000 [00:39<00:00, 25.47it/s]\n",
      "sampling loop time step: 100%|██████████| 1000/1000 [00:21<00:00, 46.23it/s]\n",
      "2it [01:01, 30.58s/it]\n"
     ]
    },
    {
     "name": "stdout",
     "output_type": "stream",
     "text": [
      "valid loss: 0.0038347989320755005\n",
      "valid loss: 0.00261210510507226\n",
      "valid loss: 0.006872049067169428\n",
      "valid loss: 0.0027299467474222183\n",
      "valid loss: 0.005721533205360174\n",
      "valid loss: 0.0009665031102485955\n",
      "valid loss: 0.0030079928692430258\n",
      "valid loss: 0.007020928896963596\n",
      "valid loss: 0.002908328315243125\n",
      "valid loss: 0.004422730766236782\n",
      "valid loss: 0.0033705290406942368\n",
      "valid loss: 0.0024535779375582933\n",
      "valid loss: 0.0010434642899781466\n",
      "valid loss: 0.001399568049237132\n",
      "valid loss: 0.0033221819903701544\n",
      "valid loss: 0.005407582502812147\n",
      "valid loss: 0.002744572004303336\n",
      "valid loss: 0.005103703122586012\n",
      "valid loss: 0.004801258444786072\n",
      "valid loss: 0.005950806196779013\n"
     ]
    },
    {
     "name": "stderr",
     "output_type": "stream",
     "text": [
      "sampling loop time step: 100%|██████████| 1000/1000 [00:42<00:00, 23.48it/s]\n",
      "sampling loop time step: 100%|██████████| 1000/1000 [00:25<00:00, 39.35it/s]\n",
      "2it [01:08, 34.14s/it]\n"
     ]
    },
    {
     "name": "stdout",
     "output_type": "stream",
     "text": [
      "valid loss: 0.007359607610851526\n",
      "valid loss: 0.0023844509851187468\n",
      "valid loss: 0.007331239525228739\n",
      "valid loss: 0.0038222509901970625\n",
      "valid loss: 0.0014192991657182574\n",
      "valid loss: 0.004830773454159498\n",
      "valid loss: 0.0030905483290553093\n",
      "valid loss: 0.0047449818812310696\n",
      "valid loss: 0.0032431334257125854\n",
      "valid loss: 0.0054636383429169655\n",
      "valid loss: 0.0027229797560721636\n",
      "valid loss: 0.0027041290886700153\n",
      "valid loss: 0.004179891664534807\n",
      "valid loss: 0.003444598987698555\n",
      "valid loss: 0.003208450274541974\n",
      "valid loss: 0.008567163720726967\n",
      "valid loss: 0.004409666173160076\n",
      "valid loss: 0.00508972117677331\n",
      "valid loss: 0.0038580724503844976\n",
      "valid loss: 0.0023912619799375534\n"
     ]
    },
    {
     "name": "stderr",
     "output_type": "stream",
     "text": [
      "sampling loop time step: 100%|██████████| 1000/1000 [00:49<00:00, 20.02it/s]\n",
      "sampling loop time step: 100%|██████████| 1000/1000 [00:58<00:00, 17.03it/s]\n",
      "2it [01:49, 54.52s/it]\n"
     ]
    },
    {
     "name": "stdout",
     "output_type": "stream",
     "text": [
      "valid loss: 0.004868580959737301\n",
      "valid loss: 0.003150406526401639\n",
      "valid loss: 0.005562975537031889\n",
      "valid loss: 0.0028850752860307693\n",
      "valid loss: 0.006493324879556894\n",
      "valid loss: 0.0031260871328413486\n",
      "valid loss: 0.0024411724880337715\n",
      "valid loss: 0.005585147067904472\n",
      "valid loss: 0.0036741995718330145\n",
      "valid loss: 0.0033557601273059845\n",
      "valid loss: 0.004182868171483278\n",
      "valid loss: 0.002589719370007515\n",
      "valid loss: 0.0038162271957844496\n",
      "valid loss: 0.004413954447954893\n",
      "valid loss: 0.0015550791285932064\n",
      "valid loss: 0.004402444697916508\n",
      "valid loss: 0.003568880958482623\n",
      "valid loss: 0.0047827353700995445\n",
      "valid loss: 0.0031643547117710114\n",
      "valid loss: 0.0068437643349170685\n"
     ]
    },
    {
     "name": "stderr",
     "output_type": "stream",
     "text": [
      "sampling loop time step: 100%|██████████| 1000/1000 [00:47<00:00, 20.84it/s]\n",
      "sampling loop time step: 100%|██████████| 1000/1000 [00:57<00:00, 17.49it/s]\n",
      "2it [01:45, 52.77s/it]\n"
     ]
    },
    {
     "name": "stdout",
     "output_type": "stream",
     "text": [
      "valid loss: 0.0036150687374174595\n",
      "valid loss: 0.00247256294824183\n",
      "valid loss: 0.0031726278830319643\n",
      "valid loss: 0.004662779625505209\n",
      "valid loss: 0.005431335885077715\n",
      "valid loss: 0.002883083187043667\n",
      "valid loss: 0.005887578707188368\n",
      "valid loss: 0.005462634842842817\n",
      "valid loss: 0.003992323763668537\n",
      "valid loss: 0.0024086262565106153\n",
      "valid loss: 0.00680680712684989\n",
      "valid loss: 0.004649810958653688\n",
      "valid loss: 0.00379771227017045\n",
      "valid loss: 0.003518360434100032\n",
      "valid loss: 0.004389540757983923\n",
      "valid loss: 0.009523420594632626\n",
      "valid loss: 0.005309498403221369\n",
      "valid loss: 0.0022921247873455286\n",
      "valid loss: 0.002988866763189435\n",
      "valid loss: 0.0015699282521381974\n"
     ]
    },
    {
     "name": "stderr",
     "output_type": "stream",
     "text": [
      "sampling loop time step: 100%|██████████| 1000/1000 [00:42<00:00, 23.32it/s]\n",
      "sampling loop time step: 100%|██████████| 1000/1000 [00:55<00:00, 17.91it/s]\n",
      "2it [01:39, 49.53s/it]\n"
     ]
    },
    {
     "name": "stdout",
     "output_type": "stream",
     "text": [
      "valid loss: 0.004541098605841398\n",
      "valid loss: 0.00324218044988811\n",
      "valid loss: 0.0090280557051301\n",
      "valid loss: 0.003466333495453\n",
      "valid loss: 0.001246462925337255\n",
      "valid loss: 0.0058268229477107525\n",
      "valid loss: 0.0029201535508036613\n",
      "valid loss: 0.009277071803808212\n",
      "valid loss: 0.0029766373336315155\n",
      "valid loss: 0.006937147583812475\n",
      "valid loss: 0.0055310106836259365\n",
      "valid loss: 0.0005798727506771684\n",
      "valid loss: 0.006034713704138994\n",
      "valid loss: 0.0025420428719371557\n",
      "valid loss: 0.003705616807565093\n",
      "valid loss: 0.007231533527374268\n",
      "valid loss: 0.004849539604038\n",
      "valid loss: 0.006165151484310627\n",
      "valid loss: 0.004149119835346937\n",
      "valid loss: 0.004552208352833986\n"
     ]
    },
    {
     "name": "stderr",
     "output_type": "stream",
     "text": [
      "sampling loop time step: 100%|██████████| 1000/1000 [00:47<00:00, 21.17it/s]\n",
      "sampling loop time step: 100%|██████████| 1000/1000 [00:57<00:00, 17.25it/s]\n",
      "2it [01:45, 52.80s/it]\n"
     ]
    },
    {
     "name": "stdout",
     "output_type": "stream",
     "text": [
      "valid loss: 0.007711164653301239\n",
      "valid loss: 0.0024185285437852144\n",
      "valid loss: 0.0062272571958601475\n",
      "valid loss: 0.0033445977605879307\n",
      "valid loss: 0.006630872376263142\n",
      "valid loss: 0.0032668777275830507\n",
      "valid loss: 0.0025314311496913433\n",
      "valid loss: 0.004732212517410517\n",
      "valid loss: 0.0024213336873799562\n",
      "valid loss: 0.004594311583787203\n",
      "valid loss: 0.005933613982051611\n",
      "valid loss: 0.003870554268360138\n",
      "valid loss: 0.0010611256584525108\n",
      "valid loss: 0.005313759204000235\n",
      "valid loss: 0.004582223482429981\n",
      "valid loss: 0.006140898913145065\n",
      "valid loss: 0.0034505471121519804\n",
      "valid loss: 0.008838319219648838\n",
      "valid loss: 0.0027378275990486145\n",
      "valid loss: 0.005710138473659754\n"
     ]
    },
    {
     "name": "stderr",
     "output_type": "stream",
     "text": [
      "sampling loop time step: 100%|██████████| 1000/1000 [00:39<00:00, 25.38it/s]\n",
      "sampling loop time step: 100%|██████████| 1000/1000 [00:21<00:00, 45.88it/s]\n",
      "2it [01:01, 30.73s/it]\n"
     ]
    },
    {
     "name": "stdout",
     "output_type": "stream",
     "text": [
      "valid loss: 0.004121154081076384\n",
      "valid loss: 0.00385451246984303\n",
      "valid loss: 0.007585503160953522\n",
      "valid loss: 0.0013442630879580975\n",
      "valid loss: 0.005401874892413616\n",
      "valid loss: 0.006333497352898121\n",
      "valid loss: 0.004831982310861349\n",
      "valid loss: 0.005795322358608246\n",
      "valid loss: 0.0007206914015114307\n",
      "valid loss: 0.0032428603153675795\n",
      "valid loss: 0.006760449148714542\n",
      "valid loss: 0.0021705497056245804\n",
      "valid loss: 0.00877177994698286\n",
      "valid loss: 0.0022662957198917866\n",
      "valid loss: 0.006648240145295858\n",
      "valid loss: 0.004030054435133934\n",
      "valid loss: 0.002774482360109687\n",
      "valid loss: 0.006958741694688797\n",
      "valid loss: 0.005444319453090429\n",
      "valid loss: 0.003395674517378211\n"
     ]
    },
    {
     "name": "stderr",
     "output_type": "stream",
     "text": [
      "sampling loop time step: 100%|██████████| 1000/1000 [00:46<00:00, 21.38it/s]\n",
      "sampling loop time step: 100%|██████████| 1000/1000 [00:55<00:00, 18.00it/s]\n",
      "2it [01:42, 51.36s/it]\n"
     ]
    },
    {
     "name": "stdout",
     "output_type": "stream",
     "text": [
      "valid loss: 0.0016550703439861536\n",
      "checkpoint saved to imagen_two_unets_24s.pt\n",
      "checkpoint saved to imagen_two_unets_24s.pt\n",
      "Training in offset 1000\n",
      "Training Unet No. 1\n"
     ]
    },
    {
     "name": "stderr",
     "output_type": "stream",
     "text": [
      "2023-05-30 08:33:46.161086: I tensorflow/core/platform/cpu_feature_guard.cc:193] This TensorFlow binary is optimized with oneAPI Deep Neural Network Library (oneDNN) to use the following CPU instructions in performance-critical operations:  SSE4.1 SSE4.2 AVX AVX2 AVX_VNNI FMA\n",
      "To enable them in other operations, rebuild TensorFlow with the appropriate compiler flags.\n",
      "2023-05-30 08:33:46.425019: I tensorflow/core/util/port.cc:104] oneDNN custom operations are on. You may see slightly different numerical results due to floating-point round-off errors from different computation orders. To turn them off, set the environment variable `TF_ENABLE_ONEDNN_OPTS=0`.\n"
     ]
    },
    {
     "name": "stdout",
     "output_type": "stream",
     "text": [
      "The base dimension of your u-net should ideally be no smaller than 128, as recommended by a professional DDPM trainer https://nonint.com/2022/05/04/friends-dont-let-friends-train-small-diffusion-models/\n",
      "training with dataset of 975 samples and validating with randomly splitted 25 samples\n",
      "Using model file imagen_two_unets_24s.pt\n",
      "checkpoint loaded from imagen_two_unets_24s.pt\n",
      "valid loss: 0.010471968911588192\n"
     ]
    },
    {
     "name": "stderr",
     "output_type": "stream",
     "text": [
      "sampling loop time step: 100%|██████████| 1000/1000 [00:48<00:00, 20.55it/s]\n",
      "0it [00:48, ?it/s]\n"
     ]
    },
    {
     "name": "stdout",
     "output_type": "stream",
     "text": [
      "checkpoint saved to imagen_two_unets_24s.pt\n",
      "valid loss: 0.006199256516993046\n",
      "valid loss: 0.006095096468925476\n",
      "valid loss: 0.004763860255479813\n",
      "valid loss: 0.006835279520601034\n",
      "valid loss: 0.005154651589691639\n",
      "valid loss: 0.001745763118378818\n",
      "valid loss: 0.0044084773398935795\n",
      "valid loss: 0.005103723611682653\n",
      "valid loss: 0.005989218130707741\n",
      "valid loss: 0.0036816936917603016\n",
      "valid loss: 0.004329105373471975\n",
      "valid loss: 0.006637315731495619\n",
      "valid loss: 0.0036175809800624847\n",
      "valid loss: 0.004985537845641375\n",
      "valid loss: 0.0043326872400939465\n",
      "valid loss: 0.007295657880604267\n",
      "valid loss: 0.005644222721457481\n",
      "valid loss: 0.003383062779903412\n",
      "valid loss: 0.005389834754168987\n"
     ]
    },
    {
     "name": "stderr",
     "output_type": "stream",
     "text": [
      "sampling loop time step: 100%|██████████| 1000/1000 [00:46<00:00, 21.55it/s]\n",
      "0it [00:46, ?it/s]\n"
     ]
    },
    {
     "name": "stdout",
     "output_type": "stream",
     "text": [
      "valid loss: 0.0056870016269385815\n",
      "valid loss: 0.004545464646071196\n",
      "valid loss: 0.0035215148236602545\n",
      "valid loss: 0.0034058073069900274\n",
      "valid loss: 0.00489839119836688\n",
      "valid loss: 0.002407644409686327\n",
      "valid loss: 0.006558638997375965\n",
      "valid loss: 0.004659708123654127\n",
      "valid loss: 0.004489399027079344\n",
      "valid loss: 0.004440919496119022\n",
      "valid loss: 0.0036433287896215916\n",
      "valid loss: 0.005556862335652113\n",
      "valid loss: 0.004087925888597965\n",
      "valid loss: 0.006055975798517466\n",
      "valid loss: 0.006822511088103056\n",
      "valid loss: 0.00406733388081193\n",
      "valid loss: 0.00521097844466567\n",
      "valid loss: 0.004734568297863007\n",
      "valid loss: 0.005136516876518726\n",
      "valid loss: 0.00449681282043457\n"
     ]
    },
    {
     "name": "stderr",
     "output_type": "stream",
     "text": [
      "sampling loop time step: 100%|██████████| 1000/1000 [00:41<00:00, 23.96it/s]\n",
      "0it [00:41, ?it/s]\n"
     ]
    },
    {
     "name": "stdout",
     "output_type": "stream",
     "text": [
      "valid loss: 0.004916672594845295\n",
      "valid loss: 0.006318572908639908\n",
      "valid loss: 0.00434469198808074\n",
      "valid loss: 0.005156307481229305\n",
      "valid loss: 0.005977009888738394\n",
      "valid loss: 0.0038804044015705585\n",
      "valid loss: 0.002264640061184764\n",
      "valid loss: 0.0060170660726726055\n",
      "valid loss: 0.0049474043771624565\n",
      "valid loss: 0.00432914262637496\n",
      "valid loss: 0.0040854658000171185\n",
      "valid loss: 0.0043473136611282825\n",
      "valid loss: 0.004780780058354139\n",
      "valid loss: 0.002956921234726906\n",
      "valid loss: 0.0057991123758256435\n",
      "valid loss: 0.004433971829712391\n",
      "valid loss: 0.0032779783941805363\n",
      "valid loss: 0.004372601397335529\n",
      "valid loss: 0.003117440501227975\n",
      "valid loss: 0.0056999861262738705\n"
     ]
    },
    {
     "name": "stderr",
     "output_type": "stream",
     "text": [
      "sampling loop time step: 100%|██████████| 1000/1000 [00:39<00:00, 25.18it/s]\n",
      "0it [00:39, ?it/s]\n"
     ]
    },
    {
     "name": "stdout",
     "output_type": "stream",
     "text": [
      "valid loss: 0.0031548799015581608\n",
      "valid loss: 0.005183619912713766\n",
      "valid loss: 0.0042245229706168175\n",
      "valid loss: 0.003399524837732315\n",
      "valid loss: 0.00605311943218112\n",
      "valid loss: 0.0037686761934310198\n",
      "valid loss: 0.004825298674404621\n",
      "valid loss: 0.0028298532124608755\n",
      "valid loss: 0.005226462613791227\n",
      "valid loss: 0.004703423473984003\n",
      "valid loss: 0.003619154216721654\n",
      "valid loss: 0.005793110001832247\n",
      "valid loss: 0.004630263429135084\n",
      "valid loss: 0.003897585440427065\n",
      "valid loss: 0.003761290106922388\n",
      "valid loss: 0.0028043054044246674\n",
      "valid loss: 0.004532660823315382\n",
      "valid loss: 0.0045305523090064526\n",
      "valid loss: 0.003314267611131072\n",
      "valid loss: 0.0053151510655879974\n"
     ]
    },
    {
     "name": "stderr",
     "output_type": "stream",
     "text": [
      "sampling loop time step: 100%|██████████| 1000/1000 [00:44<00:00, 22.61it/s]\n",
      "0it [00:44, ?it/s]\n"
     ]
    },
    {
     "name": "stdout",
     "output_type": "stream",
     "text": [
      "valid loss: 0.0038182649295777082\n",
      "valid loss: 0.003944966942071915\n",
      "valid loss: 0.003927981946617365\n",
      "valid loss: 0.00429284293204546\n",
      "valid loss: 0.004578799940645695\n",
      "valid loss: 0.0043336316011846066\n",
      "valid loss: 0.0041207498870790005\n",
      "valid loss: 0.005733320023864508\n",
      "valid loss: 0.004846693482249975\n",
      "valid loss: 0.004717023577541113\n",
      "valid loss: 0.005153352860361338\n",
      "valid loss: 0.005198321770876646\n",
      "valid loss: 0.00527937151491642\n",
      "valid loss: 0.003775978460907936\n",
      "valid loss: 0.003874327288940549\n",
      "valid loss: 0.00486471364274621\n",
      "valid loss: 0.00431307777762413\n",
      "valid loss: 0.006751250009983778\n",
      "valid loss: 0.003929825033992529\n",
      "valid loss: 0.003980349283665419\n"
     ]
    },
    {
     "name": "stderr",
     "output_type": "stream",
     "text": [
      "sampling loop time step: 100%|██████████| 1000/1000 [00:39<00:00, 25.39it/s]\n",
      "0it [00:39, ?it/s]\n"
     ]
    },
    {
     "name": "stdout",
     "output_type": "stream",
     "text": [
      "valid loss: 0.005575645714998245\n",
      "valid loss: 0.0058981250040233135\n",
      "valid loss: 0.006061468739062548\n",
      "valid loss: 0.003490180941298604\n",
      "valid loss: 0.004488335456699133\n",
      "valid loss: 0.0050958688370883465\n",
      "valid loss: 0.005141222383826971\n",
      "valid loss: 0.0034288361202925444\n",
      "valid loss: 0.005036417860537767\n",
      "valid loss: 0.0028450924437493086\n",
      "valid loss: 0.0029202566947788\n",
      "valid loss: 0.0051407963037490845\n",
      "valid loss: 0.005577086005359888\n",
      "valid loss: 0.003133501159027219\n",
      "valid loss: 0.00673299003392458\n",
      "valid loss: 0.004863228183239698\n",
      "valid loss: 0.0037565671373158693\n",
      "valid loss: 0.005431467667222023\n",
      "valid loss: 0.0033028298057615757\n",
      "valid loss: 0.005316379014402628\n"
     ]
    },
    {
     "name": "stderr",
     "output_type": "stream",
     "text": [
      "sampling loop time step: 100%|██████████| 1000/1000 [00:39<00:00, 25.11it/s]\n",
      "0it [00:39, ?it/s]\n"
     ]
    },
    {
     "name": "stdout",
     "output_type": "stream",
     "text": [
      "valid loss: 0.0029951126780360937\n",
      "valid loss: 0.0044032796286046505\n",
      "valid loss: 0.0035991535987704992\n",
      "valid loss: 0.0031399105209857225\n",
      "valid loss: 0.002632175339385867\n",
      "valid loss: 0.003924978896975517\n",
      "valid loss: 0.006749325897544622\n",
      "valid loss: 0.0029421267099678516\n",
      "valid loss: 0.003143544076010585\n",
      "valid loss: 0.0027985458727926016\n",
      "valid loss: 0.004610040690749884\n",
      "valid loss: 0.0047305431216955185\n",
      "valid loss: 0.00443777022883296\n",
      "valid loss: 0.0024474661331623793\n",
      "valid loss: 0.0030717928893864155\n",
      "valid loss: 0.003143091918900609\n",
      "valid loss: 0.0039881812408566475\n",
      "valid loss: 0.0019507108954712749\n",
      "valid loss: 0.00314798834733665\n",
      "valid loss: 0.006973410490900278\n"
     ]
    },
    {
     "name": "stderr",
     "output_type": "stream",
     "text": [
      "0it [00:00, ?it/s]"
     ]
    },
    {
     "ename": "KeyboardInterrupt",
     "evalue": "",
     "output_type": "error",
     "traceback": [
      "\u001b[0;31m---------------------------------------------------------------------------\u001b[0m",
      "\u001b[0;31mKeyboardInterrupt\u001b[0m                         Traceback (most recent call last)",
      "Cell \u001b[0;32mIn[6], line 115\u001b[0m\n\u001b[1;32m    113\u001b[0m proc \u001b[39m=\u001b[39m multiprocessing\u001b[39m.\u001b[39mProcess(target\u001b[39m=\u001b[39mtrain_imagen_batch\u001b[39m.\u001b[39mtrain_batch_unet1, args\u001b[39m=\u001b[39m(\u001b[39minput\u001b[39m,output,model_filename,sub_epochs,batch_size,sample_every,save_model_every,image_size,))\n\u001b[1;32m    114\u001b[0m proc\u001b[39m.\u001b[39mstart()\n\u001b[0;32m--> 115\u001b[0m proc\u001b[39m.\u001b[39;49mjoin()\n\u001b[1;32m    117\u001b[0m proc \u001b[39m=\u001b[39m multiprocessing\u001b[39m.\u001b[39mProcess(target\u001b[39m=\u001b[39mtrain_imagen_batch\u001b[39m.\u001b[39mtrain_batch_unet2, args\u001b[39m=\u001b[39m(\u001b[39minput\u001b[39m,output,model_filename,sub_epochs,batch_size,sample_every,save_model_every,image_size,))\n\u001b[1;32m    118\u001b[0m proc\u001b[39m.\u001b[39mstart()\n",
      "File \u001b[0;32m~/anaconda3/envs/ds2f_m_i/lib/python3.8/multiprocessing/process.py:149\u001b[0m, in \u001b[0;36mBaseProcess.join\u001b[0;34m(self, timeout)\u001b[0m\n\u001b[1;32m    147\u001b[0m \u001b[39massert\u001b[39;00m \u001b[39mself\u001b[39m\u001b[39m.\u001b[39m_parent_pid \u001b[39m==\u001b[39m os\u001b[39m.\u001b[39mgetpid(), \u001b[39m'\u001b[39m\u001b[39mcan only join a child process\u001b[39m\u001b[39m'\u001b[39m\n\u001b[1;32m    148\u001b[0m \u001b[39massert\u001b[39;00m \u001b[39mself\u001b[39m\u001b[39m.\u001b[39m_popen \u001b[39mis\u001b[39;00m \u001b[39mnot\u001b[39;00m \u001b[39mNone\u001b[39;00m, \u001b[39m'\u001b[39m\u001b[39mcan only join a started process\u001b[39m\u001b[39m'\u001b[39m\n\u001b[0;32m--> 149\u001b[0m res \u001b[39m=\u001b[39m \u001b[39mself\u001b[39;49m\u001b[39m.\u001b[39;49m_popen\u001b[39m.\u001b[39;49mwait(timeout)\n\u001b[1;32m    150\u001b[0m \u001b[39mif\u001b[39;00m res \u001b[39mis\u001b[39;00m \u001b[39mnot\u001b[39;00m \u001b[39mNone\u001b[39;00m:\n\u001b[1;32m    151\u001b[0m     _children\u001b[39m.\u001b[39mdiscard(\u001b[39mself\u001b[39m)\n",
      "File \u001b[0;32m~/anaconda3/envs/ds2f_m_i/lib/python3.8/multiprocessing/popen_fork.py:47\u001b[0m, in \u001b[0;36mPopen.wait\u001b[0;34m(self, timeout)\u001b[0m\n\u001b[1;32m     45\u001b[0m             \u001b[39mreturn\u001b[39;00m \u001b[39mNone\u001b[39;00m\n\u001b[1;32m     46\u001b[0m     \u001b[39m# This shouldn't block if wait() returned successfully.\u001b[39;00m\n\u001b[0;32m---> 47\u001b[0m     \u001b[39mreturn\u001b[39;00m \u001b[39mself\u001b[39;49m\u001b[39m.\u001b[39;49mpoll(os\u001b[39m.\u001b[39;49mWNOHANG \u001b[39mif\u001b[39;49;00m timeout \u001b[39m==\u001b[39;49m \u001b[39m0.0\u001b[39;49m \u001b[39melse\u001b[39;49;00m \u001b[39m0\u001b[39;49m)\n\u001b[1;32m     48\u001b[0m \u001b[39mreturn\u001b[39;00m \u001b[39mself\u001b[39m\u001b[39m.\u001b[39mreturncode\n",
      "File \u001b[0;32m~/anaconda3/envs/ds2f_m_i/lib/python3.8/multiprocessing/popen_fork.py:27\u001b[0m, in \u001b[0;36mPopen.poll\u001b[0;34m(self, flag)\u001b[0m\n\u001b[1;32m     25\u001b[0m \u001b[39mif\u001b[39;00m \u001b[39mself\u001b[39m\u001b[39m.\u001b[39mreturncode \u001b[39mis\u001b[39;00m \u001b[39mNone\u001b[39;00m:\n\u001b[1;32m     26\u001b[0m     \u001b[39mtry\u001b[39;00m:\n\u001b[0;32m---> 27\u001b[0m         pid, sts \u001b[39m=\u001b[39m os\u001b[39m.\u001b[39;49mwaitpid(\u001b[39mself\u001b[39;49m\u001b[39m.\u001b[39;49mpid, flag)\n\u001b[1;32m     28\u001b[0m     \u001b[39mexcept\u001b[39;00m \u001b[39mOSError\u001b[39;00m \u001b[39mas\u001b[39;00m e:\n\u001b[1;32m     29\u001b[0m         \u001b[39m# Child process not yet created. See #1731717\u001b[39;00m\n\u001b[1;32m     30\u001b[0m         \u001b[39m# e.errno == errno.ECHILD == 10\u001b[39;00m\n\u001b[1;32m     31\u001b[0m         \u001b[39mreturn\u001b[39;00m \u001b[39mNone\u001b[39;00m\n",
      "\u001b[0;31mKeyboardInterrupt\u001b[0m: "
     ]
    },
    {
     "name": "stderr",
     "output_type": "stream",
     "text": [
      "\n"
     ]
    },
    {
     "name": "stderr",
     "output_type": "stream",
     "text": [
      "sampling loop time step:  35%|███▌      | 351/1000 [00:14<00:26, 24.40it/s]\u001b[A"
     ]
    }
   ],
   "source": [
    "import multiprocessing\n",
    "import train_imagen_batch\n",
    "\n",
    "\n",
    "\n",
    "range_of_epochs = range(1,epochs + 1)\n",
    "\n",
    "if(continue_from_epoch_and_offset_flag != 0):\n",
    "    \n",
    "    range_of_epochs = range(continue_from_epoch, epochs + 1)\n",
    "\n",
    "offset_zero_flag = 0\n",
    "\n",
    "for epoch in range_of_epochs:\n",
    "\n",
    "    print(\"Training in epoch \" + str(epoch))\n",
    "\n",
    "    offset = 0\n",
    "\n",
    "    if(continue_from_epoch_and_offset_flag != 0 and offset_zero_flag == 0):\n",
    "        offset = continue_from_offset\n",
    "        offset_zero_flag = 1\n",
    "\n",
    "    while(True):\n",
    "\n",
    "        print(\"Training in offset \" + str(offset))\n",
    "\n",
    "        data = con.execute(\"SELECT V.ID, V.VIDEO_PATH, V.AGE, \" + \n",
    "                            \"V.ETHNICITY CAPTION_E, \" +\n",
    "                            \"lower(V.GENDER) CAPTION_G, \" +\n",
    "                            \"A.SPEAKER_EMB, \"+ \"A.WAV_TO_VEC, \" +\n",
    "                            \"A.LANG CAPTION_L, \"+\n",
    "                            \"F.FACE_PATH \"+\n",
    "                            \"FROM VIDEO V \"+\n",
    "                            \"INNER JOIN AUDIO A ON V.ID = A.VIDEO_ID INNER JOIN FACE F ON V.ID = F.VIDEO_ID WHERE AUDIO_PRE = 2 AND FACES_PRE = 1 AND AUDIO_LENGTH = \" + audio_length_used + ' ' +\n",
    "                            \"LIMIT \"+ str(db_chunk) +\" OFFSET \" + str(offset))\n",
    "        dataGotten = data.fetchall()\n",
    "\n",
    "        if(len(dataGotten) == 0):\n",
    "            break\n",
    "\n",
    "\n",
    "        df = pd.DataFrame(dataGotten,columns = ['ID','VIDEO_PATH','AGE','caption_e','caption_g','SPEAKER_EMB','AUDIO_EMB','caption_l','image_path'])\n",
    "\n",
    "        df3 = df[[\"image_path\",\"caption_e\",\"caption_g\",\"caption_l\"]]\n",
    "\n",
    "        data_frame = df3\n",
    "        data_frame['SPEAKER_EMB'] = df['SPEAKER_EMB']\n",
    "        data_frame['AUDIO_EMB'] = df['AUDIO_EMB']\n",
    "\n",
    "\n",
    "        for index, row in data_frame.iterrows():\n",
    "            x = speaker_emb_preprocess(data_frame.loc[index,\"SPEAKER_EMB\"])\n",
    "            x = [x]\n",
    "            data_frame.loc[index,\"SPEAKER_EMB\"] = x\n",
    "\n",
    "        #CHECK\n",
    "        for index, row in data_frame.iterrows():\n",
    "            x = audio_emb_preprocess2(data_frame.loc[index,\"AUDIO_EMB\"])\n",
    "            x = [x]\n",
    "            #AADFS = AADFS\n",
    "            data_frame.loc[index,\"AUDIO_EMB\"] = x\n",
    "\n",
    "        for index, row in data_frame.iterrows():\n",
    "            x = process_gender(data_frame.loc[index,\"caption_g\"])\n",
    "            x = [x]\n",
    "            #AADFS = AADFS\n",
    "            data_frame.loc[index,\"caption_g\"] = x\n",
    "\n",
    "        for index, row in data_frame.iterrows():\n",
    "            x = process_language(data_frame.loc[index,\"caption_l\"])\n",
    "            x = [x]\n",
    "            #AADFS = AADFS\n",
    "            data_frame.loc[index,\"caption_l\"] = x\n",
    "            \n",
    "        for index, row in data_frame.iterrows():\n",
    "            x = process_ethnicity(data_frame.loc[index,\"caption_e\"])\n",
    "            x = [x]\n",
    "            #AADFS = AADFS\n",
    "            data_frame.loc[index,\"caption_e\"] = x\n",
    "\n",
    "        data_frame['INPUT'] = data_frame['SPEAKER_EMB']\n",
    "\n",
    "        for index, row in data_frame.iterrows():\n",
    "            x = process_input(data_frame.loc[index,\"caption_e\"],data_frame.loc[index,\"caption_g\"],\n",
    "                            data_frame.loc[index,\"caption_l\"],data_frame.loc[index,\"SPEAKER_EMB\"],\n",
    "                            data_frame.loc[index,\"AUDIO_EMB\"])\n",
    "            x = [x]\n",
    "            #AADFS = AADFS\n",
    "            data_frame.loc[index,\"INPUT\"] = x\n",
    "\n",
    "        data_frame = data_frame.drop(['caption_e', 'caption_g','caption_l','SPEAKER_EMB','AUDIO_EMB'], axis=1)\n",
    "\n",
    "        for index, row in data_frame.iterrows():\n",
    "            x = process_image_path(data_frame.loc[index,\"image_path\"])\n",
    "            x = [x]\n",
    "            #AADFS = AADFS\n",
    "            data_frame.loc[index,\"image_path\"] = x\n",
    "\n",
    "        input = data_frame['INPUT'].to_numpy()\n",
    "        input = np.array([np.array(xi) for xi in input])\n",
    "\n",
    "\n",
    "\n",
    "\n",
    "        output = data_frame['image_path'].to_numpy()\n",
    "        output = np.array([np.array(xi) for xi in output])\n",
    "        output.squeeze().shape\n",
    "\n",
    "\n",
    "\n",
    "\n",
    "        proc = multiprocessing.Process(target=train_imagen_batch.train_batch_unet1, args=(input,output,model_filename,sub_epochs,batch_size,sample_every,save_model_every,image_size,))\n",
    "        proc.start()\n",
    "        proc.join()\n",
    "\n",
    "        proc = multiprocessing.Process(target=train_imagen_batch.train_batch_unet2, args=(input,output,model_filename,sub_epochs,batch_size,sample_every,save_model_every,image_size,))\n",
    "        proc.start()\n",
    "        proc.join()\n",
    "        offset = offset + db_chunk"
   ]
  },
  {
   "cell_type": "code",
   "execution_count": null,
   "metadata": {},
   "outputs": [],
   "source": [
    "con.close()"
   ]
  }
 ],
 "metadata": {
  "kernelspec": {
   "display_name": "ds2f_m_i",
   "language": "python",
   "name": "python3"
  },
  "language_info": {
   "codemirror_mode": {
    "name": "ipython",
    "version": 3
   },
   "file_extension": ".py",
   "mimetype": "text/x-python",
   "name": "python",
   "nbconvert_exporter": "python",
   "pygments_lexer": "ipython3",
   "version": "3.8.16"
  },
  "orig_nbformat": 4,
  "vscode": {
   "interpreter": {
    "hash": "78dccc615e96ab04385280185a87a524fe0822daf5dbad2f4bf2e7d7b28366a7"
   }
  }
 },
 "nbformat": 4,
 "nbformat_minor": 2
}

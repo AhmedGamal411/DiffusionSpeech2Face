{
 "cells": [
  {
   "cell_type": "code",
   "execution_count": 1,
   "metadata": {},
   "outputs": [
    {
     "name": "stderr",
     "output_type": "stream",
     "text": [
      "2024-03-08 17:12:14.402038: I tensorflow/core/platform/cpu_feature_guard.cc:193] This TensorFlow binary is optimized with oneAPI Deep Neural Network Library (oneDNN) to use the following CPU instructions in performance-critical operations:  SSE4.1 SSE4.2 AVX AVX2 FMA\n",
      "To enable them in other operations, rebuild TensorFlow with the appropriate compiler flags.\n"
     ]
    },
    {
     "name": "stdout",
     "output_type": "stream",
     "text": [
      "PLEASE EDIT configuration.txt BEFORE EXECUTION\n",
      ".wav files might be generated in path. The program will automatically delete them. If execuetion stops unexpectedly, please delete them yourself\n",
      "Video dataset at /home/gamal/Datasets/Dataset1/Video\n",
      "Number of cpus to use for multiprocessing :  8\n",
      "------------------- ABOUT TO START --------------------\n"
     ]
    }
   ],
   "source": [
    "import os\n",
    "import configparser\n",
    "\n",
    "# Loading configurations\n",
    "configParser = configparser.RawConfigParser()   \n",
    "configFilePath = r'configuration.txt'\n",
    "configParser.read(configFilePath)\n",
    "\n",
    "insert_amd_env_vars =  int(configParser.get('COMMON', 'insert_amd_env_vars'))\n",
    "HSA_OVERRIDE_GFX_VERSION =  configParser.get('COMMON', 'HSA_OVERRIDE_GFX_VERSION')\n",
    "ROCM_PATH =  configParser.get('COMMON', 'ROCM_PATH')\n",
    "\n",
    "if(insert_amd_env_vars != 0):\n",
    "    os.environ[\"HSA_OVERRIDE_GFX_VERSION\"] = HSA_OVERRIDE_GFX_VERSION\n",
    "    os.environ[\"ROCM_PATH\"] = ROCM_PATH\n",
    "\n",
    "\n",
    "import subprocess\n",
    "import os\n",
    "import pathlib\n",
    "import configparser\n",
    "import sqlite3 as sl\n",
    "import cv2\n",
    "from pydub import AudioSegment\n",
    "import math\n",
    "import pickle\n",
    "import shutil\n",
    "import time\n",
    "import multiprocessing\n",
    "from multiprocessing import Process,Queue\n",
    "import itertools\n",
    "from threading import Thread\n",
    "import soundfile as sf\n",
    "from deepface import DeepFace\n",
    "import tensorflow as tf\n",
    "gpus = tf.config.experimental.list_physical_devices('GPU')\n",
    "for gpu in gpus:\n",
    "  tf.config.experimental.set_memory_growth(gpu, True)\n",
    "\n",
    "\n",
    "start_time = time.time()    # To measure execution time in seconds\n",
    "\n",
    "\n",
    "print(\"PLEASE EDIT configuration.txt BEFORE EXECUTION\")\n",
    "print(\".wav files might be generated in path. The program will automatically delete them. If execuetion stops unexpectedly, please delete them yourself\")\n",
    "\n",
    "\n",
    "\n",
    "datasetPathVideo =  configParser.get('COMMON', 'datasetPathVideo')\n",
    "datasetPathAudio =  configParser.get('extractAudio', 'datasetPathAudio')\n",
    "p =  configParser.get('extractAudio', 'dbChunk')\n",
    "ttwbdf =  int(configParser.get('extractAudio', 'time_to_wait_before_deleting_files'))\n",
    "cuda =  int(configParser.get('COMMON', 'cuda'))\n",
    "cpus =  int(configParser.get('COMMON', 'cpus'))\n",
    "datasetPathDatabase =  configParser.get('COMMON', 'datasetPathDatabase') + '/dataset.db'\n",
    "model_weights_path =  configParser.get('finetune_wav2vec2', 'model_weights_path')\n",
    "\n",
    "# TODO dataset.db in configuration too\n",
    "\n",
    "print(\"Video dataset at \" + datasetPathVideo )\n",
    "print(\"Number of cpus to use for multiprocessing : \", cpus)\n",
    "\n",
    "\n",
    "con = sl.connect(datasetPathDatabase,check_same_thread=False)  # Connection to databases\n",
    "\n",
    "print('------------------- ABOUT TO START --------------------')\n",
    "\n",
    "REQUIRED_SAMPLE_RATE = 16000\n",
    "FACE_EMBEDDING_SIZE = 2622\n",
    "AUDIO_MAX_LEN = 246000\n",
    "NO_OF_VIDEOS = int(configParser.get('finetune_wav2vec2', 'no_of_videos')) \n",
    "BATCH_SIZE = int(configParser.get('finetune_wav2vec2', 'batch_size'))\n",
    "save_freq = int(configParser.get('finetune_wav2vec2', 'save_freq'))\n",
    "no_of_epochs = int(configParser.get('finetune_wav2vec2', 'no_of_epochs'))\n",
    "\n",
    "\n",
    "def read_audio_file(file_path):\n",
    "  with open(file_path, \"rb\") as f:\n",
    "      audio_wave, sample_rate = sf.read(f)\n",
    "  if sample_rate != REQUIRED_SAMPLE_RATE:\n",
    "      raise ValueError(\n",
    "          f\"sample rate (={sample_rate}) of your files must be {REQUIRED_SAMPLE_RATE}\"\n",
    "      )\n",
    "  return audio_wave\n",
    "\n",
    " \n",
    "def extractAudio(row):\n",
    "    absPathVideo = row[0][1]   # for this one video\n",
    "\n",
    "    absPathAudio = y = absPathVideo.replace(datasetPathVideo,datasetPathAudio)  # for this one audio\n",
    "    absPathAudio = os.path.splitext(absPathAudio)[0]\n",
    "    absPathAudio_w = absPathAudio   # without the end\n",
    "    absPathAudio = absPathAudio + \"_audio.wav\"  # full path to extracted audio from the video\n",
    "\n",
    "    #Create Directory\n",
    "    pathlib.Path(os.path.dirname(absPathAudio)).mkdir(parents=True, exist_ok=True) \n",
    "\n",
    "    # Extract audio monochannel and with 16khz and put it in absPathAudio\n",
    "    command = \"ffmpeg -nostats -loglevel 0 -y -i '\" + absPathVideo + \"' -acodec pcm_s16le -ab 160k -ac 1 -ar 16000 -vn '\" + absPathAudio + \"'\"\n",
    "    subprocess.call(command, shell=True)\n",
    "\n",
    "\n",
    "    # Get original duration of video\n",
    "    audio = AudioSegment.from_file(absPathVideo)\n",
    "    audio_length_og = math.floor(audio.duration_seconds)\n",
    "    #print(audio_length_og)\n",
    "    \n",
    "\n",
    "\n",
    "    # Will either truncate or loop the original video to reach audio_length (3,6,12 or 24)\n",
    "    audio_length_list = [6,12,24]\n",
    "    for audio_length in audio_length_list:\n",
    "        path_var_len_audio =  absPathAudio_w + \"audio\" + str(audio_length) + \"s.wav\"    # path to the variable length audio\n",
    "        path_var_len_audio_temp =  absPathAudio_w + \"audio_temp\" + str(audio_length) + \"s.wav\"  # path to a temp version of the variable length audio\n",
    "\n",
    "        if(audio_length_og > audio_length):\n",
    "            # Truncate    \n",
    "\n",
    "            command = \"ffmpeg -nostats -loglevel 0 -y -ss 0 -t \"+str(audio_length)+\" -i \\\"\" + absPathAudio + \"\\\" \\\"\" + path_var_len_audio + \"\\\"\"\n",
    "            subprocess.call(command, shell=True)\n",
    "\n",
    "\n",
    "        else:\n",
    "            # Loop then truncaate\n",
    "            #print(\"lesa\")\n",
    "            twoDigitLenStr = f\"{audio_length:02}\"\n",
    "            #print(twoDigitLenStr)\n",
    "            command = \"ffmpeg -nostats -loglevel 0 -y -stream_loop -1 -i '\" + absPathAudio + \"' -t \\\"00:00:\"+twoDigitLenStr+\".000\\\" -codec:a \\\"aac\\\" -f \\\"wav\\\" -c copy '\"+ path_var_len_audio_temp + \"'\"\n",
    "            subprocess.call(command, shell=True)\n",
    "            command = \"ffmpeg -nostats -loglevel 0 -y -ss 0 -t \"+str(audio_length)+\" -i \\\"\" + path_var_len_audio_temp + \"\\\" \\\"\" + path_var_len_audio + \"\\\"\"\n",
    "            subprocess.call(command, shell=True)\n",
    "\n",
    "\n",
    "\n",
    "            # Will delete those files after a little bit\n",
    "        ftd = [absPathAudio,path_var_len_audio,os.path.basename(path_var_len_audio),path_var_len_audio_temp]\n",
    "        audio_wave = read_audio_file(path_var_len_audio)\n",
    "        \n",
    "        tDelete = Thread(target=delFiles, args=(ftd,))   # spawn a process\n",
    "        tDelete.start()\n",
    "    return audio_wave\n",
    "        \n",
    "           \n",
    "\n",
    "\n",
    "\n",
    "\n",
    "            \n",
    "# Function to delete audio temp files\n",
    "def delFiles(filesToDelete):\n",
    "    time.sleep(ttwbdf)  # wait a bit\n",
    "    for file in filesToDelete:  \n",
    "        try:\n",
    "            os.remove(file)\n",
    "        except OSError:\n",
    "            pass\n",
    "        \n",
    "\n",
    "\n",
    "\n",
    "def get_video(offset):\n",
    "\n",
    "    try:\n",
    "            \n",
    "        #print('offset:' + str(offset))\n",
    "\n",
    "        data = con.execute(\"\"\"SELECT V.ID, V.VIDEO_PATH, F.FACE_PATH FROM VIDEO V \n",
    "                        INNER JOIN FACE F ON F.ID = V.ID\n",
    "                        LIMIT 1 OFFSET \"\"\" + str(offset))\n",
    "\n",
    "\n",
    "        \n",
    "        #print(data.fetchall())\n",
    "        dataGotten = data.fetchall()\n",
    "        if (len(dataGotten)) == 0:\n",
    "            data = con.execute(\"\"\"SELECT V.ID, V.VIDEO_PATH, F.FACE_PATH FROM VIDEO V \n",
    "                        INNER JOIN FACE F ON F.ID = V.ID ORDER BY RANDOM()\n",
    "                        LIMIT 1 \"\"\")\n",
    "            dataGotten = data.fetchall()\n",
    "        #print(dataGotten[0][0])\n",
    "        audio_wave = extractAudio(dataGotten)\n",
    "        \n",
    "        embedding_objs = DeepFace.represent(dataGotten[0][2],enforce_detection=False)\n",
    "        return tf.constant(audio_wave[:246000], dtype=tf.float64),tf.constant(embedding_objs[0]['embedding'], dtype=tf.float64)\n",
    "    except:\n",
    "        get_video(offset)\n",
    "\n",
    "\n",
    "    \n",
    "\n",
    "\n",
    "\n",
    "\n",
    "\n",
    "\n"
   ]
  },
  {
   "cell_type": "code",
   "execution_count": 2,
   "metadata": {},
   "outputs": [],
   "source": [
    "def data_generator(n):\n",
    "\n",
    "    # initialize counter\n",
    "    value = 0\n",
    "\n",
    "    import numpy as np\n",
    "    result_array = np.arange(1, NO_OF_VIDEOS - 1)\n",
    "    np.random.shuffle(result_array)\n",
    "\n",
    "    # loop until counter is less than n\n",
    "    while value < n:\n",
    "\n",
    "        # produce the current value of the counter\n",
    "        yield get_video(result_array[value])\n",
    "\n",
    "        # increment the counter\n",
    "        value += 1\n",
    "\n"
   ]
  },
  {
   "cell_type": "code",
   "execution_count": 3,
   "metadata": {},
   "outputs": [
    {
     "name": "stdout",
     "output_type": "stream",
     "text": [
      "TF version: 2.10.0\n"
     ]
    }
   ],
   "source": [
    "import os\n",
    "\n",
    "import tensorflow as tf\n",
    "import tensorflow_hub as hub\n",
    "from wav2vec2 import Wav2Vec2Config\n",
    "\n",
    "config = Wav2Vec2Config()\n",
    "\n",
    "print(\"TF version:\", tf.__version__)\n"
   ]
  },
  {
   "cell_type": "code",
   "execution_count": 4,
   "metadata": {},
   "outputs": [],
   "source": [
    "pretrained_layer = hub.KerasLayer(\"https://tfhub.dev/vasudevgupta7/wav2vec2/1\", trainable=True)\n"
   ]
  },
  {
   "cell_type": "code",
   "execution_count": 5,
   "metadata": {},
   "outputs": [],
   "source": [
    "inputs = tf.keras.Input(shape=(AUDIO_MAX_LEN,))\n",
    "hidden_states = pretrained_layer(inputs)\n",
    "pooled_output = tf.keras.layers.AveragePooling1D(pool_size=50)(hidden_states)\n",
    "flatten_output = tf.keras.layers.Flatten()(pooled_output)\n",
    "outputs = tf.keras.layers.Dense(FACE_EMBEDDING_SIZE,activation='linear')(flatten_output)\n"
   ]
  },
  {
   "cell_type": "code",
   "execution_count": 6,
   "metadata": {},
   "outputs": [
    {
     "name": "stdout",
     "output_type": "stream",
     "text": [
      "Model: \"model\"\n",
      "_________________________________________________________________\n",
      " Layer (type)                Output Shape              Param #   \n",
      "=================================================================\n",
      " input_1 (InputLayer)        [(None, 246000)]          0         \n",
      "                                                                 \n",
      " keras_layer (KerasLayer)    (None, 768, 768)          94371712  \n",
      "                                                                 \n",
      " average_pooling1d (AverageP  (None, 15, 768)          0         \n",
      " ooling1D)                                                       \n",
      "                                                                 \n",
      " flatten (Flatten)           (None, 11520)             0         \n",
      "                                                                 \n",
      " dense (Dense)               (None, 2622)              30208062  \n",
      "                                                                 \n",
      "=================================================================\n",
      "Total params: 124,579,774\n",
      "Trainable params: 124,579,774\n",
      "Non-trainable params: 0\n",
      "_________________________________________________________________\n"
     ]
    }
   ],
   "source": [
    "\n",
    "model = tf.keras.Model(inputs=inputs, outputs=outputs)\n",
    "model(tf.random.uniform(shape=(BATCH_SIZE, AUDIO_MAX_LEN)))\n",
    "model.summary()\n"
   ]
  },
  {
   "cell_type": "code",
   "execution_count": 7,
   "metadata": {},
   "outputs": [],
   "source": [
    "from wav2vec2 import CTCLoss\n",
    "\n",
    "LEARNING_RATE = 5e-5\n",
    "\n",
    "\n",
    "#loss_fn = CTCLoss(config, (BATCH_SIZE, AUDIO_MAX_LEN), division_factor=BATCH_SIZE)\n",
    "loss_fn = tf.keras.losses.MeanAbsoluteError()\n",
    "optimizer = tf.keras.optimizers.Adam(LEARNING_RATE)\n"
   ]
  },
  {
   "cell_type": "code",
   "execution_count": 8,
   "metadata": {},
   "outputs": [],
   "source": [
    "output_signature = (\n",
    "    tf.TensorSpec(shape=(None),  dtype=tf.float64),\n",
    "    tf.TensorSpec(shape=(None), dtype=tf.float64),\n",
    ")\n",
    "\n",
    "dataset = tf.data.Dataset.from_generator(data_generator, args=[NO_OF_VIDEOS], \n",
    "                                         output_signature=output_signature)\n",
    "\n",
    "\n"
   ]
  },
  {
   "cell_type": "code",
   "execution_count": 9,
   "metadata": {},
   "outputs": [],
   "source": [
    "dataset = dataset.batch(BATCH_SIZE)\n",
    "dataset = dataset.prefetch(tf.data.AUTOTUNE)\n",
    "\n"
   ]
  },
  {
   "cell_type": "code",
   "execution_count": 10,
   "metadata": {},
   "outputs": [],
   "source": [
    "num_train_batches = int(NO_OF_VIDEOS / BATCH_SIZE)\n",
    "train_dataset = dataset.take(num_train_batches)\n"
   ]
  },
  {
   "cell_type": "code",
   "execution_count": 11,
   "metadata": {},
   "outputs": [
    {
     "name": "stdout",
     "output_type": "stream",
     "text": [
      "Loaded weights\n"
     ]
    }
   ],
   "source": [
    "try:\n",
    "    model.load_weights(model_weights_path)\n",
    "    print('Loaded weights')\n",
    "except:\n",
    "    print('Could not load weights, using random ones.')"
   ]
  },
  {
   "cell_type": "code",
   "execution_count": null,
   "metadata": {},
   "outputs": [],
   "source": [
    "\n"
   ]
  },
  {
   "cell_type": "code",
   "execution_count": null,
   "metadata": {},
   "outputs": [],
   "source": [
    "model.compile(optimizer, loss=loss_fn)\n"
   ]
  },
  {
   "cell_type": "code",
   "execution_count": null,
   "metadata": {},
   "outputs": [],
   "source": [
    "model_checkpoint_callback = tf.keras.callbacks.ModelCheckpoint(\n",
    "    filepath= model_weights_path,\n",
    "    save_weights_only=True,\n",
    "    save_freq = save_freq,\n",
    "\n",
    "    )\n"
   ]
  },
  {
   "cell_type": "code",
   "execution_count": null,
   "metadata": {},
   "outputs": [],
   "source": [
    "history = model.fit(train_dataset, epochs=no_of_epochs,callbacks=[model_checkpoint_callback])\n",
    "history.history"
   ]
  }
 ],
 "metadata": {
  "kernelspec": {
   "display_name": "ds2f_m_i",
   "language": "python",
   "name": "python3"
  },
  "language_info": {
   "codemirror_mode": {
    "name": "ipython",
    "version": 3
   },
   "file_extension": ".py",
   "mimetype": "text/x-python",
   "name": "python",
   "nbconvert_exporter": "python",
   "pygments_lexer": "ipython3",
   "version": "3.8.16"
  }
 },
 "nbformat": 4,
 "nbformat_minor": 2
}
